{
 "cells": [
  {
   "cell_type": "code",
   "execution_count": 11,
   "metadata": {},
   "outputs": [
    {
     "name": "stdout",
     "output_type": "stream",
     "text": [
      "The autoreload extension is already loaded. To reload it, use:\n",
      "  %reload_ext autoreload\n"
     ]
    }
   ],
   "source": [
    "%load_ext autoreload\n",
    "%autoreload 2\n",
    "#%matplotlib qt\n",
    "%matplotlib widget"
   ]
  },
  {
   "cell_type": "code",
   "execution_count": 12,
   "metadata": {},
   "outputs": [],
   "source": [
    "import os\n",
    "import sys\n",
    "from pathlib import Path\n",
    "sys.path.insert(1, str(Path(os.getcwd()).parent / \"src\"))"
   ]
  },
  {
   "cell_type": "code",
   "execution_count": 13,
   "metadata": {},
   "outputs": [],
   "source": [
    "from data_loader import DataLoader\n",
    "from utils import *\n",
    "from mcs_function import *\n",
    "from plotting import *\n",
    "import config\n",
    "import pickle\n",
    "import pmcx\n",
    "import matplotlib.pyplot as plt\n",
    "from mbll_functions import *\n",
    "import pandas as pd\n",
    "import scipy\n",
    "import pickle\n",
    "from tqdm.notebook import tqdm"
   ]
  },
  {
   "cell_type": "code",
   "execution_count": 14,
   "metadata": {},
   "outputs": [
    {
     "name": "stdout",
     "output_type": "stream",
     "text": [
      "=============================   GPU Information  ================================\n",
      "Device 1 of 8:\t\tQuadro RTX 8000\n",
      "Compute Capability:\t7.5\n",
      "Global Memory:\t\t50953846784 B\n",
      "Constant Memory:\t65536 B\n",
      "Shared Memory:\t\t49152 B\n",
      "Registers:\t\t65536\n",
      "Clock Speed:\t\t1.77 GHz\n",
      "Number of SMs:\t\t72\n",
      "Number of Cores:\t4608\n",
      "Auto-thread:\t\t147456\n",
      "Auto-block:\t\t64\n",
      "=============================   GPU Information  ================================\n",
      "Device 2 of 8:\t\tQuadro RTX 8000\n",
      "Compute Capability:\t7.5\n",
      "Global Memory:\t\t50953846784 B\n",
      "Constant Memory:\t65536 B\n",
      "Shared Memory:\t\t49152 B\n",
      "Registers:\t\t65536\n",
      "Clock Speed:\t\t1.77 GHz\n",
      "Number of SMs:\t\t72\n",
      "Number of Cores:\t4608\n",
      "Auto-thread:\t\t147456\n",
      "Auto-block:\t\t64\n",
      "=============================   GPU Information  ================================\n",
      "Device 3 of 8:\t\tQuadro RTX 8000\n",
      "Compute Capability:\t7.5\n",
      "Global Memory:\t\t50953846784 B\n",
      "Constant Memory:\t65536 B\n",
      "Shared Memory:\t\t49152 B\n",
      "Registers:\t\t65536\n",
      "Clock Speed:\t\t1.77 GHz\n",
      "Number of SMs:\t\t72\n",
      "Number of Cores:\t4608\n",
      "Auto-thread:\t\t147456\n",
      "Auto-blo"
     ]
    },
    {
     "data": {
      "text/plain": [
       "[{'name': 'Quadro RTX 8000',\n",
       "  'id': 1,\n",
       "  'devcount': 8,\n",
       "  'major': 7,\n",
       "  'minor': 5,\n",
       "  'globalmem': 50953846784,\n",
       "  'constmem': 65536,\n",
       "  'sharedmem': 49152,\n",
       "  'regcount': 65536,\n",
       "  'clock': 1770000,\n",
       "  'sm': 72,\n",
       "  'core': 4608,\n",
       "  'autoblock': 64,\n",
       "  'autothread': 147456,\n",
       "  'maxgate': 0},\n",
       " {'name': 'Quadro RTX 8000',\n",
       "  'id': 2,\n",
       "  'devcount': 8,\n",
       "  'major': 7,\n",
       "  'minor': 5,\n",
       "  'globalmem': 50953846784,\n",
       "  'constmem': 65536,\n",
       "  'sharedmem': 49152,\n",
       "  'regcount': 65536,\n",
       "  'clock': 1770000,\n",
       "  'sm': 72,\n",
       "  'core': 4608,\n",
       "  'autoblock': 64,\n",
       "  'autothread': 147456,\n",
       "  'maxgate': 0},\n",
       " {'name': 'Quadro RTX 8000',\n",
       "  'id': 3,\n",
       "  'devcount': 8,\n",
       "  'major': 7,\n",
       "  'minor': 5,\n",
       "  'globalmem': 50953846784,\n",
       "  'constmem': 65536,\n",
       "  'sharedmem': 49152,\n",
       "  'regcount': 65536,\n",
       "  'clock': 1770000,\n",
       "  'sm': 72,\n",
       "  'core': 4608,\n",
       "  'autoblock': 64,\n",
       "  'autothread': 147456,\n",
       "  'maxgate': 0},\n",
       " {'name': 'Quadro RTX 8000',\n",
       "  'id': 4,\n",
       "  'devcount': 8,\n",
       "  'major': 7,\n",
       "  'minor': 5,\n",
       "  'globalmem': 50953846784,\n",
       "  'constmem': 65536,\n",
       "  'sharedmem': 49152,\n",
       "  'regcount': 65536,\n",
       "  'clock': 1770000,\n",
       "  'sm': 72,\n",
       "  'core': 4608,\n",
       "  'autoblock': 64,\n",
       "  'autothread': 147456,\n",
       "  'maxgate': 0},\n",
       " {'name': 'Quadro RTX 8000',\n",
       "  'id': 5,\n",
       "  'devcount': 8,\n",
       "  'major': 7,\n",
       "  'minor': 5,\n",
       "  'globalmem': 50953846784,\n",
       "  'constmem': 65536,\n",
       "  'sharedmem': 49152,\n",
       "  'regcount': 65536,\n",
       "  'clock': 1770000,\n",
       "  'sm': 72,\n",
       "  'core': 4608,\n",
       "  'autoblock': 64,\n",
       "  'autothread': 147456,\n",
       "  'maxgate': 0},\n",
       " {'name': 'Quadro RTX 6000',\n",
       "  'id': 6,\n",
       "  'devcount': 8,\n",
       "  'major': 7,\n",
       "  'minor': 5,\n",
       "  'globalmem': 25388515328,\n",
       "  'constmem': 65536,\n",
       "  'sharedmem': 49152,\n",
       "  'regcount': 65536,\n",
       "  'clock': 1770000,\n",
       "  'sm': 72,\n",
       "  'core': 4608,\n",
       "  'autoblock': 64,\n",
       "  'autothread': 147456,\n",
       "  'maxgate': 0},\n",
       " {'name': 'Quadro RTX 8000',\n",
       "  'id': 7,\n",
       "  'devcount': 8,\n",
       "  'major': 7,\n",
       "  'minor': 5,\n",
       "  'globalmem': 50953846784,\n",
       "  'constmem': 65536,\n",
       "  'sharedmem': 49152,\n",
       "  'regcount': 65536,\n",
       "  'clock': 1770000,\n",
       "  'sm': 72,\n",
       "  'core': 4608,\n",
       "  'autoblock': 64,\n",
       "  'autothread': 147456,\n",
       "  'maxgate': 0},\n",
       " {'name': 'Quadro P5000',\n",
       "  'id': 8,\n",
       "  'devcount': 8,\n",
       "  'major': 6,\n",
       "  'minor': 1,\n",
       "  'globalmem': 17063280640,\n",
       "  'constmem': 65536,\n",
       "  'sharedmem': 49152,\n",
       "  'regcount': 65536,\n",
       "  'clock': 1733500,\n",
       "  'sm': 20,\n",
       "  'core': 2560,\n",
       "  'autoblock': 64,\n",
       "  'autothread': 40960,\n",
       "  'maxgate': 0}]"
      ]
     },
     "execution_count": 14,
     "metadata": {},
     "output_type": "execute_result"
    },
    {
     "name": "stdout",
     "output_type": "stream",
     "text": [
      "ck:\t\t64\n",
      "=============================   GPU Information  ================================\n",
      "Device 4 of 8:\t\tQuadro RTX 8000\n",
      "Compute Capability:\t7.5\n",
      "Global Memory:\t\t50953846784 B\n",
      "Constant Memory:\t65536 B\n",
      "Shared Memory:\t\t49152 B\n",
      "Registers:\t\t65536\n",
      "Clock Speed:\t\t1.77 GHz\n",
      "Number of SMs:\t\t72\n",
      "Number of Cores:\t4608\n",
      "Auto-thread:\t\t147456\n",
      "Auto-block:\t\t64\n",
      "=============================   GPU Information  ================================\n",
      "Device 5 of 8:\t\tQuadro RTX 8000\n",
      "Compute Capability:\t7.5\n",
      "Global Memory:\t\t50953846784 B\n",
      "Constant Memory:\t65536 B\n",
      "Shared Memory:\t\t49152 B\n",
      "Registers:\t\t65536\n",
      "Clock Speed:\t\t1.77 GHz\n",
      "Number of SMs:\t\t72\n",
      "Number of Cores:\t4608\n",
      "Auto-thread:\t\t147456\n",
      "Auto-block:\t\t64\n",
      "=============================   GPU Information  ================================\n",
      "Device 6 of 8:\t\tQuadro RTX 6000\n",
      "Compute Capability:\t7.5\n",
      "Global Memory:\t\t25388515328 B\n",
      "Constant Memory:\t65536 B\n",
      "Shared Memory:\t\t49152 B\n",
      "Registers:\t\t65536\n",
      "Clock Speed:\t\t1.77 GHz\n",
      "Number of SMs:\t\t72\n",
      "Number of Cores:\t4608\n",
      "Auto-thread:\t\t147456\n",
      "Auto-block:\t\t64\n",
      "=============================   GPU Information  ================================\n",
      "Device 7 of 8:\t\tQuadro RTX 8000\n",
      "Compute Capability:\t7.5\n",
      "Global Memory:\t\t50953846784 B\n",
      "Constant Memory:\t65536 B\n",
      "Shared Memory:\t\t49152 B\n",
      "Registers:\t\t65536\n",
      "Clock Speed:\t\t1.77 GHz\n",
      "Number of SMs:\t\t72\n",
      "Number of Cores:\t4608\n",
      "Auto-thread:\t\t147456\n",
      "Auto-block:\t\t64\n",
      "=============================   GPU Information  ================================\n",
      "Device 8 of 8:\t\tQuadro P5000\n",
      "Compute Capability:\t6.1\n",
      "Global Memory:\t\t17063280640 B\n",
      "Constant Memory:\t65536 B\n",
      "Shared Memory:\t\t49152 B\n",
      "Registers:\t\t65536\n",
      "Clock Speed:\t\t1.73 GHz\n",
      "Number of SMs:\t\t20\n",
      "Number of Cores:\t2560\n",
      "Auto-thread:\t\t40960\n",
      "Auto-block:\t\t64\n",
      "=============================   GPU Information  ================================\n",
      "Device 1 of 8:\t\tQuadro RTX 8000\n",
      "Compute Capability:\t7.5\n",
      "Global Memory:\t\t50953846784 B\n",
      "Constant Memory:\t65536 B\n",
      "Shared Memory:\t\t49152 B\n",
      "Registers:\t\t65536\n",
      "Clock Speed:\t\t1.77 GHz\n",
      "Number of SMs:\t\t72\n",
      "Number of Cores:\t4608\n",
      "Auto-thread:\t\t147456\n",
      "Auto-block:\t\t64\n",
      "=============================   GPU Information  ================================\n",
      "Device 2 of 8:\t\tQuadro RTX 8000\n",
      "Compute Capability:\t7.5\n",
      "Global Memory:\t\t50953846784 B\n",
      "Constant Memory:\t65536 B\n",
      "Shared Memory:\t\t49152 B\n",
      "Registers:\t\t65536\n",
      "Clock Speed:\t\t1.77 GHz\n",
      "Number of SMs:\t\t72\n",
      "Number of Cores:\t4608\n",
      "Auto-thread:\t\t147456\n",
      "Auto-block:\t\t64\n",
      "=============================   GPU Information  ================================\n",
      "Device 3 of 8:\t\tQuadro RTX 8000\n",
      "Compute Capability:\t7.5\n",
      "Global Memory:\t\t50953846784 B\n",
      "Constant Memory:\t65536 B\n",
      "Shared Memory:\t\t49152 B\n",
      "Registers:\t\t65536\n",
      "Clock Speed:\t\t1.77 GHz\n",
      "Number of SMs:\t\t72\n",
      "Number of Cores:\t4608\n",
      "Auto-thread:\t\t147456\n",
      "Auto-block:\t\t64\n",
      "=============================   GPU Information  ================================\n",
      "Device 4 of 8:\t\tQuadro RTX 8000\n",
      "Compute Capability:\t7.5\n",
      "Global Memory:\t\t50953846784 B\n",
      "Constant Memory:\t65536 B\n",
      "Shared Memory:\t\t49152 B\n",
      "Registers:\t\t65536\n",
      "Clock Speed:\t\t1.77 GHz\n",
      "Number of SMs:\t\t72\n",
      "Number of Cores:\t4608\n",
      "Auto-thread:\t\t147456\n",
      "Auto-block:\t\t64\n",
      "=============================   GPU Information  ==================="
     ]
    }
   ],
   "source": [
    "pmcx.gpuinfo()"
   ]
  },
  {
   "cell_type": "code",
   "execution_count": 15,
   "metadata": {},
   "outputs": [
    {
     "data": {
      "text/plain": [
       "4"
      ]
     },
     "execution_count": 15,
     "metadata": {},
     "output_type": "execute_result"
    }
   ],
   "source": [
    "config.gpuid"
   ]
  },
  {
   "cell_type": "code",
   "execution_count": 16,
   "metadata": {},
   "outputs": [
    {
     "data": {
      "text/plain": [
       "PosixPath('/home/leon_ivan/data/dataset/simulated')"
      ]
     },
     "execution_count": 16,
     "metadata": {},
     "output_type": "execute_result"
    }
   ],
   "source": [
    "config.simulated_dataset_dir"
   ]
  },
  {
   "cell_type": "markdown",
   "metadata": {},
   "source": [
    "Determine tumor parameters via linear least squares from attenuation data."
   ]
  },
  {
   "cell_type": "code",
   "execution_count": 17,
   "metadata": {},
   "outputs": [],
   "source": [
    "#tumor_df = pd.read_excel(\n",
    "#    config.spectra_dir / \"tumor_optical_properties.xlsx\",\n",
    "#    sheet_name=\"HGG_fresh\", # high-grade glioma, fresh\n",
    "#)\n",
    "tumor_df = pd.read_excel(\n",
    "    config.spectra_dir / \"tumor_optical_properties.xlsx\",\n",
    "    sheet_name=\"HGG_comparison\"\n",
    ")\n",
    "tumor_df_wavelength_condition = (tumor_df[\"Wavelength\"] >= 400) & (tumor_df[\"Wavelength\"] <= 1000) \n",
    "tumor_absorption_spectrum = tumor_df.loc[tumor_df_wavelength_condition, \"mua_Gebhart_frozen_freshly_excised_snapfrozen\"].to_numpy() * 10\n",
    "tumor_scattering_spectrum = tumor_df.loc[tumor_df_wavelength_condition, \"mus_fitted_present_fresh_30mins\"].to_numpy() * 10\n",
    "wavelengths_tumor = tumor_df.loc[tumor_df_wavelength_condition, \"Wavelength\"].to_numpy()"
   ]
  },
  {
   "cell_type": "code",
   "execution_count": 18,
   "metadata": {},
   "outputs": [],
   "source": [
    "mu_a_tumor = DataLoader.absorption_coefs(\n",
    "    wavelengths_tumor,\n",
    "    use_diff_oxycco=False,\n",
    "    use_water_and_fat=True\n",
    ")"
   ]
  },
  {
   "cell_type": "code",
   "execution_count": 19,
   "metadata": {},
   "outputs": [
    {
     "name": "stdout",
     "output_type": "stream",
     "text": [
      "[2.63917345e-02 4.97132978e-28 5.07849077e-02 2.20338712e-27\n",
      " 1.00000000e+00 1.50039964e-25]\n",
      "[0.0646 0.0114 0.0064 0.0016 0.73   0.1   ]\n"
     ]
    }
   ],
   "source": [
    "res = scipy.optimize.lsq_linear(\n",
    "    mu_a_tumor,\n",
    "    tumor_absorption_spectrum,\n",
    "    bounds=(\n",
    "        [0, 0, 0, 0, 0, 0],\n",
    "        [1, 1, 0.1, 0.1, 1, 1]\n",
    "    )\n",
    ")\n",
    "tumor_base_concentrations = res.x\n",
    "print(tumor_base_concentrations)\n",
    "print(DataLoader.tissue_parameters[\"gray matter\"][0])"
   ]
  },
  {
   "cell_type": "markdown",
   "metadata": {},
   "source": [
    "The oxCCO value seems much to high. There might be another chromophore that I am not accounting for. I will instead simply use tissue concentrations as for white matter. White matter tissue was reported to have very similar absorption spectra to brain tumor."
   ]
  },
  {
   "cell_type": "code",
   "execution_count": 22,
   "metadata": {},
   "outputs": [
    {
     "ename": "ValueError",
     "evalue": "shape mismatch: objects cannot be broadcast to a single shape.  Mismatch is between arg 0 with shape (10,) and arg 1 with shape (6,).",
     "output_type": "error",
     "traceback": [
      "\u001b[31m---------------------------------------------------------------------------\u001b[39m",
      "\u001b[31mValueError\u001b[39m                                Traceback (most recent call last)",
      "\u001b[36mCell\u001b[39m\u001b[36m \u001b[39m\u001b[32mIn[22]\u001b[39m\u001b[32m, line 6\u001b[39m\n\u001b[32m      4\u001b[39m base_concentrations_blood_fraction = concentrations_to_blood_fraction(DataLoader.tissue_parameters[tissue_type][\u001b[32m0\u001b[39m])\n\u001b[32m      5\u001b[39m base_scattering_params = DataLoader.tissue_parameters[tissue_type][\u001b[32m1\u001b[39m]\n\u001b[32m----> \u001b[39m\u001b[32m6\u001b[39m sampled_concentrations_blood_fraction = \u001b[43mnp\u001b[49m\u001b[43m.\u001b[49m\u001b[43mrandom\u001b[49m\u001b[43m.\u001b[49m\u001b[43mnormal\u001b[49m\u001b[43m(\u001b[49m\n\u001b[32m      7\u001b[39m \u001b[43m    \u001b[49m\u001b[43mloc\u001b[49m\u001b[43m=\u001b[49m\u001b[43mbase_concentrations_blood_fraction\u001b[49m\u001b[43m,\u001b[49m\n\u001b[32m      8\u001b[39m \u001b[43m    \u001b[49m\u001b[43mscale\u001b[49m\u001b[43m=\u001b[49m\u001b[43m[\u001b[49m\u001b[32;43m0.02\u001b[39;49m\u001b[43m,\u001b[49m\u001b[43m \u001b[49m\u001b[32;43m0.02\u001b[39;49m\u001b[43m,\u001b[49m\u001b[43m \u001b[49m\u001b[32;43m0.001\u001b[39;49m\u001b[43m,\u001b[49m\u001b[43m \u001b[49m\u001b[32;43m0.001\u001b[39;49m\u001b[43m,\u001b[49m\u001b[43m \u001b[49m\u001b[32;43m0.05\u001b[39;49m\u001b[43m,\u001b[49m\u001b[43m \u001b[49m\u001b[32;43m0.05\u001b[39;49m\u001b[43m]\u001b[49m\u001b[43m,\u001b[49m\n\u001b[32m      9\u001b[39m \u001b[43m    \u001b[49m\u001b[43msize\u001b[49m\u001b[43m=\u001b[49m\u001b[43m(\u001b[49m\u001b[32;43m10\u001b[39;49m\u001b[43m,\u001b[49m\u001b[43m)\u001b[49m\n\u001b[32m     10\u001b[39m \u001b[43m\u001b[49m\u001b[43m)\u001b[49m\n\u001b[32m     11\u001b[39m sampled_scattering_params = np.random.normal(\n\u001b[32m     12\u001b[39m     loc=base_scattering_params,\n\u001b[32m     13\u001b[39m     scale=[\u001b[32m5\u001b[39m, \u001b[32m0.15\u001b[39m],\n\u001b[32m     14\u001b[39m     size=(\u001b[32m10\u001b[39m,)\n\u001b[32m     15\u001b[39m )\n\u001b[32m     16\u001b[39m \u001b[38;5;66;03m# clip values and transpose\u001b[39;00m\n",
      "\u001b[36mFile \u001b[39m\u001b[32mnumpy/random/mtrand.pyx:1557\u001b[39m, in \u001b[36mnumpy.random.mtrand.RandomState.normal\u001b[39m\u001b[34m()\u001b[39m\n",
      "\u001b[36mFile \u001b[39m\u001b[32m_common.pyx:600\u001b[39m, in \u001b[36mnumpy.random._common.cont\u001b[39m\u001b[34m()\u001b[39m\n",
      "\u001b[36mFile \u001b[39m\u001b[32m_common.pyx:517\u001b[39m, in \u001b[36mnumpy.random._common.cont_broadcast_2\u001b[39m\u001b[34m()\u001b[39m\n",
      "\u001b[36mFile \u001b[39m\u001b[32m__init__.cython-30.pxd:780\u001b[39m, in \u001b[36mnumpy.PyArray_MultiIterNew3\u001b[39m\u001b[34m()\u001b[39m\n",
      "\u001b[31mValueError\u001b[39m: shape mismatch: objects cannot be broadcast to a single shape.  Mismatch is between arg 0 with shape (10,) and arg 1 with shape (6,)."
     ]
    }
   ],
   "source": [
    "# simulated tissue concentrations\n",
    "simulation_data = dict()\n",
    "for tissue_type in (set(DataLoader.tissue_parameters.keys()) - {\"artery\", \"vein\"}):\n",
    "    base_concentrations_blood_fraction = concentrations_to_blood_fraction(DataLoader.tissue_parameters[tissue_type][0])\n",
    "    base_scattering_params = DataLoader.tissue_parameters[tissue_type][1]\n",
<<<<<<< Updated upstream
    "    sampled_concentrations_blood_fraction = np.random.multivariate_normal(\n",
    "        mean=base_concentrations_blood_fraction,\n",
    "        cov=np.diag([0.000225, 0.000225, 1e-6, 1e-6, 0.000225, 0.000225]),\n",
=======
    "    sampled_concentrations_blood_fraction = np.random.normal(\n",
    "        loc=base_concentrations_blood_fraction,\n",
    "        scale=[0.02, 0.02, 0.001, 0.001, 0.05, 0.05],\n",
>>>>>>> Stashed changes
    "        size=(10,)\n",
    "    )\n",
    "    sampled_scattering_params = np.random.normal(\n",
    "        loc=base_scattering_params,\n",
    "        scale=[5, 0.15],\n",
    "        size=(10,)\n",
    "    )\n",
<<<<<<< Updated upstream
    "    # clip values\n",
    "    sampled_concentrations_blood_fraction = np.clip(sampled_concentrations_blood_fraction, a_min=[[0, 0, 0, 0, 0, 0]], a_max=[[1, 1, np.inf, np.inf, 1, 1]])\n",
    "    sampled_concentrations = blood_fraction_to_concentrations(sampled_concentrations.T)\n",
=======
    "    # clip values and transpose\n",
    "    sampled_concentrations_blood_fraction = np.clip(sampled_concentrations_blood_fraction, a_min=[[0, 0, 0, 0, 0, 0]], a_max=[[1, 1, np.inf, np.inf, 1, 1]])\n",
    "    sampled_concentrations = blood_fraction_to_concentrations(sampled_concentrations_blood_fraction.T)\n",
>>>>>>> Stashed changes
    "    sampled_scattering_params = np.clip(sampled_scattering_params, a_min=[[0, 0]], a_max=[[200, 10]]).T\n",
    "    # prepend baseline concentrations to data\n",
    "    sampled_concentrations = np.column_stack((DataLoader.tissue_parameters[tissue_type][0], sampled_concentrations))\n",
    "    sampled_scattering_params = np.column_stack((base_scattering_params, sampled_scattering_params))\n",
    "    simulation_data[tissue_type] = (sampled_concentrations, sampled_scattering_params)"
   ]
  },
  {
   "cell_type": "code",
   "execution_count": 31,
   "metadata": {},
   "outputs": [
    {
     "data": {
      "text/plain": [
       "array([[0.0323    , 0.05911903, 0.06266241, 0.0281546 , 0.        ,\n",
       "        0.        , 0.08693384, 0.07176656, 0.04766334, 0.05616078,\n",
       "        0.        ],\n",
       "       [0.0057    , 0.00702664, 0.01114929, 0.00444173, 0.        ,\n",
       "        0.        , 0.01941631, 0.01563276, 0.00827974, 0.01120885,\n",
       "        0.        ],\n",
       "       [0.0032    , 0.00323098, 0.0026715 , 0.00355585, 0.00221243,\n",
       "        0.00310351, 0.00211679, 0.00240962, 0.00342949, 0.00259525,\n",
       "        0.00415218],\n",
       "       [0.0008    , 0.00085844, 0.0017877 , 0.00118251, 0.00085582,\n",
       "        0.00083367, 0.        , 0.        , 0.0023696 , 0.00067675,\n",
       "        0.00135226],\n",
       "       [0.365     , 0.3344758 , 0.30843612, 0.3334187 , 0.36581415,\n",
       "        0.37793183, 0.3021814 , 0.27143063, 0.30117463, 0.3768592 ,\n",
       "        0.38511493],\n",
       "       [0.05      , 0.07937003, 0.05999915, 0.10217878, 0.02693009,\n",
       "        0.1236443 , 0.10574394, 0.        , 0.04337741, 0.04509846,\n",
       "        0.        ]])"
      ]
     },
     "execution_count": 31,
     "metadata": {},
     "output_type": "execute_result"
    }
   ],
   "source": [
    "simulation_data[\"tumor\"][0]"
   ]
  },
  {
   "cell_type": "code",
   "execution_count": 12,
   "metadata": {},
   "outputs": [
    {
     "ename": "AssertionError",
     "evalue": "",
     "output_type": "error",
     "traceback": [
      "\u001b[31m---------------------------------------------------------------------------\u001b[39m",
      "\u001b[31mAssertionError\u001b[39m                            Traceback (most recent call last)",
      "\u001b[36mCell\u001b[39m\u001b[36m \u001b[39m\u001b[32mIn[12]\u001b[39m\u001b[32m, line 1\u001b[39m\n\u001b[32m----> \u001b[39m\u001b[32m1\u001b[39m \u001b[38;5;28;01massert\u001b[39;00m \u001b[38;5;129;01mnot\u001b[39;00m \u001b[38;5;28many\u001b[39m([np.any(np.isclose(simulation_data_value[\u001b[32m0\u001b[39m][:\u001b[32m2\u001b[39m, :], \u001b[32m0\u001b[39m)) \u001b[38;5;28;01mfor\u001b[39;00m simulation_data_value \u001b[38;5;129;01min\u001b[39;00m simulation_data.values()])\n",
      "\u001b[31mAssertionError\u001b[39m: "
     ]
    }
   ],
   "source": [
    "assert not any([np.any(np.isclose(simulation_data_value[0][:2, :], 0)) for simulation_data_value in simulation_data.values()])"
   ]
  },
  {
   "cell_type": "markdown",
   "metadata": {},
   "source": [
    "MCX Configuration"
   ]
  },
  {
   "cell_type": "code",
   "execution_count": 12,
   "metadata": {},
   "outputs": [],
   "source": [
    "# empty log file\n",
    "open(config.simulated_dataset_dir / \"log.txt\", \"w\").close()\n",
    "\n",
    "# make sure to make this a separate array, don't create directly in cfg!\n",
    "vol = np.ones((60, 60, 120), dtype=\"uint8\")\n",
    "vol[:, :, 0] = 0\n",
    "\n",
    "cfg = {\n",
    "    \"nphoton\": 1e7,\n",
    "    \"maxdetphoton\": 1e7,\n",
    "    \"vol\": vol,\n",
    "    \"tstart\":0,\n",
    "    \"tend\":5e-7,\n",
    "    \"tstep\":5e-7,\n",
    "    \"autopilot\": 1,\n",
    "    \"gpuid\": config.gpuid,\n",
    "    \"bc\": \"ccrcca\",#001000\",\n",
    "    \"isspecular\": 1,\n",
    "    \"srcdir\": [0,0,1],\n",
    "    \"srctype\": \"planar\",\n",
    "    \"srcpos\": [0, 0, 0],\n",
    "    \"srcparam1\": [vol.shape[0], 0, 0, 0], # 3D position of vertex, fourth coordinate is irrelevant\n",
    "    \"srcparam2\": [0, vol.shape[1], 0, 0],\n",
    "    \"issrcfrom0\": 1,\n",
    "    #\"savedetflag\": \"dpx\",\n",
    "    \"flog\": str(config.simulated_dataset_dir) + \"/log.txt\",\n",
    "    \"isnormalized\": 0,\n",
    "    \"issaveref\": 1\n",
    "}\n",
    "\n",
    "# necessary to accumulate weights\n",
    "cfg[\"vol\"][:, :, 0] = 0"
   ]
  },
  {
   "cell_type": "code",
   "execution_count": 16,
   "metadata": {},
   "outputs": [],
   "source": [
    "wavelengths = np.arange(520, 910, 10)\n",
    "mu_a_matrix = DataLoader.absorption_coefs(\n",
    "    wavelengths,\n",
    "    use_diff_oxycco=False,\n",
    "    use_water_and_fat=True\n",
    ")"
   ]
  },
  {
   "cell_type": "code",
   "execution_count": 17,
   "metadata": {
    "scrolled": true
   },
   "outputs": [
    {
     "data": {
      "application/vnd.jupyter.widget-view+json": {
       "model_id": "ee4e03cd42d048ce9bf8a719979d71b1",
       "version_major": 2,
       "version_minor": 0
      },
      "text/plain": [
       "0it [00:00, ?it/s]"
      ]
     },
     "metadata": {},
     "output_type": "display_data"
    },
    {
     "name": "stdout",
     "output_type": "stream",
     "text": [
      "nphoton: 1e+07\n",
      "tstart: 0\n",
      "tstep: 5e-07\n",
      "tend: 5e-07\n",
      "maxdetphoton: 1e+07\n",
      "isnormalized: 0\n",
      "issrcfrom0: 1\n",
      "autopilot: 1\n",
      "issaveref: 1\n",
      "isspecular: 1\n",
      "=============================   GPU Information  ================================\n",
      "Device 1 of 8:\t\tQuadro RTX 8000\n",
      "Compute Capability:\t7.5\n",
      "Global Memory:\t\t50953846784 B\n",
      "Constant Memory:\t65536 B\n",
      "Shared Memory:\t\t49152 B\n",
      "Registers:\t\t65536\n",
      "Clock Speed:\t\t1.77 GHz\n",
      "Number of SMs:\t\t72\n",
      "Number of Cores:\t4608\n",
      "Auto-thread:\t\t147456\n",
      "Auto-block:\t\t64\n",
      "=============================   GPU Information  ================================\n",
      "Device 2 of 8:\t\tQuadro RTX 8000\n",
      "Compute Capability:\t7.5\n",
      "Global Memory:\t\t50953846784 B\n",
      "Constant Memory:\t65536 B\n",
      "Shared Memory:\t\t49152 B\n",
      "Registers:\t\t65536\n",
      "Clock Speed:\t\t1.77 GHz\n",
      "Number of SMs:\t\t72\n",
      "Number of Cores:\t4608\n",
      "Auto-thread:\t\t147456\n",
      "Auto-block:\t\t64\n",
      "=============================   GPU Information  ================================\n",
      "Device 3 of 8:\t\tQuadro RTX 8000\n",
      "Compute Capability:\t7.5\n",
      "Global Memory:\t\t50953846784 B\n",
      "Constant Memory:\t65536 B\n",
      "Shared Memory:\t\t49152 B\n",
      "Registers:\t\t65536\n",
      "Clock Speed:\t\t1.77 GHz\n",
      "Number of SMs:\t\t72\n",
      "Number of Cores:\t4608\n",
      "Auto-thread:\t\t147456\n",
      "Auto-blonphoton: 1e+07\n",
      "ck:\t\t64\n",
      "=============================   GPU Information  ================================\n",
      "Device 4 of 8:\t\tQuadro RTX 8000\n",
      "Compute Capability:\t7.5\n",
      "Global Memory:\t\t50953846784 B\n",
      "Constant Memory:\t65536 B\n",
      "Shared Memory:\t\t49152 B\n",
      "Registers:\t\t65536\n",
      "Clock Speed:\t\t1.77 GHz\n",
      "Number of SMs:\t\t72\n",
      "Number of Cores:\t4608\n",
      "Auto-thread:\t\t147456\n",
      "Auto-block:\t\t64\n",
      "=============================   GPU Information  ================================\n",
      "Device 5 of 8:\t\tQuadro RTX 8000\n",
      "Compute Capability:\t7.5\n",
      "Global Memory:\t\t50953846784 B\n",
      "Constant Memory:\t65536 B\n",
      "Shared Memory:\t\t49152 B\n",
      "Registers:\t\t65536\n",
      "Clock Speed:\t\t1.77 GHz\n",
      "Number of SMs:\t\t72\n",
      "Number of Cores:\t4608\n",
      "Auto-thread:\t\t147456\n",
      "Auto-block:\t\t64\n",
      "=============================   GPU Information  ================================\n",
      "Device 6 of 8:\t\tQuadro RTX 6000\n",
      "Compute Capability:\t7.5\n",
      "Global Memory:\t\t25388515328 B\n",
      "Constant Memory:\t65536 B\n",
      "Shared Memory:\t\t49152 B\n",
      "Registers:\t\t65536\n",
      "Clock Speed:\t\t1.77 GHz\n",
      "Number of SMs:\t\t72\n",
      "Number of Cores:\t4608\n",
      "Auto-thread:\t\t147456\n",
      "Auto-block:\t\t64\n",
      "=============================   GPU Information  ================================\n",
      "Device 7 of 8:\t\tQuadro RTX 8000\n",
      "Compute Capability:\t7.5\n",
      "Global Memory:\t\t50953846784 B\n",
      "Constant Memory:\t65536 B\n",
      "Shared Memory:\t\t49152 B\n",
      "Registers:\t\t65536\n",
      "Clock Speed:\t\t1.77 GHz\n",
      "Number of SMs:\t\t72\n",
      "Number of Cores:\t4608\n",
      "Auto-thread:\t\t147456\n",
      "Auto-block:\t\t64\n",
      "=============================   GPU Information  ================================\n",
      "Device 8 of 8:\t\tQuadro P5000\n",
      "Compute Capability:\t6.1\n",
      "Global Memory:\t\t17063280640 B\n",
      "Constant Memory:\t65536 B\n",
      "Shared Memory:\t\t49152 B\n",
      "Registers:\t\t65536\n",
      "Clock Speed:\t\t1.73 GHz\n",
      "Number of SMs:\t\t20\n",
      "Number of Cores:\t2560\n",
      "Auto-thread:\t\t40960\n",
      "Auto-block:\t\t64\n",
      "tstart: 0\n",
      "tstep: 5e-07\n",
      "tend: 5e-07\n",
      "maxdetphoton: 1e+07\n",
      "isnormalized: 0\n",
      "issrcfrom0: 1\n",
      "autopilot: 1\n",
      "issaveref: 1\n",
      "isspecular: 1\n",
      "nphoton: 1e+07\n",
      "tstart: 0\n",
      "tstep: 5e-07\n",
      "tend: 5e-07\n",
      "maxdetphoton: 1e+07\n",
      "isnormalized: 0\n",
      "issrcfrom0: 1\n",
      "autopilot: 1\n",
      "issaveref: 1\n",
      "isspecular: 1\n"
     ]
    },
    {
     "data": {
      "application/vnd.jupyter.widget-view+json": {
       "model_id": "50bb195e5b7a4e3a86c25aa5b6ceee43",
       "version_major": 2,
       "version_minor": 0
      },
      "text/plain": [
       "0it [00:00, ?it/s]"
      ]
     },
     "metadata": {},
     "output_type": "display_data"
    },
    {
     "name": "stdout",
     "output_type": "stream",
     "text": [
      "nphoton: 1e+07\n",
      "tstart: 0\n",
      "tstep: 5e-07\n",
      "tend: 5e-07\n",
      "maxdetphoton: 1e+07\n",
      "isnormalized: 0\n",
      "issrcfrom0: 1\n",
      "autopilot: 1\n",
      "issaveref: 1\n",
      "isspecular: 1\n",
      "nphoton: 1e+07\n",
      "tstart: 0\n",
      "tstep: 5e-07\n",
      "tend: 5e-07\n",
      "maxdetphoton: 1e+07\n",
      "isnormalized: 0\n",
      "issrcfrom0: 1\n",
      "autopilot: 1\n",
      "issaveref: 1\n",
      "isspecular: 1\n",
      "nphoton: 1e+07\n",
      "tstart: 0\n",
      "tstep: 5e-07\n",
      "tend: 5e-07\n",
      "maxdetphoton: 1e+07\n",
      "isnormalized: 0\n",
      "issrcfrom0: 1\n",
      "autopilot: 1\n",
      "issaveref: 1\n",
      "isspecular: 1\n"
     ]
    },
    {
     "data": {
      "application/vnd.jupyter.widget-view+json": {
       "model_id": "36e0a8c5d0614e4da191cf1fe4b295c1",
       "version_major": 2,
       "version_minor": 0
      },
      "text/plain": [
       "0it [00:00, ?it/s]"
      ]
     },
     "metadata": {},
     "output_type": "display_data"
    },
    {
     "name": "stdout",
     "output_type": "stream",
     "text": [
      "nphoton: 1e+07\n",
      "tstart: 0\n",
      "tstep: 5e-07\n",
      "tend: 5e-07\n",
      "maxdetphoton: 1e+07\n",
      "isnormalized: 0\n",
      "issrcfrom0: 1\n",
      "autopilot: 1\n",
      "issaveref: 1\n",
      "isspecular: 1\n",
      "nphoton: 1e+07\n",
      "tstart: 0\n",
      "tstep: 5e-07\n",
      "tend: 5e-07\n",
      "maxdetphoton: 1e+07\n",
      "isnormalized: 0\n",
      "issrcfrom0: 1\n",
      "autopilot: 1\n",
      "issaveref: 1\n",
      "isspecular: 1\n",
      "nphoton: 1e+07\n",
      "tstart: 0\n",
      "tstep: 5e-07\n",
      "tend: 5e-07\n",
      "maxdetphoton: 1e+07\n",
      "isnormalized: 0\n",
      "issrcfrom0: 1\n",
      "autopilot: 1\n",
      "issaveref: 1\n",
      "isspecular: 1\n"
     ]
    },
    {
     "data": {
      "application/vnd.jupyter.widget-view+json": {
       "model_id": "bcca0e515b59412b87e5ba103eb24e90",
       "version_major": 2,
       "version_minor": 0
      },
      "text/plain": [
       "0it [00:00, ?it/s]"
      ]
     },
     "metadata": {},
     "output_type": "display_data"
    },
    {
     "name": "stdout",
     "output_type": "stream",
     "text": [
      "nphoton: 1e+07\n",
      "tstart: 0\n",
      "tstep: 5e-07\n",
      "tend: 5e-07\n",
      "maxdetphoton: 1e+07\n",
      "isnormalized: 0\n",
      "issrcfrom0: 1\n",
      "autopilot: 1\n",
      "issaveref: 1\n",
      "isspecular: 1\n",
      "nphoton: 1e+07\n",
      "tstart: 0\n",
      "tstep: 5e-07\n",
      "tend: 5e-07\n",
      "maxdetphoton: 1e+07\n",
      "isnormalized: 0\n",
      "issrcfrom0: 1\n",
      "autopilot: 1\n",
      "issaveref: 1\n",
      "isspecular: 1\n",
      "nphoton: 1e+07\n",
      "tstart: 0\n",
      "tstep: 5e-07\n",
      "tend: 5e-07\n",
      "maxdetphoton: 1e+07\n",
      "isnormalized: 0\n",
      "issrcfrom0: 1\n",
      "autopilot: 1\n",
      "issaveref: 1\n",
      "isspecular: 1\n"
     ]
    },
    {
     "data": {
      "application/vnd.jupyter.widget-view+json": {
       "model_id": "97f29312501f4ab1b2b0d5f07a9e94eb",
       "version_major": 2,
       "version_minor": 0
      },
      "text/plain": [
       "0it [00:00, ?it/s]"
      ]
     },
     "metadata": {},
     "output_type": "display_data"
    },
    {
     "name": "stdout",
     "output_type": "stream",
     "text": [
      "nphoton: 1e+07\n",
      "tstart: 0\n",
      "tstep: 5e-07\n",
      "tend: 5e-07\n",
      "maxdetphoton: 1e+07\n",
      "isnormalized: 0\n",
      "issrcfrom0: 1\n",
      "autopilot: 1\n",
      "issaveref: 1\n",
      "isspecular: 1\n",
      "nphoton: 1e+07\n",
      "tstart: 0\n",
      "tstep: 5e-07\n",
      "tend: 5e-07\n",
      "maxdetphoton: 1e+07\n",
      "isnormalized: 0\n",
      "issrcfrom0: 1\n",
      "autopilot: 1\n",
      "issaveref: 1\n",
      "isspecular: 1\n",
      "nphoton: 1e+07\n",
      "tstart: 0\n",
      "tstep: 5e-07\n",
      "tend: 5e-07\n",
      "maxdetphoton: 1e+07\n",
      "isnormalized: 0\n",
      "issrcfrom0: 1\n",
      "autopilot: 1\n",
      "issaveref: 1\n",
      "isspecular: 1\n"
     ]
    },
    {
     "data": {
      "application/vnd.jupyter.widget-view+json": {
       "model_id": "0349fa91572d4da1a1eba635b3c24e84",
       "version_major": 2,
       "version_minor": 0
      },
      "text/plain": [
       "0it [00:00, ?it/s]"
      ]
     },
     "metadata": {},
     "output_type": "display_data"
    },
    {
     "name": "stdout",
     "output_type": "stream",
     "text": [
      "nphoton: 1e+07\n",
      "tstart: 0\n",
      "tstep: 5e-07\n",
      "tend: 5e-07\n",
      "maxdetphoton: 1e+07\n",
      "isnormalized: 0\n",
      "issrcfrom0: 1\n",
      "autopilot: 1\n",
      "issaveref: 1\n",
      "isspecular: 1\n",
      "nphoton: 1e+07\n",
      "tstart: 0\n",
      "tstep: 5e-07\n",
      "tend: 5e-07\n",
      "maxdetphoton: 1e+07\n",
      "isnormalized: 0\n",
      "issrcfrom0: 1\n",
      "autopilot: 1\n",
      "issaveref: 1\n",
      "isspecular: 1\n",
      "nphoton: 1e+07\n",
      "tstart: 0\n",
      "tstep: 5e-07\n",
      "tend: 5e-07\n",
      "maxdetphoton: 1e+07\n",
      "isnormalized: 0\n",
      "issrcfrom0: 1\n",
      "autopilot: 1\n",
      "issaveref: 1\n",
      "isspecular: 1\n"
     ]
    },
    {
     "data": {
      "application/vnd.jupyter.widget-view+json": {
       "model_id": "e2d15a22be33476791f68c6dfa93bc38",
       "version_major": 2,
       "version_minor": 0
      },
      "text/plain": [
       "0it [00:00, ?it/s]"
      ]
     },
     "metadata": {},
     "output_type": "display_data"
    },
    {
     "name": "stdout",
     "output_type": "stream",
     "text": [
      "nphoton: 1e+07\n",
      "tstart: 0\n",
      "tstep: 5e-07\n",
      "tend: 5e-07\n",
      "maxdetphoton: 1e+07\n",
      "isnormalized: 0\n",
      "issrcfrom0: 1\n",
      "autopilot: 1\n",
      "issaveref: 1\n",
      "isspecular: 1\n",
      "nphoton: 1e+07\n",
      "tstart: 0\n",
      "tstep: 5e-07\n",
      "tend: 5e-07\n",
      "maxdetphoton: 1e+07\n",
      "isnormalized: 0\n",
      "issrcfrom0: 1\n",
      "autopilot: 1\n",
      "issaveref: 1\n",
      "isspecular: 1\n",
      "nphoton: 1e+07\n",
      "tstart: 0\n",
      "tstep: 5e-07\n",
      "tend: 5e-07\n",
      "maxdetphoton: 1e+07\n",
      "isnormalized: 0\n",
      "issrcfrom0: 1\n",
      "autopilot: 1\n",
      "issaveref: 1\n",
      "isspecular: 1\n"
     ]
    },
    {
     "data": {
      "application/vnd.jupyter.widget-view+json": {
       "model_id": "2e98e858d1764b40b77e23c74c328e08",
       "version_major": 2,
       "version_minor": 0
      },
      "text/plain": [
       "0it [00:00, ?it/s]"
      ]
     },
     "metadata": {},
     "output_type": "display_data"
    },
    {
     "name": "stdout",
     "output_type": "stream",
     "text": [
      "nphoton: 1e+07\n",
      "tstart: 0\n",
      "tstep: 5e-07\n",
      "tend: 5e-07\n",
      "maxdetphoton: 1e+07\n",
      "isnormalized: 0\n",
      "issrcfrom0: 1\n",
      "autopilot: 1\n",
      "issaveref: 1\n",
      "isspecular: 1\n",
      "nphoton: 1e+07\n",
      "tstart: 0\n",
      "tstep: 5e-07\n",
      "tend: 5e-07\n",
      "maxdetphoton: 1e+07\n",
      "isnormalized: 0\n",
      "issrcfrom0: 1\n",
      "autopilot: 1\n",
      "issaveref: 1\n",
      "isspecular: 1\n",
      "nphoton: 1e+07\n",
      "tstart: 0\n",
      "tstep: 5e-07\n",
      "tend: 5e-07\n",
      "maxdetphoton: 1e+07\n",
      "isnormalized: 0\n",
      "issrcfrom0: 1\n",
      "autopilot: 1\n",
      "issaveref: 1\n",
      "isspecular: 1\n"
     ]
    },
    {
     "data": {
      "application/vnd.jupyter.widget-view+json": {
       "model_id": "7e2b62f829904592bc9c0d771e79840c",
       "version_major": 2,
       "version_minor": 0
      },
      "text/plain": [
       "0it [00:00, ?it/s]"
      ]
     },
     "metadata": {},
     "output_type": "display_data"
    },
    {
     "name": "stdout",
     "output_type": "stream",
     "text": [
      "nphoton: 1e+07\n",
      "tstart: 0\n",
      "tstep: 5e-07\n",
      "tend: 5e-07\n",
      "maxdetphoton: 1e+07\n",
      "isnormalized: 0\n",
      "issrcfrom0: 1\n",
      "autopilot: 1\n",
      "issaveref: 1\n",
      "isspecular: 1\n",
      "nphoton: 1e+07\n",
      "tstart: 0\n",
      "tstep: 5e-07\n",
      "tend: 5e-07\n",
      "maxdetphoton: 1e+07\n",
      "isnormalized: 0\n",
      "issrcfrom0: 1\n",
      "autopilot: 1\n",
      "issaveref: 1\n",
      "isspecular: 1\n",
      "nphoton: 1e+07\n",
      "tstart: 0\n",
      "tstep: 5e-07\n",
      "tend: 5e-07\n",
      "maxdetphoton: 1e+07\n",
      "isnormalized: 0\n",
      "issrcfrom0: 1\n",
      "autopilot: 1\n",
      "issaveref: 1\n",
      "isspecular: 1\n"
     ]
    },
    {
     "data": {
      "application/vnd.jupyter.widget-view+json": {
       "model_id": "9ff0aad1bf3a4b348bcc1ee2cab2c82c",
       "version_major": 2,
       "version_minor": 0
      },
      "text/plain": [
       "0it [00:00, ?it/s]"
      ]
     },
     "metadata": {},
     "output_type": "display_data"
    },
    {
     "name": "stdout",
     "output_type": "stream",
     "text": [
      "nphoton: 1e+07\n",
      "tstart: 0\n",
      "tstep: 5e-07\n",
      "tend: 5e-07\n",
      "maxdetphoton: 1e+07\n",
      "isnormalized: 0\n",
      "issrcfrom0: 1\n",
      "autopilot: 1\n",
      "issaveref: 1\n",
      "isspecular: 1\n",
      "nphoton: 1e+07\n",
      "tstart: 0\n",
      "tstep: 5e-07\n",
      "tend: 5e-07\n",
      "maxdetphoton: 1e+07\n",
      "isnormalized: 0\n",
      "issrcfrom0: 1\n",
      "autopilot: 1\n",
      "issaveref: 1\n",
      "isspecular: 1\n",
      "nphoton: 1e+07\n",
      "tstart: 0\n",
      "tstep: 5e-07\n",
      "tend: 5e-07\n",
      "maxdetphoton: 1e+07\n",
      "isnormalized: 0\n",
      "issrcfrom0: 1\n",
      "autopilot: 1\n",
      "issaveref: 1\n",
      "isspecular: 1\n"
     ]
    },
    {
     "data": {
      "application/vnd.jupyter.widget-view+json": {
       "model_id": "24d948e887b34caaaab63f77bf91d66a",
       "version_major": 2,
       "version_minor": 0
      },
      "text/plain": [
       "0it [00:00, ?it/s]"
      ]
     },
     "metadata": {},
     "output_type": "display_data"
    },
    {
     "name": "stdout",
     "output_type": "stream",
     "text": [
      "nphoton: 1e+07\n",
      "tstart: 0\n",
      "tstep: 5e-07\n",
      "tend: 5e-07\n",
      "maxdetphoton: 1e+07\n",
      "isnormalized: 0\n",
      "issrcfrom0: 1\n",
      "autopilot: 1\n",
      "issaveref: 1\n",
      "isspecular: 1\n",
      "nphoton: 1e+07\n",
      "tstart: 0\n",
      "tstep: 5e-07\n",
      "tend: 5e-07\n",
      "maxdetphoton: 1e+07\n",
      "isnormalized: 0\n",
      "issrcfrom0: 1\n",
      "autopilot: 1\n",
      "issaveref: 1\n",
      "isspecular: 1\n",
      "nphoton: 1e+07\n",
      "tstart: 0\n",
      "tstep: 5e-07\n",
      "tend: 5e-07\n",
      "maxdetphoton: 1e+07\n",
      "isnormalized: 0\n",
      "issrcfrom0: 1\n",
      "autopilot: 1\n",
      "issaveref: 1\n",
      "isspecular: 1\n"
     ]
    }
   ],
   "source": [
    "for tissue_type in [\"gray matter\"]: #simulation_data.keys():\n",
    "    tissue_spectra = []\n",
    "    g, refractive_idx = DataLoader.tissue_parameters[tissue_type][-2:]\n",
    "    for spectrum_idx in range(simulation_data[tissue_type][0].shape[1]):\n",
    "        concentrations = simulation_data[tissue_type][0][:, spectrum_idx]\n",
    "        scattering_params = simulation_data[tissue_type][1][:, spectrum_idx]\n",
    "        mu_a_vals = mu_a_matrix @ concentrations\n",
    "        mu_s_red_vals = scattering_params[0] * (wavelengths / 500) ** (-scattering_params[1])\n",
    "        mu_a_vals /= 10\n",
    "        mu_s_red_vals /= 10\n",
    "        spectrum = []\n",
    "        for mu_a, mu_s_red in tqdm(zip(mu_a_vals, mu_s_red_vals)):\n",
    "            cfg[\"prop\"] = np.array([[0, 0, 1, 1], [mu_a, mu_s_red / (1-g), g, refractive_idx]])\n",
    "            res = pmcx.mcxlab(cfg)\n",
    "            dref = np.sum(res[\"dref\"][:, :, 0, :]) / cfg[\"nphoton\"]\n",
    "            attenuation = -np.log(dref)\n",
    "            spectrum.append(attenuation)\n",
    "        tissue_spectra.append(spectrum)\n",
    "    simulation_data[tissue_type] = simulation_data[tissue_type][:2] + (np.array(tissue_spectra).T,)"
   ]
  },
  {
   "cell_type": "markdown",
   "metadata": {},
   "source": [
    "Save data to file..."
   ]
  },
  {
   "cell_type": "code",
   "execution_count": 15,
   "metadata": {},
   "outputs": [],
   "source": [
    "with open(config.simulated_dataset_dir / \"simulation_data.pickle\", \"wb\") as f:\n",
    "    pickle.dump((wavelengths, simulation_data), f)"
   ]
  },
  {
   "cell_type": "code",
   "execution_count": 19,
   "metadata": {},
   "outputs": [],
   "source": [
    "with open(config.simulated_dataset_dir / \"simulation_data.pickle\", \"rb\") as f:\n",
    "    wavelengths, simulation_data = pickle.load(f)"
   ]
  },
  {
   "cell_type": "code",
   "execution_count": 18,
   "metadata": {},
   "outputs": [
    {
     "data": {
      "text/plain": [
       "(3, 11)"
      ]
     },
     "execution_count": 18,
     "metadata": {},
     "output_type": "execute_result"
    }
   ],
   "source": [
    "simulation_data[\"gray matter\"][-1].shape"
   ]
  },
  {
   "cell_type": "code",
   "execution_count": 19,
   "metadata": {},
   "outputs": [
    {
     "data": {
      "text/plain": [
       "<matplotlib.widgets.Slider at 0x7ff7109c0810>"
      ]
     },
     "execution_count": 19,
     "metadata": {},
     "output_type": "execute_result"
    },
    {
     "data": {
      "application/vnd.jupyter.widget-view+json": {
       "model_id": "946c41b9dbed4c9eb30f88a1f6999754",
       "version_major": 2,
       "version_minor": 0
      },
      "image/png": "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",
      "text/html": [
       "\n",
       "            <div style=\"display: inline-block;\">\n",
       "                <div class=\"jupyter-widgets widget-label\" style=\"text-align: center;\">\n",
       "                    Figure\n",
       "                </div>\n",
       "                <img src='data:image/png;base64,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' width=640.0/>\n",
       "            </div>\n",
       "        "
      ],
      "text/plain": [
       "Canvas(toolbar=Toolbar(toolitems=[('Home', 'Reset original view', 'home', 'home'), ('Back', 'Back to previous …"
      ]
     },
     "metadata": {},
     "output_type": "display_data"
    }
   ],
   "source": [
    "plot_spectra_slider(simulation_data[\"gray matter\"][-1][None, ...], wavelengths)"
   ]
  },
  {
   "cell_type": "code",
   "execution_count": null,
   "metadata": {},
   "outputs": [],
   "source": []
  }
 ],
 "metadata": {
  "kernelspec": {
   "display_name": "Python 3 (ipykernel)",
   "language": "python",
   "name": "python3"
  },
  "language_info": {
   "codemirror_mode": {
    "name": "ipython",
    "version": 3
   },
   "file_extension": ".py",
   "mimetype": "text/x-python",
   "name": "python",
   "nbconvert_exporter": "python",
   "pygments_lexer": "ipython3",
   "version": "3.11.11"
  }
 },
 "nbformat": 4,
 "nbformat_minor": 4
}
