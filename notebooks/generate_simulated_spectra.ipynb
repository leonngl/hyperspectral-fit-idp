{
 "cells": [
  {
   "cell_type": "code",
   "execution_count": 1,
   "metadata": {},
   "outputs": [],
   "source": [
    "%load_ext autoreload\n",
    "%autoreload 2\n",
    "#%matplotlib qt"
   ]
  },
  {
   "cell_type": "code",
   "execution_count": 2,
   "metadata": {},
   "outputs": [],
   "source": [
    "import os\n",
    "import sys\n",
    "from pathlib import Path\n",
    "sys.path.insert(1, str(Path(os.getcwd()).parent / \"src\"))"
   ]
  },
  {
   "cell_type": "code",
   "execution_count": 3,
   "metadata": {},
   "outputs": [],
   "source": [
    "from data_loader import DataLoader\n",
    "from utils import *\n",
    "from mcs_function import *\n",
    "from plotting import *\n",
    "import config\n",
    "import pickle\n",
    "import pmcx\n",
    "import matplotlib.pyplot as plt\n",
    "from mbll_functions import *\n",
    "import pandas as pd\n",
    "import scipy\n",
    "import pickle"
   ]
  },
  {
   "cell_type": "code",
   "execution_count": 4,
   "metadata": {},
   "outputs": [
    {
     "name": "stdout",
     "output_type": "stream",
     "text": [
      "=============================   GPU Information  ================================\n",
      "Device 1 of 1:\t\tNVIDIA GeForce GTX 1050\n",
      "Compute Capability:\t6.1\n"
     ]
    },
    {
     "data": {
      "text/plain": [
       "[{'name': 'NVIDIA GeForce GTX 1050',\n",
       "  'id': 1,\n",
       "  'devcount': 1,\n",
       "  'major': 6,\n",
       "  'minor': 1,\n",
       "  'globalmem': 4229824512,\n",
       "  'constmem': 65536,\n",
       "  'sharedmem': 49152,\n",
       "  'regcount': 65536,\n",
       "  'clock': 1493000,\n",
       "  'sm': 5,\n",
       "  'core': 640,\n",
       "  'autoblock': 64,\n",
       "  'autothread': 10240,\n",
       "  'maxgate': 0}]"
      ]
     },
     "execution_count": 4,
     "metadata": {},
     "output_type": "execute_result"
    },
    {
     "name": "stdout",
     "output_type": "stream",
     "text": [
      "Global Memory:\t\t4229824512 B\n",
      "Constant Memory:\t65536 B\n",
      "Shared Memory:\t\t49152 B\n",
      "Registers:\t\t65536\n",
      "Clock Speed:\t\t1.49 GHz\n",
      "Number of SMs:\t\t5\n",
      "Number of Cores:\t640\n",
      "Auto-thread:\t\t10240\n",
      "Auto-block:\t\t64\n"
     ]
    }
   ],
   "source": [
    "pmcx.gpuinfo()"
   ]
  },
  {
   "cell_type": "code",
   "execution_count": 5,
   "metadata": {},
   "outputs": [
    {
     "data": {
      "text/plain": [
       "1"
      ]
     },
     "execution_count": 5,
     "metadata": {},
     "output_type": "execute_result"
    }
   ],
   "source": [
    "config.gpuid"
   ]
  },
  {
   "cell_type": "code",
   "execution_count": 6,
   "metadata": {},
   "outputs": [
    {
     "data": {
      "text/plain": [
       "PosixPath('/media/leon/T7/IDP/dataset/simulated')"
      ]
     },
     "execution_count": 6,
     "metadata": {},
     "output_type": "execute_result"
    }
   ],
   "source": [
    "config.simulated_dataset_dir"
   ]
  },
  {
   "cell_type": "markdown",
   "metadata": {},
   "source": [
    "Determine tumor parameters via linear least squares from attenuation data."
   ]
  },
  {
   "cell_type": "code",
   "execution_count": 7,
   "metadata": {},
   "outputs": [],
   "source": [
    "#tumor_df = pd.read_excel(\n",
    "#    config.spectra_dir / \"tumor_optical_properties.xlsx\",\n",
    "#    sheet_name=\"HGG_fresh\", # high-grade glioma, fresh\n",
    "#)\n",
    "tumor_df = pd.read_excel(\n",
    "    config.spectra_dir / \"tumor_optical_properties.xlsx\",\n",
    "    sheet_name=\"HGG_comparison\"\n",
    ")\n",
    "tumor_df_wavelength_condition = (tumor_df[\"Wavelength\"] >= 400) & (tumor_df[\"Wavelength\"] <= 1000) \n",
    "tumor_absorption_spectrum = tumor_df.loc[tumor_df_wavelength_condition, \"mua_Gebhart_frozen_freshly_excised_snapfrozen\"].to_numpy() * 10\n",
    "tumor_scattering_spectrum = tumor_df.loc[tumor_df_wavelength_condition, \"mus_fitted_present_fresh_30mins\"].to_numpy() * 10\n",
    "wavelengths_tumor = tumor_df.loc[tumor_df_wavelength_condition, \"Wavelength\"].to_numpy()"
   ]
  },
  {
   "cell_type": "code",
   "execution_count": 8,
   "metadata": {},
   "outputs": [],
   "source": [
    "mu_a_tumor = DataLoader.absorption_coefs(\n",
    "    wavelengths_tumor,\n",
    "    use_diff_oxycco=False,\n",
    "    use_water_and_fat=True\n",
    ")"
   ]
  },
  {
   "cell_type": "code",
   "execution_count": 9,
   "metadata": {},
   "outputs": [
    {
     "name": "stdout",
     "output_type": "stream",
     "text": [
      "[2.63917345e-02 9.62995787e-29 5.07849077e-02 5.89194355e-28\n",
      " 1.00000000e+00 2.81937901e-26]\n",
      "[0.0646 0.0114 0.0064 0.0016 0.73   0.1   ]\n"
     ]
    }
   ],
   "source": [
    "res = scipy.optimize.lsq_linear(\n",
    "    mu_a_tumor,\n",
    "    tumor_absorption_spectrum,\n",
    "    bounds=(\n",
    "        [0, 0, 0, 0, 0, 0],\n",
    "        [1, 1, 0.1, 0.1, 1, 1]\n",
    "    )\n",
    ")\n",
    "tumor_base_concentrations = res.x\n",
    "print(tumor_base_concentrations)\n",
    "print(DataLoader.tissue_parameters[\"gray matter\"][0])"
   ]
  },
  {
   "cell_type": "markdown",
   "metadata": {},
   "source": [
    "The oxCCO value seems much to high. There might be another chromophore that I am not accounting for. I will instead simply use tissue concentrations as for white matter. White matter tissue was reported to have very similar absorption spectra to brain tumor."
   ]
  },
  {
   "cell_type": "code",
   "execution_count": null,
   "metadata": {},
   "outputs": [],
   "source": [
    "# simulated tissue concentrations\n",
    "simulation_data = dict()\n",
    "for tissue_type in [\"gray matter\", \"artery\", \"vein\", \"tumor\"]: #DataLoader.tissue_parameters.keys():\n",
    "    base_concentrations = DataLoader.tissue_parameters[tissue_type][0]\n",
    "    base_scattering_params = DataLoader.tissue_parameters[tissue_type][1]\n",
    "    std_dev_concentrations_blood_fraction = np.array([0.015, 0.015, 1e-3, 1e-3, 0.015, 0.015])\n",
    "    sampled_concentrations_blood_fraction = np.random.normal(\n",
    "        loc=concentrations_to_blood_fraction(base_concentrations),\n",
    "        scale=std_dev_concentrations_blood_fraction,\n",
    "        size=(10,6)\n",
    "    )\n",
    "    std_dev_scattering = np.array([5, 0.15])\n",
    "    sampled_scattering_params = np.random.normal(\n",
    "        loc=base_scattering_params,\n",
    "        scale=std_dev_scattering,\n",
    "        size=(10,2)\n",
    "    )\n",
    "    # clip values\n",
    "    sampled_concentrations_blood_fraction = np.clip(sampled_concentrations_blood_fraction, a_min=[[0, 0, 0, 0, 0, 0]], a_max=[[1, 1, np.inf, np.inf, 1, 1]])\n",
    "    # (#molecules, #spectra)\n",
    "    sampled_concentrations = blood_fraction_to_concentrations(sampled_concentrations_blood_fraction.T)\n",
    "    sampled_scattering_params = np.clip(sampled_scattering_params, a_min=[[0, 0]], a_max=[[200, 10]]).T\n",
    "    # first value is baseline, second should have full perturbation of standard_deviation\n",
    "    sampled_concentrations = np.column_stack(\n",
    "        (\n",
    "         base_concentrations,\n",
    "         blood_fraction_to_concentrations(base_concentrations + std_dev_concentrations_blood_fraction),\n",
    "         sampled_concentrations\n",
    "        )\n",
    "    )\n",
    "    sampled_scattering_params = np.column_stack((base_scattering_params, (base_scattering_params + std_dev_scattering), sampled_scattering_params))\n",
    "    simulation_data[tissue_type] = (sampled_concentrations, sampled_scattering_params)"
   ]
  },
  {
   "cell_type": "code",
   "execution_count": 23,
   "metadata": {},
   "outputs": [
    {
     "data": {
      "text/plain": [
       "(6, 12)"
      ]
     },
     "execution_count": 23,
     "metadata": {},
     "output_type": "execute_result"
    }
   ],
   "source": [
    "simulation_data[\"gray matter\"][0].shape"
   ]
  },
  {
   "cell_type": "code",
   "execution_count": 21,
   "metadata": {},
   "outputs": [
    {
     "data": {
      "text/plain": [
       "array([[3.23000000e-02, 2.27700000e-03, 8.11328027e-02, 4.53423199e-02,\n",
       "        5.67067660e-02, 5.94951082e-02, 3.71946965e-02, 0.00000000e+00,\n",
       "        4.68674372e-02, 7.26746317e-02, 7.09336001e-03, 3.58486562e-02],\n",
       "       [5.70000000e-03, 1.07723000e-01, 1.22538644e-02, 7.19931674e-03,\n",
       "        1.22207515e-02, 1.25605463e-02, 6.33177545e-03, 0.00000000e+00,\n",
       "        8.36757770e-03, 1.37233241e-02, 1.34924479e-03, 5.89923952e-03],\n",
       "       [3.20000000e-03, 4.20000000e-03, 3.09638521e-03, 3.62876329e-03,\n",
       "        3.65762935e-03, 2.97536051e-03, 4.03934032e-03, 3.39966473e-03,\n",
       "        3.01722846e-03, 2.85640935e-03, 2.60114620e-03, 5.13236749e-03],\n",
       "       [8.00000000e-04, 1.80000000e-03, 9.59151367e-04, 6.22603811e-04,\n",
       "        1.55420296e-03, 3.40901211e-05, 7.32427604e-04, 8.94125316e-04,\n",
       "        7.44636029e-04, 5.66474487e-04, 2.53531195e-04, 0.00000000e+00],\n",
       "       [3.65000000e-01, 3.80000000e-01, 3.72026453e-01, 3.71080532e-01,\n",
       "        3.63153230e-01, 3.91893871e-01, 3.61726566e-01, 3.41636740e-01,\n",
       "        3.73661969e-01, 3.67446650e-01, 3.41688716e-01, 3.89366785e-01],\n",
       "       [5.00000000e-02, 6.50000000e-02, 8.79898527e-02, 4.30602105e-02,\n",
       "        3.28698724e-02, 6.59246189e-02, 6.57572084e-02, 7.11840836e-02,\n",
       "        4.91192064e-02, 4.98423983e-02, 5.86199602e-02, 1.55128252e-02]])"
      ]
     },
     "execution_count": 21,
     "metadata": {},
     "output_type": "execute_result"
    }
   ],
   "source": [
    "simulation_data[\"tumor\"][0]"
   ]
  },
  {
   "cell_type": "markdown",
   "metadata": {},
   "source": [
    "MCX Configuration"
   ]
  },
  {
   "cell_type": "code",
   "execution_count": null,
   "metadata": {},
   "outputs": [],
   "source": [
    "# empty log file\n",
    "open(config.simulated_dataset_dir / \"log.txt\", \"w\").close()\n",
    "vol = np.ones((60, 60, 120), dtype=\"uint8\")\n",
    "\n",
    "cfg = {\n",
    "    \"nphoton\": 1e7,\n",
    "    \"maxdetphoton\": 1e7,\n",
    "    \"vol\": vol,\n",
    "    \"tstart\":0,\n",
    "    \"tend\":5e-7,\n",
    "    \"tstep\":5e-7,\n",
    "    \"autopilot\": 1,\n",
    "    \"gpuid\": config.gpuid,\n",
    "    \"bc\": \"ccrcca\",#001000\",\n",
    "    \"isspecular\": 1,\n",
    "    \"srcdir\": [0,0,1],\n",
    "    \"srctype\": \"planar\",\n",
    "    \"srcpos\": [0, 0, 0],\n",
    "    \"srcparam1\": [vol.shape[0], 0, 0, 0], # 3D position of vertex, fourth coordinate is irrelevant\n",
    "    \"srcparam2\": [0, vol.shape[1], 0, 0],\n",
    "    \"issrcfrom0\": 1,\n",
    "    #\"savedetflag\": \"dpx\",\n",
    "    \"flog\": str(config.simulated_dataset_dir) + \"/log.txt\",\n",
    "    \"isnormalized\": 0,\n",
    "    \"issaveref\": 1\n",
    "}\n",
    "\n",
    "# necessary to accumulate weights\n",
    "cfg[\"vol\"][:, :, 0] = 0"
   ]
  },
  {
   "cell_type": "code",
   "execution_count": null,
   "metadata": {},
   "outputs": [],
   "source": [
    "wavelengths = np.arange(520, 910, 10)\n",
    "mu_a_matrix = DataLoader.absorption_coefs(\n",
    "    wavelengths,\n",
    "    use_diff_oxycco=False,\n",
    "    use_water_and_fat=True\n",
    ")"
   ]
  },
  {
   "cell_type": "code",
   "execution_count": null,
   "metadata": {},
   "outputs": [],
   "source": [
    "for tissue_type in simulation_data.keys():\n",
    "    tissue_spectra = []\n",
    "    g, refractive_idx = DataLoader.tissue_parameters[tissue_type][-2:]\n",
    "    for concentrations, scattering_params in zip(*simulation_data[tissue_type][:2]):\n",
    "        mu_a_vals = mu_a_matrix @ concentrations\n",
    "        mu_s_red_vals = scattering_params[0] * (wavelengths / 500) ** (-scattering_params[1])\n",
    "        mu_a_vals /= 10\n",
    "        mu_s_red_vals /= 10\n",
    "        spectrum = []\n",
    "        for mu_a, mu_s_red in zip(mu_a_vals, mu_s_red_vals):\n",
    "            cfg[\"prop\"] = np.array([\n",
    "                [0, 0, 1, 1],\n",
    "                [mu_a, mu_s_red / (1-g), g, refractive_idx]\n",
    "            ])\n",
    "            res = pmcx.mcxlab(cfg)\n",
    "            dref = np.sum(res[\"dref\"][:, :, 0, :]) / cfg[\"nphoton\"]\n",
    "            spectrum.append(-np.log(dref))\n",
    "        tissue_spectra.append(spectrum)\n",
    "    # notice the .T => store as (wavelengths, spectra)\n",
    "    simulation_data[tissue_type] = simulation_data[tissue_type][:2] + (np.array(tissue_spectra).T,)"
   ]
  },
  {
   "cell_type": "markdown",
   "metadata": {},
   "source": [
    "Save data to file..."
   ]
  },
  {
   "cell_type": "code",
   "execution_count": null,
   "metadata": {},
   "outputs": [],
   "source": [
    "with open(config.simulated_dataset_dir / \"simulation_data.pickle\", \"wb\") as f:\n",
    "    pickle.dump(simulation_data, f)"
   ]
  },
  {
   "cell_type": "code",
   "execution_count": null,
   "metadata": {},
   "outputs": [],
   "source": [
    "plot_spectra_slider(simulation_data[\"gray_matter\"][-1], wavelengths)"
   ]
  }
 ],
 "metadata": {
  "kernelspec": {
   "display_name": "nonlinear-fit",
   "language": "python",
   "name": "python3"
  },
  "language_info": {
   "codemirror_mode": {
    "name": "ipython",
    "version": 3
   },
   "file_extension": ".py",
   "mimetype": "text/x-python",
   "name": "python",
   "nbconvert_exporter": "python",
   "pygments_lexer": "ipython3",
   "version": "3.11.11"
  }
 },
 "nbformat": 4,
 "nbformat_minor": 2
}
