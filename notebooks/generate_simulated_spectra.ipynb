{
 "cells": [
  {
   "cell_type": "code",
   "execution_count": null,
   "metadata": {},
   "outputs": [],
   "source": [
    "%load_ext autoreload\n",
    "%autoreload 2\n",
    "#%matplotlib qt"
   ]
  },
  {
   "cell_type": "code",
   "execution_count": null,
   "metadata": {},
   "outputs": [],
   "source": [
    "import os\n",
    "import sys\n",
    "from pathlib import Path\n",
    "sys.path.insert(1, str(Path(os.getcwd()).parent / \"src\"))"
   ]
  },
  {
   "cell_type": "code",
   "execution_count": null,
   "metadata": {},
   "outputs": [],
   "source": [
    "from data_loader import DataLoader\n",
    "from utils import *\n",
    "from mcs_function import *\n",
    "from plotting import *\n",
    "import config\n",
    "import pickle\n",
    "import pmcx\n",
    "import matplotlib.pyplot as plt\n",
    "from mbll_functions import *\n",
    "import pandas as pd\n",
    "import scipy\n",
    "import pickle"
   ]
  },
  {
   "cell_type": "code",
   "execution_count": null,
   "metadata": {},
   "outputs": [],
   "source": [
    "pmcx.gpuinfo()"
   ]
  },
  {
   "cell_type": "code",
   "execution_count": null,
   "metadata": {},
   "outputs": [],
   "source": [
    "config.gpuid"
   ]
  },
  {
   "cell_type": "code",
   "execution_count": null,
   "metadata": {},
   "outputs": [],
   "source": [
    "config.simulated_dataset_dir"
   ]
  },
  {
   "cell_type": "markdown",
   "metadata": {},
   "source": [
    "Determine tumor parameters via linear least squares from attenuation data."
   ]
  },
  {
   "cell_type": "code",
   "execution_count": null,
   "metadata": {},
   "outputs": [],
   "source": [
    "#tumor_df = pd.read_excel(\n",
    "#    config.spectra_dir / \"tumor_optical_properties.xlsx\",\n",
    "#    sheet_name=\"HGG_fresh\", # high-grade glioma, fresh\n",
    "#)\n",
    "tumor_df = pd.read_excel(\n",
    "    config.spectra_dir / \"tumor_optical_properties.xlsx\",\n",
    "    sheet_name=\"HGG_comparison\"\n",
    ")\n",
    "tumor_df_wavelength_condition = (tumor_df[\"Wavelength\"] >= 400) & (tumor_df[\"Wavelength\"] <= 1000) \n",
    "tumor_absorption_spectrum = tumor_df.loc[tumor_df_wavelength_condition, \"mua_Gebhart_frozen_freshly_excised_snapfrozen\"].to_numpy() * 10\n",
    "tumor_scattering_spectrum = tumor_df.loc[tumor_df_wavelength_condition, \"mus_fitted_present_fresh_30mins\"].to_numpy() * 10\n",
    "wavelengths_tumor = tumor_df.loc[tumor_df_wavelength_condition, \"Wavelength\"].to_numpy()"
   ]
  },
  {
   "cell_type": "code",
   "execution_count": null,
   "metadata": {},
   "outputs": [],
   "source": [
    "mu_a_tumor = DataLoader.absorption_coefs(\n",
    "    wavelengths_tumor,\n",
    "    use_diff_oxycco=False,\n",
    "    use_water_and_fat=True\n",
    ")"
   ]
  },
  {
   "cell_type": "code",
   "execution_count": null,
   "metadata": {},
   "outputs": [],
   "source": [
    "res = scipy.optimize.lsq_linear(\n",
    "    mu_a_tumor,\n",
    "    tumor_absorption_spectrum,\n",
    "    bounds=(\n",
    "        [0, 0, 0, 0, 0, 0],\n",
    "        [1, 1, 0.1, 0.1, 1, 1]\n",
    "    )\n",
    ")\n",
    "tumor_base_concentrations = res.x\n",
    "print(tumor_base_concentrations)\n",
    "print(DataLoader.tissue_parameters[\"gray matter\"][0])"
   ]
  },
  {
   "cell_type": "markdown",
   "metadata": {},
   "source": [
    "The oxCCO value seems much to high. There might be another chromophore that I am not accounting for. I will instead simply use tissue concentrations as for white matter. White matter tissue was reported to have very similar absorption spectra to brain tumor."
   ]
  },
  {
   "cell_type": "code",
   "execution_count": null,
   "metadata": {},
   "outputs": [],
   "source": [
    "# simulated tissue concentrations\n",
    "simulation_data = dict()\n",
    "for tissue_type in DataLoader.tissue_parameters.keys():\n",
    "    base_concentrations_blood_fraction = concentrations_to_blood_fraction(DataLoader.tissue_parameters[tissue_type][0])\n",
    "    base_scattering_params = DataLoader.tissue_parameters[tissue_type][1]\n",
    "    sampled_concentrations = np.random.multivariate_normal(\n",
    "        mean=base_concentrations_blood_fraction,\n",
    "        cov=np.diag([0.0012, 0.0012, 1e-6, 1e-6, 0.0012, 0.0012]),\n",
    "        size=(10,)\n",
    "    )\n",
    "    sampled_scattering_params = np.random.multivariate_normal(\n",
    "        mean=base_scattering_params,\n",
    "        cov=np.diag([25, 0.0225]),\n",
    "        size=(10,)\n",
    "    )\n",
    "    # clip values\n",
    "    sampled_concentrations = np.clip(sampled_concentrations, a_min=[[0, 0, 0, 0, 0, 0]], a_max=[[1, 1, np.inf, np.inf, 1, 1]])\n",
    "    sampled_scattering_params = np.clip(sampled_scattering_params, a_min=[[0, 0]], a_max=[[200, 10]])\n",
    "    # prepend baseline concentrations to data\n",
    "    sampled_concentrations = np.row_stack((base_concentrations_blood_fraction, sampled_concentrations))\n",
    "    sampled_scattering_params = np.row_stack((base_scattering_params, sampled_scattering_params))\n",
    "    simulation_data[tissue_type] = (sampled_concentrations, sampled_scattering_params)"
   ]
  },
  {
   "cell_type": "markdown",
   "metadata": {},
   "source": [
    "MCX Configuration"
   ]
  },
  {
   "cell_type": "code",
   "execution_count": null,
   "metadata": {},
   "outputs": [],
   "source": [
    "# empty log file\n",
    "open(config.simulated_dataset_dir / \"log.txt\", \"w\").close()\n",
    "\n",
    "# make sure to make this a separate array, don't create directly in cfg!\n",
    "prop = np.array([[0,0,1,1],[0,0,5,5]])\n",
    "\n",
    "vol = np.ones((100, 100, 120), dtype=\"uint8\")\n",
    "\n",
    "cfg = {\n",
    "    \"nphoton\": 1e7,\n",
    "    \"maxdetphoton\": 1e7,\n",
    "    \"vol\": vol,\n",
    "    \"tstart\":0,\n",
    "    \"tend\":5e-7,\n",
    "    \"tstep\":5e-7,\n",
    "    \"autopilot\": 1,\n",
    "    \"gpuid\": config.gpuid,\n",
    "    \"prop\": prop,\n",
    "    \"bc\": \"ccrcca\",#001000\",\n",
    "    \"isspecular\": 1,\n",
    "    \"srcdir\": [0,0,1],\n",
    "    \"srctype\": \"planar\",\n",
    "    \"srcpos\": [0, 0, 0],\n",
    "    \"srcparam1\": [vol.shape[0], 0, 0, 0], # 3D position of vertex, fourth coordinate is irrelevant\n",
    "    \"srcparam2\": [0, vol.shape[1], 0, 0],\n",
    "    \"issrcfrom0\": 0,\n",
    "    #\"savedetflag\": \"dpx\",\n",
    "    \"flog\": str(config.simulated_dataset_dir) + \"/log.txt\",\n",
    "    \"isnormalized\": 0,\n",
    "    \"issaveref\": 1\n",
    "}\n",
    "\n",
    "# necessary to accumulate weights\n",
    "cfg[\"vol\"][:, :, 0] = 0"
   ]
  },
  {
   "cell_type": "code",
   "execution_count": null,
   "metadata": {},
   "outputs": [],
   "source": [
    "wavelengths = np.arange(520, 905, 100)\n",
    "mu_a_matrix = DataLoader.absorption_coefs(\n",
    "    wavelengths,\n",
    "    use_diff_oxycco=False,\n",
    "    use_water_and_fat=True\n",
    ")"
   ]
  },
  {
   "cell_type": "code",
   "execution_count": null,
   "metadata": {},
   "outputs": [],
   "source": [
    "for tissue_type in simulation_data.keys():\n",
    "    tissue_spectra = []\n",
    "    g, refractive_idx = DataLoader.tissue_parameters[tissue_type][-2:]\n",
    "    for concentrations_blood_fraction, scattering_params in zip(*simulation_data[tissue_type][:2]):\n",
    "        mu_a_vals = mu_a_matrix @ blood_fraction_to_concentrations(concentrations_blood_fraction)\n",
    "        mu_s_red_vals = scattering_params[0] * (wavelengths / 500) ** (-scattering_params[1])\n",
    "        mu_a_vals /= 10\n",
    "        mu_s_red_vals /= 10\n",
    "        spectrum = []\n",
    "        for mu_a, mu_s_red in zip(mu_a_vals, mu_s_red_vals):\n",
    "            cfg[\"prop\"][1, 0] = mu_a\n",
    "            cfg[\"prop\"][1, 1] = mu_s_red / (1-g)\n",
    "            cfg[\"prop\"][1, 2] = g\n",
    "            cfg[\"prop\"][1, 3] = refractive_idx\n",
    "            res = pmcx.mcxlab(cfg)\n",
    "            dref = np.sum(res[\"dref\"][:, :, 0, :]) / cfg[\"nphoton\"]\n",
    "            attenuation = -np.log(dref)\n",
    "            spectrum.append(attenuation)\n",
    "        tissue_spectra.append(spectrum)\n",
    "    simulation_data[tissue_type] = simulation_data[tissue_type][:2] + (np.array(tissue_spectra),)"
   ]
  },
  {
   "cell_type": "markdown",
   "metadata": {},
   "source": [
    "Save data to file..."
   ]
  },
  {
   "cell_type": "code",
   "execution_count": null,
   "metadata": {},
   "outputs": [],
   "source": [
    "with open(config.simulated_dataset_dir / \"simulation_data.pickle\", \"wb\") as f:\n",
    "    pickle.dump(simulation_data, f)"
   ]
  },
  {
   "cell_type": "code",
   "execution_count": null,
   "metadata": {},
   "outputs": [],
   "source": [
    "plot_spectra_slider(simulation_data[\"gray_matter\"][-1], wavelengths)"
   ]
  }
 ],
 "metadata": {
  "kernelspec": {
   "display_name": "nonlinear-fit",
   "language": "python",
   "name": "python3"
  },
  "language_info": {
   "codemirror_mode": {
    "name": "ipython",
    "version": 3
   },
   "file_extension": ".py",
   "mimetype": "text/x-python",
   "name": "python",
   "nbconvert_exporter": "python",
   "pygments_lexer": "ipython3",
   "version": "3.11.11"
  }
 },
 "nbformat": 4,
 "nbformat_minor": 2
}
