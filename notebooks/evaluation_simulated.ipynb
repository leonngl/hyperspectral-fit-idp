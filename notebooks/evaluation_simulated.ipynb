{
 "cells": [
  {
   "cell_type": "code",
   "execution_count": null,
   "id": "1c83134d",
   "metadata": {},
   "outputs": [],
   "source": [
    "%load_ext autoreload\n",
    "%autoreload 2\n",
    "#%matplotlib qt\n",
    "%matplotlib widget"
   ]
  },
  {
   "cell_type": "code",
   "execution_count": null,
   "id": "45ddd347",
   "metadata": {},
   "outputs": [],
   "source": [
    "import os\n",
    "import sys\n",
    "from pathlib import Path\n",
    "\n",
    "src_dir = str(Path(os.getcwd()).parent / \"src\")\n",
    "sys.path.insert(1, src_dir)\n",
    "#os.environ[\"PYTHONPATH\"] = src_dir"
   ]
  },
  {
   "cell_type": "code",
   "execution_count": null,
   "id": "7052b334",
   "metadata": {},
   "outputs": [],
   "source": [
    "import data_loader\n",
    "import calculate_concentr_diffs\n",
    "from concentr_diffs_pathlength import *\n",
    "from plotting import *\n",
    "from mbll_functions import *\n",
    "from utils import *\n",
    "from mcs_function import *\n",
    "import config\n",
    "import pickle\n",
    "from ray import tune\n",
    "import matplotlib.pyplot as plt\n",
    "from inspect import signature\n",
    "from tqdm.notebook import tqdm\n",
    "import pandas\n",
    "import time"
   ]
  },
  {
   "cell_type": "markdown",
   "id": "177bceb3",
   "metadata": {},
   "source": [
    "load the gray-matter, and blood-vessel pathlengths and scattering counts"
   ]
  },
  {
   "cell_type": "code",
   "execution_count": null,
   "id": "6564ec8f",
   "metadata": {},
   "outputs": [],
   "source": [
    "gray_matter_mcs_pathlength_data = np.loadtxt(config.pl_dir / \"gray_matter_mcs.txt\")\n",
    "blood_vessel_mcs_pathlength_data = np.loadtxt(config.pl_dir / \"blood_vessel_pure_mcs.txt\")\n",
    "tumor_mcs_pathlength_data = np.loadtxt(config.pl_dir / \"tumor_mcs.txt\")"
   ]
  },
  {
   "cell_type": "markdown",
   "id": "85e990f6",
   "metadata": {},
   "source": [
    "create MCS-Attenuation Object"
   ]
  },
  {
   "cell_type": "code",
   "execution_count": null,
   "id": "5750fe27",
   "metadata": {},
   "outputs": [],
   "source": [
    "A_mcs = SimulationAttenuation(config.mcs_func_path)"
   ]
  },
  {
   "cell_type": "markdown",
   "id": "13c98875",
   "metadata": {},
   "source": [
    "load the m-parameters for the Jacques models"
   ]
  },
  {
   "cell_type": "code",
   "execution_count": null,
   "id": "4e916408",
   "metadata": {},
   "outputs": [],
   "source": [
    "with open(config.m_params_path, \"rb\") as f:\n",
    "    jacques_m_params, _, _, _ = pickle.load(f)"
   ]
  },
  {
   "cell_type": "code",
   "execution_count": null,
   "id": "929c319d",
   "metadata": {},
   "outputs": [],
   "source": [
    "jacques_m_params"
   ]
  },
  {
   "cell_type": "markdown",
   "id": "48acd81a",
   "metadata": {},
   "source": [
    "# Forward Test"
   ]
  },
  {
   "cell_type": "markdown",
   "id": "cb714cf0",
   "metadata": {},
   "source": [
    "- Input tissue concentrations, and reconstruct spectra with every model\n",
    "- compute squared average (over wavelength range) attenuation error per tissue and model"
   ]
  },
  {
   "cell_type": "code",
   "execution_count": null,
   "id": "f3fb6640",
   "metadata": {},
   "outputs": [],
   "source": [
    "with open(config.simulated_dataset_dir / \"simulation_data.pickle\", \"rb\") as f:\n",
    "    wavelengths, simulation_data = pickle.load(f)"
   ]
  },
  {
   "cell_type": "code",
   "execution_count": null,
   "id": "ab1aa626",
   "metadata": {},
   "outputs": [],
   "source": [
    "tissue_types_long = list(simulation_data.keys())"
   ]
  },
  {
   "cell_type": "code",
   "execution_count": null,
   "id": "751b1fe1",
   "metadata": {},
   "outputs": [],
   "source": [
    "mu_a_matrix = data_loader.DataLoader.absorption_coefs(\n",
    "    wavelengths,\n",
    "    use_diff_oxycco=False,\n",
    "    use_water_and_fat=True\n",
    ")"
   ]
  },
  {
   "cell_type": "code",
   "execution_count": null,
   "id": "351932e8",
   "metadata": {},
   "outputs": [],
   "source": [
    "baseline_data = {}"
   ]
  },
  {
   "cell_type": "markdown",
   "id": "a71b8d63",
   "metadata": {},
   "source": [
    "Interpolate path and scatter lengths for MBLL + MCS"
   ]
  },
  {
   "cell_type": "code",
   "execution_count": null,
   "id": "8356e6f7",
   "metadata": {},
   "outputs": [],
   "source": [
    "lengths = tuple()\n",
    "for mcs_data in (gray_matter_mcs_pathlength_data, tumor_mcs_pathlength_data, blood_vessel_mcs_pathlength_data):\n",
    "    pathlength = np.interp(wavelengths, mcs_data[:, 0], mcs_data[:, 4] / 10) # convert to cm\n",
    "    # notice the minus: mean scatterlength = mean pathlength - ((mean scattercount)/mu_s)\n",
    "    scatterlength = mcs_data[:, 4] / 10 - mcs_data[:, 5] / (mcs_data[:, 2] * 10)\n",
    "    scatterlength = np.interp(wavelengths, mcs_data[:, 0], scatterlength)\n",
    "    lengths += (pathlength, scatterlength)\n",
    "\n",
    "gray_matter_pathlength, gray_matter_scatterlength, tumor_pathlength, tumor_scatterlength, blood_vessel_pathlength, blood_vessel_scatterlength = lengths"
   ]
  },
  {
   "cell_type": "code",
   "execution_count": null,
   "id": "84b7dd14",
   "metadata": {},
   "outputs": [],
   "source": [
    "#gray_matter_baseline_attenuation = np.interp(\n",
    "#    wavelengths,\n",
    "#    gray_matter_mcs_pathlength_data[:, 0],\n",
    "#    -np.log(gray_matter_mcs_pathlength_data[:, 3])\n",
    "#)\n",
    "\n",
    "# take baseline attenuation from simulation data\n",
    "# this avoids small error due to interpolation\n",
    "# this small interpolation error causes large errors in concentration reconstruction for MBLL\n",
    "# Otherwise, when reconstructing concentr. for baseline attenuation, we will not get baseline concentrations\n",
    "\n",
    "gray_matter_baseline_attenuation = simulation_data[\"gray matter\"][-1][:, 0]\n",
    "\n",
    "# for blood vessel average, there is no simulation data\n",
    "blood_vessel_baseline_attenuation = np.interp(\n",
    "    wavelengths,\n",
    "    blood_vessel_mcs_pathlength_data[:, 0],\n",
    "    -np.log(blood_vessel_mcs_pathlength_data[:, 3])\n",
    ")\n",
    "\n",
    "tumor_baseline_attenuation = simulation_data[\"tumor\"][-1][:, 0]"
   ]
  },
  {
   "cell_type": "code",
   "execution_count": null,
   "id": "b293538f",
   "metadata": {},
   "outputs": [],
   "source": [
    "baseline_data[\"attenuation_mcs\"] = [gray_matter_baseline_attenuation, blood_vessel_baseline_attenuation, tumor_baseline_attenuation]\n",
    "baseline_data[\"pathlength_mcs\"] = [gray_matter_pathlength, blood_vessel_pathlength, tumor_pathlength]\n",
    "baseline_data[\"scatterlength_mcs\"] = [gray_matter_scatterlength, blood_vessel_scatterlength, tumor_scatterlength]"
   ]
  },
  {
   "cell_type": "code",
   "execution_count": null,
   "id": "10c0458a",
   "metadata": {},
   "outputs": [],
   "source": [
    "# diffusion + MBLL\n",
    "# compute baseline attenuation, pathlength and scatterlength\n",
    "baseline_attenuations_diffusion, baseline_pathlengths_diffusion, baseline_scatterlengths_diffusion = [], [], []\n",
    "baseline_attenuations_jacques, baseline_pathlengths_jacques, baseline_scatterlengths_jacques = [], [], []\n",
    "baseline_pathlengths_jacques2 = []\n",
    "for tissue_type in [\"gray matter\", \"blood vessel\", \"tumor\"]:\n",
    "    params = (\n",
    "        wavelengths,\n",
    "        mu_a_matrix,\n",
    "        data_loader.DataLoader.tissue_parameters[tissue_type][0],\n",
    "        *data_loader.DataLoader.tissue_parameters[tissue_type][1],\n",
    "        *data_loader.DataLoader.tissue_parameters[tissue_type][-2:],\n",
    "    )\n",
    "    params_jacques = params[:-2]\n",
    "    params_jacques += tuple(jacques_m_params[tissue_type])\n",
    "    params_jacques += (data_loader.DataLoader.tissue_parameters[tissue_type][-2],)\n",
    "    baseline_attenuations_diffusion.append(A_carp_concentrations(*params)[:, 0])\n",
    "    baseline_pathlengths_diffusion.append(A_carp_pathlength(*params)[:, 0]),\n",
    "    baseline_scatterlengths_diffusion.append(A_carp_scatterlength(*params)[:, 0])\n",
    "    baseline_attenuations_jacques.append(A_jacques_concentrations(*params_jacques[:-1])[:, 0])\n",
    "    baseline_pathlengths_jacques.append(A_jacques_pathlength(*params_jacques[:-1])[:, 0]),\n",
    "    baseline_scatterlengths_jacques.append(A_jacques_scatterlength(*params_jacques)[:, 0])\n",
    "    baseline_pathlengths_jacques2.append(A_jacques_pathlength_2(*params_jacques[:-1])[:, 0])"
   ]
  },
  {
   "cell_type": "code",
   "execution_count": null,
   "id": "1df0f928",
   "metadata": {},
   "outputs": [],
   "source": [
    "baseline_data[\"attenuation_diffusion\"] = baseline_attenuations_diffusion\n",
    "baseline_data[\"pathlength_diffusion\"] = baseline_pathlengths_diffusion\n",
    "baseline_data[\"scatterlength_diffusion\"] = baseline_scatterlengths_diffusion\n",
    "baseline_data[\"attenuation_jacques\"] = baseline_attenuations_jacques\n",
    "baseline_data[\"pathlength_jacques\"] = baseline_pathlengths_jacques\n",
    "baseline_data[\"scatterlength_jacques\"] = baseline_scatterlengths_jacques"
   ]
  },
  {
   "cell_type": "code",
   "execution_count": null,
   "id": "9585088b",
   "metadata": {},
   "outputs": [],
   "source": [
    "plot_spectra_slider(np.array([[gray_matter_baseline_attenuation, blood_vessel_baseline_attenuation, tumor_baseline_attenuation], baseline_attenuations_diffusion, baseline_attenuations_jacques]).transpose(0, 2, 1), wavelengths, [\"GT\", \"Carp\", \"Jacques\"], title=\"attenuation\")"
   ]
  },
  {
   "cell_type": "code",
   "execution_count": null,
   "id": "cfda2f09",
   "metadata": {},
   "outputs": [],
   "source": [
    "plot_spectra_slider(np.array([[gray_matter_scatterlength, blood_vessel_scatterlength, tumor_scatterlength], baseline_scatterlengths_diffusion, baseline_scatterlengths_jacques]).transpose(0, 2, 1), wavelengths, [\"GT\", \"Carp\", \"Jacques\"], title=\"scatterlength\")"
   ]
  },
  {
   "cell_type": "code",
   "execution_count": null,
   "id": "50115ba6",
   "metadata": {},
   "outputs": [],
   "source": [
    "plot_spectra_slider(np.array([[gray_matter_pathlength, blood_vessel_pathlength, tumor_pathlength], baseline_pathlengths_diffusion, baseline_pathlengths_jacques, baseline_pathlengths_jacques2]).transpose(0, 2, 1), wavelengths, [\"GT\", \"Carp\", \"Jacques\", \"Jacques2\"], title=\"pathlength\")"
   ]
  },
  {
   "cell_type": "markdown",
   "id": "fd15578e",
   "metadata": {},
   "source": [
    "Save plot for MCS, Jacques, Diffusion PL/SL comparison"
   ]
  },
  {
   "cell_type": "code",
   "execution_count": null,
   "id": "8b169188",
   "metadata": {},
   "outputs": [],
   "source": [
    "pl_comparison_data = dict()\n",
    "sl_comparison_data = dict()\n",
    "\n",
    "for tissue_idx, tissue in enumerate([\"gray matter\", \"blood vessel\", \"tumor\"]):\n",
    "    pl_comparison_data[tissue] = np.empty((len(wavelengths), 4))\n",
    "    sl_comparison_data[tissue] = np.empty((len(wavelengths), 4))\n",
    "    for model_idx, model_str in enumerate([\"mcs\", \"diffusion\", \"jacques\"], start=1):\n",
    "        pl_comparison_data[tissue][:, 0] = wavelengths\n",
    "        sl_comparison_data[tissue][:, 0] = wavelengths\n",
    "        pl_comparison_data[tissue][:, model_idx] = baseline_data[f\"pathlength_{model_str}\"][tissue_idx]\n",
    "        sl_comparison_data[tissue][:, model_idx] = baseline_data[f\"scatterlength_{model_str}\"][tissue_idx]\n",
    "    \n",
    "    np.savetxt(\n",
    "        config.eval_dir / f\"simulated/forward/pl_comp_{tissue}.dat\",\n",
    "        pl_comparison_data[tissue],\n",
    "        comments=\"\",\n",
    "        delimiter=\"\\t\",\n",
    "        header=\"wavelengths\\tmcs\\tdiffusion\\tjacques\"\n",
    "    )\n",
    "\n",
    "    np.savetxt(\n",
    "        config.eval_dir / f\"simulated/forward/sl_comp_{tissue}.dat\",\n",
    "        sl_comparison_data[tissue],\n",
    "        comments=\"\",\n",
    "        delimiter=\"\\t\",\n",
    "        header=\"wavelengths\\tmcs\\tdiffusion\\tjacques\"\n",
    "    )"
   ]
  },
  {
   "cell_type": "markdown",
   "id": "ae7d826a",
   "metadata": {},
   "source": [
    "all models and their tissue-specific inputs"
   ]
  },
  {
   "cell_type": "code",
   "execution_count": null,
   "id": "9874aca7",
   "metadata": {},
   "outputs": [],
   "source": [
    "params_model_dict = {}\n",
    "for model_suffix in [\"mcs\", \"jacques\", \"diffusion\"]:\n",
    "    params_tissue_dict = {}\n",
    "    for tissue in [\"gray matter\", \"artery\", \"vein\", \"tumor\"]:\n",
    "        if tissue == \"vein\":\n",
    "            baseline_index = 1\n",
    "        else:\n",
    "            baseline_idx = [\"gray matter\", \"artery\", \"tumor\"].index(tissue)\n",
    "\n",
    "        params_tissue_dict[tissue] = {\n",
    "            \"baseline_attenuation\": baseline_data[\"attenuation_\" + model_suffix][baseline_idx],\n",
    "            \"pathlength\": baseline_data[\"pathlength_\" + model_suffix][baseline_idx],\n",
    "            \"scatterlength\": baseline_data[\"scatterlength_\" + model_suffix][baseline_idx],\n",
    "            \"baseline_a\": data_loader.DataLoader.tissue_parameters[tissue][1][0],\n",
    "            \"baseline_b\": data_loader.DataLoader.tissue_parameters[tissue][1][1],\n",
    "            \"baseline_c\": data_loader.DataLoader.tissue_parameters[tissue][0],\n",
    "            \"g\": data_loader.DataLoader.tissue_parameters[tissue][2],\n",
    "        }\n",
    "    params_model_dict[model_suffix] = params_tissue_dict\n"
   ]
  },
  {
   "cell_type": "code",
   "execution_count": null,
   "id": "3e006d7e",
   "metadata": {},
   "outputs": [],
   "source": [
    "gray_matter_params_constant_pl = params_model_dict[\"mcs\"][\"gray matter\"].copy()\n",
    "gray_matter_params_constant_pl.update(\n",
    "    pathlength=np.ones(len(wavelengths)),\n",
    "    scatterlength=np.zeros(len(wavelengths))\n",
    ")\n",
    "blood_vessel_params_constant_pl = params_model_dict[\"mcs\"][\"artery\"].copy()\n",
    "blood_vessel_params_constant_pl.update(\n",
    "    pathlength=np.ones(len(wavelengths)),\n",
    "    scatterlength=np.zeros(len(wavelengths))\n",
    ")\n",
    "tumor_params_constant_pl = params_model_dict[\"mcs\"][\"tumor\"].copy()\n",
    "tumor_params_constant_pl.update(\n",
    "    pathlength=np.ones(len(wavelengths)),\n",
    "    scatterlength=np.zeros(len(wavelengths))\n",
    ")\n",
    "\n",
    "forward_models = {\n",
    "    \"MBLL MCS\": (\n",
    "        mbll_new,\n",
    "        params_model_dict[\"mcs\"]\n",
    "    ),\n",
    "    \"MBLL Carp\": (\n",
    "        mbll_new,\n",
    "        params_model_dict[\"diffusion\"]\n",
    "        \n",
    "    ),\n",
    "    \"MBLL const\": (\n",
    "        # mbll but with constant path- and scatterlengths\n",
    "        mbll_new, \n",
    "        {\n",
    "            \"gray matter\": gray_matter_params_constant_pl,\n",
    "            \"artery\": blood_vessel_params_constant_pl,\n",
    "            \"vein\": blood_vessel_params_constant_pl,\n",
    "            \"tumor\": tumor_params_constant_pl\n",
    "        }\n",
    "    ),\n",
    "    \"MBLL const GM\": (\n",
    "        # mbll but with constant path- and scatterlengths from gray matter\n",
    "        mbll_new, \n",
    "        {\n",
    "            \"gray matter\": params_model_dict[\"mcs\"][\"gray matter\"],\n",
    "            \"artery\": params_model_dict[\"mcs\"][\"gray matter\"],\n",
    "            \"vein\": params_model_dict[\"mcs\"][\"gray matter\"],\n",
    "            \"tumor\": params_model_dict[\"mcs\"][\"gray matter\"]\n",
    "        }\n",
    "    ),\n",
    "    \"Jacques, tissue specific\": (\n",
    "        # Jacques with tissue-specific m-parameters\n",
    "        A_jacques_concentrations,\n",
    "        {tissue : {f\"m{i}\" : jacques_m_params[(tissue if tissue not in {\"artery\", \"vein\"} else \"blood vessel\")][i-1] for i in range(1, 4)} for tissue in tissue_types_long},\n",
    "    ),\n",
    "    \"Jacques, general\": (# Jacques with general m-parameters\n",
    "        A_jacques_concentrations,\n",
    "        {tissue_type : {f\"m{i}\" : jacques_m_params[\"general\"][i-1] for i in range(1, 4)} for tissue_type in tissue_types_long},          \n",
    "    ),\n",
    "    \"Carp\": (\n",
    "        A_carp_concentrations,\n",
    "        {tissue_type : {(\"g\", \"n\")[i-2] : data_loader.DataLoader.tissue_parameters[tissue_type][i] for i in range(2, 4)} for tissue_type in tissue_types_long},\n",
    "    ),\n",
    "    \"MCS NLLS\": (\n",
    "        A_mcs.A_concentrations,\n",
    "        {tissue_type: dict() for tissue_type in tissue_types_long},\n",
    "    ),\n",
    "    #\"Patterson\": (\n",
    "    #    A_patterson_concentrations,\n",
    "    #    {tissue_type : {\"n\" : data_loader.DataLoader.tissue_parameters[tissue_type][-1]} for tissue_type in tissue_types_long}\n",
    "    #)\n",
    "}\n",
    "\n",
    "forward_times = np.zeros((len(forward_models)))\n"
   ]
  },
  {
   "cell_type": "code",
   "execution_count": null,
   "id": "1ae2d9c5",
   "metadata": {},
   "outputs": [],
   "source": [
    "#(model, tissue-type, num_spectra, wavelengths)\n",
    "reconstructed_spectra = np.empty((len(forward_models), len(simulation_data.keys()), simulation_data[\"gray matter\"][-1].shape[1], len(wavelengths)))"
   ]
  },
  {
   "cell_type": "code",
   "execution_count": null,
   "id": "45045998",
   "metadata": {},
   "outputs": [],
   "source": [
    "for model_idx, model_str in enumerate(forward_models.keys()):\n",
    "    for tissue_idx, tissue_type in enumerate(tissue_types_long):\n",
    "        for spectrum_idx, params in enumerate(np.row_stack(simulation_data[tissue_type][:2]).T):\n",
    "            forward_times[model_idx] = -time.perf_counter()\n",
    "            A_reconstructed = forward_models[model_str][0](\n",
    "                wavelengths,\n",
    "                mu_a_matrix,\n",
    "                params[:-2],\n",
    "                *params[-2:],\n",
    "                **forward_models[model_str][1][tissue_type]\n",
    "            )\n",
    "            forward_times[model_idx] += time.perf_counter()\n",
    "            reconstructed_spectra[model_idx, tissue_idx, spectrum_idx, :] = A_reconstructed[:, 0]\n",
    "\n",
    "forward_times /= len(tissue_types_long) * simulation_data[\"artery\"][-1].shape[1]"
   ]
  },
  {
   "cell_type": "code",
   "execution_count": null,
   "id": "c9b115c6",
   "metadata": {},
   "outputs": [],
   "source": [
    "print(forward_models.keys())"
   ]
  },
  {
   "cell_type": "code",
   "execution_count": null,
   "id": "81ba4315",
   "metadata": {},
   "outputs": [],
   "source": [
    "df = pandas.DataFrame(forward_times[:, None])\n",
    "df.index = [\"MBLL+MC\", \"MBLL+$\\delta$-P1\", r\"MBLL, $\\bar{L}_p=1$\", r\"MBLL, gray matter $\\bar{L}_p$\", \"Jacques, specific\", \"Jacques, general\", \"$\\delta$-P1\", \"Inverse MC\"]\n",
    "df.columns = [\"Runtime per spectrum (s)\"]\n",
    "print(df)"
   ]
  },
  {
   "cell_type": "markdown",
   "id": "17218ace",
   "metadata": {},
   "source": [
    "Plot reconstructed spectra"
   ]
  },
  {
   "cell_type": "code",
   "execution_count": null,
   "id": "7d55589f",
   "metadata": {},
   "outputs": [],
   "source": [
    "plotted_tissue=\"vein\""
   ]
  },
  {
   "cell_type": "code",
   "execution_count": null,
   "id": "c87ddc18",
   "metadata": {},
   "outputs": [],
   "source": [
    "# models, tissue, spectra, wavelengths\n",
    "reconstructed_spectra_copy = reconstructed_spectra.copy()\n",
    "model_mask = np.array([True] * len(list(forward_models.keys())))\n",
    "model_mask[[2, 3]] = False # don't plot MBLL const and MBLL const GM PL\n",
    "tissue_idx = tissue_types_long.index(plotted_tissue)\n",
    "forward_plot_data_mpl = np.concatenate(\n",
    "    (\n",
    "        #(models, spectra, wavelengths)\n",
    "        simulation_data[plotted_tissue][-1].T[None, ...],\n",
    "        reconstructed_spectra[model_mask, tissue_idx, :, :]\n",
    "    ),\n",
    "    axis=0\n",
    ")\n",
    "\n",
    "# (molecules,wavelenghts,spectra)\n",
    "plot_spectra_slider(\n",
    "    forward_plot_data_mpl.transpose(0, 2, 1),\n",
    "    wavelengths,\n",
    "    [\"MCS GT\"] + list(np.array(list(forward_models.keys()))[model_mask]),\n",
    "    #[\"MCS GT\", \"jt\", \"jg\", \"mcs\", \"c\", \"p\"],\n",
    "    title=plotted_tissue\n",
    ")"
   ]
  },
  {
   "cell_type": "markdown",
   "id": "4ed8f6ff",
   "metadata": {},
   "source": [
    "Store the results."
   ]
  },
  {
   "cell_type": "code",
   "execution_count": null,
   "id": "8dc65f3b",
   "metadata": {},
   "outputs": [],
   "source": [
    "with open(config.eval_dir / \"simulated/forward/results.pickle\", \"wb+\") as f:\n",
    "    pickle.dump((reconstructed_spectra, forward_times), f)"
   ]
  },
  {
   "cell_type": "markdown",
   "id": "8d2c4f0f",
   "metadata": {},
   "source": [
    "Create text files for report."
   ]
  },
  {
   "cell_type": "code",
   "execution_count": null,
   "id": "fa9b8d0d",
   "metadata": {},
   "outputs": [],
   "source": [
    "forward_spectrum_idx = 1 # highly perturbed"
   ]
  },
  {
   "cell_type": "code",
   "execution_count": null,
   "id": "cc366e44",
   "metadata": {},
   "outputs": [],
   "source": [
    "model_identifiers = [\n",
    "    \"ground_truth\", \"mbll_mcs\", \"mbll_diffusion\", \"mbll_const\", \"mbll_const_gm\", \"jacques_specific\", \"jacques_general\", \"diffusion\", \"inverse_mcs\",\n",
    "]\n",
    "for tissue_idx, tissue in enumerate(tissue_types_long):\n",
    "    forward_plot_data_tex = np.empty((simulation_data[tissue][-1].shape[0], len(forward_models)+2))\n",
    "    forward_plot_data_tex[:, 0] = wavelengths\n",
    "    forward_plot_data_tex[:, 1] = simulation_data[tissue][-1][:, forward_spectrum_idx]\n",
    "    forward_plot_data_tex[:, 2:] = reconstructed_spectra[:, tissue_idx, forward_spectrum_idx, :].T\n",
    "    np.savetxt(\n",
    "        config.eval_dir / f\"simulated/forward/{tissue}.dat\",\n",
    "        forward_plot_data_tex,\n",
    "        header=\"\\t\".join([\"wavelengths\"] + model_identifiers),\n",
    "        comments=\"\",\n",
    "        delimiter=\"\\t\",\n",
    "    )"
   ]
  },
  {
   "cell_type": "markdown",
   "id": "66057cdf",
   "metadata": {},
   "source": [
    "Compute squared attenuation error"
   ]
  },
  {
   "cell_type": "code",
   "execution_count": null,
   "id": "04b8a5fd",
   "metadata": {},
   "outputs": [],
   "source": [
    "# models, tissue, spectrum\n",
    "squared_attenuation_error = np.empty((len(forward_models), 4, simulation_data[\"tumor\"][-1].shape[1]))\n",
    "# models, tissue + 1\n",
    "squared_attenuation_error_total_avg = np.empty((len(forward_models), 5))\n",
    "\n",
    "num_wavelengths = simulation_data[\"tumor\"][-1].shape[0]\n",
    "\n",
    "for tissue_idx, tissue in enumerate(tissue_types_long):\n",
    "    prediction_means = np.average(simulation_data[tissue][-1], axis=0)[None, :]\n",
    "    squared_attenuation_error[:, tissue_idx, :] = np.sqrt(np.sum((reconstructed_spectra[:, tissue_idx, :, :] - simulation_data[tissue][-1][:, :, None].T)**2, axis=-1)/num_wavelengths)/prediction_means\n",
    "    squared_attenuation_error_total_avg[:, tissue_idx] = np.average(squared_attenuation_error[:, tissue_idx, :], axis=-1)\n",
    "\n",
    "squared_attenuation_error_total_avg[:, 4] = np.average(squared_attenuation_error_total_avg[:, :4], axis=-1)"
   ]
  },
  {
   "cell_type": "code",
   "execution_count": null,
   "id": "fa991e5e",
   "metadata": {},
   "outputs": [],
   "source": [
    "df = pandas.DataFrame(squared_attenuation_error_total_avg)\n",
    "df.index = [\"MBLL+MC\", \"MBLL+$\\delta$-P1\", r\"MBLL, $\\bar{L}_p=1$\", r\"MBLL, gray matter $\\bar{L}_p$\", \"Jacques, specific\", \"Jacques, general\", \"$\\delta$-P1\", \"Inverse MC\"]\n",
    "df.columns = list(map(str.capitalize, [\"gray matter\", \"artery\", \"vein\", \"tumor\", \"average\"]))\n",
    "print(df)"
   ]
  },
  {
   "cell_type": "code",
   "execution_count": null,
   "id": "dcaf9003",
   "metadata": {},
   "outputs": [],
   "source": [
    "df.to_csv(\n",
    "    config.eval_dir/\"simulated/forward/squared_attenuation_error_table.txt\",\n",
    "    sep=\"\\t\",\n",
    "    index_label=\"Models\"\n",
    ")"
   ]
  },
  {
   "cell_type": "markdown",
   "id": "de00bfb7",
   "metadata": {},
   "source": [
    "# Backward Test"
   ]
  },
  {
   "cell_type": "markdown",
   "id": "eefcba43",
   "metadata": {},
   "source": [
    "## Simulated Spectra"
   ]
  },
  {
   "cell_type": "code",
   "execution_count": null,
   "id": "26212203",
   "metadata": {},
   "outputs": [],
   "source": [
    "# (models, tissues, params)\n",
    "num_params = simulation_data[\"gray matter\"][0].shape[0] + simulation_data[\"gray matter\"][1].shape[0]"
   ]
  },
  {
   "cell_type": "code",
   "execution_count": null,
   "id": "7340d335",
   "metadata": {},
   "outputs": [],
   "source": [
    "# object for MBLL + MCS\n",
    "A_mbll_fit_simulated_mcs = A_mbll_fit(\n",
    "    wavelengths,\n",
    "    mu_a_matrix,\n",
    "    [\"gray matter\", \"blood vessel\", \"tumor\"],\n",
    "    [gray_matter_pathlength, blood_vessel_pathlength, tumor_pathlength],\n",
    "    [gray_matter_scatterlength, blood_vessel_scatterlength, tumor_scatterlength],\n",
    "    [gray_matter_baseline_attenuation, blood_vessel_baseline_attenuation, tumor_baseline_attenuation],\n",
    "    [data_loader.DataLoader.tissue_parameters[tissue][0] for tissue in [\"gray matter\", \"blood vessel\", \"tumor\"]],\n",
    "    *np.array(([data_loader.DataLoader.tissue_parameters[tissue][1] for tissue in [\"gray matter\", \"blood vessel\", \"tumor\"]])).T,\n",
    "    [data_loader.DataLoader.tissue_parameters[tissue][2] for tissue in [\"gray matter\", \"blood vessel\", \"tumor\"]]\n",
    ")\n"
   ]
  },
  {
   "cell_type": "code",
   "execution_count": null,
   "id": "8262e01b",
   "metadata": {},
   "outputs": [],
   "source": [
    "A_mbll_fit_simulated_diffusion = A_mbll_fit(\n",
    "    wavelengths,\n",
    "    mu_a_matrix,\n",
    "    [\"gray matter\", \"blood vessel\", \"tumor\"],\n",
    "    baseline_pathlengths_diffusion,\n",
    "    baseline_scatterlengths_diffusion,\n",
    "    baseline_attenuations_diffusion,\n",
    "    [data_loader.DataLoader.tissue_parameters[tissue][0] for tissue in [\"gray matter\", \"blood vessel\", \"tumor\"]],\n",
    "    *(np.array(([data_loader.DataLoader.tissue_parameters[tissue][1] for tissue in [\"gray matter\", \"blood vessel\", \"tumor\"]])).T),\n",
    "    [data_loader.DataLoader.tissue_parameters[tissue][2] for tissue in [\"gray matter\", \"blood vessel\", \"tumor\"]]\n",
    ")\n"
   ]
  },
  {
   "cell_type": "code",
   "execution_count": null,
   "id": "98832995",
   "metadata": {},
   "outputs": [],
   "source": [
    "A_mbll_fit_simulated_constant_pl = A_mbll_fit(\n",
    "    wavelengths,\n",
    "    mu_a_matrix,\n",
    "    [\"gray matter\", \"blood vessel\", \"tumor\"],\n",
    "    np.ones((3, len(wavelengths))),\n",
    "    np.zeros((3, len(wavelengths))),\n",
    "    [gray_matter_baseline_attenuation, blood_vessel_baseline_attenuation, tumor_baseline_attenuation],\n",
    "    [data_loader.DataLoader.tissue_parameters[tissue][0] for tissue in [\"gray matter\", \"blood vessel\", \"tumor\"]],\n",
    "    *(np.array(([data_loader.DataLoader.tissue_parameters[tissue][1] for tissue in [\"gray matter\", \"blood vessel\", \"tumor\"]])).T),\n",
    "    [data_loader.DataLoader.tissue_parameters[tissue][2] for tissue in [\"gray matter\", \"blood vessel\", \"tumor\"]]\n",
    ")"
   ]
  },
  {
   "cell_type": "code",
   "execution_count": null,
   "id": "a4ecfa6e",
   "metadata": {},
   "outputs": [],
   "source": [
    "A_mbll_fit_simulated_constant_gm_pl = A_mbll_fit(\n",
    "    wavelengths,\n",
    "    mu_a_matrix,\n",
    "    [\"gray matter\", \"blood vessel\", \"tumor\"],\n",
    "    [gray_matter_pathlength, gray_matter_pathlength, gray_matter_pathlength],\n",
    "    [gray_matter_scatterlength, gray_matter_scatterlength, gray_matter_scatterlength],\n",
    "    [gray_matter_baseline_attenuation, gray_matter_baseline_attenuation, gray_matter_baseline_attenuation],\n",
    "    [data_loader.DataLoader.tissue_parameters[\"gray matter\"][0]]*3,\n",
    "    *np.array(([data_loader.DataLoader.tissue_parameters[\"gray matter\"][1]]*3)).T,\n",
    "    [data_loader.DataLoader.tissue_parameters[\"gray matter\"][2]]*3\n",
    ")\n"
   ]
  },
  {
   "cell_type": "code",
   "execution_count": null,
   "id": "02382463",
   "metadata": {},
   "outputs": [],
   "source": [
    "mbll_tissue_map = {\n",
    "    \"gray matter\" : \"gray matter\",\n",
    "    \"vein\": \"blood vessel\",\n",
    "    \"artery\": \"blood vessel\",\n",
    "    \"tumor\": \"tumor\"\n",
    "}\n",
    "\n",
    "tissue_types_long = list(mbll_tissue_map.keys())\n",
    "\n",
    "backward_models_mbll = [\n",
    "    A_mbll_fit_simulated_mcs,\n",
    "    A_mbll_fit_simulated_diffusion,\n",
    "    A_mbll_fit_simulated_constant_pl,\n",
    "    A_mbll_fit_simulated_constant_gm_pl\n",
    "]\n",
    "\n",
    "mcs_sparsity=4\n",
    "# NOTE: make sure to provide blood-fraction-models\n",
    "backward_models_nonlinear = {\n",
    "    # Jacques with tissue-specific m-parameters\n",
    "    \"Jacques tissue specific\":\n",
    "    (A_jacques_blood_fraction, {tissue : {f\"const_vals\" : list(jacques_m_params[tissue if tissue not in {\"artery\", \"vein\"} else \"blood vessel\"])} for tissue in tissue_types_long}),\n",
    "    # Jacques with general m-parameters\n",
    "    \"Jacques general\":\n",
    "    (A_jacques_blood_fraction, {tissue : {f\"const_vals\" : list(jacques_m_params[\"general\"])} for tissue in tissue_types_long}),\n",
    "     \"Carp\":\n",
    "    (A_carp_blood_fraction, {tissue: {\"const_vals\" : data_loader.DataLoader.tissue_parameters[tissue][-2:]} for tissue in tissue_types_long}),\n",
    "    \"NLLS+MCS\":\n",
    "    (A_mcs.A_blood_fraction, {tissue : {\"jacobian\" : A_mcs.jacobian_blood_fraction} for tissue in tissue_types_long}),\n",
    "    \"NLLS+MCS, sparse\":\n",
    "    (A_mcs.A_blood_fraction, {tissue : {\"jacobian\" : A_mcs.jacobian_blood_fraction} for tissue in tissue_types_long}),\n",
    "}"
   ]
  },
  {
   "cell_type": "code",
   "execution_count": null,
   "id": "b813a4d6",
   "metadata": {},
   "outputs": [],
   "source": [
    "#(tissue, models, params, spectra)\n",
    "reconstructed_concentrations = np.empty(( \n",
    "    len(simulation_data.keys()),\n",
    "    len(backward_models_mbll) + len(backward_models_nonlinear),\n",
    "    6,\n",
    "    simulation_data[\"gray matter\"][-1].shape[1]\n",
    "))\n",
    "\n",
    "#(tissue, model, 2, spectra)\n",
    "reconstructed_scattering_params = np.empty((\n",
    "    len(simulation_data.keys()),\n",
    "    len(backward_models_mbll) + len(backward_models_nonlinear),\n",
    "    2,\n",
    "    simulation_data[\"gray matter\"][-1].shape[1]\n",
    ")\n",
    ")"
   ]
  },
  {
   "cell_type": "markdown",
   "id": "5009f05e",
   "metadata": {},
   "source": [
    "Fit for MBLL models"
   ]
  },
  {
   "cell_type": "code",
   "execution_count": null,
   "id": "80bd3539",
   "metadata": {},
   "outputs": [],
   "source": [
    "\n",
    "for model_idx, model in enumerate(backward_models_mbll):\n",
    "    for tissue_idx, tissue_type in enumerate(tissue_types_long):\n",
    "        for spectrum_idx, spectrum in enumerate(simulation_data[tissue_type][-1].T):\n",
    "            res = model.concentr_fit(\n",
    "                A=spectrum,\n",
    "                tissue_type=mbll_tissue_map[tissue_type]\n",
    "            )\n",
    "\n",
    "            reconstructed_concentrations[tissue_idx, model_idx, :, spectrum_idx] = res[:6] # omit a parameter, b is not computed anyways\n",
    "            reconstructed_scattering_params[tissue_idx, model_idx, 0, spectrum_idx] = res[-1] # copy a parameter\n",
    "            reconstructed_scattering_params[tissue_idx, model_idx, 1, spectrum_idx] = np.nan # b is not computed"
   ]
  },
  {
   "cell_type": "markdown",
   "id": "85f51489",
   "metadata": {},
   "source": [
    "Nonlinear models"
   ]
  },
  {
   "cell_type": "code",
   "execution_count": null,
   "id": "3bba1270",
   "metadata": {},
   "outputs": [],
   "source": [
    "for model_idx, model_str in tqdm(list(enumerate(backward_models_nonlinear.keys(), start=len(backward_models_mbll)))):\n",
    "    model_func = backward_models_nonlinear[model_str][0]\n",
    "    print(f\"Reconstruction for {model_str}\")\n",
    "    for tissue_idx, tissue_type in enumerate(tissue_types_long):\n",
    "        for spectrum_idx, spectrum in enumerate(simulation_data[tissue_type][-1].T):\n",
    "            spectrum_tmp, wavelengths_tmp, mu_a_matrix_tmp = spectrum, wavelengths, mu_a_matrix\n",
    "            if \"sparse\" in model_str:\n",
    "                wavelengths_tmp, spectrum_tmp, mu_a_matrix_tmp = wavelengths[::mcs_sparsity], spectrum[::mcs_sparsity], mu_a_matrix[::mcs_sparsity, :]\n",
    "            res, errors = concentr_fit_nonlinear_single_tissue(\n",
    "                spectrum_tmp,\n",
    "                wavelengths_tmp,\n",
    "                mu_a_matrix_tmp,\n",
    "                model_func,\n",
    "                variables_bool_arr=([True] * num_params) + ([False] * (len(signature(model_func).parameters) - 5)),\n",
    "                left_bounds = np.array([0] * num_params),\n",
    "                right_bounds=np.array([1, 1, 0.05, 0.05, 1, 1, 100, 7]),\n",
    "                update_init=False,\n",
    "                constraint=None,\n",
    "                init_vals=concentrations_to_blood_fraction(np.row_stack(simulation_data[tissue_type][:2])[:, 0]),\n",
    "                **backward_models_nonlinear[model_str][1][tissue_type]\n",
    "            )\n",
    "            \n",
    "            reconstructed_concentrations[tissue_idx, model_idx, :, spectrum_idx] = blood_fraction_to_concentrations(res[:6, 0])\n",
    "            reconstructed_scattering_params[tissue_idx, model_idx, :, spectrum_idx] = res[-2:, 0]\n",
    "        "
   ]
  },
  {
   "cell_type": "code",
   "execution_count": null,
   "id": "790a01bd",
   "metadata": {},
   "outputs": [],
   "source": [
    "with open(config.eval_dir/\"simulated/backward/reconstructed_concentrations.pickle\", \"wb\") as f:\n",
    "    pickle.dump(reconstructed_concentrations, f)"
   ]
  },
  {
   "cell_type": "code",
   "execution_count": null,
   "id": "da876412",
   "metadata": {},
   "outputs": [],
   "source": [
    "plotted_spectrum_idx = 1"
   ]
  },
  {
   "cell_type": "code",
   "execution_count": null,
   "id": "b9cc17d7",
   "metadata": {},
   "outputs": [],
   "source": [
    "# append GT concentrations, cut scattering params\n",
    "# (tissue, models, concentrations)\n",
    "plot_data = np.concatenate(\n",
    "    (\n",
    "        np.array([simulation_data[tissue][0][:, plotted_spectrum_idx] for tissue in tissue_types_long])[:, None, :],\n",
    "        reconstructed_concentrations[:, :, :6, plotted_spectrum_idx]\n",
    "    ),\n",
    "axis=1)\n",
    "\n",
    "#plot_data[:, :, -2:] /= 10\n",
    "#plot_data[:, 3, :] = 0\n",
    "\n",
    "plot_concentrations_bar(\n",
    "    plot_data, \n",
    "    tissue_types_long,\n",
    "    [\"GT\", \"MBLL MCS\", \"MBLL Carp\", \"MBLL const\", \"MBLL const GM\", \"Jacques specific\", \"Jaques general\", \"Carp\", \"NLLS+MCS\", \"NLLS+MCS sparse\"],\n",
    "    [\"Hb02\", \"Hbb\", \"oxCCO\", \"redCCO\", \"Water\", \"Fat\"]\n",
    ")"
   ]
  },
  {
   "cell_type": "markdown",
   "id": "aa3c8062",
   "metadata": {},
   "source": [
    "Save data for plotting."
   ]
  },
  {
   "cell_type": "code",
   "execution_count": null,
   "id": "195928aa",
   "metadata": {},
   "outputs": [],
   "source": [
    "with open(config.eval_dir/\"simulated/backward/bar_plot_data.pickle\", \"wb\") as f:\n",
    "    pickle.dump(plot_data, f)\n",
    "\n",
    "with open(config.eval_dir/\"simulated/backward/model_indices.txt\", \"w\") as f:\n",
    "    f.writelines(\n",
    "        [\n",
    "            f\"{i}: {model_str}\\n\" for (i, model_str) in enumerate(\n",
    "                [\n",
    "                 \"GT\", \"MBLL+MCS\", \"MBLL+Carp\", \"MBLL+const PL\", \"MBLL const GM\", \"Jacques, specific\",\n",
    "                 \"Jacques, general\", \"Carp\", \"MCS+NLLS\", \"MCS+NLLS,sparse\"\n",
    "                ]\n",
    "            )\n",
    "        ]\n",
    "    )"
   ]
  },
  {
   "cell_type": "code",
   "execution_count": null,
   "id": "71a49ba9",
   "metadata": {},
   "outputs": [],
   "source": [
    "# models, tissue, spectrum\n",
    "squared_concentration_error = np.empty((len(backward_models_mbll) + len(backward_models_nonlinear), 4, simulation_data[\"tumor\"][-1].shape[1]))\n",
    "# models, tissue + 1\n",
    "squared_concentration_error_total_avg = np.empty((len(backward_models_mbll) + len(backward_models_nonlinear), 5))\n",
    "\n",
    "# t, m, p, s for reconstructed_concentrations\n",
    "for tissue_idx, tissue in enumerate(tissue_types_long):\n",
    "    concentration_means = np.average(simulation_data[tissue][1], axis=0)\n",
    "    squared_concentration_error[:, tissue_idx, :] = np.sqrt(np.sum((reconstructed_concentrations[tissue_idx, :, :, :] - simulation_data[tissue][0][None, :, :])**2, axis=1)/6)/concentration_means\n",
    "    squared_concentration_error_total_avg[:, tissue_idx] = np.average(squared_concentration_error[:, tissue_idx, :], axis=-1)\n",
    "\n",
    "squared_concentration_error_total_avg[:, 4] = np.average(squared_concentration_error_total_avg[:, :4], axis=-1)"
   ]
  },
  {
   "cell_type": "code",
   "execution_count": null,
   "id": "4c69e967",
   "metadata": {},
   "outputs": [],
   "source": [
    "list(backward_models_nonlinear.keys())"
   ]
  },
  {
   "cell_type": "code",
   "execution_count": null,
   "id": "a8714dd5",
   "metadata": {},
   "outputs": [],
   "source": [
    "df = pandas.DataFrame(squared_concentration_error_total_avg)\n",
    "df.index = [\"MBLL+MC\", \"MBLL+$\\delta$-P1\", r\"MBLL, $\\bar{L}_p=1$\", r\"MBLL, gray matter $\\bar{L}_p$\", \"Jacques, specific\", \"Jacques, general\", \"$\\delta$-P1\", \"Inverse MC\", \"Inverse MC, sparse\"]\n",
    "#df.index = [\"MBLL MCS\", \"MBLL Carp\", \"MBLL const.\", \"MBLL const GM\"] + list(backward_models_nonlinear.keys())\n",
    "df.columns = list(map(str.capitalize, [\"gray matter\", \"artery\", \"vein\", \"tumor\", \"average\"]))\n",
    "print(df)"
   ]
  },
  {
   "cell_type": "code",
   "execution_count": null,
   "id": "f66f6999",
   "metadata": {},
   "outputs": [],
   "source": [
    "df.to_csv(\n",
    "    config.eval_dir/\"simulated/backward/squared_concentration_error_table.txt\",\n",
    "    sep=\"\\t\",\n",
    "    index_label=\"Models\"\n",
    ")"
   ]
  },
  {
   "cell_type": "code",
   "execution_count": null,
   "id": "c368477e",
   "metadata": {},
   "outputs": [],
   "source": [
    "num_models = len(backward_models_mbll) + len(backward_models_nonlinear)\n",
    "scatter_table_data = np.empty((num_models + 1, 8)) #8 = 2 (a,b) * 4 (tissues)\n",
    "for tissue_idx, tissue in enumerate(tissue_types_long):\n",
    "    scatter_table_data[0, tissue_idx*2] = simulation_data[tissue][1][0, 1]\n",
    "    scatter_table_data[0, tissue_idx*2 + 1] = simulation_data[tissue][1][1, 1]\n",
    "    scatter_table_data[1:, (tissue_idx*2):(tissue_idx*2+2)] = reconstructed_scattering_params[tissue_idx, :, :, 1]\n",
    "\n",
    "df = pandas.DataFrame(scatter_table_data)\n",
    "df.index = [\"GT\", \"MBLL MCS\", \"MBLL Carp\", \"MBLL const.\", \"MBLL const GM\"] + list(backward_models_nonlinear.keys())\n",
    "df.index = [\"MC simulation\", \"MBLL+MC\", \"MBLL+$\\delta$-P1\", r\"MBLL, $\\bar{L}_p$=1\", r\"MBLL, gray matter $\\bar{L}_p$\", \"Jacques, specific\", \"Jacques, general\", \"$\\delta$-P1\", \"Inverse MC\", \"Inverse MC, sparse\"]\n",
    "df.columns = [\"a, cortex [cm$^{-1}$]\", \"b, cortex\", \"a, artery [cm$^{-1}$]\", \"b, artery \", \"a, vein [cm$^{-1}$]\", \"b, vein\", \"a, tumor [cm$^{-1}$]\", \"b, tumor\"]\n",
    "print(df)"
   ]
  },
  {
   "cell_type": "code",
   "execution_count": null,
   "id": "2dd9a5c5",
   "metadata": {},
   "outputs": [],
   "source": [
    "df.to_csv(\n",
    "    config.eval_dir/\"simulated/backward/scatter_values.txt\",\n",
    "    sep=\"\\t\",\n",
    "    index_label=\"Models\"\n",
    ")"
   ]
  },
  {
   "cell_type": "code",
   "execution_count": null,
   "id": "e2255b4b",
   "metadata": {},
   "outputs": [],
   "source": []
  }
 ],
 "metadata": {
  "kernelspec": {
   "display_name": "nonlinear-fit",
   "language": "python",
   "name": "python3"
  },
  "language_info": {
   "codemirror_mode": {
    "name": "ipython",
    "version": 3
   },
   "file_extension": ".py",
   "mimetype": "text/x-python",
   "name": "python",
   "nbconvert_exporter": "python",
   "pygments_lexer": "ipython3",
   "version": "3.11.11"
  }
 },
 "nbformat": 4,
 "nbformat_minor": 5
}
