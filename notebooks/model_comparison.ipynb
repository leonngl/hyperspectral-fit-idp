{
 "cells": [
  {
   "cell_type": "markdown",
   "metadata": {},
   "source": [
    "### Setup"
   ]
  },
  {
   "cell_type": "code",
   "execution_count": null,
   "metadata": {},
   "outputs": [],
   "source": [
    "%load_ext autoreload\n",
    "%autoreload 2\n",
    "#%matplotlib qt"
   ]
  },
  {
   "cell_type": "code",
   "execution_count": null,
   "metadata": {},
   "outputs": [],
   "source": [
    "import os\n",
    "import sys\n",
    "from pathlib import Path"
   ]
  },
  {
   "cell_type": "code",
   "execution_count": null,
   "metadata": {},
   "outputs": [],
   "source": [
    "src_dir = str(Path(os.getcwd()).parent / \"src\")\n",
    "sys.path.insert(1, src_dir)\n",
    "#os.environ[\"PYTHONPATH\"] = src_dir"
   ]
  },
  {
   "cell_type": "code",
   "execution_count": null,
   "metadata": {},
   "outputs": [],
   "source": [
    "import data_loader\n",
    "import calculate_concentr_diffs\n",
    "from concentr_diffs_pathlength import *\n",
    "from plotting import *\n",
    "from mbll_functions import *\n",
    "from utils import *\n",
    "from mcs_function import *\n",
    "from pathlib import Path\n",
    "import config\n",
    "import pickle\n",
    "from ray import tune\n",
    "\n",
    "import matplotlib.pyplot as plt"
   ]
  },
  {
   "cell_type": "code",
   "execution_count": null,
   "metadata": {},
   "outputs": [],
   "source": [
    "config.data_dir"
   ]
  },
  {
   "cell_type": "code",
   "execution_count": null,
   "metadata": {},
   "outputs": [],
   "source": [
    "config.spectra_dir"
   ]
  },
  {
   "cell_type": "markdown",
   "metadata": {},
   "source": [
    "Load Data"
   ]
  },
  {
   "cell_type": "code",
   "execution_count": null,
   "metadata": {},
   "outputs": [],
   "source": [
    "loader = data_loader.DataLoaderHELICOID(\n",
    "    config.dataset_dir,\n",
    "    wavelength_left_cut=520,\n",
    "    wavelength_right_cut=900\n",
    ")\n",
    "delta_A_gt_img = loader.get_attenuation_change(\"020-01\")\n",
    "A_gt_img = loader.get_attenuation(\"020-01\")\n",
    "\n",
    "foreground_mask = (loader.label_map != 4) # disgard background\n",
    "labeled_mask = (loader.label_map != 0)\n",
    "delta_A_gt_flat = delta_A_gt_img[:, foreground_mask]\n",
    "A_gt_flat = A_gt_img[:, foreground_mask]"
   ]
  },
  {
   "cell_type": "markdown",
   "metadata": {},
   "source": [
    "Plot absolute attenuation spectrum at reference_pixel"
   ]
  },
  {
   "cell_type": "code",
   "execution_count": null,
   "metadata": {},
   "outputs": [],
   "source": [
    "plot_spectrum(A_gt_img[:, loader.reference_pixel[0], loader.reference_pixel[1]], loader.wavelengths)"
   ]
  },
  {
   "cell_type": "markdown",
   "metadata": {},
   "source": [
    "Load attenuation spectra\n",
    "Keep in mind, that spectra for water and fat are given for pure solutions, in units of $cm^{-1}$. The \"concentrations\" for these molecules have to be given as percentages."
   ]
  },
  {
   "cell_type": "code",
   "execution_count": null,
   "metadata": {},
   "outputs": [],
   "source": [
    "mu_a_matrix = loader.absorption_coefs(\n",
    "    use_diff_oxycco=False,\n",
    "    use_water_and_fat=True\n",
    ")"
   ]
  },
  {
   "cell_type": "markdown",
   "metadata": {},
   "source": [
    "Plot molecule attenuation spectra"
   ]
  },
  {
   "cell_type": "code",
   "execution_count": null,
   "metadata": {},
   "outputs": [],
   "source": [
    "plot_spectra(mu_a_matrix.T, loader.wavelengths, [\"HbO2\", \"Hbb\", \"oxCCO\", \"redCCO\", \"Water\", \"Fat\"])"
   ]
  },
  {
   "cell_type": "markdown",
   "metadata": {},
   "source": [
    "Plot total attenuation coefficient and scattering for gray matter..."
   ]
  },
  {
   "cell_type": "code",
   "execution_count": null,
   "metadata": {},
   "outputs": [],
   "source": [
    "sample_wavelengths = np.arange(520, 900)\n",
    "plot_spectra(\n",
    "    (\n",
    "        loader.mu_a_func_gray_matter(sample_wavelengths),\n",
    "        loader.mu_a_func_blood_vessel(sample_wavelengths),\n",
    "        loader.mu_s_red_func_gray_matter(sample_wavelengths),\n",
    "        loader.mu_s_red_func_blood_vessel(sample_wavelengths)\n",
    "    ),\n",
    "    sample_wavelengths,\n",
    "    [\"absorption - cortex\", \"absorption - vessel\", \"scattering - cortex\", \"scattering - vessel\"]\n",
    ")"
   ]
  },
  {
   "cell_type": "markdown",
   "metadata": {},
   "source": [
    "### Fit MBLL with Pathlengths (for comparison)"
   ]
  },
  {
   "cell_type": "markdown",
   "metadata": {},
   "source": [
    "Load pathlenghts and interpolate them to used wavelengths"
   ]
  },
  {
   "cell_type": "code",
   "execution_count": null,
   "metadata": {},
   "outputs": [],
   "source": [
    "blood_vessel_mcs_data = np.loadtxt(config.pl_dir / \"blood_vessel_pure_mcs.txt\")\n",
    "gray_matter_mcs_data = np.loadtxt(config.pl_dir / \"gray_matter_mcs.txt\")\n",
    "\n",
    "blood_vessel_pl = np.interp(\n",
    "    loader.wavelengths,\n",
    "    blood_vessel_mcs_data[:, 0],\n",
    "    blood_vessel_mcs_data[:, -1]\n",
    ")\n",
    "\n",
    "gray_matter_pl = np.interp(\n",
    "    loader.wavelengths,\n",
    "    gray_matter_mcs_data[:, 0],\n",
    "    gray_matter_mcs_data[:, -1]\n",
    ")"
   ]
  },
  {
   "cell_type": "markdown",
   "metadata": {},
   "source": [
    "Compute total pathlength that will be used with MBLL, by dividing attenuation by mu_a"
   ]
  },
  {
   "cell_type": "code",
   "execution_count": null,
   "metadata": {},
   "outputs": [],
   "source": [
    "blood_vessel_pl_total = -np.log(blood_vessel_mcs_data[:, 3]) / blood_vessel_mcs_data[:, 1]\n",
    "blood_vessel_pl_total_interp = np.interp(\n",
    "    loader.wavelengths,\n",
    "    blood_vessel_mcs_data[:, 0],\n",
    "    blood_vessel_pl_total\n",
    ")\n",
    "\n",
    "gray_matter_pl_total = -np.log(gray_matter_mcs_data[:, 3]) / gray_matter_mcs_data[:, 1]\n",
    "gray_matter_pl_total_interp = np.interp(\n",
    "    loader.wavelengths,\n",
    "    gray_matter_mcs_data[:, 0],\n",
    "    gray_matter_pl_total\n",
    ")"
   ]
  },
  {
   "cell_type": "markdown",
   "metadata": {},
   "source": [
    "Plot pathlengths"
   ]
  },
  {
   "cell_type": "code",
   "execution_count": null,
   "metadata": {},
   "outputs": [],
   "source": [
    "plt.clf()\n",
    "plt.plot(gray_matter_mcs_data[:, 0], gray_matter_mcs_data[:, -1], label=\"Gray matter\")\n",
    "plt.plot(blood_vessel_mcs_data[:, 0], blood_vessel_mcs_data[:, -1], label=\"Blood vessel, pure\")\n",
    "#plt.plot(blood_vessel_mcs_data[:, 0], blood_vessel_mcs_data[:, -2], label=\"Blood vessel tissue, vessel layer\")\n",
    "#plt.plot(blood_vessel_mcs_data[:, 0], blood_vessel_mcs_data[:, -3], label=\"Blood vessel tissue, gray matter layer\")\n",
    "#plt.plot(blood_vessel_mcs_data[:, 0], blood_vessel_mcs_data[:, -1], label=\"Blood vessel, both layers\")\n",
    "plt.scatter(loader.wavelengths, gray_matter_pl, label=\"Gray matter, interpolated\")\n",
    "plt.scatter(loader.wavelengths, blood_vessel_pl, label=\"Blood vessel (total), interpolated\")\n",
    "plt.legend()\n",
    "plt.show()"
   ]
  },
  {
   "cell_type": "code",
   "execution_count": null,
   "metadata": {},
   "outputs": [],
   "source": []
  },
  {
   "cell_type": "markdown",
   "metadata": {},
   "source": [
    "Build pathlength map"
   ]
  },
  {
   "cell_type": "code",
   "execution_count": null,
   "metadata": {},
   "outputs": [],
   "source": [
    "pl_img = np.empty_like(delta_A_gt_img)\n",
    "pl_img[:, (loader.label_map <= 2)] = gray_matter_pl_total_interp[:, None]\n",
    "pl_img[:, (loader.label_map == 3)] = blood_vessel_pl_total_interp[:, None]\n",
    "pl_flat = pl_img[:, foreground_mask]\n",
    "pl_flat /= 10 # convert to cm"
   ]
  },
  {
   "cell_type": "markdown",
   "metadata": {},
   "source": [
    "#### Fit the MBLL model for attenuation change"
   ]
  },
  {
   "cell_type": "code",
   "execution_count": null,
   "metadata": {},
   "outputs": [],
   "source": [
    "delta_c_mbll_flat = concentr_fit_mbll(\n",
    "    delta_A_gt_flat,\n",
    "    loader.wavelengths,\n",
    "    mu_a_matrix,\n",
    "    pl_flat\n",
    ")\n",
    "\n",
    "delta_c_mbll_img = np.full((6, *A_gt_img.shape[1:]), np.NaN)\n",
    "delta_c_mbll_img[:, foreground_mask] = delta_c_mbll_flat"
   ]
  },
  {
   "cell_type": "markdown",
   "metadata": {},
   "source": [
    "Plot concentrations"
   ]
  },
  {
   "cell_type": "code",
   "execution_count": null,
   "metadata": {},
   "outputs": [],
   "source": [
    "plot_concentration_imgs(delta_c_mbll_img, loader.reference_pixel)"
   ]
  },
  {
   "cell_type": "markdown",
   "metadata": {},
   "source": [
    "Reconstruct spectra and compare to ground truth"
   ]
  },
  {
   "cell_type": "code",
   "execution_count": null,
   "metadata": {},
   "outputs": [],
   "source": [
    "delta_A_reconstr_mbll_flat = mbll_new(loader.wavelengths, mu_a_matrix, delta_c_mbll_flat, pl_flat)"
   ]
  },
  {
   "cell_type": "code",
   "execution_count": null,
   "metadata": {},
   "outputs": [],
   "source": [
    "idx = np.random.randint(0, A_gt_flat.shape[1])\n",
    "plot_spectra((delta_A_gt_flat[:, idx], delta_A_reconstr_mbll_flat[:, idx]), loader.wavelengths)\n",
    "plt.show()"
   ]
  },
  {
   "cell_type": "markdown",
   "metadata": {},
   "source": [
    "#### Fit the MBLL model for absolute attenuation"
   ]
  },
  {
   "cell_type": "code",
   "execution_count": null,
   "metadata": {},
   "outputs": [],
   "source": [
    "c_mbll_flat = concentr_fit_mbll(\n",
    "    A_gt_flat,\n",
    "    loader.wavelengths,\n",
    "    mu_a_matrix,\n",
    "    pl_flat\n",
    ")\n",
    "c_mbll_img = np.full((6, *A_gt_img.shape[1:]), np.NaN)\n",
    "c_mbll_img[:, foreground_mask] = c_mbll_flat"
   ]
  },
  {
   "cell_type": "markdown",
   "metadata": {},
   "source": [
    "Plot concentration images"
   ]
  },
  {
   "cell_type": "code",
   "execution_count": null,
   "metadata": {},
   "outputs": [],
   "source": [
    "plot_concentration_imgs(c_mbll_img)"
   ]
  },
  {
   "cell_type": "markdown",
   "metadata": {},
   "source": [
    "### Fit Jacques Model"
   ]
  },
  {
   "cell_type": "markdown",
   "metadata": {},
   "source": [
    "Load the m-parameters..."
   ]
  },
  {
   "cell_type": "code",
   "execution_count": null,
   "metadata": {},
   "outputs": [],
   "source": [
    "with open(config.m_params_path, \"rb\") as f:\n",
    "    m_params, A_vals, N_vals, dref_vals = pickle.load(f)"
   ]
  },
  {
   "cell_type": "markdown",
   "metadata": {},
   "source": [
    "Compare the Pathlength computed by Jacques to the Pathlengths from MCS..."
   ]
  },
  {
   "cell_type": "code",
   "execution_count": null,
   "metadata": {},
   "outputs": [],
   "source": [
    "g = 0.85\n",
    "sample_wavelengths = gray_matter_mcs_data[:, 0]\n",
    "mu_a_pl_compare = data_loader.DataLoader.mu_a_func_gray_matter(sample_wavelengths) / 10\n",
    "mu_s_red_pl_compare = data_loader.DataLoader.mu_s_red_func_gray_matter(sample_wavelengths) / 10"
   ]
  },
  {
   "cell_type": "code",
   "execution_count": null,
   "metadata": {},
   "outputs": [],
   "source": [
    "m1, m2, m3 = m_params[1.36]\n",
    "delta = 1 / np.sqrt(3 * mu_a_pl_compare * (mu_a_pl_compare + mu_s_red_pl_compare))\n",
    "A = (m1 + m2 * np.exp(np.log(mu_s_red_pl_compare / mu_a_pl_compare)/m3))\n",
    "pl_compare = A * delta "
   ]
  },
  {
   "cell_type": "code",
   "execution_count": null,
   "metadata": {},
   "outputs": [],
   "source": [
    "plt.plot(gray_matter_mcs_data[:, 0], pl_compare, label=\"Jacques Pathlength\")\n",
    "plt.plot(gray_matter_mcs_data[:, 0], gray_matter_mcs_data[:, -1], label=\"MCS Mean PL\")\n",
    "plt.plot(gray_matter_mcs_data[:, 0], gray_matter_pl_total, label=\"MCS PL for MBLL\")\n",
    "plt.legend()\n",
    "plt.show()\n"
   ]
  },
  {
   "cell_type": "code",
   "execution_count": null,
   "metadata": {},
   "outputs": [],
   "source": [
    "pl_compare / gray_matter_mcs_data[:, -1]"
   ]
  },
  {
   "cell_type": "markdown",
   "metadata": {},
   "source": [
    "Fitting the concentrations for every pixel in the image during hyperparameter search is infeasible, since optimization for one image (i.e. one hyperparameter combination) already takes about 20min. Instead we select all labeled, and a few random unlabeled pixels. Additionally, we make use of the ASHA scheduler, which terminates badly performing trials early."
   ]
  },
  {
   "cell_type": "code",
   "execution_count": null,
   "metadata": {},
   "outputs": [],
   "source": [
    "# every labeled pixel without background\n",
    "hyperparameter_search_mask = labeled_mask & foreground_mask\n",
    "# 500 random unlabeled pixels\n",
    "hyperparameter_search_mask[np.unravel_index(np.random.choice(np.flatnonzero(~labeled_mask), size=1000, replace=False), labeled_mask.shape)] = True"
   ]
  },
  {
   "cell_type": "code",
   "execution_count": null,
   "metadata": {},
   "outputs": [],
   "source": [
    "np.count_nonzero(hyperparameter_search_mask)"
   ]
  },
  {
   "cell_type": "markdown",
   "metadata": {},
   "source": [
    "Plot the mask..."
   ]
  },
  {
   "cell_type": "code",
   "execution_count": null,
   "metadata": {},
   "outputs": [],
   "source": [
    "\n",
    "# plotting an rgb image with mask doesn't work for some reason\n",
    "# hyperparameter_search_img = np.ma.masked_where(np.repeat(~hyperparameter_search_mask[..., None], 3, 2), loader.img)\n",
    "\n",
    "# convert to grayscale\n",
    "hyperparameter_search_img = np.dot(loader.img[..., :3], [0.2989, 0.5870, 0.1140])\n",
    "hyperparameter_search_img[~hyperparameter_search_mask] = np.nan\n",
    "\n",
    "plt.imshow(hyperparameter_search_img)"
   ]
  },
  {
   "cell_type": "markdown",
   "metadata": {},
   "source": [
    "#### Fit the Jacques model on attenuation change"
   ]
  },
  {
   "cell_type": "markdown",
   "metadata": {},
   "source": [
    "In contrast to the MBLL, when using the Jacques model for attenuation change, concentrations are not substracted to form concentration changes. Instead we have to provide absolute concentrations for the reference pixel and the pixel where concentrations are sought. Here, the reference pixel is a pixel of the gray matter area, and its concentrations are treated as hyperparameters. Concentrations of the pixel of interest are optimized using non-linear least-squares.\\\n",
    "For simplicity I assume an average refractive index of 1.38 and use the corresponding values for $m_i$."
   ]
  },
  {
   "cell_type": "code",
   "execution_count": null,
   "metadata": {},
   "outputs": [],
   "source": [
    "c_ref_gray_matter_fractions = loader.params_ref_gray_matter_fraction[:-2]\n",
    "\n",
    "param_space = [\n",
    "    # f_blood\n",
    "    tune.sample_from(lambda _: min(1, max(0, np.random.normal(c_ref_gray_matter_fractions[0], 0.1)))),\n",
    "    # st02\n",
    "    tune.sample_from(lambda _: min(1, max(0, np.random.normal(c_ref_gray_matter_fractions[1], 0.25)))),\n",
    "    # c_oxCCO\n",
    "    tune.sample_from(lambda _: max(0, np.random.normal(c_ref_gray_matter_fractions[2], 0.001))),\n",
    "    # c_redCCO\n",
    "    tune.sample_from(lambda _: max(0, np.random.normal(c_ref_gray_matter_fractions[3], 0.001))),\n",
    "    # f_water\n",
    "    tune.sample_from(lambda config: min(1 - config[\"0\"], max(0, np.random.normal(c_ref_gray_matter_fractions[4], 0.2)))),\n",
    "    # f_fat\n",
    "    tune.sample_from(lambda config: min(1 - config[\"0\"] - config[\"4\"], max(0, np.random.normal(c_ref_gray_matter_fractions[5], 0.2)))),\n",
    "    # a\n",
    "    tune.sample_from(lambda _: max(3, np.random.normal(loader.params_ref_gray_matter[-2], 10))),\n",
    "    # b\n",
    "    tune.sample_from(lambda _: max(0.1, np.random.normal(loader.params_ref_gray_matter[-1], 1))),\n",
    "    # m1\n",
    "    m_params[1.38][0],\n",
    "    # m2\n",
    "    m_params[1.38][1],\n",
    "    # m3\n",
    "    m_params[1.38][2]\n",
    "]"
   ]
  },
  {
   "cell_type": "code",
   "execution_count": null,
   "metadata": {},
   "outputs": [],
   "source": [
    "# general function that fits a model to data within hyperparameter search\n",
    "res_grid = concentr_fit_nonlinear_hyperparam_search(\n",
    "    delta_A_gt_img[:, hyperparameter_search_mask],\n",
    "    loader.wavelengths,\n",
    "    mu_a_matrix,\n",
    "    # the function that is fitted to data\n",
    "    A_jacques_blood_fraction,\n",
    "    # parameter space\n",
    "    param_space=param_space,\n",
    "    # boolean array indicating which parameters are constant (False) or optimized (True) per pixel\n",
    "    variables_bool_arr=np.array([True, True, True, True, True, True, True, True, False, False, False]),\n",
    "    left_bounds=np.array([0, 0, 0, 0, 0, 0, 3, 0.1]),\n",
    "    right_bounds=np.array([1, 1, 0.01, 0.01, 1, 1, 100, 10]),\n",
    "    is_delta_A=True, # specify that input data is attenuation change\n",
    "    # how many spectra are optimized before their average error is reported to ray tune\n",
    "    # high value -> less overhead due to less reports, but unpromising trials will be killed later\n",
    "    spectra_per_report=25,\n",
    "    # how many spectra are checked before trial can be killed\n",
    "    # will be rounded up to multiple of spectra_per_report\n",
    "    grace_spectra=50,\n",
    "    num_samples=500,\n",
    "    time_budget_s=200,\n",
    "    max_concurrent_trials=4\n",
    ")"
   ]
  },
  {
   "cell_type": "code",
   "execution_count": null,
   "metadata": {},
   "outputs": [],
   "source": [
    "score, configuration = None, None"
   ]
  },
  {
   "cell_type": "code",
   "execution_count": null,
   "metadata": {},
   "outputs": [],
   "source": [
    "score, configuration = get_best_values_from_res_grid(res_grid)\n",
    "print(score)\n",
    "print(configuration)"
   ]
  },
  {
   "cell_type": "markdown",
   "metadata": {},
   "source": [
    "Compare to previous config, use and store better ones..."
   ]
  },
  {
   "cell_type": "code",
   "execution_count": null,
   "metadata": {},
   "outputs": [],
   "source": [
    "score, configuration = compare_and_update_config(\n",
    "    score,\n",
    "    configuration,\n",
    "    config.result_dir / \"jacques_attenuation_change_hyperparams.pickle\",\n",
    "    overwrite_regardless = False\n",
    ")"
   ]
  },
  {
   "cell_type": "code",
   "execution_count": null,
   "metadata": {},
   "outputs": [],
   "source": [
    "result_path = config.result_dir / f\"jacques_attenuation_change/{loader.patient_id}\"\n",
    "os.makedirs(result_path.parent, exist_ok=True)"
   ]
  },
  {
   "cell_type": "markdown",
   "metadata": {},
   "source": [
    "Load previous results..."
   ]
  },
  {
   "cell_type": "code",
   "execution_count": null,
   "metadata": {},
   "outputs": [],
   "source": [
    "with open(result_path, \"rb\") as f:\n",
    "    params_jacques_delta_A_flat = pickle.load(f)"
   ]
  },
  {
   "cell_type": "markdown",
   "metadata": {},
   "source": [
    "Run the optimization for the entire image, with the best hyperparameters."
   ]
  },
  {
   "cell_type": "code",
   "execution_count": null,
   "metadata": {},
   "outputs": [],
   "source": [
    "# general function that fits a model to data\n",
    "params_jacques_delta_A_flat, errors = concentr_fit_nonlinear(\n",
    "    delta_A_gt_flat,\n",
    "    loader.wavelengths,\n",
    "    mu_a_matrix,\n",
    "    A_jacques_blood_fraction, # the function that is fitted to data\n",
    "    # reference values for all variables (concentrations first, then other parameters)\n",
    "    # f_blood, st02, c_oxCCO, c_redCCO, f_water, f_fat, a (scattering), b (scattering), m1, m2, m3\n",
    "    ref_vals=configuration,\n",
    "    #ref_vals = np.concatenate((loader.params_ref_gray_matter, m_params[1.38])),\n",
    "    # boolean array indicating which variables are constant (False) or optimized (True) per pixel\n",
    "    variables_bool_arr=np.array([True, True, True, True, True, True, True, True, False, False, False]),\n",
    "    left_bounds=np.array([0, 0, 0, 0, 0, 0, 3, 0.1, None, None, None]),\n",
    "    right_bounds=np.array([1, 1, 0.01, 0.01, 1, 1, 100, 10, None, None, None]),\n",
    "    is_delta_A=True, # specify that input data is attenuation change\n",
    "    progress_bar=True,\n",
    ")"
   ]
  },
  {
   "cell_type": "markdown",
   "metadata": {},
   "source": [
    "Store new results..."
   ]
  },
  {
   "cell_type": "code",
   "execution_count": null,
   "metadata": {},
   "outputs": [],
   "source": [
    "with open(result_path, \"wb\") as f:\n",
    "    pickle.dump(params_jacques_delta_A_flat, f)"
   ]
  },
  {
   "cell_type": "code",
   "execution_count": null,
   "metadata": {},
   "outputs": [],
   "source": [
    "# values are already blood fractions\n",
    "c_jacques_delta_A_flat = params_jacques_delta_A_flat[:6, :]\n",
    "c_jacques_delta_A_img = np.full((6, *A_gt_img.shape[1:]), np.NaN)\n",
    "c_jacques_delta_A_img[:, foreground_mask] = c_jacques_delta_A_flat[:6, :] # - config[:6, None]"
   ]
  },
  {
   "cell_type": "code",
   "execution_count": null,
   "metadata": {},
   "outputs": [],
   "source": [
    "plot_concentration_imgs(c_jacques_delta_A_img, loader.reference_pixel)"
   ]
  },
  {
   "cell_type": "markdown",
   "metadata": {},
   "source": [
    "Compare reconstructed spectra (change) to ground truth spectra."
   ]
  },
  {
   "cell_type": "code",
   "execution_count": null,
   "metadata": {},
   "outputs": [],
   "source": [
    "delta_A_reconstr_jacques = A_jacques_new(\n",
    "    loader.wavelengths,\n",
    "    mu_a_matrix,\n",
    "    c_jacques_delta_A_flat,\n",
    "    params_jacques_delta_A_flat[6, :],\n",
    "    params_jacques_delta_A_flat[7, :],\n",
    "    *m_params[1.38]\n",
    ") - A_jacques_blood_fraction(\n",
    "    loader.wavelengths,\n",
    "    mu_a_matrix,\n",
    "    configuration[:6, None],\n",
    "    *configuration[6:]\n",
    ")"
   ]
  },
  {
   "cell_type": "code",
   "execution_count": null,
   "metadata": {},
   "outputs": [],
   "source": [
    "idx = np.random.randint(0, A_gt_flat.shape[1])\n",
    "plot_spectra((delta_A_gt_flat[:, idx], delta_A_reconstr_jacques[:, idx]), loader.wavelengths)\n",
    "plt.show()"
   ]
  },
  {
   "cell_type": "markdown",
   "metadata": {},
   "source": [
    "Check if concurrent computation delivers same results as sequential optimization. Slight differences can occur, because concurrent processes cannot initialize NLLS for the first spectrum of their chunks with the results of the previous spectrum (since this is part of another process). To avoid this factor during comparison, both optimizations are instructed (update_init=False) to initialize every NLLS with the values of ref_vals."
   ]
  },
  {
   "cell_type": "code",
   "execution_count": null,
   "metadata": {},
   "outputs": [],
   "source": [
    "# general function that fits a model to data\n",
    "params_jacques_delta_A_flat_sequential, errors = concentr_fit_nonlinear(\n",
    "    delta_A_gt_img[:, hyperparameter_search_mask],\n",
    "    loader.wavelengths,\n",
    "    mu_a_matrix,\n",
    "    A_jacques_blood_fraction, # the function that is fitted to data\n",
    "    # reference values for all variables (concentrations first, then other parameters)\n",
    "    # f_blood, st02, c_oxCCO, c_redCCO, f_water, f_fat, a (scattering), b (scattering), m1, m2, m3\n",
    "    ref_vals=configuration,\n",
    "    #ref_vals = np.concatenate((loader.params_ref_gray_matter, m_params[1.38])),\n",
    "    # boolean array indicating which variables are constant (False) or optimized (True) per pixel\n",
    "    variables_bool_arr=np.array([True, True, True, True, True, True, True, True, False, False, False]),\n",
    "    left_bounds=np.array([0, 0, 0, 0, 0, 0, 3, 0.1, None, None, None]),\n",
    "    right_bounds=np.array([1, 1, 0.01, 0.01, 1, 1, 100, 10, None, None, None]),\n",
    "    is_delta_A=True, # specify that input data is attenuation change\n",
    "    progress_bar=True,\n",
    "    update_init=False\n",
    ")"
   ]
  },
  {
   "cell_type": "code",
   "execution_count": null,
   "metadata": {},
   "outputs": [],
   "source": [
    "# general function that fits a model to data\n",
    "params_jacques_delta_A_flat_concurrent, errors = concentr_fit_nonlinear_concurrent(\n",
    "    delta_A_gt_img[:, hyperparameter_search_mask],\n",
    "    loader.wavelengths,\n",
    "    mu_a_matrix,\n",
    "    A_jacques_blood_fraction, # the function that is fitted to data\n",
    "    # reference values for all variables (concentrations first, then other parameters)\n",
    "    # f_blood, st02, c_oxCCO, c_redCCO, f_water, f_fat, a (scattering), b (scattering), m1, m2, m3\n",
    "    ref_vals=configuration,\n",
    "    #ref_vals = np.concatenate((loader.params_ref_gray_matter, m_params[1.38])),\n",
    "    # boolean array indicating which variables are constant (False) or optimized (True) per pixel\n",
    "    variables_bool_arr=np.array([True, True, True, True, True, True, True, True, False, False, False]),\n",
    "    left_bounds=np.array([0, 0, 0, 0, 0, 0, 3, 0.1, None, None, None]),\n",
    "    right_bounds=np.array([1, 1, 0.01, 0.01, 1, 1, 100, 10, None, None, None]),\n",
    "    is_delta_A=True, # specify that input data is attenuation change\n",
    "    update_init=False,\n",
    "    num_processes=6\n",
    ")"
   ]
  },
  {
   "cell_type": "code",
   "execution_count": null,
   "metadata": {},
   "outputs": [],
   "source": [
    "diff = np.abs(params_jacques_delta_A_flat_concurrent - params_jacques_delta_A_flat_sequential)"
   ]
  },
  {
   "cell_type": "code",
   "execution_count": null,
   "metadata": {},
   "outputs": [],
   "source": [
    "np.allclose(diff, 0)"
   ]
  },
  {
   "cell_type": "code",
   "execution_count": null,
   "metadata": {},
   "outputs": [],
   "source": [
    "plt.imshow(diff, cmap='hot', interpolation='nearest', aspect=\"auto\")\n",
    "plt.colorbar()\n",
    "plt.show()"
   ]
  },
  {
   "cell_type": "markdown",
   "metadata": {},
   "source": [
    "#### Fit Jacques on Absolute Attenuation"
   ]
  },
  {
   "cell_type": "markdown",
   "metadata": {},
   "source": [
    "Here, we fit the Jacques model directly against absolute attenuation spectra. The reference values will only serve as an initialization for non-linear least squares for the first pixel. Therefore it should be reasonable to use reference values for gray matter. Subsequent pixels will be initialized with the result of their preceeding pixel."
   ]
  },
  {
   "cell_type": "code",
   "execution_count": null,
   "metadata": {},
   "outputs": [],
   "source": [
    "result_path = config.result_dir / f\"jacques_attenuation_absolute/{loader.patient_id}\"\n",
    "os.makedirs(result_path.parent, exist_ok=True)"
   ]
  },
  {
   "cell_type": "markdown",
   "metadata": {},
   "source": [
    "Load previous results..."
   ]
  },
  {
   "cell_type": "code",
   "execution_count": null,
   "metadata": {},
   "outputs": [],
   "source": [
    "with open(result_path, \"rb\") as f:\n",
    "    params_jacques_flat = pickle.load(f)"
   ]
  },
  {
   "cell_type": "code",
   "execution_count": null,
   "metadata": {},
   "outputs": [],
   "source": [
    "params_jacques_flat, errors = concentr_fit_nonlinear(\n",
    "    A_gt_flat,\n",
    "    loader.wavelengths,\n",
    "    mu_a_matrix,\n",
    "    A_jacques_blood_fraction,\n",
    "    ref_vals=np.concatenate((loader.params_ref_gray_matter_fraction, m_params[1.38])),\n",
    "    variables_bool_arr=np.array([True, True, True, True, True, True, True, True, False, False, False]),\n",
    "    left_bounds=np.array([0, 0, 0, 0, 0, 0, 3, 0.1, None, None, None]),\n",
    "    right_bounds=np.array([1, 1, 0.04, 0.04, 1, 1, 100, 10, None, None, None]),\n",
    "    is_delta_A=False,\n",
    "    progress_bar=True\n",
    ")"
   ]
  },
  {
   "cell_type": "markdown",
   "metadata": {},
   "source": [
    "Store new results..."
   ]
  },
  {
   "cell_type": "code",
   "execution_count": null,
   "metadata": {},
   "outputs": [],
   "source": [
    "with open(result_path, \"wb\") as f:\n",
    "    pickle.dump(params_jacques_flat, f)"
   ]
  },
  {
   "cell_type": "code",
   "execution_count": null,
   "metadata": {},
   "outputs": [],
   "source": [
    "c_jacques_flat = blood_fraction_to_concentrations(params_jacques_flat[:6, :])\n",
    "c_jacques_img = np.full((6, *A_gt_img.shape[1:]), np.NaN)\n",
    "c_jacques_img[:, foreground_mask] = params_jacques_flat[:6, :]"
   ]
  },
  {
   "cell_type": "code",
   "execution_count": null,
   "metadata": {},
   "outputs": [],
   "source": [
    "plot_concentration_imgs(c_jacques_img)"
   ]
  },
  {
   "cell_type": "markdown",
   "metadata": {},
   "source": [
    "#### Fit Jacques on Absolute Attenuation, constrain volume fractions"
   ]
  },
  {
   "cell_type": "markdown",
   "metadata": {},
   "source": [
    "Up until now, we only bounded the individual volume fraction of a molecule to be within $[0, 1]$, and the molar concentrations to be greater than 0. We can also add the constraint, that the sum of volume fractions is within $[0, 1]$. In this case, we can no longer optimize using a non-linear least squares solver like Levenberg Marquardt. As a result the optimization takes about 60x as long as without constraints."
   ]
  },
  {
   "cell_type": "code",
   "execution_count": null,
   "metadata": {},
   "outputs": [],
   "source": [
    "result_path = config.result_dir / f\"jacques_attenuation_absolute_constrained/{loader.patient_id}\"\n",
    "os.makedirs(result_path.parent, exist_ok=True)"
   ]
  },
  {
   "cell_type": "markdown",
   "metadata": {},
   "source": [
    "Load previous results..."
   ]
  },
  {
   "cell_type": "code",
   "execution_count": null,
   "metadata": {},
   "outputs": [],
   "source": [
    "with open(result_path, \"rb\") as f:\n",
    "    params_jacques_constrained_flat = pickle.load(f)"
   ]
  },
  {
   "cell_type": "code",
   "execution_count": null,
   "metadata": {},
   "outputs": [],
   "source": [
    "params_jacques_constrained_flat, errors = concentr_fit_nonlinear(\n",
    "    A_gt_img[:, foreground_mask & labeled_mask],\n",
    "    loader.wavelengths,\n",
    "    mu_a_matrix,\n",
    "    A_jacques_blood_fraction,\n",
    "    ref_vals=np.concatenate((c_ref_gray_matter_fractions, [40.8, 3.089], m_params[1.38])),\n",
    "    variables_bool_arr=np.array([True, True, True, True, True, True, True, True, False, False, False]),\n",
    "    left_bounds=np.array([0, 0, 0, 0, 0, 0, 3, 0.1, None, None, None]),\n",
    "    right_bounds=np.array([1, 1, 0.4, 0.4, 1, 1, 100, 10, None, None, None]),\n",
    "    is_delta_A=False,\n",
    "    # linear constraint given as (A (matrix), lb (vector), ub (vector))\n",
    "    # parameter vector x should satisfy\n",
    "    # lb <= A @ x <= ub\n",
    "    constraint=(np.array([[1, 0, 0, 0, 1, 1, 0, 0, 0, 0, 0]]), np.array([0]), np.array([1])),\n",
    "    progress_bar=True\n",
    ")"
   ]
  },
  {
   "cell_type": "markdown",
   "metadata": {},
   "source": [
    "Store new results..."
   ]
  },
  {
   "cell_type": "code",
   "execution_count": null,
   "metadata": {},
   "outputs": [],
   "source": [
    "with open(result_path, \"wb\") as f:\n",
    "    pickle.dump(params_jacques_flat, f)"
   ]
  },
  {
   "cell_type": "code",
   "execution_count": null,
   "metadata": {},
   "outputs": [],
   "source": [
    "c_jacques_constrained_flat = blood_fraction_to_concentrations(params_jacques_constrained_flat[:6, :])\n",
    "c_jacques_constrained_img = np.full((6, *A_gt_img.shape[1:]), np.NaN)\n",
    "c_jacques_constrained_img[:, foreground_mask & labeled_mask] = c_jacques_constrained_flat"
   ]
  },
  {
   "cell_type": "code",
   "execution_count": null,
   "metadata": {},
   "outputs": [],
   "source": [
    "plot_concentration_imgs(c_jacques_constrained_img)"
   ]
  },
  {
   "cell_type": "markdown",
   "metadata": {},
   "source": [
    "#### Fit Jacques on Absolute Attenuation spectra, with constant scattering, for blood region seprately"
   ]
  },
  {
   "cell_type": "markdown",
   "metadata": {},
   "source": [
    "Here we again fit the Jacques model to absolute attenuation spectra but assume constant scattering in blood vessel, and non-blood vessel areas. Here we can also take different $m_i$'s into account."
   ]
  },
  {
   "cell_type": "code",
   "execution_count": null,
   "metadata": {},
   "outputs": [],
   "source": [
    "result_path = config.result_dir / f\"jacques_attenuation_absolute_const_scatter/{loader.patient_id}\"\n",
    "os.makedirs(result_path.parent, exist_ok=True)"
   ]
  },
  {
   "cell_type": "markdown",
   "metadata": {},
   "source": [
    "Load previous results..."
   ]
  },
  {
   "cell_type": "code",
   "execution_count": null,
   "metadata": {},
   "outputs": [],
   "source": [
    "with open(result_path, \"rb\") as f:\n",
    "    c_jacques_blood_vessel_flat, c_jacques_gray_matter_flat = pickle.load(f)"
   ]
  },
  {
   "cell_type": "code",
   "execution_count": null,
   "metadata": {},
   "outputs": [],
   "source": [
    "c_jacques_blood_vessel_flat, errors = concentr_fit_nonlinear(\n",
    "    A_gt_img[:, (loader.label_map == 3)],\n",
    "    loader.wavelengths,\n",
    "    mu_a_matrix,\n",
    "    A_jacques_blood_fraction,\n",
    "    ref_vals=np.concatenate((loader.params_ref_blood_vessel_fraction, m_params[1.4])),\n",
    "    variables_bool_arr=np.array([True, True, True, True, True, True, False, False, False, False, False]),\n",
    "    left_bounds=np.array([0, 0, 0, 0, 0, 0, 0.5, 0.01, None, None, None]),\n",
    "    right_bounds=np.array([1, 1, 0.04, 0.04, 1, 1, 100, 10, None, None, None])\n",
    ")"
   ]
  },
  {
   "cell_type": "code",
   "execution_count": null,
   "metadata": {},
   "outputs": [],
   "source": [
    "c_jacques_gray_matter_flat, errors = concentr_fit_nonlinear(\n",
    "    A_gt_img[:, (loader.label_map <= 2)],\n",
    "    loader.wavelengths,\n",
    "    mu_a_matrix,\n",
    "    A_jacques_blood_fraction,\n",
    "    ref_vals=np.concatenate((loader.params_ref_gray_matter_fraction, m_params[1.38])),\n",
    "    variables_bool_arr=np.array([True, True, True, True, True, True, False, False, False, False, False]),\n",
    "    left_bounds=np.array([0, 0, 0, 0, 0, 0, 3, 0.1, None, None, None]),\n",
    "    right_bounds=np.array([1, 1, 0.04, 0.04, 1, 1, 100, 10, None, None, None]),\n",
    "    is_delta_A=False,\n",
    "    progress_bar=True\n",
    ")"
   ]
  },
  {
   "cell_type": "markdown",
   "metadata": {},
   "source": [
    "Store new results..."
   ]
  },
  {
   "cell_type": "code",
   "execution_count": null,
   "metadata": {},
   "outputs": [],
   "source": [
    "with open(result_path, \"wb\") as f:\n",
    "    pickle.dump((c_jacques_blood_vessel_flat, c_jacques_gray_matter_flat), f)"
   ]
  },
  {
   "cell_type": "code",
   "execution_count": null,
   "metadata": {},
   "outputs": [],
   "source": [
    "c_jacques_blood_vessel_flat = blood_fraction_to_concentrations(c_jacques_blood_vessel_flat)\n",
    "c_jacques_gray_matter_flat = blood_fraction_to_concentrations(c_jacques_gray_matter_flat)\n",
    "c_jacques_const_scatter_img = np.full((6, *A_gt_img.shape[1:]), np.NaN)\n",
    "c_jacques_const_scatter_img[:, (loader.label_map == 3)] = c_jacques_blood_vessel_flat\n",
    "c_jacques_const_scatter_img[:, (loader.label_map <= 2)] = c_jacques_gray_matter_flat"
   ]
  },
  {
   "cell_type": "code",
   "execution_count": null,
   "metadata": {},
   "outputs": [],
   "source": [
    "plot_concentration_imgs(c_jacques_const_scatter_img)"
   ]
  },
  {
   "cell_type": "markdown",
   "metadata": {},
   "source": [
    "We can also see how the (absolute) ground truth spectra compare to the reconstructed spectra."
   ]
  },
  {
   "cell_type": "code",
   "execution_count": null,
   "metadata": {},
   "outputs": [],
   "source": [
    "A_reconstr_jacques_const_scatter_img = np.empty_like(A_gt_img)\n",
    "A_reconstr_jacques_const_scatter_img[:, (loader.label_map == 3)] = A_jacques_new(\n",
    "    loader.wavelengths,\n",
    "    mu_a_matrix,\n",
    "    c_jacques_blood_vessel_flat,\n",
    "    22.0,\n",
    "    0.660,\n",
    "    *m_params[1.4]\n",
    ")\n",
    "A_reconstr_jacques_const_scatter_img[:, (loader.label_map <= 2)] = A_jacques_new(\n",
    "    loader.wavelengths,\n",
    "    mu_a_matrix,\n",
    "    c_jacques_gray_matter_flat,\n",
    "    40.8,\n",
    "    3.089,\n",
    "    *m_params[1.4]\n",
    ")\n",
    "A_reconstr_jacques_const_scatter_flat = A_reconstr_jacques_const_scatter_img[:, foreground_mask]"
   ]
  },
  {
   "cell_type": "code",
   "execution_count": null,
   "metadata": {},
   "outputs": [],
   "source": [
    "idx = np.random.randint(0, A_gt_flat.shape[1])\n",
    "plot_spectra((A_gt_flat[:, idx], A_reconstr_jacques_const_scatter_flat[:, idx]), loader.wavelengths)\n",
    "plt.show()"
   ]
  },
  {
   "cell_type": "markdown",
   "metadata": {},
   "source": [
    "# Fit the model from Monte Carlo Simulations"
   ]
  },
  {
   "cell_type": "code",
   "execution_count": null,
   "metadata": {},
   "outputs": [],
   "source": [
    "mcs_obj = SimulationAttenuation(config.mcs_func_path)"
   ]
  },
  {
   "cell_type": "code",
   "execution_count": null,
   "metadata": {},
   "outputs": [],
   "source": [
    "loader_mcs = data_loader.DataLoaderHELICOID(\n",
    "    config.dataset_dir,\n",
    "    wavelength_left_cut=520,\n",
    "    wavelength_right_cut=900,\n",
    "    num_wavelengths=24\n",
    ")\n",
    "delta_A_gt_mcs_img = loader_mcs.get_attenuation_change(\"020-01\")\n",
    "A_gt_mcs_img = loader_mcs.get_attenuation(\"020-01\")\n",
    "A_gt_mcs_flat = A_gt_mcs_img[:, foreground_mask]\n",
    "\n",
    "mu_a_matrix_mcs = loader_mcs.absorption_coefs(\n",
    "    use_diff_oxycco=False,\n",
    "    use_water_and_fat=True\n",
    ")"
   ]
  },
  {
   "cell_type": "code",
   "execution_count": null,
   "metadata": {},
   "outputs": [],
   "source": [
    "loader_mcs.wavelengths"
   ]
  },
  {
   "cell_type": "code",
   "execution_count": null,
   "metadata": {},
   "outputs": [],
   "source": [
    "A_gt_mcs_img[:, foreground_mask & labeled_mask].shape"
   ]
  },
  {
   "cell_type": "code",
   "execution_count": null,
   "metadata": {},
   "outputs": [],
   "source": [
    "A_gt_mcs_flat.shape"
   ]
  },
  {
   "cell_type": "markdown",
   "metadata": {},
   "source": [
    "### Fit the MC model on absolute attenuation"
   ]
  },
  {
   "cell_type": "code",
   "execution_count": null,
   "metadata": {},
   "outputs": [],
   "source": [
    "config.result_dir"
   ]
  },
  {
   "cell_type": "code",
   "execution_count": null,
   "metadata": {},
   "outputs": [],
   "source": [
    "result_path = config.result_dir / f\"mcs_attenuation_absolute/{loader_mcs.patient_id}\"\n",
    "os.makedirs(result_path.parent, exist_ok=True)"
   ]
  },
  {
   "cell_type": "markdown",
   "metadata": {},
   "source": [
    "Load previous results..."
   ]
  },
  {
   "cell_type": "code",
   "execution_count": null,
   "metadata": {},
   "outputs": [],
   "source": [
    "with open(result_path, \"rb\") as f:\n",
    "    params_mcs_flat = pickle.load(f)"
   ]
  },
  {
   "cell_type": "code",
   "execution_count": null,
   "metadata": {
    "scrolled": true
   },
   "outputs": [],
   "source": [
    "params_mcs_flat, errors = concentr_fit_nonlinear_concurrent(\n",
    "    A_gt_mcs_flat,\n",
    "    loader_mcs.wavelengths,\n",
    "    mu_a_matrix_mcs,\n",
    "    mcs_obj.A_blood_fraction,\n",
    "    jacobian=mcs_obj.jacobian_blood_fraction,\n",
    "    ref_vals=concentrations_to_blood_fraction(loader_mcs.params_ref_gray_matter),\n",
    "    variables_bool_arr=np.array([True, True, True, True, True, True, True, True]),\n",
    "    left_bounds=np.array([0, 0, 0, 0, 0, 0, 3, 0.1]),\n",
    "    right_bounds=np.array([1, 1, 0.04, 0.04, 1, 1, 100, 10]),\n",
    "    is_delta_A=False,\n",
    "    progress_bar=True,\n",
    "    num_processes=6\n",
    ")"
   ]
  },
  {
   "cell_type": "markdown",
   "metadata": {},
   "source": [
    "Store new results..."
   ]
  },
  {
   "cell_type": "code",
   "execution_count": null,
   "metadata": {},
   "outputs": [],
   "source": [
    "with open(result_path, \"wb\") as f:\n",
    "    pickle.dump(params_mcs_flat, f)"
   ]
  },
  {
   "cell_type": "code",
   "execution_count": null,
   "metadata": {},
   "outputs": [],
   "source": [
    "c_mcs_flat = blood_fraction_to_concentrations(params_mcs_flat[:6, :])\n",
    "c_mcs_img = np.full((6, *A_gt_img.shape[1:]), np.NaN)\n",
    "c_mcs_img[:, foreground_mask] = c_mcs_flat[:6, :]"
   ]
  },
  {
   "cell_type": "code",
   "execution_count": null,
   "metadata": {},
   "outputs": [],
   "source": [
    "plot_concentration_imgs(c_mcs_img)"
   ]
  },
  {
   "cell_type": "code",
   "execution_count": null,
   "metadata": {},
   "outputs": [],
   "source": []
  }
 ],
 "metadata": {
  "kernelspec": {
   "display_name": "nonlinear-fit",
   "language": "python",
   "name": "python3"
  },
  "language_info": {
   "codemirror_mode": {
    "name": "ipython",
    "version": 3
   },
   "file_extension": ".py",
   "mimetype": "text/x-python",
   "name": "python",
   "nbconvert_exporter": "python",
   "pygments_lexer": "ipython3",
   "version": "3.11.11"
  }
 },
 "nbformat": 4,
 "nbformat_minor": 4
}
