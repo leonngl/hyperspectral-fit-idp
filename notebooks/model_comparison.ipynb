{
 "cells": [
  {
   "cell_type": "markdown",
   "metadata": {},
   "source": [
    "### Setup"
   ]
  },
  {
   "cell_type": "code",
   "execution_count": 1,
   "metadata": {},
   "outputs": [],
   "source": [
    "%load_ext autoreload\n",
    "%autoreload 2\n",
    "%matplotlib qt"
   ]
  },
  {
   "cell_type": "code",
   "execution_count": 2,
   "metadata": {},
   "outputs": [],
   "source": [
    "import os\n",
    "import sys\n",
    "from pathlib import Path\n",
    "sys.path.insert(1, str(Path(os.getcwd()).parent / \"src\"))"
   ]
  },
  {
   "cell_type": "code",
   "execution_count": 3,
   "metadata": {},
   "outputs": [],
   "source": [
    "import data_loader\n",
    "import calculate_concentr_diffs\n",
    "from concentr_diffs_pathlength import *\n",
    "from plotting import *\n",
    "from mbll_functions import *\n",
    "from utils import *\n",
    "from mcs_function import *\n",
    "from pathlib import Path\n",
    "import config\n",
    "import pickle\n",
    "from ray import tune\n",
    "\n",
    "import matplotlib.pyplot as plt"
   ]
  },
  {
   "cell_type": "code",
   "execution_count": 4,
   "metadata": {},
   "outputs": [
    {
     "data": {
      "text/plain": [
       "PosixPath('/media/leon/T7/IDP')"
      ]
     },
     "execution_count": 4,
     "metadata": {},
     "output_type": "execute_result"
    }
   ],
   "source": [
    "config.data_path"
   ]
  },
  {
   "cell_type": "code",
   "execution_count": 5,
   "metadata": {},
   "outputs": [
    {
     "data": {
      "text/plain": [
       "PosixPath('/media/leon/Storage/Studium/Informatik/Master/3.Semester/IDP/nonlinear-fit/dataset/UCL-NIR-Spectra/spectra')"
      ]
     },
     "execution_count": 5,
     "metadata": {},
     "output_type": "execute_result"
    }
   ],
   "source": [
    "config.spectra_path"
   ]
  },
  {
   "cell_type": "markdown",
   "metadata": {},
   "source": [
    "Load Data"
   ]
  },
  {
   "cell_type": "code",
   "execution_count": 7,
   "metadata": {},
   "outputs": [
    {
     "name": "stderr",
     "output_type": "stream",
     "text": [
      "/home/leon/anaconda3/envs/idp/lib/python3.11/site-packages/spectral/io/envi.py:175: UserWarning: Parameters with non-lowercase names encountered and converted to lowercase. To retain source file parameter name capitalization, set spectral.settings.envi_support_nonlowercase_params to True.\n",
      "  warnings.warn(msg)\n"
     ]
    }
   ],
   "source": [
    "loader = data_loader.DataLoaderHELICOID(\n",
    "    config.dataset_dir,\n",
    "    wavelength_left_cut=520,\n",
    "    wavelength_right_cut=580\n",
    ")\n",
    "delta_A_gt_img = loader.get_attenuation_change(\"020-01\")\n",
    "A_gt_img = loader.get_attenuation(\"020-01\")\n",
    "\n",
    "foreground_mask = (loader.label_map != 4) # disgard background\n",
    "labeled_mask = (loader.label_map != 0)\n",
    "delta_A_gt_flat = delta_A_gt_img[:, foreground_mask]\n",
    "A_gt_flat = A_gt_img[:, foreground_mask]"
   ]
  },
  {
   "cell_type": "markdown",
   "metadata": {},
   "source": [
    "Plot absolute attenuation spectrum at reference_pixel"
   ]
  },
  {
   "cell_type": "code",
   "execution_count": 8,
   "metadata": {},
   "outputs": [
    {
     "name": "stderr",
     "output_type": "stream",
     "text": [
      "No artists with labels found to put in legend.  Note that artists whose label start with an underscore are ignored when legend() is called with no argument.\n"
     ]
    }
   ],
   "source": [
    "plot_spectrum(A_gt_img[:, loader.reference_pixel[0], loader.reference_pixel[1]], loader.wavelengths)"
   ]
  },
  {
   "cell_type": "markdown",
   "metadata": {},
   "source": [
    "Load attenuation spectra\n",
    "Keep in mind, that spectra for water and fat are given for pure solutions, in units of $cm^{-1}$. The \"concentrations\" for these molecules have to be given as percentages."
   ]
  },
  {
   "cell_type": "code",
   "execution_count": 9,
   "metadata": {},
   "outputs": [],
   "source": [
    "mu_a_matrix = loader.absorption_coefs(\n",
    "    use_diff_oxycco=False,\n",
    "    use_water_and_fat=True\n",
    ")"
   ]
  },
  {
   "cell_type": "markdown",
   "metadata": {},
   "source": [
    "Plot molecule attenuation spectra"
   ]
  },
  {
   "cell_type": "code",
   "execution_count": 10,
   "metadata": {},
   "outputs": [],
   "source": [
    "plot_spectra(mu_a_matrix.T, loader.wavelengths, [\"HbO2\", \"Hbb\", \"oxCCO\", \"redCCO\", \"Water\", \"Fat\"])"
   ]
  },
  {
   "cell_type": "markdown",
   "metadata": {},
   "source": [
    "Plot total attenuation coefficient and scattering for gray matter..."
   ]
  },
  {
   "cell_type": "code",
   "execution_count": 11,
   "metadata": {},
   "outputs": [],
   "source": [
    "plot_spectra(\n",
    "    (\n",
    "        mu_a_matrix @ loader.params_ref_gray_matter[:6],\n",
    "        loader.params_ref_gray_matter[-2] * np.power((loader.wavelengths/500), -loader.params_ref_gray_matter[-1])\n",
    "    ),\n",
    "    loader.wavelengths,\n",
    "    [\"absorption\", \"scattering\"]\n",
    ")"
   ]
  },
  {
   "cell_type": "markdown",
   "metadata": {},
   "source": [
    "### Fit MBLL with Pathlengths (for comparison)"
   ]
  },
  {
   "cell_type": "markdown",
   "metadata": {},
   "source": [
    "Load pathlenghts and interpolate them to used wavelengths"
   ]
  },
  {
   "cell_type": "code",
   "execution_count": 12,
   "metadata": {},
   "outputs": [],
   "source": [
    "blood_vessel_mcs_data = np.loadtxt(config.pl_dir / \"blood_vessel_mcs.txt\")\n",
    "gray_matter_mcs_data = np.loadtxt(config.pl_dir / \"gray_matter_mcs.txt\")\n",
    "\n",
    "blood_vessel_pl = np.interp(\n",
    "    loader.wavelengths,\n",
    "    blood_vessel_mcs_data[:, 0],\n",
    "    blood_vessel_mcs_data[:, -1]\n",
    ")\n",
    "\n",
    "gray_matter_pl = np.interp(\n",
    "    loader.wavelengths,\n",
    "    gray_matter_mcs_data[:, 0],\n",
    "    gray_matter_mcs_data[:, -1]\n",
    ")"
   ]
  },
  {
   "cell_type": "markdown",
   "metadata": {},
   "source": [
    "Plot pathlengths"
   ]
  },
  {
   "cell_type": "code",
   "execution_count": 13,
   "metadata": {},
   "outputs": [],
   "source": [
    "plt.clf()\n",
    "plt.plot(gray_matter_mcs_data[:, 0], gray_matter_mcs_data[:, -1], label=\"Gray matter\")\n",
    "plt.plot(blood_vessel_mcs_data[:, 0], blood_vessel_mcs_data[:, -2], label=\"Blood vessel tissue, vessel layer\")\n",
    "plt.plot(blood_vessel_mcs_data[:, 0], blood_vessel_mcs_data[:, -3], label=\"Blood vessel tissue, gray matter layer\")\n",
    "plt.plot(blood_vessel_mcs_data[:, 0], blood_vessel_mcs_data[:, -1], label=\"Blood vessel, both layers\")\n",
    "plt.scatter(loader.wavelengths, gray_matter_pl, label=\"Gray matter, interpolated\")\n",
    "plt.scatter(loader.wavelengths, blood_vessel_pl, label=\"Blood vessel (total), interpolated\")\n",
    "plt.legend()\n",
    "plt.show()"
   ]
  },
  {
   "cell_type": "markdown",
   "metadata": {},
   "source": [
    "Build pathlength map"
   ]
  },
  {
   "cell_type": "code",
   "execution_count": 14,
   "metadata": {},
   "outputs": [],
   "source": [
    "pl_img = np.empty_like(delta_A_gt_img)\n",
    "pl_img[:, (loader.label_map <= 2)] = gray_matter_pl[:, None]\n",
    "pl_img[:, (loader.label_map == 3)] = blood_vessel_pl[:, None]\n",
    "pl_flat = pl_img[:, foreground_mask]\n",
    "pl_flat /= 10 # convert to cm"
   ]
  },
  {
   "cell_type": "markdown",
   "metadata": {},
   "source": [
    "#### Fit the MBLL model for attenuation change"
   ]
  },
  {
   "cell_type": "code",
   "execution_count": 15,
   "metadata": {},
   "outputs": [],
   "source": [
    "delta_c_mbll_flat = concentr_fit_mbll(\n",
    "    delta_A_gt_flat,\n",
    "    loader.wavelengths,\n",
    "    mu_a_matrix,\n",
    "    pl_flat\n",
    ")\n",
    "\n",
    "delta_c_mbll_img = np.full((6, *A_gt_img.shape[1:]), np.NaN)\n",
    "delta_c_mbll_img[:, foreground_mask] = delta_c_mbll_flat"
   ]
  },
  {
   "cell_type": "markdown",
   "metadata": {},
   "source": [
    "Plot concentrations"
   ]
  },
  {
   "cell_type": "code",
   "execution_count": 16,
   "metadata": {},
   "outputs": [],
   "source": [
    "plot_concentration_imgs(delta_c_mbll_img, loader.reference_pixel)"
   ]
  },
  {
   "cell_type": "markdown",
   "metadata": {},
   "source": [
    "Reconstruct spectra and compare to ground truth"
   ]
  },
  {
   "cell_type": "code",
   "execution_count": 17,
   "metadata": {},
   "outputs": [],
   "source": [
    "delta_A_reconstr_mbll_flat = mbll_new(loader.wavelengths, mu_a_matrix, delta_c_mbll_flat, pl_flat)"
   ]
  },
  {
   "cell_type": "code",
   "execution_count": 18,
   "metadata": {},
   "outputs": [
    {
     "name": "stderr",
     "output_type": "stream",
     "text": [
      "No artists with labels found to put in legend.  Note that artists whose label start with an underscore are ignored when legend() is called with no argument.\n"
     ]
    }
   ],
   "source": [
    "idx = np.random.randint(0, A_gt_flat.shape[1])\n",
    "plot_spectra((delta_A_gt_flat[:, idx], delta_A_reconstr_mbll_flat[:, idx]), loader.wavelengths)\n",
    "plt.show()"
   ]
  },
  {
   "cell_type": "markdown",
   "metadata": {},
   "source": [
    "#### Fit the MBLL model for absolute attenuation"
   ]
  },
  {
   "cell_type": "code",
   "execution_count": 19,
   "metadata": {},
   "outputs": [],
   "source": [
    "c_mbll_flat = concentr_fit_mbll(\n",
    "    A_gt_flat,\n",
    "    loader.wavelengths,\n",
    "    mu_a_matrix,\n",
    "    pl_flat\n",
    ")\n",
    "c_mbll_img = np.full((6, *A_gt_img.shape[1:]), np.NaN)\n",
    "c_mbll_img[:, foreground_mask] = c_mbll_flat"
   ]
  },
  {
   "cell_type": "markdown",
   "metadata": {},
   "source": [
    "Plot concentration images"
   ]
  },
  {
   "cell_type": "code",
   "execution_count": 20,
   "metadata": {},
   "outputs": [],
   "source": [
    "plot_concentration_imgs(c_mbll_img)"
   ]
  },
  {
   "cell_type": "markdown",
   "metadata": {},
   "source": [
    "### Fit Jacques Model"
   ]
  },
  {
   "cell_type": "markdown",
   "metadata": {},
   "source": [
    "Load the m-parameters..."
   ]
  },
  {
   "cell_type": "code",
   "execution_count": 21,
   "metadata": {},
   "outputs": [],
   "source": [
    "with open(config.m_params_path, \"rb\") as f:\n",
    "    m_params, N_vals, A_vals = pickle.load(f)"
   ]
  },
  {
   "cell_type": "markdown",
   "metadata": {},
   "source": [
    "Compare the Pathlength computed by Jacques to the Pathlengths from MCS..."
   ]
  },
  {
   "cell_type": "code",
   "execution_count": 22,
   "metadata": {},
   "outputs": [],
   "source": [
    "g = 0.85\n",
    "loader_pl_compare = data_loader.DataLoader(None, 450, 900)\n",
    "mu_a_matrix_pl_compare = loader_pl_compare.absorption_coefs(use_diff_oxycco=False, use_water_and_fat=True)\n",
    "mu_a_vector_pl_compare = mu_a_matrix_pl_compare @ loader_pl_compare.params_ref_gray_matter[:6] / 10 # MCX PLs were stored in mm\n",
    "mu_a_pl_compare_func = lambda wl: mu_a_vector_pl_compare[np.array(wl).astype(int) - loader_pl_compare.wavelength_left_cut]\n",
    "mu_s_red_pl_compare_func = lambda wl: loader_pl_compare.params_ref_gray_matter[-2] * np.power((wl/500), -loader_pl_compare.params_ref_gray_matter[-1]) \n",
    "sample_wavelengths = np.arange(loader_pl_compare.wavelength_left_cut, loader_pl_compare.wavelength_right_cut)\n",
    "mu_a_pl_compare = mu_a_pl_compare_func(sample_wavelengths)\n",
    "mu_s_pl_compare = mu_s_red_pl_compare_func(sample_wavelengths)\n",
    "mu_s_red_pl_compare = mu_s_pl_compare * (1-g)"
   ]
  },
  {
   "cell_type": "code",
   "execution_count": 23,
   "metadata": {},
   "outputs": [],
   "source": [
    "m1, m2, m3 = m_params[1.38]\n",
    "delta = 1 / np.sqrt(3 * mu_a_pl_compare * (mu_a_pl_compare + mu_s_red_pl_compare))\n",
    "A = (m1 + m2 * np.exp(np.log(mu_s_red_pl_compare / mu_a_pl_compare)/m3))\n",
    "pl_compare = A * delta"
   ]
  },
  {
   "cell_type": "code",
   "execution_count": 24,
   "metadata": {},
   "outputs": [],
   "source": [
    "plt.plot(sample_wavelengths, pl_compare / 2, label=\"Jacques Pathlength\")\n",
    "plt.plot(gray_matter_mcs_data[:, 0], gray_matter_mcs_data[:, -1], label=\"Gray matter\")\n",
    "plt.legend()\n",
    "plt.show()\n"
   ]
  },
  {
   "cell_type": "markdown",
   "metadata": {},
   "source": [
    "Fitting the concentrations for every pixel in the image during hyperparameter search is infeasible, since optimization for one image (i.e. one hyperparameter combination) already takes about 20min. Instead we select all labeled, and a few random unlabeled pixels. Additionally, we make use of the ASHA scheduler, which terminates badly performing trials early."
   ]
  },
  {
   "cell_type": "code",
   "execution_count": 25,
   "metadata": {},
   "outputs": [],
   "source": [
    "# every labeled pixel without background\n",
    "hyperparameter_search_mask = labeled_mask & foreground_mask\n",
    "# 500 random unlabeled pixels\n",
    "hyperparameter_search_mask[np.unravel_index(np.random.choice(np.flatnonzero(~labeled_mask), size=1000), labeled_mask.shape)] = True"
   ]
  },
  {
   "cell_type": "markdown",
   "metadata": {},
   "source": [
    "Plot the mask..."
   ]
  },
  {
   "cell_type": "code",
   "execution_count": 26,
   "metadata": {},
   "outputs": [
    {
     "data": {
      "text/plain": [
       "<matplotlib.image.AxesImage at 0x7f25cbc83e90>"
      ]
     },
     "execution_count": 26,
     "metadata": {},
     "output_type": "execute_result"
    }
   ],
   "source": [
    "\n",
    "# plotting an rgb image with mask doesn't work for some reason\n",
    "# hyperparameter_search_img = np.ma.masked_where(np.repeat(~hyperparameter_search_mask[..., None], 3, 2), loader.img)\n",
    "\n",
    "# convert to grayscale\n",
    "hyperparameter_search_img = np.dot(loader.img[..., :3], [0.2989, 0.5870, 0.1140])\n",
    "hyperparameter_search_img[~hyperparameter_search_mask] = np.nan\n",
    "\n",
    "plt.imshow(hyperparameter_search_img)"
   ]
  },
  {
   "cell_type": "markdown",
   "metadata": {},
   "source": [
    "#### Fit the Jacques model on attenuation change"
   ]
  },
  {
   "cell_type": "markdown",
   "metadata": {},
   "source": [
    "In contrast to the MBLL, when using the Jacques model for attenuation change, concentrations are not substracted to form concentration changes. Instead we have to provide absolute concentrations for the reference pixel and the pixel where concentrations are sought. Here, the reference pixel is a pixel of the gray matter area, and its concentrations are treated as hyperparameters. Concentrations of the pixel of interest are optimized using non-linear least-squares.\\\n",
    "For simplicity I assume an average refractive index of 1.38 and use the corresponding values for $m_i$."
   ]
  },
  {
   "cell_type": "code",
   "execution_count": 27,
   "metadata": {},
   "outputs": [],
   "source": [
    "c_ref_gray_matter_fractions = loader.params_ref_gray_matter_fraction[:-2]\n",
    "\n",
    "param_space = [\n",
    "    # f_blood\n",
    "    tune.sample_from(lambda _: min(1, max(0, np.random.normal(c_ref_gray_matter_fractions[0], 0.1)))),\n",
    "    # st02\n",
    "    tune.sample_from(lambda _: min(1, max(0, np.random.normal(c_ref_gray_matter_fractions[1], 0.25)))),\n",
    "    # c_oxCCO\n",
    "    tune.sample_from(lambda _: max(0, np.random.normal(c_ref_gray_matter_fractions[2], 0.001))),\n",
    "    # c_redCCO\n",
    "    tune.sample_from(lambda _: max(0, np.random.normal(c_ref_gray_matter_fractions[3], 0.001))),\n",
    "    # f_water\n",
    "    tune.sample_from(lambda config: min(1 - config[\"0\"], max(0, np.random.normal(c_ref_gray_matter_fractions[4], 0.2)))),\n",
    "    # f_fat\n",
    "    tune.sample_from(lambda config: min(1 - config[\"0\"] - config[\"4\"], max(0, np.random.normal(c_ref_gray_matter_fractions[5], 0.2)))),\n",
    "    # a\n",
    "    tune.sample_from(lambda _: max(3, np.random.normal(loader.params_ref_gray_matter[-2], 10))),\n",
    "    # b\n",
    "    tune.sample_from(lambda _: max(0.1, np.random.normal(loader.params_ref_gray_matter[-1], 1))),\n",
    "    # m1\n",
    "    m_params[1.38][0],\n",
    "    # m2\n",
    "    m_params[1.38][1],\n",
    "    # m3\n",
    "    m_params[1.38][2]\n",
    "]"
   ]
  },
  {
   "cell_type": "code",
   "execution_count": 28,
   "metadata": {},
   "outputs": [],
   "source": [
    "score, config = None, None"
   ]
  },
  {
   "cell_type": "code",
   "execution_count": 29,
   "metadata": {},
   "outputs": [
    {
     "ename": "KeyboardInterrupt",
     "evalue": "",
     "output_type": "error",
     "traceback": [
      "\u001b[0;31m---------------------------------------------------------------------------\u001b[0m",
      "\u001b[0;31mKeyboardInterrupt\u001b[0m                         Traceback (most recent call last)",
      "Cell \u001b[0;32mIn[29], line 2\u001b[0m\n\u001b[1;32m      1\u001b[0m \u001b[38;5;66;03m# general function that fits a model to data within hyperparameter search\u001b[39;00m\n\u001b[0;32m----> 2\u001b[0m res_grid \u001b[38;5;241m=\u001b[39m concentr_fit_nonlinear_hyperparam_search(\n\u001b[1;32m      3\u001b[0m     delta_A_gt_img[:, hyperparameter_search_mask],\n\u001b[1;32m      4\u001b[0m     loader\u001b[38;5;241m.\u001b[39mwavelengths,\n\u001b[1;32m      5\u001b[0m     mu_a_matrix,\n\u001b[1;32m      6\u001b[0m     \u001b[38;5;66;03m# the function that is fitted to data\u001b[39;00m\n\u001b[1;32m      7\u001b[0m     A_jacques_blood_fraction,\n\u001b[1;32m      8\u001b[0m     \u001b[38;5;66;03m# parameter space\u001b[39;00m\n\u001b[1;32m      9\u001b[0m     param_space\u001b[38;5;241m=\u001b[39mparam_space,\n\u001b[1;32m     10\u001b[0m     \u001b[38;5;66;03m# boolean array indicating which parameters are constant (False) or optimized (True) per pixel\u001b[39;00m\n\u001b[1;32m     11\u001b[0m     variables_bool_arr\u001b[38;5;241m=\u001b[39mnp\u001b[38;5;241m.\u001b[39marray([\u001b[38;5;28;01mTrue\u001b[39;00m, \u001b[38;5;28;01mTrue\u001b[39;00m, \u001b[38;5;28;01mTrue\u001b[39;00m, \u001b[38;5;28;01mTrue\u001b[39;00m, \u001b[38;5;28;01mTrue\u001b[39;00m, \u001b[38;5;28;01mTrue\u001b[39;00m, \u001b[38;5;28;01mTrue\u001b[39;00m, \u001b[38;5;28;01mTrue\u001b[39;00m, \u001b[38;5;28;01mFalse\u001b[39;00m, \u001b[38;5;28;01mFalse\u001b[39;00m, \u001b[38;5;28;01mFalse\u001b[39;00m]),\n\u001b[1;32m     12\u001b[0m     left_bounds\u001b[38;5;241m=\u001b[39mnp\u001b[38;5;241m.\u001b[39marray([\u001b[38;5;241m0\u001b[39m, \u001b[38;5;241m0\u001b[39m, \u001b[38;5;241m0\u001b[39m, \u001b[38;5;241m0\u001b[39m, \u001b[38;5;241m0\u001b[39m, \u001b[38;5;241m0\u001b[39m, \u001b[38;5;241m3\u001b[39m, \u001b[38;5;241m0.1\u001b[39m]),\n\u001b[1;32m     13\u001b[0m     right_bounds\u001b[38;5;241m=\u001b[39mnp\u001b[38;5;241m.\u001b[39marray([\u001b[38;5;241m1\u001b[39m, \u001b[38;5;241m1\u001b[39m, \u001b[38;5;241m0.01\u001b[39m, \u001b[38;5;241m0.01\u001b[39m, \u001b[38;5;241m1\u001b[39m, \u001b[38;5;241m1\u001b[39m, \u001b[38;5;241m100\u001b[39m, \u001b[38;5;241m10\u001b[39m]),\n\u001b[1;32m     14\u001b[0m     is_delta_A\u001b[38;5;241m=\u001b[39m\u001b[38;5;28;01mTrue\u001b[39;00m, \u001b[38;5;66;03m# specify that input data is attenuation change\u001b[39;00m\n\u001b[1;32m     15\u001b[0m     \u001b[38;5;66;03m# how many spectra are optimized before their average error is reported to ray tune\u001b[39;00m\n\u001b[1;32m     16\u001b[0m     \u001b[38;5;66;03m# high value -> less overhead due to less reports, but unpromising trials will be killed later\u001b[39;00m\n\u001b[1;32m     17\u001b[0m     spectra_per_report\u001b[38;5;241m=\u001b[39m\u001b[38;5;241m25\u001b[39m,\n\u001b[1;32m     18\u001b[0m     \u001b[38;5;66;03m# how many spectra are checked before trial can be killed\u001b[39;00m\n\u001b[1;32m     19\u001b[0m     \u001b[38;5;66;03m# will be rounded up to multiple of spectra_per_report\u001b[39;00m\n\u001b[1;32m     20\u001b[0m     grace_spectra\u001b[38;5;241m=\u001b[39m\u001b[38;5;241m50\u001b[39m,\n\u001b[1;32m     21\u001b[0m     num_samples\u001b[38;5;241m=\u001b[39m\u001b[38;5;241m500\u001b[39m,\n\u001b[1;32m     22\u001b[0m     time_budget_s\u001b[38;5;241m=\u001b[39m\u001b[38;5;241m600\u001b[39m\n\u001b[1;32m     23\u001b[0m )\n",
      "File \u001b[0;32m/media/leon/Storage/Studium/Informatik/Master/3.Semester/IDP/nonlinear-fit/src/concentr_diffs_pathlength.py:217\u001b[0m, in \u001b[0;36mconcentr_fit_nonlinear_hyperparam_search\u001b[0;34m(A, wavelengths, mu_a, func, param_space, variables_bool_arr, left_bounds, right_bounds, is_delta_A, spectra_per_report, grace_spectra, num_samples, time_budget_s)\u001b[0m\n\u001b[1;32m    200\u001b[0m scheduler \u001b[38;5;241m=\u001b[39m tune\u001b[38;5;241m.\u001b[39mschedulers\u001b[38;5;241m.\u001b[39mAsyncHyperBandScheduler(\n\u001b[1;32m    201\u001b[0m     \u001b[38;5;66;03m# metric and mode are passed down from TuneConfig\u001b[39;00m\n\u001b[1;32m    202\u001b[0m     grace_period\u001b[38;5;241m=\u001b[39mgrace_reports,\n\u001b[1;32m    203\u001b[0m     max_t\u001b[38;5;241m=\u001b[39mnum_spectra\n\u001b[1;32m    204\u001b[0m )\n\u001b[1;32m    205\u001b[0m tuner \u001b[38;5;241m=\u001b[39m tune\u001b[38;5;241m.\u001b[39mTuner(\n\u001b[1;32m    206\u001b[0m     trainable,\n\u001b[1;32m    207\u001b[0m     param_space\u001b[38;5;241m=\u001b[39mparam_space_dict,\n\u001b[0;32m   (...)\u001b[0m\n\u001b[1;32m    214\u001b[0m     )\n\u001b[1;32m    215\u001b[0m )\n\u001b[0;32m--> 217\u001b[0m res \u001b[38;5;241m=\u001b[39m tuner\u001b[38;5;241m.\u001b[39mfit()\n\u001b[1;32m    218\u001b[0m \u001b[38;5;28;01mreturn\u001b[39;00m res\n",
      "File \u001b[0;32m~/anaconda3/envs/idp/lib/python3.11/site-packages/ray/tune/tuner.py:377\u001b[0m, in \u001b[0;36mTuner.fit\u001b[0;34m(self)\u001b[0m\n\u001b[1;32m    345\u001b[0m \u001b[38;5;250m\u001b[39m\u001b[38;5;124;03m\"\"\"Executes hyperparameter tuning job as configured and returns result.\u001b[39;00m\n\u001b[1;32m    346\u001b[0m \n\u001b[1;32m    347\u001b[0m \u001b[38;5;124;03mFailure handling:\u001b[39;00m\n\u001b[0;32m   (...)\u001b[0m\n\u001b[1;32m    373\u001b[0m \u001b[38;5;124;03m    RayTaskError: If user-provided trainable raises an exception\u001b[39;00m\n\u001b[1;32m    374\u001b[0m \u001b[38;5;124;03m\"\"\"\u001b[39;00m\n\u001b[1;32m    376\u001b[0m \u001b[38;5;28;01mif\u001b[39;00m \u001b[38;5;129;01mnot\u001b[39;00m \u001b[38;5;28mself\u001b[39m\u001b[38;5;241m.\u001b[39m_is_ray_client:\n\u001b[0;32m--> 377\u001b[0m     \u001b[38;5;28;01mreturn\u001b[39;00m \u001b[38;5;28mself\u001b[39m\u001b[38;5;241m.\u001b[39m_local_tuner\u001b[38;5;241m.\u001b[39mfit()\n\u001b[1;32m    378\u001b[0m \u001b[38;5;28;01melse\u001b[39;00m:\n\u001b[1;32m    379\u001b[0m     (\n\u001b[1;32m    380\u001b[0m         progress_reporter,\n\u001b[1;32m    381\u001b[0m         string_queue,\n\u001b[1;32m    382\u001b[0m     ) \u001b[38;5;241m=\u001b[39m \u001b[38;5;28mself\u001b[39m\u001b[38;5;241m.\u001b[39m_prepare_remote_tuner_for_jupyter_progress_reporting()\n",
      "File \u001b[0;32m~/anaconda3/envs/idp/lib/python3.11/site-packages/ray/tune/impl/tuner_internal.py:476\u001b[0m, in \u001b[0;36mTunerInternal.fit\u001b[0;34m(self)\u001b[0m\n\u001b[1;32m    474\u001b[0m param_space \u001b[38;5;241m=\u001b[39m copy\u001b[38;5;241m.\u001b[39mdeepcopy(\u001b[38;5;28mself\u001b[39m\u001b[38;5;241m.\u001b[39mparam_space)\n\u001b[1;32m    475\u001b[0m \u001b[38;5;28;01mif\u001b[39;00m \u001b[38;5;129;01mnot\u001b[39;00m \u001b[38;5;28mself\u001b[39m\u001b[38;5;241m.\u001b[39m_is_restored:\n\u001b[0;32m--> 476\u001b[0m     analysis \u001b[38;5;241m=\u001b[39m \u001b[38;5;28mself\u001b[39m\u001b[38;5;241m.\u001b[39m_fit_internal(trainable, param_space)\n\u001b[1;32m    477\u001b[0m \u001b[38;5;28;01melse\u001b[39;00m:\n\u001b[1;32m    478\u001b[0m     analysis \u001b[38;5;241m=\u001b[39m \u001b[38;5;28mself\u001b[39m\u001b[38;5;241m.\u001b[39m_fit_resume(trainable, param_space)\n",
      "File \u001b[0;32m~/anaconda3/envs/idp/lib/python3.11/site-packages/ray/tune/impl/tuner_internal.py:592\u001b[0m, in \u001b[0;36mTunerInternal._fit_internal\u001b[0;34m(self, trainable, param_space)\u001b[0m\n\u001b[1;32m    579\u001b[0m \u001b[38;5;250m\u001b[39m\u001b[38;5;124;03m\"\"\"Fitting for a fresh Tuner.\"\"\"\u001b[39;00m\n\u001b[1;32m    580\u001b[0m args \u001b[38;5;241m=\u001b[39m {\n\u001b[1;32m    581\u001b[0m     \u001b[38;5;241m*\u001b[39m\u001b[38;5;241m*\u001b[39m\u001b[38;5;28mself\u001b[39m\u001b[38;5;241m.\u001b[39m_get_tune_run_arguments(trainable),\n\u001b[1;32m    582\u001b[0m     \u001b[38;5;241m*\u001b[39m\u001b[38;5;241m*\u001b[39m\u001b[38;5;28mdict\u001b[39m(\n\u001b[0;32m   (...)\u001b[0m\n\u001b[1;32m    590\u001b[0m     \u001b[38;5;241m*\u001b[39m\u001b[38;5;241m*\u001b[39m\u001b[38;5;28mself\u001b[39m\u001b[38;5;241m.\u001b[39m_tuner_kwargs,\n\u001b[1;32m    591\u001b[0m }\n\u001b[0;32m--> 592\u001b[0m analysis \u001b[38;5;241m=\u001b[39m run(\n\u001b[1;32m    593\u001b[0m     \u001b[38;5;241m*\u001b[39m\u001b[38;5;241m*\u001b[39margs,\n\u001b[1;32m    594\u001b[0m )\n\u001b[1;32m    595\u001b[0m \u001b[38;5;28mself\u001b[39m\u001b[38;5;241m.\u001b[39mclear_remote_string_queue()\n\u001b[1;32m    596\u001b[0m \u001b[38;5;28;01mreturn\u001b[39;00m analysis\n",
      "File \u001b[0;32m~/anaconda3/envs/idp/lib/python3.11/site-packages/ray/tune/tune.py:527\u001b[0m, in \u001b[0;36mrun\u001b[0;34m(run_or_experiment, name, metric, mode, stop, time_budget_s, config, resources_per_trial, num_samples, storage_path, storage_filesystem, search_alg, scheduler, checkpoint_config, verbose, progress_reporter, log_to_file, trial_name_creator, trial_dirname_creator, sync_config, export_formats, max_failures, fail_fast, restore, resume, resume_config, reuse_actors, raise_on_failed_trial, callbacks, max_concurrent_trials, keep_checkpoints_num, checkpoint_score_attr, checkpoint_freq, checkpoint_at_end, chdir_to_trial_dir, local_dir, _remote, _remote_string_queue, _entrypoint)\u001b[0m\n\u001b[1;32m    520\u001b[0m \u001b[38;5;28;01melse\u001b[39;00m:\n\u001b[1;32m    521\u001b[0m     error_message_map \u001b[38;5;241m=\u001b[39m {\n\u001b[1;32m    522\u001b[0m         \u001b[38;5;124m\"\u001b[39m\u001b[38;5;124mentrypoint\u001b[39m\u001b[38;5;124m\"\u001b[39m: \u001b[38;5;124m\"\u001b[39m\u001b[38;5;124mtune.run(...)\u001b[39m\u001b[38;5;124m\"\u001b[39m,\n\u001b[1;32m    523\u001b[0m         \u001b[38;5;124m\"\u001b[39m\u001b[38;5;124msearch_space_arg\u001b[39m\u001b[38;5;124m\"\u001b[39m: \u001b[38;5;124m\"\u001b[39m\u001b[38;5;124mconfig\u001b[39m\u001b[38;5;124m\"\u001b[39m,\n\u001b[1;32m    524\u001b[0m         \u001b[38;5;124m\"\u001b[39m\u001b[38;5;124mrestore_entrypoint\u001b[39m\u001b[38;5;124m\"\u001b[39m: \u001b[38;5;124m\"\u001b[39m\u001b[38;5;124mtune.run(..., resume=True)\u001b[39m\u001b[38;5;124m\"\u001b[39m,\n\u001b[1;32m    525\u001b[0m     }\n\u001b[0;32m--> 527\u001b[0m _ray_auto_init(entrypoint\u001b[38;5;241m=\u001b[39merror_message_map[\u001b[38;5;124m\"\u001b[39m\u001b[38;5;124mentrypoint\u001b[39m\u001b[38;5;124m\"\u001b[39m])\n\u001b[1;32m    529\u001b[0m \u001b[38;5;28;01mif\u001b[39;00m _remote \u001b[38;5;129;01mis\u001b[39;00m \u001b[38;5;28;01mNone\u001b[39;00m:\n\u001b[1;32m    530\u001b[0m     _remote \u001b[38;5;241m=\u001b[39m ray\u001b[38;5;241m.\u001b[39mutil\u001b[38;5;241m.\u001b[39mclient\u001b[38;5;241m.\u001b[39mray\u001b[38;5;241m.\u001b[39mis_connected()\n",
      "File \u001b[0;32m~/anaconda3/envs/idp/lib/python3.11/site-packages/ray/tune/tune.py:252\u001b[0m, in \u001b[0;36m_ray_auto_init\u001b[0;34m(entrypoint)\u001b[0m\n\u001b[1;32m    250\u001b[0m     logger\u001b[38;5;241m.\u001b[39minfo(\u001b[38;5;124m\"\u001b[39m\u001b[38;5;124m'\u001b[39m\u001b[38;5;124mTUNE_DISABLE_AUTO_INIT=1\u001b[39m\u001b[38;5;124m'\u001b[39m\u001b[38;5;124m detected.\u001b[39m\u001b[38;5;124m\"\u001b[39m)\n\u001b[1;32m    251\u001b[0m \u001b[38;5;28;01melif\u001b[39;00m \u001b[38;5;129;01mnot\u001b[39;00m ray\u001b[38;5;241m.\u001b[39mis_initialized():\n\u001b[0;32m--> 252\u001b[0m     ray\u001b[38;5;241m.\u001b[39minit()\n\u001b[1;32m    253\u001b[0m     logger\u001b[38;5;241m.\u001b[39minfo(\n\u001b[1;32m    254\u001b[0m         \u001b[38;5;124m\"\u001b[39m\u001b[38;5;124mInitializing Ray automatically. \u001b[39m\u001b[38;5;124m\"\u001b[39m\n\u001b[1;32m    255\u001b[0m         \u001b[38;5;124m\"\u001b[39m\u001b[38;5;124mFor cluster usage or custom Ray initialization, \u001b[39m\u001b[38;5;124m\"\u001b[39m\n\u001b[1;32m    256\u001b[0m         \u001b[38;5;124mf\u001b[39m\u001b[38;5;124m\"\u001b[39m\u001b[38;5;124mcall `ray.init(...)` before `\u001b[39m\u001b[38;5;132;01m{\u001b[39;00mentrypoint\u001b[38;5;132;01m}\u001b[39;00m\u001b[38;5;124m`.\u001b[39m\u001b[38;5;124m\"\u001b[39m\n\u001b[1;32m    257\u001b[0m     )\n",
      "File \u001b[0;32m~/anaconda3/envs/idp/lib/python3.11/site-packages/ray/_private/client_mode_hook.py:103\u001b[0m, in \u001b[0;36mclient_mode_hook.<locals>.wrapper\u001b[0;34m(*args, **kwargs)\u001b[0m\n\u001b[1;32m    101\u001b[0m     \u001b[38;5;28;01mif\u001b[39;00m func\u001b[38;5;241m.\u001b[39m\u001b[38;5;18m__name__\u001b[39m \u001b[38;5;241m!=\u001b[39m \u001b[38;5;124m\"\u001b[39m\u001b[38;5;124minit\u001b[39m\u001b[38;5;124m\"\u001b[39m \u001b[38;5;129;01mor\u001b[39;00m is_client_mode_enabled_by_default:\n\u001b[1;32m    102\u001b[0m         \u001b[38;5;28;01mreturn\u001b[39;00m \u001b[38;5;28mgetattr\u001b[39m(ray, func\u001b[38;5;241m.\u001b[39m\u001b[38;5;18m__name__\u001b[39m)(\u001b[38;5;241m*\u001b[39margs, \u001b[38;5;241m*\u001b[39m\u001b[38;5;241m*\u001b[39mkwargs)\n\u001b[0;32m--> 103\u001b[0m \u001b[38;5;28;01mreturn\u001b[39;00m func(\u001b[38;5;241m*\u001b[39margs, \u001b[38;5;241m*\u001b[39m\u001b[38;5;241m*\u001b[39mkwargs)\n",
      "File \u001b[0;32m~/anaconda3/envs/idp/lib/python3.11/site-packages/ray/_private/worker.py:1663\u001b[0m, in \u001b[0;36minit\u001b[0;34m(address, num_cpus, num_gpus, resources, labels, object_store_memory, local_mode, ignore_reinit_error, include_dashboard, dashboard_host, dashboard_port, job_config, configure_logging, logging_level, logging_format, logging_config, log_to_driver, namespace, runtime_env, storage, **kwargs)\u001b[0m\n\u001b[1;32m   1630\u001b[0m     ray_params \u001b[38;5;241m=\u001b[39m ray\u001b[38;5;241m.\u001b[39m_private\u001b[38;5;241m.\u001b[39mparameter\u001b[38;5;241m.\u001b[39mRayParams(\n\u001b[1;32m   1631\u001b[0m         node_ip_address\u001b[38;5;241m=\u001b[39m_node_ip_address,\n\u001b[1;32m   1632\u001b[0m         object_ref_seed\u001b[38;5;241m=\u001b[39m\u001b[38;5;28;01mNone\u001b[39;00m,\n\u001b[0;32m   (...)\u001b[0m\n\u001b[1;32m   1657\u001b[0m         node_name\u001b[38;5;241m=\u001b[39m_node_name,\n\u001b[1;32m   1658\u001b[0m     )\n\u001b[1;32m   1659\u001b[0m     \u001b[38;5;66;03m# Start the Ray processes. We set shutdown_at_exit=False because we\u001b[39;00m\n\u001b[1;32m   1660\u001b[0m     \u001b[38;5;66;03m# shutdown the node in the ray.shutdown call that happens in the atexit\u001b[39;00m\n\u001b[1;32m   1661\u001b[0m     \u001b[38;5;66;03m# handler. We still spawn a reaper process in case the atexit handler\u001b[39;00m\n\u001b[1;32m   1662\u001b[0m     \u001b[38;5;66;03m# isn't called.\u001b[39;00m\n\u001b[0;32m-> 1663\u001b[0m     _global_node \u001b[38;5;241m=\u001b[39m ray\u001b[38;5;241m.\u001b[39m_private\u001b[38;5;241m.\u001b[39mnode\u001b[38;5;241m.\u001b[39mNode(\n\u001b[1;32m   1664\u001b[0m         ray_params\u001b[38;5;241m=\u001b[39mray_params,\n\u001b[1;32m   1665\u001b[0m         head\u001b[38;5;241m=\u001b[39m\u001b[38;5;28;01mTrue\u001b[39;00m,\n\u001b[1;32m   1666\u001b[0m         shutdown_at_exit\u001b[38;5;241m=\u001b[39m\u001b[38;5;28;01mFalse\u001b[39;00m,\n\u001b[1;32m   1667\u001b[0m         spawn_reaper\u001b[38;5;241m=\u001b[39m\u001b[38;5;28;01mTrue\u001b[39;00m,\n\u001b[1;32m   1668\u001b[0m         ray_init_cluster\u001b[38;5;241m=\u001b[39m\u001b[38;5;28;01mTrue\u001b[39;00m,\n\u001b[1;32m   1669\u001b[0m     )\n\u001b[1;32m   1670\u001b[0m \u001b[38;5;28;01melse\u001b[39;00m:\n\u001b[1;32m   1671\u001b[0m     \u001b[38;5;66;03m# In this case, we are connecting to an existing cluster.\u001b[39;00m\n\u001b[1;32m   1672\u001b[0m     \u001b[38;5;28;01mif\u001b[39;00m num_cpus \u001b[38;5;129;01mis\u001b[39;00m \u001b[38;5;129;01mnot\u001b[39;00m \u001b[38;5;28;01mNone\u001b[39;00m \u001b[38;5;129;01mor\u001b[39;00m num_gpus \u001b[38;5;129;01mis\u001b[39;00m \u001b[38;5;129;01mnot\u001b[39;00m \u001b[38;5;28;01mNone\u001b[39;00m:\n",
      "File \u001b[0;32m~/anaconda3/envs/idp/lib/python3.11/site-packages/ray/_private/node.py:339\u001b[0m, in \u001b[0;36mNode.__init__\u001b[0;34m(self, ray_params, head, shutdown_at_exit, spawn_reaper, connect_only, default_worker, ray_init_cluster)\u001b[0m\n\u001b[1;32m    337\u001b[0m \u001b[38;5;66;03m# we should update the address info after the node has been started\u001b[39;00m\n\u001b[1;32m    338\u001b[0m \u001b[38;5;28;01mtry\u001b[39;00m:\n\u001b[0;32m--> 339\u001b[0m     ray\u001b[38;5;241m.\u001b[39m_private\u001b[38;5;241m.\u001b[39mservices\u001b[38;5;241m.\u001b[39mwait_for_node(\n\u001b[1;32m    340\u001b[0m         \u001b[38;5;28mself\u001b[39m\u001b[38;5;241m.\u001b[39mgcs_address,\n\u001b[1;32m    341\u001b[0m         \u001b[38;5;28mself\u001b[39m\u001b[38;5;241m.\u001b[39m_plasma_store_socket_name,\n\u001b[1;32m    342\u001b[0m     )\n\u001b[1;32m    343\u001b[0m \u001b[38;5;28;01mexcept\u001b[39;00m \u001b[38;5;167;01mTimeoutError\u001b[39;00m \u001b[38;5;28;01mas\u001b[39;00m te:\n\u001b[1;32m    344\u001b[0m     \u001b[38;5;28;01mraise\u001b[39;00m \u001b[38;5;167;01mException\u001b[39;00m(\n\u001b[1;32m    345\u001b[0m         \u001b[38;5;124m\"\u001b[39m\u001b[38;5;124mThe current node timed out during startup. This \u001b[39m\u001b[38;5;124m\"\u001b[39m\n\u001b[1;32m    346\u001b[0m         \u001b[38;5;124m\"\u001b[39m\u001b[38;5;124mcould happen because some of the Ray processes \u001b[39m\u001b[38;5;124m\"\u001b[39m\n\u001b[1;32m    347\u001b[0m         \u001b[38;5;124m\"\u001b[39m\u001b[38;5;124mfailed to startup.\u001b[39m\u001b[38;5;124m\"\u001b[39m\n\u001b[1;32m    348\u001b[0m     ) \u001b[38;5;28;01mfrom\u001b[39;00m \u001b[38;5;21;01mte\u001b[39;00m\n",
      "File \u001b[0;32m~/anaconda3/envs/idp/lib/python3.11/site-packages/ray/_private/services.py:463\u001b[0m, in \u001b[0;36mwait_for_node\u001b[0;34m(gcs_address, node_plasma_store_socket_name, timeout)\u001b[0m\n\u001b[1;32m    461\u001b[0m         \u001b[38;5;28;01mreturn\u001b[39;00m\n\u001b[1;32m    462\u001b[0m     \u001b[38;5;28;01melse\u001b[39;00m:\n\u001b[0;32m--> 463\u001b[0m         time\u001b[38;5;241m.\u001b[39msleep(\u001b[38;5;241m0.1\u001b[39m)\n\u001b[1;32m    464\u001b[0m \u001b[38;5;28;01mraise\u001b[39;00m \u001b[38;5;167;01mTimeoutError\u001b[39;00m(\n\u001b[1;32m    465\u001b[0m     \u001b[38;5;124mf\u001b[39m\u001b[38;5;124m\"\u001b[39m\u001b[38;5;124mTimed out after \u001b[39m\u001b[38;5;132;01m{\u001b[39;00mtimeout\u001b[38;5;132;01m}\u001b[39;00m\u001b[38;5;124m seconds while waiting for node to startup. \u001b[39m\u001b[38;5;124m\"\u001b[39m\n\u001b[1;32m    466\u001b[0m     \u001b[38;5;124mf\u001b[39m\u001b[38;5;124m\"\u001b[39m\u001b[38;5;124mDid not find socket name \u001b[39m\u001b[38;5;132;01m{\u001b[39;00mnode_plasma_store_socket_name\u001b[38;5;132;01m}\u001b[39;00m\u001b[38;5;124m in the list \u001b[39m\u001b[38;5;124m\"\u001b[39m\n\u001b[1;32m    467\u001b[0m     \u001b[38;5;124m\"\u001b[39m\u001b[38;5;124mof object store socket names.\u001b[39m\u001b[38;5;124m\"\u001b[39m\n\u001b[1;32m    468\u001b[0m )\n",
      "\u001b[0;31mKeyboardInterrupt\u001b[0m: "
     ]
    }
   ],
   "source": [
    "# general function that fits a model to data within hyperparameter search\n",
    "res_grid = concentr_fit_nonlinear_hyperparam_search(\n",
    "    delta_A_gt_img[:, hyperparameter_search_mask],\n",
    "    loader.wavelengths,\n",
    "    mu_a_matrix,\n",
    "    # the function that is fitted to data\n",
    "    A_jacques_blood_fraction,\n",
    "    # parameter space\n",
    "    param_space=param_space,\n",
    "    # boolean array indicating which parameters are constant (False) or optimized (True) per pixel\n",
    "    variables_bool_arr=np.array([True, True, True, True, True, True, True, True, False, False, False]),\n",
    "    left_bounds=np.array([0, 0, 0, 0, 0, 0, 3, 0.1]),\n",
    "    right_bounds=np.array([1, 1, 0.01, 0.01, 1, 1, 100, 10]),\n",
    "    is_delta_A=True, # specify that input data is attenuation change\n",
    "    # how many spectra are optimized before their average error is reported to ray tune\n",
    "    # high value -> less overhead due to less reports, but unpromising trials will be killed later\n",
    "    spectra_per_report=25,\n",
    "    # how many spectra are checked before trial can be killed\n",
    "    # will be rounded up to multiple of spectra_per_report\n",
    "    grace_spectra=50,\n",
    "    num_samples=500,\n",
    "    time_budget_s=600\n",
    ")"
   ]
  },
  {
   "cell_type": "code",
   "execution_count": 30,
   "metadata": {},
   "outputs": [
    {
     "ename": "NameError",
     "evalue": "name 'res_grid' is not defined",
     "output_type": "error",
     "traceback": [
      "\u001b[0;31m---------------------------------------------------------------------------\u001b[0m",
      "\u001b[0;31mNameError\u001b[0m                                 Traceback (most recent call last)",
      "Cell \u001b[0;32mIn[30], line 1\u001b[0m\n\u001b[0;32m----> 1\u001b[0m score, config \u001b[38;5;241m=\u001b[39m get_best_values_from_res_grid(res_grid)\n\u001b[1;32m      2\u001b[0m \u001b[38;5;28mprint\u001b[39m(score)\n\u001b[1;32m      3\u001b[0m \u001b[38;5;28mprint\u001b[39m(config)\n",
      "\u001b[0;31mNameError\u001b[0m: name 'res_grid' is not defined"
     ]
    }
   ],
   "source": [
    "score, config = get_best_values_from_res_grid(res_grid)\n",
    "print(score)\n",
    "print(config)"
   ]
  },
  {
   "cell_type": "markdown",
   "metadata": {},
   "source": [
    "Compare to previous config, use and store better ones..."
   ]
  },
  {
   "cell_type": "code",
   "execution_count": 32,
   "metadata": {},
   "outputs": [
    {
     "ename": "RuntimeError",
     "evalue": "Current and previous scores are None.",
     "output_type": "error",
     "traceback": [
      "\u001b[0;31m---------------------------------------------------------------------------\u001b[0m",
      "\u001b[0;31mRuntimeError\u001b[0m                              Traceback (most recent call last)",
      "Cell \u001b[0;32mIn[32], line 1\u001b[0m\n\u001b[0;32m----> 1\u001b[0m score, config \u001b[38;5;241m=\u001b[39m compare_and_update_config(\n\u001b[1;32m      2\u001b[0m     score,\n\u001b[1;32m      3\u001b[0m     config,\n\u001b[1;32m      4\u001b[0m     result_dir \u001b[38;5;241m/\u001b[39m \u001b[38;5;124m\"\u001b[39m\u001b[38;5;124mjacques_attenuation_change_hyperparams.pickle\u001b[39m\u001b[38;5;124m\"\u001b[39m,\n\u001b[1;32m      5\u001b[0m     overwrite_regardless \u001b[38;5;241m=\u001b[39m \u001b[38;5;28;01mFalse\u001b[39;00m\n\u001b[1;32m      6\u001b[0m )\n",
      "File \u001b[0;32m/media/leon/Storage/Studium/Informatik/Master/3.Semester/IDP/nonlinear-fit/src/utils.py:28\u001b[0m, in \u001b[0;36mcompare_and_update_config\u001b[0;34m(score, config, checkpoint_path, overwrite_regardless)\u001b[0m\n\u001b[1;32m     26\u001b[0m     \u001b[38;5;28mprint\u001b[39m(\u001b[38;5;124m\"\u001b[39m\u001b[38;5;124mUpdated parameters. Using new ones.\u001b[39m\u001b[38;5;124m\"\u001b[39m)\n\u001b[1;32m     27\u001b[0m \u001b[38;5;28;01melif\u001b[39;00m score \u001b[38;5;129;01mis\u001b[39;00m \u001b[38;5;28;01mNone\u001b[39;00m \u001b[38;5;129;01mand\u001b[39;00m prev_score \u001b[38;5;129;01mis\u001b[39;00m \u001b[38;5;28;01mNone\u001b[39;00m:\n\u001b[0;32m---> 28\u001b[0m     \u001b[38;5;28;01mraise\u001b[39;00m \u001b[38;5;167;01mRuntimeError\u001b[39;00m(\u001b[38;5;124m\"\u001b[39m\u001b[38;5;124mCurrent and previous scores are None.\u001b[39m\u001b[38;5;124m\"\u001b[39m)\n\u001b[1;32m     29\u001b[0m \u001b[38;5;28;01melse\u001b[39;00m:\n\u001b[1;32m     30\u001b[0m     score, config \u001b[38;5;241m=\u001b[39m prev_score, prev_config\n",
      "\u001b[0;31mRuntimeError\u001b[0m: Current and previous scores are None."
     ]
    }
   ],
   "source": [
    "score, config = compare_and_update_config(\n",
    "    score,\n",
    "    config,\n",
    "    config.result_dir / \"jacques_attenuation_change_hyperparams.pickle\",\n",
    "    overwrite_regardless = False\n",
    ")"
   ]
  },
  {
   "cell_type": "code",
   "execution_count": 35,
   "metadata": {},
   "outputs": [],
   "source": [
    "result_path = config.result_dir / f\"jacques_attenuation_change/{loader.patient_id}\"\n",
    "os.makedirs(result_path.parent, exist_ok=True)"
   ]
  },
  {
   "cell_type": "markdown",
   "metadata": {},
   "source": [
    "Load previous results..."
   ]
  },
  {
   "cell_type": "code",
   "execution_count": 36,
   "metadata": {},
   "outputs": [],
   "source": [
    "with open(result_path, \"rb\") as f:\n",
    "    params_jacques_delta_A_flat = pickle.load(f)"
   ]
  },
  {
   "cell_type": "markdown",
   "metadata": {},
   "source": [
    "Run the optimization for the entire image, with the best hyperparameters."
   ]
  },
  {
   "cell_type": "code",
   "execution_count": 57,
   "metadata": {},
   "outputs": [
    {
     "name": "stdout",
     "output_type": "stream",
     "text": [
      "Note: Bounds for parameters 8, 9, 10 will be ignored, as they are not optimized.\n"
     ]
    },
    {
     "ename": "KeyboardInterrupt",
     "evalue": "",
     "output_type": "error",
     "traceback": [
      "\u001b[0;31m---------------------------------------------------------------------------\u001b[0m",
      "\u001b[0;31mKeyboardInterrupt\u001b[0m                         Traceback (most recent call last)",
      "Cell \u001b[0;32mIn[57], line 2\u001b[0m\n\u001b[1;32m      1\u001b[0m \u001b[38;5;66;03m# general function that fits a model to data\u001b[39;00m\n\u001b[0;32m----> 2\u001b[0m params_jacques_delta_A_flat, errors \u001b[38;5;241m=\u001b[39m concentr_fit_nonlinear(\n\u001b[1;32m      3\u001b[0m     delta_A_gt_flat,\n\u001b[1;32m      4\u001b[0m     loader\u001b[38;5;241m.\u001b[39mwavelengths,\n\u001b[1;32m      5\u001b[0m     mu_a_matrix,\n\u001b[1;32m      6\u001b[0m     A_jacques_blood_fraction, \u001b[38;5;66;03m# the function that is fitted to data\u001b[39;00m\n\u001b[1;32m      7\u001b[0m     \u001b[38;5;66;03m# reference values for all variables (concentrations first, then other parameters)\u001b[39;00m\n\u001b[1;32m      8\u001b[0m     \u001b[38;5;66;03m# f_blood, st02, c_oxCCO, c_redCCO, f_water, f_fat, a (scattering), b (scattering), m1, m2, m3\u001b[39;00m\n\u001b[1;32m      9\u001b[0m     ref_vals\u001b[38;5;241m=\u001b[39mconfig,\n\u001b[1;32m     10\u001b[0m     \u001b[38;5;66;03m# boolean array indicating which variables are constant (False) or optimized (True) per pixel\u001b[39;00m\n\u001b[1;32m     11\u001b[0m     variables_bool_arr\u001b[38;5;241m=\u001b[39mnp\u001b[38;5;241m.\u001b[39marray([\u001b[38;5;28;01mTrue\u001b[39;00m, \u001b[38;5;28;01mTrue\u001b[39;00m, \u001b[38;5;28;01mTrue\u001b[39;00m, \u001b[38;5;28;01mTrue\u001b[39;00m, \u001b[38;5;28;01mTrue\u001b[39;00m, \u001b[38;5;28;01mTrue\u001b[39;00m, \u001b[38;5;28;01mTrue\u001b[39;00m, \u001b[38;5;28;01mTrue\u001b[39;00m, \u001b[38;5;28;01mFalse\u001b[39;00m, \u001b[38;5;28;01mFalse\u001b[39;00m, \u001b[38;5;28;01mFalse\u001b[39;00m]),\n\u001b[1;32m     12\u001b[0m     left_bounds\u001b[38;5;241m=\u001b[39mnp\u001b[38;5;241m.\u001b[39marray([\u001b[38;5;241m0\u001b[39m, \u001b[38;5;241m0\u001b[39m, \u001b[38;5;241m0\u001b[39m, \u001b[38;5;241m0\u001b[39m, \u001b[38;5;241m0\u001b[39m, \u001b[38;5;241m0\u001b[39m, \u001b[38;5;241m3\u001b[39m, \u001b[38;5;241m0.1\u001b[39m, \u001b[38;5;28;01mNone\u001b[39;00m, \u001b[38;5;28;01mNone\u001b[39;00m, \u001b[38;5;28;01mNone\u001b[39;00m]),\n\u001b[1;32m     13\u001b[0m     right_bounds\u001b[38;5;241m=\u001b[39mnp\u001b[38;5;241m.\u001b[39marray([\u001b[38;5;241m1\u001b[39m, \u001b[38;5;241m1\u001b[39m, \u001b[38;5;241m0.01\u001b[39m, \u001b[38;5;241m0.01\u001b[39m, \u001b[38;5;241m1\u001b[39m, \u001b[38;5;241m1\u001b[39m, \u001b[38;5;241m100\u001b[39m, \u001b[38;5;241m10\u001b[39m, \u001b[38;5;28;01mNone\u001b[39;00m, \u001b[38;5;28;01mNone\u001b[39;00m, \u001b[38;5;28;01mNone\u001b[39;00m]),\n\u001b[1;32m     14\u001b[0m     is_delta_A\u001b[38;5;241m=\u001b[39m\u001b[38;5;28;01mTrue\u001b[39;00m, \u001b[38;5;66;03m# specify that input data is attenuation change\u001b[39;00m\n\u001b[1;32m     15\u001b[0m )\n",
      "File \u001b[0;32m/media/leon/Storage/Studium/Informatik/Master/3.Semester/IDP/nonlinear-fit/src/concentr_diffs_pathlength.py:117\u001b[0m, in \u001b[0;36mconcentr_fit_nonlinear\u001b[0;34m(A, wavelengths, mu_a, func, ref_vals, variables_bool_arr, left_bounds, right_bounds, jacobian, constraint, is_delta_A, init_vals, progress_bar)\u001b[0m\n\u001b[1;32m    115\u001b[0m \u001b[38;5;28;01mif\u001b[39;00m constraint \u001b[38;5;129;01mis\u001b[39;00m \u001b[38;5;28;01mNone\u001b[39;00m:\n\u001b[1;32m    116\u001b[0m     \u001b[38;5;28;01mfor\u001b[39;00m t \u001b[38;5;129;01min\u001b[39;00m tqdm(\u001b[38;5;28mrange\u001b[39m(num_spectra), disable\u001b[38;5;241m=\u001b[39m\u001b[38;5;241m~\u001b[39mprogress_bar):\n\u001b[0;32m--> 117\u001b[0m         res \u001b[38;5;241m=\u001b[39m least_squares(\n\u001b[1;32m    118\u001b[0m             func_wrapper,\n\u001b[1;32m    119\u001b[0m             x[:, t\u001b[38;5;241m-\u001b[39m\u001b[38;5;241m1\u001b[39m] \u001b[38;5;28;01mif\u001b[39;00m t \u001b[38;5;241m>\u001b[39m \u001b[38;5;241m0\u001b[39m \u001b[38;5;28;01melse\u001b[39;00m init_vals,\n\u001b[1;32m    120\u001b[0m             bounds\u001b[38;5;241m=\u001b[39m(left_bounds, right_bounds),\n\u001b[1;32m    121\u001b[0m             jac\u001b[38;5;241m=\u001b[39m\u001b[38;5;124m\"\u001b[39m\u001b[38;5;124m2-point\u001b[39m\u001b[38;5;124m\"\u001b[39m \u001b[38;5;28;01mif\u001b[39;00m jacobian \u001b[38;5;129;01mis\u001b[39;00m \u001b[38;5;28;01mNone\u001b[39;00m \u001b[38;5;28;01melse\u001b[39;00m jacobian_wrapper,\n\u001b[1;32m    122\u001b[0m             args\u001b[38;5;241m=\u001b[39m(A[:, t], A_ref)\n\u001b[1;32m    123\u001b[0m         )\n\u001b[1;32m    125\u001b[0m         x[:, t] \u001b[38;5;241m=\u001b[39m res\u001b[38;5;241m.\u001b[39mx\n\u001b[1;32m    126\u001b[0m         errors[:, t] \u001b[38;5;241m=\u001b[39m res\u001b[38;5;241m.\u001b[39mcost\n",
      "File \u001b[0;32m~/anaconda3/envs/idp/lib/python3.11/site-packages/scipy/optimize/_lsq/least_squares.py:947\u001b[0m, in \u001b[0;36mleast_squares\u001b[0;34m(fun, x0, jac, bounds, method, ftol, xtol, gtol, x_scale, loss, f_scale, diff_step, tr_solver, tr_options, jac_sparsity, max_nfev, verbose, args, kwargs)\u001b[0m\n\u001b[1;32m    943\u001b[0m     result \u001b[38;5;241m=\u001b[39m call_minpack(fun_wrapped, x0, jac_wrapped, ftol, xtol, gtol,\n\u001b[1;32m    944\u001b[0m                           max_nfev, x_scale, diff_step)\n\u001b[1;32m    946\u001b[0m \u001b[38;5;28;01melif\u001b[39;00m method \u001b[38;5;241m==\u001b[39m \u001b[38;5;124m'\u001b[39m\u001b[38;5;124mtrf\u001b[39m\u001b[38;5;124m'\u001b[39m:\n\u001b[0;32m--> 947\u001b[0m     result \u001b[38;5;241m=\u001b[39m trf(fun_wrapped, jac_wrapped, x0, f0, J0, lb, ub, ftol, xtol,\n\u001b[1;32m    948\u001b[0m                  gtol, max_nfev, x_scale, loss_function, tr_solver,\n\u001b[1;32m    949\u001b[0m                  tr_options\u001b[38;5;241m.\u001b[39mcopy(), verbose)\n\u001b[1;32m    951\u001b[0m \u001b[38;5;28;01melif\u001b[39;00m method \u001b[38;5;241m==\u001b[39m \u001b[38;5;124m'\u001b[39m\u001b[38;5;124mdogbox\u001b[39m\u001b[38;5;124m'\u001b[39m:\n\u001b[1;32m    952\u001b[0m     \u001b[38;5;28;01mif\u001b[39;00m tr_solver \u001b[38;5;241m==\u001b[39m \u001b[38;5;124m'\u001b[39m\u001b[38;5;124mlsmr\u001b[39m\u001b[38;5;124m'\u001b[39m \u001b[38;5;129;01mand\u001b[39;00m \u001b[38;5;124m'\u001b[39m\u001b[38;5;124mregularize\u001b[39m\u001b[38;5;124m'\u001b[39m \u001b[38;5;129;01min\u001b[39;00m tr_options:\n",
      "File \u001b[0;32m~/anaconda3/envs/idp/lib/python3.11/site-packages/scipy/optimize/_lsq/trf.py:123\u001b[0m, in \u001b[0;36mtrf\u001b[0;34m(fun, jac, x0, f0, J0, lb, ub, ftol, xtol, gtol, max_nfev, x_scale, loss_function, tr_solver, tr_options, verbose)\u001b[0m\n\u001b[1;32m    119\u001b[0m     \u001b[38;5;28;01mreturn\u001b[39;00m trf_no_bounds(\n\u001b[1;32m    120\u001b[0m         fun, jac, x0, f0, J0, ftol, xtol, gtol, max_nfev, x_scale,\n\u001b[1;32m    121\u001b[0m         loss_function, tr_solver, tr_options, verbose)\n\u001b[1;32m    122\u001b[0m \u001b[38;5;28;01melse\u001b[39;00m:\n\u001b[0;32m--> 123\u001b[0m     \u001b[38;5;28;01mreturn\u001b[39;00m trf_bounds(\n\u001b[1;32m    124\u001b[0m         fun, jac, x0, f0, J0, lb, ub, ftol, xtol, gtol, max_nfev, x_scale,\n\u001b[1;32m    125\u001b[0m         loss_function, tr_solver, tr_options, verbose)\n",
      "File \u001b[0;32m~/anaconda3/envs/idp/lib/python3.11/site-packages/scipy/optimize/_lsq/trf.py:334\u001b[0m, in \u001b[0;36mtrf_bounds\u001b[0;34m(fun, jac, x0, f0, J0, lb, ub, ftol, xtol, gtol, max_nfev, x_scale, loss_function, tr_solver, tr_options, verbose)\u001b[0m\n\u001b[1;32m    331\u001b[0m     p_h \u001b[38;5;241m=\u001b[39m S\u001b[38;5;241m.\u001b[39mdot(p_S)\n\u001b[1;32m    333\u001b[0m p \u001b[38;5;241m=\u001b[39m d \u001b[38;5;241m*\u001b[39m p_h  \u001b[38;5;66;03m# Trust-region solution in the original space.\u001b[39;00m\n\u001b[0;32m--> 334\u001b[0m step, step_h, predicted_reduction \u001b[38;5;241m=\u001b[39m select_step(\n\u001b[1;32m    335\u001b[0m     x, J_h, diag_h, g_h, p, p_h, d, Delta, lb, ub, theta)\n\u001b[1;32m    337\u001b[0m x_new \u001b[38;5;241m=\u001b[39m make_strictly_feasible(x \u001b[38;5;241m+\u001b[39m step, lb, ub, rstep\u001b[38;5;241m=\u001b[39m\u001b[38;5;241m0\u001b[39m)\n\u001b[1;32m    338\u001b[0m f_new \u001b[38;5;241m=\u001b[39m fun(x_new)\n",
      "File \u001b[0;32m~/anaconda3/envs/idp/lib/python3.11/site-packages/scipy/optimize/_lsq/trf.py:193\u001b[0m, in \u001b[0;36mselect_step\u001b[0;34m(x, J_h, diag_h, g_h, p, p_h, d, Delta, lb, ub, theta)\u001b[0m\n\u001b[1;32m    190\u001b[0m     ag_stride \u001b[38;5;241m=\u001b[39m to_tr\n\u001b[1;32m    192\u001b[0m a, b \u001b[38;5;241m=\u001b[39m build_quadratic_1d(J_h, g_h, ag_h, diag\u001b[38;5;241m=\u001b[39mdiag_h)\n\u001b[0;32m--> 193\u001b[0m ag_stride, ag_value \u001b[38;5;241m=\u001b[39m minimize_quadratic_1d(a, b, \u001b[38;5;241m0\u001b[39m, ag_stride)\n\u001b[1;32m    194\u001b[0m ag_h \u001b[38;5;241m*\u001b[39m\u001b[38;5;241m=\u001b[39m ag_stride\n\u001b[1;32m    195\u001b[0m ag \u001b[38;5;241m*\u001b[39m\u001b[38;5;241m=\u001b[39m ag_stride\n",
      "File \u001b[0;32m~/anaconda3/envs/idp/lib/python3.11/site-packages/scipy/optimize/_lsq/common.py:318\u001b[0m, in \u001b[0;36mminimize_quadratic_1d\u001b[0;34m(a, b, lb, ub, c)\u001b[0m\n\u001b[1;32m    316\u001b[0m     extremum \u001b[38;5;241m=\u001b[39m \u001b[38;5;241m-\u001b[39m\u001b[38;5;241m0.5\u001b[39m \u001b[38;5;241m*\u001b[39m b \u001b[38;5;241m/\u001b[39m a\n\u001b[1;32m    317\u001b[0m     \u001b[38;5;28;01mif\u001b[39;00m lb \u001b[38;5;241m<\u001b[39m extremum \u001b[38;5;241m<\u001b[39m ub:\n\u001b[0;32m--> 318\u001b[0m         t\u001b[38;5;241m.\u001b[39mappend(extremum)\n\u001b[1;32m    319\u001b[0m t \u001b[38;5;241m=\u001b[39m np\u001b[38;5;241m.\u001b[39masarray(t)\n\u001b[1;32m    320\u001b[0m y \u001b[38;5;241m=\u001b[39m t \u001b[38;5;241m*\u001b[39m (a \u001b[38;5;241m*\u001b[39m t \u001b[38;5;241m+\u001b[39m b) \u001b[38;5;241m+\u001b[39m c\n",
      "\u001b[0;31mKeyboardInterrupt\u001b[0m: "
     ]
    }
   ],
   "source": [
    "# general function that fits a model to data\n",
    "params_jacques_delta_A_flat, errors = concentr_fit_nonlinear(\n",
    "    delta_A_gt_flat,\n",
    "    loader.wavelengths,\n",
    "    mu_a_matrix,\n",
    "    A_jacques_blood_fraction, # the function that is fitted to data\n",
    "    # reference values for all variables (concentrations first, then other parameters)\n",
    "    # f_blood, st02, c_oxCCO, c_redCCO, f_water, f_fat, a (scattering), b (scattering), m1, m2, m3\n",
    "    ref_vals=config,\n",
    "    # boolean array indicating which variables are constant (False) or optimized (True) per pixel\n",
    "    variables_bool_arr=np.array([True, True, True, True, True, True, True, True, False, False, False]),\n",
    "    left_bounds=np.array([0, 0, 0, 0, 0, 0, 3, 0.1, None, None, None]),\n",
    "    right_bounds=np.array([1, 1, 0.01, 0.01, 1, 1, 100, 10, None, None, None]),\n",
    "    is_delta_A=True, # specify that input data is attenuation change\n",
    ")"
   ]
  },
  {
   "cell_type": "markdown",
   "metadata": {},
   "source": [
    "Store new results..."
   ]
  },
  {
   "cell_type": "code",
   "execution_count": 34,
   "metadata": {},
   "outputs": [
    {
     "ename": "NameError",
     "evalue": "name 'result_path' is not defined",
     "output_type": "error",
     "traceback": [
      "\u001b[0;31m---------------------------------------------------------------------------\u001b[0m",
      "\u001b[0;31mNameError\u001b[0m                                 Traceback (most recent call last)",
      "Cell \u001b[0;32mIn[34], line 1\u001b[0m\n\u001b[0;32m----> 1\u001b[0m \u001b[38;5;28;01mwith\u001b[39;00m \u001b[38;5;28mopen\u001b[39m(result_path, \u001b[38;5;124m\"\u001b[39m\u001b[38;5;124mwb\u001b[39m\u001b[38;5;124m\"\u001b[39m) \u001b[38;5;28;01mas\u001b[39;00m f:\n\u001b[1;32m      2\u001b[0m     pickle\u001b[38;5;241m.\u001b[39mdump(params_jacques_delta_A_flat, f)\n",
      "\u001b[0;31mNameError\u001b[0m: name 'result_path' is not defined"
     ]
    }
   ],
   "source": [
    "with open(result_path, \"wb\") as f:\n",
    "    pickle.dump(params_jacques_delta_A_flat, f)"
   ]
  },
  {
   "cell_type": "code",
   "execution_count": 42,
   "metadata": {},
   "outputs": [],
   "source": [
    "# values are already blood fractions\n",
    "c_jacques_delta_A_flat = blood_fraction_to_concentrations(params_jacques_delta_A_flat[:6])\n",
    "c_jacques_delta_A_img = np.full((6, *A_gt_img.shape[1:]), np.NaN)\n",
    "c_jacques_delta_A_img[:, foreground_mask] = c_jaques_delta_A_flat[:6, :] # - config[:6, None]"
   ]
  },
  {
   "cell_type": "code",
   "execution_count": 38,
   "metadata": {},
   "outputs": [],
   "source": [
    "plot_concentration_imgs(c_jacques_delta_A_img, loader.reference_pixel)"
   ]
  },
  {
   "cell_type": "markdown",
   "metadata": {},
   "source": [
    "Compare reconstructed spectra (change) to ground truth spectra."
   ]
  },
  {
   "cell_type": "code",
   "execution_count": 43,
   "metadata": {},
   "outputs": [
    {
     "ename": "TypeError",
     "evalue": "'NoneType' object is not subscriptable",
     "output_type": "error",
     "traceback": [
      "\u001b[0;31m---------------------------------------------------------------------------\u001b[0m",
      "\u001b[0;31mTypeError\u001b[0m                                 Traceback (most recent call last)",
      "Cell \u001b[0;32mIn[43], line 11\u001b[0m\n\u001b[1;32m      1\u001b[0m delta_A_reconstr_jacques \u001b[38;5;241m=\u001b[39m A_jacques_new(\n\u001b[1;32m      2\u001b[0m     loader\u001b[38;5;241m.\u001b[39mwavelengths,\n\u001b[1;32m      3\u001b[0m     mu_a_matrix,\n\u001b[1;32m      4\u001b[0m     c_jacques_delta_A_flat,\n\u001b[1;32m      5\u001b[0m     params_jacques_delta_A_flat[\u001b[38;5;241m6\u001b[39m, :],\n\u001b[1;32m      6\u001b[0m     params_jacques_delta_A_flat[\u001b[38;5;241m7\u001b[39m, :],\n\u001b[1;32m      7\u001b[0m     \u001b[38;5;241m*\u001b[39mm_params[\u001b[38;5;241m1.38\u001b[39m]\n\u001b[1;32m      8\u001b[0m ) \u001b[38;5;241m-\u001b[39m A_jacques_blood_fraction(\n\u001b[1;32m      9\u001b[0m     loader\u001b[38;5;241m.\u001b[39mwavelengths,\n\u001b[1;32m     10\u001b[0m     mu_a_matrix,\n\u001b[0;32m---> 11\u001b[0m     config[:\u001b[38;5;241m6\u001b[39m, \u001b[38;5;28;01mNone\u001b[39;00m],\n\u001b[1;32m     12\u001b[0m     \u001b[38;5;241m*\u001b[39mconfig[\u001b[38;5;241m6\u001b[39m:]\n\u001b[1;32m     13\u001b[0m )\n",
      "\u001b[0;31mTypeError\u001b[0m: 'NoneType' object is not subscriptable"
     ]
    }
   ],
   "source": [
    "delta_A_reconstr_jacques = A_jacques_new(\n",
    "    loader.wavelengths,\n",
    "    mu_a_matrix,\n",
    "    c_jacques_delta_A_flat,\n",
    "    params_jacques_delta_A_flat[6, :],\n",
    "    params_jacques_delta_A_flat[7, :],\n",
    "    *m_params[1.38]\n",
    ") - A_jacques_blood_fraction(\n",
    "    loader.wavelengths,\n",
    "    mu_a_matrix,\n",
    "    config[:6, None],\n",
    "    *config[6:]\n",
    ")"
   ]
  },
  {
   "cell_type": "code",
   "execution_count": 130,
   "metadata": {},
   "outputs": [
    {
     "name": "stderr",
     "output_type": "stream",
     "text": [
      "No artists with labels found to put in legend.  Note that artists whose label start with an underscore are ignored when legend() is called with no argument.\n"
     ]
    }
   ],
   "source": [
    "idx = np.random.randint(0, A_gt_flat.shape[1])\n",
    "plot_spectra((delta_A_gt_flat[:, idx], delta_A_reconstr_jacques[:, idx]), loader.wavelengths)\n",
    "plt.show()"
   ]
  },
  {
   "cell_type": "markdown",
   "metadata": {},
   "source": [
    "#### Fit Jacques on Absolute Attenuation"
   ]
  },
  {
   "cell_type": "markdown",
   "metadata": {},
   "source": [
    "Here, we fit the Jacques model directly against absolute attenuation spectra. The reference values will only serve as an initialization for non-linear least squares for the first pixel. Therefore it should be reasonable to use reference values for gray matter. Subsequent pixels will be initialized with the result of their preceeding pixel."
   ]
  },
  {
   "cell_type": "code",
   "execution_count": 44,
   "metadata": {},
   "outputs": [],
   "source": [
    "result_path = config.result_dir / f\"jacques_attenuation_absolute/{loader.patient_id}\"\n",
    "os.makedirs(result_path.parent, exist_ok=True)"
   ]
  },
  {
   "cell_type": "markdown",
   "metadata": {},
   "source": [
    "Load previous results..."
   ]
  },
  {
   "cell_type": "code",
   "execution_count": 46,
   "metadata": {},
   "outputs": [],
   "source": [
    "with open(result_path, \"rb\") as f:\n",
    "    params_jacques_flat = pickle.load(f)"
   ]
  },
  {
   "cell_type": "code",
   "execution_count": 45,
   "metadata": {},
   "outputs": [
    {
     "name": "stdout",
     "output_type": "stream",
     "text": [
      "Note: Bounds for parameters 8, 9, 10 will be ignored, as they are not optimized.\n"
     ]
    },
    {
     "ename": "KeyboardInterrupt",
     "evalue": "",
     "output_type": "error",
     "traceback": [
      "\u001b[0;31m---------------------------------------------------------------------------\u001b[0m",
      "\u001b[0;31mKeyboardInterrupt\u001b[0m                         Traceback (most recent call last)",
      "Cell \u001b[0;32mIn[45], line 1\u001b[0m\n\u001b[0;32m----> 1\u001b[0m params_jacques_flat, errors \u001b[38;5;241m=\u001b[39m concentr_fit_nonlinear(\n\u001b[1;32m      2\u001b[0m     A_gt_flat,\n\u001b[1;32m      3\u001b[0m     loader\u001b[38;5;241m.\u001b[39mwavelengths,\n\u001b[1;32m      4\u001b[0m     mu_a_matrix,\n\u001b[1;32m      5\u001b[0m     A_jacques_blood_fraction,\n\u001b[1;32m      6\u001b[0m     ref_vals\u001b[38;5;241m=\u001b[39mnp\u001b[38;5;241m.\u001b[39mconcatenate((loader\u001b[38;5;241m.\u001b[39mparams_ref_gray_matter_fraction, m_params[\u001b[38;5;241m1.38\u001b[39m])),\n\u001b[1;32m      7\u001b[0m     variables_bool_arr\u001b[38;5;241m=\u001b[39mnp\u001b[38;5;241m.\u001b[39marray([\u001b[38;5;28;01mTrue\u001b[39;00m, \u001b[38;5;28;01mTrue\u001b[39;00m, \u001b[38;5;28;01mTrue\u001b[39;00m, \u001b[38;5;28;01mTrue\u001b[39;00m, \u001b[38;5;28;01mTrue\u001b[39;00m, \u001b[38;5;28;01mTrue\u001b[39;00m, \u001b[38;5;28;01mTrue\u001b[39;00m, \u001b[38;5;28;01mTrue\u001b[39;00m, \u001b[38;5;28;01mFalse\u001b[39;00m, \u001b[38;5;28;01mFalse\u001b[39;00m, \u001b[38;5;28;01mFalse\u001b[39;00m]),\n\u001b[1;32m      8\u001b[0m     left_bounds\u001b[38;5;241m=\u001b[39mnp\u001b[38;5;241m.\u001b[39marray([\u001b[38;5;241m0\u001b[39m, \u001b[38;5;241m0\u001b[39m, \u001b[38;5;241m0\u001b[39m, \u001b[38;5;241m0\u001b[39m, \u001b[38;5;241m0\u001b[39m, \u001b[38;5;241m0\u001b[39m, \u001b[38;5;241m3\u001b[39m, \u001b[38;5;241m0.1\u001b[39m, \u001b[38;5;28;01mNone\u001b[39;00m, \u001b[38;5;28;01mNone\u001b[39;00m, \u001b[38;5;28;01mNone\u001b[39;00m]),\n\u001b[1;32m      9\u001b[0m     right_bounds\u001b[38;5;241m=\u001b[39mnp\u001b[38;5;241m.\u001b[39marray([\u001b[38;5;241m1\u001b[39m, \u001b[38;5;241m1\u001b[39m, \u001b[38;5;241m0.04\u001b[39m, \u001b[38;5;241m0.04\u001b[39m, \u001b[38;5;241m1\u001b[39m, \u001b[38;5;241m1\u001b[39m, \u001b[38;5;241m100\u001b[39m, \u001b[38;5;241m10\u001b[39m, \u001b[38;5;28;01mNone\u001b[39;00m, \u001b[38;5;28;01mNone\u001b[39;00m, \u001b[38;5;28;01mNone\u001b[39;00m]),\n\u001b[1;32m     10\u001b[0m     is_delta_A\u001b[38;5;241m=\u001b[39m\u001b[38;5;28;01mFalse\u001b[39;00m,\n\u001b[1;32m     11\u001b[0m     progress_bar\u001b[38;5;241m=\u001b[39m\u001b[38;5;28;01mTrue\u001b[39;00m\n\u001b[1;32m     12\u001b[0m )\n",
      "File \u001b[0;32m/media/leon/Storage/Studium/Informatik/Master/3.Semester/IDP/nonlinear-fit/src/concentr_diffs_pathlength.py:117\u001b[0m, in \u001b[0;36mconcentr_fit_nonlinear\u001b[0;34m(A, wavelengths, mu_a, func, ref_vals, variables_bool_arr, left_bounds, right_bounds, jacobian, constraint, is_delta_A, init_vals, progress_bar)\u001b[0m\n\u001b[1;32m    115\u001b[0m \u001b[38;5;28;01mif\u001b[39;00m constraint \u001b[38;5;129;01mis\u001b[39;00m \u001b[38;5;28;01mNone\u001b[39;00m:\n\u001b[1;32m    116\u001b[0m     \u001b[38;5;28;01mfor\u001b[39;00m t \u001b[38;5;129;01min\u001b[39;00m tqdm(\u001b[38;5;28mrange\u001b[39m(num_spectra), disable\u001b[38;5;241m=\u001b[39m\u001b[38;5;241m~\u001b[39mprogress_bar):\n\u001b[0;32m--> 117\u001b[0m         res \u001b[38;5;241m=\u001b[39m least_squares(\n\u001b[1;32m    118\u001b[0m             func_wrapper,\n\u001b[1;32m    119\u001b[0m             x[:, t\u001b[38;5;241m-\u001b[39m\u001b[38;5;241m1\u001b[39m] \u001b[38;5;28;01mif\u001b[39;00m t \u001b[38;5;241m>\u001b[39m \u001b[38;5;241m0\u001b[39m \u001b[38;5;28;01melse\u001b[39;00m init_vals,\n\u001b[1;32m    120\u001b[0m             bounds\u001b[38;5;241m=\u001b[39m(left_bounds, right_bounds),\n\u001b[1;32m    121\u001b[0m             jac\u001b[38;5;241m=\u001b[39m\u001b[38;5;124m\"\u001b[39m\u001b[38;5;124m2-point\u001b[39m\u001b[38;5;124m\"\u001b[39m \u001b[38;5;28;01mif\u001b[39;00m jacobian \u001b[38;5;129;01mis\u001b[39;00m \u001b[38;5;28;01mNone\u001b[39;00m \u001b[38;5;28;01melse\u001b[39;00m jacobian_wrapper,\n\u001b[1;32m    122\u001b[0m             args\u001b[38;5;241m=\u001b[39m(A[:, t], A_ref)\n\u001b[1;32m    123\u001b[0m         )\n\u001b[1;32m    125\u001b[0m         x[:, t] \u001b[38;5;241m=\u001b[39m res\u001b[38;5;241m.\u001b[39mx\n\u001b[1;32m    126\u001b[0m         errors[:, t] \u001b[38;5;241m=\u001b[39m res\u001b[38;5;241m.\u001b[39mcost\n",
      "File \u001b[0;32m~/anaconda3/envs/idp/lib/python3.11/site-packages/scipy/optimize/_lsq/least_squares.py:912\u001b[0m, in \u001b[0;36mleast_squares\u001b[0;34m(fun, x0, jac, bounds, method, ftol, xtol, gtol, x_scale, loss, f_scale, diff_step, tr_solver, tr_options, jac_sparsity, max_nfev, verbose, args, kwargs)\u001b[0m\n\u001b[1;32m    908\u001b[0m                 J \u001b[38;5;241m=\u001b[39m np\u001b[38;5;241m.\u001b[39matleast_2d(J)\n\u001b[1;32m    910\u001b[0m             \u001b[38;5;28;01mreturn\u001b[39;00m J\n\u001b[0;32m--> 912\u001b[0m         J0 \u001b[38;5;241m=\u001b[39m jac_wrapped(x0, f0)\n\u001b[1;32m    914\u001b[0m \u001b[38;5;28;01mif\u001b[39;00m J0 \u001b[38;5;129;01mis\u001b[39;00m \u001b[38;5;129;01mnot\u001b[39;00m \u001b[38;5;28;01mNone\u001b[39;00m:\n\u001b[1;32m    915\u001b[0m     \u001b[38;5;28;01mif\u001b[39;00m J0\u001b[38;5;241m.\u001b[39mshape \u001b[38;5;241m!=\u001b[39m (m, n):\n",
      "File \u001b[0;32m~/anaconda3/envs/idp/lib/python3.11/site-packages/scipy/optimize/_lsq/least_squares.py:904\u001b[0m, in \u001b[0;36mleast_squares.<locals>.jac_wrapped\u001b[0;34m(x, f)\u001b[0m\n\u001b[1;32m    903\u001b[0m \u001b[38;5;28;01mdef\u001b[39;00m \u001b[38;5;21mjac_wrapped\u001b[39m(x, f):\n\u001b[0;32m--> 904\u001b[0m     J \u001b[38;5;241m=\u001b[39m approx_derivative(fun, x, rel_step\u001b[38;5;241m=\u001b[39mdiff_step, method\u001b[38;5;241m=\u001b[39mjac,\n\u001b[1;32m    905\u001b[0m                           f0\u001b[38;5;241m=\u001b[39mf, bounds\u001b[38;5;241m=\u001b[39mbounds, args\u001b[38;5;241m=\u001b[39margs,\n\u001b[1;32m    906\u001b[0m                           kwargs\u001b[38;5;241m=\u001b[39mkwargs, sparsity\u001b[38;5;241m=\u001b[39mjac_sparsity)\n\u001b[1;32m    907\u001b[0m     \u001b[38;5;28;01mif\u001b[39;00m J\u001b[38;5;241m.\u001b[39mndim \u001b[38;5;241m!=\u001b[39m \u001b[38;5;241m2\u001b[39m:  \u001b[38;5;66;03m# J is guaranteed not sparse.\u001b[39;00m\n\u001b[1;32m    908\u001b[0m         J \u001b[38;5;241m=\u001b[39m np\u001b[38;5;241m.\u001b[39matleast_2d(J)\n",
      "File \u001b[0;32m~/anaconda3/envs/idp/lib/python3.11/site-packages/scipy/optimize/_numdiff.py:523\u001b[0m, in \u001b[0;36mapprox_derivative\u001b[0;34m(fun, x0, method, rel_step, abs_step, f0, bounds, sparsity, as_linear_operator, args, kwargs)\u001b[0m\n\u001b[1;32m    520\u001b[0m     use_one_sided \u001b[38;5;241m=\u001b[39m \u001b[38;5;28;01mFalse\u001b[39;00m\n\u001b[1;32m    522\u001b[0m \u001b[38;5;28;01mif\u001b[39;00m sparsity \u001b[38;5;129;01mis\u001b[39;00m \u001b[38;5;28;01mNone\u001b[39;00m:\n\u001b[0;32m--> 523\u001b[0m     \u001b[38;5;28;01mreturn\u001b[39;00m _dense_difference(fun_wrapped, x0, f0, h,\n\u001b[1;32m    524\u001b[0m                              use_one_sided, method)\n\u001b[1;32m    525\u001b[0m \u001b[38;5;28;01melse\u001b[39;00m:\n\u001b[1;32m    526\u001b[0m     \u001b[38;5;28;01mif\u001b[39;00m \u001b[38;5;129;01mnot\u001b[39;00m issparse(sparsity) \u001b[38;5;129;01mand\u001b[39;00m \u001b[38;5;28mlen\u001b[39m(sparsity) \u001b[38;5;241m==\u001b[39m \u001b[38;5;241m2\u001b[39m:\n",
      "File \u001b[0;32m~/anaconda3/envs/idp/lib/python3.11/site-packages/scipy/optimize/_numdiff.py:596\u001b[0m, in \u001b[0;36m_dense_difference\u001b[0;34m(fun, x0, f0, h, use_one_sided, method)\u001b[0m\n\u001b[1;32m    594\u001b[0m     x1[i] \u001b[38;5;241m+\u001b[39m\u001b[38;5;241m=\u001b[39m h[i]\n\u001b[1;32m    595\u001b[0m     dx \u001b[38;5;241m=\u001b[39m x1[i] \u001b[38;5;241m-\u001b[39m x0[i]  \u001b[38;5;66;03m# Recompute dx as exactly representable number.\u001b[39;00m\n\u001b[0;32m--> 596\u001b[0m     df \u001b[38;5;241m=\u001b[39m fun(x1) \u001b[38;5;241m-\u001b[39m f0\n\u001b[1;32m    597\u001b[0m \u001b[38;5;28;01melif\u001b[39;00m method \u001b[38;5;241m==\u001b[39m \u001b[38;5;124m'\u001b[39m\u001b[38;5;124m3-point\u001b[39m\u001b[38;5;124m'\u001b[39m \u001b[38;5;129;01mand\u001b[39;00m use_one_sided[i]:\n\u001b[1;32m    598\u001b[0m     x1[i] \u001b[38;5;241m+\u001b[39m\u001b[38;5;241m=\u001b[39m h[i]\n",
      "File \u001b[0;32m~/anaconda3/envs/idp/lib/python3.11/site-packages/scipy/optimize/_numdiff.py:474\u001b[0m, in \u001b[0;36mapprox_derivative.<locals>.fun_wrapped\u001b[0;34m(x)\u001b[0m\n\u001b[1;32m    471\u001b[0m \u001b[38;5;28;01mif\u001b[39;00m xp\u001b[38;5;241m.\u001b[39misdtype(x\u001b[38;5;241m.\u001b[39mdtype, \u001b[38;5;124m\"\u001b[39m\u001b[38;5;124mreal floating\u001b[39m\u001b[38;5;124m\"\u001b[39m):\n\u001b[1;32m    472\u001b[0m     x \u001b[38;5;241m=\u001b[39m xp\u001b[38;5;241m.\u001b[39mastype(x, x0\u001b[38;5;241m.\u001b[39mdtype)\n\u001b[0;32m--> 474\u001b[0m f \u001b[38;5;241m=\u001b[39m np\u001b[38;5;241m.\u001b[39matleast_1d(fun(x, \u001b[38;5;241m*\u001b[39margs, \u001b[38;5;241m*\u001b[39m\u001b[38;5;241m*\u001b[39mkwargs))\n\u001b[1;32m    475\u001b[0m \u001b[38;5;28;01mif\u001b[39;00m f\u001b[38;5;241m.\u001b[39mndim \u001b[38;5;241m>\u001b[39m \u001b[38;5;241m1\u001b[39m:\n\u001b[1;32m    476\u001b[0m     \u001b[38;5;28;01mraise\u001b[39;00m \u001b[38;5;167;01mRuntimeError\u001b[39;00m(\u001b[38;5;124m\"\u001b[39m\u001b[38;5;124m`fun` return value has \u001b[39m\u001b[38;5;124m\"\u001b[39m\n\u001b[1;32m    477\u001b[0m                        \u001b[38;5;124m\"\u001b[39m\u001b[38;5;124mmore than 1 dimension.\u001b[39m\u001b[38;5;124m\"\u001b[39m)\n",
      "File \u001b[0;32m/media/leon/Storage/Studium/Informatik/Master/3.Semester/IDP/nonlinear-fit/src/concentr_diffs_pathlength.py:75\u001b[0m, in \u001b[0;36mconcentr_fit_nonlinear.<locals>.func_wrapper\u001b[0;34m(x, A_t, A_ref, sum_and_square)\u001b[0m\n\u001b[1;32m     73\u001b[0m params[variables_bool_arr[num_molecules:]] \u001b[38;5;241m=\u001b[39m x[num_molecule_vars:]\n\u001b[1;32m     74\u001b[0m params[\u001b[38;5;241m~\u001b[39mvariables_bool_arr[num_molecules:]] \u001b[38;5;241m=\u001b[39m ref_vals[\u001b[38;5;241m~\u001b[39mvariables_bool_arr][\u001b[38;5;241m-\u001b[39mnum_params:]\n\u001b[0;32m---> 75\u001b[0m A_func \u001b[38;5;241m=\u001b[39m func(wavelengths, mu_a, c_full, \u001b[38;5;241m*\u001b[39mparams)\n\u001b[1;32m     76\u001b[0m res \u001b[38;5;241m=\u001b[39m A_t \u001b[38;5;241m-\u001b[39m A_func[:, \u001b[38;5;241m0\u001b[39m]\n\u001b[1;32m     77\u001b[0m \u001b[38;5;28;01mif\u001b[39;00m A_ref \u001b[38;5;129;01mis\u001b[39;00m \u001b[38;5;129;01mnot\u001b[39;00m \u001b[38;5;28;01mNone\u001b[39;00m:\n",
      "File \u001b[0;32m/media/leon/Storage/Studium/Informatik/Master/3.Semester/IDP/nonlinear-fit/src/mbll_functions.py:74\u001b[0m, in \u001b[0;36mA_jacques_blood_fraction\u001b[0;34m(wavelengths, mu_a_matrix, c, a, b, m1, m2, m3)\u001b[0m\n\u001b[1;32m     72\u001b[0m \u001b[38;5;28;01mdef\u001b[39;00m \u001b[38;5;21mA_jacques_blood_fraction\u001b[39m(wavelengths, mu_a_matrix, c, a, b, m1, m2, m3):\n\u001b[1;32m     73\u001b[0m     c_new \u001b[38;5;241m=\u001b[39m blood_fraction_to_concentrations(c)\n\u001b[0;32m---> 74\u001b[0m     \u001b[38;5;28;01mreturn\u001b[39;00m A_jacques_new(wavelengths, mu_a_matrix, c_new, a, b, m1, m2, m3)\n",
      "File \u001b[0;32m/media/leon/Storage/Studium/Informatik/Master/3.Semester/IDP/nonlinear-fit/src/mbll_functions.py:67\u001b[0m, in \u001b[0;36mA_jacques_new\u001b[0;34m(wavelengths, mu_a_matrix, c, a, b, m1, m2, m3)\u001b[0m\n\u001b[1;32m     65\u001b[0m mu_s_red \u001b[38;5;241m=\u001b[39m a \u001b[38;5;241m*\u001b[39m (wavelengths\u001b[38;5;241m/\u001b[39m\u001b[38;5;241m500\u001b[39m)[:, \u001b[38;5;28;01mNone\u001b[39;00m] \u001b[38;5;241m*\u001b[39m\u001b[38;5;241m*\u001b[39m (\u001b[38;5;241m-\u001b[39mb)\n\u001b[1;32m     66\u001b[0m A_j \u001b[38;5;241m=\u001b[39m m1 \u001b[38;5;241m+\u001b[39m m2 \u001b[38;5;241m+\u001b[39m np\u001b[38;5;241m.\u001b[39mexp(np\u001b[38;5;241m.\u001b[39mlog(mu_s_red\u001b[38;5;241m/\u001b[39mmu_a)\u001b[38;5;241m/\u001b[39mm3)\n\u001b[0;32m---> 67\u001b[0m theta \u001b[38;5;241m=\u001b[39m \u001b[38;5;241m1\u001b[39m \u001b[38;5;241m/\u001b[39m np\u001b[38;5;241m.\u001b[39msqrt(\u001b[38;5;241m3\u001b[39m\u001b[38;5;241m*\u001b[39mmu_a\u001b[38;5;241m*\u001b[39m(mu_a \u001b[38;5;241m+\u001b[39m mu_s_red))\n\u001b[1;32m     68\u001b[0m \u001b[38;5;28;01mreturn\u001b[39;00m A_j \u001b[38;5;241m*\u001b[39m mu_a \u001b[38;5;241m*\u001b[39m theta\n",
      "\u001b[0;31mKeyboardInterrupt\u001b[0m: "
     ]
    }
   ],
   "source": [
    "params_jacques_flat, errors = concentr_fit_nonlinear(\n",
    "    A_gt_flat,\n",
    "    loader.wavelengths,\n",
    "    mu_a_matrix,\n",
    "    A_jacques_blood_fraction,\n",
    "    ref_vals=np.concatenate((loader.params_ref_gray_matter_fraction, m_params[1.38])),\n",
    "    variables_bool_arr=np.array([True, True, True, True, True, True, True, True, False, False, False]),\n",
    "    left_bounds=np.array([0, 0, 0, 0, 0, 0, 3, 0.1, None, None, None]),\n",
    "    right_bounds=np.array([1, 1, 0.04, 0.04, 1, 1, 100, 10, None, None, None]),\n",
    "    is_delta_A=False,\n",
    "    progress_bar=True\n",
    ")"
   ]
  },
  {
   "cell_type": "markdown",
   "metadata": {},
   "source": [
    "Store new results..."
   ]
  },
  {
   "cell_type": "code",
   "execution_count": 18,
   "metadata": {},
   "outputs": [],
   "source": [
    "with open(result_path, \"wb\") as f:\n",
    "    pickle.dump(params_jacques_flat, f)"
   ]
  },
  {
   "cell_type": "code",
   "execution_count": 48,
   "metadata": {},
   "outputs": [],
   "source": [
    "c_jacques_flat = blood_fraction_to_concentrations(params_jacques_flat[:6, :])\n",
    "c_jacques_img = np.full((6, *A_gt_img.shape[1:]), np.NaN)\n",
    "c_jacques_img[:, foreground_mask] = params_jacques_flat[:6, :]"
   ]
  },
  {
   "cell_type": "code",
   "execution_count": 49,
   "metadata": {},
   "outputs": [],
   "source": [
    "plot_concentration_imgs(c_jacques_img)"
   ]
  },
  {
   "cell_type": "markdown",
   "metadata": {},
   "source": [
    "#### Fit Jacques on Absolute Attenuation, constrain volume fractions"
   ]
  },
  {
   "cell_type": "markdown",
   "metadata": {},
   "source": [
    "Up until now, we only bounded the individual volume fraction of a molecule to be within $[0, 1]$, and the molar concentrations to be greater than 0. We can also add the constraint, that the sum of volume fractions is within $[0, 1]$. In this case, we can no longer optimize using a non-linear least squares solver like Levenberg Marquardt. As a result the optimization takes about 60x as long as without constraints."
   ]
  },
  {
   "cell_type": "code",
   "execution_count": 50,
   "metadata": {},
   "outputs": [],
   "source": [
    "result_path = config.result_dir / f\"jacques_attenuation_absolute_constrained/{loader.patient_id}\"\n",
    "os.makedirs(result_path.parent, exist_ok=True)"
   ]
  },
  {
   "cell_type": "markdown",
   "metadata": {},
   "source": [
    "Load previous results..."
   ]
  },
  {
   "cell_type": "code",
   "execution_count": 51,
   "metadata": {},
   "outputs": [],
   "source": [
    "with open(result_path, \"rb\") as f:\n",
    "    params_jacques_constrained_flat = pickle.load(f)"
   ]
  },
  {
   "cell_type": "code",
   "execution_count": 52,
   "metadata": {},
   "outputs": [
    {
     "name": "stdout",
     "output_type": "stream",
     "text": [
      "Note: Bounds for parameters 8, 9, 10 will be ignored, as they are not optimized.\n"
     ]
    },
    {
     "ename": "KeyboardInterrupt",
     "evalue": "",
     "output_type": "error",
     "traceback": [
      "\u001b[0;31m---------------------------------------------------------------------------\u001b[0m",
      "\u001b[0;31mKeyboardInterrupt\u001b[0m                         Traceback (most recent call last)",
      "Cell \u001b[0;32mIn[52], line 1\u001b[0m\n\u001b[0;32m----> 1\u001b[0m params_jacques_constrained_flat, errors \u001b[38;5;241m=\u001b[39m concentr_fit_nonlinear(\n\u001b[1;32m      2\u001b[0m     A_gt_img[:, foreground_mask \u001b[38;5;241m&\u001b[39m labeled_mask],\n\u001b[1;32m      3\u001b[0m     loader\u001b[38;5;241m.\u001b[39mwavelengths,\n\u001b[1;32m      4\u001b[0m     mu_a_matrix,\n\u001b[1;32m      5\u001b[0m     A_jacques_blood_fraction,\n\u001b[1;32m      6\u001b[0m     ref_vals\u001b[38;5;241m=\u001b[39mnp\u001b[38;5;241m.\u001b[39mconcatenate((c_ref_gray_matter_fractions, [\u001b[38;5;241m40.8\u001b[39m, \u001b[38;5;241m3.089\u001b[39m], m_params[\u001b[38;5;241m1.38\u001b[39m])),\n\u001b[1;32m      7\u001b[0m     variables_bool_arr\u001b[38;5;241m=\u001b[39mnp\u001b[38;5;241m.\u001b[39marray([\u001b[38;5;28;01mTrue\u001b[39;00m, \u001b[38;5;28;01mTrue\u001b[39;00m, \u001b[38;5;28;01mTrue\u001b[39;00m, \u001b[38;5;28;01mTrue\u001b[39;00m, \u001b[38;5;28;01mTrue\u001b[39;00m, \u001b[38;5;28;01mTrue\u001b[39;00m, \u001b[38;5;28;01mTrue\u001b[39;00m, \u001b[38;5;28;01mTrue\u001b[39;00m, \u001b[38;5;28;01mFalse\u001b[39;00m, \u001b[38;5;28;01mFalse\u001b[39;00m, \u001b[38;5;28;01mFalse\u001b[39;00m]),\n\u001b[1;32m      8\u001b[0m     left_bounds\u001b[38;5;241m=\u001b[39mnp\u001b[38;5;241m.\u001b[39marray([\u001b[38;5;241m0\u001b[39m, \u001b[38;5;241m0\u001b[39m, \u001b[38;5;241m0\u001b[39m, \u001b[38;5;241m0\u001b[39m, \u001b[38;5;241m0\u001b[39m, \u001b[38;5;241m0\u001b[39m, \u001b[38;5;241m3\u001b[39m, \u001b[38;5;241m0.1\u001b[39m, \u001b[38;5;28;01mNone\u001b[39;00m, \u001b[38;5;28;01mNone\u001b[39;00m, \u001b[38;5;28;01mNone\u001b[39;00m]),\n\u001b[1;32m      9\u001b[0m     right_bounds\u001b[38;5;241m=\u001b[39mnp\u001b[38;5;241m.\u001b[39marray([\u001b[38;5;241m1\u001b[39m, \u001b[38;5;241m1\u001b[39m, \u001b[38;5;241m0.4\u001b[39m, \u001b[38;5;241m0.4\u001b[39m, \u001b[38;5;241m1\u001b[39m, \u001b[38;5;241m1\u001b[39m, \u001b[38;5;241m100\u001b[39m, \u001b[38;5;241m10\u001b[39m, \u001b[38;5;28;01mNone\u001b[39;00m, \u001b[38;5;28;01mNone\u001b[39;00m, \u001b[38;5;28;01mNone\u001b[39;00m]),\n\u001b[1;32m     10\u001b[0m     is_delta_A\u001b[38;5;241m=\u001b[39m\u001b[38;5;28;01mFalse\u001b[39;00m,\n\u001b[1;32m     11\u001b[0m     \u001b[38;5;66;03m# linear constraint given as (A (matrix), lb (vector), ub (vector))\u001b[39;00m\n\u001b[1;32m     12\u001b[0m     \u001b[38;5;66;03m# parameter vector x should satisfy\u001b[39;00m\n\u001b[1;32m     13\u001b[0m     \u001b[38;5;66;03m# lb <= A @ x <= ub\u001b[39;00m\n\u001b[1;32m     14\u001b[0m     constraint\u001b[38;5;241m=\u001b[39m(np\u001b[38;5;241m.\u001b[39marray([[\u001b[38;5;241m1\u001b[39m, \u001b[38;5;241m0\u001b[39m, \u001b[38;5;241m0\u001b[39m, \u001b[38;5;241m0\u001b[39m, \u001b[38;5;241m1\u001b[39m, \u001b[38;5;241m1\u001b[39m, \u001b[38;5;241m0\u001b[39m, \u001b[38;5;241m0\u001b[39m, \u001b[38;5;241m0\u001b[39m, \u001b[38;5;241m0\u001b[39m, \u001b[38;5;241m0\u001b[39m]]), np\u001b[38;5;241m.\u001b[39marray([\u001b[38;5;241m0\u001b[39m]), np\u001b[38;5;241m.\u001b[39marray([\u001b[38;5;241m1\u001b[39m])),\n\u001b[1;32m     15\u001b[0m     progress_bar\u001b[38;5;241m=\u001b[39m\u001b[38;5;28;01mTrue\u001b[39;00m\n\u001b[1;32m     16\u001b[0m )\n",
      "File \u001b[0;32m/media/leon/Storage/Studium/Informatik/Master/3.Semester/IDP/nonlinear-fit/src/concentr_diffs_pathlength.py:138\u001b[0m, in \u001b[0;36mconcentr_fit_nonlinear\u001b[0;34m(A, wavelengths, mu_a, func, ref_vals, variables_bool_arr, left_bounds, right_bounds, jacobian, constraint, is_delta_A, init_vals, progress_bar)\u001b[0m\n\u001b[1;32m    135\u001b[0m constraint_vars \u001b[38;5;241m=\u001b[39m LinearConstraint(constraint_matrix[:, variables_bool_arr], lower_constraint_bound_vars, upper_constraint_bound_vars, keep_feasible\u001b[38;5;241m=\u001b[39m\u001b[38;5;28;01mTrue\u001b[39;00m)\n\u001b[1;32m    137\u001b[0m \u001b[38;5;28;01mfor\u001b[39;00m t \u001b[38;5;129;01min\u001b[39;00m tqdm(\u001b[38;5;28mrange\u001b[39m(num_spectra), disable\u001b[38;5;241m=\u001b[39m\u001b[38;5;241m~\u001b[39mprogress_bar):\n\u001b[0;32m--> 138\u001b[0m     res \u001b[38;5;241m=\u001b[39m minimize(\n\u001b[1;32m    139\u001b[0m         func_wrapper,\n\u001b[1;32m    140\u001b[0m         x[:, t\u001b[38;5;241m-\u001b[39m\u001b[38;5;241m1\u001b[39m] \u001b[38;5;28;01mif\u001b[39;00m t \u001b[38;5;241m>\u001b[39m \u001b[38;5;241m0\u001b[39m \u001b[38;5;28;01melse\u001b[39;00m init_vals,\n\u001b[1;32m    141\u001b[0m         method\u001b[38;5;241m=\u001b[39m\u001b[38;5;124m\"\u001b[39m\u001b[38;5;124mtrust-constr\u001b[39m\u001b[38;5;124m\"\u001b[39m,\n\u001b[1;32m    142\u001b[0m         constraints\u001b[38;5;241m=\u001b[39m[constraint_vars],\n\u001b[1;32m    143\u001b[0m         bounds\u001b[38;5;241m=\u001b[39mbounds,\n\u001b[1;32m    144\u001b[0m         args\u001b[38;5;241m=\u001b[39m(A[:, t], A_ref, \u001b[38;5;28;01mTrue\u001b[39;00m)\n\u001b[1;32m    145\u001b[0m     )\n\u001b[1;32m    147\u001b[0m     x[:, t] \u001b[38;5;241m=\u001b[39m res\u001b[38;5;241m.\u001b[39mx\n\u001b[1;32m    148\u001b[0m     errors[:, t] \u001b[38;5;241m=\u001b[39m np\u001b[38;5;241m.\u001b[39msqrt(res\u001b[38;5;241m.\u001b[39mfun \u001b[38;5;241m/\u001b[39m num_wavelengths)\n",
      "File \u001b[0;32m~/anaconda3/envs/idp/lib/python3.11/site-packages/scipy/optimize/_minimize.py:753\u001b[0m, in \u001b[0;36mminimize\u001b[0;34m(fun, x0, args, method, jac, hess, hessp, bounds, constraints, tol, callback, options)\u001b[0m\n\u001b[1;32m    750\u001b[0m     res \u001b[38;5;241m=\u001b[39m _minimize_slsqp(fun, x0, args, jac, bounds,\n\u001b[1;32m    751\u001b[0m                           constraints, callback\u001b[38;5;241m=\u001b[39mcallback, \u001b[38;5;241m*\u001b[39m\u001b[38;5;241m*\u001b[39moptions)\n\u001b[1;32m    752\u001b[0m \u001b[38;5;28;01melif\u001b[39;00m meth \u001b[38;5;241m==\u001b[39m \u001b[38;5;124m'\u001b[39m\u001b[38;5;124mtrust-constr\u001b[39m\u001b[38;5;124m'\u001b[39m:\n\u001b[0;32m--> 753\u001b[0m     res \u001b[38;5;241m=\u001b[39m _minimize_trustregion_constr(fun, x0, args, jac, hess, hessp,\n\u001b[1;32m    754\u001b[0m                                        bounds, constraints,\n\u001b[1;32m    755\u001b[0m                                        callback\u001b[38;5;241m=\u001b[39mcallback, \u001b[38;5;241m*\u001b[39m\u001b[38;5;241m*\u001b[39moptions)\n\u001b[1;32m    756\u001b[0m \u001b[38;5;28;01melif\u001b[39;00m meth \u001b[38;5;241m==\u001b[39m \u001b[38;5;124m'\u001b[39m\u001b[38;5;124mdogleg\u001b[39m\u001b[38;5;124m'\u001b[39m:\n\u001b[1;32m    757\u001b[0m     res \u001b[38;5;241m=\u001b[39m _minimize_dogleg(fun, x0, args, jac, hess,\n\u001b[1;32m    758\u001b[0m                            callback\u001b[38;5;241m=\u001b[39mcallback, \u001b[38;5;241m*\u001b[39m\u001b[38;5;241m*\u001b[39moptions)\n",
      "File \u001b[0;32m~/anaconda3/envs/idp/lib/python3.11/site-packages/scipy/optimize/_trustregion_constr/minimize_trustregion_constr.py:536\u001b[0m, in \u001b[0;36m_minimize_trustregion_constr\u001b[0;34m(fun, x0, args, grad, hess, hessp, bounds, constraints, xtol, gtol, barrier_tol, sparse_jacobian, callback, maxiter, verbose, finite_diff_rel_step, initial_constr_penalty, initial_tr_radius, initial_barrier_parameter, initial_barrier_tolerance, factorization_method, disp)\u001b[0m\n\u001b[1;32m    527\u001b[0m     _, result \u001b[38;5;241m=\u001b[39m equality_constrained_sqp(\n\u001b[1;32m    528\u001b[0m         fun_and_constr, grad_and_jac, lagrangian_hess,\n\u001b[1;32m    529\u001b[0m         x0, objective\u001b[38;5;241m.\u001b[39mf, objective\u001b[38;5;241m.\u001b[39mg,\n\u001b[0;32m   (...)\u001b[0m\n\u001b[1;32m    532\u001b[0m         initial_constr_penalty, initial_tr_radius,\n\u001b[1;32m    533\u001b[0m         factorization_method)\n\u001b[1;32m    535\u001b[0m \u001b[38;5;28;01melif\u001b[39;00m method \u001b[38;5;241m==\u001b[39m \u001b[38;5;124m'\u001b[39m\u001b[38;5;124mtr_interior_point\u001b[39m\u001b[38;5;124m'\u001b[39m:\n\u001b[0;32m--> 536\u001b[0m     _, result \u001b[38;5;241m=\u001b[39m tr_interior_point(\n\u001b[1;32m    537\u001b[0m         objective\u001b[38;5;241m.\u001b[39mfun, objective\u001b[38;5;241m.\u001b[39mgrad, lagrangian_hess,\n\u001b[1;32m    538\u001b[0m         n_vars, canonical\u001b[38;5;241m.\u001b[39mn_ineq, canonical\u001b[38;5;241m.\u001b[39mn_eq,\n\u001b[1;32m    539\u001b[0m         canonical\u001b[38;5;241m.\u001b[39mfun, canonical\u001b[38;5;241m.\u001b[39mjac,\n\u001b[1;32m    540\u001b[0m         x0, objective\u001b[38;5;241m.\u001b[39mf, objective\u001b[38;5;241m.\u001b[39mg,\n\u001b[1;32m    541\u001b[0m         c_ineq0, J_ineq0, c_eq0, J_eq0,\n\u001b[1;32m    542\u001b[0m         stop_criteria,\n\u001b[1;32m    543\u001b[0m         canonical\u001b[38;5;241m.\u001b[39mkeep_feasible,\n\u001b[1;32m    544\u001b[0m         xtol, state, initial_barrier_parameter,\n\u001b[1;32m    545\u001b[0m         initial_barrier_tolerance,\n\u001b[1;32m    546\u001b[0m         initial_constr_penalty, initial_tr_radius,\n\u001b[1;32m    547\u001b[0m         factorization_method, finite_diff_bounds)\n\u001b[1;32m    549\u001b[0m \u001b[38;5;66;03m# Status 4 occurs when minimize is successful but constraints are not satisfied.\u001b[39;00m\n\u001b[1;32m    550\u001b[0m \u001b[38;5;28;01mif\u001b[39;00m result\u001b[38;5;241m.\u001b[39mstatus \u001b[38;5;129;01min\u001b[39;00m (\u001b[38;5;241m1\u001b[39m, \u001b[38;5;241m2\u001b[39m) \u001b[38;5;129;01mand\u001b[39;00m state\u001b[38;5;241m.\u001b[39mconstr_violation \u001b[38;5;241m>\u001b[39m gtol:\n",
      "File \u001b[0;32m~/anaconda3/envs/idp/lib/python3.11/site-packages/scipy/optimize/_trustregion_constr/tr_interior_point.py:336\u001b[0m, in \u001b[0;36mtr_interior_point\u001b[0;34m(fun, grad, lagr_hess, n_vars, n_ineq, n_eq, constr, jac, x0, fun0, grad0, constr_ineq0, jac_ineq0, constr_eq0, jac_eq0, stop_criteria, enforce_feasibility, xtol, state, initial_barrier_parameter, initial_tolerance, initial_penalty, initial_trust_radius, factorization_method, finite_diff_bounds)\u001b[0m\n\u001b[1;32m    333\u001b[0m \u001b[38;5;66;03m# Solves a sequence of barrier problems\u001b[39;00m\n\u001b[1;32m    334\u001b[0m \u001b[38;5;28;01mwhile\u001b[39;00m \u001b[38;5;28;01mTrue\u001b[39;00m:\n\u001b[1;32m    335\u001b[0m     \u001b[38;5;66;03m# Solve SQP subproblem\u001b[39;00m\n\u001b[0;32m--> 336\u001b[0m     z, state \u001b[38;5;241m=\u001b[39m equality_constrained_sqp(\n\u001b[1;32m    337\u001b[0m         subprob\u001b[38;5;241m.\u001b[39mfunction_and_constraints,\n\u001b[1;32m    338\u001b[0m         subprob\u001b[38;5;241m.\u001b[39mgradient_and_jacobian,\n\u001b[1;32m    339\u001b[0m         subprob\u001b[38;5;241m.\u001b[39mlagrangian_hessian,\n\u001b[1;32m    340\u001b[0m         z, fun0_subprob, grad0_subprob,\n\u001b[1;32m    341\u001b[0m         constr0_subprob, jac0_subprob, subprob\u001b[38;5;241m.\u001b[39mstop_criteria,\n\u001b[1;32m    342\u001b[0m         state, initial_penalty, trust_radius,\n\u001b[1;32m    343\u001b[0m         factorization_method, trust_lb, trust_ub, subprob\u001b[38;5;241m.\u001b[39mscaling)\n\u001b[1;32m    344\u001b[0m     \u001b[38;5;28;01mif\u001b[39;00m subprob\u001b[38;5;241m.\u001b[39mterminate:\n\u001b[1;32m    345\u001b[0m         \u001b[38;5;28;01mbreak\u001b[39;00m\n",
      "File \u001b[0;32m~/anaconda3/envs/idp/lib/python3.11/site-packages/scipy/optimize/_trustregion_constr/equality_constrained_sqp.py:161\u001b[0m, in \u001b[0;36mequality_constrained_sqp\u001b[0;34m(fun_and_constr, grad_and_jac, lagr_hess, x0, fun0, grad0, constr0, jac0, stop_criteria, state, initial_penalty, initial_trust_radius, factorization_method, trust_lb, trust_ub, scaling)\u001b[0m\n\u001b[1;32m    159\u001b[0m \u001b[38;5;66;03m# Evaluate function and constraints at trial point\u001b[39;00m\n\u001b[1;32m    160\u001b[0m x_next \u001b[38;5;241m=\u001b[39m x \u001b[38;5;241m+\u001b[39m S\u001b[38;5;241m.\u001b[39mdot(d)\n\u001b[0;32m--> 161\u001b[0m f_next, b_next \u001b[38;5;241m=\u001b[39m fun_and_constr(x_next)\n\u001b[1;32m    162\u001b[0m \u001b[38;5;66;03m# Compute merit function at trial point\u001b[39;00m\n\u001b[1;32m    163\u001b[0m merit_function_next \u001b[38;5;241m=\u001b[39m f_next \u001b[38;5;241m+\u001b[39m penalty\u001b[38;5;241m*\u001b[39mnorm(b_next)\n",
      "File \u001b[0;32m~/anaconda3/envs/idp/lib/python3.11/site-packages/scipy/optimize/_trustregion_constr/tr_interior_point.py:86\u001b[0m, in \u001b[0;36mBarrierSubproblem.function_and_constraints\u001b[0;34m(self, z)\u001b[0m\n\u001b[1;32m     82\u001b[0m s \u001b[38;5;241m=\u001b[39m \u001b[38;5;28mself\u001b[39m\u001b[38;5;241m.\u001b[39mget_slack(z)\n\u001b[1;32m     84\u001b[0m \u001b[38;5;66;03m# Compute function and constraints,\u001b[39;00m\n\u001b[1;32m     85\u001b[0m \u001b[38;5;66;03m# making sure x is within any strict bounds\u001b[39;00m\n\u001b[0;32m---> 86\u001b[0m \u001b[38;5;28;01mif\u001b[39;00m np\u001b[38;5;241m.\u001b[39many((x \u001b[38;5;241m<\u001b[39m \u001b[38;5;28mself\u001b[39m\u001b[38;5;241m.\u001b[39mlb) \u001b[38;5;241m|\u001b[39m (x \u001b[38;5;241m>\u001b[39m \u001b[38;5;28mself\u001b[39m\u001b[38;5;241m.\u001b[39mub)):\n\u001b[1;32m     87\u001b[0m     \u001b[38;5;66;03m# If x is out of the strict bounds, set f = inf,\u001b[39;00m\n\u001b[1;32m     88\u001b[0m     \u001b[38;5;66;03m# and just set both equality and inequality\u001b[39;00m\n\u001b[1;32m     89\u001b[0m     \u001b[38;5;66;03m# constraints to 0 since we can't evaluate\u001b[39;00m\n\u001b[1;32m     90\u001b[0m     \u001b[38;5;66;03m# them separately.\u001b[39;00m\n\u001b[1;32m     91\u001b[0m     f \u001b[38;5;241m=\u001b[39m np\u001b[38;5;241m.\u001b[39minf\n\u001b[1;32m     92\u001b[0m     c_eq \u001b[38;5;241m=\u001b[39m np\u001b[38;5;241m.\u001b[39mfull(\u001b[38;5;28mself\u001b[39m\u001b[38;5;241m.\u001b[39mn_eq, \u001b[38;5;241m0.\u001b[39m)\n",
      "File \u001b[0;32m~/anaconda3/envs/idp/lib/python3.11/site-packages/numpy/core/fromnumeric.py:2317\u001b[0m, in \u001b[0;36m_any_dispatcher\u001b[0;34m(a, axis, out, keepdims, where)\u001b[0m\n\u001b[1;32m   2311\u001b[0m         \u001b[38;5;28;01mreturn\u001b[39;00m res\n\u001b[1;32m   2313\u001b[0m     \u001b[38;5;28;01mreturn\u001b[39;00m _wrapreduction(a, np\u001b[38;5;241m.\u001b[39madd, \u001b[38;5;124m'\u001b[39m\u001b[38;5;124msum\u001b[39m\u001b[38;5;124m'\u001b[39m, axis, dtype, out, keepdims\u001b[38;5;241m=\u001b[39mkeepdims,\n\u001b[1;32m   2314\u001b[0m                           initial\u001b[38;5;241m=\u001b[39minitial, where\u001b[38;5;241m=\u001b[39mwhere)\n\u001b[0;32m-> 2317\u001b[0m \u001b[38;5;28;01mdef\u001b[39;00m \u001b[38;5;21m_any_dispatcher\u001b[39m(a, axis\u001b[38;5;241m=\u001b[39m\u001b[38;5;28;01mNone\u001b[39;00m, out\u001b[38;5;241m=\u001b[39m\u001b[38;5;28;01mNone\u001b[39;00m, keepdims\u001b[38;5;241m=\u001b[39m\u001b[38;5;28;01mNone\u001b[39;00m, \u001b[38;5;241m*\u001b[39m,\n\u001b[1;32m   2318\u001b[0m                     where\u001b[38;5;241m=\u001b[39mnp\u001b[38;5;241m.\u001b[39m_NoValue):\n\u001b[1;32m   2319\u001b[0m     \u001b[38;5;28;01mreturn\u001b[39;00m (a, where, out)\n\u001b[1;32m   2322\u001b[0m \u001b[38;5;129m@array_function_dispatch\u001b[39m(_any_dispatcher)\n\u001b[1;32m   2323\u001b[0m \u001b[38;5;28;01mdef\u001b[39;00m \u001b[38;5;21many\u001b[39m(a, axis\u001b[38;5;241m=\u001b[39m\u001b[38;5;28;01mNone\u001b[39;00m, out\u001b[38;5;241m=\u001b[39m\u001b[38;5;28;01mNone\u001b[39;00m, keepdims\u001b[38;5;241m=\u001b[39mnp\u001b[38;5;241m.\u001b[39m_NoValue, \u001b[38;5;241m*\u001b[39m, where\u001b[38;5;241m=\u001b[39mnp\u001b[38;5;241m.\u001b[39m_NoValue):\n",
      "\u001b[0;31mKeyboardInterrupt\u001b[0m: "
     ]
    }
   ],
   "source": [
    "params_jacques_constrained_flat, errors = concentr_fit_nonlinear(\n",
    "    A_gt_img[:, foreground_mask & labeled_mask],\n",
    "    loader.wavelengths,\n",
    "    mu_a_matrix,\n",
    "    A_jacques_blood_fraction,\n",
    "    ref_vals=np.concatenate((c_ref_gray_matter_fractions, [40.8, 3.089], m_params[1.38])),\n",
    "    variables_bool_arr=np.array([True, True, True, True, True, True, True, True, False, False, False]),\n",
    "    left_bounds=np.array([0, 0, 0, 0, 0, 0, 3, 0.1, None, None, None]),\n",
    "    right_bounds=np.array([1, 1, 0.4, 0.4, 1, 1, 100, 10, None, None, None]),\n",
    "    is_delta_A=False,\n",
    "    # linear constraint given as (A (matrix), lb (vector), ub (vector))\n",
    "    # parameter vector x should satisfy\n",
    "    # lb <= A @ x <= ub\n",
    "    constraint=(np.array([[1, 0, 0, 0, 1, 1, 0, 0, 0, 0, 0]]), np.array([0]), np.array([1])),\n",
    "    progress_bar=True\n",
    ")"
   ]
  },
  {
   "cell_type": "markdown",
   "metadata": {},
   "source": [
    "Store new results..."
   ]
  },
  {
   "cell_type": "code",
   "execution_count": 28,
   "metadata": {},
   "outputs": [],
   "source": [
    "with open(result_path, \"wb\") as f:\n",
    "    pickle.dump(params_jacques_flat, f)"
   ]
  },
  {
   "cell_type": "code",
   "execution_count": 55,
   "metadata": {},
   "outputs": [],
   "source": [
    "c_jacques_constrained_flat = blood_fraction_to_concentrations(params_jacques_constrained_flat[:6, :])\n",
    "c_jacques_constrained_img = np.full((6, *A_gt_img.shape[1:]), np.NaN)\n",
    "c_jacques_constrained_img[:, foreground_mask & labeled_mask] = c_jacques_constrained_flat"
   ]
  },
  {
   "cell_type": "code",
   "execution_count": 56,
   "metadata": {},
   "outputs": [],
   "source": [
    "plot_concentration_imgs(c_jacques_constrained_img)"
   ]
  },
  {
   "cell_type": "markdown",
   "metadata": {},
   "source": [
    "#### Fit Jacques on Absolute Attenuation spectra, with constant scattering, for blood region seprately"
   ]
  },
  {
   "cell_type": "markdown",
   "metadata": {},
   "source": [
    "Here we again fit the Jacques model to absolute attenuation spectra but assume constant scattering in blood vessel, and non-blood vessel areas. Here we can also take different $m_i$'s into account."
   ]
  },
  {
   "cell_type": "code",
   "execution_count": 57,
   "metadata": {},
   "outputs": [],
   "source": [
    "result_path = config.result_dir / f\"jacques_attenuation_absolute_const_scatter/{loader.patient_id}\"\n",
    "os.makedirs(result_path.parent, exist_ok=True)"
   ]
  },
  {
   "cell_type": "markdown",
   "metadata": {},
   "source": [
    "Load previous results..."
   ]
  },
  {
   "cell_type": "code",
   "execution_count": 62,
   "metadata": {},
   "outputs": [],
   "source": [
    "with open(result_path, \"rb\") as f:\n",
    "    c_jacques_blood_vessel_flat, c_jacques_gray_matter_flat = pickle.load(f)"
   ]
  },
  {
   "cell_type": "code",
   "execution_count": 59,
   "metadata": {},
   "outputs": [
    {
     "name": "stdout",
     "output_type": "stream",
     "text": [
      "Note: Bounds for parameters 6, 7, 8, 9, 10 will be ignored, as they are not optimized.\n"
     ]
    },
    {
     "ename": "KeyboardInterrupt",
     "evalue": "",
     "output_type": "error",
     "traceback": [
      "\u001b[0;31m---------------------------------------------------------------------------\u001b[0m",
      "\u001b[0;31mKeyboardInterrupt\u001b[0m                         Traceback (most recent call last)",
      "Cell \u001b[0;32mIn[59], line 1\u001b[0m\n\u001b[0;32m----> 1\u001b[0m c_jacques_blood_vessel_flat, errors \u001b[38;5;241m=\u001b[39m concentr_fit_nonlinear(\n\u001b[1;32m      2\u001b[0m     A_gt_img[:, (loader\u001b[38;5;241m.\u001b[39mlabel_map \u001b[38;5;241m==\u001b[39m \u001b[38;5;241m3\u001b[39m)],\n\u001b[1;32m      3\u001b[0m     loader\u001b[38;5;241m.\u001b[39mwavelengths,\n\u001b[1;32m      4\u001b[0m     mu_a_matrix,\n\u001b[1;32m      5\u001b[0m     A_jacques_blood_fraction,\n\u001b[1;32m      6\u001b[0m     ref_vals\u001b[38;5;241m=\u001b[39mnp\u001b[38;5;241m.\u001b[39mconcatenate((loader\u001b[38;5;241m.\u001b[39mparams_ref_blood_vessel_fraction, m_params[\u001b[38;5;241m1.4\u001b[39m])),\n\u001b[1;32m      7\u001b[0m     variables_bool_arr\u001b[38;5;241m=\u001b[39mnp\u001b[38;5;241m.\u001b[39marray([\u001b[38;5;28;01mTrue\u001b[39;00m, \u001b[38;5;28;01mTrue\u001b[39;00m, \u001b[38;5;28;01mTrue\u001b[39;00m, \u001b[38;5;28;01mTrue\u001b[39;00m, \u001b[38;5;28;01mTrue\u001b[39;00m, \u001b[38;5;28;01mTrue\u001b[39;00m, \u001b[38;5;28;01mFalse\u001b[39;00m, \u001b[38;5;28;01mFalse\u001b[39;00m, \u001b[38;5;28;01mFalse\u001b[39;00m, \u001b[38;5;28;01mFalse\u001b[39;00m, \u001b[38;5;28;01mFalse\u001b[39;00m]),\n\u001b[1;32m      8\u001b[0m     left_bounds\u001b[38;5;241m=\u001b[39mnp\u001b[38;5;241m.\u001b[39marray([\u001b[38;5;241m0\u001b[39m, \u001b[38;5;241m0\u001b[39m, \u001b[38;5;241m0\u001b[39m, \u001b[38;5;241m0\u001b[39m, \u001b[38;5;241m0\u001b[39m, \u001b[38;5;241m0\u001b[39m, \u001b[38;5;241m0.5\u001b[39m, \u001b[38;5;241m0.01\u001b[39m, \u001b[38;5;28;01mNone\u001b[39;00m, \u001b[38;5;28;01mNone\u001b[39;00m, \u001b[38;5;28;01mNone\u001b[39;00m]),\n\u001b[1;32m      9\u001b[0m     right_bounds\u001b[38;5;241m=\u001b[39mnp\u001b[38;5;241m.\u001b[39marray([\u001b[38;5;241m1\u001b[39m, \u001b[38;5;241m1\u001b[39m, \u001b[38;5;241m0.04\u001b[39m, \u001b[38;5;241m0.04\u001b[39m, \u001b[38;5;241m1\u001b[39m, \u001b[38;5;241m1\u001b[39m, \u001b[38;5;241m100\u001b[39m, \u001b[38;5;241m10\u001b[39m, \u001b[38;5;28;01mNone\u001b[39;00m, \u001b[38;5;28;01mNone\u001b[39;00m, \u001b[38;5;28;01mNone\u001b[39;00m])\n\u001b[1;32m     10\u001b[0m )\n",
      "File \u001b[0;32m/media/leon/Storage/Studium/Informatik/Master/3.Semester/IDP/nonlinear-fit/src/concentr_diffs_pathlength.py:117\u001b[0m, in \u001b[0;36mconcentr_fit_nonlinear\u001b[0;34m(A, wavelengths, mu_a, func, ref_vals, variables_bool_arr, left_bounds, right_bounds, jacobian, constraint, is_delta_A, init_vals, progress_bar)\u001b[0m\n\u001b[1;32m    115\u001b[0m \u001b[38;5;28;01mif\u001b[39;00m constraint \u001b[38;5;129;01mis\u001b[39;00m \u001b[38;5;28;01mNone\u001b[39;00m:\n\u001b[1;32m    116\u001b[0m     \u001b[38;5;28;01mfor\u001b[39;00m t \u001b[38;5;129;01min\u001b[39;00m tqdm(\u001b[38;5;28mrange\u001b[39m(num_spectra), disable\u001b[38;5;241m=\u001b[39m\u001b[38;5;241m~\u001b[39mprogress_bar):\n\u001b[0;32m--> 117\u001b[0m         res \u001b[38;5;241m=\u001b[39m least_squares(\n\u001b[1;32m    118\u001b[0m             func_wrapper,\n\u001b[1;32m    119\u001b[0m             x[:, t\u001b[38;5;241m-\u001b[39m\u001b[38;5;241m1\u001b[39m] \u001b[38;5;28;01mif\u001b[39;00m t \u001b[38;5;241m>\u001b[39m \u001b[38;5;241m0\u001b[39m \u001b[38;5;28;01melse\u001b[39;00m init_vals,\n\u001b[1;32m    120\u001b[0m             bounds\u001b[38;5;241m=\u001b[39m(left_bounds, right_bounds),\n\u001b[1;32m    121\u001b[0m             jac\u001b[38;5;241m=\u001b[39m\u001b[38;5;124m\"\u001b[39m\u001b[38;5;124m2-point\u001b[39m\u001b[38;5;124m\"\u001b[39m \u001b[38;5;28;01mif\u001b[39;00m jacobian \u001b[38;5;129;01mis\u001b[39;00m \u001b[38;5;28;01mNone\u001b[39;00m \u001b[38;5;28;01melse\u001b[39;00m jacobian_wrapper,\n\u001b[1;32m    122\u001b[0m             args\u001b[38;5;241m=\u001b[39m(A[:, t], A_ref)\n\u001b[1;32m    123\u001b[0m         )\n\u001b[1;32m    125\u001b[0m         x[:, t] \u001b[38;5;241m=\u001b[39m res\u001b[38;5;241m.\u001b[39mx\n\u001b[1;32m    126\u001b[0m         errors[:, t] \u001b[38;5;241m=\u001b[39m res\u001b[38;5;241m.\u001b[39mcost\n",
      "File \u001b[0;32m~/anaconda3/envs/idp/lib/python3.11/site-packages/scipy/optimize/_lsq/least_squares.py:947\u001b[0m, in \u001b[0;36mleast_squares\u001b[0;34m(fun, x0, jac, bounds, method, ftol, xtol, gtol, x_scale, loss, f_scale, diff_step, tr_solver, tr_options, jac_sparsity, max_nfev, verbose, args, kwargs)\u001b[0m\n\u001b[1;32m    943\u001b[0m     result \u001b[38;5;241m=\u001b[39m call_minpack(fun_wrapped, x0, jac_wrapped, ftol, xtol, gtol,\n\u001b[1;32m    944\u001b[0m                           max_nfev, x_scale, diff_step)\n\u001b[1;32m    946\u001b[0m \u001b[38;5;28;01melif\u001b[39;00m method \u001b[38;5;241m==\u001b[39m \u001b[38;5;124m'\u001b[39m\u001b[38;5;124mtrf\u001b[39m\u001b[38;5;124m'\u001b[39m:\n\u001b[0;32m--> 947\u001b[0m     result \u001b[38;5;241m=\u001b[39m trf(fun_wrapped, jac_wrapped, x0, f0, J0, lb, ub, ftol, xtol,\n\u001b[1;32m    948\u001b[0m                  gtol, max_nfev, x_scale, loss_function, tr_solver,\n\u001b[1;32m    949\u001b[0m                  tr_options\u001b[38;5;241m.\u001b[39mcopy(), verbose)\n\u001b[1;32m    951\u001b[0m \u001b[38;5;28;01melif\u001b[39;00m method \u001b[38;5;241m==\u001b[39m \u001b[38;5;124m'\u001b[39m\u001b[38;5;124mdogbox\u001b[39m\u001b[38;5;124m'\u001b[39m:\n\u001b[1;32m    952\u001b[0m     \u001b[38;5;28;01mif\u001b[39;00m tr_solver \u001b[38;5;241m==\u001b[39m \u001b[38;5;124m'\u001b[39m\u001b[38;5;124mlsmr\u001b[39m\u001b[38;5;124m'\u001b[39m \u001b[38;5;129;01mand\u001b[39;00m \u001b[38;5;124m'\u001b[39m\u001b[38;5;124mregularize\u001b[39m\u001b[38;5;124m'\u001b[39m \u001b[38;5;129;01min\u001b[39;00m tr_options:\n",
      "File \u001b[0;32m~/anaconda3/envs/idp/lib/python3.11/site-packages/scipy/optimize/_lsq/trf.py:123\u001b[0m, in \u001b[0;36mtrf\u001b[0;34m(fun, jac, x0, f0, J0, lb, ub, ftol, xtol, gtol, max_nfev, x_scale, loss_function, tr_solver, tr_options, verbose)\u001b[0m\n\u001b[1;32m    119\u001b[0m     \u001b[38;5;28;01mreturn\u001b[39;00m trf_no_bounds(\n\u001b[1;32m    120\u001b[0m         fun, jac, x0, f0, J0, ftol, xtol, gtol, max_nfev, x_scale,\n\u001b[1;32m    121\u001b[0m         loss_function, tr_solver, tr_options, verbose)\n\u001b[1;32m    122\u001b[0m \u001b[38;5;28;01melse\u001b[39;00m:\n\u001b[0;32m--> 123\u001b[0m     \u001b[38;5;28;01mreturn\u001b[39;00m trf_bounds(\n\u001b[1;32m    124\u001b[0m         fun, jac, x0, f0, J0, lb, ub, ftol, xtol, gtol, max_nfev, x_scale,\n\u001b[1;32m    125\u001b[0m         loss_function, tr_solver, tr_options, verbose)\n",
      "File \u001b[0;32m~/anaconda3/envs/idp/lib/python3.11/site-packages/scipy/optimize/_lsq/trf.py:374\u001b[0m, in \u001b[0;36mtrf_bounds\u001b[0;34m(fun, jac, x0, f0, J0, lb, ub, ftol, xtol, gtol, max_nfev, x_scale, loss_function, tr_solver, tr_options, verbose)\u001b[0m\n\u001b[1;32m    370\u001b[0m f_true \u001b[38;5;241m=\u001b[39m f\u001b[38;5;241m.\u001b[39mcopy()\n\u001b[1;32m    372\u001b[0m cost \u001b[38;5;241m=\u001b[39m cost_new\n\u001b[0;32m--> 374\u001b[0m J \u001b[38;5;241m=\u001b[39m jac(x, f)\n\u001b[1;32m    375\u001b[0m njev \u001b[38;5;241m+\u001b[39m\u001b[38;5;241m=\u001b[39m \u001b[38;5;241m1\u001b[39m\n\u001b[1;32m    377\u001b[0m \u001b[38;5;28;01mif\u001b[39;00m loss_function \u001b[38;5;129;01mis\u001b[39;00m \u001b[38;5;129;01mnot\u001b[39;00m \u001b[38;5;28;01mNone\u001b[39;00m:\n",
      "File \u001b[0;32m~/anaconda3/envs/idp/lib/python3.11/site-packages/scipy/optimize/_lsq/least_squares.py:904\u001b[0m, in \u001b[0;36mleast_squares.<locals>.jac_wrapped\u001b[0;34m(x, f)\u001b[0m\n\u001b[1;32m    903\u001b[0m \u001b[38;5;28;01mdef\u001b[39;00m \u001b[38;5;21mjac_wrapped\u001b[39m(x, f):\n\u001b[0;32m--> 904\u001b[0m     J \u001b[38;5;241m=\u001b[39m approx_derivative(fun, x, rel_step\u001b[38;5;241m=\u001b[39mdiff_step, method\u001b[38;5;241m=\u001b[39mjac,\n\u001b[1;32m    905\u001b[0m                           f0\u001b[38;5;241m=\u001b[39mf, bounds\u001b[38;5;241m=\u001b[39mbounds, args\u001b[38;5;241m=\u001b[39margs,\n\u001b[1;32m    906\u001b[0m                           kwargs\u001b[38;5;241m=\u001b[39mkwargs, sparsity\u001b[38;5;241m=\u001b[39mjac_sparsity)\n\u001b[1;32m    907\u001b[0m     \u001b[38;5;28;01mif\u001b[39;00m J\u001b[38;5;241m.\u001b[39mndim \u001b[38;5;241m!=\u001b[39m \u001b[38;5;241m2\u001b[39m:  \u001b[38;5;66;03m# J is guaranteed not sparse.\u001b[39;00m\n\u001b[1;32m    908\u001b[0m         J \u001b[38;5;241m=\u001b[39m np\u001b[38;5;241m.\u001b[39matleast_2d(J)\n",
      "File \u001b[0;32m~/anaconda3/envs/idp/lib/python3.11/site-packages/scipy/optimize/_numdiff.py:523\u001b[0m, in \u001b[0;36mapprox_derivative\u001b[0;34m(fun, x0, method, rel_step, abs_step, f0, bounds, sparsity, as_linear_operator, args, kwargs)\u001b[0m\n\u001b[1;32m    520\u001b[0m     use_one_sided \u001b[38;5;241m=\u001b[39m \u001b[38;5;28;01mFalse\u001b[39;00m\n\u001b[1;32m    522\u001b[0m \u001b[38;5;28;01mif\u001b[39;00m sparsity \u001b[38;5;129;01mis\u001b[39;00m \u001b[38;5;28;01mNone\u001b[39;00m:\n\u001b[0;32m--> 523\u001b[0m     \u001b[38;5;28;01mreturn\u001b[39;00m _dense_difference(fun_wrapped, x0, f0, h,\n\u001b[1;32m    524\u001b[0m                              use_one_sided, method)\n\u001b[1;32m    525\u001b[0m \u001b[38;5;28;01melse\u001b[39;00m:\n\u001b[1;32m    526\u001b[0m     \u001b[38;5;28;01mif\u001b[39;00m \u001b[38;5;129;01mnot\u001b[39;00m issparse(sparsity) \u001b[38;5;129;01mand\u001b[39;00m \u001b[38;5;28mlen\u001b[39m(sparsity) \u001b[38;5;241m==\u001b[39m \u001b[38;5;241m2\u001b[39m:\n",
      "File \u001b[0;32m~/anaconda3/envs/idp/lib/python3.11/site-packages/scipy/optimize/_numdiff.py:596\u001b[0m, in \u001b[0;36m_dense_difference\u001b[0;34m(fun, x0, f0, h, use_one_sided, method)\u001b[0m\n\u001b[1;32m    594\u001b[0m     x1[i] \u001b[38;5;241m+\u001b[39m\u001b[38;5;241m=\u001b[39m h[i]\n\u001b[1;32m    595\u001b[0m     dx \u001b[38;5;241m=\u001b[39m x1[i] \u001b[38;5;241m-\u001b[39m x0[i]  \u001b[38;5;66;03m# Recompute dx as exactly representable number.\u001b[39;00m\n\u001b[0;32m--> 596\u001b[0m     df \u001b[38;5;241m=\u001b[39m fun(x1) \u001b[38;5;241m-\u001b[39m f0\n\u001b[1;32m    597\u001b[0m \u001b[38;5;28;01melif\u001b[39;00m method \u001b[38;5;241m==\u001b[39m \u001b[38;5;124m'\u001b[39m\u001b[38;5;124m3-point\u001b[39m\u001b[38;5;124m'\u001b[39m \u001b[38;5;129;01mand\u001b[39;00m use_one_sided[i]:\n\u001b[1;32m    598\u001b[0m     x1[i] \u001b[38;5;241m+\u001b[39m\u001b[38;5;241m=\u001b[39m h[i]\n",
      "File \u001b[0;32m~/anaconda3/envs/idp/lib/python3.11/site-packages/scipy/optimize/_numdiff.py:474\u001b[0m, in \u001b[0;36mapprox_derivative.<locals>.fun_wrapped\u001b[0;34m(x)\u001b[0m\n\u001b[1;32m    471\u001b[0m \u001b[38;5;28;01mif\u001b[39;00m xp\u001b[38;5;241m.\u001b[39misdtype(x\u001b[38;5;241m.\u001b[39mdtype, \u001b[38;5;124m\"\u001b[39m\u001b[38;5;124mreal floating\u001b[39m\u001b[38;5;124m\"\u001b[39m):\n\u001b[1;32m    472\u001b[0m     x \u001b[38;5;241m=\u001b[39m xp\u001b[38;5;241m.\u001b[39mastype(x, x0\u001b[38;5;241m.\u001b[39mdtype)\n\u001b[0;32m--> 474\u001b[0m f \u001b[38;5;241m=\u001b[39m np\u001b[38;5;241m.\u001b[39matleast_1d(fun(x, \u001b[38;5;241m*\u001b[39margs, \u001b[38;5;241m*\u001b[39m\u001b[38;5;241m*\u001b[39mkwargs))\n\u001b[1;32m    475\u001b[0m \u001b[38;5;28;01mif\u001b[39;00m f\u001b[38;5;241m.\u001b[39mndim \u001b[38;5;241m>\u001b[39m \u001b[38;5;241m1\u001b[39m:\n\u001b[1;32m    476\u001b[0m     \u001b[38;5;28;01mraise\u001b[39;00m \u001b[38;5;167;01mRuntimeError\u001b[39;00m(\u001b[38;5;124m\"\u001b[39m\u001b[38;5;124m`fun` return value has \u001b[39m\u001b[38;5;124m\"\u001b[39m\n\u001b[1;32m    477\u001b[0m                        \u001b[38;5;124m\"\u001b[39m\u001b[38;5;124mmore than 1 dimension.\u001b[39m\u001b[38;5;124m\"\u001b[39m)\n",
      "File \u001b[0;32m/media/leon/Storage/Studium/Informatik/Master/3.Semester/IDP/nonlinear-fit/src/concentr_diffs_pathlength.py:75\u001b[0m, in \u001b[0;36mconcentr_fit_nonlinear.<locals>.func_wrapper\u001b[0;34m(x, A_t, A_ref, sum_and_square)\u001b[0m\n\u001b[1;32m     73\u001b[0m params[variables_bool_arr[num_molecules:]] \u001b[38;5;241m=\u001b[39m x[num_molecule_vars:]\n\u001b[1;32m     74\u001b[0m params[\u001b[38;5;241m~\u001b[39mvariables_bool_arr[num_molecules:]] \u001b[38;5;241m=\u001b[39m ref_vals[\u001b[38;5;241m~\u001b[39mvariables_bool_arr][\u001b[38;5;241m-\u001b[39mnum_params:]\n\u001b[0;32m---> 75\u001b[0m A_func \u001b[38;5;241m=\u001b[39m func(wavelengths, mu_a, c_full, \u001b[38;5;241m*\u001b[39mparams)\n\u001b[1;32m     76\u001b[0m res \u001b[38;5;241m=\u001b[39m A_t \u001b[38;5;241m-\u001b[39m A_func[:, \u001b[38;5;241m0\u001b[39m]\n\u001b[1;32m     77\u001b[0m \u001b[38;5;28;01mif\u001b[39;00m A_ref \u001b[38;5;129;01mis\u001b[39;00m \u001b[38;5;129;01mnot\u001b[39;00m \u001b[38;5;28;01mNone\u001b[39;00m:\n",
      "\u001b[0;31mKeyboardInterrupt\u001b[0m: "
     ]
    }
   ],
   "source": [
    "c_jacques_blood_vessel_flat, errors = concentr_fit_nonlinear(\n",
    "    A_gt_img[:, (loader.label_map == 3)],\n",
    "    loader.wavelengths,\n",
    "    mu_a_matrix,\n",
    "    A_jacques_blood_fraction,\n",
    "    ref_vals=np.concatenate((loader.params_ref_blood_vessel_fraction, m_params[1.4])),\n",
    "    variables_bool_arr=np.array([True, True, True, True, True, True, False, False, False, False, False]),\n",
    "    left_bounds=np.array([0, 0, 0, 0, 0, 0, 0.5, 0.01, None, None, None]),\n",
    "    right_bounds=np.array([1, 1, 0.04, 0.04, 1, 1, 100, 10, None, None, None])\n",
    ")"
   ]
  },
  {
   "cell_type": "code",
   "execution_count": 60,
   "metadata": {},
   "outputs": [
    {
     "name": "stdout",
     "output_type": "stream",
     "text": [
      "Note: Bounds for parameters 6, 7, 8, 9, 10 will be ignored, as they are not optimized.\n"
     ]
    },
    {
     "ename": "KeyboardInterrupt",
     "evalue": "",
     "output_type": "error",
     "traceback": [
      "\u001b[0;31m---------------------------------------------------------------------------\u001b[0m",
      "\u001b[0;31mKeyboardInterrupt\u001b[0m                         Traceback (most recent call last)",
      "Cell \u001b[0;32mIn[60], line 1\u001b[0m\n\u001b[0;32m----> 1\u001b[0m c_jacques_gray_matter_flat, errors \u001b[38;5;241m=\u001b[39m concentr_fit_nonlinear(\n\u001b[1;32m      2\u001b[0m     A_gt_img[:, (loader\u001b[38;5;241m.\u001b[39mlabel_map \u001b[38;5;241m<\u001b[39m\u001b[38;5;241m=\u001b[39m \u001b[38;5;241m2\u001b[39m)],\n\u001b[1;32m      3\u001b[0m     loader\u001b[38;5;241m.\u001b[39mwavelengths,\n\u001b[1;32m      4\u001b[0m     mu_a_matrix,\n\u001b[1;32m      5\u001b[0m     A_jacques_blood_fraction,\n\u001b[1;32m      6\u001b[0m     ref_vals\u001b[38;5;241m=\u001b[39mnp\u001b[38;5;241m.\u001b[39mconcatenate((loader\u001b[38;5;241m.\u001b[39mparams_ref_gray_matter_fraction, m_params[\u001b[38;5;241m1.38\u001b[39m])),\n\u001b[1;32m      7\u001b[0m     variables_bool_arr\u001b[38;5;241m=\u001b[39mnp\u001b[38;5;241m.\u001b[39marray([\u001b[38;5;28;01mTrue\u001b[39;00m, \u001b[38;5;28;01mTrue\u001b[39;00m, \u001b[38;5;28;01mTrue\u001b[39;00m, \u001b[38;5;28;01mTrue\u001b[39;00m, \u001b[38;5;28;01mTrue\u001b[39;00m, \u001b[38;5;28;01mTrue\u001b[39;00m, \u001b[38;5;28;01mFalse\u001b[39;00m, \u001b[38;5;28;01mFalse\u001b[39;00m, \u001b[38;5;28;01mFalse\u001b[39;00m, \u001b[38;5;28;01mFalse\u001b[39;00m, \u001b[38;5;28;01mFalse\u001b[39;00m]),\n\u001b[1;32m      8\u001b[0m     left_bounds\u001b[38;5;241m=\u001b[39mnp\u001b[38;5;241m.\u001b[39marray([\u001b[38;5;241m0\u001b[39m, \u001b[38;5;241m0\u001b[39m, \u001b[38;5;241m0\u001b[39m, \u001b[38;5;241m0\u001b[39m, \u001b[38;5;241m0\u001b[39m, \u001b[38;5;241m0\u001b[39m, \u001b[38;5;241m3\u001b[39m, \u001b[38;5;241m0.1\u001b[39m, \u001b[38;5;28;01mNone\u001b[39;00m, \u001b[38;5;28;01mNone\u001b[39;00m, \u001b[38;5;28;01mNone\u001b[39;00m]),\n\u001b[1;32m      9\u001b[0m     right_bounds\u001b[38;5;241m=\u001b[39mnp\u001b[38;5;241m.\u001b[39marray([\u001b[38;5;241m1\u001b[39m, \u001b[38;5;241m1\u001b[39m, \u001b[38;5;241m0.04\u001b[39m, \u001b[38;5;241m0.04\u001b[39m, \u001b[38;5;241m1\u001b[39m, \u001b[38;5;241m1\u001b[39m, \u001b[38;5;241m100\u001b[39m, \u001b[38;5;241m10\u001b[39m, \u001b[38;5;28;01mNone\u001b[39;00m, \u001b[38;5;28;01mNone\u001b[39;00m, \u001b[38;5;28;01mNone\u001b[39;00m]),\n\u001b[1;32m     10\u001b[0m     is_delta_A\u001b[38;5;241m=\u001b[39m\u001b[38;5;28;01mFalse\u001b[39;00m,\n\u001b[1;32m     11\u001b[0m     progress_bar\u001b[38;5;241m=\u001b[39m\u001b[38;5;28;01mTrue\u001b[39;00m\n\u001b[1;32m     12\u001b[0m )\n",
      "File \u001b[0;32m/media/leon/Storage/Studium/Informatik/Master/3.Semester/IDP/nonlinear-fit/src/concentr_diffs_pathlength.py:117\u001b[0m, in \u001b[0;36mconcentr_fit_nonlinear\u001b[0;34m(A, wavelengths, mu_a, func, ref_vals, variables_bool_arr, left_bounds, right_bounds, jacobian, constraint, is_delta_A, init_vals, progress_bar)\u001b[0m\n\u001b[1;32m    115\u001b[0m \u001b[38;5;28;01mif\u001b[39;00m constraint \u001b[38;5;129;01mis\u001b[39;00m \u001b[38;5;28;01mNone\u001b[39;00m:\n\u001b[1;32m    116\u001b[0m     \u001b[38;5;28;01mfor\u001b[39;00m t \u001b[38;5;129;01min\u001b[39;00m tqdm(\u001b[38;5;28mrange\u001b[39m(num_spectra), disable\u001b[38;5;241m=\u001b[39m\u001b[38;5;241m~\u001b[39mprogress_bar):\n\u001b[0;32m--> 117\u001b[0m         res \u001b[38;5;241m=\u001b[39m least_squares(\n\u001b[1;32m    118\u001b[0m             func_wrapper,\n\u001b[1;32m    119\u001b[0m             x[:, t\u001b[38;5;241m-\u001b[39m\u001b[38;5;241m1\u001b[39m] \u001b[38;5;28;01mif\u001b[39;00m t \u001b[38;5;241m>\u001b[39m \u001b[38;5;241m0\u001b[39m \u001b[38;5;28;01melse\u001b[39;00m init_vals,\n\u001b[1;32m    120\u001b[0m             bounds\u001b[38;5;241m=\u001b[39m(left_bounds, right_bounds),\n\u001b[1;32m    121\u001b[0m             jac\u001b[38;5;241m=\u001b[39m\u001b[38;5;124m\"\u001b[39m\u001b[38;5;124m2-point\u001b[39m\u001b[38;5;124m\"\u001b[39m \u001b[38;5;28;01mif\u001b[39;00m jacobian \u001b[38;5;129;01mis\u001b[39;00m \u001b[38;5;28;01mNone\u001b[39;00m \u001b[38;5;28;01melse\u001b[39;00m jacobian_wrapper,\n\u001b[1;32m    122\u001b[0m             args\u001b[38;5;241m=\u001b[39m(A[:, t], A_ref)\n\u001b[1;32m    123\u001b[0m         )\n\u001b[1;32m    125\u001b[0m         x[:, t] \u001b[38;5;241m=\u001b[39m res\u001b[38;5;241m.\u001b[39mx\n\u001b[1;32m    126\u001b[0m         errors[:, t] \u001b[38;5;241m=\u001b[39m res\u001b[38;5;241m.\u001b[39mcost\n",
      "File \u001b[0;32m~/anaconda3/envs/idp/lib/python3.11/site-packages/scipy/optimize/_lsq/least_squares.py:947\u001b[0m, in \u001b[0;36mleast_squares\u001b[0;34m(fun, x0, jac, bounds, method, ftol, xtol, gtol, x_scale, loss, f_scale, diff_step, tr_solver, tr_options, jac_sparsity, max_nfev, verbose, args, kwargs)\u001b[0m\n\u001b[1;32m    943\u001b[0m     result \u001b[38;5;241m=\u001b[39m call_minpack(fun_wrapped, x0, jac_wrapped, ftol, xtol, gtol,\n\u001b[1;32m    944\u001b[0m                           max_nfev, x_scale, diff_step)\n\u001b[1;32m    946\u001b[0m \u001b[38;5;28;01melif\u001b[39;00m method \u001b[38;5;241m==\u001b[39m \u001b[38;5;124m'\u001b[39m\u001b[38;5;124mtrf\u001b[39m\u001b[38;5;124m'\u001b[39m:\n\u001b[0;32m--> 947\u001b[0m     result \u001b[38;5;241m=\u001b[39m trf(fun_wrapped, jac_wrapped, x0, f0, J0, lb, ub, ftol, xtol,\n\u001b[1;32m    948\u001b[0m                  gtol, max_nfev, x_scale, loss_function, tr_solver,\n\u001b[1;32m    949\u001b[0m                  tr_options\u001b[38;5;241m.\u001b[39mcopy(), verbose)\n\u001b[1;32m    951\u001b[0m \u001b[38;5;28;01melif\u001b[39;00m method \u001b[38;5;241m==\u001b[39m \u001b[38;5;124m'\u001b[39m\u001b[38;5;124mdogbox\u001b[39m\u001b[38;5;124m'\u001b[39m:\n\u001b[1;32m    952\u001b[0m     \u001b[38;5;28;01mif\u001b[39;00m tr_solver \u001b[38;5;241m==\u001b[39m \u001b[38;5;124m'\u001b[39m\u001b[38;5;124mlsmr\u001b[39m\u001b[38;5;124m'\u001b[39m \u001b[38;5;129;01mand\u001b[39;00m \u001b[38;5;124m'\u001b[39m\u001b[38;5;124mregularize\u001b[39m\u001b[38;5;124m'\u001b[39m \u001b[38;5;129;01min\u001b[39;00m tr_options:\n",
      "File \u001b[0;32m~/anaconda3/envs/idp/lib/python3.11/site-packages/scipy/optimize/_lsq/trf.py:123\u001b[0m, in \u001b[0;36mtrf\u001b[0;34m(fun, jac, x0, f0, J0, lb, ub, ftol, xtol, gtol, max_nfev, x_scale, loss_function, tr_solver, tr_options, verbose)\u001b[0m\n\u001b[1;32m    119\u001b[0m     \u001b[38;5;28;01mreturn\u001b[39;00m trf_no_bounds(\n\u001b[1;32m    120\u001b[0m         fun, jac, x0, f0, J0, ftol, xtol, gtol, max_nfev, x_scale,\n\u001b[1;32m    121\u001b[0m         loss_function, tr_solver, tr_options, verbose)\n\u001b[1;32m    122\u001b[0m \u001b[38;5;28;01melse\u001b[39;00m:\n\u001b[0;32m--> 123\u001b[0m     \u001b[38;5;28;01mreturn\u001b[39;00m trf_bounds(\n\u001b[1;32m    124\u001b[0m         fun, jac, x0, f0, J0, lb, ub, ftol, xtol, gtol, max_nfev, x_scale,\n\u001b[1;32m    125\u001b[0m         loss_function, tr_solver, tr_options, verbose)\n",
      "File \u001b[0;32m~/anaconda3/envs/idp/lib/python3.11/site-packages/scipy/optimize/_lsq/trf.py:374\u001b[0m, in \u001b[0;36mtrf_bounds\u001b[0;34m(fun, jac, x0, f0, J0, lb, ub, ftol, xtol, gtol, max_nfev, x_scale, loss_function, tr_solver, tr_options, verbose)\u001b[0m\n\u001b[1;32m    370\u001b[0m f_true \u001b[38;5;241m=\u001b[39m f\u001b[38;5;241m.\u001b[39mcopy()\n\u001b[1;32m    372\u001b[0m cost \u001b[38;5;241m=\u001b[39m cost_new\n\u001b[0;32m--> 374\u001b[0m J \u001b[38;5;241m=\u001b[39m jac(x, f)\n\u001b[1;32m    375\u001b[0m njev \u001b[38;5;241m+\u001b[39m\u001b[38;5;241m=\u001b[39m \u001b[38;5;241m1\u001b[39m\n\u001b[1;32m    377\u001b[0m \u001b[38;5;28;01mif\u001b[39;00m loss_function \u001b[38;5;129;01mis\u001b[39;00m \u001b[38;5;129;01mnot\u001b[39;00m \u001b[38;5;28;01mNone\u001b[39;00m:\n",
      "File \u001b[0;32m~/anaconda3/envs/idp/lib/python3.11/site-packages/scipy/optimize/_lsq/least_squares.py:904\u001b[0m, in \u001b[0;36mleast_squares.<locals>.jac_wrapped\u001b[0;34m(x, f)\u001b[0m\n\u001b[1;32m    903\u001b[0m \u001b[38;5;28;01mdef\u001b[39;00m \u001b[38;5;21mjac_wrapped\u001b[39m(x, f):\n\u001b[0;32m--> 904\u001b[0m     J \u001b[38;5;241m=\u001b[39m approx_derivative(fun, x, rel_step\u001b[38;5;241m=\u001b[39mdiff_step, method\u001b[38;5;241m=\u001b[39mjac,\n\u001b[1;32m    905\u001b[0m                           f0\u001b[38;5;241m=\u001b[39mf, bounds\u001b[38;5;241m=\u001b[39mbounds, args\u001b[38;5;241m=\u001b[39margs,\n\u001b[1;32m    906\u001b[0m                           kwargs\u001b[38;5;241m=\u001b[39mkwargs, sparsity\u001b[38;5;241m=\u001b[39mjac_sparsity)\n\u001b[1;32m    907\u001b[0m     \u001b[38;5;28;01mif\u001b[39;00m J\u001b[38;5;241m.\u001b[39mndim \u001b[38;5;241m!=\u001b[39m \u001b[38;5;241m2\u001b[39m:  \u001b[38;5;66;03m# J is guaranteed not sparse.\u001b[39;00m\n\u001b[1;32m    908\u001b[0m         J \u001b[38;5;241m=\u001b[39m np\u001b[38;5;241m.\u001b[39matleast_2d(J)\n",
      "File \u001b[0;32m~/anaconda3/envs/idp/lib/python3.11/site-packages/scipy/optimize/_numdiff.py:523\u001b[0m, in \u001b[0;36mapprox_derivative\u001b[0;34m(fun, x0, method, rel_step, abs_step, f0, bounds, sparsity, as_linear_operator, args, kwargs)\u001b[0m\n\u001b[1;32m    520\u001b[0m     use_one_sided \u001b[38;5;241m=\u001b[39m \u001b[38;5;28;01mFalse\u001b[39;00m\n\u001b[1;32m    522\u001b[0m \u001b[38;5;28;01mif\u001b[39;00m sparsity \u001b[38;5;129;01mis\u001b[39;00m \u001b[38;5;28;01mNone\u001b[39;00m:\n\u001b[0;32m--> 523\u001b[0m     \u001b[38;5;28;01mreturn\u001b[39;00m _dense_difference(fun_wrapped, x0, f0, h,\n\u001b[1;32m    524\u001b[0m                              use_one_sided, method)\n\u001b[1;32m    525\u001b[0m \u001b[38;5;28;01melse\u001b[39;00m:\n\u001b[1;32m    526\u001b[0m     \u001b[38;5;28;01mif\u001b[39;00m \u001b[38;5;129;01mnot\u001b[39;00m issparse(sparsity) \u001b[38;5;129;01mand\u001b[39;00m \u001b[38;5;28mlen\u001b[39m(sparsity) \u001b[38;5;241m==\u001b[39m \u001b[38;5;241m2\u001b[39m:\n",
      "File \u001b[0;32m~/anaconda3/envs/idp/lib/python3.11/site-packages/scipy/optimize/_numdiff.py:620\u001b[0m, in \u001b[0;36m_dense_difference\u001b[0;34m(fun, x0, f0, h, use_one_sided, method)\u001b[0m\n\u001b[1;32m    617\u001b[0m         \u001b[38;5;28;01mraise\u001b[39;00m \u001b[38;5;167;01mRuntimeError\u001b[39;00m(\u001b[38;5;124m\"\u001b[39m\u001b[38;5;124mNever be here.\u001b[39m\u001b[38;5;124m\"\u001b[39m)\n\u001b[1;32m    619\u001b[0m     J_transposed[i] \u001b[38;5;241m=\u001b[39m df \u001b[38;5;241m/\u001b[39m dx\n\u001b[0;32m--> 620\u001b[0m     x1[i] \u001b[38;5;241m=\u001b[39m x2[i] \u001b[38;5;241m=\u001b[39m xc[i] \u001b[38;5;241m=\u001b[39m x0[i]\n\u001b[1;32m    622\u001b[0m \u001b[38;5;28;01mif\u001b[39;00m m \u001b[38;5;241m==\u001b[39m \u001b[38;5;241m1\u001b[39m:\n\u001b[1;32m    623\u001b[0m     J_transposed \u001b[38;5;241m=\u001b[39m np\u001b[38;5;241m.\u001b[39mravel(J_transposed)\n",
      "\u001b[0;31mKeyboardInterrupt\u001b[0m: "
     ]
    }
   ],
   "source": [
    "c_jacques_gray_matter_flat, errors = concentr_fit_nonlinear(\n",
    "    A_gt_img[:, (loader.label_map <= 2)],\n",
    "    loader.wavelengths,\n",
    "    mu_a_matrix,\n",
    "    A_jacques_blood_fraction,\n",
    "    ref_vals=np.concatenate((loader.params_ref_gray_matter_fraction, m_params[1.38])),\n",
    "    variables_bool_arr=np.array([True, True, True, True, True, True, False, False, False, False, False]),\n",
    "    left_bounds=np.array([0, 0, 0, 0, 0, 0, 3, 0.1, None, None, None]),\n",
    "    right_bounds=np.array([1, 1, 0.04, 0.04, 1, 1, 100, 10, None, None, None]),\n",
    "    is_delta_A=False,\n",
    "    progress_bar=True\n",
    ")"
   ]
  },
  {
   "cell_type": "markdown",
   "metadata": {},
   "source": [
    "Store new results..."
   ]
  },
  {
   "cell_type": "code",
   "execution_count": 55,
   "metadata": {},
   "outputs": [],
   "source": [
    "with open(result_path, \"wb\") as f:\n",
    "    pickle.dump((c_jacques_blood_vessel_flat, c_jacques_gray_matter_flat), f)"
   ]
  },
  {
   "cell_type": "code",
   "execution_count": 64,
   "metadata": {},
   "outputs": [],
   "source": [
    "c_jacques_blood_vessel_flat = blood_fraction_to_concentrations(c_jacques_blood_vessel_flat)\n",
    "c_jacques_gray_matter_flat = blood_fraction_to_concentrations(c_jacques_gray_matter_flat)\n",
    "c_jacques_const_scatter_img = np.full((6, *A_gt_img.shape[1:]), np.NaN)\n",
    "c_jacques_const_scatter_img[:, (loader.label_map == 3)] = c_jacques_blood_vessel_flat\n",
    "c_jacques_const_scatter_img[:, (loader.label_map <= 2)] = c_jacques_gray_matter_flat"
   ]
  },
  {
   "cell_type": "code",
   "execution_count": 65,
   "metadata": {},
   "outputs": [],
   "source": [
    "plot_concentration_imgs(c_jacques_const_scatter_img)"
   ]
  },
  {
   "cell_type": "markdown",
   "metadata": {},
   "source": [
    "We can also see how the (absolute) ground truth spectra compare to the reconstructed spectra."
   ]
  },
  {
   "cell_type": "code",
   "execution_count": 62,
   "metadata": {},
   "outputs": [],
   "source": [
    "A_reconstr_jacques_const_scatter_img = np.empty_like(A_gt_img)\n",
    "A_reconstr_jacques_const_scatter_img[:, (loader.label_map == 3)] = A_jacques_new(\n",
    "    loader.wavelengths,\n",
    "    mu_a_matrix,\n",
    "    c_jacques_blood_vessel_flat,\n",
    "    22.0,\n",
    "    0.660,\n",
    "    *m_params[1.4]\n",
    ")\n",
    "A_reconstr_jacques_const_scatter_img[:, (loader.label_map <= 2)] = A_jacques_new(\n",
    "    loader.wavelengths,\n",
    "    mu_a_matrix,\n",
    "    c_jacques_gray_matter_flat,\n",
    "    40.8,\n",
    "    3.089,\n",
    "    *m_params[1.4]\n",
    ")\n",
    "A_reconstr_jacques_const_scatter_flat = A_reconstr_jacques_const_scatter_img[:, foreground_mask]"
   ]
  },
  {
   "cell_type": "code",
   "execution_count": 65,
   "metadata": {},
   "outputs": [
    {
     "name": "stderr",
     "output_type": "stream",
     "text": [
      "No artists with labels found to put in legend.  Note that artists whose label start with an underscore are ignored when legend() is called with no argument.\n"
     ]
    }
   ],
   "source": [
    "idx = np.random.randint(0, A_gt_flat.shape[1])\n",
    "plot_spectra((A_gt_flat[:, idx], A_reconstr_jacques_const_scatter_flat[:, idx]), loader.wavelengths)\n",
    "plt.show()"
   ]
  },
  {
   "cell_type": "markdown",
   "metadata": {},
   "source": [
    "# Fit the model from Monte Carlo Simulations"
   ]
  },
  {
   "cell_type": "code",
   "execution_count": 66,
   "metadata": {},
   "outputs": [],
   "source": [
    "mcs_obj = SimulationAttenuation(mcs_func_path)"
   ]
  },
  {
   "cell_type": "code",
   "execution_count": 67,
   "metadata": {},
   "outputs": [
    {
     "name": "stderr",
     "output_type": "stream",
     "text": [
      "/home/leon/anaconda3/envs/idp/lib/python3.11/site-packages/spectral/io/envi.py:175: UserWarning: Parameters with non-lowercase names encountered and converted to lowercase. To retain source file parameter name capitalization, set spectral.settings.envi_support_nonlowercase_params to True.\n",
      "  warnings.warn(msg)\n"
     ]
    }
   ],
   "source": [
    "loader_mcs = data_loader.DataLoaderHELICOID(\n",
    "    dataset_dir,\n",
    "    wavelength_left_cut=520,\n",
    "    wavelength_right_cut=850,\n",
    "    num_wavelengths=10\n",
    ")\n",
    "delta_A_gt_mcs_img = loader_mcs.get_attenuation_change(\"020-01\")\n",
    "A_gt_mcs_img = loader_mcs.get_attenuation(\"020-01\")\n",
    "\n",
    "mu_a_matrix_mcs = loader_mcs.absorption_coefs(\n",
    "    use_diff_oxycco=False,\n",
    "    use_water_and_fat=True\n",
    ")"
   ]
  },
  {
   "cell_type": "code",
   "execution_count": 68,
   "metadata": {},
   "outputs": [
    {
     "data": {
      "text/plain": [
       "array([520.        , 556.36363636, 592.72727273, 629.81818182,\n",
       "       666.18181818, 702.54545455, 738.90909091, 776.        ,\n",
       "       812.36363636, 848.72727273])"
      ]
     },
     "execution_count": 68,
     "metadata": {},
     "output_type": "execute_result"
    }
   ],
   "source": [
    "loader_mcs.wavelengths"
   ]
  },
  {
   "cell_type": "code",
   "execution_count": 69,
   "metadata": {},
   "outputs": [
    {
     "data": {
      "text/plain": [
       "(10, 7010)"
      ]
     },
     "execution_count": 69,
     "metadata": {},
     "output_type": "execute_result"
    }
   ],
   "source": [
    "A_gt_mcs_img[:, foreground_mask & labeled_mask].shape"
   ]
  },
  {
   "cell_type": "markdown",
   "metadata": {},
   "source": [
    "### Fit the MC model on absolute attenuation"
   ]
  },
  {
   "cell_type": "code",
   "execution_count": 70,
   "metadata": {},
   "outputs": [],
   "source": [
    "result_path = config.result_dir / f\"mcs_attenuation_absolute/{loader_mcs.patient_id}\"\n",
    "os.makedirs(result_path.parent, exist_ok=True)"
   ]
  },
  {
   "cell_type": "markdown",
   "metadata": {},
   "source": [
    "Load previous results..."
   ]
  },
  {
   "cell_type": "code",
   "execution_count": 71,
   "metadata": {},
   "outputs": [
    {
     "ename": "FileNotFoundError",
     "evalue": "[Errno 2] No such file or directory: '/media/leon/T7/IDP/results/mcs_attenuation_absolute/020-01'",
     "output_type": "error",
     "traceback": [
      "\u001b[0;31m---------------------------------------------------------------------------\u001b[0m",
      "\u001b[0;31mFileNotFoundError\u001b[0m                         Traceback (most recent call last)",
      "Cell \u001b[0;32mIn[71], line 1\u001b[0m\n\u001b[0;32m----> 1\u001b[0m \u001b[38;5;28;01mwith\u001b[39;00m \u001b[38;5;28mopen\u001b[39m(result_path, \u001b[38;5;124m\"\u001b[39m\u001b[38;5;124mrb\u001b[39m\u001b[38;5;124m\"\u001b[39m) \u001b[38;5;28;01mas\u001b[39;00m f:\n\u001b[1;32m      2\u001b[0m     params_mcs_flat \u001b[38;5;241m=\u001b[39m pickle\u001b[38;5;241m.\u001b[39mload(f)\n",
      "File \u001b[0;32m~/anaconda3/envs/idp/lib/python3.11/site-packages/IPython/core/interactiveshell.py:324\u001b[0m, in \u001b[0;36m_modified_open\u001b[0;34m(file, *args, **kwargs)\u001b[0m\n\u001b[1;32m    317\u001b[0m \u001b[38;5;28;01mif\u001b[39;00m file \u001b[38;5;129;01min\u001b[39;00m {\u001b[38;5;241m0\u001b[39m, \u001b[38;5;241m1\u001b[39m, \u001b[38;5;241m2\u001b[39m}:\n\u001b[1;32m    318\u001b[0m     \u001b[38;5;28;01mraise\u001b[39;00m \u001b[38;5;167;01mValueError\u001b[39;00m(\n\u001b[1;32m    319\u001b[0m         \u001b[38;5;124mf\u001b[39m\u001b[38;5;124m\"\u001b[39m\u001b[38;5;124mIPython won\u001b[39m\u001b[38;5;124m'\u001b[39m\u001b[38;5;124mt let you open fd=\u001b[39m\u001b[38;5;132;01m{\u001b[39;00mfile\u001b[38;5;132;01m}\u001b[39;00m\u001b[38;5;124m by default \u001b[39m\u001b[38;5;124m\"\u001b[39m\n\u001b[1;32m    320\u001b[0m         \u001b[38;5;124m\"\u001b[39m\u001b[38;5;124mas it is likely to crash IPython. If you know what you are doing, \u001b[39m\u001b[38;5;124m\"\u001b[39m\n\u001b[1;32m    321\u001b[0m         \u001b[38;5;124m\"\u001b[39m\u001b[38;5;124myou can use builtins\u001b[39m\u001b[38;5;124m'\u001b[39m\u001b[38;5;124m open.\u001b[39m\u001b[38;5;124m\"\u001b[39m\n\u001b[1;32m    322\u001b[0m     )\n\u001b[0;32m--> 324\u001b[0m \u001b[38;5;28;01mreturn\u001b[39;00m io_open(file, \u001b[38;5;241m*\u001b[39margs, \u001b[38;5;241m*\u001b[39m\u001b[38;5;241m*\u001b[39mkwargs)\n",
      "\u001b[0;31mFileNotFoundError\u001b[0m: [Errno 2] No such file or directory: '/media/leon/T7/IDP/results/mcs_attenuation_absolute/020-01'"
     ]
    }
   ],
   "source": [
    "with open(result_path, \"rb\") as f:\n",
    "    params_mcs_flat = pickle.load(f)"
   ]
  },
  {
   "cell_type": "code",
   "execution_count": 72,
   "metadata": {},
   "outputs": [
    {
     "name": "stderr",
     "output_type": "stream",
     "text": [
      "/media/leon/Storage/Studium/Informatik/Master/3.Semester/IDP/nonlinear-fit/src/mcs_function.py:74: RuntimeWarning: invalid value encountered in multiply\n",
      "  weighted_pl_upper = np.sum(np.nan_to_num(weights_upper * self.photon_data[mu_s_upper_idxs, 0, :]), axis=-1) / total_weights_upper\n",
      "/media/leon/Storage/Studium/Informatik/Master/3.Semester/IDP/nonlinear-fit/src/mcs_function.py:75: RuntimeWarning: invalid value encountered in multiply\n",
      "  weighted_pl_lower = np.sum(np.nan_to_num(weights_lower * self.photon_data[mu_s_upper_idxs - 1, 0, :]), axis=-1) / total_weights_lower\n"
     ]
    },
    {
     "ename": "KeyboardInterrupt",
     "evalue": "",
     "output_type": "error",
     "traceback": [
      "\u001b[0;31m---------------------------------------------------------------------------\u001b[0m",
      "\u001b[0;31mKeyboardInterrupt\u001b[0m                         Traceback (most recent call last)",
      "Cell \u001b[0;32mIn[72], line 1\u001b[0m\n\u001b[0;32m----> 1\u001b[0m params_mcs_flat, errors \u001b[38;5;241m=\u001b[39m concentr_fit_nonlinear(\n\u001b[1;32m      2\u001b[0m     A_gt_mcs_img[:, foreground_mask \u001b[38;5;241m&\u001b[39m labeled_mask],\n\u001b[1;32m      3\u001b[0m     loader_mcs\u001b[38;5;241m.\u001b[39mwavelengths,\n\u001b[1;32m      4\u001b[0m     mu_a_matrix_mcs,\n\u001b[1;32m      5\u001b[0m     mcs_obj\u001b[38;5;241m.\u001b[39mA_blood_fraction,\n\u001b[1;32m      6\u001b[0m     jacobian\u001b[38;5;241m=\u001b[39mmcs_obj\u001b[38;5;241m.\u001b[39mjacobian_blood_fraction,\n\u001b[1;32m      7\u001b[0m     ref_vals\u001b[38;5;241m=\u001b[39mblood_fraction_to_concentrations(loader_mcs\u001b[38;5;241m.\u001b[39mparams_ref_gray_matter),\n\u001b[1;32m      8\u001b[0m     variables_bool_arr\u001b[38;5;241m=\u001b[39mnp\u001b[38;5;241m.\u001b[39marray([\u001b[38;5;28;01mTrue\u001b[39;00m, \u001b[38;5;28;01mTrue\u001b[39;00m, \u001b[38;5;28;01mTrue\u001b[39;00m, \u001b[38;5;28;01mTrue\u001b[39;00m, \u001b[38;5;28;01mTrue\u001b[39;00m, \u001b[38;5;28;01mTrue\u001b[39;00m, \u001b[38;5;28;01mTrue\u001b[39;00m, \u001b[38;5;28;01mTrue\u001b[39;00m]),\n\u001b[1;32m      9\u001b[0m     left_bounds\u001b[38;5;241m=\u001b[39mnp\u001b[38;5;241m.\u001b[39marray([\u001b[38;5;241m0\u001b[39m, \u001b[38;5;241m0\u001b[39m, \u001b[38;5;241m0\u001b[39m, \u001b[38;5;241m0\u001b[39m, \u001b[38;5;241m0\u001b[39m, \u001b[38;5;241m0\u001b[39m, \u001b[38;5;241m3\u001b[39m, \u001b[38;5;241m0.1\u001b[39m]),\n\u001b[1;32m     10\u001b[0m     right_bounds\u001b[38;5;241m=\u001b[39mnp\u001b[38;5;241m.\u001b[39marray([\u001b[38;5;241m1\u001b[39m, \u001b[38;5;241m1\u001b[39m, \u001b[38;5;241m0.04\u001b[39m, \u001b[38;5;241m0.04\u001b[39m, \u001b[38;5;241m1\u001b[39m, \u001b[38;5;241m1\u001b[39m, \u001b[38;5;241m100\u001b[39m, \u001b[38;5;241m10\u001b[39m]),\n\u001b[1;32m     11\u001b[0m     is_delta_A\u001b[38;5;241m=\u001b[39m\u001b[38;5;28;01mFalse\u001b[39;00m,\n\u001b[1;32m     12\u001b[0m     progress_bar\u001b[38;5;241m=\u001b[39m\u001b[38;5;28;01mTrue\u001b[39;00m\n\u001b[1;32m     13\u001b[0m )\n",
      "File \u001b[0;32m/media/leon/Storage/Studium/Informatik/Master/3.Semester/IDP/nonlinear-fit/src/concentr_diffs_pathlength.py:117\u001b[0m, in \u001b[0;36mconcentr_fit_nonlinear\u001b[0;34m(A, wavelengths, mu_a, func, ref_vals, variables_bool_arr, left_bounds, right_bounds, jacobian, constraint, is_delta_A, init_vals, progress_bar)\u001b[0m\n\u001b[1;32m    115\u001b[0m \u001b[38;5;28;01mif\u001b[39;00m constraint \u001b[38;5;129;01mis\u001b[39;00m \u001b[38;5;28;01mNone\u001b[39;00m:\n\u001b[1;32m    116\u001b[0m     \u001b[38;5;28;01mfor\u001b[39;00m t \u001b[38;5;129;01min\u001b[39;00m tqdm(\u001b[38;5;28mrange\u001b[39m(num_spectra), disable\u001b[38;5;241m=\u001b[39m\u001b[38;5;241m~\u001b[39mprogress_bar):\n\u001b[0;32m--> 117\u001b[0m         res \u001b[38;5;241m=\u001b[39m least_squares(\n\u001b[1;32m    118\u001b[0m             func_wrapper,\n\u001b[1;32m    119\u001b[0m             x[:, t\u001b[38;5;241m-\u001b[39m\u001b[38;5;241m1\u001b[39m] \u001b[38;5;28;01mif\u001b[39;00m t \u001b[38;5;241m>\u001b[39m \u001b[38;5;241m0\u001b[39m \u001b[38;5;28;01melse\u001b[39;00m init_vals,\n\u001b[1;32m    120\u001b[0m             bounds\u001b[38;5;241m=\u001b[39m(left_bounds, right_bounds),\n\u001b[1;32m    121\u001b[0m             jac\u001b[38;5;241m=\u001b[39m\u001b[38;5;124m\"\u001b[39m\u001b[38;5;124m2-point\u001b[39m\u001b[38;5;124m\"\u001b[39m \u001b[38;5;28;01mif\u001b[39;00m jacobian \u001b[38;5;129;01mis\u001b[39;00m \u001b[38;5;28;01mNone\u001b[39;00m \u001b[38;5;28;01melse\u001b[39;00m jacobian_wrapper,\n\u001b[1;32m    122\u001b[0m             args\u001b[38;5;241m=\u001b[39m(A[:, t], A_ref)\n\u001b[1;32m    123\u001b[0m         )\n\u001b[1;32m    125\u001b[0m         x[:, t] \u001b[38;5;241m=\u001b[39m res\u001b[38;5;241m.\u001b[39mx\n\u001b[1;32m    126\u001b[0m         errors[:, t] \u001b[38;5;241m=\u001b[39m res\u001b[38;5;241m.\u001b[39mcost\n",
      "File \u001b[0;32m~/anaconda3/envs/idp/lib/python3.11/site-packages/scipy/optimize/_lsq/least_squares.py:947\u001b[0m, in \u001b[0;36mleast_squares\u001b[0;34m(fun, x0, jac, bounds, method, ftol, xtol, gtol, x_scale, loss, f_scale, diff_step, tr_solver, tr_options, jac_sparsity, max_nfev, verbose, args, kwargs)\u001b[0m\n\u001b[1;32m    943\u001b[0m     result \u001b[38;5;241m=\u001b[39m call_minpack(fun_wrapped, x0, jac_wrapped, ftol, xtol, gtol,\n\u001b[1;32m    944\u001b[0m                           max_nfev, x_scale, diff_step)\n\u001b[1;32m    946\u001b[0m \u001b[38;5;28;01melif\u001b[39;00m method \u001b[38;5;241m==\u001b[39m \u001b[38;5;124m'\u001b[39m\u001b[38;5;124mtrf\u001b[39m\u001b[38;5;124m'\u001b[39m:\n\u001b[0;32m--> 947\u001b[0m     result \u001b[38;5;241m=\u001b[39m trf(fun_wrapped, jac_wrapped, x0, f0, J0, lb, ub, ftol, xtol,\n\u001b[1;32m    948\u001b[0m                  gtol, max_nfev, x_scale, loss_function, tr_solver,\n\u001b[1;32m    949\u001b[0m                  tr_options\u001b[38;5;241m.\u001b[39mcopy(), verbose)\n\u001b[1;32m    951\u001b[0m \u001b[38;5;28;01melif\u001b[39;00m method \u001b[38;5;241m==\u001b[39m \u001b[38;5;124m'\u001b[39m\u001b[38;5;124mdogbox\u001b[39m\u001b[38;5;124m'\u001b[39m:\n\u001b[1;32m    952\u001b[0m     \u001b[38;5;28;01mif\u001b[39;00m tr_solver \u001b[38;5;241m==\u001b[39m \u001b[38;5;124m'\u001b[39m\u001b[38;5;124mlsmr\u001b[39m\u001b[38;5;124m'\u001b[39m \u001b[38;5;129;01mand\u001b[39;00m \u001b[38;5;124m'\u001b[39m\u001b[38;5;124mregularize\u001b[39m\u001b[38;5;124m'\u001b[39m \u001b[38;5;129;01min\u001b[39;00m tr_options:\n",
      "File \u001b[0;32m~/anaconda3/envs/idp/lib/python3.11/site-packages/scipy/optimize/_lsq/trf.py:123\u001b[0m, in \u001b[0;36mtrf\u001b[0;34m(fun, jac, x0, f0, J0, lb, ub, ftol, xtol, gtol, max_nfev, x_scale, loss_function, tr_solver, tr_options, verbose)\u001b[0m\n\u001b[1;32m    119\u001b[0m     \u001b[38;5;28;01mreturn\u001b[39;00m trf_no_bounds(\n\u001b[1;32m    120\u001b[0m         fun, jac, x0, f0, J0, ftol, xtol, gtol, max_nfev, x_scale,\n\u001b[1;32m    121\u001b[0m         loss_function, tr_solver, tr_options, verbose)\n\u001b[1;32m    122\u001b[0m \u001b[38;5;28;01melse\u001b[39;00m:\n\u001b[0;32m--> 123\u001b[0m     \u001b[38;5;28;01mreturn\u001b[39;00m trf_bounds(\n\u001b[1;32m    124\u001b[0m         fun, jac, x0, f0, J0, lb, ub, ftol, xtol, gtol, max_nfev, x_scale,\n\u001b[1;32m    125\u001b[0m         loss_function, tr_solver, tr_options, verbose)\n",
      "File \u001b[0;32m~/anaconda3/envs/idp/lib/python3.11/site-packages/scipy/optimize/_lsq/trf.py:338\u001b[0m, in \u001b[0;36mtrf_bounds\u001b[0;34m(fun, jac, x0, f0, J0, lb, ub, ftol, xtol, gtol, max_nfev, x_scale, loss_function, tr_solver, tr_options, verbose)\u001b[0m\n\u001b[1;32m    334\u001b[0m step, step_h, predicted_reduction \u001b[38;5;241m=\u001b[39m select_step(\n\u001b[1;32m    335\u001b[0m     x, J_h, diag_h, g_h, p, p_h, d, Delta, lb, ub, theta)\n\u001b[1;32m    337\u001b[0m x_new \u001b[38;5;241m=\u001b[39m make_strictly_feasible(x \u001b[38;5;241m+\u001b[39m step, lb, ub, rstep\u001b[38;5;241m=\u001b[39m\u001b[38;5;241m0\u001b[39m)\n\u001b[0;32m--> 338\u001b[0m f_new \u001b[38;5;241m=\u001b[39m fun(x_new)\n\u001b[1;32m    339\u001b[0m nfev \u001b[38;5;241m+\u001b[39m\u001b[38;5;241m=\u001b[39m \u001b[38;5;241m1\u001b[39m\n\u001b[1;32m    341\u001b[0m step_h_norm \u001b[38;5;241m=\u001b[39m norm(step_h)\n",
      "File \u001b[0;32m~/anaconda3/envs/idp/lib/python3.11/site-packages/scipy/optimize/_lsq/least_squares.py:836\u001b[0m, in \u001b[0;36mleast_squares.<locals>.fun_wrapped\u001b[0;34m(x)\u001b[0m\n\u001b[1;32m    835\u001b[0m \u001b[38;5;28;01mdef\u001b[39;00m \u001b[38;5;21mfun_wrapped\u001b[39m(x):\n\u001b[0;32m--> 836\u001b[0m     \u001b[38;5;28;01mreturn\u001b[39;00m np\u001b[38;5;241m.\u001b[39matleast_1d(fun(x, \u001b[38;5;241m*\u001b[39margs, \u001b[38;5;241m*\u001b[39m\u001b[38;5;241m*\u001b[39mkwargs))\n",
      "File \u001b[0;32m/media/leon/Storage/Studium/Informatik/Master/3.Semester/IDP/nonlinear-fit/src/concentr_diffs_pathlength.py:75\u001b[0m, in \u001b[0;36mconcentr_fit_nonlinear.<locals>.func_wrapper\u001b[0;34m(x, A_t, A_ref, sum_and_square)\u001b[0m\n\u001b[1;32m     73\u001b[0m params[variables_bool_arr[num_molecules:]] \u001b[38;5;241m=\u001b[39m x[num_molecule_vars:]\n\u001b[1;32m     74\u001b[0m params[\u001b[38;5;241m~\u001b[39mvariables_bool_arr[num_molecules:]] \u001b[38;5;241m=\u001b[39m ref_vals[\u001b[38;5;241m~\u001b[39mvariables_bool_arr][\u001b[38;5;241m-\u001b[39mnum_params:]\n\u001b[0;32m---> 75\u001b[0m A_func \u001b[38;5;241m=\u001b[39m func(wavelengths, mu_a, c_full, \u001b[38;5;241m*\u001b[39mparams)\n\u001b[1;32m     76\u001b[0m res \u001b[38;5;241m=\u001b[39m A_t \u001b[38;5;241m-\u001b[39m A_func[:, \u001b[38;5;241m0\u001b[39m]\n\u001b[1;32m     77\u001b[0m \u001b[38;5;28;01mif\u001b[39;00m A_ref \u001b[38;5;129;01mis\u001b[39;00m \u001b[38;5;129;01mnot\u001b[39;00m \u001b[38;5;28;01mNone\u001b[39;00m:\n",
      "File \u001b[0;32m/media/leon/Storage/Studium/Informatik/Master/3.Semester/IDP/nonlinear-fit/src/mcs_function.py:56\u001b[0m, in \u001b[0;36mSimulationAttenuation.A_blood_fraction\u001b[0;34m(self, wavelengths, mu_a_matrix, c, a, b)\u001b[0m\n\u001b[1;32m     53\u001b[0m b \u001b[38;5;241m=\u001b[39m np\u001b[38;5;241m.\u001b[39matleast_2d(b)\n\u001b[1;32m     54\u001b[0m c \u001b[38;5;241m=\u001b[39m np\u001b[38;5;241m.\u001b[39matleast_2d(c)\u001b[38;5;241m.\u001b[39mreshape(mu_a_matrix\u001b[38;5;241m.\u001b[39mshape[\u001b[38;5;241m1\u001b[39m], \u001b[38;5;241m-\u001b[39m\u001b[38;5;241m1\u001b[39m)\n\u001b[0;32m---> 56\u001b[0m \u001b[38;5;28;01mreturn\u001b[39;00m \u001b[38;5;28mself\u001b[39m\u001b[38;5;241m.\u001b[39mA_concentrations(\n\u001b[1;32m     57\u001b[0m     wavelengths,\n\u001b[1;32m     58\u001b[0m     mu_a_matrix,\n\u001b[1;32m     59\u001b[0m     blood_fraction_to_concentrations(c),\n\u001b[1;32m     60\u001b[0m     a,\n\u001b[1;32m     61\u001b[0m     b\n\u001b[1;32m     62\u001b[0m )\n",
      "File \u001b[0;32m/media/leon/Storage/Studium/Informatik/Master/3.Semester/IDP/nonlinear-fit/src/mcs_function.py:49\u001b[0m, in \u001b[0;36mSimulationAttenuation.A_concentrations\u001b[0;34m(self, wavelengths, mu_a_matrix, c, a, b)\u001b[0m\n\u001b[1;32m     46\u001b[0m mu_a \u001b[38;5;241m=\u001b[39m mu_a_matrix \u001b[38;5;241m@\u001b[39m c\n\u001b[1;32m     47\u001b[0m mu_s_red \u001b[38;5;241m=\u001b[39m a \u001b[38;5;241m*\u001b[39m (wavelengths\u001b[38;5;241m/\u001b[39m\u001b[38;5;241m500\u001b[39m)[:, \u001b[38;5;28;01mNone\u001b[39;00m] \u001b[38;5;241m*\u001b[39m\u001b[38;5;241m*\u001b[39m (\u001b[38;5;241m-\u001b[39mb)\n\u001b[0;32m---> 49\u001b[0m \u001b[38;5;28;01mreturn\u001b[39;00m \u001b[38;5;28mself\u001b[39m\u001b[38;5;241m.\u001b[39mA(mu_a, mu_s_red \u001b[38;5;241m/\u001b[39m (\u001b[38;5;241m1\u001b[39m \u001b[38;5;241m-\u001b[39m \u001b[38;5;28mself\u001b[39m\u001b[38;5;241m.\u001b[39mg))\n",
      "File \u001b[0;32m/media/leon/Storage/Studium/Informatik/Master/3.Semester/IDP/nonlinear-fit/src/mcs_function.py:33\u001b[0m, in \u001b[0;36mSimulationAttenuation.A\u001b[0;34m(self, mu_a, mu_s)\u001b[0m\n\u001b[1;32m     31\u001b[0m mu_s_upper_idxs \u001b[38;5;241m=\u001b[39m np\u001b[38;5;241m.\u001b[39mclip(np\u001b[38;5;241m.\u001b[39msearchsorted(\u001b[38;5;28mself\u001b[39m\u001b[38;5;241m.\u001b[39mmu_s_vals, mu_s), \u001b[38;5;241m1\u001b[39m, \u001b[38;5;28mself\u001b[39m\u001b[38;5;241m.\u001b[39mnum_mu_s_vals \u001b[38;5;241m-\u001b[39m \u001b[38;5;241m1\u001b[39m)\n\u001b[1;32m     32\u001b[0m weights_upper \u001b[38;5;241m=\u001b[39m \u001b[38;5;28mself\u001b[39m\u001b[38;5;241m.\u001b[39mcompute_weights(mu_a, mu_s_upper_idxs)\n\u001b[0;32m---> 33\u001b[0m weights_lower \u001b[38;5;241m=\u001b[39m \u001b[38;5;28mself\u001b[39m\u001b[38;5;241m.\u001b[39mcompute_weights(mu_a, mu_s_upper_idxs \u001b[38;5;241m-\u001b[39m \u001b[38;5;241m1\u001b[39m)\n\u001b[1;32m     34\u001b[0m A_upper \u001b[38;5;241m=\u001b[39m \u001b[38;5;241m-\u001b[39mnp\u001b[38;5;241m.\u001b[39mlog(np\u001b[38;5;241m.\u001b[39msum(weights_upper, axis\u001b[38;5;241m=\u001b[39m\u001b[38;5;241m-\u001b[39m\u001b[38;5;241m1\u001b[39m) \u001b[38;5;241m/\u001b[39m \u001b[38;5;28mself\u001b[39m\u001b[38;5;241m.\u001b[39mnphoton)\n\u001b[1;32m     35\u001b[0m A_lower \u001b[38;5;241m=\u001b[39m \u001b[38;5;241m-\u001b[39mnp\u001b[38;5;241m.\u001b[39mlog(np\u001b[38;5;241m.\u001b[39msum(weights_lower, axis\u001b[38;5;241m=\u001b[39m\u001b[38;5;241m-\u001b[39m\u001b[38;5;241m1\u001b[39m) \u001b[38;5;241m/\u001b[39m \u001b[38;5;28mself\u001b[39m\u001b[38;5;241m.\u001b[39mnphoton)\n",
      "File \u001b[0;32m/media/leon/Storage/Studium/Informatik/Master/3.Semester/IDP/nonlinear-fit/src/mcs_function.py:28\u001b[0m, in \u001b[0;36mSimulationAttenuation.compute_weights\u001b[0;34m(self, mu_a, mu_s_idx)\u001b[0m\n\u001b[1;32m     27\u001b[0m \u001b[38;5;28;01mdef\u001b[39;00m \u001b[38;5;21mcompute_weights\u001b[39m(\u001b[38;5;28mself\u001b[39m, mu_a, mu_s_idx):\n\u001b[0;32m---> 28\u001b[0m     \u001b[38;5;28;01mreturn\u001b[39;00m np\u001b[38;5;241m.\u001b[39mexp(\u001b[38;5;241m-\u001b[39mmu_a[\u001b[38;5;241m.\u001b[39m\u001b[38;5;241m.\u001b[39m\u001b[38;5;241m.\u001b[39m, \u001b[38;5;28;01mNone\u001b[39;00m] \u001b[38;5;241m*\u001b[39m \u001b[38;5;28mself\u001b[39m\u001b[38;5;241m.\u001b[39mphoton_data[mu_s_idx, \u001b[38;5;241m0\u001b[39m, :])\n",
      "\u001b[0;31mKeyboardInterrupt\u001b[0m: "
     ]
    }
   ],
   "source": [
    "params_mcs_flat, errors = concentr_fit_nonlinear(\n",
    "    A_gt_mcs_img[:, foreground_mask & labeled_mask],\n",
    "    loader_mcs.wavelengths,\n",
    "    mu_a_matrix_mcs,\n",
    "    mcs_obj.A_blood_fraction,\n",
    "    jacobian=mcs_obj.jacobian_blood_fraction,\n",
    "    ref_vals=blood_fraction_to_concentrations(loader_mcs.params_ref_gray_matter),\n",
    "    variables_bool_arr=np.array([True, True, True, True, True, True, True, True]),\n",
    "    left_bounds=np.array([0, 0, 0, 0, 0, 0, 3, 0.1]),\n",
    "    right_bounds=np.array([1, 1, 0.04, 0.04, 1, 1, 100, 10]),\n",
    "    is_delta_A=False,\n",
    "    progress_bar=True\n",
    ")"
   ]
  },
  {
   "cell_type": "markdown",
   "metadata": {},
   "source": [
    "Store new results..."
   ]
  },
  {
   "cell_type": "code",
   "execution_count": null,
   "metadata": {},
   "outputs": [],
   "source": [
    "with open(result_path, \"wb\") as f:\n",
    "    pickle.dump(params_mcs_flat, f)"
   ]
  },
  {
   "cell_type": "code",
   "execution_count": null,
   "metadata": {},
   "outputs": [],
   "source": [
    "c_mcs_flat = blood_fraction_to_concentrations(params_mcs_flat[:6, :])\n",
    "c_mcs_img = np.full((6, *A_gt_img.shape[1:]), np.NaN)\n",
    "c_mcs_img[:, foreground_mask & labeled_mask] = c_mcs_flat[:6, :]"
   ]
  },
  {
   "cell_type": "code",
   "execution_count": null,
   "metadata": {},
   "outputs": [],
   "source": [
    "plot_concentration_imgs(c_mcs_img)"
   ]
  }
 ],
 "metadata": {
  "kernelspec": {
   "display_name": "idp",
   "language": "python",
   "name": "python3"
  },
  "language_info": {
   "codemirror_mode": {
    "name": "ipython",
    "version": 3
   },
   "file_extension": ".py",
   "mimetype": "text/x-python",
   "name": "python",
   "nbconvert_exporter": "python",
   "pygments_lexer": "ipython3",
   "version": "3.11.9"
  }
 },
 "nbformat": 4,
 "nbformat_minor": 2
}
