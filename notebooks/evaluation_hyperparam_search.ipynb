{
 "cells": [
  {
   "cell_type": "code",
   "execution_count": null,
   "id": "96ca90ac",
   "metadata": {},
   "outputs": [],
   "source": [
    "%load_ext autoreload\n",
    "%autoreload 2\n",
    "#%matplotlib qt\n",
    "%matplotlib widget"
   ]
  },
  {
   "cell_type": "code",
   "execution_count": null,
   "id": "66fe6d6d",
   "metadata": {},
   "outputs": [],
   "source": [
    "import os\n",
    "import sys\n",
    "from pathlib import Path\n",
    "\n",
    "src_dir = str(Path(os.getcwd()).parent / \"src\")\n",
    "sys.path.insert(1, src_dir)\n",
    "os.environ[\"PYTHONPATH\"] = src_dir"
   ]
  },
  {
   "cell_type": "code",
   "execution_count": null,
   "id": "a820cd7e",
   "metadata": {},
   "outputs": [],
   "source": [
    "import data_loader\n",
    "import calculate_concentr_diffs\n",
    "from concentr_diffs_pathlength import *\n",
    "from plotting import *\n",
    "from mbll_functions import *\n",
    "from utils import *\n",
    "from mcs_function import *\n",
    "import config\n",
    "import pickle\n",
    "from ray import tune\n",
    "import matplotlib.pyplot as plt\n",
    "from inspect import signature\n",
    "from tqdm.notebook import tqdm"
   ]
  },
  {
   "cell_type": "markdown",
   "id": "3ddbe3d9",
   "metadata": {},
   "source": [
    "# Setup"
   ]
  },
  {
   "cell_type": "code",
   "execution_count": null,
   "id": "449fc76f",
   "metadata": {},
   "outputs": [],
   "source": [
    "# unlabeled tissue (idx = 0) treated as gray matter\n",
    "tissues_long = [\"gray matter\", \"gray matter\", \"tumor\", \"blood vessel\"]\n",
    "tissues_short = tissues_long[1:]"
   ]
  },
  {
   "cell_type": "markdown",
   "id": "419d5fbb",
   "metadata": {},
   "source": [
    "load current reference hyperparameters"
   ]
  },
  {
   "cell_type": "code",
   "execution_count": null,
   "id": "e9273ab2",
   "metadata": {},
   "outputs": [],
   "source": [
    "try:\n",
    "    with open(config.reference_params_path, \"rb\") as f:\n",
    "        hyperparams = pickle.load(f)\n",
    "except Exception:\n",
    "    print(\"Could not load dictionary! Creating new one.\")\n",
    "    hyperparams = {}"
   ]
  },
  {
   "cell_type": "code",
   "execution_count": null,
   "id": "ae6b0391",
   "metadata": {},
   "outputs": [],
   "source": [
    "len(hyperparams)"
   ]
  },
  {
   "cell_type": "code",
   "execution_count": null,
   "id": "c2cda686",
   "metadata": {},
   "outputs": [],
   "source": [
    "time_budget_s = 2700\n",
    "num_samples = 2000"
   ]
  },
  {
   "cell_type": "markdown",
   "id": "fcd3536c",
   "metadata": {},
   "source": [
    "Create MCS attenuation object"
   ]
  },
  {
   "cell_type": "code",
   "execution_count": null,
   "id": "e4fecb96",
   "metadata": {},
   "outputs": [],
   "source": [
    "A_mcs = SimulationAttenuation(config.mcs_func_path)"
   ]
  },
  {
   "cell_type": "code",
   "execution_count": null,
   "id": "0ca4d16d",
   "metadata": {},
   "outputs": [],
   "source": [
    "mcs_sparsity = 25"
   ]
  },
  {
   "cell_type": "markdown",
   "id": "03cc9865",
   "metadata": {},
   "source": [
    "Load HELICoiD data"
   ]
  },
  {
   "cell_type": "code",
   "execution_count": null,
   "id": "66985a4f",
   "metadata": {},
   "outputs": [],
   "source": [
    "loader = data_loader.DataLoaderHELICOID(\n",
    "    config.dataset_dir,\n",
    "    wavelength_left_cut=520,\n",
    "    wavelength_right_cut=900\n",
    ")\n",
    "\n",
    "mu_a_matrix = loader.absorption_coefs(\n",
    "    use_diff_oxycco=False,\n",
    "    use_water_and_fat=True\n",
    ")"
   ]
  },
  {
   "cell_type": "markdown",
   "id": "907ef1cc",
   "metadata": {},
   "source": [
    "Load Jacques parameters"
   ]
  },
  {
   "cell_type": "code",
   "execution_count": null,
   "id": "9297cee8",
   "metadata": {},
   "outputs": [],
   "source": [
    "with open(config.m_params_path, \"rb\") as f:\n",
    "    jacques_m_params, _, _, _ = pickle.load(f)\n"
   ]
  },
  {
   "cell_type": "markdown",
   "id": "92f7b35f",
   "metadata": {},
   "source": [
    "Parameter space"
   ]
  },
  {
   "cell_type": "code",
   "execution_count": null,
   "id": "0734792a",
   "metadata": {},
   "outputs": [],
   "source": [
    "c_ref_gray_matter_fractions = data_loader.DataLoader.tissue_parameters[\"gray matter\"][0]\n",
    "\n",
    "param_space = [\n",
    "    # f_blood\n",
    "    tune.sample_from(lambda _: min(1, max(0, np.random.normal(c_ref_gray_matter_fractions[0], 0.1)))),\n",
    "    # st02\n",
    "    tune.sample_from(lambda _: min(1, max(0, np.random.normal(c_ref_gray_matter_fractions[1], 0.25)))),\n",
    "    # c_oxCCO\n",
    "    tune.sample_from(lambda _: max(0, np.random.normal(c_ref_gray_matter_fractions[2], 0.002))),\n",
    "    # c_redCCO\n",
    "    tune.sample_from(lambda _: max(0, np.random.normal(c_ref_gray_matter_fractions[3], 0.002))),\n",
    "    # f_water\n",
    "    tune.sample_from(lambda _: min(1, max(0, np.random.normal(c_ref_gray_matter_fractions[4], 0.2)))),\n",
    "    # f_fat\n",
    "    tune.sample_from(lambda _: min(1, max(0, np.random.normal(c_ref_gray_matter_fractions[5], 0.2)))),\n",
    "    # a\n",
    "    tune.sample_from(lambda _: min(100, max(1, np.random.normal(data_loader.DataLoader.tissue_parameters[\"gray matter\"][1][0], 10)))),\n",
    "    # b\n",
    "    tune.sample_from(lambda _: min(10, max(0.1, np.random.normal(data_loader.DataLoader.tissue_parameters[\"gray matter\"][1][1], 1.5)))),\n",
    "]"
   ]
  },
  {
   "cell_type": "markdown",
   "id": "5ed4f89d",
   "metadata": {},
   "source": [
    "# Hyperparameter search"
   ]
  },
  {
   "cell_type": "code",
   "execution_count": null,
   "id": "5b696734",
   "metadata": {},
   "outputs": [],
   "source": [
    "nonlinear_models = {\n",
    "    \"Jacques, specific\":\n",
    "    (\n",
    "        A_jacques_blood_fraction,\n",
    "        {\"const_vals\": [list(jacques_m_params[tissue]) for tissue in tissues_short]}\n",
    "    ),\n",
    "    \"Jacques, general\":\n",
    "    (\n",
    "        A_jacques_blood_fraction, \n",
    "        {\"const_vals\": [list(jacques_m_params[\"general\"])] * len(tissues_short)}\n",
    "    ),\n",
    "    \"Carp\":\n",
    "    (\n",
    "        A_carp_blood_fraction, \n",
    "        {\n",
    "            \"const_vals\": [data_loader.DataLoader.tissue_parameters[tissue][-2:] for tissue in tissues_short],\n",
    "        }\n",
    "    ),\n",
    "    \"NLLS + MCS\":\n",
    "    (A_mcs.A_blood_fraction, {\n",
    "        \"jacobian\": A_mcs.jacobian_blood_fraction\n",
    "    })\n",
    "}"
   ]
  },
  {
   "cell_type": "markdown",
   "id": "aa0ad0f3",
   "metadata": {},
   "source": [
    "Gute Bilder:\n",
    "- 008-01\n",
    "- 008-02\n",
    "- 012-01\n",
    "- 012-02\n",
    "- 015-01\n",
    "- 021-02\n",
    "- 025-02"
   ]
  },
  {
   "cell_type": "code",
   "execution_count": null,
   "id": "b5e42b98",
   "metadata": {},
   "outputs": [],
   "source": [
    "models_to_search = list(nonlinear_models.keys())\n",
    "#models_to_search = [\"Jacques, specific\", \"Jacques, general\", \"Carp\"]\n",
    "#models_to_search = [\"NLLS + MCS\"]\n",
    "models_to_search = [\"Jacques, specific\", \"Jacques, general\"]\n",
    "# gute Bilder\n",
    "image_ids = [\"020-01\", \"015-01\", \"012-01\", \"008-01\"]"
   ]
  },
  {
   "cell_type": "code",
   "execution_count": null,
   "id": "e3ff4ad2",
   "metadata": {},
   "outputs": [],
   "source": [
    "for image_id in image_ids:\n",
    "    delta_A_gt_img = loader.get_attenuation_change(image_id)\n",
    "    labeled_foreground_mask = (loader.label_map != 0) & (loader.label_map != 4)\n",
    "    for model_str in models_to_search:\n",
    "        model_func = nonlinear_models[model_str][0]\n",
    "        print(f\"Hyperparameter search for {model_str} and image {image_id}.\")\n",
    "        delta_A_gt_img_tmp, wavelengths_tmp, mu_a_matrix_tmp = delta_A_gt_img, loader.wavelengths, mu_a_matrix\n",
    "        if model_str == \"NLLS + MCS\":\n",
    "            delta_A_gt_img_tmp = delta_A_gt_img[::mcs_sparsity, :]\n",
    "            wavelengths_tmp = loader.wavelengths[::mcs_sparsity]\n",
    "            mu_a_matrix_tmp = mu_a_matrix[::mcs_sparsity, :]\n",
    "        res_grid = concentr_fit_nonlinear_reference_param_search_multiple_tissues(\n",
    "            delta_A_gt_img_tmp[:, labeled_foreground_mask],\n",
    "            loader.label_map[labeled_foreground_mask], # only contains 0, 1, 2, 3 (unlabeled, normal, tumor, blood)\n",
    "            wavelengths_tmp,\n",
    "            mu_a_matrix_tmp,\n",
    "            model_func,\n",
    "            param_space,\n",
    "            variables_bool_arr=([True] * 8) + ([False] * (len(signature(model_func).parameters) - 5)),\n",
    "            left_bounds = np.array([0] * 8),\n",
    "            right_bounds = np.array([1, 1, 0.05, 0.05, 1, 1, 100, 10]),\n",
    "            update_init=True,\n",
    "            constraint=None,\n",
    "            init_vals=concentrations_to_blood_fraction(\n",
    "                np.concatenate(data_loader.DataLoader.tissue_parameters[\"gray matter\"][:2])\n",
    "            ),\n",
    "            spectra_per_report=20,\n",
    "            grace_spectra=20,\n",
    "            time_budget_s=time_budget_s,\n",
    "            num_samples=num_samples,\n",
    "            max_concurrent_trials=7,\n",
    "            ref_val_tissue_idx=1, # reference pixel is gray matter, therefore use const_vals of row 1 for non-sampled values (e.g. g, n, m-params)\n",
    "            **nonlinear_models[model_str][1]\n",
    "        )\n",
    "\n",
    "        score, configuration = get_best_values_from_res_grid(res_grid)\n",
    "        cur_score, cur_configuration = hyperparams.get((image_id, model_str), (np.inf, None))\n",
    "        if cur_score > score:\n",
    "            hyperparams[(image_id, model_str)] = (score, configuration)\n",
    "            print(f\"Updating parameters for {model_str}\")\n",
    "\n",
    "            with open(config.reference_params_path, \"wb+\") as f:\n",
    "                pickle.dump(hyperparams, f)\n",
    "        else:\n",
    "            print(\"Keeping old parameters.\")\n",
    "\n"
   ]
  }
 ],
 "metadata": {
  "kernelspec": {
   "display_name": "nonlinear-fit",
   "language": "python",
   "name": "python3"
  },
  "language_info": {
   "codemirror_mode": {
    "name": "ipython",
    "version": 3
   },
   "file_extension": ".py",
   "mimetype": "text/x-python",
   "name": "python",
   "nbconvert_exporter": "python",
   "pygments_lexer": "ipython3",
   "version": "3.11.11"
  }
 },
 "nbformat": 4,
 "nbformat_minor": 5
}
