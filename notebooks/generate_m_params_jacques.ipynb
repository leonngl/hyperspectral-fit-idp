{
 "cells": [
  {
   "cell_type": "code",
   "execution_count": null,
   "metadata": {},
   "outputs": [],
   "source": [
    "import os\n",
    "import sys\n",
    "from pathlib import Path\n",
    "sys.path.insert(1, str(Path(os.getcwd()).parent / \"src\"))"
   ]
  },
  {
   "cell_type": "code",
   "execution_count": null,
   "metadata": {},
   "outputs": [],
   "source": [
    "import data_loader\n",
    "from concentr_diffs_pathlength import *\n",
    "from plotting import *\n",
    "from mbll_functions import *\n",
    "from utils import *\n",
    "from mcs_function import *\n",
    "from pathlib import Path\n",
    "import config\n",
    "import pickle\n",
    "from scipy.optimize import least_squares\n",
    "import pmcx\n",
    "from tqdm.notebook import tqdm\n",
    "import imageio\n",
    "\n",
    "import matplotlib.pyplot as plt"
   ]
  },
  {
   "cell_type": "code",
   "execution_count": null,
   "metadata": {},
   "outputs": [],
   "source": [
    "config.gpuid"
   ]
  },
  {
   "cell_type": "code",
   "execution_count": null,
   "metadata": {},
   "outputs": [],
   "source": [
    "config.m_params_path"
   ]
  },
  {
   "cell_type": "markdown",
   "metadata": {},
   "source": [
    "In the Jacques model, diffuse reflectance is given as $$R_d = \\exp(-A\\delta \\mu_a)$$, where A depends on the ratio of the absorption and scattering $N = \\frac{\\mu_s'}{\\mu_a}$ coefficient, and is modelled as\n",
    "$$ A(N) = m_1 + m_2\\exp(\\frac{\\ln(N)}{m_3}) $$\n",
    "and $\\delta$ is $$\\delta = (3\\mu_a(\\mu_s' + \\mu_a))^{-\\frac{1}{2}}$$\n",
    "A also depends on the refractive index. The $m_i$-parameters in paper and Jacque's website are based on a refractive index of 1.33. For the brain we expect 1.36 (gray matter) to 1.4 (blood vessels). To determine the $m_i$ for these indices, we run Monte Carlo Simulations with reasonable absorption/scattering coefficients and fit the $m_i$ to the obtained values for A.\\\n",
    "For absorption/scattering coefficients we use literature values of gray matter and blood vessel tissue. Additionally, we use some very high values for $N$, as it was done on Jacque's website."
   ]
  },
  {
   "cell_type": "code",
   "execution_count": null,
   "metadata": {},
   "outputs": [],
   "source": [
    " # both inclusive\n",
    "loader = data_loader.DataLoader(None, 450, 999)\n",
    "# absorption spectra for HbO2, Hbb, oxCCO, redCCO, water and fat\n",
    "mu_a_matrix = loader.absorption_coefs(\n",
    "    use_diff_oxycco = False,\n",
    "    use_water_and_fat = True\n",
    ")"
   ]
  },
  {
   "cell_type": "code",
   "execution_count": null,
   "metadata": {},
   "outputs": [],
   "source": [
    "sample_wavelengths = np.arange(loader.wavelength_left_cut, loader.wavelength_right_cut, 25)\n",
    "if sample_wavelengths[-1] != loader.wavelength_right_cut:\n",
    "    sample_wavelengths = np.append(sample_wavelengths, loader.wavelength_right_cut)[1:]\n",
    "print(sample_wavelengths)"
   ]
  },
  {
   "cell_type": "code",
   "execution_count": null,
   "metadata": {},
   "outputs": [],
   "source": [
    "g_gm = 0.85\n",
    "refractive_idx_gm = 1.36\n",
    "mu_a_gm = data_loader.DataLoader.mu_a_func_gray_matter(sample_wavelengths) / 10\n",
    "mu_s_gm = data_loader.DataLoader.mu_s_red_func_gray_matter(sample_wavelengths) / 10 / (1 - g_gm)"
   ]
  },
  {
   "cell_type": "code",
   "execution_count": null,
   "metadata": {},
   "outputs": [],
   "source": [
    "g_bv = 0.935\n",
    "refractive_idx_bv = 1.4\n",
    "mu_a_bv = data_loader.DataLoader.mu_a_func_blood_vessel(sample_wavelengths) / 10\n",
    "mu_s_bv = data_loader.DataLoader.mu_s_red_func_blood_vessel(sample_wavelengths) / 10 / (1 - g_bv)"
   ]
  },
  {
   "cell_type": "code",
   "execution_count": null,
   "metadata": {},
   "outputs": [],
   "source": [
    "g_t = data_loader.DataLoader.tissue_parameters[\"tumor\"][2]\n",
    "refractive_idx_t = data_loader.DataLoader.tissue_parameters[\"tumor\"][3]\n",
    "mu_a_t = data_loader.DataLoader.mu_a_func_tissue(sample_wavelengths, \"tumor\") / 10\n",
    "mu_s_t = data_loader.DataLoader.mu_s_red_func_tissue(sample_wavelengths, \"tumor\") / 10 / (1-g_t)"
   ]
  },
  {
   "cell_type": "code",
   "execution_count": null,
   "metadata": {},
   "outputs": [],
   "source": [
    "# For refractive index of 1.38 compute the m-parameters based on combined blood and cortex values\n",
    "g_combined = 0.8675\n",
    "refractive_idx_combined = 1.38\n",
    "mu_a_combined = np.concatenate((mu_a_gm, mu_a_bv, mu_a_t))\n",
    "mu_s_combined = np.concatenate((mu_s_gm * (1-g_gm) / (1-g_combined), mu_s_bv * (1-g_bv) / (1-g_combined), mu_s_t * (1-g_t) / (1-g_combined)))"
   ]
  },
  {
   "cell_type": "code",
   "execution_count": null,
   "metadata": {},
   "outputs": [],
   "source": [
    "# Optionally append very high N values, as it was done on Jacques website\n",
    "#mu_a_gm = np.append(mu_a_gm, np.repeat((1 - g_gm), 3))\n",
    "#mu_s_gm = np.append(mu_s_gm, np.array([1e2, 1e3, 5e3]))\n",
    "#mu_a_bv = np.append(mu_a_bv, np.repeat((1 - g_bv), 3))\n",
    "#mu_s_bv = np.append(mu_s_bv, np.array([1e2, 1e3, 5e3]))\n",
    "mu_a_combined = np.append(mu_a_combined, np.repeat((1 - g_combined), 3))\n",
    "mu_s_combined = np.append(mu_s_combined, np.array([1e2, 1e3, 5e3]))"
   ]
  },
  {
   "cell_type": "code",
   "execution_count": null,
   "metadata": {},
   "outputs": [],
   "source": [
    "mcs_params_total = {\n",
    "    \"gray matter\": (mu_a_gm, mu_s_gm, g_gm, refractive_idx_gm),\n",
    "    \"blood vessel\": (mu_a_bv, mu_s_bv, g_bv, refractive_idx_bv),\n",
    "    \"tumor\": (mu_a_t, mu_s_t, g_t, refractive_idx_t),\n",
    "    \"general\": (mu_a_combined, mu_s_combined, g_combined, refractive_idx_combined)\n",
    "}"
   ]
  },
  {
   "cell_type": "code",
   "execution_count": null,
   "metadata": {},
   "outputs": [],
   "source": [
    "mu_a_combined.shape"
   ]
  },
  {
   "cell_type": "code",
   "execution_count": null,
   "metadata": {
    "scrolled": true
   },
   "outputs": [],
   "source": [
    "A_vals = dict()\n",
    "dref_vals = dict()\n",
    "m_params = dict()\n",
    "N_vals = dict()\n",
    "\n",
    "# empty log file\n",
    "open(config.m_params_path.parent / \"log.txt\", \"w\").close()\n",
    "\n",
    "# make sure to make this a separate array, don't create directly in cfg!\n",
    "prop = np.array([[0,0,1,1],[0,0,1.2,1.5]])\n",
    "\n",
    "vol = np.ones((100, 100, 120), dtype=\"uint8\")\n",
    "\n",
    "cfg = {\n",
    "    \"nphoton\": 1e7,\n",
    "    \"maxdetphoton\": 1e7,\n",
    "    \"vol\": vol,\n",
    "    \"tstart\":0,\n",
    "    \"tend\":1e-8,\n",
    "    \"tstep\":1e-8,\n",
    "    \"autopilot\": 1,\n",
    "    \"gpuid\": config.gpuid,\n",
    "    \"prop\": prop,\n",
    "    \"bc\": \"ccrcca\",#001000\",\n",
    "    \"isspecular\": 1,\n",
    "    \"srcdir\": [0,0,1],\n",
    "    \"srctype\": \"planar\",\n",
    "    \"srcpos\": [0, 0, 0],\n",
    "    \"srcparam1\": [vol.shape[0], 0, 0, 0], # 3D position of vertex, fourth coordinate is irrelevant\n",
    "    \"srcparam2\": [0, vol.shape[1], 0, 0],\n",
    "    \"issrcfrom0\": 1,\n",
    "    #\"savedetflag\": \"dpx\",\n",
    "    \"flog\": str(config.m_params_path.parent) + \"/log.txt\",\n",
    "    \"isnormalized\": 0,\n",
    "    \"issaveref\": 1\n",
    "}\n",
    "\n",
    "# necessary to accumulate weights\n",
    "cfg[\"vol\"][:, :, 0] = 0\n",
    "\n",
    "def A_residual(m_params, A_vals, N_vals):\n",
    "    m1, m2, m3 = m_params\n",
    "    return A_vals - (m1 + m2 * np.exp(np.log(N_vals)/m3))\n",
    "\n",
    "for tissue, (mu_a_tissue, mu_s_tissue, g_tissue, refractive_idx) in mcs_params_total.items():\n",
    "    A_vals[tissue] = []\n",
    "    N_vals[tissue] = []\n",
    "    dref_vals[tissue] = []\n",
    "    for mu_a, mu_s in zip(mu_a_tissue, mu_s_tissue):\n",
    "        cfg[\"prop\"][1, 0] = mu_a\n",
    "        cfg[\"prop\"][1, 1] = mu_s\n",
    "        cfg[\"prop\"][1, 2] = g_tissue\n",
    "        cfg[\"prop\"][1, 3] = refractive_idx\n",
    "        res = pmcx.mcxlab(cfg)\n",
    "        #mean_pl = pmcx.utils.meanpath(res[\"detp\"])[0]\n",
    "        mu_s_red = mu_s * (1 - g_tissue)\n",
    "        delta = 1 / np.sqrt(3 * mu_a * (mu_a + mu_s_red))\n",
    "        #A = mean_pl / delta\n",
    "        dref = np.sum(res[\"dref\"][:, :, 0, :]) / cfg[\"nphoton\"]\n",
    "        dref_vals[tissue].append(dref)\n",
    "        A = -np.log(dref) / (delta * mu_a)\n",
    "        A_vals[tissue].append(A)\n",
    "        print(f\"N: {mu_s_red / mu_a}    A:{A}\")\n",
    "        \n",
    "    N_vals[tissue] = mu_s_tissue * (1 - g_tissue) / mu_a_tissue\n",
    "    # initial values by Jacques as initialization\n",
    "    m = np.array([6.3744, 0.3568, 3.4739])\n",
    "    ls_res = least_squares(A_residual, m, args=(A_vals[refractive_idx], N_vals[refractive_idx]))\n",
    "    m_params[tissue] = ls_res.x\n"
   ]
  },
  {
   "cell_type": "code",
   "execution_count": null,
   "metadata": {},
   "outputs": [],
   "source": [
    "mu_a_gm.shape"
   ]
  },
  {
   "cell_type": "markdown",
   "metadata": {},
   "source": [
    "Compare diffuse reflectance computed during MCS with dref computed here..."
   ]
  },
  {
   "cell_type": "markdown",
   "metadata": {},
   "source": [
    "Store the parameters..."
   ]
  },
  {
   "cell_type": "code",
   "execution_count": null,
   "metadata": {},
   "outputs": [],
   "source": [
    "with open(config.m_params_path, \"wb\") as f:\n",
    "    pickle.dump((m_params, A_vals, N_vals, dref_vals), f)"
   ]
  },
  {
   "cell_type": "markdown",
   "metadata": {},
   "source": [
    "Load the parameters..."
   ]
  },
  {
   "cell_type": "code",
   "execution_count": null,
   "metadata": {},
   "outputs": [],
   "source": [
    "with open(config.m_params_path, \"rb\") as f:\n",
    "    m_params, A_vals, N_vals, dref_vals = pickle.load(f)"
   ]
  },
  {
   "cell_type": "code",
   "execution_count": null,
   "metadata": {},
   "outputs": [],
   "source": [
    "N_vals"
   ]
  },
  {
   "cell_type": "code",
   "execution_count": null,
   "metadata": {},
   "outputs": [],
   "source": [
    "#refractive_idxs = [1.36, 1.38, 1.4]\n",
    "\n",
    "fig, axs = plt.subplots(4, 1)\n",
    "\n",
    "for i, (tissue, (mu_a_tissue, mu_s_tissue, g_tissue, refractive_idx)) in enumerate(mcs_params_total.items()):\n",
    "    m1, m2, m3 = m_params[tissue]\n",
    "    #N_vals = mu_s_tissue * (1 - g_tissue) / mu_a_tissue\n",
    "    N_vals_interp = np.linspace(np.min(N_vals[tissue]), np.max(N_vals[tissue]), 100)\n",
    "    axs[i].plot(N_vals_interp, m1 + m2*np.exp(np.log(N_vals_interp)/m3))\n",
    "    axs[i].scatter(N_vals[tissue], A_vals[tissue])\n",
    "    axs[i].set_xscale(\"log\")\n",
    "    axs[i].set_title(f\"{tissue}\")\n",
    "    axs[i].text(0.01, 0.5, f\"m1: {m1}\\nm2: {m2}\\nm3: {m3}\", transform=axs[i].transAxes)\n",
    "\n",
    "plt.show()"
   ]
  },
  {
   "cell_type": "code",
   "execution_count": null,
   "metadata": {},
   "outputs": [],
   "source": []
  }
 ],
 "metadata": {
  "kernelspec": {
   "display_name": "nonlinear-fit",
   "language": "python",
   "name": "python3"
  },
  "language_info": {
   "codemirror_mode": {
    "name": "ipython",
    "version": 3
   },
   "file_extension": ".py",
   "mimetype": "text/x-python",
   "name": "python",
   "nbconvert_exporter": "python",
   "pygments_lexer": "ipython3",
   "version": "3.11.11"
  }
 },
 "nbformat": 4,
 "nbformat_minor": 4
}
