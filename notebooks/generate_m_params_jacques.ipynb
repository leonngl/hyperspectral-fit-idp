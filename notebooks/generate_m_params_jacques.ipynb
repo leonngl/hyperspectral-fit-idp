{
 "cells": [
  {
   "cell_type": "code",
   "execution_count": 1,
   "metadata": {},
   "outputs": [],
   "source": [
    "import os\n",
    "import sys\n",
    "from pathlib import Path\n",
    "sys.path.insert(1, str(Path(os.getcwd()).parent / \"src\"))"
   ]
  },
  {
   "cell_type": "code",
   "execution_count": 2,
   "metadata": {},
   "outputs": [],
   "source": [
    "import data_loader\n",
    "from concentr_diffs_pathlength import *\n",
    "from plotting import *\n",
    "from mbll_functions import *\n",
    "from utils import *\n",
    "from mcs_function import *\n",
    "from pathlib import Path\n",
    "import config\n",
    "import pickle\n",
    "from scipy.optimize import least_squares\n",
    "import pmcx\n",
    "from tqdm.notebook import tqdm\n",
    "import imageio\n",
    "\n",
    "import matplotlib.pyplot as plt"
   ]
  },
  {
   "cell_type": "code",
   "execution_count": 3,
   "metadata": {},
   "outputs": [
    {
     "name": "stdout",
     "output_type": "stream",
     "text": [
      "=============================   GPU Information  ================================\n",
      "Device 1 of 1:\t\tNVIDIA GeForce GTX 1050\n",
      "Compute Capability:\t6.1\n",
      "Global Memory:\t\t4237164544 B\n",
      "Constant Memory:\t65536 B\n",
      "Shared Memory:\t\t49152 B\n",
      "Registers:\t\t65536\n",
      "Clock Speed:\t\t1.49 GHz\n",
      "Number of SMs:\t\t5\n",
      "Number of Cores:\t640\n",
      "Auto-thread:\t\t10240\n",
      "Auto-block:\t\t64\n"
     ]
    },
    {
     "data": {
      "text/plain": [
       "[{'name': 'NVIDIA GeForce GTX 1050',\n",
       "  'id': 1,\n",
       "  'devcount': 1,\n",
       "  'major': 6,\n",
       "  'minor': 1,\n",
       "  'globalmem': 4237164544,\n",
       "  'constmem': 65536,\n",
       "  'sharedmem': 49152,\n",
       "  'regcount': 65536,\n",
       "  'clock': 1493000,\n",
       "  'sm': 5,\n",
       "  'core': 640,\n",
       "  'autoblock': 64,\n",
       "  'autothread': 10240,\n",
       "  'maxgate': 0}]"
      ]
     },
     "execution_count": 3,
     "metadata": {},
     "output_type": "execute_result"
    }
   ],
   "source": [
    "pmcx.gpuinfo()"
   ]
  },
  {
   "cell_type": "code",
   "execution_count": 4,
   "metadata": {},
   "outputs": [],
   "source": [
    "gpuid = 1"
   ]
  },
  {
   "cell_type": "code",
   "execution_count": 5,
   "metadata": {},
   "outputs": [
    {
     "data": {
      "text/plain": [
       "PosixPath('/media/leon/Storage/Studium/Informatik/Master/3.Semester/IDP/nonlinear-fit/dataset/m_parameters.pickle')"
      ]
     },
     "execution_count": 5,
     "metadata": {},
     "output_type": "execute_result"
    }
   ],
   "source": [
    "config.m_params_path"
   ]
  },
  {
   "cell_type": "markdown",
   "metadata": {},
   "source": [
    "In the Jacques model, diffuse reflectance is given as $$R_d = \\exp(-A\\delta \\mu_a)$$, where A depends on the ratio of the absorption and scattering $N = \\frac{\\mu_s'}{\\mu_a}$ coefficient, and is modelled as\n",
    "$$ A(N) = m_1 + m_2\\exp(\\frac{\\ln(N)}{m_3}) $$\n",
    "and $\\delta$ is $$\\delta = (3\\mu_a(\\mu_s' + \\mu_a))^{-\\frac{1}{2}}$$\n",
    "A also depends on the refractive index. The $m_i$-parameters in paper and Jacque's website are based on a refractive index of 1.33. For the brain we expect 1.36 (gray matter) to 1.4 (blood vessels). To determine the $m_i$ for these indices, we run Monte Carlo Simulations with reasonable absorption/scattering coefficients and fit the $m_i$ to the obtained values for A.\\\n",
    "For absorption/scattering coefficients we use literature values of gray matter and blood vessel tissue. Additionally, we use some very high values for $N$, as it was done on Jacque's website."
   ]
  },
  {
   "cell_type": "code",
   "execution_count": 6,
   "metadata": {},
   "outputs": [],
   "source": [
    " # both inclusive\n",
    "loader = data_loader.DataLoader(None, 450, 999)\n",
    "# absorption spectra for HbO2, Hbb, oxCCO, redCCO, water and fat\n",
    "mu_a_matrix = loader.absorption_coefs(\n",
    "    use_diff_oxycco = False,\n",
    "    use_water_and_fat = True\n",
    ")"
   ]
  },
  {
   "cell_type": "code",
   "execution_count": 7,
   "metadata": {},
   "outputs": [
    {
     "name": "stdout",
     "output_type": "stream",
     "text": [
      "[450 475 500 525 550 575 600 625 650 675 700 725 750 775 800 825 850 875\n",
      " 900 925 950 975 999]\n"
     ]
    }
   ],
   "source": [
    "sample_wavelengths = np.arange(loader.wavelength_left_cut, loader.wavelength_right_cut, 25)\n",
    "if sample_wavelengths[-1] != loader.wavelength_right_cut:\n",
    "    sample_wavelengths = np.append(sample_wavelengths, loader.wavelength_right_cut)\n",
    "print(sample_wavelengths)"
   ]
  },
  {
   "cell_type": "code",
   "execution_count": 8,
   "metadata": {},
   "outputs": [],
   "source": [
    "g_gm = 0.85\n",
    "refractive_idx_gm = 1.36\n",
    "mu_a_vector_gm = mu_a_matrix @ loader.params_ref_gray_matter[:6] / 10 # MMX takes mu in 1/mm\n",
    "mu_a_func_gm = lambda wl: mu_a_vector_gm[np.array(wl).astype(int) - loader.wavelength_left_cut]\n",
    "mu_s_red_func_gm = lambda wl: loader.params_ref_gray_matter[-2] * np.power((wl/500), -loader.params_ref_gray_matter[-1]) / 10\n",
    "mu_s_func_gm = lambda wl: mu_s_red_func_gm(wl) / (1 - g_gm)\n",
    "\n",
    "mu_a_gm = mu_a_func_gm(sample_wavelengths)\n",
    "mu_s_gm = mu_s_func_gm(sample_wavelengths)"
   ]
  },
  {
   "cell_type": "code",
   "execution_count": 9,
   "metadata": {},
   "outputs": [],
   "source": [
    "g_bv = 0.935\n",
    "refractive_idx_bv = 1.4\n",
    "mu_a_vector_bv = mu_a_matrix @ loader.params_ref_blood_vessel[:6] / 10 # MMX takes mu_a in 1/mm\n",
    "mu_a_func_bv = lambda wl: mu_a_vector_bv[np.array(wl).astype(int) - loader.wavelength_left_cut]\n",
    "mu_s_red_func_bv = lambda wl: loader.params_ref_blood_vessel[-2] * np.power((wl/500), -loader.params_ref_blood_vessel[-1]) / 10\n",
    "mu_s_func_bv = lambda wl: mu_s_red_func_bv(wl) / (1 - g_bv)\n",
    "\n",
    "mu_a_bv = mu_a_func_bv(sample_wavelengths)\n",
    "mu_s_bv = mu_s_func_bv(sample_wavelengths)"
   ]
  },
  {
   "cell_type": "code",
   "execution_count": 10,
   "metadata": {},
   "outputs": [],
   "source": [
    "mu_a_high = np.repeat((1 - g_gm), 3)\n",
    "mu_s_high = np.array([1e2, 1e3, 5e3])"
   ]
  },
  {
   "cell_type": "code",
   "execution_count": 11,
   "metadata": {},
   "outputs": [],
   "source": [
    "mcs_params_total = [\n",
    "    (mu_a_gm, mu_s_gm, g_gm),\n",
    "    (mu_a_bv, mu_s_bv, g_bv),\n",
    "    (mu_a_high, mu_s_high, g_gm)\n",
    "]"
   ]
  },
  {
   "cell_type": "code",
   "execution_count": 12,
   "metadata": {},
   "outputs": [
    {
     "data": {
      "text/plain": [
       "(23,)"
      ]
     },
     "execution_count": 12,
     "metadata": {},
     "output_type": "execute_result"
    }
   ],
   "source": [
    "mu_a_gm.shape"
   ]
  },
  {
   "cell_type": "code",
   "execution_count": null,
   "metadata": {},
   "outputs": [
    {
     "name": "stdout",
     "output_type": "stream",
     "text": [
      "nphoton: 1e+07\n",
      "tstart: 0\n",
      "tstep: 5e-09\n",
      "tend: 5e-09\n",
      "maxdetphoton: 1e+07\n",
      "isnormalized: 0\n",
      "issrcfrom0: 0\n",
      "autopilot: 1\n",
      "issaveref: 1\n",
      "isspecular: 1\n",
      "(1.2548126922431044, 37.66290305540587, 0.156732825)\n",
      "(1.2548126922431044, 37.66290305540587, 0.156732825)\n",
      "N: 4.502214149756442    A:7.529300559149974\n",
      "nphoton: 1e+07\n",
      "tstart: 0\n",
      "tstep: 5e-09\n",
      "tend: 5e-09\n",
      "maxdetphoton: 1e+07\n",
      "isnormalized: 0\n",
      "issrcfrom0: 0\n",
      "autopilot: 1\n",
      "issaveref: 1\n",
      "isspecular: 1\n",
      "(0.5354560555929775, 31.869899011646545, 0.249025775)\n",
      "(0.5354560555929775, 31.869899011646545, 0.249025775)\n",
      "N: 8.927875223024518    A:7.586923670561893\n",
      "nphoton: 1e+07\n",
      "tstart: 0\n",
      "tstep: 5e-09\n",
      "tend: 5e-09\n",
      "maxdetphoton: 1e+07\n",
      "isnormalized: 0\n",
      "issrcfrom0: 0\n",
      "autopilot: 1\n",
      "issaveref: 1\n",
      "isspecular: 1\n",
      "(0.39684208659021836, 27.199999999999996, 0.27028405)\n",
      "N: 10.28116759252159    A:7.610951678882459\n",
      "nphoton: 1e+07\n",
      "tstart: 0\n",
      "tstep: 5e-09\n",
      "tend: 5e-09\n",
      "maxdetphoton: 1e+07\n",
      "isnormalized: 0\n",
      "issrcfrom0: 0\n",
      "autopilot: 1\n",
      "issaveref: 1\n",
      "isspecular: 1\n",
      "(0.5769149745571845, 23.39457496032865, 0.19480075)\n",
      "N: 6.082674915385583    A:7.540213702684645\n",
      "nphoton: 1e+07\n",
      "tstart: 0\n",
      "tstep: 5e-09\n",
      "tend: 5e-09\n",
      "maxdetphoton: 1e+07\n",
      "isnormalized: 0\n",
      "issrcfrom0: 0\n",
      "autopilot: 1\n",
      "issaveref: 1\n",
      "isspecular: 1\n"
     ]
    },
    {
     "ename": "KeyboardInterrupt",
     "evalue": "",
     "output_type": "error",
     "traceback": [
      "\u001b[0;31m---------------------------------------------------------------------------\u001b[0m",
      "\u001b[0;31mKeyboardInterrupt\u001b[0m                         Traceback (most recent call last)",
      "Cell \u001b[0;32mIn[13], line 51\u001b[0m\n\u001b[1;32m     49\u001b[0m cfg[\u001b[38;5;124m\"\u001b[39m\u001b[38;5;124mprop\u001b[39m\u001b[38;5;124m\"\u001b[39m][\u001b[38;5;241m1\u001b[39m, \u001b[38;5;241m2\u001b[39m] \u001b[38;5;241m=\u001b[39m g_tissue\n\u001b[1;32m     50\u001b[0m cfg[\u001b[38;5;124m\"\u001b[39m\u001b[38;5;124mprop\u001b[39m\u001b[38;5;124m\"\u001b[39m][\u001b[38;5;241m1\u001b[39m, \u001b[38;5;241m3\u001b[39m] \u001b[38;5;241m=\u001b[39m refractive_idx\n\u001b[0;32m---> 51\u001b[0m res \u001b[38;5;241m=\u001b[39m pmcx\u001b[38;5;241m.\u001b[39mmcxlab(cfg)\n\u001b[1;32m     52\u001b[0m \u001b[38;5;66;03m#mean_pl = pmcx.utils.meanpath(res[\"detp\"])[0]\u001b[39;00m\n\u001b[1;32m     53\u001b[0m mu_s_red \u001b[38;5;241m=\u001b[39m mu_s \u001b[38;5;241m*\u001b[39m (\u001b[38;5;241m1\u001b[39m \u001b[38;5;241m-\u001b[39m g_tissue)\n",
      "File \u001b[0;32m~/anaconda3/envs/idp/lib/python3.11/site-packages/pmcx/utils.py:576\u001b[0m, in \u001b[0;36mmcxlab\u001b[0;34m(*args)\u001b[0m\n\u001b[1;32m    573\u001b[0m             args[\u001b[38;5;241m0\u001b[39m][\u001b[38;5;124m\"\u001b[39m\u001b[38;5;124msavedetflag\u001b[39m\u001b[38;5;124m\"\u001b[39m][detfields \u001b[38;5;241m==\u001b[39m \u001b[38;5;241m0\u001b[39m] \u001b[38;5;241m=\u001b[39m []\n\u001b[1;32m    575\u001b[0m \u001b[38;5;28;01mif\u001b[39;00m useopencl \u001b[38;5;241m==\u001b[39m \u001b[38;5;241m0\u001b[39m:\n\u001b[0;32m--> 576\u001b[0m     varargout \u001b[38;5;241m=\u001b[39m pmcx\u001b[38;5;241m.\u001b[39mrun(args[\u001b[38;5;241m0\u001b[39m])\n\u001b[1;32m    577\u001b[0m \u001b[38;5;28;01melse\u001b[39;00m:\n\u001b[1;32m    578\u001b[0m     \u001b[38;5;28;01mtry\u001b[39;00m:\n",
      "\u001b[0;31mKeyboardInterrupt\u001b[0m: "
     ]
    }
   ],
   "source": [
    "A_vals = dict()\n",
    "dref_vals = dict()\n",
    "m_params = dict()\n",
    "refractive_idxs = [1.36, 1.38, 1.4]\n",
    "\n",
    "# empty log file\n",
    "open(config.m_params_path.parent / \"log.txt\", \"w\").close()\n",
    "\n",
    "# make sure to make this a separate array, don't create directly in cfg!\n",
    "prop_mcs = np.array([[0,0,1,1],[0,0,0,1.5]])\n",
    "\n",
    "cfg = {\n",
    "    \"nphoton\": 1e7,\n",
    "    \"maxdetphoton\": 1e7,\n",
    "    \"vol\": np.ones((100, 100, 120), dtype=\"uint8\"),\n",
    "    \"tstart\":0,\n",
    "    \"tend\":5e-9,\n",
    "    \"tstep\":5e-9,\n",
    "    \"autopilot\": 1,\n",
    "    \"gpuid\": gpuid,\n",
    "    \"prop\": prop_mcs,\n",
    "    \"bc\": \"ccrcca\",#001000\",\n",
    "    \"isspecular\": 1,\n",
    "    \"srcdir\": [0,0,1],\n",
    "    \"srctype\": \"planar\",\n",
    "    \"srcpos\": [0, 0, 0],\n",
    "    \"srcparam1\": [100, 0, 0, 0], # 3D position of vertex, fourth coordinate is irrelevant\n",
    "    \"srcparam2\": [0, 100, 0, 0],\n",
    "    \"issrcfrom0\": 0,\n",
    "    #\"savedetflag\": \"dpx\",\n",
    "    \"flog\": str(config.m_params_path.parent) + \"/log.txt\",\n",
    "    \"isnormalized\": 0,\n",
    "    \"issaveref\": 1\n",
    "}\n",
    "\n",
    "cfg[\"vol\"][:, :, 0] = 0\n",
    "\n",
    "def A_residual(m_params, A_vals, N_vals):\n",
    "    m1, m2, m3 = m_params\n",
    "    return A_vals - (m1 + m2 * np.exp(np.log(N_vals)/m3))\n",
    "\n",
    "for refractive_idx in refractive_idxs:\n",
    "    A_vals[refractive_idx] = []\n",
    "    N_vals = []\n",
    "    dref_vals[refractive_idx] = []\n",
    "\n",
    "    for mu_a_tissue, mu_s_tissue, g_tissue in mcs_params_total:\n",
    "        dref_arr = []\n",
    "        for mu_a, mu_s in zip(mu_a_tissue, mu_s_tissue):\n",
    "            cfg[\"prop\"][1, 0] = mu_a\n",
    "            cfg[\"prop\"][1, 1] = mu_s\n",
    "            cfg[\"prop\"][1, 2] = g_tissue\n",
    "            cfg[\"prop\"][1, 3] = refractive_idx\n",
    "            res = pmcx.mcxlab(cfg)\n",
    "            #mean_pl = pmcx.utils.meanpath(res[\"detp\"])[0]\n",
    "            mu_s_red = mu_s * (1 - g_tissue)\n",
    "            delta = 1 / np.sqrt(3 * mu_a * (mu_a + mu_s_red))\n",
    "            #A = mean_pl / delta\n",
    "            dref = np.sum(res[\"dref\"][:, :, 0, :]) / cfg[\"nphoton\"]\n",
    "            dref_arr.append(dref)\n",
    "            A = -np.log(dref) / (delta * mu_a)\n",
    "            A_vals[refractive_idx].append(A)\n",
    "            print(f\"N: {mu_s_red / mu_a}    A:{A}\")\n",
    "        \n",
    "        N_vals.append(mu_s_tissue * (1 - g_tissue) / mu_a_tissue)\n",
    "        dref_vals[refractive_idx].append(dref_arr)\n",
    "    N_vals = np.concatenate(N_vals)\n",
    "    # initial values by Jacques as initialization\n",
    "    m = np.array([6.3744, 0.3568, 3.4739])\n",
    "    ls_res = least_squares(A_residual, m, args=(A_vals[refractive_idx], N_vals))\n",
    "    m_params[refractive_idx] = ls_res.x\n"
   ]
  },
  {
   "cell_type": "markdown",
   "metadata": {},
   "source": [
    "Compare diffuse reflectance computed during MCS with dref computed here..."
   ]
  },
  {
   "cell_type": "code",
   "execution_count": null,
   "metadata": {},
   "outputs": [],
   "source": [
    "gray_matter_mcs_data = np.loadtxt(config.pl_dir / \"gray_matter_mcs.txt\")\n",
    "assert(np.allclose(gray_matter_mcs_data[:, 0], sample_wavelengths))\n",
    "\n",
    "plt.plot(gray_matter_mcs_data[:, 0], gray_matter_mcs_data[:, 3] - dref_vals[1.36][0])"
   ]
  },
  {
   "cell_type": "markdown",
   "metadata": {},
   "source": [
    "Store the parameters..."
   ]
  },
  {
   "cell_type": "code",
   "execution_count": 13,
   "metadata": {},
   "outputs": [],
   "source": [
    "with open(config.m_params_path, \"wb\") as f:\n",
    "    pickle.dump((m_params, A_vals), f)"
   ]
  },
  {
   "cell_type": "markdown",
   "metadata": {},
   "source": [
    "Load the parameters..."
   ]
  },
  {
   "cell_type": "code",
   "execution_count": 14,
   "metadata": {},
   "outputs": [],
   "source": [
    "with open(config.m_params_path, \"rb\") as f:\n",
    "    m_params, A_vals = pickle.load(f)"
   ]
  },
  {
   "cell_type": "code",
   "execution_count": 15,
   "metadata": {},
   "outputs": [
    {
     "data": {
      "image/png": "[encoded data removed]",
      "text/plain": [
       "<Figure size 640x480 with 3 Axes>"
      ]
     },
     "metadata": {},
     "output_type": "display_data"
    }
   ],
   "source": [
    "refractive_idxs = [1.36, 1.38, 1.4]\n",
    "\n",
    "N_vals_interp = np.linspace(N_vals[0] / 4, N_vals[-1], 100)\n",
    "fig, axs = plt.subplots(len(refractive_idxs), 1)\n",
    "for i, refractive_idx in enumerate(refractive_idxs):\n",
    "    m1, m2, m3 = m_params[refractive_idx]\n",
    "    axs[i].plot(N_vals_interp, m1 + m2*np.exp(np.log(N_vals_interp)/m3))\n",
    "    axs[i].scatter(N_vals, A_vals[refractive_idx])\n",
    "    axs[i].set_xscale(\"log\")\n",
    "    axs[i].set_title(f\"{refractive_idx}\")\n",
    "    axs[i].text(0.01, 0.5, f\"m1: {m1}\\nm2: {m2}\\nm3: {m3}\", transform=axs[i].transAxes)\n",
    "\n",
    "plt.show()"
   ]
  }
 ],
 "metadata": {
  "kernelspec": {
   "display_name": "idp",
   "language": "python",
   "name": "python3"
  },
  "language_info": {
   "codemirror_mode": {
    "name": "ipython",
    "version": 3
   },
   "file_extension": ".py",
   "mimetype": "text/x-python",
   "name": "python",
   "nbconvert_exporter": "python",
   "pygments_lexer": "ipython3",
   "version": "3.11.9"
  }
 },
 "nbformat": 4,
 "nbformat_minor": 2
}
