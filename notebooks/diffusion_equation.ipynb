{
 "cells": [
  {
   "cell_type": "code",
   "execution_count": 1,
   "metadata": {},
   "outputs": [],
   "source": [
    "import os\n",
    "import sys\n",
    "from pathlib import Path\n",
    "sys.path.insert(1, str(Path(os.getcwd()).parent / \"src\"))"
   ]
  },
  {
   "cell_type": "code",
   "execution_count": 2,
   "metadata": {},
   "outputs": [],
   "source": [
    "import data_loader\n",
    "from utils import *\n",
    "from mcs_function import *\n",
    "from plotting import *\n",
    "import config\n",
    "import pickle\n",
    "from scipy.optimize import least_squares\n",
    "import pmcx\n",
    "import matplotlib.pyplot as plt\n",
    "from sympy import symbols, dsolve, Function, exp, Eq, oo, limit, Add, Mul, solve, sqrt, log"
   ]
  },
  {
   "cell_type": "markdown",
   "metadata": {},
   "source": [
    "Check that the solution to the ODE provided by Patterson et. al (1989) gives the diffuse reflectance."
   ]
  },
  {
   "cell_type": "code",
   "execution_count": 3,
   "metadata": {},
   "outputs": [],
   "source": [
    "mua, musred = symbols(r\"\\mu_a \\mu_{sg}\", positive=True)\n",
    "k, z, d0 = symbols(r\"k z d_0\")"
   ]
  },
  {
   "cell_type": "code",
   "execution_count": 4,
   "metadata": {},
   "outputs": [
    {
     "data": {
      "text/latex": [
       "$\\displaystyle \\mu_{sg}$"
      ],
      "text/plain": [
       "\\mu_{sg}"
      ]
     },
     "execution_count": 4,
     "metadata": {},
     "output_type": "execute_result"
    }
   ],
   "source": [
    "musred"
   ]
  },
  {
   "cell_type": "code",
   "execution_count": 5,
   "metadata": {},
   "outputs": [],
   "source": [
    "theta = Function(r\"\\theta\")(z)\n",
    "thetap = theta.diff(z)\n",
    "thetapp = theta.diff(z, 2)"
   ]
  },
  {
   "cell_type": "code",
   "execution_count": 6,
   "metadata": {},
   "outputs": [],
   "source": [
    "D = 1 / (3*(mua + musred))"
   ]
  },
  {
   "cell_type": "code",
   "execution_count": 7,
   "metadata": {},
   "outputs": [],
   "source": [
    "eq = Eq(- D*thetapp + mua*theta, musred*exp(-(mua + musred)*z))"
   ]
  },
  {
   "cell_type": "code",
   "execution_count": 8,
   "metadata": {},
   "outputs": [
    {
     "data": {
      "text/latex": [
       "$\\displaystyle \\mu_{a} \\theta{\\left(z \\right)} - \\frac{\\frac{d^{2}}{d z^{2}} \\theta{\\left(z \\right)}}{3 \\mu_{a} + 3 \\mu_{sg}} = \\mu_{sg} e^{z \\left(- \\mu_{a} - \\mu_{sg}\\right)}$"
      ],
      "text/plain": [
       "Eq(\\mu_a*\\theta(z) - Derivative(\\theta(z), (z, 2))/(3*\\mu_a + 3*\\mu_{sg}), \\mu_{sg}*exp(z*(-\\mu_a - \\mu_{sg})))"
      ]
     },
     "execution_count": 8,
     "metadata": {},
     "output_type": "execute_result"
    }
   ],
   "source": [
    "eq"
   ]
  },
  {
   "cell_type": "markdown",
   "metadata": {},
   "source": [
    "$d_0$ is a temporary variable that describes $\\frac{\\partial \\theta}{\\partial z} |_{z=0}$"
   ]
  },
  {
   "cell_type": "code",
   "execution_count": 9,
   "metadata": {},
   "outputs": [],
   "source": [
    "ics={theta.subs(z, 0): 2*D*k*d0, thetap.subs(z, 0): d0}"
   ]
  },
  {
   "cell_type": "code",
   "execution_count": 10,
   "metadata": {},
   "outputs": [],
   "source": [
    "res_theta = dsolve(eq, theta, ics=ics)"
   ]
  },
  {
   "cell_type": "markdown",
   "metadata": {},
   "source": [
    "The result is of the form $$\\theta(z) = a\\exp(k_1z) + b\\exp(k_2 z) + c\\exp(k_3 z)$$\n",
    "\n",
    "Proof:"
   ]
  },
  {
   "cell_type": "code",
   "execution_count": 11,
   "metadata": {},
   "outputs": [
    {
     "data": {
      "text/latex": [
       "$\\displaystyle \\theta{\\left(z \\right)}$"
      ],
      "text/plain": [
       "\\theta(z)"
      ]
     },
     "execution_count": 11,
     "metadata": {},
     "output_type": "execute_result"
    }
   ],
   "source": [
    "res_theta.lhs"
   ]
  },
  {
   "cell_type": "code",
   "execution_count": 12,
   "metadata": {},
   "outputs": [
    {
     "name": "stdout",
     "output_type": "stream",
     "text": [
      "exp(sqrt(3)*sqrt(\\mu_a)*z*sqrt(\\mu_a + \\mu_{sg}))  ---> oo\n",
      "exp(-sqrt(3)*sqrt(\\mu_a)*z*sqrt(\\mu_a + \\mu_{sg}))  ---> 0\n",
      "exp(-z*(\\mu_a + \\mu_{sg}))  ---> 0\n"
     ]
    }
   ],
   "source": [
    "assert res_theta.rhs.func == Add\n",
    "for term in res_theta.rhs.args:\n",
    "    assert term.func == Mul\n",
    "    assert all(z not in constant.free_symbols for constant in term.args[:-1])\n",
    "    print(f\"{term.args[-1]}  ---> {limit(term.args[-1], z, oo, '+')}\")"
   ]
  },
  {
   "cell_type": "markdown",
   "metadata": {},
   "source": [
    "Result: Only the first term does not go to 0 for $z \\rightarrow 0$. To ensure that the entire term goes to zero, the first constant $a$ must be zero."
   ]
  },
  {
   "cell_type": "code",
   "execution_count": 13,
   "metadata": {},
   "outputs": [],
   "source": [
    "a = Mul(*res_theta.rhs.args[0].args[:-1])\n",
    "assert z not in a.free_symbols"
   ]
  },
  {
   "cell_type": "code",
   "execution_count": 14,
   "metadata": {},
   "outputs": [],
   "source": [
    "res_d0 = solve(Eq(a, 0), d0)"
   ]
  },
  {
   "cell_type": "code",
   "execution_count": 15,
   "metadata": {},
   "outputs": [
    {
     "data": {
      "text/plain": [
       "1"
      ]
     },
     "execution_count": 15,
     "metadata": {},
     "output_type": "execute_result"
    }
   ],
   "source": [
    "len(res_d0)"
   ]
  },
  {
   "cell_type": "markdown",
   "metadata": {},
   "source": [
    "With newly determined value for $\\frac{\\partial \\theta}{\\partial z} |_{z = 0}$, lets solve the ODE again."
   ]
  },
  {
   "cell_type": "code",
   "execution_count": 16,
   "metadata": {},
   "outputs": [],
   "source": [
    "ics={theta.subs(z, 0): 2*D*k*res_d0[0], thetap.subs(z, 0): res_d0[0]}"
   ]
  },
  {
   "cell_type": "code",
   "execution_count": 17,
   "metadata": {},
   "outputs": [],
   "source": [
    "res_theta2 = dsolve(eq, theta, ics=ics)"
   ]
  },
  {
   "cell_type": "code",
   "execution_count": 18,
   "metadata": {},
   "outputs": [
    {
     "data": {
      "text/latex": [
       "$\\displaystyle \\theta{\\left(z \\right)} = \\frac{\\mu_{sg} \\left(\\sqrt{3} \\left(2 \\mu_{a} - \\mu_{sg}\\right) \\left(8 \\mu_{a}^{4} k + 12 \\mu_{a}^{4} + 8 \\mu_{a}^{3} \\mu_{sg} k + 12 \\mu_{a}^{3} \\mu_{sg} - 6 \\mu_{a}^{2} \\mu_{sg}^{2} k - 9 \\mu_{a}^{2} \\mu_{sg}^{2} - 4 \\mu_{a} \\mu_{sg}^{3} k - 6 \\mu_{a} \\mu_{sg}^{3} + 2 \\mu_{sg}^{4} k + 3 \\mu_{sg}^{4}\\right) e^{z \\left(\\mu_{a} + \\mu_{sg}\\right)} + 3 \\left(- 16 \\mu_{a}^{\\frac{9}{2}} k \\sqrt{\\mu_{a} + \\mu_{sg}} + 8 \\mu_{a}^{\\frac{7}{2}} \\mu_{sg} k \\sqrt{\\mu_{a} + \\mu_{sg}} + 12 \\mu_{a}^{\\frac{5}{2}} \\mu_{sg}^{2} k \\sqrt{\\mu_{a} + \\mu_{sg}} - 10 \\mu_{a}^{\\frac{3}{2}} \\mu_{sg}^{3} k \\sqrt{\\mu_{a} + \\mu_{sg}} + 2 \\sqrt{\\mu_{a}} \\mu_{sg}^{4} k \\sqrt{\\mu_{a} + \\mu_{sg}} - 8 \\sqrt{3} \\mu_{a}^{5} - 4 \\sqrt{3} \\mu_{a}^{4} \\mu_{sg} + 10 \\sqrt{3} \\mu_{a}^{3} \\mu_{sg}^{2} + \\sqrt{3} \\mu_{a}^{2} \\mu_{sg}^{3} - 4 \\sqrt{3} \\mu_{a} \\mu_{sg}^{4} + \\sqrt{3} \\mu_{sg}^{5}\\right) e^{\\sqrt{3} \\sqrt{\\mu_{a}} z \\sqrt{\\mu_{a} + \\mu_{sg}}}\\right) e^{- z \\left(\\sqrt{3} \\sqrt{\\mu_{a}} \\sqrt{\\mu_{a} + \\mu_{sg}} + \\mu_{a} + \\mu_{sg}\\right)}}{\\left(2 \\mu_{a} - \\mu_{sg}\\right) \\left(- 16 \\mu_{a}^{\\frac{9}{2}} k \\sqrt{\\mu_{a} + \\mu_{sg}} + 8 \\mu_{a}^{\\frac{7}{2}} \\mu_{sg} k \\sqrt{\\mu_{a} + \\mu_{sg}} + 12 \\mu_{a}^{\\frac{5}{2}} \\mu_{sg}^{2} k \\sqrt{\\mu_{a} + \\mu_{sg}} - 10 \\mu_{a}^{\\frac{3}{2}} \\mu_{sg}^{3} k \\sqrt{\\mu_{a} + \\mu_{sg}} + 2 \\sqrt{\\mu_{a}} \\mu_{sg}^{4} k \\sqrt{\\mu_{a} + \\mu_{sg}} - 8 \\sqrt{3} \\mu_{a}^{5} - 4 \\sqrt{3} \\mu_{a}^{4} \\mu_{sg} + 10 \\sqrt{3} \\mu_{a}^{3} \\mu_{sg}^{2} + \\sqrt{3} \\mu_{a}^{2} \\mu_{sg}^{3} - 4 \\sqrt{3} \\mu_{a} \\mu_{sg}^{4} + \\sqrt{3} \\mu_{sg}^{5}\\right)}$"
      ],
      "text/plain": [
       "Eq(\\theta(z), \\mu_{sg}*(sqrt(3)*(2*\\mu_a - \\mu_{sg})*(8*\\mu_a**4*k + 12*\\mu_a**4 + 8*\\mu_a**3*\\mu_{sg}*k + 12*\\mu_a**3*\\mu_{sg} - 6*\\mu_a**2*\\mu_{sg}**2*k - 9*\\mu_a**2*\\mu_{sg}**2 - 4*\\mu_a*\\mu_{sg}**3*k - 6*\\mu_a*\\mu_{sg}**3 + 2*\\mu_{sg}**4*k + 3*\\mu_{sg}**4)*exp(z*(\\mu_a + \\mu_{sg})) + 3*(-16*\\mu_a**(9/2)*k*sqrt(\\mu_a + \\mu_{sg}) + 8*\\mu_a**(7/2)*\\mu_{sg}*k*sqrt(\\mu_a + \\mu_{sg}) + 12*\\mu_a**(5/2)*\\mu_{sg}**2*k*sqrt(\\mu_a + \\mu_{sg}) - 10*\\mu_a**(3/2)*\\mu_{sg}**3*k*sqrt(\\mu_a + \\mu_{sg}) + 2*sqrt(\\mu_a)*\\mu_{sg}**4*k*sqrt(\\mu_a + \\mu_{sg}) - 8*sqrt(3)*\\mu_a**5 - 4*sqrt(3)*\\mu_a**4*\\mu_{sg} + 10*sqrt(3)*\\mu_a**3*\\mu_{sg}**2 + sqrt(3)*\\mu_a**2*\\mu_{sg}**3 - 4*sqrt(3)*\\mu_a*\\mu_{sg}**4 + sqrt(3)*\\mu_{sg}**5)*exp(sqrt(3)*sqrt(\\mu_a)*z*sqrt(\\mu_a + \\mu_{sg})))*exp(-z*(sqrt(3)*sqrt(\\mu_a)*sqrt(\\mu_a + \\mu_{sg}) + \\mu_a + \\mu_{sg}))/((2*\\mu_a - \\mu_{sg})*(-16*\\mu_a**(9/2)*k*sqrt(\\mu_a + \\mu_{sg}) + 8*\\mu_a**(7/2)*\\mu_{sg}*k*sqrt(\\mu_a + \\mu_{sg}) + 12*\\mu_a**(5/2)*\\mu_{sg}**2*k*sqrt(\\mu_a + \\mu_{sg}) - 10*\\mu_a**(3/2)*\\mu_{sg}**3*k*sqrt(\\mu_a + \\mu_{sg}) + 2*sqrt(\\mu_a)*\\mu_{sg}**4*k*sqrt(\\mu_a + \\mu_{sg}) - 8*sqrt(3)*\\mu_a**5 - 4*sqrt(3)*\\mu_a**4*\\mu_{sg} + 10*sqrt(3)*\\mu_a**3*\\mu_{sg}**2 + sqrt(3)*\\mu_a**2*\\mu_{sg}**3 - 4*sqrt(3)*\\mu_a*\\mu_{sg}**4 + sqrt(3)*\\mu_{sg}**5)))"
      ]
     },
     "execution_count": 18,
     "metadata": {},
     "output_type": "execute_result"
    }
   ],
   "source": [
    "res_theta2.simplify()"
   ]
  },
  {
   "cell_type": "markdown",
   "metadata": {},
   "source": [
    "Check that $\\theta(0)$ equals the expected formula for reflectance."
   ]
  },
  {
   "cell_type": "code",
   "execution_count": 19,
   "metadata": {},
   "outputs": [],
   "source": [
    "albedo = musred / (mua + musred)"
   ]
  },
  {
   "cell_type": "code",
   "execution_count": 20,
   "metadata": {},
   "outputs": [],
   "source": [
    "R_patterson_formula = albedo / (1 + 2*k * (1-albedo) + (1 + 2*k/3) * sqrt(3 * (1 - albedo)))"
   ]
  },
  {
   "cell_type": "code",
   "execution_count": 21,
   "metadata": {},
   "outputs": [],
   "source": [
    "R_computed_formula = res_theta2.rhs.subs(z, 0) / (2 * k)"
   ]
  },
  {
   "cell_type": "code",
   "execution_count": 22,
   "metadata": {},
   "outputs": [
    {
     "data": {
      "text/plain": [
       "True"
      ]
     },
     "execution_count": 22,
     "metadata": {},
     "output_type": "execute_result"
    }
   ],
   "source": [
    "(R_computed_formula - R_patterson_formula).simplify() == 0"
   ]
  },
  {
   "cell_type": "markdown",
   "metadata": {},
   "source": [
    "Compare the reflectance formula to Monte Carlo Simulations..."
   ]
  },
  {
   "cell_type": "code",
   "execution_count": 23,
   "metadata": {},
   "outputs": [],
   "source": [
    "wavelengths = np.arange(520, 900, 30)\n",
    "mu_a_vals = data_loader.DataLoader.mu_a_func_blood_vessel(wavelengths) / 10\n",
    "mu_s_red_vals = data_loader.DataLoader.mu_s_red_func_blood_vessel(wavelengths) / 10\n",
    "g = 0.935\n",
    "n = 1.4"
   ]
  },
  {
   "cell_type": "code",
   "execution_count": 24,
   "metadata": {},
   "outputs": [
    {
     "name": "stdout",
     "output_type": "stream",
     "text": [
      "nphoton: 1e+07\n",
      "tstart: 0\n",
      "tstep: 1e-08\n",
      "tend: 1e-08\n",
      "maxdetphoton: 1e+07\n",
      "issrcfrom0: 1\n",
      "autopilot: 1\n",
      "isspecular: 1\n",
      "nphoton: 1e+07\n",
      "tstart: 0\n",
      "tstep: 1e-08\n",
      "tend: 1e-08\n",
      "maxdetphoton: 1e+07\n",
      "issrcfrom0: 1\n",
      "autopilot: 1\n",
      "isspecular: 1\n",
      "nphoton: 1e+07\n",
      "tstart: 0\n",
      "tstep: 1e-08\n",
      "tend: 1e-08\n",
      "maxdetphoton: 1e+07\n",
      "issrcfrom0: 1\n",
      "autopilot: 1\n",
      "isspecular: 1\n",
      "nphoton: 1e+07\n",
      "tstart: 0\n",
      "tstep: 1e-08\n",
      "tend: 1e-08\n",
      "maxdetphoton: 1e+07\n",
      "issrcfrom0: 1\n",
      "autopilot: 1\n",
      "isspecular: 1\n",
      "nphoton: 1e+07\n",
      "tstart: 0\n",
      "tstep: 1e-08\n",
      "tend: 1e-08\n",
      "maxdetphoton: 1e+07\n",
      "issrcfrom0: 1\n",
      "autopilot: 1\n",
      "isspecular: 1\n",
      "nphoton: 1e+07\n",
      "tstart: 0\n",
      "tstep: 1e-08\n",
      "tend: 1e-08\n",
      "maxdetphoton: 1e+07\n",
      "issrcfrom0: 1\n",
      "autopilot: 1\n",
      "isspecular: 1\n",
      "nphoton: 1e+07\n",
      "tstart: 0\n",
      "tstep: 1e-08\n",
      "tend: 1e-08\n",
      "maxdetphoton: 1e+07\n",
      "issrcfrom0: 1\n",
      "autopilot: 1\n",
      "isspecular: 1\n",
      "nphoton: 1e+07\n",
      "tstart: 0\n",
      "tstep: 1e-08\n",
      "tend: 1e-08\n",
      "maxdetphoton: 1e+07\n",
      "issrcfrom0: 1\n",
      "autopilot: 1\n",
      "isspecular: 1\n",
      "nphoton: 1e+07\n",
      "tstart: 0\n",
      "tstep: 1e-08\n",
      "tend: 1e-08\n",
      "maxdetphoton: 1e+07\n",
      "issrcfrom0: 1\n",
      "autopilot: 1\n",
      "isspecular: 1\n",
      "nphoton: 1e+07\n",
      "tstart: 0\n",
      "tstep: 1e-08\n",
      "tend: 1e-08\n",
      "maxdetphoton: 1e+07\n",
      "issrcfrom0: 1\n",
      "autopilot: 1\n",
      "isspecular: 1\n",
      "nphoton: 1e+07\n",
      "tstart: 0\n",
      "tstep: 1e-08\n",
      "tend: 1e-08\n",
      "maxdetphoton: 1e+07\n",
      "issrcfrom0: 1\n",
      "autopilot: 1\n",
      "isspecular: 1\n",
      "nphoton: 1e+07\n",
      "tstart: 0\n",
      "tstep: 1e-08\n",
      "tend: 1e-08\n",
      "maxdetphoton: 1e+07\n",
      "issrcfrom0: 1\n",
      "autopilot: 1\n",
      "isspecular: 1\n",
      "nphoton: 1e+07\n",
      "tstart: 0\n",
      "tstep: 1e-08\n",
      "tend: 1e-08\n",
      "maxdetphoton: 1e+07\n",
      "issrcfrom0: 1\n",
      "autopilot: 1\n",
      "isspecular: 1\n"
     ]
    }
   ],
   "source": [
    "prop = np.array([[0,0,1,1],[0,0,1.2,1.5]])\n",
    "vol = np.ones((60, 60, 120), dtype=\"uint8\")\n",
    "\n",
    "cfg = {\n",
    "    \"nphoton\": 1e7,\n",
    "    \"maxdetphoton\": 1e7,\n",
    "    \"vol\": vol,\n",
    "    \"tstart\":0,\n",
    "    \"tend\":1e-8,\n",
    "    \"tstep\":1e-8,\n",
    "    \"autopilot\": 1,\n",
    "    \"gpuid\": config.gpuid,\n",
    "    \"prop\": prop,\n",
    "    \"bc\": \"ccrcca001000\",\n",
    "    \"isspecular\": 1,\n",
    "    \"srcdir\": [0,0,1],\n",
    "    \"srctype\": \"planar\",\n",
    "    \"srcpos\": [0, 0, 0],\n",
    "    \"srcparam1\": [vol.shape[0], 0, 0, 0], # 3D position of vertex, fourth coordinate is irrelevant\n",
    "    \"srcparam2\": [0, vol.shape[1], 0, 0],\n",
    "    \"issrcfrom0\": 1,\n",
    "    \"savedetflag\": \"dpx\",\n",
    "    \"flog\": str(config.spectra_dir) + \"/log.txt\",\n",
    "    #\"isnormalized\": 0,\n",
    "    #\"issaveref\": 1\n",
    "}\n",
    "\n",
    "# necessary to accumulate weights, when using issaveref=1\n",
    "# cfg[\"vol\"][:, :, 0] = 0\n",
    "\n",
    "R_mcx_vals = []\n",
    "PL_mcx_vals = []\n",
    "\n",
    "for i, (mu_a, mu_s_red) in enumerate(zip(mu_a_vals, mu_s_red_vals)):\n",
    "    cfg[\"prop\"][1, 0] = mu_a\n",
    "    cfg[\"prop\"][1, 1] = mu_s_red / (1 - g)\n",
    "    cfg[\"prop\"][1, 2] = g\n",
    "    cfg[\"prop\"][1, 3] = 1.36\n",
    "    res = pmcx.mcxlab(cfg)\n",
    "    detw = pmcx.utils.detweight(res[\"detp\"])\n",
    "    dref = np.sum(detw) / cfg[\"nphoton\"]\n",
    "    pl = pmcx.utils.meanpath(res[\"detp\"])[0]\n",
    "    R_mcx_vals.append(dref)\n",
    "    PL_mcx_vals.append(pl)\n",
    "\n",
    "\n",
    "R_mcx_vals = np.array(R_mcx_vals)\n",
    "PL_mcx_vals = np.array(PL_mcx_vals)"
   ]
  },
  {
   "cell_type": "code",
   "execution_count": 25,
   "metadata": {},
   "outputs": [],
   "source": [
    "def R_Patterson(mu_a, mu_s_red, n):\n",
    "    rd = -1.44 * np.power(n, -2) * 0.71 / n + 0.668 + 0.0636 * n\n",
    "    k = (1 + rd) / (1 - rd)\n",
    "    albedo = mu_s_red / (mu_a + mu_s_red)\n",
    "    return albedo / (1 + 2 * k * (1-albedo) + (1 + 2*k/3)*np.sqrt(3*(1-albedo)))"
   ]
  },
  {
   "cell_type": "code",
   "execution_count": 26,
   "metadata": {},
   "outputs": [],
   "source": [
    "def R_Carp(mu_a, mu_s, g, n):\n",
    "    f = g*g\n",
    "    g_star = g / (1 + g)\n",
    "    mu_s_star = mu_s * (1 - f)\n",
    "    mu_t_star = mu_a + mu_s_star\n",
    "    mu_tr = (mu_a + mu_s * (1-g))\n",
    "    mu_eff = np.power(3 * mu_a * mu_tr, 1/2)\n",
    "    h = 2 / (3 * mu_tr)\n",
    "    A = -0.13755 * np.power(n, 3) + 4.3390 * np.power(n, 2) - 4.90466 * n + 1.6896\n",
    "    alpha = 3 * mu_s_star * (mu_t_star + g_star * mu_a) / (mu_eff ** 2 - mu_t_star ** 2)\n",
    "    beta = (-alpha * (1 + A*h*mu_t_star) - 3*A*h*g_star*mu_s_star) / (1 + A*h*mu_eff)\n",
    "    return (alpha + beta) / (2 * A)"
   ]
  },
  {
   "cell_type": "code",
   "execution_count": 27,
   "metadata": {},
   "outputs": [],
   "source": [
    "patterson_R = R_Patterson(mu_a_vals, mu_s_red_vals, 1.36)"
   ]
  },
  {
   "cell_type": "code",
   "execution_count": 28,
   "metadata": {},
   "outputs": [],
   "source": [
    "carp_R = R_Carp(mu_a_vals, mu_s_red_vals / (1 - g), g, 1.36)"
   ]
  },
  {
   "cell_type": "code",
   "execution_count": 29,
   "metadata": {},
   "outputs": [
    {
     "data": {
      "image/png": "[encoded data removed]",
      "text/plain": [
       "<Figure size 640x480 with 1 Axes>"
      ]
     },
     "metadata": {},
     "output_type": "display_data"
    }
   ],
   "source": [
    "plot_spectra((R_mcx_vals, patterson_R, carp_R), wavelengths, labels=[\"MCX\", \"Patterson\", \"Carp\"])"
   ]
  },
  {
   "cell_type": "markdown",
   "metadata": {},
   "source": [
    "Patterson formula slightly overestimates $R$, Carp's formula very precise."
   ]
  },
  {
   "cell_type": "markdown",
   "metadata": {},
   "source": [
    "Compute the derivatives of $A=\\log(R)$"
   ]
  },
  {
   "cell_type": "code",
   "execution_count": 28,
   "metadata": {},
   "outputs": [],
   "source": [
    "A = log(R_patterson_formula)"
   ]
  },
  {
   "cell_type": "markdown",
   "metadata": {},
   "source": [
    "Derivative to $\\mu_a$, i.e. the pathlength:"
   ]
  },
  {
   "cell_type": "code",
   "execution_count": 35,
   "metadata": {},
   "outputs": [
    {
     "data": {
      "text/latex": [
       "$\\displaystyle \\frac{- \\sqrt{\\mu_{a}} \\left(\\mu_{a} + \\mu_{sg}\\right) \\left(\\sqrt{3} \\sqrt{\\mu_{a}} \\left(\\mu_{a} + \\mu_{sg}\\right) \\left(2 k + 3\\right) + 6 \\mu_{a} k \\sqrt{\\mu_{a} + \\mu_{sg}} + 3 \\left(\\mu_{a} + \\mu_{sg}\\right)^{\\frac{3}{2}}\\right) - \\frac{\\mu_{sg} \\left(12 \\sqrt{\\mu_{a}} k \\left(\\mu_{a} + \\mu_{sg}\\right)^{\\frac{3}{2}} + \\sqrt{3} \\left(\\mu_{a} + \\mu_{sg}\\right)^{2} \\left(2 k + 3\\right)\\right)}{2}}{\\sqrt{\\mu_{a}} \\left(\\mu_{a} + \\mu_{sg}\\right)^{2} \\left(\\sqrt{3} \\sqrt{\\mu_{a}} \\left(\\mu_{a} + \\mu_{sg}\\right) \\left(2 k + 3\\right) + 6 \\mu_{a} k \\sqrt{\\mu_{a} + \\mu_{sg}} + 3 \\left(\\mu_{a} + \\mu_{sg}\\right)^{\\frac{3}{2}}\\right)}$"
      ],
      "text/plain": [
       "(-sqrt(\\mu_a)*(\\mu_a + \\mu_{sg})*(sqrt(3)*sqrt(\\mu_a)*(\\mu_a + \\mu_{sg})*(2*k + 3) + 6*\\mu_a*k*sqrt(\\mu_a + \\mu_{sg}) + 3*(\\mu_a + \\mu_{sg})**(3/2)) - \\mu_{sg}*(12*sqrt(\\mu_a)*k*(\\mu_a + \\mu_{sg})**(3/2) + sqrt(3)*(\\mu_a + \\mu_{sg})**2*(2*k + 3))/2)/(sqrt(\\mu_a)*(\\mu_a + \\mu_{sg})**2*(sqrt(3)*sqrt(\\mu_a)*(\\mu_a + \\mu_{sg})*(2*k + 3) + 6*\\mu_a*k*sqrt(\\mu_a + \\mu_{sg}) + 3*(\\mu_a + \\mu_{sg})**(3/2)))"
      ]
     },
     "execution_count": 35,
     "metadata": {},
     "output_type": "execute_result"
    }
   ],
   "source": [
    "A.diff(mua).simplify()"
   ]
  },
  {
   "cell_type": "code",
   "execution_count": 37,
   "metadata": {},
   "outputs": [
    {
     "data": {
      "text/latex": [
       "$\\displaystyle \\frac{- 2 \\sqrt{\\mu_{a}} \\mu_{sg} \\left(\\mu_{a} + \\mu_{sg}\\right)^{3} \\left(\\sqrt{3} \\sqrt{\\mu_{a}} \\left(\\mu_{a} + \\mu_{sg}\\right) \\left(2 k + 3\\right) + 6 \\mu_{a} k \\sqrt{\\mu_{a} + \\mu_{sg}} + 3 \\left(\\mu_{a} + \\mu_{sg}\\right)^{\\frac{3}{2}}\\right) + 2 \\sqrt{\\mu_{a}} \\left(\\mu_{a} + \\mu_{sg}\\right)^{4} \\left(\\sqrt{3} \\sqrt{\\mu_{a}} \\left(\\mu_{a} + \\mu_{sg}\\right) \\left(2 k + 3\\right) + 6 \\mu_{a} k \\sqrt{\\mu_{a} + \\mu_{sg}} + 3 \\left(\\mu_{a} + \\mu_{sg}\\right)^{\\frac{3}{2}}\\right) + \\mu_{sg} \\left(12 \\mu_{a}^{\\frac{3}{2}} k \\left(\\mu_{a} + \\mu_{sg}\\right)^{\\frac{7}{2}} + \\sqrt{3} \\mu_{a} \\left(\\mu_{a} + \\mu_{sg}\\right)^{4} \\left(2 k + 3\\right)\\right)}{2 \\sqrt{\\mu_{a}} \\mu_{sg} \\left(\\mu_{a} + \\mu_{sg}\\right)^{4} \\left(\\sqrt{3} \\sqrt{\\mu_{a}} \\left(\\mu_{a} + \\mu_{sg}\\right) \\left(2 k + 3\\right) + 6 \\mu_{a} k \\sqrt{\\mu_{a} + \\mu_{sg}} + 3 \\left(\\mu_{a} + \\mu_{sg}\\right)^{\\frac{3}{2}}\\right)}$"
      ],
      "text/plain": [
       "(-2*sqrt(\\mu_a)*\\mu_{sg}*(\\mu_a + \\mu_{sg})**3*(sqrt(3)*sqrt(\\mu_a)*(\\mu_a + \\mu_{sg})*(2*k + 3) + 6*\\mu_a*k*sqrt(\\mu_a + \\mu_{sg}) + 3*(\\mu_a + \\mu_{sg})**(3/2)) + 2*sqrt(\\mu_a)*(\\mu_a + \\mu_{sg})**4*(sqrt(3)*sqrt(\\mu_a)*(\\mu_a + \\mu_{sg})*(2*k + 3) + 6*\\mu_a*k*sqrt(\\mu_a + \\mu_{sg}) + 3*(\\mu_a + \\mu_{sg})**(3/2)) + \\mu_{sg}*(12*\\mu_a**(3/2)*k*(\\mu_a + \\mu_{sg})**(7/2) + sqrt(3)*\\mu_a*(\\mu_a + \\mu_{sg})**4*(2*k + 3)))/(2*sqrt(\\mu_a)*\\mu_{sg}*(\\mu_a + \\mu_{sg})**4*(sqrt(3)*sqrt(\\mu_a)*(\\mu_a + \\mu_{sg})*(2*k + 3) + 6*\\mu_a*k*sqrt(\\mu_a + \\mu_{sg}) + 3*(\\mu_a + \\mu_{sg})**(3/2)))"
      ]
     },
     "execution_count": 37,
     "metadata": {},
     "output_type": "execute_result"
    }
   ],
   "source": [
    "A.diff(musred).simplify()"
   ]
  },
  {
   "cell_type": "code",
   "execution_count": null,
   "metadata": {},
   "outputs": [],
   "source": []
  }
 ],
 "metadata": {
  "kernelspec": {
   "display_name": "nonlinear-fit",
   "language": "python",
   "name": "python3"
  },
  "language_info": {
   "codemirror_mode": {
    "name": "ipython",
    "version": 3
   },
   "file_extension": ".py",
   "mimetype": "text/x-python",
   "name": "python",
   "nbconvert_exporter": "python",
   "pygments_lexer": "ipython3",
   "version": "3.11.11"
  }
 },
 "nbformat": 4,
 "nbformat_minor": 2
}
