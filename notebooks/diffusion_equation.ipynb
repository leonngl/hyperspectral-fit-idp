{
 "cells": [
  {
   "cell_type": "code",
   "execution_count": null,
   "metadata": {},
   "outputs": [],
   "source": [
    "import os\n",
    "import sys\n",
    "from pathlib import Path\n",
    "sys.path.insert(1, str(Path(os.getcwd()).parent / \"src\"))"
   ]
  },
  {
   "cell_type": "code",
   "execution_count": null,
   "metadata": {},
   "outputs": [],
   "source": [
    "import data_loader\n",
    "from utils import *\n",
    "from mcs_function import *\n",
    "from mbll_functions import *\n",
    "from plotting import *\n",
    "import config\n",
    "import pickle\n",
    "from scipy.optimize import least_squares\n",
    "import pmcx\n",
    "import matplotlib.pyplot as plt\n",
    "from sympy import lambdify, symbols, dsolve, Function, exp, Eq, oo, limit, Add, Mul, solve, sqrt, log"
   ]
  },
  {
   "cell_type": "markdown",
   "metadata": {},
   "source": [
    "Compare the reflectance formula to Monte Carlo Simulations..."
   ]
  },
  {
   "cell_type": "code",
   "execution_count": null,
   "metadata": {},
   "outputs": [],
   "source": [
    "gray_matter_mcs_data = np.loadtxt(config.pl_dir / \"gray_matter_mcs.txt\")\n",
    "blood_vessel_mcs_data = np.loadtxt(config.pl_dir / \"blood_vessel_pure_mcs.txt\")"
   ]
  },
  {
   "cell_type": "code",
   "execution_count": null,
   "metadata": {},
   "outputs": [],
   "source": [
    "mcs_data = gray_matter_mcs_data"
   ]
  },
  {
   "cell_type": "code",
   "execution_count": null,
   "metadata": {},
   "outputs": [],
   "source": [
    "A_carp_vals = A_carp(mcs_data[:, 1], mcs_data[:, 2], 0.85, 1.36)\n",
    "A_patterson_vals = A_patterson(mcs_data[:, 1], mcs_data[:, 2] * (1-0.85), 1.36)"
   ]
  },
  {
   "cell_type": "code",
   "execution_count": null,
   "metadata": {},
   "outputs": [],
   "source": [
    "mu_a_matrix = data_loader.DataLoader.absorption_coefs(\n",
    "    mcs_data[:, 0],\n",
    "    use_diff_oxycco=False,\n",
    "    use_water_and_fat=True\n",
    ")\n",
    "\n",
    "c = data_loader.DataLoader.tissue_parameters[\"gray matter\"][0]\n",
    "mu_a_vals = mu_a_matrix @ c\n",
    "a, b = data_loader.DataLoader.tissue_parameters[\"gray matter\"][1]\n",
    "mu_s_red_vals = a * (mcs_data[:, 0] / 500) **(-b)\n"
   ]
  },
  {
   "cell_type": "code",
   "execution_count": null,
   "metadata": {},
   "outputs": [],
   "source": [
    "np.allclose(mu_a_vals / 10 - mcs_data[:, 1], 0)"
   ]
  },
  {
   "cell_type": "code",
   "execution_count": null,
   "metadata": {},
   "outputs": [],
   "source": [
    "np.allclose(mu_s_red_vals / (1-0.85) / 10 - mcs_data[:, 2], 0)"
   ]
  },
  {
   "cell_type": "code",
   "execution_count": null,
   "metadata": {},
   "outputs": [],
   "source": [
    "A_carp_vals_conc = A_carp_concentrations(\n",
    "    mcs_data[:, 0],\n",
    "    mu_a_matrix,\n",
    "    c, a, b, 0.85, 1.36\n",
    ")"
   ]
  },
  {
   "cell_type": "code",
   "execution_count": null,
   "metadata": {},
   "outputs": [],
   "source": [
    "np.allclose(A_carp_vals_conc[:, 0], A_carp_vals)"
   ]
  },
  {
   "cell_type": "code",
   "execution_count": null,
   "metadata": {},
   "outputs": [],
   "source": [
    "np.column_stack((mcs_data[:, 0], A_carp_vals))"
   ]
  },
  {
   "cell_type": "code",
   "execution_count": null,
   "metadata": {},
   "outputs": [],
   "source": [
    "mcs_data[13, 0]"
   ]
  },
  {
   "cell_type": "code",
   "execution_count": null,
   "metadata": {},
   "outputs": [],
   "source": [
    "plot_spectra((-np.log(mcs_data[:, 3]), A_patterson_vals, A_carp_vals), mcs_data[:, 0], labels=[\"MCX\", \"Patterson\", \"Carp\", \"Carp symbolic\"])"
   ]
  },
  {
   "cell_type": "markdown",
   "metadata": {},
   "source": [
    "Patterson formula slightly underestimates $A$, Carp's formula very precise."
   ]
  },
  {
   "cell_type": "code",
   "execution_count": null,
   "metadata": {},
   "outputs": [],
   "source": [
    "with open(config.m_params_path, \"rb\") as f:\n",
    "    jacques_m_params, _, _, _ = pickle.load(f)"
   ]
  },
  {
   "cell_type": "code",
   "execution_count": null,
   "metadata": {},
   "outputs": [],
   "source": [
    "A_jacques_vals = A_jacques_concentrations(mcs_data[:, 0], mu_a_matrix, c, a, b, *jacques_m_params[\"gray matter\"])"
   ]
  },
  {
   "cell_type": "markdown",
   "metadata": {},
   "source": [
    "# Sympy computations"
   ]
  },
  {
   "cell_type": "code",
   "execution_count": null,
   "metadata": {},
   "outputs": [],
   "source": [
    "mu_a, mu_s_red, g = symbols(\"mu_a mu_s_red g\", positive=True)\n",
    "k, z, d0 = symbols(r\"k z d_0\")"
   ]
  },
  {
   "cell_type": "markdown",
   "metadata": {},
   "source": [
    "## Patterson formula\n",
    "Check that the solution to the ODE provided by Patterson et. al (1989) gives the diffuse reflectance."
   ]
  },
  {
   "cell_type": "code",
   "execution_count": null,
   "metadata": {},
   "outputs": [],
   "source": [
    "theta = Function(r\"\\theta\")(z)\n",
    "thetap = theta.diff(z)\n",
    "thetapp = theta.diff(z, 2)"
   ]
  },
  {
   "cell_type": "code",
   "execution_count": null,
   "metadata": {},
   "outputs": [],
   "source": [
    "D = 1 / (3*(mu_a + mu_s_red))"
   ]
  },
  {
   "cell_type": "code",
   "execution_count": null,
   "metadata": {},
   "outputs": [],
   "source": [
    "eq = Eq(- D*thetapp + mu_a*theta, mu_s_red*exp(-(mu_a + mu_s_red)*z))"
   ]
  },
  {
   "cell_type": "code",
   "execution_count": null,
   "metadata": {},
   "outputs": [],
   "source": [
    "eq"
   ]
  },
  {
   "cell_type": "markdown",
   "metadata": {},
   "source": [
    "$d_0$ is a temporary variable that describes $\\frac{\\partial \\theta}{\\partial z} |_{z=0}$"
   ]
  },
  {
   "cell_type": "code",
   "execution_count": null,
   "metadata": {},
   "outputs": [],
   "source": [
    "ics={theta.subs(z, 0): 2*D*k*d0, thetap.subs(z, 0): d0}"
   ]
  },
  {
   "cell_type": "code",
   "execution_count": null,
   "metadata": {},
   "outputs": [],
   "source": [
    "res_theta = dsolve(eq, theta, ics=ics)"
   ]
  },
  {
   "cell_type": "markdown",
   "metadata": {},
   "source": [
    "The result is of the form $$\\theta(z) = a\\exp(k_1z) + b\\exp(k_2 z) + c\\exp(k_3 z)$$\n",
    "\n",
    "Proof:"
   ]
  },
  {
   "cell_type": "code",
   "execution_count": null,
   "metadata": {},
   "outputs": [],
   "source": [
    "res_theta.lhs"
   ]
  },
  {
   "cell_type": "code",
   "execution_count": null,
   "metadata": {},
   "outputs": [],
   "source": [
    "assert res_theta.rhs.func == Add\n",
    "for term in res_theta.rhs.args:\n",
    "    assert term.func == Mul\n",
    "    assert all(z not in constant.free_symbols for constant in term.args[:-1])\n",
    "    print(f\"{term.args[-1]}  ---> {limit(term.args[-1], z, oo, '+')}\")"
   ]
  },
  {
   "cell_type": "markdown",
   "metadata": {},
   "source": [
    "Result: Only the first term does not go to 0 for $z \\rightarrow 0$. To ensure that the entire term goes to zero, the first constant $a$ must be zero."
   ]
  },
  {
   "cell_type": "code",
   "execution_count": null,
   "metadata": {},
   "outputs": [],
   "source": [
    "a = Mul(*res_theta.rhs.args[0].args[:-1])\n",
    "assert z not in a.free_symbols"
   ]
  },
  {
   "cell_type": "code",
   "execution_count": null,
   "metadata": {},
   "outputs": [],
   "source": [
    "res_d0 = solve(Eq(a, 0), d0)"
   ]
  },
  {
   "cell_type": "code",
   "execution_count": null,
   "metadata": {},
   "outputs": [],
   "source": [
    "len(res_d0)"
   ]
  },
  {
   "cell_type": "markdown",
   "metadata": {},
   "source": [
    "With newly determined value for $\\frac{\\partial \\theta}{\\partial z} |_{z = 0}$, lets solve the ODE again."
   ]
  },
  {
   "cell_type": "code",
   "execution_count": null,
   "metadata": {},
   "outputs": [],
   "source": [
    "ics={theta.subs(z, 0): 2*D*k*res_d0[0], thetap.subs(z, 0): res_d0[0]}"
   ]
  },
  {
   "cell_type": "code",
   "execution_count": null,
   "metadata": {},
   "outputs": [],
   "source": [
    "res_theta2 = dsolve(eq, theta, ics=ics)"
   ]
  },
  {
   "cell_type": "markdown",
   "metadata": {},
   "source": [
    "Check that $\\theta(0)$ equals the expected formula for reflectance."
   ]
  },
  {
   "cell_type": "code",
   "execution_count": null,
   "metadata": {},
   "outputs": [],
   "source": [
    "albedo = mu_s_red / (mu_a + mu_s_red)"
   ]
  },
  {
   "cell_type": "code",
   "execution_count": null,
   "metadata": {},
   "outputs": [],
   "source": [
    "R_patterson_formula = albedo / (1 + 2*k * (1-albedo) + (1 + 2*k/3) * sqrt(3 * (1 - albedo)))"
   ]
  },
  {
   "cell_type": "code",
   "execution_count": null,
   "metadata": {},
   "outputs": [],
   "source": [
    "R_computed_formula = res_theta2.rhs.subs(z, 0) / (2 * k)"
   ]
  },
  {
   "cell_type": "code",
   "execution_count": null,
   "metadata": {},
   "outputs": [],
   "source": [
    "(R_computed_formula - R_patterson_formula).simplify() == 0"
   ]
  },
  {
   "cell_type": "markdown",
   "metadata": {},
   "source": [
    "## Compute the derivatives of $A=\\log(R)$"
   ]
  },
  {
   "cell_type": "code",
   "execution_count": null,
   "metadata": {},
   "outputs": [],
   "source": [
    "A_patterson_formula = -log(R_patterson_formula)"
   ]
  },
  {
   "cell_type": "code",
   "execution_count": null,
   "metadata": {},
   "outputs": [],
   "source": [
    "f = g*g\n",
    "g_star = g/(1+g)\n",
    "mu_s = mu_s_red / (1-g)\n",
    "mu_s_star = mu_s * (1-f)\n",
    "mu_t_star = mu_a + mu_s_star\n",
    "mu_tr = (mu_a + mu_s * (1-g))\n",
    "mu_eff = sqrt(3 * mu_a * mu_tr)\n",
    "h = 2 / (3 * mu_tr)\n",
    "alpha = 3*mu_s_star*(mu_t_star + g_star *mu_a) / (mu_eff ** 2 - mu_t_star**2)\n",
    "# NOTE: Carp calls k \"A\", I use \"k\" to stay consistent with Patterson\n",
    "# Carp provides a different, and more accurate way to calculate k\n",
    "beta = (-alpha * (1+k*h*mu_t_star) - 3*k*h*g_star*mu_s_star) / (1 + k*h*mu_eff)\n",
    "R_carp = (alpha + beta) / (2 * k)\n",
    "A_carp_formula = -log(R_carp)\n"
   ]
  },
  {
   "cell_type": "markdown",
   "metadata": {},
   "source": [
    "Verify both formulas"
   ]
  },
  {
   "cell_type": "code",
   "execution_count": null,
   "metadata": {},
   "outputs": [],
   "source": [
    "A_carp_symbolic = lambdify((mu_a, mu_s_red, g, k), A_carp_formula)\n",
    "def A_carp_symbolic_wrapper(mu_a, mu_s_red, g, n):\n",
    "    k = -0.13755 * (n**3) + 4.3390 * (n**2) - 4.90466 * n + 1.6896\n",
    "    return A_carp_symbolic(mu_a, mu_s_red, g, k)\n",
    "\n",
    "A_carp_symbolic_vals = A_carp_symbolic_wrapper(mcs_data[:, 1], mcs_data[:, 2] * (1-0.85), 0.85, 1.36)"
   ]
  },
  {
   "cell_type": "code",
   "execution_count": null,
   "metadata": {},
   "outputs": [],
   "source": [
    "A_patterson_symbolic = lambdify((mu_a, mu_s_red, k), A_patterson_formula)\n",
    "def A_patterson_symbolic_wrapper(mu_a, mu_s_red, n):\n",
    "    # patterson uses different, and (for far-field) less accurate way to calculate k\n",
    "    # to stay consistent with reference, I use it anyway\n",
    "    rd = -1.44 * np.power(n, -2) * 0.71 / n + 0.668 + 0.0636 * n\n",
    "    k = (1 + rd) / (1 - rd)\n",
    "    return A_patterson_symbolic(mu_a, mu_s_red, k)\n",
    "\n",
    "A_patterson_symbolic_vals = A_patterson_symbolic_wrapper(mcs_data[:, 1], mcs_data[:, 2] * (1-0.85), 1.36)\n"
   ]
  },
  {
   "cell_type": "code",
   "execution_count": null,
   "metadata": {},
   "outputs": [],
   "source": [
    "print(np.allclose(A_patterson_vals, A_patterson_symbolic_vals))\n",
    "print(np.allclose(A_carp_vals, A_carp_symbolic_vals))\n"
   ]
  },
  {
   "cell_type": "code",
   "execution_count": null,
   "metadata": {},
   "outputs": [],
   "source": [
    "plot_spectra((A_patterson_symbolic_vals, A_carp_symbolic_vals, A_patterson_vals, A_carp_vals), mcs_data[:, 0], labels=[\"Patterson, symbolic\", \"Carp, symbolic\", \"Patterson\", \"Carp\"])"
   ]
  },
  {
   "cell_type": "markdown",
   "metadata": {},
   "source": [
    "Derivative to $\\mu_a$, i.e. the pathlength:"
   ]
  },
  {
   "cell_type": "code",
   "execution_count": null,
   "metadata": {},
   "outputs": [],
   "source": [
    "A_patterson_formula.diff(mu_a).simplify()"
   ]
  },
  {
   "cell_type": "code",
   "execution_count": null,
   "metadata": {},
   "outputs": [],
   "source": [
    "A_patterson_formula.diff(mu_s_red).simplify()"
   ]
  },
  {
   "cell_type": "code",
   "execution_count": null,
   "metadata": {},
   "outputs": [],
   "source": [
    "A_carp_formula.diff(mu_a)\n",
    "# A_carp_formula.diff(mu_a).simplify() # does not terminate"
   ]
  },
  {
   "cell_type": "code",
   "execution_count": null,
   "metadata": {},
   "outputs": [],
   "source": [
    "A_carp_formula.diff(mu_s_red)"
   ]
  },
  {
   "cell_type": "markdown",
   "metadata": {},
   "source": [
    "Save all derivatives as pickle objects"
   ]
  },
  {
   "cell_type": "code",
   "execution_count": null,
   "metadata": {},
   "outputs": [],
   "source": [
    "with open(config.diffusion_derivative_dir / \"carp.pickle\", \"wb\") as f:\n",
    "    pickle.dump((A_carp_formula.diff(mu_a), A_carp_formula.diff(mu_s_red)), f)"
   ]
  },
  {
   "cell_type": "code",
   "execution_count": null,
   "metadata": {},
   "outputs": [],
   "source": [
    "with open(config.diffusion_derivative_dir / \"patterson.pickle\", \"wb\") as f:\n",
    "    pickle.dump((A_patterson_formula.diff(mu_a), A_patterson_formula.diff(mu_s_red)), f)"
   ]
  },
  {
   "cell_type": "code",
   "execution_count": null,
   "metadata": {},
   "outputs": [],
   "source": [
    "with open(config.diffusion_derivative_dir / \"carp_test.pickle\", \"wb\") as f:\n",
    "    pickle.dump(A_carp_formula, f)"
   ]
  },
  {
   "cell_type": "code",
   "execution_count": null,
   "metadata": {},
   "outputs": [],
   "source": [
    "with open(config.diffusion_derivative_dir / \"carp_test.pickle\", \"rb\") as f:\n",
    "    A_carp_formula = pickle.load(f)"
   ]
  },
  {
   "cell_type": "markdown",
   "metadata": {},
   "source": [
    "Pathlength from Jacques"
   ]
  },
  {
   "cell_type": "code",
   "execution_count": null,
   "metadata": {},
   "outputs": [],
   "source": [
    "m1, m2, m3 = symbols(\"m1 m2 m3\")"
   ]
  },
  {
   "cell_type": "code",
   "execution_count": null,
   "metadata": {},
   "outputs": [],
   "source": [
    "A_jacques_formula = (m1 + m2*exp(log(mu_s_red/mu_a)/m3))*(1/sqrt(3*mu_a*(mu_a+mu_s_red)))*mu_a"
   ]
  },
  {
   "cell_type": "code",
   "execution_count": null,
   "metadata": {},
   "outputs": [],
   "source": [
    "A_jacques_symbolic = lambdify((mu_a, mu_s_red, m1, m2, m3), A_jacques_formula)\n",
    "A_jacques_symbolic_vals = A_jacques_symbolic(mcs_data[:, 1], mcs_data[:, 2] * (1-0.85), *jacques_m_params[\"gray matter\"])\n"
   ]
  },
  {
   "cell_type": "code",
   "execution_count": null,
   "metadata": {},
   "outputs": [],
   "source": [
    "np.allclose(A_jacques_symbolic_vals, A_jacques_vals[:, 0])"
   ]
  },
  {
   "cell_type": "code",
   "execution_count": null,
   "metadata": {},
   "outputs": [],
   "source": [
    "A_jacques_formula.diff(mu_a).simplify()"
   ]
  },
  {
   "cell_type": "code",
   "execution_count": null,
   "metadata": {},
   "outputs": [],
   "source": [
    "A_jacques_formula.diff(mu_s_red).simplify()"
   ]
  },
  {
   "cell_type": "code",
   "execution_count": null,
   "metadata": {},
   "outputs": [],
   "source": [
    "with open(config.diffusion_derivative_dir / \"jacques.pickle\", \"wb\") as f:\n",
    "    pickle.dump((A_jacques_formula.diff(mu_a), A_jacques_formula.diff(mu_s_red)), f)"
   ]
  },
  {
   "cell_type": "code",
   "execution_count": null,
   "metadata": {},
   "outputs": [],
   "source": []
  }
 ],
 "metadata": {
  "kernelspec": {
   "display_name": "nonlinear-fit",
   "language": "python",
   "name": "python3"
  },
  "language_info": {
   "codemirror_mode": {
    "name": "ipython",
    "version": 3
   },
   "file_extension": ".py",
   "mimetype": "text/x-python",
   "name": "python",
   "nbconvert_exporter": "python",
   "pygments_lexer": "ipython3",
   "version": "3.11.11"
  }
 },
 "nbformat": 4,
 "nbformat_minor": 2
}
