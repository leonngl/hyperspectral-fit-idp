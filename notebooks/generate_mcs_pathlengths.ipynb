{
 "cells": [
  {
   "cell_type": "code",
   "execution_count": 1,
   "metadata": {},
   "outputs": [],
   "source": [
    "%load_ext autoreload\n",
    "%autoreload 2\n",
    "#%matplotlib qt"
   ]
  },
  {
   "cell_type": "code",
   "execution_count": 2,
   "metadata": {},
   "outputs": [],
   "source": [
    "import os\n",
    "import sys\n",
    "from pathlib import Path\n",
    "sys.path.insert(1, str(Path(os.getcwd()).parent / \"src\"))"
   ]
  },
  {
   "cell_type": "code",
   "execution_count": 3,
   "metadata": {},
   "outputs": [],
   "source": [
    "import numpy as np\n",
    "import pmcx\n",
    "from matplotlib import pyplot as plt\n",
    "import os\n",
    "import io\n",
    "from pathlib import Path\n",
    "import data_loader\n",
    "from scipy import interpolate\n",
    "from tqdm import tqdm\n",
    "import config"
   ]
  },
  {
   "cell_type": "code",
   "execution_count": 4,
   "metadata": {},
   "outputs": [
    {
     "name": "stdout",
     "output_type": "stream",
     "text": [
      "=============================   GPU Information  ================================\n",
      "Device 1 of 1:\t\tNVIDIA GeForce GTX 1050\n",
      "Compute Capability:\t6.1\n",
      "Global Memory:\t\t4229824512 B\n",
      "Constant Memory:\t65536 B\n",
      "Shared Memory:\t\t49152 B\n",
      "Registers:\t\t65536\n",
      "Clock Speed:\t\t1.49 GHz\n",
      "Number of SMs:\t\t5\n",
      "Number of Cores:\t640\n",
      "Auto-thread:\t\t10240\n",
      "Auto-block:\t\t64\n"
     ]
    },
    {
     "data": {
      "text/plain": [
       "[{'name': 'NVIDIA GeForce GTX 1050',\n",
       "  'id': 1,\n",
       "  'devcount': 1,\n",
       "  'major': 6,\n",
       "  'minor': 1,\n",
       "  'globalmem': 4229824512,\n",
       "  'constmem': 65536,\n",
       "  'sharedmem': 49152,\n",
       "  'regcount': 65536,\n",
       "  'clock': 1493000,\n",
       "  'sm': 5,\n",
       "  'core': 640,\n",
       "  'autoblock': 64,\n",
       "  'autothread': 10240,\n",
       "  'maxgate': 0}]"
      ]
     },
     "execution_count": 4,
     "metadata": {},
     "output_type": "execute_result"
    }
   ],
   "source": [
    "pmcx.gpuinfo()"
   ]
  },
  {
   "cell_type": "code",
   "execution_count": 5,
   "metadata": {},
   "outputs": [
    {
     "data": {
      "text/plain": [
       "1"
      ]
     },
     "execution_count": 5,
     "metadata": {},
     "output_type": "execute_result"
    }
   ],
   "source": [
    "config.gpuid"
   ]
  },
  {
   "cell_type": "code",
   "execution_count": 6,
   "metadata": {},
   "outputs": [
    {
     "data": {
      "text/plain": [
       "PosixPath('/media/leon/T7/IDP/dataset/HELICoiD/HSI_Human_Brain_Database_IEEE_Access')"
      ]
     },
     "execution_count": 6,
     "metadata": {},
     "output_type": "execute_result"
    }
   ],
   "source": [
    "config.dataset_dir"
   ]
  },
  {
   "cell_type": "code",
   "execution_count": 7,
   "metadata": {},
   "outputs": [
    {
     "data": {
      "text/plain": [
       "PosixPath('/media/leon/Storage/Studium/Informatik/Master/3.Semester/IDP/nonlinear-fit/dataset/mc_pl_simulations')"
      ]
     },
     "execution_count": 7,
     "metadata": {},
     "output_type": "execute_result"
    }
   ],
   "source": [
    "config.pl_dir"
   ]
  },
  {
   "cell_type": "code",
   "execution_count": 8,
   "metadata": {},
   "outputs": [
    {
     "name": "stdout",
     "output_type": "stream",
     "text": [
      "[450 460 470 480 490 500 510 520 530 540 550 560 570 580 590 600 610 620\n",
      " 630 640 650 660 670 680 690 700 710 720 730 740 750 760 770 780 790 800\n",
      " 810 820 830 840 850 860 870 880 890 900 910 920 930 940 950]\n"
     ]
    }
   ],
   "source": [
    "sample_wavelengths = np.arange(450, 960, 10)\n",
    "dense_wavelengths = np.arange(sample_wavelengths[0], sample_wavelengths[-1] + 1)\n",
    "print(sample_wavelengths)"
   ]
  },
  {
   "cell_type": "markdown",
   "metadata": {},
   "source": [
    "### Compute pathlength for gray matter"
   ]
  },
  {
   "cell_type": "code",
   "execution_count": null,
   "metadata": {},
   "outputs": [],
   "source": [
    "g_gm = 0.85\n",
    "refractive_idx_gm = 1.36\n",
    "mu_a_vals_gm = data_loader.DataLoader.mu_a_func_gray_matter(sample_wavelengths) / 10\n",
    "mu_s_vals_gm = data_loader.DataLoader.mu_s_red_func_gray_matter(sample_wavelengths) / 10 / (1-g_gm)"
   ]
  },
  {
   "cell_type": "code",
   "execution_count": 9,
   "metadata": {},
   "outputs": [
    {
     "ename": "NameError",
     "evalue": "name 'g_gm' is not defined",
     "output_type": "error",
     "traceback": [
      "\u001b[0;31m---------------------------------------------------------------------------\u001b[0m",
      "\u001b[0;31mNameError\u001b[0m                                 Traceback (most recent call last)",
      "Cell \u001b[0;32mIn[9], line 1\u001b[0m\n\u001b[0;32m----> 1\u001b[0m prop \u001b[38;5;241m=\u001b[39m np\u001b[38;5;241m.\u001b[39marray([[\u001b[38;5;241m0\u001b[39m,\u001b[38;5;241m0\u001b[39m,\u001b[38;5;241m1\u001b[39m,\u001b[38;5;241m1\u001b[39m],[\u001b[38;5;241m0\u001b[39m,\u001b[38;5;241m0\u001b[39m,g_gm,refractive_idx_gm]])\n\u001b[1;32m      2\u001b[0m vol \u001b[38;5;241m=\u001b[39m np\u001b[38;5;241m.\u001b[39mones((\u001b[38;5;241m100\u001b[39m, \u001b[38;5;241m100\u001b[39m, \u001b[38;5;241m120\u001b[39m), dtype\u001b[38;5;241m=\u001b[39m\u001b[38;5;124m\"\u001b[39m\u001b[38;5;124muint8\u001b[39m\u001b[38;5;124m\"\u001b[39m)\n\u001b[1;32m      4\u001b[0m cfg \u001b[38;5;241m=\u001b[39m {\n\u001b[1;32m      5\u001b[0m     \u001b[38;5;124m\"\u001b[39m\u001b[38;5;124mnphoton\u001b[39m\u001b[38;5;124m\"\u001b[39m: \u001b[38;5;241m1e7\u001b[39m,\n\u001b[1;32m      6\u001b[0m     \u001b[38;5;124m\"\u001b[39m\u001b[38;5;124mmaxdetphoton\u001b[39m\u001b[38;5;124m\"\u001b[39m: \u001b[38;5;241m1e7\u001b[39m,\n\u001b[0;32m   (...)\u001b[0m\n\u001b[1;32m     23\u001b[0m     \u001b[38;5;124m\"\u001b[39m\u001b[38;5;124mflog\u001b[39m\u001b[38;5;124m\"\u001b[39m: \u001b[38;5;28mstr\u001b[39m(config\u001b[38;5;241m.\u001b[39mpl_dir) \u001b[38;5;241m+\u001b[39m \u001b[38;5;124m\"\u001b[39m\u001b[38;5;124m/log.txt\u001b[39m\u001b[38;5;124m\"\u001b[39m\n\u001b[1;32m     24\u001b[0m }\n",
      "\u001b[0;31mNameError\u001b[0m: name 'g_gm' is not defined"
     ]
    }
   ],
   "source": [
    "prop = np.array([[0,0,1,1],[0,0,g_gm,refractive_idx_gm]])\n",
    "vol = np.ones((100, 100, 120), dtype=\"uint8\")\n",
    "\n",
    "cfg = {\n",
    "    \"nphoton\": 1e7,\n",
    "    \"maxdetphoton\": 1e7,\n",
    "    \"vol\": vol,\n",
    "    \"tstart\":0,\n",
    "    \"tend\":5e-7,\n",
    "    \"tstep\":5e-7,\n",
    "    \"autopilot\": 1,\n",
    "    \"gpuid\": 5,#config.gpuid,\n",
    "    \"prop\": prop,\n",
    "    \"bc\": \"ccrcca001000\",\n",
    "    \"isspecular\": 1, # should not have effect without 0-voxels\n",
    "    \"srcdir\": [0,0,1],\n",
    "    \"srctype\": \"planar\",\n",
    "    \"srcpos\": [0, 0, 0],\n",
    "    \"srcparam1\": [vol.shape[0], 0, 0, 0], # 3D position of vertex, fourth coordinate is irrelevant\n",
    "    \"srcparam2\": [0, vol.shape[1], 0, 0],\n",
    "    \"issrcfrom0\": 1,\n",
    "    \"savedetflag\": \"dsp\",\n",
    "    \"flog\": str(config.pl_dir) + \"/log.txt\"\n",
    "}\n",
    "\n",
    "#one layer of air\n",
    "#cfg[\"vol\"][:, :, 0] = 0"
   ]
  },
  {
   "cell_type": "code",
   "execution_count": null,
   "metadata": {
    "scrolled": true
   },
   "outputs": [],
   "source": [
    "# empty log file\n",
    "open(config.pl_dir / \"log.txt\", \"w\").close()\n",
    "header_sim = \"wavelength mu_a mu_s diffuse-reflectance pathlength meanscat\"\n",
    "# empty PL file and write header\n",
    "with open(config.pl_dir / \"gray_matter_mcs.txt\", \"w\") as f:\n",
    "    f.write(\"# \" + header_sim + \"\\n\")\n",
    "\n",
    "data_gray_matter_mcs = np.empty((len(sample_wavelengths), 6), dtype=\"float\") # per wavelength: wavelength, mu_a, mu_s (1/mm), diffuse reflectance, pathlength (mm)\n",
    "\n",
    "for i, (wl, mu_a, mu_s) in enumerate(zip(sample_wavelengths, mu_a_vals_gm, mu_s_vals_gm)):\n",
    "    print(f\"Simulating for {wl}nm...\")\n",
    "    cfg[\"prop\"] = np.array([\n",
    "        [0, 0, 1, 1],\n",
    "        [mu_a, mu_s, g_gm, refractive_idx_gm],\n",
    "    ])\n",
    "\n",
    "    res = pmcx.mcxlab(cfg)\n",
    "\n",
    "    if \"detp\" in res:\n",
    "        detw = pmcx.utils.detweight(res[\"detp\"])\n",
    "        dref = np.sum(detw) / cfg[\"nphoton\"]\n",
    "        pl = pmcx.utils.meanpath(res[\"detp\"])[0]\n",
    "        scat = pmcx.utils.meanscat(res[\"detp\"], cfg[\"prop\"])\n",
    "    else:\n",
    "        dref, pl, scat = 0, np.nan, np.nan\n",
    "        print(f\"No detected photons for {wl}nm!\\n prop values: {cfg['prop'][1]}\")\n",
    "        \n",
    "    data_gray_matter_mcs[i, :] = np.array([wl, mu_a, mu_s, dref, pl, scat])\n",
    "\n",
    "    with open(config.pl_dir / \"gray_matter_mcs.txt\", \"ab\") as f:\n",
    "        np.savetxt(f, data_gray_matter_mcs[[i]])\n"
   ]
  },
  {
   "cell_type": "markdown",
   "metadata": {},
   "source": [
    "Interpolate"
   ]
  },
  {
   "cell_type": "code",
   "execution_count": null,
   "metadata": {},
   "outputs": [],
   "source": [
    "assert(np.all(np.diff(dense_wavelengths) > 0))\n",
    "pl_gm_interpolated_linear = np.interp(dense_wavelengths, sample_wavelengths, data_gray_matter_mcs[:, 4])\n",
    "pl_gm_spline_coefs = interpolate.splrep(sample_wavelengths, data_gray_matter_mcs[:, 4])\n",
    "pl_gm_interpolated_spline = interpolate.splev(dense_wavelengths, pl_gm_spline_coefs)"
   ]
  },
  {
   "cell_type": "markdown",
   "metadata": {},
   "source": [
    "Sava data to file"
   ]
  },
  {
   "cell_type": "code",
   "execution_count": null,
   "metadata": {},
   "outputs": [],
   "source": [
    "header_interpolations = \"wavelength pathlength\"\n",
    "\n",
    "np.savetxt(\n",
    "    config.pl_dir / \"gray_matter_pl_interpolated_linear.txt\",\n",
    "    np.row_stack((dense_wavelengths, pl_gm_interpolated_linear)).T,\n",
    "    header=header_interpolations\n",
    ")\n",
    "\n",
    "np.savetxt(\n",
    "    config.pl_dir / \"gray_matter_pl_interpolated_spline.txt\",\n",
    "    np.row_stack((dense_wavelengths, pl_gm_interpolated_spline)).T,\n",
    "    header=header_interpolations\n",
    ")"
   ]
  },
  {
   "cell_type": "markdown",
   "metadata": {},
   "source": [
    "Plot pathlength"
   ]
  },
  {
   "cell_type": "code",
   "execution_count": null,
   "metadata": {},
   "outputs": [],
   "source": [
    "# Optional load values from file\n",
    "data_gray_matter_mcs = np.loadtxt(config.pl_dir / \"gray_matter_mcs.txt\")\n",
    "pl_gm_interpolated_linear = np.loadtxt(config.pl_dir / \"gray_matter_pl_interpolated_linear.txt\")[:, 1]\n",
    "pl_gm_interpolated_spline = np.loadtxt(config.pl_dir / \"gray_matter_pl_interpolated_spline.txt\")[:, 1]"
   ]
  },
  {
   "cell_type": "code",
   "execution_count": null,
   "metadata": {},
   "outputs": [],
   "source": [
    "plt.scatter(sample_wavelengths, data_gray_matter_mcs[:, -2])\n",
    "plt.plot(dense_wavelengths, pl_gm_interpolated_linear)\n",
    "plt.plot(dense_wavelengths, pl_gm_interpolated_spline)"
   ]
  },
  {
   "cell_type": "markdown",
   "metadata": {},
   "source": [
    "### Compute pathlength for blood vessels"
   ]
  },
  {
   "cell_type": "markdown",
   "metadata": {},
   "source": [
    "#### Compute pathlength for pure blood as tissue type"
   ]
  },
  {
   "cell_type": "code",
   "execution_count": null,
   "metadata": {},
   "outputs": [],
   "source": [
    "g_bv = 0.935\n",
    "refractive_idx_bv = 1.4\n",
    "mu_s_vals_bv = data_loader.DataLoader.mu_s_red_func_blood_vessel(sample_wavelengths) / 10 / (1-g_bv)\n",
    "mu_a_vals_bv = data_loader.DataLoader.mu_a_func_blood_vessel(sample_wavelengths) / 10"
   ]
  },
  {
   "cell_type": "markdown",
   "metadata": {},
   "source": [
    "Config can stay the same..."
   ]
  },
  {
   "cell_type": "code",
   "execution_count": null,
   "metadata": {
    "scrolled": true
   },
   "outputs": [],
   "source": [
    "# empty log file\n",
    "open(config.pl_dir / \"log.txt\", \"w\").close()\n",
    "header_sim = \"wavelength mu_a mu_s diffuse-reflectance pathlength meanscat\"\n",
    "# empty PL file and write header\n",
    "with open(config.pl_dir / \"blood_vessel_pure_mcs.txt\", \"w\") as f:\n",
    "    f.write(\"# \" + header_sim + \"\\n\")\n",
    "\n",
    "data_blood_vessel_pure_mcs = np.empty((len(sample_wavelengths), 6), dtype=\"float\") # per wavelength: wavelength, mu_a, mu_s (1/mm), diffuse reflectance, pathlength (mm)\n",
    "\n",
    "for i, (wl, mu_a, mu_s) in enumerate(zip(sample_wavelengths, mu_a_vals_bv, mu_s_vals_bv)):\n",
    "    print(f\"Simulating for {wl}nm...\")\n",
    "    cfg[\"prop\"] = np.array([\n",
    "        [0, 0, 1, 1],\n",
    "        [mu_a, mu_s, g_bv, refractive_idx_bv],\n",
    "    ])\n",
    "\n",
    "    res = pmcx.mcxlab(cfg)\n",
    "\n",
    "    if \"detp\" in res:\n",
    "        detw = pmcx.utils.detweight(res[\"detp\"])\n",
    "        dref = np.sum(detw) / cfg[\"nphoton\"]\n",
    "        pl = pmcx.utils.meanpath(res[\"detp\"])[0]\n",
    "        scat = pmcx.utils.meanscat(res[\"detp\"], cfg[\"prop\"])\n",
    "    else:\n",
    "        dref, pl, scat = 0, np.nan, np.nan\n",
    "        print(f\"No detected photons for {wl}nm!\\n prop values: {cfg['prop'][1]}\")\n",
    "        \n",
    "    data_blood_vessel_pure_mcs[i, :] = np.array([wl, mu_a, mu_s, dref, pl, scat])\n",
    "\n",
    "    with open(config.pl_dir / \"blood_vessel_pure_mcs.txt\", \"ab\") as f:\n",
    "        np.savetxt(f, data_blood_vessel_pure_mcs[[i]])\n"
   ]
  },
  {
   "cell_type": "markdown",
   "metadata": {},
   "source": [
    "Interpolate"
   ]
  },
  {
   "cell_type": "code",
   "execution_count": null,
   "metadata": {},
   "outputs": [],
   "source": [
    "assert(np.all(np.diff(dense_wavelengths) > 0))\n",
    "pl_bv_pure_interpolated_linear = np.interp(dense_wavelengths, sample_wavelengths, data_blood_vessel_pure_mcs[:, -2])\n",
    "pl_bv_pure_spline_coefs = interpolate.splrep(sample_wavelengths, data_blood_vessel_pure_mcs[:, -2])\n",
    "pl_bv_pure_interpolated_spline = interpolate.splev(dense_wavelengths, pl_bv_pure_spline_coefs)"
   ]
  },
  {
   "cell_type": "markdown",
   "metadata": {},
   "source": [
    "Save data to file"
   ]
  },
  {
   "cell_type": "code",
   "execution_count": null,
   "metadata": {},
   "outputs": [],
   "source": [
    "header_interpolations = \"wavelength pathlength\"\n",
    "\n",
    "np.savetxt(\n",
    "    config.pl_dir / \"blood_vessel_pure_pl_interpolated_linear.txt\",\n",
    "    np.row_stack((dense_wavelengths, pl_bv_pure_interpolated_linear)).T,\n",
    "    header=header_interpolations\n",
    ")\n",
    "\n",
    "np.savetxt(\n",
    "    config.pl_dir / \"blood_vessel_pure_pl_interpolated_spline.txt\",\n",
    "    np.row_stack((dense_wavelengths, pl_bv_pure_interpolated_spline)).T,\n",
    "    header=header_interpolations\n",
    ")"
   ]
  },
  {
   "cell_type": "markdown",
   "metadata": {},
   "source": [
    "Plot pathlenghts"
   ]
  },
  {
   "cell_type": "code",
   "execution_count": null,
   "metadata": {},
   "outputs": [],
   "source": [
    "# Optional load values from file\n",
    "data_blood_vessel_pure_mcs = np.loadtxt(config.pl_dir / \"blood_vessel_pure_mcs.txt\")\n",
    "pl_bv_pure_interpolated_linear = np.loadtxt(config.pl_dir / \"blood_vessel_pure_pl_interpolated_linear.txt\")[:, 1]\n",
    "pl_bv_pure_interpolated_spline = np.loadtxt(config.pl_dir / \"blood_vessel_pure_pl_interpolated_spline.txt\")[:, 1]"
   ]
  },
  {
   "cell_type": "code",
   "execution_count": null,
   "metadata": {},
   "outputs": [],
   "source": [
    "plt.scatter(sample_wavelengths, data_blood_vessel_pure_mcs[:, -2])\n",
    "plt.plot(dense_wavelengths, pl_bv_pure_interpolated_linear)\n",
    "plt.plot(dense_wavelengths, pl_bv_pure_interpolated_spline)\n",
    "plt.plot(dense_wavelengths, pl_gm_interpolated_linear)"
   ]
  },
  {
   "cell_type": "markdown",
   "metadata": {},
   "source": [
    "#### Compute pathlength for tumor tissue"
   ]
  },
  {
   "cell_type": "code",
   "execution_count": 9,
   "metadata": {},
   "outputs": [],
   "source": [
    "g_t = data_loader.DataLoader.tissue_parameters[\"tumor\"][2]\n",
    "refractive_idx_t = data_loader.DataLoader.tissue_parameters[\"tumor\"][3]\n",
    "mu_s_vals_t = data_loader.DataLoader.mu_s_red_func_tissue(sample_wavelengths, \"tumor\") / 10 / (1-g_t)\n",
    "mu_a_vals_t = data_loader.DataLoader.mu_a_func_tissue(sample_wavelengths, \"tumor\") / 10"
   ]
  },
  {
   "cell_type": "code",
   "execution_count": null,
   "metadata": {},
   "outputs": [],
   "source": [
    "# empty log file\n",
    "open(config.pl_dir / \"log.txt\", \"w\").close()\n",
    "header_sim = \"wavelength mu_a mu_s diffuse-reflectance pathlength meanscat\"\n",
    "# empty PL file and write header\n",
    "with open(config.pl_dir / \"tumor_mcs.txt\", \"w\") as f:\n",
    "    f.write(\"# \" + header_sim + \"\\n\")\n",
    "\n",
    "tumor_mcs = np.empty((len(sample_wavelengths), 6), dtype=\"float\") # per wavelength: wavelength, mu_a, mu_s (1/mm), diffuse reflectance, pathlength (mm)\n",
    "\n",
    "for i, (wl, mu_a, mu_s) in enumerate(zip(sample_wavelengths, mu_a_vals_t, mu_s_vals_t)):\n",
    "    print(f\"Simulating for {wl}nm...\")\n",
    "    cfg[\"prop\"] = np.array([\n",
    "        [0, 0, 1, 1],\n",
    "        [mu_a, mu_s, g_t, refractive_idx_t],\n",
    "    ])\n",
    "\n",
    "    res = pmcx.mcxlab(cfg)\n",
    "\n",
    "    if \"detp\" in res:\n",
    "        detw = pmcx.utils.detweight(res[\"detp\"])\n",
    "        dref = np.sum(detw) / cfg[\"nphoton\"]\n",
    "        pl = pmcx.utils.meanpath(res[\"detp\"])[0]\n",
    "        scat = pmcx.utils.meanscat(res[\"detp\"], cfg[\"prop\"])\n",
    "    else:\n",
    "        dref, pl, scat = 0, np.nan, np.nan\n",
    "        print(f\"No detected photons for {wl}nm!\\n prop values: {cfg['prop'][1]}\")\n",
    "        \n",
    "    tumor_mcs[i, :] = np.array([wl, mu_a, mu_s, dref, pl, scat])\n",
    "\n",
    "    with open(config.pl_dir / \"tumor_mcs.txt\", \"ab\") as f:\n",
    "        np.savetxt(f, tumor_mcs[[i]])\n"
   ]
  },
  {
   "cell_type": "code",
   "execution_count": 10,
   "metadata": {},
   "outputs": [],
   "source": [
    "gray_matter_mcs_pathlength_data = np.loadtxt(config.pl_dir / \"gray_matter_mcs.txt\")\n",
    "blood_vessel_mcs_pathlength_data = np.loadtxt(config.pl_dir / \"blood_vessel_pure_mcs.txt\")\n",
    "tumor_mcs_pathlength_data = np.loadtxt(config.pl_dir / \"tumor_mcs.txt\")"
   ]
  },
  {
   "cell_type": "code",
   "execution_count": 12,
   "metadata": {},
   "outputs": [
    {
     "data": {
      "text/plain": [
       "<matplotlib.legend.Legend at 0x7d566be4b7d0>"
      ]
     },
     "execution_count": 12,
     "metadata": {},
     "output_type": "execute_result"
    },
    {
     "data": {
      "image/png": "[encoded data removed]",
      "text/plain": [
       "<Figure size 640x480 with 1 Axes>"
      ]
     },
     "metadata": {},
     "output_type": "display_data"
    }
   ],
   "source": [
    "plt.plot(gray_matter_mcs_pathlength_data[:, 0], -np.log(gray_matter_mcs_pathlength_data[:, -3]), label=\"GM\")\n",
    "plt.plot(blood_vessel_mcs_pathlength_data[:, 0], -np.log(blood_vessel_mcs_pathlength_data[:, -3]), label=\"BV\")\n",
    "plt.plot(tumor_mcs_pathlength_data[:, 0], -np.log(tumor_mcs_pathlength_data[:, -3]), label=\"T\")\n",
    "plt.legend()"
   ]
  },
  {
   "cell_type": "code",
   "execution_count": null,
   "metadata": {},
   "outputs": [],
   "source": [
    "bv_thickness = 0.1 #[mm], = voxel size\n",
    "tissue_depth = 120 #[mm]\n",
    "tissue_width = 100 #[mm]"
   ]
  },
  {
   "cell_type": "code",
   "execution_count": null,
   "metadata": {},
   "outputs": [],
   "source": [
    "n_voxels_width = int(tissue_width / bv_thickness)\n",
    "n_voxels_depth = int(tissue_depth / bv_thickness)\n",
    "print(f\"Simulating with {n_voxels_width}^2 x {n_voxels_depth} = {n_voxels_depth * (n_voxels_width**2)} voxels.\")\n",
    "\n",
    "prop = np.array([[0,0,1,1],[0,0,g_gm,refractive_idx_gm],[0,0,g_bv,refractive_idx_bv]])\n",
    "vol = np.ones((n_voxels_width, n_voxels_width, n_voxels_depth), dtype=\"uint8\")\n",
    "\n",
    "cfg = {\n",
    "    \"nphoton\": 5e7, # higher spatial resolution needs more photons for same noise level\n",
    "    \"maxdetphoton\": 5e7,\n",
    "    \"vol\": vol,\n",
    "    \"tstart\":0,\n",
    "    \"tend\":1e-8,\n",
    "    \"tstep\":1e-8,\n",
    "    \"autopilot\": 1,\n",
    "    \"gpuid\": config.gpuid,\n",
    "    \"prop\": prop,\n",
    "    \"unitinmm\": bv_thickness,\n",
    "    \"bc\": \"ccrcca001000\",\n",
    "    \"isspecular\": 1, # should not have effect without 0-voxels\n",
    "    \"srcdir\": [0,0,1],\n",
    "    \"srctype\": \"planar\",\n",
    "    \"srcpos\": [0, 0, 0],\n",
    "    \"srcparam1\": [n_voxels_width, 0, 0, 0], # 3D position of vertex, fourth coordinate is irrelevant\n",
    "    \"srcparam2\": [0, n_voxels_width, 0, 0],\n",
    "    \"issrcfrom0\": 1,\n",
    "    \"savedetflag\": \"dpx\",\n",
    "    \"flog\": str(config.pl_dir) + \"/log.txt\"\n",
    "}\n",
    "\n",
    "#one layer of air\n",
    "#cfg[\"vol\"][:, :, 0] = 0\n",
    "\n",
    "# first layer is blood vessel\n",
    "cfg[\"vol\"][:, :, 0] = 2"
   ]
  },
  {
   "cell_type": "code",
   "execution_count": null,
   "metadata": {},
   "outputs": [],
   "source": [
    "# empty log file\n",
    "open(config.pl_dir / \"log.txt\", \"w\").close()\n",
    "header_sim = \"wavelength gray-matter-mu_a gray-matter-mu_s blood-vessel-mu_a blood-vessel-mu_s diffuse-reflectance gray-matter-pathlength blood-vessel-pathlength total-pl\"\n",
    "with open(config.pl_dir / \"blood_vessel_mcs.txt\", \"w\") as f:\n",
    "    f.write(\"# \" + header_sim + \"\\n\")\n",
    "\n",
    "data_blood_vessel_mcs = np.empty((len(sample_wavelengths), 9), dtype=\"float\") # per wavelength: wavelength, mu_a, mu_s (1/mm), diffuse reflectance, pathlength (mm)\n",
    "\n",
    "for i, (wl, mu_a_gm, mu_s_gm, mu_a_bv, mu_s_bv) in enumerate(zip(sample_wavelengths, mu_a_vals_gm, mu_s_vals_gm, mu_a_vals_bv, mu_s_vals_bv)):\n",
    "    print(f\"Simulating for {wl}nm...\")\n",
    "    cfg[\"prop\"][1, 0] = mu_a_gm\n",
    "    cfg[\"prop\"][1, 1] = mu_s_gm\n",
    "    cfg[\"prop\"][1, 2] = g_gm\n",
    "    cfg[\"prop\"][1, 3] = refractive_idx_gm\n",
    "    cfg[\"prop\"][2, 0] = mu_a_bv\n",
    "    cfg[\"prop\"][2, 1] = mu_s_bv\n",
    "    cfg[\"prop\"][2, 2] = g_bv\n",
    "    cfg[\"prop\"][2, 3] = refractive_idx_bv\n",
    "    \n",
    "    res = pmcx.mcxlab(cfg)\n",
    "\n",
    "    detw = pmcx.utils.detweight(res[\"detp\"])\n",
    "    dref = np.sum(detw) / cfg[\"nphoton\"]\n",
    "    pl = pmcx.utils.meanpath(res[\"detp\"])\n",
    "    data_blood_vessel_mcs[i, :] = np.array([wl, mu_a_gm, mu_s_gm, mu_a_bv, mu_s_bv, dref, pl[0], pl[1], pl[0] + pl[1]])\n",
    "\n",
    "    with open(config.pl_dir / \"blood_vessel_mcs.txt\", \"ab\") as f:\n",
    "        np.savetxt(f, data_blood_vessel_mcs[[i]])\n"
   ]
  },
  {
   "cell_type": "markdown",
   "metadata": {},
   "source": [
    "Interpolate"
   ]
  },
  {
   "cell_type": "code",
   "execution_count": null,
   "metadata": {},
   "outputs": [],
   "source": [
    "assert(np.all(np.diff(dense_wavelengths) > 0))\n",
    "pl_bv_interpolated_linear = np.interp(dense_wavelengths, sample_wavelengths, data_blood_vessel_mcs[:, -1])\n",
    "pl_bv_spline_coefs = interpolate.splrep(sample_wavelengths, data_blood_vessel_mcs[:, -1])\n",
    "pl_bv_interpolated_spline = interpolate.splev(dense_wavelengths, pl_bv_spline_coefs)"
   ]
  },
  {
   "cell_type": "markdown",
   "metadata": {},
   "source": [
    "Save data to file"
   ]
  },
  {
   "cell_type": "code",
   "execution_count": null,
   "metadata": {},
   "outputs": [],
   "source": [
    "header_interpolations = \"wavelength pathlength\"\n",
    "\n",
    "np.savetxt(\n",
    "    config.pl_dir / \"blood_vessel_pl_interpolated_linear.txt\",\n",
    "    np.row_stack((dense_wavelengths, pl_bv_interpolated_linear)).T,\n",
    "    header=header_interpolations\n",
    ")\n",
    "\n",
    "np.savetxt(\n",
    "    config.pl_dir / \"blood_vessel_pl_interpolated_spline.txt\",\n",
    "    np.row_stack((dense_wavelengths, pl_bv_interpolated_spline)).T,\n",
    "    header=header_interpolations\n",
    ")"
   ]
  },
  {
   "cell_type": "markdown",
   "metadata": {},
   "source": [
    "Plot pathlengths"
   ]
  },
  {
   "cell_type": "code",
   "execution_count": null,
   "metadata": {},
   "outputs": [],
   "source": [
    "# Optional load values from file\n",
    "data_blood_vessel_mcs = np.loadtxt(config.pl_dir / \"blood_vessel_mcs.txt\")\n",
    "pl_bv_interpolated_linear = np.loadtxt(config.pl_dir / \"blood_vessel_pl_interpolated_linear.txt\")[:, 1]\n",
    "pl_bv_interpolated_spline = np.loadtxt(config.pl_dir / \"blood_vessel_pl_interpolated_spline.txt\")[:, 1]"
   ]
  },
  {
   "cell_type": "code",
   "execution_count": null,
   "metadata": {},
   "outputs": [],
   "source": [
    "plt.scatter(sample_wavelengths, data_blood_vessel_mcs[:, -1])\n",
    "plt.plot(dense_wavelengths, pl_bv_interpolated_linear)\n",
    "plt.plot(dense_wavelengths, pl_bv_interpolated_spline)\n",
    "plt.plot(dense_wavelengths, pl_gm_interpolated_linear)"
   ]
  },
  {
   "cell_type": "markdown",
   "metadata": {},
   "source": [
    "### Compute Pathlengths for Tissue with Blood Vessels in Grid Structure (unused, unfinished)"
   ]
  },
  {
   "cell_type": "code",
   "execution_count": null,
   "metadata": {},
   "outputs": [],
   "source": [
    "bv_thickness = 0.1 #[mm], = voxel simulation\n",
    "bv_area_percentage = 0.0725\n",
    "tissue_depth = 60 #[mm]\n",
    "min_total_width = 30 #[mm]\n",
    "detector_distance = 50 #[mm]\n",
    "\n",
    "# Find the smallest surface that is evenly divided by grid,\n",
    "# such that grid has area within desired interval\n",
    "\n",
    "found = False\n",
    "for n_voxels_width in range(int(min_total_width / bv_thickness), int(total_depth / bv_thickness + 1)):\n",
    "    for n_vessels in range(1, int(0.5*(n_voxels_width - 1))):\n",
    "        if (n_voxels_width - n_vessels) % (n_vessels + 1) != 0:\n",
    "            continue\n",
    "        bv_area = 2 * n_vessels * n_voxels_width - n_vessels**2\n",
    "        cur_bv_area_percentage = bv_area / n_voxels_width**2\n",
    "        if cur_bv_area_percentage > bv_area_percentage * 1.03:\n",
    "            break\n",
    "        if cur_bv_area_percentage > bv_area_percentage * 0.97:\n",
    "            found = True\n",
    "            break\n",
    "        \n",
    "    if found:\n",
    "        break\n",
    "        \n",
    "\n",
    "if found:\n",
    "    print(f\"Total width [mm]: {n_voxels_width * bv_thickness}\")\n",
    "    print(f\"Number of voxels: {n_voxels_width}\")\n",
    "    print(f\"Number of vessels (per x/y-dimension, not total): {n_vessels}\")\n",
    "    print(f\"Resulting blood vessel area percentage: {cur_bv_area_percentage}\")\n",
    "else:\n",
    "    print(\"No value found\")"
   ]
  },
  {
   "cell_type": "code",
   "execution_count": null,
   "metadata": {},
   "outputs": [],
   "source": [
    "cfg = {\n",
    "    \"nphoton\": 5e7, # higher spatial resolution needs more photons for same noise level\n",
    "    \"maxdetphoton\": 5e7,\n",
    "    \"tstart\":0,\n",
    "    \"tend\":5e-9,\n",
    "    \"tstep\":5e-9,\n",
    "    \"autopilot\": 1,\n",
    "    \"gpuid\": 1,\n",
    "    \"prop\": np.array([[0,0,1,1],[0,0,1,1],[0,0,1,1]]),\n",
    "    \"unitinmm\": bv_thickness,\n",
    "    \"bc\": \"ccrcca001000\",\n",
    "    \"isspecular\": 1, # should not have effect without 0-voxels\n",
    "    \"srcdir\": [0,0,1],\n",
    "    \"srctype\": \"planar\",\n",
    "    \"srcpos\": [0, 0, 0],\n",
    "    \"srcparam1\": [n_voxels_width, 0, 0, 0], # 3D position of vertex, fourth coordinate is irrelevant\n",
    "    \"srcparam2\": [0, n_voxels_width, 0, 0],\n",
    "    \"issrcfrom0\": 1,\n",
    "    \"savedetflag\": \"dpx\",\n",
    "    \"flog\": str(tissue_data_path) + \"/log.txt\"\n",
    "}\n",
    "\n",
    "\n",
    "cfg[\"vol\"] = np.ones((n_voxels_width, n_voxels_width, int((tissue_depth + detector_distance)  / bv_thickness)), dtype=\"uint8\")\n",
    "\n",
    "# first layer is grid of blood vessels\n",
    "bv_layer_z_idx = int(np.ceil(detector_distance/bv_thickness))\n",
    "spacing = int((n_voxels_width - n_vessels) / (n_vessels + 1))\n",
    "vessel_idxs = list(range(spacing, n_voxels_width, spacing + 1))\n",
    "bv_pattern = np.zeros((n_voxels_width, n_voxels_width), dtype=\"bool\")\n",
    "bv_pattern[vessel_idxs, :] = True\n",
    "bv_pattern[:, vessel_idxs] = True\n",
    "cfg[\"vol\"][:, :, bv_layer_z_idx:] = 1\n",
    "cfg[\"vol\"][bv_pattern, bv_layer_z_idx] = 2"
   ]
  },
  {
   "cell_type": "code",
   "execution_count": null,
   "metadata": {},
   "outputs": [],
   "source": [
    "# Find photon (indices) which left bounding box above blood vessels\n",
    "def split_photon_idxs_by_pattern(detp, pattern):\n",
    "    photon_pos = np.floor(det[\"p\"][:, :2]).astype(int)\n",
    "    in_idxs, out_idxs = []\n",
    "    \n",
    "    for photon_id in range(detp[\"detid\"].shape[0]):\n",
    "        x, y = photon_pos[photon_id]\n",
    "        if bv_pattern[x, y]:\n",
    "            in_idxs.append(photon_id)\n",
    "        else:\n",
    "            out_idxs.append(photon_id)\n",
    "    \n",
    "    return in_idxs, out_idxs\n",
    "\n",
    "# compute weight and mean pathlength of these photons\n",
    "def compute_weight_idxs(detp, prop, unitinmm, idxs):\n",
    "    weight = np.ones(len(idxs))\n",
    "\n",
    "    for i in range(np.array(prop).shape[0]):\n",
    "        weight = weight * np.exp(-prop[i + 1, 0] * detp[\"ppath\"][idxs, i]) * unitinmm\n",
    "    \n",
    "    return weight\n",
    "\n",
    "def compute_meanpath_idxs(detp, prop, unitinmm, idxs):\n",
    "    weight = compute_weight_idxs(detp, prop, unitinmm, idxs)\n",
    "    avgpath = np.sum(\n",
    "        detp[\"ppath\"][idxs, :] * unitinmm * np.tile(weight, (detp[\"ppath\"].shape[1], 1)).T\n",
    "    ) / np.sum(weight)\n",
    "\n",
    "    return avgpath\n"
   ]
  },
  {
   "cell_type": "code",
   "execution_count": null,
   "metadata": {},
   "outputs": [],
   "source": [
    "# empty log file\n",
    "open(tissue_data_path / \"log.txt\", \"w\").close()\n",
    "\n",
    "bv_grid_mc_data = np.empty((len(sample_wavelengths), 2), dtype=\"float\") # per wavelength: wavelength, pathlength (mm)\n",
    "gm_grid_mc_data = np.empty((len(sample_wavelengths), 2), dtype=\"float\") # per wavelength: wavelength, pathlength (mm)\n",
    "\n",
    "for i, wl in enumerate(sample_wavelengths):\n",
    "    print(f\"Simulating for {wl}nm...\")\n",
    "    mu_a_gm = mu_a_gm_matrix[wl - lower_wavelength]\n",
    "    mu_s_gm = mu_s_gm_func(wl)\n",
    "    mu_a_bv = mu_a_bv_matrix[wl - lower_wavelength]\n",
    "    mu_s_bv = mu_s_bv_func(wl)\n",
    "    cfg[\"prop\"][1] = np.array([mu_a_gm, mu_s_gm, g_gm, refractive_idx_gm])\n",
    "    cfg[\"prop\"][2] = np.array([mu_a_bv, mu_s_bv, g_bv, refractive_idx_bv])\n",
    "    \n",
    "    res = pmcx.mcxlab(cfg)\n",
    "\n",
    "    bv_photon_idxs, gm_photon_idxs = split_photon_idxs_by_pattern(res[\"detp\"], bv_pattern)\n",
    "    bv_meanpath = compute_meanpath_idxs(res[\"detp\"], cfg[\"prop\"], bv_thickness, bv_photon_idxs)\n",
    "    gm_meanpath = compute_meanpath_idxs(res[\"detp\"], cfg[\"prop\"], bv_thickness, gm_photon_idxs)\n",
    "\n",
    "    bv_grid_mc_data[i, :] = np.array([wl, bv_meanpath])\n",
    "    gm_grid_mc_data = np.array([wl, gm_meanpath])"
   ]
  }
 ],
 "metadata": {
  "kernelspec": {
   "display_name": "nonlinear-fit",
   "language": "python",
   "name": "python3"
  },
  "language_info": {
   "codemirror_mode": {
    "name": "ipython",
    "version": 3
   },
   "file_extension": ".py",
   "mimetype": "text/x-python",
   "name": "python",
   "nbconvert_exporter": "python",
   "pygments_lexer": "ipython3",
   "version": "3.11.11"
  }
 },
 "nbformat": 4,
 "nbformat_minor": 4
}
