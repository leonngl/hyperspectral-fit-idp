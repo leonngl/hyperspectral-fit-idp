{
 "cells": [
  {
   "cell_type": "code",
   "execution_count": 1,
   "metadata": {},
   "outputs": [],
   "source": [
    "%load_ext autoreload\n",
    "%autoreload 2\n",
    "%matplotlib qt"
   ]
  },
  {
   "cell_type": "code",
   "execution_count": 2,
   "metadata": {},
   "outputs": [],
   "source": [
    "import os\n",
    "import sys\n",
    "from pathlib import Path\n",
    "sys.path.insert(1, str(Path(os.getcwd()).parent / \"src\"))"
   ]
  },
  {
   "cell_type": "code",
   "execution_count": 3,
   "metadata": {},
   "outputs": [],
   "source": [
    "import numpy as np\n",
    "import pmcx\n",
    "from matplotlib import pyplot as plt\n",
    "import os\n",
    "import io\n",
    "from pathlib import Path\n",
    "import data_loader\n",
    "from scipy import interpolate\n",
    "from tqdm import tqdm\n",
    "import config\n"
   ]
  },
  {
   "cell_type": "code",
   "execution_count": 4,
   "metadata": {},
   "outputs": [],
   "source": [
    "config.dataset_dir"
   ]
  },
  {
   "cell_type": "code",
   "execution_count": null,
   "metadata": {},
   "outputs": [],
   "source": [
    "config.pl_dir"
   ]
  },
  {
   "cell_type": "code",
   "execution_count": 5,
   "metadata": {},
   "outputs": [],
   "source": [
    "lower_wavelength = 450\n",
    "upper_wavelength = 999 # both inclusive\n",
    "loader = data_loader.DataLoader(config.dataset_dir, lower_wavelength, upper_wavelength)\n",
    "# absorption spectra for HbO2, Hbb, oxCCO, redCCO, water and fat\n",
    "absorption_spectra = loader.absorption_coefs(\n",
    "    use_diff_oxycco = False,\n",
    "    use_water_and_fat = True\n",
    ")"
   ]
  },
  {
   "cell_type": "code",
   "execution_count": 6,
   "metadata": {},
   "outputs": [
    {
     "name": "stdout",
     "output_type": "stream",
     "text": [
      "[450 475 500 525 550 575 600 625 650 675 700 725 750 775 800 825 850 875\n",
      " 900 925 950 975 999]\n",
      "23\n"
     ]
    }
   ],
   "source": [
    "wavelength_step = 25\n",
    "wavelengths_sparse = np.arange(lower_wavelength, upper_wavelength, wavelength_step)\n",
    "if wavelengths_sparse[-1] != upper_wavelength:\n",
    "    wavelengths_sparse = np.append(wavelengths_sparse, upper_wavelength)\n",
    "print(wavelengths_sparse)\n",
    "print(len(wavelengths_sparse))\n",
    "wavelengths_dense = loader.wavelengths"
   ]
  },
  {
   "cell_type": "code",
   "execution_count": 7,
   "metadata": {},
   "outputs": [],
   "source": [
    "loader_mcs = data_loader.DataLoader(None, 450, 999)\n",
    "mu_a_matrix = loader_mcs.absorption_coefs(use_diff_oxycco=False, use_water_and_fat=True)"
   ]
  },
  {
   "cell_type": "markdown",
   "metadata": {},
   "source": [
    "### Compute pathlength for gray matter"
   ]
  },
  {
   "cell_type": "code",
   "execution_count": 8,
   "metadata": {},
   "outputs": [],
   "source": [
    "g_gm = 0.85\n",
    "refractive_idx_gm = 1.36\n",
    "mu_a_vector_gm = mu_a_matrix @ loader_mcs.params_ref_gray_matter[:6] / 10 # MMX takes mu_a in 1/mm\n",
    "mu_a_func_gm = lambda wl: mu_a_vector_gm[np.array(wl).astype(int) - loader_mcs.wavelength_left_cut]\n",
    "mu_s_red_func_gm = lambda wl: loader_mcs.params_ref_gray_matter[-2] * np.power((wl/500), -loader_mcs.params_ref_gray_matter[-1]) / 10\n",
    "mu_s_func_gm = lambda wl: mu_s_red_func_gm(wl) / (1 - g_gm)"
   ]
  },
  {
   "cell_type": "code",
   "execution_count": 9,
   "metadata": {},
   "outputs": [],
   "source": [
    "prop_mcs = np.array([[0,0,1,1],[0,0,g_gm,refractive_idx_gm]])\n",
    "\n",
    "cfg = {\n",
    "    \"nphoton\": 1e7,\n",
    "    \"maxdetphoton\": 1e7,\n",
    "    \"vol\": np.ones((100, 100, 120), dtype=\"uint8\"),\n",
    "    \"tstart\":0,\n",
    "    \"tend\":5e-9,\n",
    "    \"tstep\":5e-9,\n",
    "    \"autopilot\": 1,\n",
    "    \"gpuid\": 1,\n",
    "    \"prop\": np.array([[0,0,1,1],[0,0,1,1]]),\n",
    "    \"bc\": \"ccrcca001000\",\n",
    "    \"isspecular\": 1, # should not have effect without 0-voxels\n",
    "    \"srcdir\": [0,0,1],\n",
    "    \"srctype\": \"planar\",\n",
    "    \"srcpos\": [0, 0, 0],\n",
    "    \"srcparam1\": [60, 0, 0, 0], # 3D position of vertex, fourth coordinate is irrelevant\n",
    "    \"srcparam2\": [0, 60, 0, 0],\n",
    "    \"issrcfrom0\": 1,\n",
    "    \"savedetflag\": \"dpx\",\n",
    "    \"flog\": str(config.pl_dir) + \"/log.txt\"\n",
    "}"
   ]
  },
  {
   "cell_type": "code",
   "execution_count": 12,
   "metadata": {},
   "outputs": [
    {
     "name": "stdout",
     "output_type": "stream",
     "text": [
      "Simulating for 450nm...\n",
      "nphoton: 1e+07\n",
      "tstart: 0\n",
      "tstep: 5e-09\n",
      "tend: 5e-09\n",
      "maxdetphoton: 1e+07\n",
      "issrcfrom0: 1\n",
      "autopilot: 1\n",
      "isspecular: 1\n"
     ]
    },
    {
     "ename": "KeyboardInterrupt",
     "evalue": "",
     "output_type": "error",
     "traceback": [
      "\u001b[0;31m---------------------------------------------------------------------------\u001b[0m",
      "\u001b[0;31mKeyboardInterrupt\u001b[0m                         Traceback (most recent call last)",
      "Cell \u001b[0;32mIn[12], line 20\u001b[0m\n\u001b[1;32m     16\u001b[0m cfg[\u001b[38;5;124m\"\u001b[39m\u001b[38;5;124mprop\u001b[39m\u001b[38;5;124m\"\u001b[39m][\u001b[38;5;241m1\u001b[39m, \u001b[38;5;241m3\u001b[39m] \u001b[38;5;241m=\u001b[39m refractive_idx_gm\n\u001b[1;32m     18\u001b[0m res \u001b[38;5;241m=\u001b[39m pmcx\u001b[38;5;241m.\u001b[39mmcxlab(cfg)\n\u001b[0;32m---> 20\u001b[0m detw \u001b[38;5;241m=\u001b[39m pmcx\u001b[38;5;241m.\u001b[39mutils\u001b[38;5;241m.\u001b[39mdetweight(res[\u001b[38;5;124m\"\u001b[39m\u001b[38;5;124mdetp\u001b[39m\u001b[38;5;124m\"\u001b[39m])\n\u001b[1;32m     21\u001b[0m dref \u001b[38;5;241m=\u001b[39m np\u001b[38;5;241m.\u001b[39msum(detw) \u001b[38;5;241m/\u001b[39m cfg[\u001b[38;5;124m\"\u001b[39m\u001b[38;5;124mnphoton\u001b[39m\u001b[38;5;124m\"\u001b[39m]\n\u001b[1;32m     22\u001b[0m pl \u001b[38;5;241m=\u001b[39m pmcx\u001b[38;5;241m.\u001b[39mutils\u001b[38;5;241m.\u001b[39mmeanpath(res[\u001b[38;5;124m\"\u001b[39m\u001b[38;5;124mdetp\u001b[39m\u001b[38;5;124m\"\u001b[39m])[\u001b[38;5;241m0\u001b[39m]\n",
      "Cell \u001b[0;32mIn[12], line 20\u001b[0m\n\u001b[1;32m     16\u001b[0m cfg[\u001b[38;5;124m\"\u001b[39m\u001b[38;5;124mprop\u001b[39m\u001b[38;5;124m\"\u001b[39m][\u001b[38;5;241m1\u001b[39m, \u001b[38;5;241m3\u001b[39m] \u001b[38;5;241m=\u001b[39m refractive_idx_gm\n\u001b[1;32m     18\u001b[0m res \u001b[38;5;241m=\u001b[39m pmcx\u001b[38;5;241m.\u001b[39mmcxlab(cfg)\n\u001b[0;32m---> 20\u001b[0m detw \u001b[38;5;241m=\u001b[39m pmcx\u001b[38;5;241m.\u001b[39mutils\u001b[38;5;241m.\u001b[39mdetweight(res[\u001b[38;5;124m\"\u001b[39m\u001b[38;5;124mdetp\u001b[39m\u001b[38;5;124m\"\u001b[39m])\n\u001b[1;32m     21\u001b[0m dref \u001b[38;5;241m=\u001b[39m np\u001b[38;5;241m.\u001b[39msum(detw) \u001b[38;5;241m/\u001b[39m cfg[\u001b[38;5;124m\"\u001b[39m\u001b[38;5;124mnphoton\u001b[39m\u001b[38;5;124m\"\u001b[39m]\n\u001b[1;32m     22\u001b[0m pl \u001b[38;5;241m=\u001b[39m pmcx\u001b[38;5;241m.\u001b[39mutils\u001b[38;5;241m.\u001b[39mmeanpath(res[\u001b[38;5;124m\"\u001b[39m\u001b[38;5;124mdetp\u001b[39m\u001b[38;5;124m\"\u001b[39m])[\u001b[38;5;241m0\u001b[39m]\n",
      "File \u001b[0;32m_pydevd_bundle/pydevd_cython.pyx:1457\u001b[0m, in \u001b[0;36m_pydevd_bundle.pydevd_cython.SafeCallWrapper.__call__\u001b[0;34m()\u001b[0m\n",
      "File \u001b[0;32m_pydevd_bundle/pydevd_cython.pyx:701\u001b[0m, in \u001b[0;36m_pydevd_bundle.pydevd_cython.PyDBFrame.trace_dispatch\u001b[0;34m()\u001b[0m\n",
      "File \u001b[0;32m_pydevd_bundle/pydevd_cython.pyx:1152\u001b[0m, in \u001b[0;36m_pydevd_bundle.pydevd_cython.PyDBFrame.trace_dispatch\u001b[0;34m()\u001b[0m\n",
      "File \u001b[0;32m_pydevd_bundle/pydevd_cython.pyx:1135\u001b[0m, in \u001b[0;36m_pydevd_bundle.pydevd_cython.PyDBFrame.trace_dispatch\u001b[0;34m()\u001b[0m\n",
      "File \u001b[0;32m_pydevd_bundle/pydevd_cython.pyx:312\u001b[0m, in \u001b[0;36m_pydevd_bundle.pydevd_cython.PyDBFrame.do_wait_suspend\u001b[0;34m()\u001b[0m\n",
      "File \u001b[0;32m~/anaconda3/envs/idp/lib/python3.11/site-packages/debugpy/_vendored/pydevd/pydevd.py:2070\u001b[0m, in \u001b[0;36mPyDB.do_wait_suspend\u001b[0;34m(self, thread, frame, event, arg, exception_type)\u001b[0m\n\u001b[1;32m   2067\u001b[0m             from_this_thread\u001b[38;5;241m.\u001b[39mappend(frame_custom_thread_id)\n\u001b[1;32m   2069\u001b[0m     \u001b[38;5;28;01mwith\u001b[39;00m \u001b[38;5;28mself\u001b[39m\u001b[38;5;241m.\u001b[39m_threads_suspended_single_notification\u001b[38;5;241m.\u001b[39mnotify_thread_suspended(thread_id, thread, stop_reason):\n\u001b[0;32m-> 2070\u001b[0m         keep_suspended \u001b[38;5;241m=\u001b[39m \u001b[38;5;28mself\u001b[39m\u001b[38;5;241m.\u001b[39m_do_wait_suspend(thread, frame, event, arg, suspend_type, from_this_thread, frames_tracker)\n\u001b[1;32m   2072\u001b[0m frames_list \u001b[38;5;241m=\u001b[39m \u001b[38;5;28;01mNone\u001b[39;00m\n\u001b[1;32m   2074\u001b[0m \u001b[38;5;28;01mif\u001b[39;00m keep_suspended:\n\u001b[1;32m   2075\u001b[0m     \u001b[38;5;66;03m# This means that we should pause again after a set next statement.\u001b[39;00m\n",
      "File \u001b[0;32m~/anaconda3/envs/idp/lib/python3.11/site-packages/debugpy/_vendored/pydevd/pydevd.py:2106\u001b[0m, in \u001b[0;36mPyDB._do_wait_suspend\u001b[0;34m(self, thread, frame, event, arg, suspend_type, from_this_thread, frames_tracker)\u001b[0m\n\u001b[1;32m   2103\u001b[0m         \u001b[38;5;28mself\u001b[39m\u001b[38;5;241m.\u001b[39m_call_input_hook()\n\u001b[1;32m   2105\u001b[0m     \u001b[38;5;28mself\u001b[39m\u001b[38;5;241m.\u001b[39mprocess_internal_commands()\n\u001b[0;32m-> 2106\u001b[0m     time\u001b[38;5;241m.\u001b[39msleep(\u001b[38;5;241m0.01\u001b[39m)\n\u001b[1;32m   2108\u001b[0m \u001b[38;5;28mself\u001b[39m\u001b[38;5;241m.\u001b[39mcancel_async_evaluation(get_current_thread_id(thread), \u001b[38;5;28mstr\u001b[39m(\u001b[38;5;28mid\u001b[39m(frame)))\n\u001b[1;32m   2110\u001b[0m \u001b[38;5;66;03m# process any stepping instructions\u001b[39;00m\n",
      "\u001b[0;31mKeyboardInterrupt\u001b[0m: "
     ]
    }
   ],
   "source": [
    "# empty log file\n",
    "open(config.pl_dir / \"log.txt\", \"w\").close()\n",
    "header_sim = \"wavelength mu_a mu_s diffuse-reflectance pathlength\"\n",
    "with open(config.pl_dir / \"gray_matter_mcs.txt\", \"w\") as f:\n",
    "    f.write(\"# \" + header_sim + \"\\n\")\n",
    "\n",
    "data_gray_matter_mcs = np.empty((len(wavelengths_sparse), 5), dtype=\"float\") # per wavelength: wavelength, mu_a, mu_s (1/mm), diffuse reflectance, pathlength (mm)\n",
    "\n",
    "for i, wl in enumerate(wavelengths_sparse):\n",
    "    print(f\"Simulating for {wl}nm...\")\n",
    "    mu_a = mu_a_func_gm(wl)\n",
    "    mu_s = mu_s_func_gm(wl)\n",
    "    cfg[\"prop\"][1, 0] = mu_a\n",
    "    cfg[\"prop\"][1, 1] = mu_s\n",
    "    cfg[\"prop\"][1, 2] = g_gm\n",
    "    cfg[\"prop\"][1, 3] = refractive_idx_gm\n",
    "\n",
    "    res = pmcx.mcxlab(cfg)\n",
    "\n",
    "    detw = pmcx.utils.detweight(res[\"detp\"])\n",
    "    dref = np.sum(detw) / cfg[\"nphoton\"]\n",
    "    pl = pmcx.utils.meanpath(res[\"detp\"])[0]\n",
    "    data_gray_matter_mcs[i, :] = np.array([wl, mu_a, mu_s, dref, pl])\n",
    "\n",
    "    with open(config.pl_dir / \"gray_matter_mcs.txt\", \"ab\") as f:\n",
    "        np.savetxt(f, data_gray_matter_mcs[[i]])\n"
   ]
  },
  {
   "cell_type": "markdown",
   "metadata": {},
   "source": [
    "Interpolate"
   ]
  },
  {
   "cell_type": "code",
   "execution_count": 10,
   "metadata": {},
   "outputs": [],
   "source": [
    "assert(np.all(np.diff(wavelengths_dense) > 0))\n",
    "pl_gm_interpolated_linear = np.interp(wavelengths_dense, wavelengths_sparse, data_gray_matter_mcs[:, 4])\n",
    "pl_gm_spline_coefs = interpolate.splrep(wavelengths_sparse, data_gray_matter_mcs[:, 4])\n",
    "pl_gm_interpolated_spline = interpolate.splev(wavelengths_dense, pl_gm_spline_coefs)"
   ]
  },
  {
   "cell_type": "markdown",
   "metadata": {},
   "source": [
    "Plot pathlength"
   ]
  },
  {
   "cell_type": "code",
   "execution_count": 21,
   "metadata": {},
   "outputs": [],
   "source": [
    "# Optional load values from file\n",
    "data_gray_matter_mcs = np.loadtxt(config.pl_dir / \"gray_matter_mcs.txt\")\n",
    "pl_gm_interpolated_linear = np.loadtxt(config.pl_dir / \"gray_matter_pl_interpolated_linear.txt\")[:, 1]\n",
    "pl_gm_interpolated_spline = np.loadtxt(config.pl_dir / \"gray_matter_pl_interpolated_spline.txt\")[:, 1]"
   ]
  },
  {
   "cell_type": "code",
   "execution_count": 17,
   "metadata": {},
   "outputs": [
    {
     "data": {
      "text/plain": [
       "[<matplotlib.lines.Line2D at 0x7f624ab93850>]"
      ]
     },
     "execution_count": 17,
     "metadata": {},
     "output_type": "execute_result"
    },
    {
     "data": {
      "image/png": "[encoded data removed]",
      "text/plain": [
       "<Figure size 640x480 with 1 Axes>"
      ]
     },
     "metadata": {},
     "output_type": "display_data"
    }
   ],
   "source": [
    "plt.scatter(wavelengths_sparse, data_gray_matter_mcs[:, -1])\n",
    "plt.plot(wavelengths_dense, pl_gm_interpolated_linear)\n",
    "plt.plot(wavelengths_dense, pl_gm_interpolated_spline)"
   ]
  },
  {
   "cell_type": "markdown",
   "metadata": {},
   "source": [
    "Save data to file"
   ]
  },
  {
   "cell_type": "code",
   "execution_count": 12,
   "metadata": {},
   "outputs": [],
   "source": [
    "header_interpolations = \"wavelength pathlength\"\n",
    "\n",
    "np.savetxt(\n",
    "    config.pl_dir / \"gray_matter_pl_interpolated_linear.txt\",\n",
    "    np.row_stack((wavelengths_dense, pl_gm_interpolated_linear)).T,\n",
    "    header=header_interpolations\n",
    ")\n",
    "\n",
    "np.savetxt(\n",
    "    config.pl_dir / \"gray_matter_pl_interpolated_spline.txt\",\n",
    "    np.row_stack((wavelengths_dense, pl_gm_interpolated_spline)).T,\n",
    "    header=header_interpolations\n",
    ")"
   ]
  },
  {
   "cell_type": "markdown",
   "metadata": {},
   "source": [
    "### Compute pathlength for blood vessels"
   ]
  },
  {
   "cell_type": "code",
   "execution_count": 9,
   "metadata": {},
   "outputs": [],
   "source": [
    "g_bv = 0.935\n",
    "refractive_idx_bv = 1.4\n",
    "mu_a_vector_bv = mu_a_matrix @ loader_mcs.params_ref_blood_vessel[:6] / 10 # MMX takes mu_a in 1/mm\n",
    "mu_a_func_bv = lambda wl: mu_a_vector_bv[np.array(wl).astype(int) - loader_mcs.wavelength_left_cut]\n",
    "mu_s_red_func_bv = lambda wl: loader_mcs.params_ref_blood_vessel[-2] * np.power((wl/500), -loader_mcs.params_ref_blood_vessel[-1]) / 10\n",
    "mu_s_func_bv = lambda wl: mu_s_red_func_bv(wl) / (1 - g_bv)"
   ]
  },
  {
   "cell_type": "code",
   "execution_count": 10,
   "metadata": {},
   "outputs": [],
   "source": [
    "bv_thickness = 0.1 #[mm], = voxel size\n",
    "tissue_depth = 80 #[mm]\n",
    "tissue_width = 40 #[mm]"
   ]
  },
  {
   "cell_type": "code",
   "execution_count": 11,
   "metadata": {},
   "outputs": [
    {
     "name": "stdout",
     "output_type": "stream",
     "text": [
      "Simulating with 400^2 x 800 = 128000000 voxels.\n"
     ]
    }
   ],
   "source": [
    "n_voxels_width = int(tissue_width / bv_thickness)\n",
    "n_voxels_depth = int(tissue_depth / bv_thickness)\n",
    "print(f\"Simulating with {n_voxels_width}^2 x {n_voxels_depth} = {n_voxels_depth * (n_voxels_width**2)} voxels.\")\n",
    "\n",
    "prop = np.array([[0,0,1,1],[0,0,g_gm,refractive_idx_gm],[0,0,g_bv,refractive_idx_bv]])\n",
    "\n",
    "cfg = {\n",
    "    \"nphoton\": 5e7, # higher spatial resolution needs more photons for same noise level\n",
    "    \"maxdetphoton\": 5e7,\n",
    "    \"tstart\":0,\n",
    "    \"tend\":5e-9,\n",
    "    \"tstep\":5e-9,\n",
    "    \"autopilot\": 1,\n",
    "    \"gpuid\": 1,\n",
    "    \"prop\": prop,\n",
    "    \"unitinmm\": bv_thickness,\n",
    "    \"bc\": \"ccrcca001000\",\n",
    "    \"isspecular\": 1, # should not have effect without 0-voxels\n",
    "    \"srcdir\": [0,0,1],\n",
    "    \"srctype\": \"planar\",\n",
    "    \"srcpos\": [0, 0, 0],\n",
    "    \"srcparam1\": [n_voxels_width, 0, 0, 0], # 3D position of vertex, fourth coordinate is irrelevant\n",
    "    \"srcparam2\": [0, n_voxels_width, 0, 0],\n",
    "    \"issrcfrom0\": 1,\n",
    "    \"savedetflag\": \"dpx\",\n",
    "    \"flog\": str(config.pl_dir) + \"/log.txt\"\n",
    "}\n",
    "\n",
    "\n",
    "cfg[\"vol\"] = np.ones((n_voxels_width, n_voxels_width, n_voxels_depth), dtype=\"uint8\")\n",
    "# first layer is blood vessel\n",
    "cfg[\"vol\"][:, :, 0] = 2"
   ]
  },
  {
   "cell_type": "code",
   "execution_count": null,
   "metadata": {},
   "outputs": [
    {
     "name": "stdout",
     "output_type": "stream",
     "text": [
      "Simulating for 450nm...\n",
      "nphoton: 5e+07\n",
      "tstart: 0\n",
      "tstep: 5e-09\n",
      "tend: 5e-09\n",
      "maxdetphoton: 5e+07\n",
      "issrcfrom0: 1\n",
      "autopilot: 1\n",
      "unitinmm: 0.1\n",
      "isspecular: 1\n"
     ]
    },
    {
     "ename": "ValueError",
     "evalue": "could not broadcast input array from shape (8,) into shape (9,)",
     "output_type": "error",
     "traceback": [
      "\u001b[0;31m---------------------------------------------------------------------------\u001b[0m",
      "\u001b[0;31mValueError\u001b[0m                                Traceback (most recent call last)",
      "Cell \u001b[0;32mIn[12], line 29\u001b[0m\n\u001b[1;32m     27\u001b[0m dref \u001b[38;5;241m=\u001b[39m np\u001b[38;5;241m.\u001b[39msum(detw) \u001b[38;5;241m/\u001b[39m cfg[\u001b[38;5;124m\"\u001b[39m\u001b[38;5;124mnphoton\u001b[39m\u001b[38;5;124m\"\u001b[39m]\n\u001b[1;32m     28\u001b[0m pl \u001b[38;5;241m=\u001b[39m pmcx\u001b[38;5;241m.\u001b[39mutils\u001b[38;5;241m.\u001b[39mmeanpath(res[\u001b[38;5;124m\"\u001b[39m\u001b[38;5;124mdetp\u001b[39m\u001b[38;5;124m\"\u001b[39m])\n\u001b[0;32m---> 29\u001b[0m data_blood_vessel_mcs[i, :] \u001b[38;5;241m=\u001b[39m np\u001b[38;5;241m.\u001b[39marray([wl, mu_a_gm, mu_s_gm, mu_a_bv, mu_s_bv, dref, pl[\u001b[38;5;241m0\u001b[39m], pl[\u001b[38;5;241m1\u001b[39m]])\n\u001b[1;32m     31\u001b[0m \u001b[38;5;28;01mwith\u001b[39;00m \u001b[38;5;28mopen\u001b[39m(pl_dir \u001b[38;5;241m/\u001b[39m \u001b[38;5;124m\"\u001b[39m\u001b[38;5;124mblood_vessel_mcs.txt\u001b[39m\u001b[38;5;124m\"\u001b[39m, \u001b[38;5;124m\"\u001b[39m\u001b[38;5;124mab\u001b[39m\u001b[38;5;124m\"\u001b[39m) \u001b[38;5;28;01mas\u001b[39;00m f:\n\u001b[1;32m     32\u001b[0m     np\u001b[38;5;241m.\u001b[39msavetxt(f, data_blood_vessel_mcs[[i]])\n",
      "\u001b[0;31mValueError\u001b[0m: could not broadcast input array from shape (8,) into shape (9,)"
     ]
    }
   ],
   "source": [
    "# empty log file\n",
    "open(config.pl_dir / \"log.txt\", \"w\").close()\n",
    "header_sim = \"wavelength gray-matter-mu_a gray-matter-mu_s blood-vessel-mu_a blood-vessel-mu_s diffuse-reflectance gray-matter-pathlength blood-vessel-pathlength total-pl\"\n",
    "with open(config.pl_dir / \"blood_vessel_mcs.txt\", \"w\") as f:\n",
    "    f.write(\"# \" + header_sim + \"\\n\")\n",
    "\n",
    "data_blood_vessel_mcs = np.empty((len(wavelengths_sparse), 9), dtype=\"float\") # per wavelength: wavelength, mu_a, mu_s (1/mm), diffuse reflectance, pathlength (mm)\n",
    "\n",
    "for i, wl in enumerate(wavelengths_sparse):\n",
    "    print(f\"Simulating for {wl}nm...\")\n",
    "    mu_a_gm = mu_a_func_gm(wl)\n",
    "    mu_s_gm = mu_s_func_gm(wl)\n",
    "    mu_a_bv = mu_a_func_bv(wl)\n",
    "    mu_s_bv = mu_s_func_bv(wl)\n",
    "    cfg[\"prop\"][1, 0] = mu_a_gm\n",
    "    cfg[\"prop\"][1, 1] = mu_s_gm\n",
    "    cfg[\"prop\"][1, 2] = g_gm\n",
    "    cfg[\"prop\"][1, 3] = refractive_idx_gm\n",
    "    cfg[\"prop\"][2, 0] = mu_a_bv\n",
    "    cfg[\"prop\"][2, 1] = mu_s_bv\n",
    "    cfg[\"prop\"][2, 2] = g_bv\n",
    "    cfg[\"prop\"][2, 3] = refractive_idx_bv\n",
    "    \n",
    "    res = pmcx.mcxlab(cfg)\n",
    "\n",
    "    detw = pmcx.utils.detweight(res[\"detp\"])\n",
    "    dref = np.sum(detw) / cfg[\"nphoton\"]\n",
    "    pl = pmcx.utils.meanpath(res[\"detp\"])\n",
    "    data_blood_vessel_mcs[i, :] = np.array([wl, mu_a_gm, mu_s_gm, mu_a_bv, mu_s_bv, dref, pl[0], pl[1], pl[0] + pl[1]])\n",
    "\n",
    "    with open(config.pl_dir / \"blood_vessel_mcs.txt\", \"ab\") as f:\n",
    "        np.savetxt(f, data_blood_vessel_mcs[[i]])\n"
   ]
  },
  {
   "cell_type": "markdown",
   "metadata": {},
   "source": [
    "Interpolate"
   ]
  },
  {
   "cell_type": "code",
   "execution_count": 12,
   "metadata": {},
   "outputs": [
    {
     "ename": "NameError",
     "evalue": "name 'bv_mc_data' is not defined",
     "output_type": "error",
     "traceback": [
      "\u001b[0;31m---------------------------------------------------------------------------\u001b[0m",
      "\u001b[0;31mNameError\u001b[0m                                 Traceback (most recent call last)",
      "Cell \u001b[0;32mIn[12], line 3\u001b[0m\n\u001b[1;32m      1\u001b[0m wavelengths_dense \u001b[38;5;241m=\u001b[39m loader\u001b[38;5;241m.\u001b[39mwavelengths\n\u001b[1;32m      2\u001b[0m \u001b[38;5;28;01massert\u001b[39;00m(np\u001b[38;5;241m.\u001b[39mall(np\u001b[38;5;241m.\u001b[39mdiff(wavelengths_dense) \u001b[38;5;241m>\u001b[39m \u001b[38;5;241m0\u001b[39m))\n\u001b[0;32m----> 3\u001b[0m pl_bv_interpolated_linear \u001b[38;5;241m=\u001b[39m np\u001b[38;5;241m.\u001b[39minterp(wavelengths_dense, wavelengths_sparse, bv_mc_data[:, \u001b[38;5;241m4\u001b[39m])\n\u001b[1;32m      4\u001b[0m pl_bv_spline_coefs \u001b[38;5;241m=\u001b[39m interpolate\u001b[38;5;241m.\u001b[39msplrep(wavelengths_sparse, bv_mc_data[:, \u001b[38;5;241m4\u001b[39m])\n\u001b[1;32m      5\u001b[0m pl_bv_interpolated_spline \u001b[38;5;241m=\u001b[39m interpolate\u001b[38;5;241m.\u001b[39msplev(wavelengths_dense, pl_bv_spline_coefs)\n",
      "\u001b[0;31mNameError\u001b[0m: name 'bv_mc_data' is not defined"
     ]
    }
   ],
   "source": [
    "wavelengths_dense = loader.wavelengths\n",
    "assert(np.all(np.diff(wavelengths_dense) > 0))\n",
    "pl_bv_interpolated_linear = np.interp(wavelengths_dense, wavelengths_sparse, data_blood_vessel_mcs[:, -1])\n",
    "pl_bv_spline_coefs = interpolate.splrep(wavelengths_sparse, data_blood_vessel_mcs[:, -1])\n",
    "pl_bv_interpolated_spline = interpolate.splev(wavelengths_dense, pl_bv_spline_coefs)"
   ]
  },
  {
   "cell_type": "markdown",
   "metadata": {},
   "source": [
    "Plot pathlengths"
   ]
  },
  {
   "cell_type": "code",
   "execution_count": 22,
   "metadata": {},
   "outputs": [],
   "source": [
    "# Optional load values from file\n",
    "data_blood_vessel_mcs = np.loadtxt(config.pl_dir / \"blood_vessel_mcs.txt\")\n",
    "pl_bv_interpolated_linear = np.loadtxt(config.pl_dir / \"blood_vessel_pl_interpolated_linear.txt\")[:, 1]\n",
    "pl_bv_interpolated_spline = np.loadtxt(config.pl_dir / \"blood_vessel_pl_interpolated_spline.txt\")[:, 1]"
   ]
  },
  {
   "cell_type": "code",
   "execution_count": 23,
   "metadata": {},
   "outputs": [
    {
     "data": {
      "text/plain": [
       "[<matplotlib.lines.Line2D at 0x7f6248a851d0>]"
      ]
     },
     "execution_count": 23,
     "metadata": {},
     "output_type": "execute_result"
    },
    {
     "data": {
      "image/png": "[encoded data removed]",
      "text/plain": [
       "<Figure size 640x480 with 1 Axes>"
      ]
     },
     "metadata": {},
     "output_type": "display_data"
    }
   ],
   "source": [
    "plt.scatter(wavelengths_sparse, data_blood_vessel_mcs[:, -1])\n",
    "plt.plot(wavelengths_dense, pl_bv_interpolated_linear)\n",
    "plt.plot(wavelengths_dense, pl_bv_interpolated_spline)\n",
    "plt.plot(wavelengths_dense, pl_gm_interpolated_linear)"
   ]
  },
  {
   "cell_type": "markdown",
   "metadata": {},
   "source": [
    "Save data to file"
   ]
  },
  {
   "cell_type": "code",
   "execution_count": 21,
   "metadata": {},
   "outputs": [],
   "source": [
    "header_interpolations = \"wavelength pathlength\"\n",
    "\n",
    "np.savetxt(\n",
    "    config.pl_dir / \"blood_vessel_pl_interpolated_linear.txt\",\n",
    "    np.row_stack((wavelengths_dense, pl_bv_interpolated_linear)).T,\n",
    "    header=header_interpolations\n",
    ")\n",
    "\n",
    "np.savetxt(\n",
    "    config.pl_dir / \"blood_vessel_pl_interpolated_spline.txt\",\n",
    "    np.row_stack((wavelengths_dense, pl_bv_interpolated_spline)).T,\n",
    "    header=header_interpolations\n",
    ")"
   ]
  },
  {
   "cell_type": "markdown",
   "metadata": {},
   "source": [
    "### Compute Pathlengths for Tissue with Blood Vessels in Grid Structure (unused, unfinished)"
   ]
  },
  {
   "cell_type": "code",
   "execution_count": 51,
   "metadata": {},
   "outputs": [
    {
     "name": "stdout",
     "output_type": "stream",
     "text": [
      "Total width [mm]: 32.4\n",
      "Number of voxels: 324\n",
      "Number of vessels (per x/y-dimension, not total): 12\n",
      "Resulting blood vessel area percentage: 0.07270233196159122\n"
     ]
    }
   ],
   "source": [
    "bv_thickness = 0.1 #[mm], = voxel simulation\n",
    "bv_area_percentage = 0.0725\n",
    "tissue_depth = 60 #[mm]\n",
    "min_total_width = 30 #[mm]\n",
    "detector_distance = 50 #[mm]\n",
    "\n",
    "# Find the smallest surface that is evenly divided by grid,\n",
    "# such that grid has area within desired interval\n",
    "\n",
    "found = False\n",
    "for n_voxels_width in range(int(min_total_width / bv_thickness), int(total_depth / bv_thickness + 1)):\n",
    "    for n_vessels in range(1, int(0.5*(n_voxels_width - 1))):\n",
    "        if (n_voxels_width - n_vessels) % (n_vessels + 1) != 0:\n",
    "            continue\n",
    "        bv_area = 2 * n_vessels * n_voxels_width - n_vessels**2\n",
    "        cur_bv_area_percentage = bv_area / n_voxels_width**2\n",
    "        if cur_bv_area_percentage > bv_area_percentage * 1.03:\n",
    "            break\n",
    "        if cur_bv_area_percentage > bv_area_percentage * 0.97:\n",
    "            found = True\n",
    "            break\n",
    "        \n",
    "    if found:\n",
    "        break\n",
    "        \n",
    "\n",
    "if found:\n",
    "    print(f\"Total width [mm]: {n_voxels_width * bv_thickness}\")\n",
    "    print(f\"Number of voxels: {n_voxels_width}\")\n",
    "    print(f\"Number of vessels (per x/y-dimension, not total): {n_vessels}\")\n",
    "    print(f\"Resulting blood vessel area percentage: {cur_bv_area_percentage}\")\n",
    "else:\n",
    "    print(\"No value found\")"
   ]
  },
  {
   "cell_type": "code",
   "execution_count": 63,
   "metadata": {},
   "outputs": [],
   "source": [
    "cfg = {\n",
    "    \"nphoton\": 5e7, # higher spatial resolution needs more photons for same noise level\n",
    "    \"maxdetphoton\": 5e7,\n",
    "    \"tstart\":0,\n",
    "    \"tend\":5e-9,\n",
    "    \"tstep\":5e-9,\n",
    "    \"autopilot\": 1,\n",
    "    \"gpuid\": 1,\n",
    "    \"prop\": np.array([[0,0,1,1],[0,0,1,1],[0,0,1,1]]),\n",
    "    \"unitinmm\": bv_thickness,\n",
    "    \"bc\": \"ccrcca001000\",\n",
    "    \"isspecular\": 1, # should not have effect without 0-voxels\n",
    "    \"srcdir\": [0,0,1],\n",
    "    \"srctype\": \"planar\",\n",
    "    \"srcpos\": [0, 0, 0],\n",
    "    \"srcparam1\": [n_voxels_width, 0, 0, 0], # 3D position of vertex, fourth coordinate is irrelevant\n",
    "    \"srcparam2\": [0, n_voxels_width, 0, 0],\n",
    "    \"issrcfrom0\": 1,\n",
    "    \"savedetflag\": \"dpx\",\n",
    "    \"flog\": str(tissue_data_path) + \"/log.txt\"\n",
    "}\n",
    "\n",
    "\n",
    "cfg[\"vol\"] = np.ones((n_voxels_width, n_voxels_width, int((tissue_depth + detector_distance)  / bv_thickness)), dtype=\"uint8\")\n",
    "\n",
    "# first layer is grid of blood vessels\n",
    "bv_layer_z_idx = int(np.ceil(detector_distance/bv_thickness))\n",
    "spacing = int((n_voxels_width - n_vessels) / (n_vessels + 1))\n",
    "vessel_idxs = list(range(spacing, n_voxels_width, spacing + 1))\n",
    "bv_pattern = np.zeros((n_voxels_width, n_voxels_width), dtype=\"bool\")\n",
    "bv_pattern[vessel_idxs, :] = True\n",
    "bv_pattern[:, vessel_idxs] = True\n",
    "cfg[\"vol\"][:, :, bv_layer_z_idx:] = 1\n",
    "cfg[\"vol\"][bv_pattern, bv_layer_z_idx] = 2"
   ]
  },
  {
   "cell_type": "code",
   "execution_count": 64,
   "metadata": {},
   "outputs": [],
   "source": [
    "# Find photon (indices) which left bounding box above blood vessels\n",
    "def split_photon_idxs_by_pattern(detp, pattern):\n",
    "    photon_pos = np.floor(det[\"p\"][:, :2]).astype(int)\n",
    "    in_idxs, out_idxs = []\n",
    "    \n",
    "    for photon_id in range(detp[\"detid\"].shape[0]):\n",
    "        x, y = photon_pos[photon_id]\n",
    "        if bv_pattern[x, y]:\n",
    "            in_idxs.append(photon_id)\n",
    "        else:\n",
    "            out_idxs.append(photon_id)\n",
    "    \n",
    "    return in_idxs, out_idxs\n",
    "\n",
    "# compute weight and mean pathlength of these photons\n",
    "def compute_weight_idxs(detp, prop, unitinmm, idxs):\n",
    "    weight = np.ones(len(idxs))\n",
    "\n",
    "    for i in range(np.array(prop).shape[0]):\n",
    "        weight = weight * np.exp(-prop[i + 1, 0] * detp[\"ppath\"][idxs, i]) * unitinmm\n",
    "    \n",
    "    return weight\n",
    "\n",
    "def compute_meanpath_idxs(detp, prop, unitinmm, idxs):\n",
    "    weight = compute_weight_idxs(detp, prop, unitinmm, idxs)\n",
    "    avgpath = np.sum(\n",
    "        detp[\"ppath\"][idxs, :] * unitinmm * np.tile(weight, (detp[\"ppath\"].shape[1], 1)).T\n",
    "    ) / np.sum(weight)\n",
    "\n",
    "    return avgpath\n"
   ]
  },
  {
   "cell_type": "code",
   "execution_count": null,
   "metadata": {},
   "outputs": [],
   "source": [
    "# empty log file\n",
    "open(tissue_data_path / \"log.txt\", \"w\").close()\n",
    "\n",
    "bv_grid_mc_data = np.empty((len(wavelengths_sparse), 2), dtype=\"float\") # per wavelength: wavelength, pathlength (mm)\n",
    "gm_grid_mc_data = np.empty((len(wavelengths_sparse), 2), dtype=\"float\") # per wavelength: wavelength, pathlength (mm)\n",
    "\n",
    "for i, wl in enumerate(wavelengths_sparse):\n",
    "    print(f\"Simulating for {wl}nm...\")\n",
    "    mu_a_gm = mu_a_gm_matrix[wl - lower_wavelength]\n",
    "    mu_s_gm = mu_s_gm_func(wl)\n",
    "    mu_a_bv = mu_a_bv_matrix[wl - lower_wavelength]\n",
    "    mu_s_bv = mu_s_bv_func(wl)\n",
    "    cfg[\"prop\"][1] = np.array([mu_a_gm, mu_s_gm, g_gm, refractive_idx_gm])\n",
    "    cfg[\"prop\"][2] = np.array([mu_a_bv, mu_s_bv, g_bv, refractive_idx_bv])\n",
    "    \n",
    "    res = pmcx.mcxlab(cfg)\n",
    "\n",
    "    bv_photon_idxs, gm_photon_idxs = split_photon_idxs_by_pattern(res[\"detp\"], bv_pattern)\n",
    "    bv_meanpath = compute_meanpath_idxs(res[\"detp\"], cfg[\"prop\"], bv_thickness, bv_photon_idxs)\n",
    "    gm_meanpath = compute_meanpath_idxs(res[\"detp\"], cfg[\"prop\"], bv_thickness, gm_photon_idxs)\n",
    "\n",
    "    bv_grid_mc_data[i, :] = np.array([wl, bv_meanpath])\n",
    "    gm_grid_mc_data = np.array([wl, gm_meanpath])"
   ]
  }
 ],
 "metadata": {
  "kernelspec": {
   "display_name": "idp",
   "language": "python",
   "name": "python3"
  },
  "language_info": {
   "codemirror_mode": {
    "name": "ipython",
    "version": 3
   },
   "file_extension": ".py",
   "mimetype": "text/x-python",
   "name": "python",
   "nbconvert_exporter": "python",
   "pygments_lexer": "ipython3",
   "version": "3.11.9"
  }
 },
 "nbformat": 4,
 "nbformat_minor": 2
}
