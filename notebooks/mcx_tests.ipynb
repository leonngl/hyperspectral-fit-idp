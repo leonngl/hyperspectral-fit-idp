{
 "cells": [
  {
   "cell_type": "code",
   "execution_count": 1,
   "metadata": {},
   "outputs": [],
   "source": [
    "import numpy as np\n",
    "import pmcx\n",
    "from matplotlib import pyplot as plt"
   ]
  },
  {
   "cell_type": "code",
   "execution_count": 2,
   "metadata": {},
   "outputs": [
    {
     "data": {
      "text/plain": [
       "'v2024.6'"
      ]
     },
     "execution_count": 2,
     "metadata": {},
     "output_type": "execute_result"
    },
    {
     "name": "stdout",
     "output_type": "stream",
     "text": [
      "###############################################################################\n",
      "#                      Monte Carlo eXtreme (MCX) -- CUDA                      #\n",
      "#          Copyright (c) 2009-2024 Qianqian Fang <q.fang at neu.edu>          #\n",
      "#                https://mcx.space/  &  https://neurojson.io/                 #\n",
      "#                                                                             #\n",
      "# Computational Optics & Translational Imaging (COTI) Lab- http://fanglab.org #\n",
      "#   Department of Bioengineering, Northeastern University, Boston, MA, USA    #\n",
      "###############################################################################\n",
      "#    The MCX Project is funded by the NIH/NIGMS under grant R01-GM114365      #\n",
      "###############################################################################\n",
      "#  Open-source codes and reusable scientific data are essential for research, #\n",
      "# MCX proudly developed human-readable JSON-based data formats for easy reuse.#\n",
      "#                                                                             #\n",
      "#Please visit our free scientific data sharing portal at https://neurojson.io/#\n",
      "# and consider sharing your public datasets in standardized JSON/JData format #\n",
      "###############################################################################\n",
      "$Rev::d03375$v2024.6 $Date::2024-11-21 01:51:31 -05$ by $Author::Qianqian Fang$\n",
      "###############################################################################\n"
     ]
    }
   ],
   "source": [
    "pmcx.version()"
   ]
  },
  {
   "cell_type": "code",
   "execution_count": 3,
   "metadata": {},
   "outputs": [],
   "source": [
    "volume = np.ones((100, 100, 100), dtype=\"uint8\")"
   ]
  },
  {
   "cell_type": "code",
   "execution_count": 4,
   "metadata": {},
   "outputs": [],
   "source": [
    "cfg = {\n",
    "    \"nphoton\": 1e7,\n",
    "    \"maxdetphoton\": 1e7,\n",
    "    \"vol\": volume,\n",
    "    \"tstart\":0,\n",
    "    \"tend\":5e-9,\n",
    "    \"tstep\":5e-9,\n",
    "    \"autopilot\": 1,\n",
    "    \"gpuid\": 1,\n",
    "    \"prop\":[[0,0,1,1],[0.0005,10,0.85,1.36]],\n",
    "    \"bc\": \"ccrcca001000\",\n",
    "    \"isspecular\": 1, # should not have effect without 0-voxels\n",
    "    \"srcdir\": [0,0,1],\n",
    "    \"srctype\": \"planar\",\n",
    "    \"srcpos\": [0, 0, 0],\n",
    "    \"srcparam1\": [60, 0, 0, 0], # 3D position of vertex, fourth coordinate is irrelevant\n",
    "    \"srcparam2\": [0, 60, 0, 0],\n",
    "    \"issrcfrom0\": 1,\n",
    "    \"savedetflag\": \"dpx\",\n",
    "}"
   ]
  },
  {
   "cell_type": "code",
   "execution_count": 5,
   "metadata": {},
   "outputs": [
    {
     "name": "stdout",
     "output_type": "stream",
     "text": [
      "nphoton: 1e+07\n",
      "tstart: 0\n",
      "tstep: 5e-09\n",
      "tend: 5e-09\n",
      "maxdetphoton: 1e+07\n",
      "issrcfrom0: 1\n",
      "autopilot: 1\n",
      "isspecular: 1\n"
     ]
    },
    {
     "name": "stderr",
     "output_type": "stream",
     "text": [
      "###############################################################################\n",
      "#                      Monte Carlo eXtreme (MCX) -- CUDA                      #\n",
      "#          Copyright (c) 2009-2024 Qianqian Fang <q.fang at neu.edu>          #\n",
      "#                https://mcx.space/  &  https://neurojson.io/                 #\n",
      "#                                                                             #\n",
      "# Computational Optics & Translational Imaging (COTI) Lab- http://fanglab.org #\n",
      "#   Department of Bioengineering, Northeastern University, Boston, MA, USA    #\n",
      "###############################################################################\n",
      "#    The MCX Project is funded by the NIH/NIGMS under grant R01-GM114365      #\n",
      "###############################################################################\n",
      "#  Open-source codes and reusable scientific data are essential for research, #\n",
      "# MCX proudly developed human-readable JSON-based data formats for easy reuse.#\n",
      "#                                                                             #\n",
      "#Please visit our free scientific data sharing portal at https://neurojson.io/#\n",
      "# and consider sharing your public datasets in standardized JSON/JData format #\n",
      "###############################################################################\n",
      "$Rev::d03375$v2024.6 $Date::2024-11-21 01:51:31 -05$ by $Author::Qianqian Fang$\n",
      "###############################################################################\n",
      "- code name: [Fermi MCX] compiled by nvcc [9.2] for CUDA-arch [350] on [Nov 21 2024]\n",
      "- compiled with: RNG [xorshift128+] with Seed Length [4]\n",
      "\n",
      "GPU=1 (NVIDIA GeForce GTX 1050) threadph=976 extra=5760 np=10000000 nthread=10240 maxgate=1 repetition=1\n",
      "initializing streams ...\tinit complete : 0 ms\n",
      "requesting 1536 bytes of shared memory\n",
      "launching MCX simulation for time window [0.00e+00ns 5.00e+00ns] ...\n",
      "simulation run# 1 ... \n",
      "kernel complete:  \t14965 ms\n",
      "retrieving fields ... \tdetected 9334817 photons, total: 9334817\ttransfer complete:\t15322 ms\n",
      "normalizing raw data ...\tsource 1, normalization factor alpha=20.000000\n",
      "data normalization complete : 15345 ms\n",
      "simulated 10000000 photons (10000000) with 10240 threads (repeat x1)\n",
      "MCX simulation speed: 668.49 photon/ms\n",
      "total simulated energy: 10000000.00\tabsorbed: 5.73213%\n",
      "(loss due to initial specular reflection is excluded in the total)\n"
     ]
    }
   ],
   "source": [
    "res = pmcx.mcxlab(cfg)"
   ]
  },
  {
   "cell_type": "markdown",
   "metadata": {},
   "source": [
    "Save and plot diffuse reflectance"
   ]
  },
  {
   "cell_type": "code",
   "execution_count": 6,
   "metadata": {},
   "outputs": [
    {
     "data": {
      "text/plain": [
       "dict_keys(['detp', 'flux', 'stat'])"
      ]
     },
     "execution_count": 6,
     "metadata": {},
     "output_type": "execute_result"
    }
   ],
   "source": [
    "res.keys()"
   ]
  },
  {
   "cell_type": "code",
   "execution_count": 7,
   "metadata": {},
   "outputs": [
    {
     "ename": "NameError",
     "evalue": "name 'd_ref' is not defined",
     "output_type": "error",
     "traceback": [
      "\u001b[0;31m---------------------------------------------------------------------------\u001b[0m",
      "\u001b[0;31mNameError\u001b[0m                                 Traceback (most recent call last)",
      "Cell \u001b[0;32mIn[7], line 2\u001b[0m\n\u001b[1;32m      1\u001b[0m \u001b[38;5;66;03m#plt.imshow(np.log10(res[\"dref\"][:, :, 0]))\u001b[39;00m\n\u001b[0;32m----> 2\u001b[0m plt\u001b[38;5;241m.\u001b[39mimshow(d_ref)\n\u001b[1;32m      3\u001b[0m plt\u001b[38;5;241m.\u001b[39mcolorbar()\n\u001b[1;32m      4\u001b[0m plt\u001b[38;5;241m.\u001b[39mshow()\n",
      "\u001b[0;31mNameError\u001b[0m: name 'd_ref' is not defined"
     ]
    }
   ],
   "source": [
    "#plt.imshow(np.log10(res[\"dref\"][:, :, 0]))\n",
    "plt.imshow(d_ref)\n",
    "plt.colorbar()\n",
    "plt.show()"
   ]
  },
  {
   "cell_type": "markdown",
   "metadata": {},
   "source": [
    "Save and plot pathlength"
   ]
  },
  {
   "cell_type": "code",
   "execution_count": 29,
   "metadata": {},
   "outputs": [
    {
     "data": {
      "text/plain": [
       "array([58.51356259])"
      ]
     },
     "execution_count": 29,
     "metadata": {},
     "output_type": "execute_result"
    }
   ],
   "source": [
    "pmcx.utils.meanpath(res[\"detp\"])"
   ]
  },
  {
   "cell_type": "code",
   "execution_count": null,
   "metadata": {},
   "outputs": [
    {
     "name": "stdout",
     "output_type": "stream",
     "text": [
      "68.80853\n"
     ]
    },
    {
     "data": {
      "image/png": "[encoded data removed]",
      "text/plain": [
       "<Figure size 640x480 with 1 Axes>"
      ]
     },
     "metadata": {},
     "output_type": "display_data"
    }
   ],
   "source": [
    "print(np.mean(res[\"detp\"][\"ppath\"][:, 0]))\n",
    "plt.hist(res['detp']['ppath'][:,0], bins=200, range=[0,100]);"
   ]
  },
  {
   "cell_type": "code",
   "execution_count": 85,
   "metadata": {},
   "outputs": [
    {
     "data": {
      "text/plain": [
       "array([0.99991161, 0.99999207, 0.99998212, ..., 0.99977398, 0.99891865,\n",
       "       0.65858662])"
      ]
     },
     "execution_count": 85,
     "metadata": {},
     "output_type": "execute_result"
    }
   ],
   "source": [
    "pmcx.utils.detweight(res[\"detp\"])"
   ]
  },
  {
   "cell_type": "code",
   "execution_count": null,
   "metadata": {},
   "outputs": [],
   "source": [
    "pmcx.utils.meanpath(res[\"detp\"])"
   ]
  },
  {
   "cell_type": "code",
   "execution_count": 88,
   "metadata": {},
   "outputs": [
    {
     "data": {
      "text/plain": [
       "(9334702,)"
      ]
     },
     "execution_count": 88,
     "metadata": {},
     "output_type": "execute_result"
    }
   ],
   "source": [
    "res[\"detp\"][\"detid\"].shape"
   ]
  },
  {
   "cell_type": "code",
   "execution_count": 90,
   "metadata": {},
   "outputs": [
    {
     "ename": "IndexError",
     "evalue": "index -2 is out of bounds for axis 0 with size 1",
     "output_type": "error",
     "traceback": [
      "\u001b[0;31m---------------------------------------------------------------------------\u001b[0m",
      "\u001b[0;31mIndexError\u001b[0m                                Traceback (most recent call last)",
      "Cell \u001b[0;32mIn[90], line 1\u001b[0m\n\u001b[0;32m----> 1\u001b[0m pmcx\u001b[38;5;241m.\u001b[39mutils\u001b[38;5;241m.\u001b[39mcwdref(res[\u001b[38;5;124m\"\u001b[39m\u001b[38;5;124mdetp\u001b[39m\u001b[38;5;124m\"\u001b[39m], cfg)\n",
      "File \u001b[0;32m~/anaconda3/envs/idp/lib/python3.11/site-packages/pmcx/utils.py:59\u001b[0m, in \u001b[0;36mcwdref\u001b[0;34m(detp, cfg)\u001b[0m\n\u001b[1;32m     57\u001b[0m \u001b[38;5;28;01mfor\u001b[39;00m i \u001b[38;5;129;01min\u001b[39;00m \u001b[38;5;28mrange\u001b[39m(\u001b[38;5;28mlen\u001b[39m(detp[\u001b[38;5;124m\"\u001b[39m\u001b[38;5;124mdetid\u001b[39m\u001b[38;5;124m\"\u001b[39m])):\n\u001b[1;32m     58\u001b[0m     index \u001b[38;5;241m=\u001b[39m \u001b[38;5;28mint\u001b[39m(detp[\u001b[38;5;124m\"\u001b[39m\u001b[38;5;124mdetid\u001b[39m\u001b[38;5;124m\"\u001b[39m][i]) \u001b[38;5;241m-\u001b[39m \u001b[38;5;241m1\u001b[39m\n\u001b[0;32m---> 59\u001b[0m     detweightsum[index] \u001b[38;5;241m+\u001b[39m\u001b[38;5;241m=\u001b[39m det_weight[i]\n\u001b[1;32m     61\u001b[0m area \u001b[38;5;241m=\u001b[39m np\u001b[38;5;241m.\u001b[39mpi \u001b[38;5;241m*\u001b[39m (cfg[\u001b[38;5;124m\"\u001b[39m\u001b[38;5;124mdetpos\u001b[39m\u001b[38;5;124m\"\u001b[39m][:, \u001b[38;5;241m3\u001b[39m] \u001b[38;5;241m*\u001b[39m unitinmm) \u001b[38;5;241m*\u001b[39m\u001b[38;5;241m*\u001b[39m \u001b[38;5;241m2\u001b[39m\n\u001b[1;32m     62\u001b[0m dref \u001b[38;5;241m=\u001b[39m detweightsum \u001b[38;5;241m/\u001b[39m area \u001b[38;5;241m/\u001b[39m cfg[\u001b[38;5;124m\"\u001b[39m\u001b[38;5;124mnphoton\u001b[39m\u001b[38;5;124m\"\u001b[39m]\n",
      "\u001b[0;31mIndexError\u001b[0m: index -2 is out of bounds for axis 0 with size 1"
     ]
    }
   ],
   "source": [
    "pmcx.utils.cwdref(res[\"detp\"], cfg)"
   ]
  },
  {
   "cell_type": "markdown",
   "metadata": {},
   "source": [
    "Compute Diffuse Reflectance (per Voxel)\n",
    "- "
   ]
  },
  {
   "cell_type": "code",
   "execution_count": null,
   "metadata": {},
   "outputs": [
    {
     "data": {
      "text/plain": [
       "59.999992"
      ]
     },
     "execution_count": 97,
     "metadata": {},
     "output_type": "execute_result"
    }
   ],
   "source": [
    "res[\"detp\"][\"p\"]"
   ]
  },
  {
   "cell_type": "code",
   "execution_count": 116,
   "metadata": {},
   "outputs": [],
   "source": [
    "d_ref = np.zeros(cfg[\"vol\"].shape[:2])\n",
    "\n",
    "phot_pos = np.floor(res[\"detp\"][\"p\"][:, :2]).astype(int)\n",
    "\n",
    "for phot_idx in range(res[\"detp\"][\"detid\"].shape[0]):\n",
    "    x,y = phot_pos[phot_idx]\n",
    "    d_ref[x, y] += detw[phot_idx]\n",
    "\n",
    "d_ref /= (cfg[\"nphoton\"] / np.prod(cfg[\"vol\"].shape[:2]))"
   ]
  },
  {
   "cell_type": "code",
   "execution_count": 112,
   "metadata": {},
   "outputs": [
    {
     "data": {
      "text/plain": [
       "(9334702,)"
      ]
     },
     "execution_count": 112,
     "metadata": {},
     "output_type": "execute_result"
    }
   ],
   "source": [
    "res[\"detp\"][\"detid\"].shape"
   ]
  },
  {
   "cell_type": "code",
   "execution_count": 105,
   "metadata": {},
   "outputs": [
    {
     "data": {
      "text/plain": [
       "2"
      ]
     },
     "execution_count": 105,
     "metadata": {},
     "output_type": "execute_result"
    }
   ],
   "source": [
    "np.prod((1, 2))"
   ]
  },
  {
   "cell_type": "code",
   "execution_count": 115,
   "metadata": {},
   "outputs": [
    {
     "data": {
      "text/plain": [
       "(60, 60)"
      ]
     },
     "execution_count": 115,
     "metadata": {},
     "output_type": "execute_result"
    }
   ],
   "source": [
    "d_ref.shape"
   ]
  },
  {
   "cell_type": "code",
   "execution_count": null,
   "metadata": {},
   "outputs": [],
   "source": []
  },
  {
   "cell_type": "markdown",
   "metadata": {},
   "source": [
    "### Compare diffuse reflectance compute from weights and returned by MCX"
   ]
  },
  {
   "cell_type": "code",
   "execution_count": 1,
   "metadata": {},
   "outputs": [],
   "source": [
    "import numpy as np\n",
    "import pmcx\n",
    "from matplotlib import pyplot as plt"
   ]
  },
  {
   "cell_type": "markdown",
   "metadata": {},
   "source": [
    "From weights..."
   ]
  },
  {
   "cell_type": "code",
   "execution_count": 25,
   "metadata": {},
   "outputs": [],
   "source": [
    "volume = np.ones((60, 60, 60), dtype=\"uint8\")\n",
    "\n",
    "cfg = {\n",
    "    \"nphoton\": 1e7,\n",
    "    \"maxdetphoton\": 1e7,\n",
    "    \"vol\": volume,\n",
    "    \"tstart\":0,\n",
    "    \"tend\":5e-9,\n",
    "    \"tstep\":5e-9,\n",
    "    \"autopilot\": 1,\n",
    "    \"gpuid\": 1,\n",
    "    \"prop\":[[0,0,1,1],[3.6,24,0.85,1.38]],\n",
    "    \"bc\": \"ccrcca001000\",\n",
    "    #\"isspecular\": 1, # should not have effect without 0-voxels\n",
    "    \"srcdir\": [0,0,1],\n",
    "    \"srctype\": \"planar\",\n",
    "    \"srcpos\": [0, 0, 0],\n",
    "    \"srcparam1\": [60, 0, 0, 0], # 3D position of vertex, fourth coordinate is irrelevant\n",
    "    \"srcparam2\": [0, 60, 0, 0],\n",
    "    \"savedetflag\": \"dpx\",\n",
    "    \"issrcfrom0\": 1,\n",
    "    \"isnormalized\": 0\n",
    "}"
   ]
  },
  {
   "cell_type": "code",
   "execution_count": 26,
   "metadata": {},
   "outputs": [
    {
     "name": "stdout",
     "output_type": "stream",
     "text": [
      "nphoton: 1e+07\n",
      "tstart: 0\n",
      "tstep: 5e-09\n",
      "tend: 5e-09\n",
      "maxdetphoton: 1e+07\n",
      "isnormalized: 0\n",
      "issrcfrom0: 1\n",
      "autopilot: 1\n"
     ]
    },
    {
     "name": "stderr",
     "output_type": "stream",
     "text": [
      "###############################################################################\n",
      "#                      Monte Carlo eXtreme (MCX) -- CUDA                      #\n",
      "#          Copyright (c) 2009-2024 Qianqian Fang <q.fang at neu.edu>          #\n",
      "#                https://mcx.space/  &  https://neurojson.io/                 #\n",
      "#                                                                             #\n",
      "# Computational Optics & Translational Imaging (COTI) Lab- http://fanglab.org #\n",
      "#   Department of Bioengineering, Northeastern University, Boston, MA, USA    #\n",
      "###############################################################################\n",
      "#    The MCX Project is funded by the NIH/NIGMS under grant R01-GM114365      #\n",
      "###############################################################################\n",
      "#  Open-source codes and reusable scientific data are essential for research, #\n",
      "# MCX proudly developed human-readable JSON-based data formats for easy reuse.#\n",
      "#                                                                             #\n",
      "#Please visit our free scientific data sharing portal at https://neurojson.io/#\n",
      "# and consider sharing your public datasets in standardized JSON/JData format #\n",
      "###############################################################################\n",
      "$Rev::d03375$v2024.6 $Date::2024-11-21 01:51:31 -05$ by $Author::Qianqian Fang$\n",
      "###############################################################################\n",
      "- code name: [Fermi MCX] compiled by nvcc [9.2] for CUDA-arch [350] on [Nov 21 2024]\n",
      "- compiled with: RNG [xorshift128+] with Seed Length [4]\n",
      "\n",
      "GPU=1 (NVIDIA GeForce GTX 1050) threadph=976 extra=5760 np=10000000 nthread=10240 maxgate=1 repetition=1\n",
      "initializing streams ...\tinit complete : 0 ms\n",
      "requesting 1536 bytes of shared memory\n",
      "launching MCX simulation for time window [0.00e+00ns 5.00e+00ns] ...\n",
      "simulation run# 1 ... \n",
      "kernel complete:  \t35993 ms\n",
      "retrieving fields ... \tdetected 9789132 photons, total: 9789132\ttransfer complete:\t36354 ms\n",
      "simulated 10000000 photons (10000000) with 10240 threads (repeat x1)\n",
      "MCX simulation speed: 277.86 photon/ms\n",
      "total simulated energy: 10000000.00\tabsorbed: 1.91519%\n",
      "(loss due to initial specular reflection is excluded in the total)\n"
     ]
    }
   ],
   "source": [
    "res = pmcx.mcxlab(cfg)"
   ]
  },
  {
   "cell_type": "code",
   "execution_count": 27,
   "metadata": {},
   "outputs": [
    {
     "data": {
      "text/plain": [
       "dict_keys(['detp', 'flux', 'stat'])"
      ]
     },
     "execution_count": 27,
     "metadata": {},
     "output_type": "execute_result"
    }
   ],
   "source": [
    "res.keys()"
   ]
  },
  {
   "cell_type": "code",
   "execution_count": 28,
   "metadata": {},
   "outputs": [],
   "source": [
    "photon_weight = pmcx.utils.detweight(res[\"detp\"])\n"
   ]
  },
  {
   "cell_type": "code",
   "execution_count": 6,
   "metadata": {},
   "outputs": [
    {
     "name": "stdout",
     "output_type": "stream",
     "text": [
      "0.00025120287677027944\n"
     ]
    }
   ],
   "source": [
    "photon_weight = pmcx.utils.detweight(res[\"detp\"])\n",
    "dref = np.sum(photon_weight) / np.prod(cfg[\"vol\"].shape[:2]) / cfg[\"nphoton\"]\n",
    "print(dref)"
   ]
  },
  {
   "cell_type": "code",
   "execution_count": 29,
   "metadata": {},
   "outputs": [
    {
     "data": {
      "text/plain": [
       "0.9687288668268561"
      ]
     },
     "execution_count": 29,
     "metadata": {},
     "output_type": "execute_result"
    }
   ],
   "source": [
    "np.sum(photon_weight) / 1e7"
   ]
  },
  {
   "cell_type": "markdown",
   "metadata": {},
   "source": [
    "From MCMX output..."
   ]
  },
  {
   "cell_type": "code",
   "execution_count": 30,
   "metadata": {},
   "outputs": [
    {
     "name": "stdout",
     "output_type": "stream",
     "text": [
      "nphoton: 1e+07\n",
      "tstart: 0\n",
      "tstep: 5e-09\n",
      "tend: 5e-09\n",
      "maxdetphoton: 1e+07\n",
      "isnormalized: 0\n",
      "issrcfrom0: 0\n",
      "autopilot: 1\n",
      "issaveref: 1\n"
     ]
    },
    {
     "name": "stderr",
     "output_type": "stream",
     "text": [
      "###############################################################################\n",
      "#                      Monte Carlo eXtreme (MCX) -- CUDA                      #\n",
      "#          Copyright (c) 2009-2024 Qianqian Fang <q.fang at neu.edu>          #\n",
      "#                https://mcx.space/  &  https://neurojson.io/                 #\n",
      "#                                                                             #\n",
      "# Computational Optics & Translational Imaging (COTI) Lab- http://fanglab.org #\n",
      "#   Department of Bioengineering, Northeastern University, Boston, MA, USA    #\n",
      "###############################################################################\n",
      "#    The MCX Project is funded by the NIH/NIGMS under grant R01-GM114365      #\n",
      "###############################################################################\n",
      "#  Open-source codes and reusable scientific data are essential for research, #\n",
      "# MCX proudly developed human-readable JSON-based data formats for easy reuse.#\n",
      "#                                                                             #\n",
      "#Please visit our free scientific data sharing portal at https://neurojson.io/#\n",
      "# and consider sharing your public datasets in standardized JSON/JData format #\n",
      "###############################################################################\n",
      "$Rev::d03375$v2024.6 $Date::2024-11-21 01:51:31 -05$ by $Author::Qianqian Fang$\n",
      "###############################################################################\n",
      "- code name: [Fermi MCX] compiled by nvcc [9.2] for CUDA-arch [350] on [Nov 21 2024]\n",
      "- compiled with: RNG [xorshift128+] with Seed Length [4]\n",
      "\n",
      "GPU=1 (NVIDIA GeForce GTX 1050) threadph=976 extra=5760 np=10000000 nthread=10240 maxgate=1 repetition=1\n",
      "initializing streams ...\tinit complete : 0 ms\n",
      "requesting 1280 bytes of shared memory\n",
      "launching MCX simulation for time window [0.00e+00ns 5.00e+00ns] ...\n",
      "simulation run# 1 ... \n",
      "kernel complete:  \t34256 ms\n",
      "retrieving fields ... \ttransfer complete:\t34257 ms\n",
      "simulated 10000000 photons (10000000) with 10240 threads (repeat x1)\n",
      "MCX simulation speed: 291.95 photon/ms\n",
      "total simulated energy: 10000000.00\tabsorbed: 1.91567%\n",
      "(loss due to initial specular reflection is excluded in the total)\n"
     ]
    }
   ],
   "source": [
    "cfg[\"issrcfrom0\"] = 0\n",
    "cfg[\"vol\"][:, :, 0] = 0\n",
    "cfg[\"bc\"] = \"ccrcca\" # No longer need detector\n",
    "cfg[\"issaveref\"] = 1\n",
    "\n",
    "res = pmcx.mcxlab(cfg)"
   ]
  },
  {
   "cell_type": "code",
   "execution_count": 31,
   "metadata": {},
   "outputs": [
    {
     "data": {
      "text/plain": [
       "dict_keys(['dref', 'flux', 'stat'])"
      ]
     },
     "execution_count": 31,
     "metadata": {},
     "output_type": "execute_result"
    }
   ],
   "source": [
    "res.keys()"
   ]
  },
  {
   "cell_type": "code",
   "execution_count": 32,
   "metadata": {},
   "outputs": [
    {
     "data": {
      "text/plain": [
       "(60, 60)"
      ]
     },
     "execution_count": 32,
     "metadata": {},
     "output_type": "execute_result"
    }
   ],
   "source": [
    "res[\"dref\"][:, :, 0, 0].shape"
   ]
  },
  {
   "cell_type": "code",
   "execution_count": 32,
   "metadata": {},
   "outputs": [
    {
     "data": {
      "text/plain": [
       "0.0002690730555555556"
      ]
     },
     "execution_count": 32,
     "metadata": {},
     "output_type": "execute_result"
    }
   ],
   "source": [
    "np.sum(res[\"dref\"][:, :, 0, 0]) / cfg[\"nphoton\"] / np.prod(cfg[\"vol\"].shape[:2])"
   ]
  },
  {
   "cell_type": "code",
   "execution_count": 34,
   "metadata": {},
   "outputs": [
    {
     "data": {
      "text/plain": [
       "0.0002512004"
      ]
     },
     "execution_count": 34,
     "metadata": {},
     "output_type": "execute_result"
    }
   ],
   "source": [
    "np.mean(res[\"dref\"][:, :, 0, 0] / cfg[\"nphoton\"] / 1)"
   ]
  },
  {
   "cell_type": "code",
   "execution_count": 33,
   "metadata": {},
   "outputs": [
    {
     "data": {
      "text/plain": [
       "0.968663"
      ]
     },
     "execution_count": 33,
     "metadata": {},
     "output_type": "execute_result"
    }
   ],
   "source": [
    "np.sum(res[\"dref\"][:, :, 0, :]) / cfg[\"nphoton\"]"
   ]
  },
  {
   "cell_type": "markdown",
   "metadata": {},
   "source": [
    "**-> Use isnormalized = 0 (or 2)**"
   ]
  },
  {
   "cell_type": "code",
   "execution_count": 36,
   "metadata": {},
   "outputs": [
    {
     "data": {
      "text/plain": [
       "19.99980280717233"
      ]
     },
     "execution_count": 36,
     "metadata": {},
     "output_type": "execute_result"
    }
   ],
   "source": [
    "dref2 / dref"
   ]
  },
  {
   "cell_type": "code",
   "execution_count": null,
   "metadata": {},
   "outputs": [],
   "source": []
  }
 ],
 "metadata": {
  "kernelspec": {
   "display_name": "idp",
   "language": "python",
   "name": "python3"
  },
  "language_info": {
   "codemirror_mode": {
    "name": "ipython",
    "version": 3
   },
   "file_extension": ".py",
   "mimetype": "text/x-python",
   "name": "python",
   "nbconvert_exporter": "python",
   "pygments_lexer": "ipython3",
   "version": "3.11.9"
  }
 },
 "nbformat": 4,
 "nbformat_minor": 2
}
