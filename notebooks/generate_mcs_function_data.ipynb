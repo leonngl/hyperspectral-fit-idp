{
 "cells": [
  {
   "cell_type": "code",
   "execution_count": null,
   "metadata": {},
   "outputs": [],
   "source": [
    "%load_ext autoreload\n",
    "%autoreload 2"
   ]
  },
  {
   "cell_type": "code",
   "execution_count": null,
   "metadata": {},
   "outputs": [],
   "source": [
    "import os\n",
    "import sys\n",
    "from pathlib import Path\n",
    "sys.path.insert(1, str(Path(os.getcwd()).parent / \"src\"))"
   ]
  },
  {
   "cell_type": "code",
   "execution_count": null,
   "metadata": {},
   "outputs": [],
   "source": [
    "import numpy as np\n",
    "import data_loader\n",
    "import config\n",
    "import pmcx\n",
    "from matplotlib import pyplot as plt\n",
    "from mcs_function import SimulationAttenuation\n",
    "from plotting import *\n",
    "import time"
   ]
  },
  {
   "cell_type": "code",
   "execution_count": null,
   "metadata": {},
   "outputs": [],
   "source": [
    "pmcx.gpuinfo()"
   ]
  },
  {
   "cell_type": "code",
   "execution_count": null,
   "metadata": {},
   "outputs": [],
   "source": [
    "config.gpuid"
   ]
  },
  {
   "cell_type": "code",
   "execution_count": null,
   "metadata": {},
   "outputs": [],
   "source": [
    "config.mcs_func_path"
   ]
  },
  {
   "cell_type": "code",
   "execution_count": null,
   "metadata": {},
   "outputs": [],
   "source": [
    "mu_s_bounds = np.concatenate((\n",
    "    data_loader.DataLoader.mu_s_red_func_gray_matter(np.array([450, 1000])) / (1-0.85),\n",
    "    data_loader.DataLoader.mu_s_red_func_blood_vessel(np.array([450, 1000])) / (1-0.935)\n",
    "))\n",
    "print(mu_s_bounds)"
   ]
  },
  {
   "cell_type": "code",
   "execution_count": null,
   "metadata": {},
   "outputs": [],
   "source": [
    "mu_s_vals = np.linspace(10, 500, 30)\n",
    "print(mu_s_vals)"
   ]
  },
  {
   "cell_type": "code",
   "execution_count": null,
   "metadata": {},
   "outputs": [],
   "source": [
    "g_combined = 0.8675\n",
    "refractive_index_combined = 1.38"
   ]
  },
  {
   "cell_type": "code",
   "execution_count": null,
   "metadata": {},
   "outputs": [],
   "source": [
    "# very deep tissue necessary, since no absorption allows photons to go deep into tissue\n",
    "# for faster and statiscally better results, increasy voxel size\n",
    "vol = np.ones((50, 50, 1000))\n",
    "prop = np.array([[0, 0, 1, 1], [0, 0, g_combined, refractive_index_combined]])\n",
    "unitinmm = 10\n",
    "\n",
    "cfg = {\n",
    "    \"nphoton\": 5e4, # keep nphotons relatively low, to limit memory of stored data\n",
    "    \"maxdetphoton\": 5e4,\n",
    "    \"unitinmm\": unitinmm,\n",
    "    \"vol\": vol,\n",
    "    \"tstart\":0,\n",
    "    \"tend\":5e-7,\n",
    "    \"tstep\":5e-7,\n",
    "    \"autopilot\": 1,\n",
    "    \"gpuid\": config.gpuid,\n",
    "    \"prop\":prop,\n",
    "    \"bc\": \"ccrcca001000\", # mark z=0 plane as detector\n",
    "    \"srcdir\": [0,0,1],\n",
    "    \"srctype\": \"planar\",\n",
    "    \"srcpos\": [0, 0, 0],\n",
    "    \"srcparam1\": [vol.shape[0], 0, 0, 0], # 3D position of vertex, fourth coordinate is irrelevant\n",
    "    \"srcparam2\": [0, vol.shape[1], 0, 0],\n",
    "    \"issrcfrom0\": 1,\n",
    "    \"savedetflag\": \"dps\", # detector id, path length, scatter count\n",
    "    \"flog\": config.mcs_func_path / \"log.txt\",\n",
    "}"
   ]
  },
  {
   "cell_type": "code",
   "execution_count": null,
   "metadata": {},
   "outputs": [],
   "source": [
    "function_data = []\n",
    "function_data.append(cfg[\"nphoton\"])\n",
    "function_data.append(cfg[\"prop\"][1, 2])\n",
    "function_data.append(mu_s_vals)"
   ]
  },
  {
   "cell_type": "code",
   "execution_count": null,
   "metadata": {
    "scrolled": true
   },
   "outputs": [],
   "source": [
    "for i, mu_s in enumerate(mu_s_vals):\n",
    "    cfg[\"prop\"][1, 1] = mu_s / 10 # mu_s_vals are stored in cm^-1\n",
    "    cfg[\"prop\"][1, 0] = 0\n",
    "    cfg[\"prop\"][1, 2] = g_combined\n",
    "    cfg[\"prop\"][1, 3] = refractive_index_combined\n",
    "    print(f\"Iteration {i}/{len(mu_s_vals)}\")\n",
    "    res = pmcx.mcxlab(cfg)\n",
    "    cur_photon_data = np.row_stack(\n",
    "        (\n",
    "            res[\"detp\"][\"ppath\"][:, 0] * cfg[\"unitinmm\"] / 10, # store pathlength in cm. pathlengths are stored in \"unitinmm\"\n",
    "            res[\"detp\"][\"nscat\"][:, 0]\n",
    "        )\n",
    "    )\n",
    "    print(f\"Mean path length: {pmcx.utils.meanpath(res['detp'])}\")\n",
    "    function_data.append(cur_photon_data)\n",
    "\n",
    "np.savez(config.mcs_func_path, *function_data)"
   ]
  },
  {
   "cell_type": "markdown",
   "metadata": {},
   "source": [
    "Load Data and plot for some mu_a values"
   ]
  },
  {
   "cell_type": "code",
   "execution_count": null,
   "metadata": {},
   "outputs": [],
   "source": [
    "function_data_loaded = np.load(config.mcs_func_path)\n",
    "nphoton = function_data_loaded[\"arr_0\"]\n",
    "g = function_data_loaded[\"arr_1\"]\n",
    "mu_s_vals = function_data_loaded[\"arr_2\"]"
   ]
  },
  {
   "cell_type": "code",
   "execution_count": null,
   "metadata": {},
   "outputs": [],
   "source": [
    "mu_a_bounds = np.concatenate((\n",
    "    data_loader.DataLoader.mu_a_func_gray_matter(np.array([450, 999])),\n",
    "    data_loader.DataLoader.mu_a_func_blood_vessel(np.array([450, 999])) \n",
    "))\n",
    "print(mu_a_bounds)\n",
    "mu_a_samples = np.linspace(np.min(mu_a_bounds) * 0.75, np.max(mu_a_bounds) * 1.25, 5)"
   ]
  },
  {
   "cell_type": "code",
   "execution_count": null,
   "metadata": {},
   "outputs": [],
   "source": [
    "for mu_a in mu_a_samples:\n",
    "    attenuation_per_mu_a = []\n",
    "    for i, mu_s in enumerate(mu_s_vals):\n",
    "        photon_data = function_data_loaded[f\"arr_{i + 3}\"]\n",
    "        photon_ppath = photon_data[0, :]\n",
    "        #photon_nscat = photon_data[1, :]\n",
    "        photon_weights = np.exp(-mu_a * photon_ppath)\n",
    "        attenuation = -np.log(np.sum(photon_weights) / nphoton)\n",
    "        attenuation_per_mu_a.append(attenuation)\n",
    "\n",
    "    plt.scatter(mu_s_vals, attenuation_per_mu_a, label=f\"mu_a={mu_a}\")\n",
    "plt.legend()\n",
    "plt.xlabel(\"mu_s\")\n",
    "plt.ylabel(\"Attenuation\")\n"
   ]
  },
  {
   "cell_type": "markdown",
   "metadata": {},
   "source": [
    "Same plot but with randomly sampled, then interpolated values for mu_s..."
   ]
  },
  {
   "cell_type": "code",
   "execution_count": null,
   "metadata": {},
   "outputs": [],
   "source": [
    "mcs_obj = SimulationAttenuation(config.mcs_func_path)"
   ]
  },
  {
   "cell_type": "code",
   "execution_count": null,
   "metadata": {},
   "outputs": [],
   "source": [
    "for mu_a in mu_a_samples:\n",
    "    attenuation_per_mu_a = []\n",
    "    for i, mu_s in enumerate(mu_s_vals):\n",
    "        photon_data = function_data_loaded[f\"arr_{i + 3}\"]\n",
    "        photon_ppath = photon_data[0, :]\n",
    "        #photon_nscat = photon_data[1, :]\n",
    "        photon_weights = np.exp(-mu_a * photon_ppath)\n",
    "        attenuation = -np.log(np.sum(photon_weights) / nphoton)\n",
    "        attenuation_per_mu_a.append(attenuation)\n",
    "    \n",
    "    p = plt.scatter(mu_s_vals, attenuation_per_mu_a, label=f\"mu_a={mu_a}\")\n",
    "\n",
    "    mu_s_vals_sampled = np.random.rand(10) * (mu_s_vals[-1] - mu_s_vals[0]) * 1.25 + mu_s_vals[0]\n",
    "    attenuation_interpolated =  mcs_obj.A(mu_a, mu_s_vals_sampled)\n",
    "    plt.scatter(mu_s_vals_sampled, attenuation_interpolated, marker=\"x\", color=p.get_facecolor()[0])\n",
    "\n",
    "    \n",
    "plt.legend()\n",
    "plt.xlabel(\"mu_s\")\n",
    "plt.ylabel(\"Attenuation\")"
   ]
  },
  {
   "cell_type": "markdown",
   "metadata": {},
   "source": [
    "Sampe graph, but compare with attenuation based on perturbation Monte Carlo method, with mean mu_a, mu_s values as baseline.\n",
    "This barely works because of overflows."
   ]
  },
  {
   "cell_type": "code",
   "execution_count": null,
   "metadata": {},
   "outputs": [],
   "source": [
    "mu_a_baseline = mu_a_samples[len(mu_a_samples)//2]\n",
    "mu_s_baseline = mu_s_vals[-1]\n",
    "photon_ppath_baseline, photon_nscat_baseline = function_data_loaded[f\"arr_{2 + len(mu_s_vals) - 1}\"][:, :]\n",
    "weights_baseline = np.exp(-mu_a_baseline * photon_ppath_baseline)"
   ]
  },
  {
   "cell_type": "code",
   "execution_count": null,
   "metadata": {},
   "outputs": [],
   "source": [
    "np.max(photon_ppath_baseline)"
   ]
  },
  {
   "cell_type": "code",
   "execution_count": null,
   "metadata": {},
   "outputs": [],
   "source": [
    "for mu_a in mu_a_samples:\n",
    "    attenuation_per_mu_a = []\n",
    "    attenuation_per_mu_a_perturbed = []\n",
    "    for i, mu_s in enumerate(mu_s_vals):\n",
    "        photon_data = function_data_loaded[f\"arr_{i + 3}\"]\n",
    "        photon_ppath = photon_data[0, :]\n",
    "        #photon_nscat = photon_data[1, :]\n",
    "        photon_weights = np.exp(-mu_a * photon_ppath)\n",
    "        attenuation = -np.log(np.sum(photon_weights) / nphoton)\n",
    "        attenuation_per_mu_a.append(attenuation)\n",
    "\n",
    "    p = plt.scatter(mu_s_vals, attenuation_per_mu_a, label=f\"mu_a={mu_a}\")\n",
    "\n",
    "    mu_s_vals_sampled = np.random.rand(10) * (mu_s_vals[-1] - mu_s_vals[0]) + mu_s_vals[0]\n",
    "    photon_weights_perturbed = weights_baseline[None, :] * np.power((mu_s_vals_sampled/mu_s_baseline)[:, None], photon_nscat_baseline[None, :])\n",
    "    photon_weights_perturbed *= np.exp(-(mu_s_vals_sampled - mu_s_baseline)[:, None] * photon_ppath_baseline[None, :])\n",
    "    photon_weights_perturbed *= np.exp(-(mu_a - mu_a_baseline) * photon_ppath_baseline[None, :])\n",
    "    attenuation_perturbed = -np.log(np.sum(photon_weights_perturbed, axis=-1) / nphoton)\n",
    "\n",
    "    plt.scatter(mu_s_vals_sampled, attenuation_perturbed, marker=\"x\", color=p.get_facecolor()[0])\n",
    "\n",
    "    \n",
    "plt.legend()\n",
    "plt.xlabel(\"mu_s\")\n",
    "plt.ylabel(\"Attenuation\")"
   ]
  },
  {
   "cell_type": "markdown",
   "metadata": {},
   "source": [
    "### Test how many photons need to be stored for good results."
   ]
  },
  {
   "cell_type": "markdown",
   "metadata": {},
   "source": [
    "1e5 photons resulted in 44MB of data. Therefore, only try up to 2^21 photons which should result in about 1GB of data."
   ]
  },
  {
   "cell_type": "code",
   "execution_count": null,
   "metadata": {
    "scrolled": true
   },
   "outputs": [],
   "source": [
    "for nphoton in [2**j for j in range(10, 22, 2)]:\n",
    "    print(f\"-----------Generating data for {nphoton} photons.------------------\")\n",
    "    cfg[\"nphoton\"] = nphoton\n",
    "    cfg[\"maxdetphoton\"] = nphoton\n",
    "    function_data = []\n",
    "    function_data.append(cfg[\"nphoton\"])\n",
    "    function_data.append(cfg[\"prop\"][1, 2])\n",
    "    function_data.append(mu_s_vals)\n",
    "    for i, mu_s in enumerate(mu_s_vals):\n",
    "        cfg[\"prop\"][1, 1] = mu_s / 10 # mu_s_vals are stored in cm^-1\n",
    "        cfg[\"prop\"][1, 0] = 0\n",
    "        cfg[\"prop\"][1, 2] = g_combined\n",
    "        cfg[\"prop\"][1, 3] = refractive_index_combined\n",
    "        res = pmcx.mcxlab(cfg)\n",
    "        cur_photon_data = np.row_stack(\n",
    "            (\n",
    "                res[\"detp\"][\"ppath\"][:, 0] * cfg[\"unitinmm\"] / 10, # store pathlength in cm. pathlengths are stored in \"unitinmm\"\n",
    "                res[\"detp\"][\"nscat\"][:, 0]\n",
    "            )\n",
    "        )\n",
    "        function_data.append(cur_photon_data)\n",
    "    fpath = config.mcs_func_path.parent / f\"function_data{nphoton}.npz\"\n",
    "    np.savez(fpath, *function_data)"
   ]
  },
  {
   "cell_type": "code",
   "execution_count": null,
   "metadata": {},
   "outputs": [],
   "source": [
    "loader = data_loader.DataLoader(None, 520, 900)\n",
    "mu_a_matrix = loader.absorption_coefs(\n",
    "    use_diff_oxycco=False,\n",
    "    use_water_and_fat=True\n",
    ")"
   ]
  },
  {
   "cell_type": "code",
   "execution_count": null,
   "metadata": {},
   "outputs": [],
   "source": [
    "spectra_gm, spectra_blood, times = [], [], []\n",
    "for nphoton in [2**j for j in range(10, 22, 2)]:\n",
    "    fpath = config.mcs_func_path.parent / f\"function_data{nphoton}.npz\"\n",
    "    mcs_obj = SimulationAttenuation(fpath)\n",
    "    t0 = time.time()\n",
    "    spectra_gm.append(mcs_obj.A_concentrations(\n",
    "        loader.wavelengths,\n",
    "        mu_a_matrix,\n",
    "        loader.params_ref_gray_matter[:6],\n",
    "        *loader.params_ref_gray_matter[-2:]\n",
    "        )\n",
    "    )\n",
    "\n",
    "    spectra_blood.append(mcs_obj.A_concentrations(\n",
    "        loader.wavelengths,\n",
    "        mu_a_matrix,\n",
    "        loader.params_ref_blood_vessel[:6],\n",
    "        *loader.params_ref_blood_vessel[-2:]\n",
    "    ))\n",
    "    t1 = time.time()\n",
    "    times.append((t1 - t0) / 2)\n",
    "labels = [str(nphoton) for nphoton in [2**i for i in range(10, 22, 2)]]\n",
    "plot_spectra(spectra_gm, loader.wavelengths, labels, title=\"Gray Matter\")\n",
    "plot_spectra(spectra_blood, loader.wavelengths, labels, title=\"Blood\")\n",
    "print(times)"
   ]
  },
  {
   "cell_type": "markdown",
   "metadata": {},
   "source": [
    "Result: Spectra are almost identical for more than 1e4 photons. Interestingly, 4k photons make very similar spectrum, but 16k photons are noticeably worse. 5e4 photons should be enough. "
   ]
  },
  {
   "cell_type": "code",
   "execution_count": null,
   "metadata": {},
   "outputs": [],
   "source": [
    "print([t*(24/381) for t in times]) # times for one function evaluation when using 24 wavelengths"
   ]
  },
  {
   "cell_type": "markdown",
   "metadata": {},
   "source": [
    "### Test how long simulation should run"
   ]
  },
  {
   "cell_type": "markdown",
   "metadata": {},
   "source": [
    "Simulation should require the longest time (for all backscattered photons to reach the detector) when scattering is at its lowest, because then the pathlength should be its highest. (See e.g. Jacques' model).\n",
    "Let's compare how the number of captured photons changes when simulation time is reduced.\n",
    "**Make sure to 'reset' configuration with cell where it is defined!**"
   ]
  },
  {
   "cell_type": "code",
   "execution_count": null,
   "metadata": {},
   "outputs": [],
   "source": [
    "ndetected = []\n",
    "for simtime in np.logspace(-10, -6, 20):\n",
    "    cfg[\"tend\"] = simtime\n",
    "    cfg[\"tstep\"] = simtime\n",
    "    cfg[\"prop\"][1, 1] = mu_s_vals[-1] / 10 # mu_s_vals are stored in cm^-1\n",
    "    cfg[\"prop\"][1, 0] = 0\n",
    "    cfg[\"prop\"][1, 2] = g_combined\n",
    "    cfg[\"prop\"][1, 3] = refractive_index_combined\n",
    "    res = pmcx.mcxlab(cfg)\n",
    "    ndetected.append(res[\"detp\"][\"ppath\"].shape[0])"
   ]
  },
  {
   "cell_type": "code",
   "execution_count": null,
   "metadata": {},
   "outputs": [],
   "source": [
    "fig = plt.figure()\n",
    "ax = plt.gca()\n",
    "ax.scatter(np.logspace(-10, -6, 20), ndetected, label=\"o\")\n",
    "#ax.set_xscale(\"log\")"
   ]
  },
  {
   "cell_type": "markdown",
   "metadata": {},
   "source": [
    "A simulation time of 5e7 seconds should be enough for most photons to reach the detector."
   ]
  },
  {
   "cell_type": "markdown",
   "metadata": {},
   "source": [
    "Is tissue depth enough? Plot a histogram for the lowest scattering value, and zero absorption."
   ]
  },
  {
   "cell_type": "code",
   "execution_count": null,
   "metadata": {},
   "outputs": [],
   "source": [
    "function_data_loaded = np.load(config.mcs_func_path)\n",
    "num_mu_s_vals = len(function_data_loaded[\"arr_2\"])\n",
    "# remember that pathlengths were stored in cm\n",
    "# plt.hist(function_data_loaded[f\"arr_{num_mu_s_vals - 1}\"][0, :] * 10, bins=100, range=[0, 1000])\n",
    "plt.hist(function_data_loaded[f\"arr_{3}\"][0, :] * 10, bins=100, range=[0, 1000])"
   ]
  },
  {
   "cell_type": "markdown",
   "metadata": {},
   "source": [
    "Having a tissue depth of 1000mm seems reasonable. Remember, that photons will typically not travel parallel to z-axis, and pathlength consists of path in and out of tissue. Therefore few photons will reach 1000mm."
   ]
  }
 ],
 "metadata": {
  "kernelspec": {
   "display_name": "nonlinear-fit",
   "language": "python",
   "name": "python3"
  },
  "language_info": {
   "codemirror_mode": {
    "name": "ipython",
    "version": 3
   },
   "file_extension": ".py",
   "mimetype": "text/x-python",
   "name": "python",
   "nbconvert_exporter": "python",
   "pygments_lexer": "ipython3",
   "version": "3.11.11"
  }
 },
 "nbformat": 4,
 "nbformat_minor": 4
}
