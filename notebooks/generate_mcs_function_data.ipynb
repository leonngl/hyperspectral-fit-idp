{
 "cells": [
  {
   "cell_type": "code",
   "execution_count": 1,
   "metadata": {},
   "outputs": [],
   "source": [
    "%load_ext autoreload\n",
    "%autoreload 2"
   ]
  },
  {
   "cell_type": "code",
   "execution_count": 2,
   "metadata": {},
   "outputs": [],
   "source": [
    "import os\n",
    "import sys\n",
    "from pathlib import Path\n",
    "sys.path.insert(1, str(Path(os.getcwd()).parent / \"src\"))"
   ]
  },
  {
   "cell_type": "code",
   "execution_count": 3,
   "metadata": {},
   "outputs": [],
   "source": [
    "import numpy as np\n",
    "import data_loader\n",
    "import config\n",
    "import pmcx\n",
    "from matplotlib import pyplot as plt\n",
    "from mcs_function import SimulationAttenuation"
   ]
  },
  {
   "cell_type": "code",
   "execution_count": 4,
   "metadata": {},
   "outputs": [
    {
     "name": "stdout",
     "output_type": "stream",
     "text": [
      "=============================   GPU Information  ================================\n",
      "Device 1 of 1:\t\tNVIDIA GeForce GTX 1050\n",
      "Compute Capability:\t6.1\n"
     ]
    },
    {
     "data": {
      "text/plain": [
       "[{'name': 'NVIDIA GeForce GTX 1050',\n",
       "  'id': 1,\n",
       "  'devcount': 1,\n",
       "  'major': 6,\n",
       "  'minor': 1,\n",
       "  'globalmem': 4229824512,\n",
       "  'constmem': 65536,\n",
       "  'sharedmem': 49152,\n",
       "  'regcount': 65536,\n",
       "  'clock': 1493000,\n",
       "  'sm': 5,\n",
       "  'core': 640,\n",
       "  'autoblock': 64,\n",
       "  'autothread': 10240,\n",
       "  'maxgate': 0}]"
      ]
     },
     "execution_count": 4,
     "metadata": {},
     "output_type": "execute_result"
    },
    {
     "name": "stdout",
     "output_type": "stream",
     "text": [
      "Global Memory:\t\t4229824512 B\n",
      "Constant Memory:\t65536 B\n",
      "Shared Memory:\t\t49152 B\n",
      "Registers:\t\t65536\n",
      "Clock Speed:\t\t1.49 GHz\n",
      "Number of SMs:\t\t5\n",
      "Number of Cores:\t640\n",
      "Auto-thread:\t\t10240\n",
      "Auto-block:\t\t64\n"
     ]
    }
   ],
   "source": [
    "pmcx.gpuinfo()"
   ]
  },
  {
   "cell_type": "code",
   "execution_count": 5,
   "metadata": {},
   "outputs": [
    {
     "data": {
      "text/plain": [
       "2"
      ]
     },
     "execution_count": 5,
     "metadata": {},
     "output_type": "execute_result"
    }
   ],
   "source": [
    "config.gpuid"
   ]
  },
  {
   "cell_type": "code",
   "execution_count": 6,
   "metadata": {},
   "outputs": [
    {
     "data": {
      "text/plain": [
       "PosixPath('/media/leon/T7/IDP/mcs_function_data/function_data.npz')"
      ]
     },
     "execution_count": 6,
     "metadata": {},
     "output_type": "execute_result"
    }
   ],
   "source": [
    "config.mcs_func_path"
   ]
  },
  {
   "cell_type": "code",
   "execution_count": 11,
   "metadata": {},
   "outputs": [
    {
     "name": "stdout",
     "output_type": "stream",
     "text": [
      "[376.62903055  31.96592289 362.83507885 214.20496206]\n"
     ]
    }
   ],
   "source": [
    "mu_s_bounds = np.concatenate((\n",
    "    data_loader.DataLoader.mu_s_red_func_gray_matter(np.array([450, 1000])) / (1-0.85),\n",
    "    data_loader.DataLoader.mu_s_red_func_blood_vessel(np.array([450, 1000])) / (1-0.935)\n",
    "))\n",
    "print(mu_s_bounds)"
   ]
  },
  {
   "cell_type": "code",
   "execution_count": 12,
   "metadata": {},
   "outputs": [
    {
     "name": "stdout",
     "output_type": "stream",
     "text": [
      "[ 10.          26.89655172  43.79310345  60.68965517  77.5862069\n",
      "  94.48275862 111.37931034 128.27586207 145.17241379 162.06896552\n",
      " 178.96551724 195.86206897 212.75862069 229.65517241 246.55172414\n",
      " 263.44827586 280.34482759 297.24137931 314.13793103 331.03448276\n",
      " 347.93103448 364.82758621 381.72413793 398.62068966 415.51724138\n",
      " 432.4137931  449.31034483 466.20689655 483.10344828 500.        ]\n"
     ]
    }
   ],
   "source": [
    "mu_s_vals = np.linspace(10, 500, 30)\n",
    "print(mu_s_vals)"
   ]
  },
  {
   "cell_type": "code",
   "execution_count": 13,
   "metadata": {},
   "outputs": [],
   "source": [
    "g_combined = 0.8675\n",
    "refractive_index_combined = 1.38"
   ]
  },
  {
   "cell_type": "code",
   "execution_count": 14,
   "metadata": {},
   "outputs": [],
   "source": [
    "# very deep tissue necessary, since no absorption allows photons to go deep into tissue\n",
    "# for faster and statiscally better results, increasy voxel size\n",
    "vol = np.ones((50, 50, 1000))\n",
    "prop = np.array([[0, 0, 1, 1], [0, 0, g_combined, refractive_index_combined]])\n",
    "unitinmm = 10\n",
    "\n",
    "cfg = {\n",
    "    \"nphoton\": 5e5, # keep nphotons relatively low, to limit memory of stored data\n",
    "    \"maxdetphoton\": 5e5,\n",
    "    \"unitinmm\": unitinmm,\n",
    "    \"vol\": vol,\n",
    "    \"tstart\":0,\n",
    "    \"tend\":1e-8,\n",
    "    \"tstep\":1e-8,\n",
    "    \"autopilot\": 1,\n",
    "    \"gpuid\": config.gpuid,\n",
    "    \"prop\":prop,\n",
    "    \"bc\": \"ccrcca001000\", # mark z=0 plane as detector\n",
    "    \"srcdir\": [0,0,1],\n",
    "    \"srctype\": \"planar\",\n",
    "    \"srcpos\": [0, 0, 0],\n",
    "    \"srcparam1\": [vol.shape[0], 0, 0, 0], # 3D position of vertex, fourth coordinate is irrelevant\n",
    "    \"srcparam2\": [0, vol.shape[1], 0, 0],\n",
    "    \"issrcfrom0\": 1,\n",
    "    \"savedetflag\": \"dps\", # detector id, path length, scatter count\n",
    "    \"flog\": config.mcs_func_path / \"log.txt\",\n",
    "}"
   ]
  },
  {
   "cell_type": "code",
   "execution_count": 15,
   "metadata": {},
   "outputs": [],
   "source": [
    "function_data = []\n",
    "function_data.append(cfg[\"nphoton\"])\n",
    "function_data.append(mu_s_vals)"
   ]
  },
  {
   "cell_type": "code",
   "execution_count": null,
   "metadata": {},
   "outputs": [
    {
     "name": "stdout",
     "output_type": "stream",
     "text": [
      "Iteration 0/30\n",
      "nphoton: 500000\n",
      "tstart: 0\n",
      "tstep: 1e-08\n",
      "tend: 1e-08\n",
      "maxdetphoton: 500000\n",
      "issrcfrom0: 1\n",
      "autopilot: 1\n",
      "unitinmm: 10\n"
     ]
    },
    {
     "name": "stderr",
     "output_type": "stream",
     "text": [
      "###############################################################################\n",
      "#                      Monte Carlo eXtreme (MCX) -- CUDA                      #\n",
      "#          Copyright (c) 2009-2025 Qianqian Fang <q.fang at neu.edu>          #\n",
      "#                https://mcx.space/  &  https://neurojson.io                  #\n",
      "#                                                                             #\n",
      "# Computational Optics & Translational Imaging (COTI) Lab- http://fanglab.org #\n",
      "#   Department of Bioengineering, Northeastern University, Boston, MA, USA    #\n",
      "###############################################################################\n",
      "#    The MCX Project is funded by the NIH/NIGMS under grant R01-GM114365      #\n",
      "###############################################################################\n",
      "#  Open-source codes and reusable scientific data are essential for research, #\n",
      "# MCX proudly developed human-readable JSON-based data formats for easy reuse.#\n",
      "#                                                                             #\n",
      "#Please visit our free scientific data sharing portal at https://neurojson.io #\n",
      "# and consider sharing your public datasets in standardized JSON/JData format #\n",
      "###############################################################################\n",
      "$Rev::0fcc04 $ v2025 $Date::2025-02-12 23:26:11 -05$ by $Author::Qianqian Fang$\n",
      "###############################################################################\n",
      "- code name: [Fermi MCX] compiled by nvcc [9.2] for CUDA-arch [350] on [Feb 13 2025]\n",
      "- compiled with: RNG [xorshift128+] with Seed Length [4]\n",
      "\n",
      "GPU=1 (NVIDIA GeForce GTX 1050) threadph=48 extra=8480 np=500000 nthread=10240 maxgate=1 repetition=1\n",
      "initializing streams ...\tinit complete : 1 ms\n",
      "requesting 1792 bytes of shared memory\n",
      "launching MCX simulation for time window [0.00e+00ns 1.00e+01ns] ...\n",
      "simulation run# 1 ... \n",
      "kernel complete:  \t470 ms\n",
      "retrieving fields ... \tdetected 418911 photons, total: 418911\ttransfer complete:\t488 ms\n",
      "normalizing raw data ...\tsource 1, normalization factor alpha=2.000000\n",
      "data normalization complete : 525 ms\n",
      "simulated 500000 photons (500000) with 10240 threads (repeat x1)\n",
      "MCX simulation speed: 1072.96 photon/ms\n",
      "total simulated energy: 500000.00\tabsorbed: 0.00000%\n",
      "(loss due to initial specular reflection is excluded in the total)\n"
     ]
    },
    {
     "ename": "KeyboardInterrupt",
     "evalue": "",
     "output_type": "error",
     "traceback": [
      "\u001b[0;31m---------------------------------------------------------------------------\u001b[0m",
      "\u001b[0;31mKeyboardInterrupt\u001b[0m                         Traceback (most recent call last)",
      "Cell \u001b[0;32mIn[16], line 7\u001b[0m\n\u001b[1;32m      5\u001b[0m cfg[\u001b[38;5;124m\"\u001b[39m\u001b[38;5;124mprop\u001b[39m\u001b[38;5;124m\"\u001b[39m][\u001b[38;5;241m1\u001b[39m, \u001b[38;5;241m3\u001b[39m] \u001b[38;5;241m=\u001b[39m refractive_index_combined\n\u001b[1;32m      6\u001b[0m \u001b[38;5;28mprint\u001b[39m(\u001b[38;5;124mf\u001b[39m\u001b[38;5;124m\"\u001b[39m\u001b[38;5;124mIteration \u001b[39m\u001b[38;5;132;01m{\u001b[39;00mi\u001b[38;5;132;01m}\u001b[39;00m\u001b[38;5;124m/\u001b[39m\u001b[38;5;132;01m{\u001b[39;00m\u001b[38;5;28mlen\u001b[39m(mu_s_vals)\u001b[38;5;132;01m}\u001b[39;00m\u001b[38;5;124m\"\u001b[39m)\n\u001b[0;32m----> 7\u001b[0m res \u001b[38;5;241m=\u001b[39m pmcx\u001b[38;5;241m.\u001b[39mmcxlab(cfg)\n\u001b[1;32m      8\u001b[0m cur_photon_data \u001b[38;5;241m=\u001b[39m np\u001b[38;5;241m.\u001b[39mrow_stack(\n\u001b[1;32m      9\u001b[0m     (\n\u001b[1;32m     10\u001b[0m         res[\u001b[38;5;124m\"\u001b[39m\u001b[38;5;124mdetp\u001b[39m\u001b[38;5;124m\"\u001b[39m][\u001b[38;5;124m\"\u001b[39m\u001b[38;5;124mppath\u001b[39m\u001b[38;5;124m\"\u001b[39m][:, \u001b[38;5;241m0\u001b[39m],\n\u001b[1;32m     11\u001b[0m         res[\u001b[38;5;124m\"\u001b[39m\u001b[38;5;124mdetp\u001b[39m\u001b[38;5;124m\"\u001b[39m][\u001b[38;5;124m\"\u001b[39m\u001b[38;5;124mnscat\u001b[39m\u001b[38;5;124m\"\u001b[39m][:, \u001b[38;5;241m0\u001b[39m]\n\u001b[1;32m     12\u001b[0m     )\n\u001b[1;32m     13\u001b[0m )\n\u001b[1;32m     14\u001b[0m \u001b[38;5;28mprint\u001b[39m(\u001b[38;5;124mf\u001b[39m\u001b[38;5;124m\"\u001b[39m\u001b[38;5;124mMean path length: \u001b[39m\u001b[38;5;132;01m{\u001b[39;00mpmcx\u001b[38;5;241m.\u001b[39mutils\u001b[38;5;241m.\u001b[39mmeanpath(res[\u001b[38;5;124m'\u001b[39m\u001b[38;5;124mdetp\u001b[39m\u001b[38;5;124m'\u001b[39m])\u001b[38;5;132;01m}\u001b[39;00m\u001b[38;5;124m\"\u001b[39m)\n",
      "File \u001b[0;32m~/anaconda3/envs/nonlinear-fit/lib/python3.11/site-packages/pmcx/utils.py:576\u001b[0m, in \u001b[0;36mmcxlab\u001b[0;34m(*args)\u001b[0m\n\u001b[1;32m    573\u001b[0m             args[\u001b[38;5;241m0\u001b[39m][\u001b[38;5;124m\"\u001b[39m\u001b[38;5;124msavedetflag\u001b[39m\u001b[38;5;124m\"\u001b[39m][detfields \u001b[38;5;241m==\u001b[39m \u001b[38;5;241m0\u001b[39m] \u001b[38;5;241m=\u001b[39m []\n\u001b[1;32m    575\u001b[0m \u001b[38;5;28;01mif\u001b[39;00m useopencl \u001b[38;5;241m==\u001b[39m \u001b[38;5;241m0\u001b[39m:\n\u001b[0;32m--> 576\u001b[0m     varargout \u001b[38;5;241m=\u001b[39m pmcx\u001b[38;5;241m.\u001b[39mrun(args[\u001b[38;5;241m0\u001b[39m])\n\u001b[1;32m    577\u001b[0m \u001b[38;5;28;01melse\u001b[39;00m:\n\u001b[1;32m    578\u001b[0m     \u001b[38;5;28;01mtry\u001b[39;00m:\n",
      "\u001b[0;31mKeyboardInterrupt\u001b[0m: "
     ]
    }
   ],
   "source": [
    "for i, mu_s in enumerate(mu_s_vals):\n",
    "    cfg[\"prop\"][1, 1] = mu_s / 10 # mu_s_vals are stored in cm^-1\n",
    "    cfg[\"prop\"][1, 0] = 0\n",
    "    cfg[\"prop\"][1, 2] = g_combined\n",
    "    cfg[\"prop\"][1, 3] = refractive_index_combined\n",
    "    print(f\"Iteration {i}/{len(mu_s_vals)}\")\n",
    "    res = pmcx.mcxlab(cfg)\n",
    "    cur_photon_data = np.row_stack(\n",
    "        (\n",
    "            res[\"detp\"][\"ppath\"][:, 0] / 10, # store pathlength in cm\n",
    "            res[\"detp\"][\"nscat\"][:, 0]\n",
    "        )\n",
    "    )\n",
    "    print(f\"Mean path length: {pmcx.utils.meanpath(res['detp'])}\")\n",
    "    function_data.append(cur_photon_data)\n",
    "\n",
    "np.savez(config.mcs_func_path, *function_data)"
   ]
  },
  {
   "cell_type": "markdown",
   "metadata": {},
   "source": [
    "Load Data and plot for some mu_a values"
   ]
  },
  {
   "cell_type": "code",
   "execution_count": null,
   "metadata": {},
   "outputs": [],
   "source": [
    "function_data_loaded = np.load(config.mcs_func_path)\n",
    "nphoton = function_data_loaded[\"arr_0\"]\n",
    "mu_s_vals = function_data_loaded[\"arr_1\"]"
   ]
  },
  {
   "cell_type": "code",
   "execution_count": null,
   "metadata": {},
   "outputs": [],
   "source": [
    "mu_a_bounds = np.concatenate((\n",
    "    data_loader.DataLoader.mu_a_func_gray_matter(np.array([450, 999])),\n",
    "    data_loader.DataLoader.mu_a_func_blood_vessel(np.array([450, 999])) \n",
    "))\n",
    "print(mu_a_bounds)\n",
    "mu_a_samples = np.linspace(np.min(mu_a_bounds) * 0.75, np.max(mu_a_bounds) * 1.25, 5)"
   ]
  },
  {
   "cell_type": "code",
   "execution_count": null,
   "metadata": {},
   "outputs": [],
   "source": [
    "for mu_a in mu_a_samples:\n",
    "    attenuation_per_mu_a = []\n",
    "    for i, mu_s in enumerate(mu_s_vals):\n",
    "        photon_data = function_data_loaded[f\"arr_{i + 2}\"]\n",
    "        photon_ppath = photon_data[0, :]\n",
    "        #photon_nscat = photon_data[1, :]\n",
    "        photon_weights = np.exp(-mu_a * photon_ppath)\n",
    "        attenuation = -np.log(np.sum(photon_weights) / nphoton)\n",
    "        attenuation_per_mu_a.append(attenuation)\n",
    "\n",
    "    plt.scatter(mu_s_vals, attenuation_per_mu_a, label=f\"mu_a={mu_a}\")\n",
    "plt.legend()\n",
    "plt.xlabel(\"mu_s\")\n",
    "plt.ylabel(\"Attenuation\")\n"
   ]
  },
  {
   "cell_type": "markdown",
   "metadata": {},
   "source": [
    "Same plot but with randomly sampled, then interpolated values for mu_s..."
   ]
  },
  {
   "cell_type": "code",
   "execution_count": null,
   "metadata": {},
   "outputs": [],
   "source": [
    "mcs_obj = SimulationAttenuation(config.mcs_func_path)"
   ]
  },
  {
   "cell_type": "code",
   "execution_count": null,
   "metadata": {},
   "outputs": [],
   "source": [
    "for mu_a in mu_a_samples:\n",
    "    attenuation_per_mu_a = []\n",
    "    for i, mu_s in enumerate(mu_s_vals):\n",
    "        photon_data = function_data_loaded[f\"arr_{i + 2}\"]\n",
    "        photon_ppath = photon_data[0, :]\n",
    "        #photon_nscat = photon_data[1, :]\n",
    "        photon_weights = np.exp(-mu_a * photon_ppath)\n",
    "        attenuation = -np.log(np.sum(photon_weights) / nphoton)\n",
    "        attenuation_per_mu_a.append(attenuation)\n",
    "    \n",
    "    p = plt.scatter(mu_s_vals, attenuation_per_mu_a, label=f\"mu_a={mu_a}\")\n",
    "\n",
    "    mu_s_vals_sampled = np.random.rand(10) * (mu_s_vals[-1] - mu_s_vals[0]) * 1.25 + mu_s_vals[0]\n",
    "    attenuation_interpolated =  mcs_obj.A(mu_a, mu_s_vals_sampled)\n",
    "    plt.scatter(mu_s_vals_sampled, attenuation_interpolated, marker=\"x\", color=p.get_facecolor()[0])\n",
    "\n",
    "    \n",
    "plt.legend()\n",
    "plt.xlabel(\"mu_s\")\n",
    "plt.ylabel(\"Attenuation\")"
   ]
  },
  {
   "cell_type": "markdown",
   "metadata": {},
   "source": [
    "Sampe graph, but compare with attenuation based on perturbation Monte Carlo method, with mean mu_a, mu_s values as baseline.\n",
    "This barely works because of overflows."
   ]
  },
  {
   "cell_type": "code",
   "execution_count": null,
   "metadata": {},
   "outputs": [],
   "source": [
    "mu_a_baseline = mu_a_samples[len(mu_a_samples)//2]\n",
    "mu_s_baseline = mu_s_vals[-1]\n",
    "photon_ppath_baseline, photon_nscat_baseline = function_data_loaded[f\"arr_{2 + len(mu_s_vals) - 1}\"][:, :]\n",
    "weights_baseline = np.exp(-mu_a_baseline * photon_ppath_baseline)"
   ]
  },
  {
   "cell_type": "code",
   "execution_count": null,
   "metadata": {},
   "outputs": [],
   "source": [
    "np.min(photon_nscat_baseline)"
   ]
  },
  {
   "cell_type": "code",
   "execution_count": null,
   "metadata": {},
   "outputs": [],
   "source": [
    "for mu_a in mu_a_samples:\n",
    "    attenuation_per_mu_a = []\n",
    "    attenuation_per_mu_a_perturbed = []\n",
    "    for i, mu_s in enumerate(mu_s_vals):\n",
    "        photon_data = function_data_loaded[f\"arr_{i + 2}\"]\n",
    "        photon_ppath = photon_data[0, :]\n",
    "        #photon_nscat = photon_data[1, :]\n",
    "        photon_weights = np.exp(-mu_a * photon_ppath)\n",
    "        attenuation = -np.log(np.sum(photon_weights) / nphoton)\n",
    "        attenuation_per_mu_a.append(attenuation)\n",
    "\n",
    "    p = plt.scatter(mu_s_vals, attenuation_per_mu_a, label=f\"mu_a={mu_a}\")\n",
    "\n",
    "    mu_s_vals_sampled = np.random.rand(10) * (mu_s_vals[-1] - mu_s_vals[0]) + mu_s_vals[0]\n",
    "    photon_weights_perturbed = weights_baseline * np.power((mu_s_vals_sampled/mu_s_baseline)[:, None], photon_nscat_baseline[None, :])\n",
    "    photon_weights_perturbed *= np.exp(-(mu_s_vals_sampled - mu_s_baseline)[:, None] * photon_ppath_baseline[None, :])\n",
    "    photon_weights_perturbed *= np.exp(-(mu_a - mu_a_baseline) * photon_ppath_baseline[None, :])\n",
    "    attenuation_perturbed = -np.log(np.sum(photon_weights_perturbed, axis=-1) / nphoton)\n",
    "\n",
    "    plt.scatter(mu_s_vals_sampled, attenuation_perturbed, marker=\"x\", color=p.get_facecolor()[0])\n",
    "\n",
    "    \n",
    "plt.legend()\n",
    "plt.xlabel(\"mu_s\")\n",
    "plt.ylabel(\"Attenuation\")"
   ]
  },
  {
   "cell_type": "code",
   "execution_count": null,
   "metadata": {},
   "outputs": [],
   "source": [
    "plt.plot(mu_s_vals, dref2)\n",
    "\n",
    "mu_s_ref = mu_s_vals[len(mu_s_vals) // 2]\n",
    "k = -mu_s_vals / mu_s_ref\n",
    "dref_ref = dref2[len(mu_s_vals) // 2]\n",
    "plt.plot(mu_s_vals, k**2 * dref_ref)"
   ]
  },
  {
   "cell_type": "code",
   "execution_count": null,
   "metadata": {},
   "outputs": [],
   "source": []
  },
  {
   "cell_type": "code",
   "execution_count": null,
   "metadata": {},
   "outputs": [],
   "source": []
  }
 ],
 "metadata": {
  "kernelspec": {
   "display_name": "nonlinear-fit",
   "language": "python",
   "name": "python3"
  },
  "language_info": {
   "codemirror_mode": {
    "name": "ipython",
    "version": 3
   },
   "file_extension": ".py",
   "mimetype": "text/x-python",
   "name": "python",
   "nbconvert_exporter": "python",
   "pygments_lexer": "ipython3",
   "version": "3.11.11"
  }
 },
 "nbformat": 4,
 "nbformat_minor": 4
}
