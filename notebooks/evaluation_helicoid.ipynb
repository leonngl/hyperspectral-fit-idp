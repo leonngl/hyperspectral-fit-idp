{
 "cells": [
  {
   "cell_type": "markdown",
   "id": "6c8c7d9d",
   "metadata": {},
   "source": [
    "# HELICoiD Evaluation"
   ]
  },
  {
   "cell_type": "markdown",
   "id": "fb8e538b",
   "metadata": {},
   "source": [
    "## Imports"
   ]
  },
  {
   "cell_type": "code",
   "execution_count": null,
   "id": "c0095ce3",
   "metadata": {},
   "outputs": [],
   "source": [
    "%load_ext autoreload\n",
    "%autoreload 2\n",
    "#%matplotlib qt\n",
    "%matplotlib widget"
   ]
  },
  {
   "cell_type": "code",
   "execution_count": null,
   "id": "c31e7967",
   "metadata": {},
   "outputs": [],
   "source": [
    "import os\n",
    "import sys\n",
    "from pathlib import Path\n",
    "\n",
    "src_dir = str(Path(os.getcwd()).parent / \"src\")\n",
    "sys.path.insert(1, src_dir)\n",
    "#os.environ[\"PYTHONPATH\"] = src_dir"
   ]
  },
  {
   "cell_type": "code",
   "execution_count": null,
   "id": "d194e310",
   "metadata": {},
   "outputs": [],
   "source": [
    "import data_loader\n",
    "import calculate_concentr_diffs\n",
    "from concentr_diffs_pathlength import *\n",
    "from plotting import *\n",
    "from mbll_functions import *\n",
    "from utils import *\n",
    "from mcs_function import *\n",
    "import config\n",
    "import pickle\n",
    "from ray import tune\n",
    "import matplotlib.pyplot as plt\n",
    "from inspect import signature\n",
    "from tqdm.notebook import tqdm\n",
    "import time\n",
    "import pandas"
   ]
  },
  {
   "cell_type": "markdown",
   "id": "a92d6ad4",
   "metadata": {},
   "source": [
    "## Setup"
   ]
  },
  {
   "cell_type": "markdown",
   "id": "d60021fe",
   "metadata": {},
   "source": [
    "load the m-parameters for the Jaques models"
   ]
  },
  {
   "cell_type": "code",
   "execution_count": null,
   "id": "53e0a465",
   "metadata": {},
   "outputs": [],
   "source": [
    "tissue_types_short = [\"gray matter\", \"tumor\", \"blood vessel\"]\n",
    "tissue_types_long = [\"general\"] + tissue_types_short"
   ]
  },
  {
   "cell_type": "code",
   "execution_count": null,
   "id": "037c0d6a",
   "metadata": {},
   "outputs": [],
   "source": [
    "with open(config.m_params_path, \"rb\") as f:\n",
    "    jacques_m_params, _, _, _ = pickle.load(f)"
   ]
  },
  {
   "cell_type": "markdown",
   "id": "e7b4af25",
   "metadata": {},
   "source": [
    "create MCS-Attenuation Object"
   ]
  },
  {
   "cell_type": "code",
   "execution_count": null,
   "id": "e3fdf3ef",
   "metadata": {},
   "outputs": [],
   "source": [
    "A_mcs = SimulationAttenuation(config.mcs_func_path)"
   ]
  },
  {
   "cell_type": "code",
   "execution_count": null,
   "id": "1af7c1c6",
   "metadata": {},
   "outputs": [],
   "source": [
    "mcs_sparsity = 18 # results in 30 wavelengths"
   ]
  },
  {
   "cell_type": "markdown",
   "id": "c8468bd9",
   "metadata": {},
   "source": [
    "Load  data"
   ]
  },
  {
   "cell_type": "code",
   "execution_count": null,
   "id": "fe9cd22e",
   "metadata": {},
   "outputs": [],
   "source": [
    "loader = data_loader.DataLoaderHELICOID(\n",
    "    config.dataset_dir,\n",
    "    wavelength_left_cut=520,\n",
    "    wavelength_right_cut=900\n",
    ")\n",
    "\n",
    "mu_a_matrix = loader.absorption_coefs(\n",
    "    use_diff_oxycco=False,\n",
    "    use_water_and_fat=True\n",
    ")\n",
    "\n",
    "delta_A_gt_img = loader.get_attenuation_change(\"020-01\")\n",
    "A_gt_img = loader.get_attenuation(\"020-01\")\n",
    "\n",
    "foreground_mask = (loader.label_map != 4)\n",
    "labeled_mask = (loader.label_map != 0)\n",
    "labeled_foreground_mask = labeled_mask & foreground_mask"
   ]
  },
  {
   "cell_type": "code",
   "execution_count": null,
   "id": "3080638d-4fe2-4098-90bc-245d6b1c71cc",
   "metadata": {},
   "outputs": [],
   "source": [
    "loader.wavelengths[::mcs_sparsity]"
   ]
  },
  {
   "cell_type": "code",
   "execution_count": null,
   "id": "f838b88e-6c6d-4836-97cf-a4c1c27862b0",
   "metadata": {},
   "outputs": [],
   "source": [
    "len(loader.wavelengths[::mcs_sparsity])"
   ]
  },
  {
   "cell_type": "code",
   "execution_count": null,
   "id": "5ede70ec",
   "metadata": {},
   "outputs": [],
   "source": [
    "gray_matter_mcs_pathlength_data = np.loadtxt(config.pl_dir / \"gray_matter_mcs.txt\")\n",
    "blood_vessel_mcs_pathlength_data = np.loadtxt(config.pl_dir / \"blood_vessel_pure_mcs.txt\")\n",
    "tumor_mcs_pathlength_data = np.loadtxt(config.pl_dir / \"tumor_mcs.txt\")"
   ]
  },
  {
   "cell_type": "code",
   "execution_count": null,
   "id": "0bb3b10e",
   "metadata": {},
   "outputs": [],
   "source": [
    "lengths = tuple()\n",
    "for mcs_data in (gray_matter_mcs_pathlength_data, tumor_mcs_pathlength_data, blood_vessel_mcs_pathlength_data):\n",
    "    pathlength = np.interp(loader.wavelengths, mcs_data[:, 0], mcs_data[:, 4] / 10) # convert to cm\n",
    "    # notice the minus: mean scatterlength = mean pathlength - ((mean scattercount)/mu_s)\n",
    "    scatterlength = mcs_data[:, 4] / 10 - mcs_data[:, 5] / (mcs_data[:, 2] * 10)\n",
    "    scatterlength = np.interp(loader.wavelengths, mcs_data[:, 0], scatterlength)\n",
    "    lengths += (pathlength, scatterlength)\n",
    "\n",
    "gray_matter_pathlength, gray_matter_scatterlength, tumor_pathlength, tumor_scatterlength, blood_vessel_pathlength, blood_vessel_scatterlength = lengths"
   ]
  },
  {
   "cell_type": "code",
   "execution_count": null,
   "id": "e787bf7a",
   "metadata": {},
   "outputs": [],
   "source": [
    "gray_matter_baseline_attenuation = np.interp(\n",
    "    loader.wavelengths,\n",
    "    gray_matter_mcs_pathlength_data[:, 0],\n",
    "    -np.log(gray_matter_mcs_pathlength_data[:, 3])\n",
    ")\n",
    "\n",
    "blood_vessel_baseline_attenuation = np.interp(\n",
    "    loader.wavelengths,\n",
    "    blood_vessel_mcs_pathlength_data[:, 0],\n",
    "    -np.log(blood_vessel_mcs_pathlength_data[:, 3])\n",
    ")\n",
    "\n",
    "tumor_baseline_attenuation = np.interp(\n",
    "    loader.wavelengths,\n",
    "    tumor_mcs_pathlength_data[:, 0],\n",
    "    -np.log(tumor_mcs_pathlength_data[:, 3])\n",
    ")"
   ]
  },
  {
   "cell_type": "markdown",
   "id": "14ac5fac",
   "metadata": {},
   "source": [
    "Create NLLS + MCS objects that will be used several times"
   ]
  },
  {
   "cell_type": "code",
   "execution_count": null,
   "id": "56345c86",
   "metadata": {},
   "outputs": [],
   "source": [
    "params = {\n",
    "    \"wavelengths\": loader.wavelengths,\n",
    "    \"mu_a_matrix\": mu_a_matrix,\n",
    "    \"tissue_types\": [\"gray matter\", \"tumor\", \"blood vessel\"],\n",
    "    \"pathlength\": [gray_matter_pathlength, tumor_pathlength, blood_vessel_pathlength],\n",
    "    \"scatterlength\": [gray_matter_scatterlength, tumor_scatterlength, blood_vessel_scatterlength],\n",
    "    \"baseline_b\": [ data_loader.DataLoader.tissue_parameters[tissue][1][1] for tissue in tissue_types_short],\n",
    "    \"g\": [data_loader.DataLoader.tissue_parameters[tissue][-1] for tissue in tissue_types_short],\n",
    "}\n",
    "\n",
    "A_mbll_mcs = A_mbll_fit(\n",
    "    baseline_attenuation=[\n",
    "        gray_matter_baseline_attenuation,\n",
    "        tumor_baseline_attenuation,\n",
    "        blood_vessel_baseline_attenuation\n",
    "    ],\n",
    "    baseline_concentrations = [\n",
    "        data_loader.DataLoader.tissue_parameters[tissue][0] for tissue in tissue_types_short\n",
    "    ],\n",
    "    baseline_a = [\n",
    "        data_loader.DataLoader.tissue_parameters[tissue][1][0] for tissue in tissue_types_short\n",
    "    ],\n",
    "    **params\n",
    ")\n",
    "\n",
    "A_mbll_mcs_delta = A_mbll_fit_delta(**params)"
   ]
  },
  {
   "cell_type": "markdown",
   "id": "1dd0c65d",
   "metadata": {},
   "source": [
    "Load reference parameters obtained through hyperparameter search"
   ]
  },
  {
   "cell_type": "code",
   "execution_count": null,
   "id": "45f399b8",
   "metadata": {},
   "outputs": [],
   "source": [
    "with open(config.reference_params_path, \"rb\") as f:\n",
    "    hyperparams = pickle.load(f)"
   ]
  },
  {
   "cell_type": "code",
   "execution_count": null,
   "id": "6e4eba83",
   "metadata": {},
   "outputs": [],
   "source": [
    "config.reference_params_path"
   ]
  },
  {
   "cell_type": "markdown",
   "id": "002ab7bc",
   "metadata": {},
   "source": [
    "## Backward Test - HELICoiD"
   ]
  },
  {
   "cell_type": "markdown",
   "id": "a6bfa77b",
   "metadata": {},
   "source": [
    "Plot HeliCoiD spectum of gray matter pixel, and pixel obtained by MCS + NLLS forward model for gray matter literature values."
   ]
  },
  {
   "cell_type": "code",
   "execution_count": null,
   "id": "a1e25ec3",
   "metadata": {},
   "outputs": [],
   "source": [
    "A_mcs_predicted = A_mcs.A_concentrations(\n",
    "    loader.wavelengths,\n",
    "    mu_a_matrix,\n",
    "    data_loader.DataLoader.tissue_parameters[\"gray matter\"][0],\n",
    "    *data_loader.DataLoader.tissue_parameters[\"gray matter\"][1]\n",
    ")"
   ]
  },
  {
   "cell_type": "code",
   "execution_count": null,
   "id": "71acdcc9",
   "metadata": {},
   "outputs": [],
   "source": [
    "plot_spectra([A_gt_img[:, loader.reference_pixel[0], loader.reference_pixel[1]], A_mcs_predicted + 0.4] , loader.wavelengths)"
   ]
  },
  {
   "cell_type": "markdown",
   "id": "59de321d",
   "metadata": {},
   "source": [
    "### Absolute vs Difference"
   ]
  },
  {
   "cell_type": "markdown",
   "id": "03c01e4f",
   "metadata": {},
   "source": [
    "Create mask of all labeled pixels, without background pixels"
   ]
  },
  {
   "cell_type": "code",
   "execution_count": null,
   "id": "dd956ca5",
   "metadata": {},
   "outputs": [],
   "source": [
    "# every labeled pixel without background\n",
    "print(np.count_nonzero(labeled_foreground_mask))"
   ]
  },
  {
   "cell_type": "code",
   "execution_count": null,
   "id": "91872107",
   "metadata": {},
   "outputs": [],
   "source": [
    "# (models, parameters, spectrum)\n",
    "concentrations_absolute_diff = np.zeros((6, 6, np.count_nonzero(labeled_foreground_mask)))"
   ]
  },
  {
   "cell_type": "markdown",
   "id": "ca87c531",
   "metadata": {},
   "source": [
    "#### Jacques"
   ]
  },
  {
   "cell_type": "markdown",
   "id": "a5804c63",
   "metadata": {},
   "source": [
    "Optimization using absolute spectra"
   ]
  },
  {
   "cell_type": "code",
   "execution_count": null,
   "id": "8e91bb01",
   "metadata": {
    "scrolled": true
   },
   "outputs": [],
   "source": [
    "res, errors = concentr_fit_nonlinear_multiple_tissues_concurrent(\n",
    "    A_gt_img[:, labeled_foreground_mask],\n",
    "    loader.label_map[labeled_foreground_mask], # only contains 1, 2, 3 (normal, tumor, blood)\n",
    "    loader.wavelengths,\n",
    "    mu_a_matrix,\n",
    "    A_jacques_blood_fraction,\n",
    "    const_vals=[\n",
    "        jacques_m_params[\"gray matter\"], #normal\n",
    "        jacques_m_params[\"tumor\"], #tumor\n",
    "        jacques_m_params[\"blood vessel\"]  #blood\n",
    "    ],\n",
    "    variables_bool_arr=np.array([True] * 8 + [False] * 3),\n",
    "    left_bounds = np.array([0] * 8),\n",
    "    right_bounds = np.array([1, 1, 0.05, 0.05, 1, 1, 100, 7]),\n",
    "    update_init=True,\n",
    "    constraint=None,\n",
    "    init_vals=concentrations_to_blood_fraction(\n",
    "        np.concatenate(data_loader.DataLoader.tissue_parameters[\"gray matter\"][:2])\n",
    "    ),\n",
    "    num_processes=20,\n",
    "    progress_bar=True\n",
    ")\n",
    "\n",
    "concentrations_absolute_diff[0, :, :] = blood_fraction_to_concentrations(res[:6, :])"
   ]
  },
  {
   "cell_type": "markdown",
   "id": "29d3734b",
   "metadata": {},
   "source": [
    "Optimize using difference spectrum"
   ]
  },
  {
   "cell_type": "code",
   "execution_count": null,
   "id": "4839b8e4",
   "metadata": {
    "scrolled": true
   },
   "outputs": [],
   "source": [
    "res, errors = concentr_fit_nonlinear_multiple_tissues_concurrent(\n",
    "    delta_A_gt_img[:, labeled_foreground_mask],\n",
    "    loader.label_map[labeled_foreground_mask], # only contains 1, 2, 3 (unlabeled, normal, tumor, blood)\n",
    "    loader.wavelengths,\n",
    "    mu_a_matrix,\n",
    "    A_jacques_blood_fraction,\n",
    "    const_vals=[\n",
    "        jacques_m_params[\"gray matter\"], #normal\n",
    "        jacques_m_params[\"tumor\"], #tumor\n",
    "        jacques_m_params[\"blood vessel\"]  #blood\n",
    "    ],\n",
    "    ref_vals=hyperparams[\"020-01\", \"Jacques, specific\"][1],\n",
    "    variables_bool_arr=([True] * 8 + [False] * 3),\n",
    "    left_bounds = np.array([0] * 8),\n",
    "    right_bounds = np.array([1, 1, 0.05, 0.05, 1, 1, 100, 7]),\n",
    "    update_init=True,\n",
    "    constraint=None,\n",
    "    init_vals=concentrations_to_blood_fraction(\n",
    "        np.concatenate(data_loader.DataLoader.tissue_parameters[\"gray matter\"][:2])\n",
    "    ),\n",
    "    num_processes=20,\n",
    "    progress_bar=True\n",
    ")\n",
    "\n",
    "concentrations_absolute_diff[1, :, :] = blood_fraction_to_concentrations(res[:6, :])"
   ]
  },
  {
   "cell_type": "markdown",
   "id": "91c2b951",
   "metadata": {},
   "source": [
    "#### NLLS + MCS (Skipped, due to very long runtime)"
   ]
  },
  {
   "cell_type": "code",
   "execution_count": null,
   "id": "56387660",
   "metadata": {
    "scrolled": true
   },
   "outputs": [],
   "source": [
    "res, errors = concentr_fit_nonlinear_multiple_tissues_concurrent(\n",
    "    A_gt_img[::mcs_sparsity, labeled_foreground_mask],\n",
    "    loader.label_map[labeled_foreground_mask], # only contains 0, 1, 2, 3 (unlabeled, normal, tumor, blood)\n",
    "    loader.wavelengths[::mcs_sparsity],\n",
    "    mu_a_matrix[::mcs_sparsity, :],\n",
    "    A_mcs.A_blood_fraction,\n",
    "    jacobian=A_mcs.jacobian_blood_fraction,\n",
    "    variables_bool_arr=([True] * 8),\n",
    "    left_bounds = np.array([0] * 8),\n",
    "    right_bounds = np.array([1, 1, 0.05, 0.05, 1, 1, 100, 7]),\n",
    "    update_init=True,\n",
    "    constraint=None,\n",
    "    init_vals=concentrations_to_blood_fraction(\n",
    "        np.concatenate(data_loader.DataLoader.tissue_parameters[\"gray matter\"][:2])\n",
    "    ),\n",
    "    num_processes=30,\n",
    "    progress_bar=True\n",
    ")\n",
    "\n",
    "concentrations_absolute_diff[2, :, :] = blood_fraction_to_concentrations(res[:6, :])"
   ]
  },
  {
   "cell_type": "markdown",
   "id": "ba1e0c1f",
   "metadata": {},
   "source": [
    "Optimize using difference spectrum"
   ]
  },
  {
   "cell_type": "code",
   "execution_count": null,
   "id": "af35f74c",
   "metadata": {
    "scrolled": true
   },
   "outputs": [],
   "source": [
    "res, errors = concentr_fit_nonlinear_multiple_tissues_concurrent(\n",
    "    delta_A_gt_img[::mcs_sparsity, labeled_foreground_mask],\n",
    "    loader.label_map[labeled_foreground_mask], # only contains 0, 1, 2, 3 (unlabeled, normal, tumor, blood)\n",
    "    loader.wavelengths[::mcs_sparsity],\n",
    "    mu_a_matrix[::mcs_sparsity, :],\n",
    "    A_mcs.A_blood_fraction,\n",
    "    jacobian=A_mcs.jacobian_blood_fraction,\n",
    "    variables_bool_arr=([True] * 8),\n",
    "    ref_vals=hyperparams[\"020-01\", \"NLLS + MCS\"][1],\n",
    "    left_bounds = np.array([0] * 8),\n",
    "    right_bounds = np.array([1, 1, 0.05, 0.05, 1, 1, 100, 7]),\n",
    "    update_init=True,\n",
    "    constraint=None,\n",
    "    init_vals=concentrations_to_blood_fraction(\n",
    "        np.concatenate(data_loader.DataLoader.tissue_parameters[\"gray matter\"][:2])\n",
    "    ),\n",
    "    num_processes=30,\n",
    "    progress_bar=True\n",
    ")\n",
    "\n",
    "concentrations_absolute_diff[3, :, :] = blood_fraction_to_concentrations(res[:6, :])"
   ]
  },
  {
   "cell_type": "markdown",
   "id": "141368f1",
   "metadata": {},
   "source": [
    "#### MBLL + MCS"
   ]
  },
  {
   "cell_type": "code",
   "execution_count": null,
   "id": "ecddbf4f",
   "metadata": {},
   "outputs": [],
   "source": [
    "concentrations_absolute_diff[4, :, (loader.label_map[labeled_foreground_mask] == 1)] = A_mbll_mcs.concentr_fit(\n",
    "    A_gt_img[:, (loader.label_map == 1)],\n",
    "    \"gray matter\"\n",
    ")[:6, :].T\n",
    "\n",
    "concentrations_absolute_diff[4, :, (loader.label_map[labeled_foreground_mask] == 2)] = A_mbll_mcs.concentr_fit(\n",
    "    A_gt_img[:, (loader.label_map == 2)],\n",
    "    \"tumor\"\n",
    ")[:6, :].T\n",
    "\n",
    "concentrations_absolute_diff[4, :, (loader.label_map[labeled_foreground_mask] == 3)] = A_mbll_mcs.concentr_fit(\n",
    "    A_gt_img[:, (loader.label_map == 3)],\n",
    "    \"blood vessel\"\n",
    ")[:6, :].T\n",
    "\n",
    "# we compute concentration changes for every pixel as reference, and average results\n",
    "#for tissue_idx, tissue in enumerate(tissue_types_short, start=1):\n",
    "#    tissue_pixels = list(zip(*np.nonzero(loader.label_map == tissue_idx)))\n",
    "#    for ref_pixel_idx, ref_pixel_coords in tqdm(list(enumerate(tissue_pixels))):\n",
    "#        delta_A_gt_img_tmp = A_gt_img[:, (loader.label_map == tissue_idx)] - A_gt_img[:, *ref_pixel_coords, None]\n",
    "#        concentrations_absolute_diff[5, :6, (loader.label_map[labeled_foreground_mask] == tissue_idx)] += A_mbll_mcs_delta.concentr_fit_delta(\n",
    "#            delta_A_gt_img_tmp,\n",
    "#            tissue\n",
    "#        )[:6, :].T\n",
    "#        \n",
    "#    concentrations_absolute_diff[5, :, (loader.label_map[labeled_foreground_mask] == tissue_idx)] /= len(tissue_pixels)\n",
    "\n",
    "# simply use a single reference pixel\n",
    "\n",
    "for tissue_idx, tissue in enumerate(tissue_types_short, start=1):\n",
    "    concentrations_absolute_diff[5, :6, (loader.label_map[labeled_foreground_mask] == tissue_idx)] = A_mbll_mcs_delta.concentr_fit_delta(\n",
    "        delta_A_gt_img[:, (loader.label_map == tissue_idx)],\n",
    "        tissue\n",
    "    )\n"
   ]
  },
  {
   "cell_type": "code",
   "execution_count": null,
   "id": "9c809357",
   "metadata": {},
   "outputs": [],
   "source": [
    "# (tissue, models, parameters), models incl. GT\n",
    "concentrations_absolute_diff_average = np.empty((3, 7, 6))\n",
    "\n",
    "for tissue_idx, tissue in enumerate(tissue_types_short, start=1):\n",
    "    concentrations_absolute_diff_average[tissue_idx-1, 0, :] = data_loader.DataLoader.tissue_parameters[tissue][0]\n",
    "    concentrations_absolute_diff_average[tissue_idx-1, 1:, :] = np.average(concentrations_absolute_diff[:, :, (loader.label_map[labeled_foreground_mask] == tissue_idx)], axis=-1)\n"
   ]
  },
  {
   "cell_type": "code",
   "execution_count": null,
   "id": "159843f7",
   "metadata": {},
   "outputs": [],
   "source": [
    "plot_concentrations_bar(concentrations_absolute_diff_average, [\"Gray Matter\", \"Tumor\", \"Blood Vessel\"], [\"GT\", \"Abs. Jaq.\", \"Diff. Jaq.\", \"Abs. MCS\", \"Diff. MCS\", \"Abs. MBLL\", \"Diff. MBLL\"], [\"Hb02\", \"Hbb\", \"oxCCO\", \"redCCO\", \"Water\", \"Fat\"])"
   ]
  },
  {
   "cell_type": "code",
   "execution_count": null,
   "id": "8e5e134a",
   "metadata": {},
   "outputs": [],
   "source": [
    "with open(config.eval_dir / \"helicoid/concentrations_absolute_diff.pickle\", \"wb+\") as f:\n",
    "    pickle.dump(concentrations_absolute_diff, f)\n",
    "\n",
    "with open(config.eval_dir / \"helicoid/concentrations_absolute_diff_average.pickle\", \"wb+\") as f:\n",
    "    pickle.dump(concentrations_absolute_diff_average, f)"
   ]
  },
  {
   "cell_type": "markdown",
   "id": "dd37948e",
   "metadata": {},
   "source": [
    "Save data.\n",
    "For Diff MBLL simply use regular difference between two spectra. Also just use gray matter."
   ]
  },
  {
   "cell_type": "code",
   "execution_count": null,
   "id": "30993390",
   "metadata": {},
   "outputs": [],
   "source": [
    "bar_plot_data = concentrations_absolute_diff_average.copy()\n",
    "bar_plot_data[:, ]"
   ]
  },
  {
   "cell_type": "markdown",
   "id": "e730492d",
   "metadata": {},
   "source": [
    "### Concentration Reconstruction"
   ]
  },
  {
   "cell_type": "code",
   "execution_count": null,
   "id": "e0ab686b",
   "metadata": {},
   "outputs": [],
   "source": [
    "fully_reconstructed_image_id = \"020-01\"\n",
    "image_ids = [\"020-01\", \"012-01\", \"015-01\"]\n",
    "num_images = len(image_ids)"
   ]
  },
  {
   "cell_type": "markdown",
   "id": "8fd40a3f",
   "metadata": {},
   "source": [
    "Define additional MBLL backwards models"
   ]
  },
  {
   "cell_type": "code",
   "execution_count": null,
   "id": "a2a3a1a9",
   "metadata": {},
   "outputs": [],
   "source": [
    "baseline_attenuations_diffusion, baseline_pathlengths_diffusion, baseline_scatterlengths_diffusion = [], [], []\n",
    "for tissue_type in tissue_types_short:\n",
    "    params = (\n",
    "        loader.wavelengths,\n",
    "        mu_a_matrix,\n",
    "        data_loader.DataLoader.tissue_parameters[tissue_type][0],\n",
    "        *data_loader.DataLoader.tissue_parameters[tissue_type][1],\n",
    "        *data_loader.DataLoader.tissue_parameters[tissue_type][-2:],\n",
    "    )\n",
    "    baseline_attenuations_diffusion.append(A_carp_concentrations(*params)[:, 0])\n",
    "    baseline_pathlengths_diffusion.append(A_carp_pathlength(*params)[:, 0]),\n",
    "    baseline_scatterlengths_diffusion.append(A_carp_scatterlength(*params)[:, 0])\n",
    "\n",
    "A_mbll_carp = A_mbll_fit_delta(\n",
    "    loader.wavelengths,\n",
    "    mu_a_matrix,\n",
    "    tissue_types_short,\n",
    "    baseline_pathlengths_diffusion,\n",
    "    baseline_scatterlengths_diffusion,\n",
    "    [data_loader.DataLoader.tissue_parameters[tissue][1][1] for tissue in tissue_types_short],\n",
    "    [data_loader.DataLoader.tissue_parameters[tissue][2] for tissue in tissue_types_short]\n",
    ")"
   ]
  },
  {
   "cell_type": "code",
   "execution_count": null,
   "id": "4138affc",
   "metadata": {},
   "outputs": [],
   "source": [
    "A_mbll_mcs_gm_pl_const = A_mbll_fit_delta(\n",
    "    loader.wavelengths,\n",
    "    mu_a_matrix,\n",
    "    [\"general\"],\n",
    "    [gray_matter_baseline_attenuation],\n",
    "    [gray_matter_scatterlength],\n",
    "    [data_loader.DataLoader.tissue_parameters[\"gray matter\"][1][1]],\n",
    "    [data_loader.DataLoader.tissue_parameters[\"gray matter\"][2]]\n",
    ")\n",
    "\n",
    "A_mbll_const = A_mbll_fit_delta(\n",
    "    loader.wavelengths,\n",
    "    mu_a_matrix,\n",
    "    [\"general\"],\n",
    "    np.ones((1, len(loader.wavelengths))),\n",
    "    np.ones((1, len(loader.wavelengths))),\n",
    "    [data_loader.DataLoader.tissue_parameters[\"gray matter\"][1][1]],\n",
    "    [data_loader.DataLoader.tissue_parameters[\"gray matter\"][2]]\n",
    ")"
   ]
  },
  {
   "cell_type": "code",
   "execution_count": null,
   "id": "f8edf3d7",
   "metadata": {},
   "outputs": [],
   "source": [
    "backwards_models_mbll = {\n",
    "    A_mbll_mcs_delta,\n",
    "    A_mbll_carp\n",
    "}\n",
    "\n",
    "backwards_models_mbll_tissue_independent = {\n",
    "    A_mbll_mcs_gm_pl_const,\n",
    "    A_mbll_const\n",
    "}"
   ]
  },
  {
   "cell_type": "code",
   "execution_count": null,
   "id": "9a9120b0",
   "metadata": {},
   "outputs": [],
   "source": [
    "backwards_models_nonlinear = {\n",
    "    \"Jacques, specific\":\n",
    "    (\n",
    "        A_jacques_blood_fraction,\n",
    "        {\"const_vals\": [list(jacques_m_params[tissue]) for tissue in tissue_types_long]}\n",
    "    ),\n",
    "    \"Jacques, general\":\n",
    "    (\n",
    "        A_jacques_blood_fraction, \n",
    "        {\"const_vals\": [list(jacques_m_params[\"general\"])] * len(tissue_types_long)}\n",
    "    ),\n",
    "    \"Carp\":\n",
    "    (\n",
    "        A_carp_blood_fraction, \n",
    "        {\n",
    "            \"const_vals\": [data_loader.DataLoader.tissue_parameters[tissue][-2:] for tissue in ([\"gray matter\"] + tissue_types_short)],\n",
    "        }\n",
    "    ),\n",
    "    \"NLLS + MCS\":\n",
    "    (A_mcs.A_blood_fraction, {\n",
    "        \"jacobian\": A_mcs.jacobian_blood_fraction\n",
    "    })\n",
    "}"
   ]
  },
  {
   "cell_type": "code",
   "execution_count": null,
   "id": "245b678b",
   "metadata": {},
   "outputs": [],
   "source": [
    "num_mbll_models = len(backwards_models_mbll)\n",
    "num_mbll_models_tissue_independent = len(backwards_models_mbll_tissue_independent)\n",
    "num_nonlinear_models = len(backwards_models_nonlinear)\n",
    "loader.load_data(fully_reconstructed_image_id)\n",
    "reconstructed_img_num_spectrum = np.prod(loader.get_attenuation(fully_reconstructed_image_id).shape[1:])\n",
    "\n",
    "# (models, params, spectrum)\n",
    "reconstructed_concentrations_full_image = np.ones((\n",
    "    num_mbll_models + num_mbll_models_tissue_independent + num_nonlinear_models,\n",
    "    8,\n",
    "    reconstructed_img_num_spectrum\n",
    "), dtype=float) * np.nan\n",
    "\n",
    "# (models)\n",
    "reconstruction_time = np.zeros(num_mbll_models + num_nonlinear_models + num_mbll_models_tissue_independent)\n",
    "\n",
    "# (tissues, models, images, params)\n",
    "#reconstructed_concentrations_average = np.empty((len(tissue_types), num_mbll_models + num_nonlinear_models, num_images, 8))\n",
    "\n",
    "\n",
    "tissue_ctr = np.zeros((len(image_ids), 5), dtype=int)\n",
    "for image_idx, image_id in enumerate(image_ids):\n",
    "    loader.load_data(image_id)\n",
    "    cur_label_map = loader.label_map\n",
    "    labels, label_cts = np.unique(cur_label_map, return_counts=True)\n",
    "    tissue_ctr[image_idx, labels.astype(int)] = label_cts\n",
    "\n",
    "# tissue pixel counts summed over all images\n",
    "tissue_ctr_summed = np.sum(tissue_ctr, axis=0, dtype=int)\n",
    "\n",
    "# inhomogenous array\n",
    "# first index indexes tissue\n",
    "# after that the indices are (models, params, num_spectra)\n",
    "# where num_spectra is the number of pixels of tissue type from all images of interest\n",
    "reconstructed_concentrations_labeled = []\n",
    "for tissue_idx in [1, 2, 3]:\n",
    "    reconstructed_concentrations_labeled.append(\n",
    "        np.empty((num_mbll_models + num_nonlinear_models, 8, tissue_ctr_summed[tissue_idx]), dtype=float)\n",
    "    )\n"
   ]
  },
  {
   "cell_type": "code",
   "execution_count": null,
   "id": "0fa5b894-7f40-40e7-b460-f0a1a59a8715",
   "metadata": {},
   "outputs": [],
   "source": [
    "tissue_ctr"
   ]
  },
  {
   "cell_type": "markdown",
   "id": "e5a8f211",
   "metadata": {},
   "source": [
    "MBLL - models, with tissue specific parameters"
   ]
  },
  {
   "cell_type": "code",
   "execution_count": null,
   "id": "8bc8330f",
   "metadata": {},
   "outputs": [],
   "source": [
    "for image_idx, image_id in enumerate(image_ids):\n",
    "    A_gt_img = loader.get_attenuation(image_id)   \n",
    "    for model_idx, mbll_model in tqdm(list(enumerate(backwards_models_mbll))):\n",
    "        for tissue_idx, tissue in enumerate(tissue_types_short, start=1):\n",
    "            if image_id == fully_reconstructed_image_id and tissue == \"gray matter\":\n",
    "                # additionally compute concentrations for unlabeled region,\n",
    "                # use default gray matter pixel as reference pixel\n",
    "                delta_A_gt_img = loader.get_attenuation_change(image_id, reference_label=\"gray matter\")\n",
    "                reconstruction_time[model_idx] = -time.monotonic()\n",
    "                res = mbll_model.concentr_fit_delta(\n",
    "                    delta_A=delta_A_gt_img[:, (loader.label_map == 0)],\n",
    "                    tissue_type=\"gray matter\"\n",
    "                )\n",
    "                reconstruction_time[model_idx] += time.monotonic()\n",
    "                reconstructed_concentrations_full_image[model_idx, :7, np.flatnonzero(loader.label_map == 0)] = res.T\n",
    "            \n",
    "            reconstructed_concentrations_tmp = np.zeros((7, tissue_ctr[image_idx, tissue_idx], tissue_ctr[image_idx, tissue_idx]))\n",
    "            tissue_pixels = list(zip(*np.nonzero(loader.label_map == tissue_idx)))\n",
    "            time_val = -time.monotonic()\n",
    "            for ref_idx, ref_coords in tqdm(list(enumerate(tissue_pixels))):\n",
    "                delta_A_gt_img = A_gt_img[:, (loader.label_map == tissue_idx)] - A_gt_img[:, *ref_coords, None]\n",
    "                res = mbll_model.concentr_fit_delta(\n",
    "                    delta_A=delta_A_gt_img,\n",
    "                    tissue_type=tissue\n",
    "                )\n",
    "                reconstructed_concentrations_tmp[:, ref_idx, :] = res\n",
    "            time_val += time.monotonic()\n",
    "            if image_id == fully_reconstructed_image_id:\n",
    "                reconstruction_time[model_idx] += time_val / tissue_ctr[image_idx, tissue_idx]\n",
    "            assert len(tissue_pixels) == tissue_ctr[image_idx, tissue_idx]\n",
    "            cur_tissue_spectrum_idx = np.sum(tissue_ctr[:image_idx, tissue_idx])\n",
    "            reconstructed_concentrations_labeled[tissue_idx-1][model_idx, :7, cur_tissue_spectrum_idx:(cur_tissue_spectrum_idx+tissue_ctr[image_idx, tissue_idx])] = np.average(reconstructed_concentrations_tmp, axis=1) #average over reference pixels\n",
    "            if image_id == fully_reconstructed_image_id:\n",
    "                # for image reconstruction, we only use one pixel within tissue as reference\n",
    "                reconstructed_concentrations_full_image[model_idx, :7, np.flatnonzero(loader.label_map == tissue_idx)] = reconstructed_concentrations_tmp[:, loader.reference_pixel_tissue_ctr, :].T  "
   ]
  },
  {
   "cell_type": "markdown",
   "id": "24b13a14",
   "metadata": {},
   "source": [
    "Old version of cell above. Should do the same, but for fewer pixels."
   ]
  },
  {
   "cell_type": "code",
   "execution_count": null,
   "id": "9c0cc468",
   "metadata": {},
   "outputs": [],
   "source": [
    "num_ref_pixels = 100"
   ]
  },
  {
   "cell_type": "code",
   "execution_count": null,
   "id": "0caf4bcb",
   "metadata": {},
   "outputs": [],
   "source": [
    "for image_idx, image_id in enumerate(image_ids):\n",
    "    A_gt_img = loader.get_attenuation(image_id)    \n",
    "    for model_idx, mbll_model in tqdm(list(enumerate(backwards_models_mbll))):\n",
    "        for tissue_idx, tissue in enumerate(tissue_types_short, start=1):\n",
    "            if image_id == fully_reconstructed_image_id and tissue == \"gray matter\":\n",
    "                # additionally compute concentrations for unlabeled region,\n",
    "                # use default gray matter pixel as reference pixel\n",
    "                delta_A_gt_img = loader.get_attenuation_change(image_id, reference_label=\"normal\")\n",
    "                res = mbll_model.concentr_fit_delta(\n",
    "                    delta_A=delta_A_gt_img[:, (loader.label_map == 0)],\n",
    "                    tissue_type=tissue\n",
    "                )\n",
    "                reconstructed_concentrations_full_image[model_idx, :7, (loader.label_map.reshape(-1) == 0)] = res.T\n",
    "            \n",
    "            # reconstruct parameters for all pixels of tissue, using all pixels of same tissue type as reference\n",
    "            num_pixels_per_tissue = tissue_ctr[image_idx, tissue_idx]\n",
    "            #(params, ref-spectrum, spectrum)\n",
    "            reconstructed_concentrations_tmp = np.zeros((7, num_ref_pixels, num_pixels_per_tissue))\n",
    "            ref_pixels = np.zeros_like(loader.label_map, dtype=bool)\n",
    "            ref_pixels[np.unravel_index(np.flatnonzero(loader.label_map == tissue_idx)[:num_ref_pixels], shape=loader.label_map.shape)] = True\n",
    "            delta_A_gt_img = A_gt_img[:, None, (loader.label_map == tissue_idx)] - A_gt_img[:, ref_pixels, None]\n",
    "            res = mbll_model.concentr_fit_delta(\n",
    "                delta_A=delta_A_gt_img,\n",
    "                tissue_type=tissue\n",
    "            )\n",
    "            if image_id == fully_reconstructed_image_id:\n",
    "                # for image reconstruction, we only use one pixel within tissue as reference\n",
    "                reconstructed_concentrations_full_image[model_idx, :7, np.flatnonzero(loader.label_map == tissue_idx)] = res[:, loader.reference_pixel_tissue_ctr, :].T\n",
    "            \n",
    "            reconstructed_concentrations_labeled[tissue_idx-1][model_idx, :7, :] = np.average(res, axis=1)\n",
    "            "
   ]
  },
  {
   "cell_type": "markdown",
   "id": "39a77a63",
   "metadata": {},
   "source": [
    "Nonlinear models"
   ]
  },
  {
   "cell_type": "code",
   "execution_count": null,
   "id": "a204b815",
   "metadata": {},
   "outputs": [],
   "source": [
    "for image_idx, image_id in enumerate(image_ids):\n",
    "    delta_A_gt_img = loader.get_attenuation(image_id)    \n",
    "    labeled_foreground_mask = (loader.label_map != 0) & (loader.label_map != 4)\n",
    "    for model_idx, model_str in tqdm(list(enumerate(backwards_models_nonlinear.keys(), start=len(backwards_models_mbll)))):\n",
    "        delta_A_gt_img_tmp, wavelengths_tmp, mu_a_matrix_tmp = delta_A_gt_img, loader.wavelengths, mu_a_matrix\n",
    "        model_func = backwards_models_nonlinear[model_str][0]\n",
    "        \n",
    "        if \"NLLS\" in model_str and \"MCS\" in model_str:\n",
    "            delta_A_gt_img_tmp, wavelengths_tmp, mu_a_matrix_tmp = delta_A_gt_img[::mcs_sparsity, :], loader.wavelengths[::mcs_sparsity], mu_a_matrix[::mcs_sparsity, :]\n",
    "\n",
    "        if image_id == fully_reconstructed_image_id:\n",
    "                reconstruction_time[model_idx] = -time.monotonic()\n",
    "                res, errors = concentr_fit_nonlinear_multiple_tissues_concurrent(\n",
    "                    delta_A_gt_img_tmp[:, loader.label_map != 4],\n",
    "                    loader.label_map[loader.label_map != 4],\n",
    "                    wavelengths_tmp,\n",
    "                    mu_a_matrix_tmp,\n",
    "                    model_func,\n",
    "                    variables_bool_arr=[True] * 8 + [False] * (len(signature(model_func).parameters) - 5),\n",
    "                    left_bounds = np.array([0] * 8),\n",
    "                    right_bounds = np.array([1, 1, 0.05, 0.05, 1, 1, 100, 7]),\n",
    "                    update_init=True,\n",
    "                    constraint=None,\n",
    "                    init_vals=concentrations_to_blood_fraction(\n",
    "                        np.concatenate(data_loader.DataLoader.tissue_parameters[\"gray matter\"][:2])\n",
    "                    ),\n",
    "                    ref_vals=hyperparams[image_id, model_str][1],\n",
    "                    num_processes=30,\n",
    "                    **backwards_models_nonlinear[model_str][1]\n",
    "                )\n",
    "                reconstruction_time[model_idx] += time.monotonic()\n",
    "                res = blood_fraction_to_concentrations(res)\n",
    "                reconstructed_concentrations_full_image[model_idx, :, np.flatnonzero(loader.label_map != 4)] = res.T\n",
    "                for tissue_idx in [1, 2, 3]:\n",
    "                    cur_tissue_idx = np.sum(tissue_ctr[:image_idx, tissue_idx])\n",
    "                    reconstructed_concentrations_labeled[tissue_idx-1][model_idx, :, cur_tissue_idx:(cur_tissue_idx+tissue_ctr[image_idx, tissue_idx])] = res[:, (loader.label_map[loader.label_map != 4] == tissue_idx)]\n",
    "        else:\n",
    "            res, errors = concentr_fit_nonlinear_multiple_tissues_concurrent(\n",
    "                delta_A_gt_img_tmp[:, labeled_foreground_mask],\n",
    "                loader.label_map[labeled_foreground_mask],\n",
    "                wavelengths_tmp,\n",
    "                mu_a_matrix_tmp,\n",
    "                model_func,\n",
    "                variables_bool_arr=([True] * 8) + ([False] * (len(signature(model_func).parameters) - 5)),\n",
    "                left_bounds=np.array([0]*8),\n",
    "                right_bounds=np.array([1, 1, 0.05, 0.05, 1, 1, 100, 7]),\n",
    "                update_init=True,\n",
    "                constraint=None,\n",
    "                init_vals=concentrations_to_blood_fraction(\n",
    "                    np.concatenate(data_loader.DataLoader.tissue_parameters[\"gray matter\"][:2])\n",
    "                ),\n",
    "                ref_vals=hyperparams[image_id, model_str][1],\n",
    "                num_processes=30,\n",
    "                **backwards_models_nonlinear[model_str][1]\n",
    "            )\n",
    "            res = blood_fraction_to_concentrations(res)\n",
    "            for tissue_idx in [1, 2, 3]:\n",
    "                cur_tissue_idx = np.sum(tissue_ctr[:image_idx, tissue_idx])\n",
    "                reconstructed_concentrations_labeled[tissue_idx-1][model_idx, :, cur_tissue_idx:(cur_tissue_idx+tissue_ctr[image_idx,tissue_idx])] = res[:, (loader.label_map[labeled_foreground_mask] == tissue_idx)]\n"
   ]
  },
  {
   "cell_type": "markdown",
   "id": "f6a70041",
   "metadata": {},
   "source": [
    "Tissue independent MBLL models\n",
    "(only image reconstruction)"
   ]
  },
  {
   "cell_type": "code",
   "execution_count": null,
   "id": "4e766159",
   "metadata": {},
   "outputs": [],
   "source": [
    "delta_A_gt_img = loader.get_attenuation_change(fully_reconstructed_image_id)\n",
    "for model_idx, model in tqdm(list(enumerate(backwards_models_mbll_tissue_independent, start=(num_mbll_models + num_nonlinear_models)))):\n",
    "    res = model.concentr_fit_delta(\n",
    "        delta_A=delta_A_gt_img[:, loader.label_map != 4],\n",
    "        tissue_type=\"general\"\n",
    "    )\n",
    "\n",
    "    reconstructed_concentrations_full_image[model_idx, :7, np.flatnonzero(loader.label_map != 4)] = res.T"
   ]
  },
  {
   "cell_type": "code",
   "execution_count": null,
   "id": "1cafff61",
   "metadata": {},
   "outputs": [],
   "source": [
    "with open(config.eval_dir/\"helicoid/reconstructed_concentrations_full_image.pickle\", \"wb+\") as f:\n",
    "    pickle.dump(reconstructed_concentrations_full_image, f)"
   ]
  },
  {
   "cell_type": "code",
   "execution_count": null,
   "id": "3af26c31-d7bb-469c-bdba-23e5b4649cbd",
   "metadata": {},
   "outputs": [],
   "source": [
    "with ope"
   ]
  },
  {
   "cell_type": "markdown",
   "id": "febcce75",
   "metadata": {},
   "source": [
    "Compute statistics"
   ]
  },
  {
   "cell_type": "markdown",
   "id": "3c2cbfe4",
   "metadata": {},
   "source": [
    "First data for bar plot: Per Tissue average over all spectra"
   ]
  },
  {
   "cell_type": "code",
   "execution_count": null,
   "id": "f81b4e57",
   "metadata": {},
   "outputs": [],
   "source": [
    "# (tissues, models, params)\n",
    "bar_plot_data = np.zeros((3, num_mbll_models + num_nonlinear_models, 6), dtype=float)\n",
    "\n",
    "for tissue_idx in [1, 2, 3]:\n",
    "    bar_plot_data[tissue_idx-1] = np.average(reconstructed_concentrations_labeled[tissue_idx-1][:, :6, :], axis=-1)"
   ]
  },
  {
   "cell_type": "markdown",
   "id": "b9f23208",
   "metadata": {},
   "source": [
    "Now the prediction error for the appendix.\n",
    "For nonlinear models, for every tissue we take the data from the bar plots compute squared error of (averaged, in previous step) parameters to literature values. For the tissue average, average these, weighted by the number of pixels per tissue type. For MBLL models the tissue weights have to be squared, since we computed average over all reference pixels.\n",
    "\n",
    "For MBLL we do the same, but don't substract any literature values."
   ]
  },
  {
   "cell_type": "code",
   "execution_count": null,
   "id": "363f781e",
   "metadata": {},
   "outputs": [],
   "source": [
    "# (models, tissue+1)\n",
    "prediction_error_table = np.empty(\n",
    "    (\n",
    "        num_nonlinear_models + num_mbll_models,\n",
    "        4 # three tissue types + one column for average over all tissues\n",
    "    )\n",
    ")\n",
    "\n",
    "for tissue_idx, tissue in enumerate(tissue_types_short, start=1):\n",
    "    prediction_error_table[:num_mbll_models, tissue_idx-1] = np.sqrt(np.sum(bar_plot_data[tissue_idx-1, :num_mbll_models, :6]**2, axis=-1))\n",
    "    prediction_error_table[num_mbll_models:, tissue_idx-1] = np.sqrt(np.sum((bar_plot_data[tissue_idx-1, num_mbll_models:, :6] - \n",
    "        data_loader.DataLoader.tissue_parameters[tissue][0])**2, axis=-1))\n",
    "\n",
    "\n",
    "\n",
    "prediction_error_table[:num_mbll_models, 3] = np.average(\n",
    "    prediction_error_table[:num_mbll_models, :3],\n",
    "    axis=1,\n",
    "    weights=tissue_ctr_summed[1:4]**2\n",
    ")\n",
    "\n",
    "prediction_error_table[num_mbll_models:, 3] = np.average(\n",
    "    prediction_error_table[num_mbll_models:, :3],\n",
    "    axis=1,\n",
    "    weights=tissue_ctr_summed[1:4]\n",
    ")"
   ]
  },
  {
   "cell_type": "code",
   "execution_count": null,
   "id": "a1debddf",
   "metadata": {},
   "outputs": [],
   "source": [
    "df = pandas.DataFrame(prediction_error_table)\n",
    "df.index = [\"MBLL MCS\", \"MBLL Carp\"] + list(backwards_models_nonlinear.keys())\n",
    "df.columns = [\"GM\", \"tumor\", \"blood vessel\", \"avg\"]\n",
    "print(df)"
   ]
  },
  {
   "cell_type": "markdown",
   "id": "e31d00ac",
   "metadata": {},
   "source": [
    "Store the data."
   ]
  },
  {
   "cell_type": "code",
   "execution_count": null,
   "id": "fdc000cf",
   "metadata": {},
   "outputs": [],
   "source": [
    "with open(config.eval_dir/\"helicoid/prediction_error_df.pickle\", \"wb+\") as f:\n",
    "    pickle.dump(df, f)"
   ]
  },
  {
   "cell_type": "markdown",
   "id": "721cdfb5",
   "metadata": {},
   "source": [
    "### Diagrams"
   ]
  },
  {
   "cell_type": "markdown",
   "id": "d870a684",
   "metadata": {},
   "source": [
    "#### Images"
   ]
  },
  {
   "cell_type": "markdown",
   "id": "2a7c1014",
   "metadata": {},
   "source": [
    "To visualize MBLL images, literature values are added to concentration-change values."
   ]
  },
  {
   "cell_type": "code",
   "execution_count": null,
   "id": "f2be63fb",
   "metadata": {},
   "outputs": [],
   "source": [
    "image_data = reconstructed_concentrations_full_image.copy()\n",
    "for tissue_idx, tissue in enumerate(tissue_types_short, start=1):\n",
    "    image_data[:num_mbll_models, :7, :] += np.concatenate(data_loader.DataLoader.tissue_parameters[tissue][:2])[None, :7, None]\n",
    "\n",
    "loader.load_data(fully_reconstructed_image_id)\n",
    "image_data = image_data[:, :6, :].reshape(image_data.shape[0], 6, *loader.label_map.shape)"
   ]
  },
  {
   "cell_type": "markdown",
   "id": "f9597acf",
   "metadata": {},
   "source": [
    "#### Bar plot"
   ]
  },
  {
   "cell_type": "markdown",
   "id": "0281a23b",
   "metadata": {},
   "source": [
    "append literature values"
   ]
  },
  {
   "cell_type": "code",
   "execution_count": null,
   "id": "97d3ae22",
   "metadata": {},
   "outputs": [],
   "source": [
    "literature_bar_data = np.empty((bar_plot_data.shape[0], 1, 6))\n",
    "for tissue_idx, tissue in enumerate(tissue_types_short, start=1):\n",
    "    literature_bar_data[tissue_idx-1:, 0, :] = data_loader.DataLoader.tissue_parameters[tissue][0]\n",
    "\n",
    "bar_plot_data = np.concatenate((literature_bar_data, bar_plot_data), axis=1)"
   ]
  },
  {
   "cell_type": "code",
   "execution_count": null,
   "id": "df0ff7fa",
   "metadata": {},
   "outputs": [],
   "source": [
    "with open(config.eval_dir/\"helicoid/bar_plot_data.pickle\", \"wb+\") as f:\n",
    "    pickle.dump(bar_plot_data, f)"
   ]
  },
  {
   "cell_type": "code",
   "execution_count": null,
   "id": "6d30d25b",
   "metadata": {},
   "outputs": [],
   "source": [
    "plot_concentrations_bar(\n",
    "    bar_plot_data,\n",
    "    tissue_types_short,\n",
    "    [\"GT\"] + [\"MBLL1\", \"MBLL2\"] + list(backwards_models_nonlinear.keys()),\n",
    "    [\"Hb02\", \"Hbb\", \"oxCCO\", \"redCCO\", \"f_H20\", \"f_fat\"]\n",
    ")"
   ]
  },
  {
   "cell_type": "markdown",
   "id": "be85c641",
   "metadata": {},
   "source": [
    "Reconstruction times"
   ]
  },
  {
   "cell_type": "code",
   "execution_count": null,
   "id": "5f382002",
   "metadata": {},
   "outputs": [],
   "source": [
    "df = pandas.DataFrame(reconstruction_time.T)\n",
    "df.index = [\"MBLL MCS\", \"MBLL Carp\", \"MBLL, const. GM PL\", \"MBLL ones PL\"] + list(backwards_models_nonlinear.keys())\n",
    "df.columns = [\"Runtime [s]\"]\n",
    "print(df)"
   ]
  },
  {
   "cell_type": "code",
   "execution_count": null,
   "id": "eabf6b4e",
   "metadata": {},
   "outputs": [],
   "source": [
    "with open(config.eval_dir/\"helicoid/times_df.pickle\", \"wb+\") as f:\n",
    "    pickle.dump(df, f)"
   ]
  },
  {
   "cell_type": "code",
   "execution_count": null,
   "id": "0500d16b-e3c8-4a1a-a0dd-dd3a61d1b11e",
   "metadata": {},
   "outputs": [],
   "source": []
  }
 ],
 "metadata": {
  "kernelspec": {
   "display_name": "Python 3 (ipykernel)",
   "language": "python",
   "name": "python3"
  },
  "language_info": {
   "codemirror_mode": {
    "name": "ipython",
    "version": 3
   },
   "file_extension": ".py",
   "mimetype": "text/x-python",
   "name": "python",
   "nbconvert_exporter": "python",
   "pygments_lexer": "ipython3",
   "version": "3.11.11"
  }
 },
 "nbformat": 4,
 "nbformat_minor": 5
}
