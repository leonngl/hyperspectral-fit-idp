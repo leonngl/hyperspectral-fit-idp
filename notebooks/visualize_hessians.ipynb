{
 "cells": [
  {
   "cell_type": "code",
   "execution_count": 3,
   "id": "8ebf5d6b",
   "metadata": {},
   "outputs": [],
   "source": [
    "import numpy as np\n",
    "from PIL import Image"
   ]
  },
  {
   "cell_type": "code",
   "execution_count": 4,
   "id": "4e8b85a0",
   "metadata": {},
   "outputs": [],
   "source": [
    "n, w, s = 15, 25, 50\n",
    "\n",
    "jacobian = np.fromfunction(\n",
    "    lambda i, j: i // w + 1 == j // n,\n",
    "    (s*w, (s+1)*n),\n",
    "    dtype=int,\n",
    ")\n",
    "\n",
    "jacobian[:, :n] = True"
   ]
  },
  {
   "cell_type": "code",
   "execution_count": 5,
   "id": "3ca7039c",
   "metadata": {},
   "outputs": [],
   "source": [
    "jacobian2 = np.zeros((s*w, (s+1)*n), dtype=bool)\n",
    "for i in range(jacobian2.shape[0]):\n",
    "    for j in range(jacobian2.shape[1]):\n",
    "        jacobian2[i, j] = i // w + 1 == j // n\n",
    "\n",
    "\n",
    "jacobian2[:, :n] = True"
   ]
  },
  {
   "cell_type": "code",
   "execution_count": 6,
   "id": "e53de09d",
   "metadata": {},
   "outputs": [
    {
     "data": {
      "text/plain": [
       "True"
      ]
     },
     "execution_count": 6,
     "metadata": {},
     "output_type": "execute_result"
    }
   ],
   "source": [
    "np.all(jacobian == jacobian2)"
   ]
  },
  {
   "cell_type": "code",
   "execution_count": 7,
   "id": "9aa6bd66",
   "metadata": {},
   "outputs": [],
   "source": [
    "jacobian_img = Image.fromarray(jacobian)\n",
    "jacobian_img.show()"
   ]
  },
  {
   "cell_type": "code",
   "execution_count": 8,
   "id": "d57d3cc9",
   "metadata": {},
   "outputs": [
    {
     "name": "stderr",
     "output_type": "stream",
     "text": [
      "** Message: 00:39:53.656: main.vala:507: Starting session with system profile\n"
     ]
    }
   ],
   "source": [
    "hessian = jacobian.T @ jacobian"
   ]
  },
  {
   "cell_type": "code",
   "execution_count": 9,
   "id": "c2076fea",
   "metadata": {},
   "outputs": [],
   "source": [
    "hessian_formula = np.fromfunction(\n",
    "    np.vectorize(lambda i, j: i == j or i < n or j < n or ((i // n) == (j // n))),\n",
    "    ((s+1)*n, (s+1)*n),\n",
    "    dtype=int\n",
    ")"
   ]
  },
  {
   "cell_type": "code",
   "execution_count": 10,
   "id": "4140ab86",
   "metadata": {},
   "outputs": [
    {
     "data": {
      "text/plain": [
       "True"
      ]
     },
     "execution_count": 10,
     "metadata": {},
     "output_type": "execute_result"
    }
   ],
   "source": [
    "np.all(hessian_formula == hessian)"
   ]
  },
  {
   "cell_type": "code",
   "execution_count": 11,
   "id": "c9c66529",
   "metadata": {},
   "outputs": [
    {
     "name": "stderr",
     "output_type": "stream",
     "text": [
      "** Message: 00:39:54.746: main.vala:507: Starting session with system profile\n"
     ]
    }
   ],
   "source": [
    "hessian_img = Image.fromarray(hessian)\n",
    "hessian_img.show()"
   ]
  },
  {
   "cell_type": "code",
   "execution_count": null,
   "id": "13a4ac23",
   "metadata": {},
   "outputs": [],
   "source": []
  }
 ],
 "metadata": {
  "kernelspec": {
   "display_name": "nonlinear-fit",
   "language": "python",
   "name": "python3"
  },
  "language_info": {
   "codemirror_mode": {
    "name": "ipython",
    "version": 3
   },
   "file_extension": ".py",
   "mimetype": "text/x-python",
   "name": "python",
   "nbconvert_exporter": "python",
   "pygments_lexer": "ipython3",
   "version": "3.11.11"
  }
 },
 "nbformat": 4,
 "nbformat_minor": 5
}
