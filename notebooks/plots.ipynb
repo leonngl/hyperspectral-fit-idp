{
 "cells": [
  {
   "cell_type": "code",
   "execution_count": null,
   "id": "e3b80d0c",
   "metadata": {},
   "outputs": [],
   "source": [
    "%load_ext autoreload\n",
    "%autoreload 2\n",
    "%matplotlib qt\n",
    "#%matplotlib widget"
   ]
  },
  {
   "cell_type": "code",
   "execution_count": null,
   "id": "3a3b3968",
   "metadata": {},
   "outputs": [],
   "source": [
    "import os\n",
    "import sys\n",
    "from pathlib import Path\n",
    "\n",
    "src_dir = str(Path(os.getcwd()).parent / \"src\")\n",
    "sys.path.insert(1, src_dir)\n",
    "#os.environ[\"PYTHONPATH\"] = src_dir"
   ]
  },
  {
   "cell_type": "code",
   "execution_count": null,
   "id": "c58a727e",
   "metadata": {},
   "outputs": [],
   "source": [
    "import numpy as np\n",
    "import matplotlib.pyplot as plt\n",
    "import matplotlib.cm as cm\n",
    "from matplotlib.colors import Normalize, ListedColormap\n",
    "import config\n",
    "from utils import set_size, print_header\n",
    "import scienceplots\n",
    "import pickle\n",
    "import data_loader\n",
    "import pandas\n",
    "from mcs_function import SimulationAttenuation\n",
    "from mpl_toolkits.axes_grid1 import AxesGrid, ImageGrid\n",
    "from PIL import Image\n",
    "\n",
    "plt.style.use('science')"
   ]
  },
  {
   "cell_type": "code",
   "execution_count": null,
   "id": "12465457",
   "metadata": {},
   "outputs": [],
   "source": [
    "ground_truth_color = \"orange\"\n",
    "colors = plt.rcParams['axes.prop_cycle'].by_key()['color']"
   ]
  },
  {
   "cell_type": "code",
   "execution_count": null,
   "id": "cabed3ce",
   "metadata": {},
   "outputs": [],
   "source": [
    "colors"
   ]
  },
  {
   "cell_type": "code",
   "execution_count": null,
   "id": "b0831cdd",
   "metadata": {},
   "outputs": [],
   "source": [
    "molecule_names = [\"Hb02\", \"Hbb\", \"oxCCO\", \"redCOO\", \"H20\", \"Fat\"]"
   ]
  },
  {
   "cell_type": "code",
   "execution_count": null,
   "id": "411f3cfb",
   "metadata": {},
   "outputs": [],
   "source": [
    "molecules = [\"Hb02\", \"Hbb\", \"oxCCO\", \"redCOO\", \"H20\", \"Fat\"]"
   ]
  },
  {
   "cell_type": "code",
   "execution_count": null,
   "id": "c22ec401",
   "metadata": {},
   "outputs": [],
   "source": [
    "molecules_units = [r\"$c_\\text{Hb02}$ [$\\mu$M]\", r\"$c_\\text{Hbb}$ [$\\mu$M]\", r\"$c_\\text{oxCCO}$ [$\\mu$M]\", r\"$c_\\text{redCCO}$ [$\\mu$M]\", r\"$f_\\text{H20}$ [\\%]\", r\"$f_\\text{Fat}$ [\\%]\"]"
   ]
  },
  {
   "cell_type": "code",
   "execution_count": null,
   "id": "a42d09e2",
   "metadata": {},
   "outputs": [],
   "source": [
    "doc_width = 516.0"
   ]
  },
  {
   "cell_type": "markdown",
   "id": "b9d40adb",
   "metadata": {},
   "source": [
    "# Background"
   ]
  },
  {
   "cell_type": "markdown",
   "id": "b732cddc",
   "metadata": {},
   "source": [
    "### Absorption spectra"
   ]
  },
  {
   "cell_type": "code",
   "execution_count": null,
   "id": "4a9239dc",
   "metadata": {},
   "outputs": [],
   "source": [
    "wavelengths=np.linspace(520, 900, 5000)\n",
    "mu_a_matrix = data_loader.DataLoader.absorption_coefs(\n",
    "    wavelengths,\n",
    "    use_diff_oxycco=False,\n",
    "    use_water_and_fat=True\n",
    ")"
   ]
  },
  {
   "cell_type": "code",
   "execution_count": null,
   "id": "a0943791",
   "metadata": {},
   "outputs": [],
   "source": [
    "fig, ax1 = plt.subplots(1, 1, figsize=set_size(doc_width, subplots=(1, 1)), layout='constrained')\n",
    "handles = []\n",
    "ax1.plot(wavelengths, mu_a_matrix[:, :4], label=molecule_names[:4])\n",
    "ax1.set_xlabel=\"Wavelengths (nm)\"\n",
    "ax1.set_ylabel(\"Molar absorption coefficient [cm$^{-1}$mM$^{-1}$]\")\n",
    "ax2 = ax1.twinx()\n",
    "ax2.plot(wavelengths, mu_a_matrix[:, -2], color=colors[4], label=molecule_names[4])\n",
    "ax2.plot(wavelengths, mu_a_matrix[:, -1], color=colors[5], label=molecule_names[5])\n",
    "ax2.set_ylim(0, 0.1)\n",
    "ax2.set_ylabel(\"Absorption coefficient [cm$^{-1}$]\")\n",
    "fig.legend(loc=\"upper right\", ncols=2, bbox_to_anchor=(0.9, 0.95))\n",
    "fig.tight_layout()\n",
    "\n",
    "fig.savefig(config.eval_dir/\"chromophore_absorptions.pdf\")"
   ]
  },
  {
   "cell_type": "code",
   "execution_count": null,
   "id": "c334fd4c",
   "metadata": {},
   "outputs": [],
   "source": [
    "fig, ax3 = plt.subplots(1, 1, figsize=set_size(doc_width, subplots=(1, 1)), layout='constrained')\n",
    "for tissue in [\"gray matter\", \"blood vessel\", \"tumor\"]:\n",
    "    a, b = data_loader.DataLoader.tissue_parameters[tissue][1]\n",
    "    g = data_loader.DataLoader.tissue_parameters[tissue][2]\n",
    "    mu_s_red = a * np.power(wavelengths / 500, -b) / (1-g)\n",
    "    ax3.plot(\n",
    "        wavelengths,\n",
    "        mu_s_red,\n",
    "        label=tissue.capitalize\n",
    "    )\n",
    "fig.savefig(config.eval_dir/\"scattering.pdf\")"
   ]
  },
  {
   "cell_type": "code",
   "execution_count": null,
   "id": "97d3f156",
   "metadata": {},
   "outputs": [],
   "source": [
    "fig, (ax1, ax3) = plt.subplots(2, 1, figsize=set_size(doc_width, subplots=(2, 1)), layout='constrained')\n",
    "handles = []\n",
    "ax1.plot(wavelengths, mu_a_matrix[:, :4], label=molecules[:4])\n",
    "ax1.set_xlabel=\"Wavelengths (nm)\"\n",
    "ax1.set_ylabel(\"Absorption coefficient $(cm^{-1}mM^{-1}$)\")\n",
    "ax2 = ax1.twinx()\n",
    "ax2.plot(wavelengths, mu_a_matrix[:, -2], color=colors[4], label=molecules[4])\n",
    "ax2.plot(wavelengths, mu_a_matrix[:, -1], color=colors[5], label=molecules[5])\n",
    "ax2.set_ylim(0, 0.1)\n",
    "ax2.set_ylabel(\"Absorption $(cm^{-1})$\")\n",
    "ax2.legend(loc=\"upper right\", ncols=2, bbox_to_anchor=(0.9, 0.95))\n",
    "\n",
    "for tissue in [\"gray matter\", \"blood vessel\", \"tumor\"]:\n",
    "    a, b = data_loader.DataLoader.tissue_parameters[tissue][1]\n",
    "    g = data_loader.DataLoader.tissue_parameters[tissue][2]\n",
    "    mu_s_red = a * np.power(wavelengths / 500, -b) / (1-g)\n",
    "    ax3.plot(\n",
    "        wavelengths,\n",
    "        mu_s_red\n",
    "    )\n",
    "\n",
    "#fig.tight_layout()\n",
    "\n",
    "fig.savefig(config.eval_dir/\"absorption_and_scattering.pdf\")"
   ]
  },
  {
   "cell_type": "markdown",
   "id": "869f59f2",
   "metadata": {},
   "source": [
    "# Evaluation"
   ]
  },
  {
   "cell_type": "markdown",
   "id": "e3ca8fec",
   "metadata": {},
   "source": [
    "## Simulated"
   ]
  },
  {
   "cell_type": "code",
   "execution_count": null,
   "id": "c849ae77",
   "metadata": {},
   "outputs": [],
   "source": [
    "with open(config.simulated_dataset_dir / \"simulation_data.pickle\", \"rb\") as f:\n",
    "    wavelengths, simulation_data = pickle.load(f)"
   ]
  },
  {
   "cell_type": "code",
   "execution_count": null,
   "id": "fe86be33",
   "metadata": {},
   "outputs": [],
   "source": [
    "mu_a_matrix = data_loader.DataLoader.absorption_coefs(\n",
    "    wavelengths,\n",
    "    use_diff_oxycco=False,\n",
    "    use_water_and_fat=True\n",
    ")"
   ]
  },
  {
   "cell_type": "markdown",
   "id": "8e237792",
   "metadata": {},
   "source": [
    "### Table of baseline concentrations"
   ]
  },
  {
   "cell_type": "code",
   "execution_count": null,
   "id": "723b0638",
   "metadata": {},
   "outputs": [],
   "source": [
    "baseline_table = np.empty((10, 6), dtype=object)\n",
    "molecule_param_names = [r\"$c_\\text{Hb02}$ [$\\mu$M]\", r\"$c_\\text{Hbb}$ [$\\mu$M]\", r\"$c_\\text{oxCCO}$ [$\\mu$M]\", r\"$c_\\text{redCCO}$ [$\\mu$M]\", r\"$f_\\text{H20}$ [\\%]\", r\"$f_\\text{Fat}$ [\\%]\"]\n",
    "baseline_table[:6, 0] = molecule_param_names\n",
    "baseline_table[-4:, 0] = [r\"a [cm$^{-1}$]\", \"b\", \"g\", \"n\"]\n",
    "\n",
    "for tissue_idx, tissue in enumerate(list(simulation_data.keys())):\n",
    "    baseline_table[:-4, tissue_idx+1] = simulation_data[tissue][0][:, 0]\n",
    "    baseline_table[-4:-2, tissue_idx+1] = simulation_data[tissue][1][:, 0]\n",
    "    baseline_table[-2, tissue_idx+1] = data_loader.DataLoader.tissue_parameters[tissue][2]\n",
    "    baseline_table[-1, tissue_idx+1] = data_loader.DataLoader.tissue_parameters[tissue][3]\n",
    "\n",
    "\n",
    "baseline_table[[0, 1, 4, 5, 7], -1] = 0.15\n",
    "baseline_table[[2, 3], -1] = 5e-4\n",
    "baseline_table[6, -1] = 5\n",
    "baseline_table[-2:, -1] = 0\n",
    "\n",
    "# concentrations are in mM, volume fractions in dimensionless (i.e. not yet in percent)\n",
    "# -> multiply by concentrations by thousand to obtain uM and volume fractions by 100 to obtain \n",
    "baseline_table[:4, 1:] *= 1000\n",
    "baseline_table[4:6, 1:] *= 100\n",
    "\n",
    "np.savetxt(\n",
    "    config.eval_dir/\"simulated/baseline_table.txt\",\n",
    "    baseline_table, fmt=\"%s\",\n",
    "    comments=\"\",\n",
    "    delimiter=\"\\t\",\n",
    "    header=\"\\t\".join(map(str.capitalize, [\"parameter\"] + list(simulation_data.keys()) + [\"sigma\"]))\n",
    ")"
   ]
  },
  {
   "cell_type": "markdown",
   "id": "7ef384ba",
   "metadata": {},
   "source": [
    "### Absorption and scattering spectra of simulated tissue"
   ]
  },
  {
   "cell_type": "code",
   "execution_count": null,
   "id": "2d540c71",
   "metadata": {},
   "outputs": [],
   "source": [
    "fig, ax = plt.subplots(1, 2, figsize=set_size(width=doc_width, subplots=(1, 2)))\n",
    "handles = []\n",
    "for tissue in list(simulation_data.keys()):\n",
    "    mu_a = mu_a_matrix @ simulation_data[tissue][0][:, 0]\n",
    "    a, b = simulation_data[tissue][1][:, 0]\n",
    "    mu_s_red = a * np.power(wavelengths / 500, -b)\n",
    "    handles.append(\n",
    "        ax[0].plot(\n",
    "            wavelengths,\n",
    "            mu_a,\n",
    "            label=tissue\n",
    "        )[0]\n",
    "    )\n",
    "\n",
    "    ax[1].plot(\n",
    "        wavelengths,\n",
    "        mu_s_red,\n",
    "        label=tissue\n",
    "    )\n",
    "\n",
    "ax[0].legend()\n",
    "ax[1].legend()\n",
    "\n",
    "\n"
   ]
  },
  {
   "cell_type": "markdown",
   "id": "b04adb6d",
   "metadata": {},
   "source": [
    "### Absorbance of simulated tissue"
   ]
  },
  {
   "cell_type": "code",
   "execution_count": null,
   "id": "4c1d1796",
   "metadata": {},
   "outputs": [],
   "source": [
    "fig, ax = plt.subplots(1, 1, figsize=set_size(width=doc_width))\n",
    "for tissue in list(simulation_data.keys()):\n",
    "    ax.plot(\n",
    "        wavelengths,\n",
    "        simulation_data[tissue][-1][:, 0],\n",
    "        label=tissue.capitalize()\n",
    "    )\n",
    "\n",
    "#ax.set_title(\"Absorbance spectra from literature values\")\n",
    "ax.set(xlabel='Wavelength [nm]', ylabel='Absorbance')\n",
    "ax.legend()\n",
    "\n",
    "fig.savefig(config.eval_dir/\"simulated/simulated_absorbance.pdf\")"
   ]
  },
  {
   "cell_type": "markdown",
   "id": "978336e8",
   "metadata": {},
   "source": [
    "### MCS, Diffusion, Jacques PL comparison"
   ]
  },
  {
   "cell_type": "code",
   "execution_count": null,
   "id": "dd6c784d",
   "metadata": {},
   "outputs": [],
   "source": [
    "print_header(config.eval_dir / \"simulated/forward/pl_comp_gray matter.dat\")"
   ]
  },
  {
   "cell_type": "code",
   "execution_count": null,
   "id": "cbaeaa73",
   "metadata": {},
   "outputs": [],
   "source": [
    "pl_comp_data_gray_matter = np.loadtxt(config.eval_dir/\"simulated/forward/pl_comp_gray matter.dat\", skiprows=1)\n",
    "pl_comp_data_blood_vessel = np.loadtxt(config.eval_dir/\"simulated/forward/pl_comp_blood vessel.dat\", skiprows=1)\n",
    "sl_comp_data_gray_matter = np.loadtxt(config.eval_dir/\"simulated/forward/sl_comp_gray matter.dat\", skiprows=1)\n",
    "sl_comp_data_blood_vessel = np.loadtxt(config.eval_dir/\"simulated/forward/sl_comp_blood vessel.dat\", skiprows=1)\n",
    "pl_comp_data_tumor = np.loadtxt(config.eval_dir/\"simulated/forward/pl_comp_tumor.dat\", skiprows=1)\n",
    "sl_comp_data_tumor = np.loadtxt(config.eval_dir/\"simulated/forward/sl_comp_tumor.dat\", skiprows=1)"
   ]
  },
  {
   "cell_type": "code",
   "execution_count": null,
   "id": "db67c052",
   "metadata": {},
   "outputs": [],
   "source": [
    "fig, ax = plt.subplots(3, 2, figsize=set_size(width=doc_width, subplots=(3, 2)), layout='constrained')\n",
    "cur_colors = [colors[5], colors[3]]\n",
    "\n",
    "\n",
    "for row, (pl_comp_data, sl_comp_data) in enumerate([(pl_comp_data_gray_matter, sl_comp_data_gray_matter), (pl_comp_data_blood_vessel, sl_comp_data_blood_vessel), (pl_comp_data_tumor, sl_comp_data_tumor)]):\n",
    "    ax[row, 0].plot(\n",
    "        pl_comp_data[:, 0],\n",
    "        pl_comp_data[:, 1],\n",
    "        color=ground_truth_color\n",
    "    )\n",
    "    \n",
    "    ax[row, 1].plot(\n",
    "        sl_comp_data[:, 0],\n",
    "        sl_comp_data[:, 1],\n",
    "        color=ground_truth_color\n",
    "    )\n",
    "\n",
    "    for i in [1, 0]:\n",
    "        ax[row, 0].plot(\n",
    "            pl_comp_data[:, 0],\n",
    "            pl_comp_data[:, i+2],\n",
    "            color=cur_colors[i]\n",
    "        )\n",
    "\n",
    "        ax[row, 1].plot(\n",
    "            sl_comp_data[:, 0],\n",
    "            sl_comp_data[:, i+2],\n",
    "            color=cur_colors[i]\n",
    "        )\n",
    "\n",
    "    ax[row, 0].set(xlabel=\"Wavelengths [nm]\", ylabel=r\"$\\bar{L}_p$ [cm]\")\n",
    "    ax[row, 1].set(xlabel=\"Wavelengths [nm]\", ylabel=r\"$\\bar{L}_s$ [cm]\")\n",
    "\n",
    "ax[0, 0].set_title(r\"$\\bar{L}_p$, gray matter tissue\")\n",
    "ax[0, 1].set_title(r\"$\\bar{L}_s$, gray matter tissue\")\n",
    "ax[1, 0].set_title(r\"$\\bar{L}_p$, blood vessel tissue\")\n",
    "ax[1, 1].set_title(r\"$\\bar{L}_s$, blood vessel tissue\")\n",
    "ax[2, 0].set_title(r\"$\\bar{L}_p$, tumor tissue\")\n",
    "ax[2, 1].set_title(r\"$\\bar{L}_s$, tumor tissue\")\n",
    "\n",
    "handles, _ = ax[0, 0].get_legend_handles_labels()\n",
    "fig.legend(\n",
    "    handles,\n",
    "    labels=[\"MC simulation\", \"Jacques, tissue-specific\", \"$\\delta$-P1\"],\n",
    "    ncols=3,\n",
    "    loc=\"outside lower center\"\n",
    ")\n",
    "fig.savefig(config.eval_dir / \"simulated/forward/pl_sl_comparison.pdf\")"
   ]
  },
  {
   "cell_type": "code",
   "execution_count": null,
   "id": "50bcbadc",
   "metadata": {},
   "outputs": [],
   "source": [
    "fig, ax = plt.subplots(1, 2, figsize=set_size(width=doc_width, subplots=(1, 2)), layout='constrained')\n",
    "cur_colors = [colors[5], colors[3]]\n",
    "\n",
    "ax[0].plot(\n",
    "    pl_comp_data_tumor[:, 0],\n",
    "    pl_comp_data_tumor[:, 1],\n",
    "    color=ground_truth_color\n",
    ")\n",
    "\n",
    "ax[1].plot(\n",
    "    sl_comp_data_tumor[:, 0],\n",
    "    sl_comp_data_tumor[:, 1],\n",
    "    color=ground_truth_color\n",
    ")\n",
    "for i in [1, 0]:\n",
    "    ax[0].plot(\n",
    "        pl_comp_data_tumor[:, 0],\n",
    "        pl_comp_data_tumor[:, i+2],\n",
    "        color=cur_colors[i]\n",
    "    )\n",
    "    ax[1].plot(\n",
    "        sl_comp_data_tumor[:, 0],\n",
    "        sl_comp_data_tumor[:, i+2],\n",
    "        color=cur_colors[i]\n",
    "    )\n",
    "ax[0].set(xlabel=\"Wavelengths (nm)\", ylabel=r\"Pathlength/$D_a$ (cm)\")\n",
    "ax[1].set(xlabel=\"Wavelengths (nm)\", ylabel=r\"$D_s$(cm)\")\n",
    "\n",
    "ax[0].set_title(\"$D_a$ comparison, tumor tissue\")\n",
    "ax[1].set_title(\"$D_s$ comparison, tumor tissue\")\n",
    "\n",
    "handles, _ = ax[0].get_legend_handles_labels()\n",
    "fig.legend(\n",
    "    handles,\n",
    "    labels=[\"Ground truth\", \"Jacques, specific\", \"Diffusion\"],\n",
    "    ncols=3,\n",
    "    loc=\"outside lower center\"\n",
    ")\n",
    "fig.savefig(config.eval_dir / \"simulated/forward/tumor_pl_sl_comparison.pdf\")"
   ]
  },
  {
   "cell_type": "markdown",
   "id": "9e36f528",
   "metadata": {},
   "source": [
    "### Jacques-m-param analysis"
   ]
  },
  {
   "cell_type": "code",
   "execution_count": null,
   "id": "c71171cd",
   "metadata": {},
   "outputs": [],
   "source": [
    "with open(config.m_params_path, \"rb\") as f:\n",
    "    m_params, A_vals, N_vals, dref_vals = pickle.load(f)"
   ]
  },
  {
   "cell_type": "code",
   "execution_count": null,
   "id": "3c8cdb23",
   "metadata": {},
   "outputs": [],
   "source": [
    "def A_j_jacques(N_vals, m1, m2, m3):\n",
    "    m1 + m2*np.exp(np.log(N_vals)/m3)"
   ]
  },
  {
   "cell_type": "code",
   "execution_count": null,
   "id": "e7ba313d",
   "metadata": {},
   "outputs": [],
   "source": [
    "fig, ax = plt.subplots(4, 1, figsize=set_size(width=doc_width, height=7.4, subplots=(4, 1)))\n",
    "colors = [\"black\", \"darkgrey\", \"darkred\", \"darkblue\"]\n",
    "assert np.allclose(np.array([len(N_vals[tissue]) for tissue in [\"gray matter\", \"blood vessel\"]])-len(N_vals[\"tumor\"]), 0)\n",
    "num_vals_tissue = len(N_vals['gray matter'])\n",
    "\n",
    "for i, tissue in enumerate([ \"general\", \"gray matter\", \"blood vessel\", \"tumor\"]):\n",
    "    N_vals_interp = np.linspace(min(N_vals[tissue]), max(N_vals[tissue]), 100)\n",
    "    m1, m2, m3 = m_params[tissue]\n",
    "    # move each axis slightly upwards\n",
    "    box = ax[i].get_position()\n",
    "    box.y0 -= 0.03\n",
    "    box.y1 -= 0.03\n",
    "    ax[i].set_position(box)\n",
    "    ax[i].set_xscale(\"log\")\n",
    "    ax[i].set_title(f\"{tissue.capitalize() + ' tissue' if tissue != 'general' else 'Tissue-independent'}\")\n",
    "    ax[i].text(\n",
    "        0.425, 0.6,\n",
    "        f\"$m_1$: {m1:.3}\\n$m_2$: {m2:.3}\\n$m_3$: {m3:.3}\",\n",
    "        transform=ax[i].transAxes\n",
    "    )\n",
    "    label = \"$A_j$ using fitted m-parameters\" if tissue==\"general\" else None\n",
    "    res = ax[i].plot(\n",
    "        N_vals_interp,\n",
    "        m1 + m2*np.exp(np.log(N_vals_interp)/m3),\n",
    "        color=colors[i],\n",
    "        label=label\n",
    "    )\n",
    "    ax[i].set(xlabel=\"$N = \\mu_s'/\\mu_a$\", ylabel=\"$A_j$\")\n",
    "    if tissue == \"general\":\n",
    "        lower_idx = 0\n",
    "        colors2 = [\"darkgray\", \"darkred\", \"darkblue\", \"black\"]\n",
    "        for j in range(4):\n",
    "            label = \"Sampled tissue values\" if j==3 else None\n",
    "            res = ax[i].scatter(\n",
    "                N_vals[tissue][lower_idx:lower_idx+num_vals_tissue],\n",
    "                A_vals[tissue][lower_idx:lower_idx+num_vals_tissue],\n",
    "                color=colors2[j],\n",
    "                label=label\n",
    "            )\n",
    "        \n",
    "            lower_idx += num_vals_tissue\n",
    "    else:\n",
    "        ax[i].scatter(\n",
    "            N_vals[tissue],\n",
    "            A_vals[tissue],\n",
    "            color=colors[i]\n",
    "        )\n",
    "\n",
    "fig.legend(\n",
    "    ncols=2,\n",
    "    loc=\"outside lower center\",\n",
    "    bbox_to_anchor=[0.5, 0]\n",
    ")\n",
    "plt.tight_layout()\n",
    "\n",
    "fig.savefig(config.eval_dir/\"simulated/forward/jacques_params.pdf\")\n"
   ]
  },
  {
   "cell_type": "markdown",
   "id": "10677289",
   "metadata": {},
   "source": [
    "### Forward"
   ]
  },
  {
   "cell_type": "code",
   "execution_count": null,
   "id": "a1769d94",
   "metadata": {},
   "outputs": [],
   "source": [
    "print_header(config.eval_dir / \"simulated/forward/gray matter.dat\")"
   ]
  },
  {
   "cell_type": "code",
   "execution_count": null,
   "id": "23ca757e",
   "metadata": {},
   "outputs": [],
   "source": [
    "data_gray_matter = np.loadtxt(config.eval_dir / \"simulated/forward/gray matter.dat\", skiprows=1)\n",
    "data_artery = np.loadtxt(config.eval_dir / \"simulated/forward/artery.dat\", skiprows=1)\n",
    "data_vein = np.loadtxt(config.eval_dir / \"simulated/forward/vein.dat\", skiprows=1)\n",
    "data_tumor = np.loadtxt(config.eval_dir / \"simulated/forward/tumor.dat\", skiprows=1)"
   ]
  },
  {
   "cell_type": "code",
   "execution_count": null,
   "id": "f261540b",
   "metadata": {},
   "outputs": [],
   "source": [
    "fig, ax = plt.subplots(4, 2, figsize=set_size(width=doc_width, subplots=(4, 2)), layout='constrained')\n",
    "pparam = dict(xlabel=\"Wavelength [nm]\", ylabel=\"Absorbance\")\n",
    "lines = np.empty((4, 7), dtype=object)\n",
    "\n",
    "for row, data in enumerate([data_gray_matter, data_artery, data_vein, data_tumor]):\n",
    "    # plot ground truth in all subplots\n",
    "    for col in range(2):\n",
    "        lines[row, 0] = ax[row, col].plot(\n",
    "            data[:, 0],\n",
    "            data[:, 1],\n",
    "            color=ground_truth_color,\n",
    "        )[0]\n",
    "            \n",
    "    for i, line_idx in enumerate([2, 3]):\n",
    "        lines[row, i+1] = ax[row, 0].plot(\n",
    "            data[:, 0],\n",
    "            data[:, line_idx],\n",
    "            color=colors[i]\n",
    "        )[0]\n",
    "    \n",
    "    for i, line_idx in enumerate([6, 7, 8, 9]):\n",
    "        lines[row, i+3] = ax[row, 1].plot(\n",
    "            data[:, 0],\n",
    "            data[:, line_idx],\n",
    "            color=colors[i+2]\n",
    "        )[0]\n",
    "\n",
    "for axis in ax.flat:\n",
    "    axis.set(**pparam)\n",
    "\n",
    "ax[0, 0].set_title(\"Linear models, gray matter tissue\")\n",
    "ax[0, 1].set_title(\"Nonlinear models, gray matter tissue\")\n",
    "ax[1, 0].set_title(\"Linear models, artery tissue\")\n",
    "ax[1, 1].set_title(\"Nonlinear models, artery tissue\")\n",
    "ax[2, 0].set_title(\"Linear models, vein tissue\")\n",
    "ax[2, 1].set_title(\"Nonlinear models, vein tissue\")\n",
    "ax[3, 0].set_title(\"Linear models, tumor tissue\")\n",
    "ax[3, 1].set_title(\"Nonlinear models, tumor tissue\")\n",
    "\n",
    "#fig.subplots_adjust(hspace=0.3, wspace=0.3)\n",
    "fig.legend(\n",
    "    handles=list(lines[0, :]), \n",
    "    labels=[\n",
    "        \"MC simulation\", \"MBLL+MC\", \"MBLL+$\\delta$-P1\", \"Jacques, specific\", \"Jacques, general\",\n",
    "        \"$\\delta$-P1\", \"Inverse MC\"\n",
    "    ],\n",
    "    loc=\"outside lower center\",\n",
    "    ncols=4,\n",
    "    #bbox_to_anchor=(1,-0.1),\n",
    "    #bbox_transform=fig.transFigure\n",
    ")\n",
    "fig.savefig(config.eval_dir / \"simulated/forward/simulated_forward.pdf\")"
   ]
  },
  {
   "cell_type": "markdown",
   "id": "dc51f44e",
   "metadata": {},
   "source": [
    "Plots for MCS const, MCS const GM PL"
   ]
  },
  {
   "cell_type": "code",
   "execution_count": null,
   "id": "8d75b1f5",
   "metadata": {},
   "outputs": [],
   "source": [
    "fig, axs = plt.subplots(2, 2, figsize=set_size(width=doc_width, subplots=(2, 2)), layout='constrained')\n",
    "pparam = dict(xlabel=\"Wavelength [nm]\", ylabel=\"Absorbance\")\n",
    "lines = np.empty((4, 3), dtype=object)\n",
    "\n",
    "for idx, (ax, data) in enumerate(zip(axs.flat, [data_gray_matter, data_artery, data_vein, data_tumor])):\n",
    "    lines[idx, 0] = ax.plot(\n",
    "        data[:, 0],\n",
    "        data[:, 1],\n",
    "        color=ground_truth_color\n",
    "    )[0]\n",
    "\n",
    "    lines[idx, 1] = ax.plot(\n",
    "        data[:, 0],\n",
    "        data[:, 4],\n",
    "        color=colors[0]\n",
    "    )[0]\n",
    "\n",
    "    lines[idx, 2] = ax.plot(\n",
    "        data[:, 0],\n",
    "        data[:, 5],\n",
    "        color=colors[1]\n",
    "    )[0]\n",
    "\n",
    "    ax.set(**pparam)\n",
    "    ax.set_title(f\"{['gray matter', 'artery', 'vein', 'tumor'][idx].capitalize()} tissue\")\n",
    "\n",
    "#fig.subplots_adjust(hspace=0.3, wspace=0.3)\n",
    "fig.legend(\n",
    "    handles=list(lines[0, :]), \n",
    "    labels=[\n",
    "        \"MC simulation\", r\"MBLL, $\\bar{L}_p=1$ and $\\bar{L}_s=0$\", r\"MBLL, gray matter $\\bar{L}_p$ and $\\bar{L}_s$\"\n",
    "    ],\n",
    "    loc=\"outside lower center\", \n",
    "    ncols=3,\n",
    "    #bbox_to_anchor=(1,-0.1),\n",
    "    #bbox_transform=fig.transFigure\n",
    ")\n",
    "fig.savefig(config.eval_dir / \"simulated/forward/simulated_forward_mbll_const_pls.pdf\")"
   ]
  },
  {
   "cell_type": "markdown",
   "id": "c73cf584",
   "metadata": {},
   "source": [
    "### Backward"
   ]
  },
  {
   "cell_type": "markdown",
   "id": "5c285710",
   "metadata": {},
   "source": [
    "#### Bar plot"
   ]
  },
  {
   "cell_type": "code",
   "execution_count": null,
   "id": "f1ee7f20",
   "metadata": {},
   "outputs": [],
   "source": [
    "with open(config.eval_dir/\"simulated/backward/model_indices.txt\", \"r\") as f:\n",
    "    print(f.read())"
   ]
  },
  {
   "cell_type": "code",
   "execution_count": null,
   "id": "e1e21d87",
   "metadata": {},
   "outputs": [],
   "source": [
    "with open(config.eval_dir/\"simulated/backward/bar_plot_data.pickle\", \"rb\") as f:\n",
    "    bar_plot_data = pickle.load(f)"
   ]
  },
  {
   "cell_type": "code",
   "execution_count": null,
   "id": "70cf4ad0",
   "metadata": {},
   "outputs": [],
   "source": [
    "bar_plot_data.shape"
   ]
  },
  {
   "cell_type": "markdown",
   "id": "99abeab5",
   "metadata": {},
   "source": [
    "Normalize bar-plot-data by GT"
   ]
  },
  {
   "cell_type": "code",
   "execution_count": null,
   "id": "8adebc4d",
   "metadata": {},
   "outputs": [],
   "source": [
    "bar_plot_data_normed = bar_plot_data[:, :, :] / bar_plot_data[:, [0], :]"
   ]
  },
  {
   "cell_type": "code",
   "execution_count": null,
   "id": "ea790e5c",
   "metadata": {},
   "outputs": [],
   "source": [
    "np.unravel_index(np.argmax(bar_plot_data_normed), bar_plot_data.shape)"
   ]
  },
  {
   "cell_type": "code",
   "execution_count": null,
   "id": "dc5c9f4c",
   "metadata": {},
   "outputs": [],
   "source": [
    "_, num_models, num_molecules = bar_plot_data_normed.shape"
   ]
  },
  {
   "cell_type": "code",
   "execution_count": null,
   "id": "b3d2e53b",
   "metadata": {},
   "outputs": [],
   "source": [
    "models = [\n",
    "    \"Ground truth\", \"MBLL+MC\", \"MBLL+$\\delta$-P1\", r\"MBLL, $\\bar{L}_p=1$\", r\"MBLL, gray matter $\\bar{L}_p$\", \"Jacques, specific\", \"Jacques, general\", \"$\\delta$-P1\",\n",
    "    \"Inverse MC\", \"Inverse MC, sparse\"\n",
    "]"
   ]
  },
  {
   "cell_type": "code",
   "execution_count": null,
   "id": "27e14264",
   "metadata": {},
   "outputs": [],
   "source": [
    "len(models)"
   ]
  },
  {
   "cell_type": "code",
   "execution_count": null,
   "id": "2cd70541",
   "metadata": {},
   "outputs": [],
   "source": [
    "#fig, ax = plt.subplots(4, 1, figsize=set_size(width=doc_width, subplots=(4, 1)), layout='constrained')\n",
    "#x = np.arange(bar_plot_data.shape[1])\n",
    "#width = 0.125\n",
    "#\n",
    "#for tissue_idx, tissue in enumerate(simulation_data.keys()):\n",
    "#    for molecule_idx, molecule_str in enumerate(molecules):\n",
    "#        offset = width * molecule_idx\n",
    "#        rects = ax[tissue_idx].bar(x + offset, bar_plot_data[tissue_idx, :, molecule_idx], width, label=molecule_str)\n",
    "#        #ax[tissue_idx].bar_label(rects, padding=3)\n",
    "#\n",
    "#\n",
    "#    ax[tissue_idx].set(ylabel=\"Concentration Percentage to ground truth\")\n",
    "#    ax[tissue_idx].set_title(\"Reconstructed concentrations for simulated dataset\")\n",
    "#    ax[tissue_idx].set_xticks(x + width, models)\n",
    "#    ax[tissue_idx].legend(loc=\"upper left\", ncols=1)\n",
    "#    ax[tissue_idx].set_ylim(0, 10)"
   ]
  },
  {
   "cell_type": "code",
   "execution_count": null,
   "id": "8bfb00db",
   "metadata": {},
   "outputs": [],
   "source": [
    "y = np.arange(bar_plot_data_normed.shape[1])\n",
    "width = 0.125\n",
    "\n",
    "for fig_idx in range(2):\n",
    "    fig, ax = plt.subplots(2, 1, figsize=set_size(width=doc_width, subplots=(2, 1)), layout='constrained')\n",
    "\n",
    "    for tissue_idx, tissue in enumerate([\"gray matter\", \"artery\", \"vein\", \"tumor\"][2*fig_idx:2*fig_idx+2], start=2*fig_idx):\n",
    "        ax_idx = tissue_idx - fig_idx*2\n",
    "        for molecule_idx, molecule_str in enumerate(molecules):\n",
    "            offset = width * molecule_idx\n",
    "            rects = ax[ax_idx].barh(y + offset, bar_plot_data_normed[tissue_idx, :, molecule_idx], width, label=molecule_str)\n",
    "            #ax[tissue_idx].bar_label(rects, padding=3)\n",
    "\n",
    "\n",
    "        ax[ax_idx].set(xlabel=\"Concentration fraction to ground truth\")\n",
    "        #ax[ax_idx].set_title(f\"Reconstructed concentrations, {tissue} tissue\")\n",
    "        ax[ax_idx].set_title(f\"{tissue.capitalize()} tissue\")\n",
    "        ax[ax_idx].set_yticks(y + width, models)\n",
    "        ax[ax_idx].invert_yaxis()\n",
    "        ax[ax_idx].legend(loc=\"lower left\", ncols=1)\n",
    "        ax[ax_idx].set_xlim(-2, 6)\n",
    "\n",
    "    fig.savefig(config.eval_dir/f\"simulated/backward/concentrations_bar_plot{fig_idx}.pdf\")"
   ]
  },
  {
   "cell_type": "markdown",
   "id": "2abfc147",
   "metadata": {},
   "source": [
    "## HELICOID"
   ]
  },
  {
   "cell_type": "markdown",
   "id": "3149b3e9",
   "metadata": {},
   "source": [
    "### Spectrum from data point and literature value"
   ]
  },
  {
   "cell_type": "code",
   "execution_count": null,
   "id": "0e7df7fd",
   "metadata": {},
   "outputs": [],
   "source": [
    "with open(config.simulated_dataset_dir / \"simulation_data.pickle\", \"rb\") as f:\n",
    "    wavelengths, simulation_data = pickle.load(f)"
   ]
  },
  {
   "cell_type": "code",
   "execution_count": null,
   "id": "8ee34de6",
   "metadata": {},
   "outputs": [],
   "source": [
    "A_mcs = SimulationAttenuation(config.mcs_func_path)"
   ]
  },
  {
   "cell_type": "code",
   "execution_count": null,
   "id": "5c9b7ae1",
   "metadata": {},
   "outputs": [],
   "source": [
    "loader = data_loader.DataLoaderHELICOID(\n",
    "    config.dataset_dir,\n",
    "    520,\n",
    "    900\n",
    ")\n",
    "\n",
    "mu_a_matrix = loader.absorption_coefs(\n",
    "    use_diff_oxycco=False,\n",
    "    use_water_and_fat=True\n",
    ")\n",
    "\n",
    "A_predicted = A_mcs.A_concentrations(\n",
    "    loader.wavelengths,\n",
    "    mu_a_matrix,\n",
    "    data_loader.DataLoader.tissue_parameters[\"gray matter\"][0],\n",
    "    *data_loader.DataLoader.tissue_parameters[\"gray matter\"][1]\n",
    ")[:, 0]"
   ]
  },
  {
   "cell_type": "code",
   "execution_count": null,
   "id": "6a426530",
   "metadata": {},
   "outputs": [],
   "source": [
    "fig, ax = plt.subplots(1, 1, figsize=set_size(doc_width, subplots=(1,1)))\n",
    "\n",
    "ax.plot(\n",
    "    loader.wavelengths,\n",
    "    A_predicted,\n",
    "    label=\"Literature\"\n",
    ")\n",
    "\n",
    "# only necessary to set reference pixel\n",
    "loader.get_attenuation_change(\"020-01\")\n",
    "\n",
    "gm_spectrum = loader.get_attenuation(\"020-01\")[:, loader.label_map == 1]\n",
    "gm_spectrum_avg = np.average(gm_spectrum, axis=1)\n",
    "\n",
    "ax.plot(\n",
    "    loader.wavelengths,\n",
    "    loader.get_attenuation(\"020-01\")[:, *loader.reference_pixel],\n",
    "    label=\"HELICoiD, reference pixel\"\n",
    ")\n",
    "\n",
    "ax.plot(\n",
    "    loader.wavelengths,\n",
    "    gm_spectrum_avg,\n",
    "    label=\"HELICoiD, average\"\n",
    ")\n",
    "\n",
    "ax.legend()\n",
    "ax.set_xlabel(\"Wavelengths (nm)\")\n",
    "ax.set_ylabel(\"Absorbance\")\n",
    "#ax.set_title(\"Gray matter absorbance spectra\")\n",
    "\n",
    "fig.savefig(config.eval_dir/\"helicoid/data_example.pdf\")"
   ]
  },
  {
   "cell_type": "markdown",
   "id": "2812fb2e",
   "metadata": {},
   "source": [
    "### Absolute vs. Diff plot"
   ]
  },
  {
   "cell_type": "code",
   "execution_count": null,
   "id": "d88efef0",
   "metadata": {},
   "outputs": [],
   "source": [
    "with open(config.eval_dir / \"helicoid/concentrations_absolute_diff_average.pickle\", \"rb\") as f:\n",
    "    bar_plot_data = pickle.load(f)\n",
    "    # (tissue, models, parameters)"
   ]
  },
  {
   "cell_type": "code",
   "execution_count": null,
   "id": "804c612a",
   "metadata": {},
   "outputs": [],
   "source": [
    "bar_plot_data.shape"
   ]
  },
  {
   "cell_type": "code",
   "execution_count": null,
   "id": "28b28aa8",
   "metadata": {},
   "outputs": [],
   "source": [
    "bar_plot_data_normed = np.nan_to_num(bar_plot_data[:, :, :] / bar_plot_data[:, [0], :])"
   ]
  },
  {
   "cell_type": "code",
   "execution_count": null,
   "id": "a9eb2ff3",
   "metadata": {},
   "outputs": [],
   "source": [
    "#models = [\n",
    "#    \"Literature values\", \"Abs.: Jacques\", \"Diff.: Jacques\", \"Abs.: NLLS+MCS\", \"Diff.: NLLS+MCS\", \"Abs.: MBLL+MCS\", \"Diff.: MBLL+MCS\"  \n",
    "#]\n",
    "\n",
    "models = [\n",
    "    \"Literature values\", \"Jacques, absolute\", \"Jacques, difference\", \"Inverse MC, absolute\", \"Inverse MC, difference\"  \n",
    "]"
   ]
  },
  {
   "cell_type": "code",
   "execution_count": null,
   "id": "b1a071c7",
   "metadata": {},
   "outputs": [],
   "source": [
    "tissues = [\"gray matter\", \"blood vessel\"]"
   ]
  },
  {
   "cell_type": "code",
   "execution_count": null,
   "id": "6678ad06",
   "metadata": {},
   "outputs": [],
   "source": [
    "y = np.arange(len(models))\n",
    "width = 0.125\n",
    "\n",
    "fig, axs = plt.subplots(2, 1, figsize=set_size(width=doc_width, subplots=(2, 1)), layout='constrained')\n",
    "\n",
    "for ax, tissue in zip(axs.flat, tissues):\n",
    "    tissue_idx = [\"gray matter\",  \"tumor\", \"blood vessel\"].index(tissue)\n",
    "    if tissue == \"blood vessel\":\n",
    "        molecule_idxs = [0, 1, 4, 5]\n",
    "    else:\n",
    "        molecule_idxs = list(range(6))\n",
    "    offset_idx = 0\n",
    "    for molecule_idx, molecule_str in zip(molecule_idxs, np.array(molecules)[molecule_idxs]):\n",
    "        offset = width * offset_idx\n",
    "        rects = ax.barh(y + offset, bar_plot_data_normed[tissue_idx, :len(models), molecule_idx], width, label=molecule_str)\n",
    "        #ax[tissue_idx].bar_label(rects, padding=3)\n",
    "        offset_idx += 1\n",
    "\n",
    "    ax.set(xlabel=\"Concentration fraction to literature values\")\n",
    "    #ax.set_title(f\"Reconstructed concentrations, {tissue} tissue\")\n",
    "    ax.set_title(f\"{tissue.capitalize()} {'tissue' if tissue != 'blood vessel' else ''}\")\n",
    "    ax.set_yticks(y + width, models)\n",
    "    ax.invert_yaxis()\n",
    "    ax.legend(loc=\"upper right\", ncols=3)\n",
    "    ax.set_xlim(0, 6)\n",
    "\n",
    "fig.savefig(config.eval_dir/\"helicoid/absolute_diff_bar_plot.pdf\")\n"
   ]
  },
  {
   "cell_type": "markdown",
   "id": "6a128974",
   "metadata": {},
   "source": [
    "### Bar plot"
   ]
  },
  {
   "cell_type": "code",
   "execution_count": null,
   "id": "b46268de",
   "metadata": {},
   "outputs": [],
   "source": [
    "with open(config.eval_dir/\"helicoid/bar_plot_data.pickle\", \"rb\") as f:\n",
    "    bar_plot_data = pickle.load(f)\n",
    "    # tissue, models, params"
   ]
  },
  {
   "cell_type": "markdown",
   "id": "a7695cbb",
   "metadata": {},
   "source": [
    "Remove difference values from MBLL models"
   ]
  },
  {
   "cell_type": "code",
   "execution_count": null,
   "id": "ed591a97",
   "metadata": {},
   "outputs": [],
   "source": [
    "bar_plot_data = bar_plot_data[:, [0, 3, 4, 5, 6], :]"
   ]
  },
  {
   "cell_type": "code",
   "execution_count": null,
   "id": "fd4c3bb7",
   "metadata": {},
   "outputs": [],
   "source": [
    "bar_plot_data_normed = np.nan_to_num(bar_plot_data[:, :, :] / bar_plot_data[:, [0], :])"
   ]
  },
  {
   "cell_type": "code",
   "execution_count": null,
   "id": "1b75fd79",
   "metadata": {},
   "outputs": [],
   "source": [
    "models = [\n",
    "    \"Literature values\", \"Jacques, specific\", \"Jacques, general\", \"$\\delta$-P1\",\n",
    "    \"Inverse MC\"\n",
    "]"
   ]
  },
  {
   "cell_type": "code",
   "execution_count": null,
   "id": "d9e85d45",
   "metadata": {},
   "outputs": [],
   "source": [
    "y = np.arange(bar_plot_data_normed.shape[1])\n",
    "width = 0.125\n",
    "\n",
    "\n",
    "fig, ax = plt.subplots(2, 1, figsize=set_size(width=doc_width, subplots=(2, 1)), layout='constrained')\n",
    "\n",
    "for tissue_idx, tissue in enumerate([\"gray matter\", \"tumor\"]):\n",
    "    for molecule_idx, molecule_str in enumerate(molecules):\n",
    "        offset = width * molecule_idx\n",
    "        rects = ax[tissue_idx].barh(y + offset, bar_plot_data_normed[tissue_idx, :, molecule_idx], width, label=molecule_str)\n",
    "        #ax[tissue_idx].bar_label(rects, padding=3)\n",
    "\n",
    "\n",
    "    ax[tissue_idx].set(xlabel=\"Concentration percentage to literature values\")\n",
    "    #ax[tissue_idx].set_title(f\"Reconstructed concentrations, {tissue} tissue\")\n",
    "    ax[tissue_idx].set_title(f\"{tissue.capitalize()} tissue\")\n",
    "    ax[tissue_idx].set_yticks(y + width, models)\n",
    "    ax[tissue_idx].invert_yaxis()\n",
    "    ax[tissue_idx].legend(loc=\"upper right\", ncols=3)\n",
    "    ax[tissue_idx].set_xlim(0, 10)\n",
    "\n",
    "fig.savefig(config.eval_dir/f\"helicoid/bar_plot0.pdf\")"
   ]
  },
  {
   "cell_type": "code",
   "execution_count": null,
   "id": "4663e25b",
   "metadata": {},
   "outputs": [],
   "source": [
    "y = np.arange(bar_plot_data_normed.shape[1])\n",
    "width = 0.125\n",
    "\n",
    "\n",
    "fig, ax = plt.subplots(1, 1, figsize=set_size(width=doc_width, subplots=(1, 1)), layout='constrained')\n",
    "\n",
    "bar_offset_idx = 0\n",
    "for molecule_idx, molecule_str in enumerate(np.array(molecules)):\n",
    "    if molecule_idx in [2, 3]:\n",
    "        continue\n",
    "    offset = width * bar_offset_idx\n",
    "    rects = ax.barh(y + offset, bar_plot_data_normed[2, :, molecule_idx], width, label=molecule_str)\n",
    "    #ax[tissue_idx].bar_label(rects, padding=3)\n",
    "    bar_offset_idx += 1\n",
    "\n",
    "\n",
    "ax.set(xlabel=\"Concentration fraction to literature values\")\n",
    "#ax.set_title(f\"Reconstructed concentrations, blood vessel tissue\")\n",
    "ax.set_title(f\"Blood vessel\")\n",
    "ax.set_yticks(y + width, models)\n",
    "ax.invert_yaxis()\n",
    "ax.legend(loc=\"upper right\", ncols=3)\n",
    "ax.set_xlim(0, 10)\n",
    "\n",
    "fig.savefig(config.eval_dir/f\"helicoid/bar_plot1.pdf\")"
   ]
  },
  {
   "cell_type": "markdown",
   "id": "7e573a96",
   "metadata": {},
   "source": [
    "### Reconstruction times"
   ]
  },
  {
   "cell_type": "code",
   "execution_count": null,
   "id": "07174b81",
   "metadata": {},
   "outputs": [],
   "source": [
    "patient_ids = [\"020-01\", \"012-01\"]"
   ]
  },
  {
   "cell_type": "code",
   "execution_count": null,
   "id": "779f56aa",
   "metadata": {},
   "outputs": [],
   "source": [
    "dfs = []"
   ]
  },
  {
   "cell_type": "code",
   "execution_count": null,
   "id": "84e64a8c",
   "metadata": {},
   "outputs": [],
   "source": [
    "for id in patient_ids:\n",
    "    with open(config.eval_dir/f\"helicoid/times_df_{id}.pickle\", \"rb\") as f:\n",
    "        dfs.append(pickle.load(f))"
   ]
  },
  {
   "cell_type": "code",
   "execution_count": null,
   "id": "37b68006",
   "metadata": {},
   "outputs": [],
   "source": [
    "concat_df = pandas.concat(dfs, axis=1)\n",
    "print(concat_df)"
   ]
  },
  {
   "cell_type": "code",
   "execution_count": null,
   "id": "d826aacc",
   "metadata": {},
   "outputs": [],
   "source": [
    "concat_df = concat_df.mean(axis=1)\n",
    "avg_reconstruction_times = np.empty(4)\n",
    "avg_reconstruction_times[0] = np.average(concat_df.values[[0, 1, -2, -1]])\n",
    "avg_reconstruction_times[1] = np.average(concat_df.values[2:4])\n",
    "avg_reconstruction_times[2:4] = concat_df.values[4:6]"
   ]
  },
  {
   "cell_type": "code",
   "execution_count": null,
   "id": "c51d2661",
   "metadata": {},
   "outputs": [],
   "source": [
    "df2 = pandas.DataFrame(avg_reconstruction_times)\n",
    "df2.index = [\"MBLL\", \"Jacques\", \"$\\delta$-P1\", \"Inverse MC\"]\n",
    "df2.columns = [\"Time [s]\"]"
   ]
  },
  {
   "cell_type": "code",
   "execution_count": null,
   "id": "67bedbf0",
   "metadata": {},
   "outputs": [],
   "source": [
    "print(df2)"
   ]
  },
  {
   "cell_type": "code",
   "execution_count": null,
   "id": "5d430726",
   "metadata": {},
   "outputs": [],
   "source": [
    "df2.to_csv(\n",
    "    config.eval_dir/\"helicoid/times.txt\",\n",
    "    sep=\"\\t\",\n",
    "    index_label=\"Models\",\n",
    ")"
   ]
  },
  {
   "cell_type": "markdown",
   "id": "c2958a4d",
   "metadata": {},
   "source": [
    "### Images"
   ]
  },
  {
   "cell_type": "code",
   "execution_count": null,
   "id": "83242cad",
   "metadata": {},
   "outputs": [],
   "source": [
    "patient_id = \"020-01\""
   ]
  },
  {
   "cell_type": "code",
   "execution_count": null,
   "id": "264e328f",
   "metadata": {},
   "outputs": [],
   "source": [
    "loader = data_loader.DataLoaderHELICOID(\n",
    "    config.dataset_dir,\n",
    "    400, 1000\n",
    ")\n",
    "loader.load_data(patient_id)\n",
    "print(loader.label_map.shape)"
   ]
  },
  {
   "cell_type": "markdown",
   "id": "d03a6a93",
   "metadata": {},
   "source": [
    "RGB Image from Helicoid, second one with labels and reference pixels."
   ]
  },
  {
   "cell_type": "code",
   "execution_count": null,
   "id": "dd183457",
   "metadata": {},
   "outputs": [],
   "source": [
    "config.dataset_dir"
   ]
  },
  {
   "cell_type": "markdown",
   "id": "df47ce61",
   "metadata": {},
   "source": [
    "#### Helicoid sample image"
   ]
  },
  {
   "cell_type": "code",
   "execution_count": null,
   "id": "81d6d9d8",
   "metadata": {},
   "outputs": [],
   "source": [
    "bv_pixels = np.nonzero(loader.label_map == 3)\n",
    "first_bv_pixel = list(zip(*bv_pixels))[0]"
   ]
  },
  {
   "cell_type": "code",
   "execution_count": null,
   "id": "b5e71133",
   "metadata": {},
   "outputs": [],
   "source": [
    "rgb_img = Image.open(config.dataset_dir/f\"{patient_id}/image.jpg\")\n",
    "rgb_img.size"
   ]
  },
  {
   "cell_type": "code",
   "execution_count": null,
   "id": "485b812a",
   "metadata": {},
   "outputs": [],
   "source": [
    "rgb_wavelengths = np.array([708.97, 539.44, 479.06])\n",
    "rgb_idxs = np.argmin(np.abs(loader.wavelengths[:, None] - rgb_wavelengths[None, :]), axis=0)\n",
    "img_data_reflectance = loader.reflectance[rgb_idxs, :, :]\n",
    "img_data_reflectance = img_data_reflectance.transpose(1, 2, 0)"
   ]
  },
  {
   "cell_type": "markdown",
   "id": "e4ed80c8",
   "metadata": {},
   "source": [
    "**Note:**\n",
    "- image has a width of 330, and height of 378 pixels\n",
    "- Loader (i.e. spectral library) reads image and label map into array of size (height, width)\n",
    "- imshow also expects image matrix to be in shape (height, width) but prints\n",
    "- when you take an idx from the np.array, i.e. via list(zip(*np.nonzero(loader.label_map == 1)))[0], then you get (row, width)\n",
    "- but width is plotted along x-axis, and row along y-axis, therefore you have to switch them when plotting over imshow image with ax.plot()"
   ]
  },
  {
   "cell_type": "code",
   "execution_count": null,
   "id": "9ca78be4",
   "metadata": {},
   "outputs": [],
   "source": [
    "label_mask = np.ma.masked_where(loader.label_map.astype(int) == 0, loader.label_map.astype(int))\n",
    "cmap = ListedColormap([\"green\", \"orange\", \"red\", \"white\"])"
   ]
  },
  {
   "cell_type": "code",
   "execution_count": null,
   "id": "62414f65",
   "metadata": {},
   "outputs": [],
   "source": [
    "# comparison between\n",
    "fig, (ax1, ax2) = plt.subplots(1, 2)\n",
    "ax1.imshow(rgb_img)\n",
    "ax2.imshow(img_data_reflectance)\n",
    "ax1.imshow(label_mask, cmap=cmap)\n",
    "ax2.imshow(label_mask, cmap=cmap)"
   ]
  },
  {
   "cell_type": "code",
   "execution_count": null,
   "id": "07b0d4ec",
   "metadata": {},
   "outputs": [],
   "source": [
    "fig = plt.figure(figsize=set_size(doc_width))\n",
    "grid = AxesGrid(\n",
    "    fig,\n",
    "    (1, 1, 1),\n",
    "    nrows_ncols=(1,2),\n",
    "    axes_pad=0.1,\n",
    ")\n",
    "\n",
    "grid[0].imshow(img_data_reflectance)\n",
    "grid[1].imshow(img_data_reflectance)\n",
    "grid[1].imshow(label_mask, cmap=cmap)\n",
    "grid[0].set_axis_off()\n",
    "grid[1].set_axis_off()\n",
    "\n",
    "for tissue_idx, tissue in enumerate([\"gray matter\", \"tumor\", \"blood vessel\"], start=1):\n",
    "    ref_pixel_row, ref_pixel_col = list(zip(*np.nonzero(loader.label_map == tissue_idx)))[loader.reference_pixel_tissue_ctr]\n",
    "    grid[1].plot(\n",
    "        ref_pixel_col,\n",
    "        ref_pixel_row,\n",
    "        marker=\"o\",\n",
    "        markersize=\"8\",\n",
    "        color=\"darkblue\",\n",
    "\n",
    "    )\n",
    "\n",
    "fig.savefig(config.eval_dir/f\"helicoid/image_{patient_id}.pdf\")"
   ]
  },
  {
   "cell_type": "markdown",
   "id": "445fd0db",
   "metadata": {},
   "source": [
    "#### Concentration Images"
   ]
  },
  {
   "cell_type": "code",
   "execution_count": null,
   "id": "fe3a9032",
   "metadata": {},
   "outputs": [],
   "source": [
    "loader = data_loader.DataLoaderHELICOID(\n",
    "    config.dataset_dir,\n",
    "    520, 900\n",
    ")\n",
    "loader.load_data(patient_id)\n",
    "print(loader.label_map.shape)"
   ]
  },
  {
   "cell_type": "code",
   "execution_count": null,
   "id": "fcdbfc58",
   "metadata": {},
   "outputs": [],
   "source": [
    "with open(config.eval_dir/f\"helicoid/reconstructed_concentrations_full_image_{patient_id}.pickle\", \"rb\") as f:\n",
    "    img_data_flat = pickle.load(f)"
   ]
  },
  {
   "cell_type": "code",
   "execution_count": null,
   "id": "b4d23453",
   "metadata": {},
   "outputs": [],
   "source": [
    "img_data_flat.shape"
   ]
  },
  {
   "cell_type": "markdown",
   "id": "a87bfde8",
   "metadata": {},
   "source": [
    "swap tissue-independent MBLL models with Diffusion and Inverse MC"
   ]
  },
  {
   "cell_type": "code",
   "execution_count": null,
   "id": "1393defc",
   "metadata": {},
   "outputs": [],
   "source": [
    "img_data_flat2 = img_data_flat.copy()\n",
    "img_data_flat2[2:4, :, :] = img_data_flat[6:8, :, :]\n",
    "img_data_flat2[4:8, :, :] = img_data_flat[2:6, :, :]"
   ]
  },
  {
   "cell_type": "code",
   "execution_count": null,
   "id": "cd7189ae",
   "metadata": {},
   "outputs": [],
   "source": [
    "np.nan_to_num(img_data_flat2[-1, 5, :]).max()"
   ]
  },
  {
   "cell_type": "markdown",
   "id": "661ecc3d",
   "metadata": {},
   "source": [
    "Reshape and remove scattering params"
   ]
  },
  {
   "cell_type": "code",
   "execution_count": null,
   "id": "d1a1459e",
   "metadata": {},
   "outputs": [],
   "source": [
    "img_data = img_data_flat2[:, :6, :].reshape((img_data_flat2.shape[0], 6) + loader.label_map.shape)\n",
    "img_data.shape # models, params, spectrum"
   ]
  },
  {
   "cell_type": "markdown",
   "id": "49419ea6",
   "metadata": {},
   "source": [
    "- colorbar für molekül über jeder Spalte\n",
    "- ylabel = model name für jede Reihe"
   ]
  },
  {
   "cell_type": "code",
   "execution_count": null,
   "id": "5b781ed6",
   "metadata": {},
   "outputs": [],
   "source": [
    "models = [\"MBLL+MC\", \"MBLL+$\\delta$-P1\", r\"MBLL,\\\\gray matter $\\bar{L}_p$\", r\"MBLL,$\\bar{L}_p=1$\", \"Jacques, specific\", \"Jacques, general\", \"$\\delta$-P1\", \"Inverse MC\"]"
   ]
  },
  {
   "cell_type": "code",
   "execution_count": null,
   "id": "338e3f92",
   "metadata": {},
   "outputs": [],
   "source": [
    "img_size = 2000"
   ]
  },
  {
   "cell_type": "code",
   "execution_count": null,
   "id": "54a624ae",
   "metadata": {},
   "outputs": [],
   "source": [
    "%matplotlib qt"
   ]
  },
  {
   "cell_type": "markdown",
   "id": "ef3c98ad",
   "metadata": {},
   "source": [
    "First only the MBLL images, without any modifications."
   ]
  },
  {
   "cell_type": "code",
   "execution_count": null,
   "id": "560d6cdd",
   "metadata": {},
   "outputs": [],
   "source": [
    "img_data_mbll = img_data[:4, :, :, :].copy()"
   ]
  },
  {
   "cell_type": "code",
   "execution_count": null,
   "id": "0fcbedd1",
   "metadata": {},
   "outputs": [],
   "source": [
    "fig = plt.figure(figsize=set_size(width=img_size/2))\n",
    "norms = []\n",
    "\n",
    "grid = AxesGrid(\n",
    "    fig,\n",
    "    (1, 1, 1),\n",
    "    nrows_ncols=(img_data_mbll.shape[:2]),\n",
    "    axes_pad=0.1,\n",
    "    cbar_mode=\"edge\",\n",
    "    cbar_location=\"top\",\n",
    "    cbar_size=\"15%\",\n",
    ")\n",
    "\n",
    "for img_idx in range(np.prod(img_data_mbll.shape[:2])):\n",
    "    model_idx = img_idx // img_data_mbll.shape[1]\n",
    "    mol_idx = img_idx % img_data_mbll.shape[1]\n",
    "\n",
    "    if model_idx == 0:\n",
    "        norms.append(Normalize(vmin=np.nanmin(img_data_mbll[:, mol_idx, :]), vmax=np.nanmax(img_data_mbll[:, mol_idx, :])))\n",
    "\n",
    "    img = grid[img_idx].imshow(img_data_mbll[model_idx, mol_idx, :, :], norm=norms[mol_idx], cmap=\"magma\")\n",
    "    grid[img_idx].set_yticks([])\n",
    "    grid[img_idx].set_xticks([])\n",
    "\n",
    "    if mol_idx == 0:\n",
    "        grid[img_idx].set_ylabel(models[model_idx])\n",
    "\n",
    "    if model_idx == 0:\n",
    "        grid.cbar_axes[mol_idx].colorbar(img)\n",
    "        grid.cbar_axes[mol_idx].set_title(molecules[mol_idx])\n",
    "        grid.cbar_axes[mol_idx].xaxis.set_ticks_position(\"top\")\n",
    "\n",
    "fig.savefig(config.eval_dir/f\"helicoid/concentration_images_mbll_original_{patient_id}.pdf\")"
   ]
  },
  {
   "cell_type": "markdown",
   "id": "ad214a3a",
   "metadata": {},
   "source": [
    "Now only the NLLS images."
   ]
  },
  {
   "cell_type": "code",
   "execution_count": null,
   "id": "c060624a",
   "metadata": {},
   "outputs": [],
   "source": [
    "img_data_nlls = img_data[4:, :, :, :].copy()"
   ]
  },
  {
   "cell_type": "code",
   "execution_count": null,
   "id": "34e8d7ed",
   "metadata": {},
   "outputs": [],
   "source": [
    "fig = plt.figure(figsize=set_size(width=img_size/2))\n",
    "norms = []\n",
    "\n",
    "grid = AxesGrid(\n",
    "    fig,\n",
    "    (1, 1, 1),\n",
    "    nrows_ncols=(img_data_nlls.shape[:2]),\n",
    "    axes_pad=0.1,\n",
    "    cbar_mode=\"edge\",\n",
    "    cbar_location=\"top\",\n",
    "    cbar_size=\"15%\",\n",
    ")\n",
    "\n",
    "for img_idx in range(np.prod(img_data_nlls.shape[:2])):\n",
    "    model_idx = img_idx // img_data_nlls.shape[1]\n",
    "    mol_idx = img_idx % img_data_nlls.shape[1]\n",
    "\n",
    "    if model_idx == 0:\n",
    "        norms.append(Normalize(vmin=np.nanmin(img_data_nlls[:, mol_idx, :, :]), vmax=np.nanmax(img_data_nlls[:, mol_idx, :, :])))\n",
    "\n",
    "    img = grid[img_idx].imshow(img_data_nlls[model_idx, mol_idx, :, :], norm=norms[mol_idx], cmap=\"magma\")\n",
    "    grid[img_idx].set_yticks([])\n",
    "    grid[img_idx].set_xticks([])\n",
    "\n",
    "    if mol_idx == 0:\n",
    "        grid[img_idx].set_ylabel(models[4 + model_idx])\n",
    "\n",
    "    if model_idx == 0:\n",
    "        grid.cbar_axes[mol_idx].colorbar(img)\n",
    "        grid.cbar_axes[mol_idx].set_title(molecules[mol_idx])\n",
    "        grid.cbar_axes[mol_idx].xaxis.set_ticks_position(\"top\")\n",
    "\n",
    "fig.savefig(config.eval_dir/f\"helicoid/concentration_images_nlls_{patient_id}.pdf\")"
   ]
  },
  {
   "cell_type": "markdown",
   "id": "483560ad",
   "metadata": {},
   "source": [
    "Now every model. To make MBLL models comparable with absolute values of NLLS models, we add literature values (per tissue) to MBLL image data."
   ]
  },
  {
   "cell_type": "code",
   "execution_count": null,
   "id": "5147a7f3",
   "metadata": {},
   "outputs": [],
   "source": [
    "for tissue_idx, tissue in enumerate([\"unlabeled\", \"gray matter\", \"tumor\", \"blood vessel\"]):\n",
    "    tissue_key = tissue if tissue != \"unlabeled\" else \"gray matter\"\n",
    "    img_data[:2, :, (loader.label_map == tissue_idx)] += data_loader.DataLoader.tissue_parameters[tissue_key][0][None, :, None]\n",
    "\n",
    "img_data[2:4, :, (loader.label_map != 4)] += data_loader.DataLoader.tissue_parameters[\"gray matter\"][0][None, :, None]"
   ]
  },
  {
   "cell_type": "markdown",
   "id": "7f813733",
   "metadata": {},
   "source": [
    "This code does steps above, but removes MBLL const, for better visualization:"
   ]
  },
  {
   "cell_type": "code",
   "execution_count": null,
   "id": "81b17b60",
   "metadata": {},
   "outputs": [],
   "source": [
    "remove_mbll = False\n",
    "if remove_mbll:\n",
    "    ### without MBLL const PL\n",
    "    img_data_flat2 = np.empty((img_data_flat.shape[0]-1, img_data_flat.shape[1], img_data_flat.shape[2]))\n",
    "    img_data_flat2[:2, :, :] = img_data_flat[:2, :, :]\n",
    "    img_data_flat2[2, :, :] = img_data_flat[6, :, :]\n",
    "    img_data_flat2[3:7, :, :] = img_data_flat[2:6, :, :] \n",
    "    img_data = img_data_flat2[:, :6, :].reshape((img_data_flat2.shape[0], 6) + loader.label_map.shape)\n",
    "    img_data.shape # models, params, spectrum\n",
    "    for tissue_idx, tissue in enumerate([\"unlabeled\", \"gray matter\", \"tumor\", \"blood vessel\"]):\n",
    "        tissue_key = tissue if tissue != \"unlabeled\" else \"gray matter\"\n",
    "        img_data[:2, :, (loader.label_map == tissue_idx)] += data_loader.DataLoader.tissue_parameters[tissue_key][0][None, :, None]\n",
    "\n",
    "    img_data[2, :, (loader.label_map != 4)] += data_loader.DataLoader.tissue_parameters[\"gray matter\"][0][None, :]\n",
    "    models = [\"MBLL+MC\", \"MBLL+$\\delta$-P1\", r\"MBLL, gray matter $\\bar{L}_p$\", \"Jacques, specific\", \"Jacques, general\", \"Diffusion\", \"NLLS+MC\"]\n",
    "else:\n",
    "    print(\"Skipped.\")"
   ]
  },
  {
   "cell_type": "code",
   "execution_count": null,
   "id": "d7bb657f",
   "metadata": {},
   "outputs": [],
   "source": [
    "fig = plt.figure(figsize=(set_size(img_size)))\n",
    "#norm = Normalize(vmin=np.min(img_data), vmax=np.max(img_data))\n",
    "norms = []\n",
    "\n",
    "grid = AxesGrid(\n",
    "    fig,\n",
    "    (1, 1, 1),\n",
    "    nrows_ncols=(img_data.shape[:2]),\n",
    "    axes_pad=0.1,\n",
    "    cbar_mode=\"edge\",\n",
    "    cbar_location=\"top\",\n",
    "    cbar_size=\"15%\",\n",
    ")\n",
    "\n",
    "for img_idx in range(np.prod(img_data.shape[:2])):\n",
    "    model_idx = img_idx // img_data.shape[1]\n",
    "    mol_idx = img_idx % img_data.shape[1]\n",
    "\n",
    "    if model_idx == 0:\n",
    "        norms.append(Normalize(vmin=np.nanmin(img_data[:, mol_idx, :, :]), vmax=np.nanmax(img_data[:, mol_idx, :, :])))\n",
    "\n",
    "    img = grid[img_idx].imshow(img_data[model_idx, mol_idx, :, :], norm=norms[mol_idx], cmap=\"magma\")\n",
    "    grid[img_idx].set_yticks([])\n",
    "    grid[img_idx].set_xticks([])\n",
    "\n",
    "    if mol_idx == 0:\n",
    "        grid[img_idx].set_ylabel(models[model_idx])\n",
    "\n",
    "    if model_idx == 0:\n",
    "        grid.cbar_axes[mol_idx].colorbar(img)\n",
    "        grid.cbar_axes[mol_idx].set_title(molecules[mol_idx])\n",
    "        grid.cbar_axes[mol_idx].xaxis.set_ticks_position(\"top\")\n",
    "        \n",
    "\n",
    "fig.savefig(config.eval_dir/f\"helicoid/concentration_images_shared_cbar_{patient_id}.pdf\")"
   ]
  },
  {
   "cell_type": "markdown",
   "id": "b1716694",
   "metadata": {},
   "source": [
    "**Only for display on PC, for analysis.** Same as above, but transposed for larger screen."
   ]
  },
  {
   "cell_type": "code",
   "execution_count": null,
   "id": "ed0de94d",
   "metadata": {},
   "outputs": [],
   "source": [
    "fig = plt.figure(figsize=(100, 50))\n",
    "\n",
    "norms = []\n",
    "\n",
    "grid = AxesGrid(\n",
    "    fig,\n",
    "    (1, 1, 1),\n",
    "    nrows_ncols=(img_data.shape[1], img_data.shape[0]),\n",
    "    axes_pad=0.1,\n",
    "    cbar_mode=\"edge\",\n",
    "    cbar_location=\"right\",\n",
    "    cbar_size=\"15%\",\n",
    ")\n",
    "\n",
    "for img_idx in range(np.prod(img_data.shape[:2])):\n",
    "    model_idx = img_idx % img_data.shape[0]\n",
    "    mol_idx = img_idx // img_data.shape[0]\n",
    "\n",
    "    if model_idx == 0:\n",
    "        norms.append(Normalize(vmin=np.nanmin(img_data[:, mol_idx, :, :]), vmax=np.nanmax(img_data[:, mol_idx, :, :])))\n",
    "    \n",
    "    img = grid[img_idx].imshow(img_data[model_idx, mol_idx, :, :], norm=norms[mol_idx], cmap=\"magma\")\n",
    "    grid[img_idx].set_yticks([])\n",
    "    grid[img_idx].set_xticks([])\n",
    "\n",
    "    if model_idx == 0:\n",
    "        grid[img_idx].set_ylabel(molecules[mol_idx])\n",
    "        grid.cbar_axes[mol_idx].colorbar(img)\n",
    "\n",
    "    if mol_idx == 0:\n",
    "        grid[img_idx].set_title(models[model_idx])"
   ]
  },
  {
   "cell_type": "markdown",
   "id": "93fa3721",
   "metadata": {},
   "source": [
    "Now MBLL and NLLS data together, but using two colormaps. We use MBLL data with added literature values, to report absolute concentrations for both tissues."
   ]
  },
  {
   "cell_type": "code",
   "execution_count": null,
   "id": "3b698fd6",
   "metadata": {},
   "outputs": [],
   "source": [
    "fig = plt.figure(figsize=(17, 17))\n",
    "\n",
    "num_mbll_models = 4\n",
    "\n",
    "for i, cur_img_data in enumerate(np.split(img_data, np.array([num_mbll_models]), axis=0)):\n",
    "    norms = []\n",
    "    num_models, num_mols = cur_img_data.shape[:2]\n",
    "    grid = AxesGrid(\n",
    "        fig,\n",
    "        (2, 1, i+1),\n",
    "        nrows_ncols=(num_models, num_mols),\n",
    "        axes_pad=0.1,\n",
    "        cbar_mode=\"edge\",\n",
    "        cbar_location=\"top\",\n",
    "        cbar_size=\"15%\"\n",
    "    )\n",
    "\n",
    "    for img_idx in range(num_models*num_mols):\n",
    "        model_idx = img_idx // num_mols\n",
    "        mol_idx = img_idx % num_mols\n",
    "\n",
    "        if model_idx == 0:\n",
    "            norms.append(Normalize(vmin=np.nanmin(cur_img_data[:, mol_idx, :, :]), vmax=np.nanmax(cur_img_data[:, mol_idx, :, :])))\n",
    "        \n",
    "        img = grid[img_idx].imshow(cur_img_data[model_idx, mol_idx, :, :], norm=norms[mol_idx], cmap=\"magma\")\n",
    "        grid[img_idx].set_yticks([])\n",
    "        grid[img_idx].set_xticks([])\n",
    "\n",
    "        if model_idx == 0:\n",
    "            grid.cbar_axes[mol_idx].colorbar(img)\n",
    "            grid.cbar_axes[mol_idx].set_title(molecules[mol_idx])\n",
    "            grid.cbar_axes[mol_idx].xaxis.set_ticks_position(\"top\")\n",
    "        \n",
    "        if mol_idx == 0:\n",
    "            grid[img_idx].set_ylabel(models[num_mbll_models*i + model_idx])\n",
    "\n",
    "fig.savefig(config.eval_dir/f\"helicoid/concentration_images_seperate_cbar_{patient_id}.pdf\")"
   ]
  },
  {
   "cell_type": "markdown",
   "id": "5b399eaa",
   "metadata": {},
   "source": [
    "Same as above but two different figures. With molecule units and fraction in percent (i.e. times 100)."
   ]
  },
  {
   "cell_type": "code",
   "execution_count": null,
   "id": "7247d60d",
   "metadata": {},
   "outputs": [],
   "source": [
    "img_data_tmp = img_data.copy()\n",
    "img_data_tmp[:, -2:, :, :] *= 100\n",
    "num_mbll_models = 4\n",
    "molecules_units_imgs = [r\"$c_\\text{Hb02}$ [mM]\", r\"$c_\\text{Hbb}$ [mM]\", r\"$c_\\text{oxCCO}$ [mM]\", r\"$c_\\text{redCCO}$ [mM]\", r\"$f_\\text{H20}$ [\\%]\", r\"$f_\\text{Fat}$ [\\%]\"]\n",
    "\n",
    "for i, cur_img_data in enumerate(np.split(img_data_tmp, np.array([num_mbll_models]), axis=0)):\n",
    "    fig = plt.figure(figsize=(9.4,9.4))\n",
    "    norms = []\n",
    "    num_models, num_mols = cur_img_data.shape[:2]\n",
    "    grid = AxesGrid(\n",
    "        fig,\n",
    "        (1, 1, 1),\n",
    "        nrows_ncols=(num_models, num_mols),\n",
    "        axes_pad=0.1,\n",
    "        cbar_mode=\"edge\",\n",
    "        cbar_location=\"top\",\n",
    "        cbar_size=\"15%\"\n",
    "    )\n",
    "\n",
    "    for img_idx in range(num_models*num_mols):\n",
    "        model_idx = img_idx // num_mols\n",
    "        mol_idx = img_idx % num_mols\n",
    "\n",
    "        if model_idx == 0:\n",
    "            norms.append(Normalize(vmin=np.nanmin(cur_img_data[:, mol_idx, :, :]), vmax=np.nanmax(cur_img_data[:, mol_idx, :, :])))\n",
    "        \n",
    "        img = grid[img_idx].imshow(cur_img_data[model_idx, mol_idx, :, :], norm=norms[mol_idx], cmap=\"magma\")\n",
    "        grid[img_idx].set_yticks([])\n",
    "        grid[img_idx].set_xticks([])\n",
    "\n",
    "        if model_idx == 0:\n",
    "            grid.cbar_axes[mol_idx].colorbar(img)\n",
    "            grid.cbar_axes[mol_idx].set_title(molecules_units_imgs[mol_idx])\n",
    "            grid.cbar_axes[mol_idx].xaxis.set_ticks_position(\"top\")\n",
    "        \n",
    "        if mol_idx == 0:\n",
    "            grid[img_idx].set_ylabel(models[num_mbll_models*i + model_idx])\n",
    "\n",
    "    fig.savefig(config.eval_dir/f\"helicoid/concentration_images_seperate_cbar_{patient_id}_{i}.pdf\")"
   ]
  },
  {
   "cell_type": "markdown",
   "id": "d8e4b27e",
   "metadata": {},
   "source": [
    "### Prediction error"
   ]
  },
  {
   "cell_type": "code",
   "execution_count": null,
   "id": "b18b67e3",
   "metadata": {},
   "outputs": [],
   "source": [
    "with open(config.eval_dir/\"helicoid/prediction_error_df.pickle\", \"rb\") as f:\n",
    "    df = pickle.load(f)"
   ]
  },
  {
   "cell_type": "code",
   "execution_count": null,
   "id": "3ff0764b",
   "metadata": {},
   "outputs": [],
   "source": [
    "df"
   ]
  },
  {
   "cell_type": "code",
   "execution_count": null,
   "id": "9e38c679",
   "metadata": {},
   "outputs": [],
   "source": [
    "df2 = pandas.DataFrame(df.values[-4:, :])\n",
    "df2.index = [\"Jacques, specific\", \"Jacques, general\", \"$\\delta$-P1\", \"Inverse MC\"]\n",
    "df2.columns = [\"Gray matter\", \"Tumor\", \"Blood vessel\", \"Average\"]"
   ]
  },
  {
   "cell_type": "code",
   "execution_count": null,
   "id": "1d6d6140",
   "metadata": {},
   "outputs": [],
   "source": [
    "df2.to_csv(\n",
    "    config.eval_dir/\"helicoid/prediction_error.txt\",\n",
    "    sep=\"\\t\",\n",
    "    index_label=\"Models\"\n",
    ")"
   ]
  }
 ],
 "metadata": {
  "kernelspec": {
   "display_name": "nonlinear-fit",
   "language": "python",
   "name": "python3"
  },
  "language_info": {
   "codemirror_mode": {
    "name": "ipython",
    "version": 3
   },
   "file_extension": ".py",
   "mimetype": "text/x-python",
   "name": "python",
   "nbconvert_exporter": "python",
   "pygments_lexer": "ipython3",
   "version": "3.11.11"
  }
 },
 "nbformat": 4,
 "nbformat_minor": 5
}
