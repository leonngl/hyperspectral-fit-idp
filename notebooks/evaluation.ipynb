{
 "cells": [
  {
   "cell_type": "code",
   "execution_count": 1,
   "id": "1c83134d",
   "metadata": {},
   "outputs": [],
   "source": [
    "%load_ext autoreload\n",
    "%autoreload 2\n",
    "#%matplotlib qt\n",
    "%matplotlib widget"
   ]
  },
  {
   "cell_type": "code",
   "execution_count": 2,
   "id": "45ddd347",
   "metadata": {},
   "outputs": [],
   "source": [
    "import os\n",
    "import sys\n",
    "from pathlib import Path\n",
    "\n",
    "src_dir = str(Path(os.getcwd()).parent / \"src\")\n",
    "sys.path.insert(1, src_dir)\n",
    "#os.environ[\"PYTHONPATH\"] = src_dir"
   ]
  },
  {
   "cell_type": "code",
   "execution_count": 3,
   "id": "7052b334",
   "metadata": {},
   "outputs": [],
   "source": [
    "import data_loader\n",
    "import calculate_concentr_diffs\n",
    "from concentr_diffs_pathlength import *\n",
    "from plotting import *\n",
    "from mbll_functions import *\n",
    "from utils import *\n",
    "from mcs_function import *\n",
    "import config\n",
    "import pickle\n",
    "from ray import tune\n",
    "import matplotlib.pyplot as plt\n",
    "from inspect import signature"
   ]
  },
  {
   "cell_type": "markdown",
   "id": "177bceb3",
   "metadata": {},
   "source": [
    "load the gray-matter, and blood-vessel pathlengths and scattering counts"
   ]
  },
  {
   "cell_type": "code",
   "execution_count": 4,
   "id": "6564ec8f",
   "metadata": {},
   "outputs": [],
   "source": [
    "gray_matter_mcs_pathlength_data = np.loadtxt(config.pl_dir / \"gray_matter_mcs.txt\")\n",
    "blood_vessel_mcs_pathlength_data = np.loadtxt(config.pl_dir / \"blood_vessel_pure_mcs.txt\")"
   ]
  },
  {
   "cell_type": "markdown",
   "id": "85e990f6",
   "metadata": {},
   "source": [
    "create MCS-Attenuation Object"
   ]
  },
  {
   "cell_type": "code",
   "execution_count": 5,
   "id": "5750fe27",
   "metadata": {},
   "outputs": [
    {
     "name": "stdout",
     "output_type": "stream",
     "text": [
      "Loaded data with 50000.0 photons and 30 values for mu_s.\n"
     ]
    }
   ],
   "source": [
    "A_mcs = SimulationAttenuation(config.mcs_func_path)"
   ]
  },
  {
   "cell_type": "markdown",
   "id": "13c98875",
   "metadata": {},
   "source": [
    "load the m-parameters for the Jacques models"
   ]
  },
  {
   "cell_type": "code",
   "execution_count": 6,
   "id": "4e916408",
   "metadata": {},
   "outputs": [],
   "source": [
    "with open(config.m_params_path, \"rb\") as f:\n",
    "    m_params, _, _, _ = pickle.load(f)\n",
    "\n",
    "# convert to more convenient dictionary\n",
    "refraction_idx_dict = {\"gray matter\": 1.36, \"tumor\": 1.36, \"artery\": 1.4, \"vein\": 1.4, \"general\": 1.38}\n",
    "jacques_m_params = {key : m_params[refraction_idx] for (key, refraction_idx) in refraction_idx_dict.items()}"
   ]
  },
  {
   "cell_type": "markdown",
   "id": "48acd81a",
   "metadata": {},
   "source": [
    "# Forward Test"
   ]
  },
  {
   "cell_type": "markdown",
   "id": "cb714cf0",
   "metadata": {},
   "source": [
    "- Input tissue concentrations, and reconstruct spectra with every model\n",
    "- compute squared average (over wavelength range) attenuation error per tissue and model"
   ]
  },
  {
   "cell_type": "code",
   "execution_count": 7,
   "id": "f3fb6640",
   "metadata": {},
   "outputs": [],
   "source": [
    "with open(config.simulated_dataset_dir / \"simulation_data.pickle\", \"rb\") as f:\n",
    "    wavelengths, simulation_data = pickle.load(f)"
   ]
  },
  {
   "cell_type": "markdown",
   "id": "a71b8d63",
   "metadata": {},
   "source": [
    "Interpolate path and scatter lengths for MBLL + MCS"
   ]
  },
  {
   "cell_type": "code",
   "execution_count": 8,
   "id": "8356e6f7",
   "metadata": {},
   "outputs": [],
   "source": [
    "lengths = tuple()\n",
    "for mcs_data in (gray_matter_mcs_pathlength_data, blood_vessel_mcs_pathlength_data):\n",
    "    pathlength = np.interp(wavelengths, mcs_data[:, 0], mcs_data[:, 4] / 10) # convert to cm\n",
    "    # notice the minus: mean scatterlength = mean pathlength - ((mean scattercount)/mu_s)\n",
    "    scatterlength = mcs_data[:, 4] / 10 + mcs_data[:, 5] / (mcs_data[:, 2] * 10)\n",
    "    scatterlength = np.interp(wavelengths, mcs_data[:, 0], scatterlength)\n",
    "    lengths += (pathlength, scatterlength)\n",
    "\n",
    "gray_matter_pathlength, gray_matter_scatterlength, blood_vessel_pathlength, blood_vessel_scatterlength = lengths"
   ]
  },
  {
   "cell_type": "code",
   "execution_count": 9,
   "id": "84b7dd14",
   "metadata": {},
   "outputs": [],
   "source": [
    "gray_matter_baseline_attenuation = np.interp(\n",
    "    wavelengths,\n",
    "    gray_matter_mcs_pathlength_data[:, 0],\n",
    "    -np.log(gray_matter_mcs_pathlength_data[:, 3])\n",
    ")\n",
    "blood_vessel_baseline_attenuation = np.interp(\n",
    "    wavelengths,\n",
    "    blood_vessel_mcs_pathlength_data[:, 0],\n",
    "    -np.log(blood_vessel_mcs_pathlength_data[:, 3])\n",
    ")"
   ]
  },
  {
   "cell_type": "markdown",
   "id": "be689d19",
   "metadata": {},
   "source": [
    "To test the MBLL with wavelength-independent PL, the average path- and scatter-lengths are computed"
   ]
  },
  {
   "cell_type": "code",
   "execution_count": 10,
   "id": "4e61f029",
   "metadata": {},
   "outputs": [],
   "source": [
    "gray_matter_pathlength_average = np.repeat(np.average(gray_matter_pathlength), len(wavelengths))\n",
    "gray_matter_scatterlength_average = np.repeat(np.average(gray_matter_scatterlength), len(wavelengths))\n",
    "blood_vessel_pathlength_average = np.repeat(np.average(blood_vessel_pathlength), len(wavelengths))\n",
    "blood_vessel_scatterlength_average = np.repeat(np.average(blood_vessel_scatterlength), len(wavelengths))"
   ]
  },
  {
   "cell_type": "markdown",
   "id": "ae7d826a",
   "metadata": {},
   "source": [
    "all models and their tissue-specific inputs"
   ]
  },
  {
   "cell_type": "code",
   "execution_count": 11,
   "id": "3e006d7e",
   "metadata": {},
   "outputs": [],
   "source": [
    "tissue_types = [\"gray matter\", \"artery\", \"vein\", \"tumor\"]\n",
    "gray_matter_params = {\n",
    "    \"baseline_attenuation\": gray_matter_baseline_attenuation,\n",
    "    \"baseline_c\": data_loader.DataLoader.tissue_parameters[\"gray matter\"][0],\n",
    "    \"baseline_a\": data_loader.DataLoader.tissue_parameters[\"gray matter\"][1][0],\n",
    "    \"baseline_b\": data_loader.DataLoader.tissue_parameters[\"gray matter\"][1][1],\n",
    "    \"pathlength\": gray_matter_pathlength,\n",
    "    \"scatterlength\": gray_matter_scatterlength\n",
    "}\n",
    "blood_vessel_params = {\n",
    "    \"baseline_attenuation\": gray_matter_baseline_attenuation,\n",
    "    \"baseline_c\": data_loader.DataLoader.tissue_parameters[\"blood vessel average\"][0],\n",
    "    \"baseline_a\": data_loader.DataLoader.tissue_parameters[\"blood vessel average\"][1][0],\n",
    "    \"baseline_b\": data_loader.DataLoader.tissue_parameters[\"blood vessel average\"][1][1],\n",
    "    \"pathlength\": blood_vessel_pathlength,\n",
    "    \"scatterlength\": blood_vessel_scatterlength\n",
    "}\n",
    "gray_matter_params_constant_pl = gray_matter_params.copy()\n",
    "gray_matter_params_constant_pl.update(\n",
    "    pathlength=np.ones(len(wavelengths)),\n",
    "    scatterlength=np.ones(len(wavelengths))\n",
    ")\n",
    "blood_vessel_params_constant_pl = blood_vessel_params.copy()\n",
    "blood_vessel_params_constant_pl.update(\n",
    "    pathlength=np.ones(len(wavelengths)),\n",
    "    scatterlength=np.ones(len(wavelengths))\n",
    ")\n",
    "\n",
    "forward_models = {\n",
    "    #\"MBLL MCS\": (\n",
    "    #    mbll_new,\n",
    "    #    {\n",
    "    #        \"gray matter\": gray_matter_params,\n",
    "    #        \"artery\": blood_vessel_params,\n",
    "    #        \"vein\": blood_vessel_params,\n",
    "    #        \"tumor\": gray_matter_params\n",
    "    #    }\n",
    "    #),\n",
    "    #\"MBLL const\": (\n",
    "    #    # mbll but with constant path- and scatterlengths\n",
    "    #    mbll_new, \n",
    "    #    {\n",
    "    #        \"gray matter\": gray_matter_params_constant_pl,\n",
    "    #        \"artery\": blood_vessel_params_constant_pl,\n",
    "    #        \"vein\": blood_vessel_params_constant_pl,\n",
    "    #        \"tumor\": gray_matter_params_constant_pl\n",
    "    #    }\n",
    "    #),\n",
    "    #\"Jacques, tissue specific\": (\n",
    "    #    # Jacques with tissue-specific m-parameters\n",
    "    #    A_jacques_concentrations,\n",
    "    #    {tissue_type : {f\"m{i}\" : jacques_m_params[tissue_type][i-1] for i in range(1, 4)} for tissue_type in tissue_types},\n",
    "    #),\n",
    "    #\"Jacques, general\": (# Jacques with general m-parameters\n",
    "    #    A_jacques_concentrations,\n",
    "    #    {tissue_type : {f\"m{i}\" : jacques_m_params[\"general\"][i-1] for i in range(1, 4)} for tissue_type in tissue_types},          \n",
    "    #),\n",
    "    \"MCS NLLS\": (\n",
    "        A_mcs.A_concentrations,\n",
    "        {tissue_type: dict() for tissue_type in tissue_types},\n",
    "    ),\n",
    "    \"Carp\": (\n",
    "        A_carp_concentrations,\n",
    "        {tissue_type : {(\"g\", \"n\")[i-2] : data_loader.DataLoader.tissue_parameters[tissue_type][i] for i in range(2, 4)} for tissue_type in tissue_types},\n",
    "    ),\n",
    "    \"Patterson\": (\n",
    "        A_patterson_concentrations,\n",
    "        {tissue_type : {\"n\" : data_loader.DataLoader.tissue_parameters[tissue_type][-1]} for tissue_type in tissue_types}\n",
    "    )\n",
    "}\n"
   ]
  },
  {
   "cell_type": "code",
   "execution_count": 12,
   "id": "1ae2d9c5",
   "metadata": {},
   "outputs": [],
   "source": [
    "#(model, tissue-type, num_spectra, wavelengths)\n",
    "reconstructed_spectra = np.empty((len(forward_models), len(simulation_data.keys()), simulation_data[\"gray matter\"][-1].shape[1], len(wavelengths)))"
   ]
  },
  {
   "cell_type": "code",
   "execution_count": 13,
   "id": "e16def10",
   "metadata": {},
   "outputs": [],
   "source": [
    "mu_a_matrix = data_loader.DataLoader.absorption_coefs(\n",
    "    wavelengths,\n",
    "    use_diff_oxycco=False,\n",
    "    use_water_and_fat=True\n",
    ")"
   ]
  },
  {
   "cell_type": "code",
   "execution_count": 14,
   "id": "45045998",
   "metadata": {},
   "outputs": [],
   "source": [
    "for model_idx, model_str in enumerate(forward_models.keys()):\n",
    "    for tissue_idx, tissue_type in enumerate(tissue_types):\n",
    "        for spectrum_idx, params in enumerate(np.row_stack(simulation_data[tissue_type][:2]).T):\n",
    "            A_reconstructed = forward_models[model_str][0](\n",
    "                wavelengths,\n",
    "                mu_a_matrix,\n",
    "                params[:-2],\n",
    "                *params[-2:],\n",
    "                **forward_models[model_str][1][tissue_type]\n",
    "            )\n",
    "            reconstructed_spectra[model_idx, tissue_idx, spectrum_idx, :] = A_reconstructed[:, 0]"
   ]
  },
  {
   "cell_type": "markdown",
   "id": "17218ace",
   "metadata": {},
   "source": [
    "Plot reconstructed spectra"
   ]
  },
  {
   "cell_type": "code",
   "execution_count": null,
   "id": "a84d7137",
   "metadata": {},
   "outputs": [],
   "source": [
    "# convert to (model, tissue-type, wavelengths, spectrum-idx)\n",
    "plot_data = reconstructed_spectra.transpose(0, 1, 3, 2)\n",
    "\n",
    "for tissue_idx, tissue_type in enumerate(tissue_types):\n",
    "    plot_spectra_slider(\n",
    "        np.concatenate(\n",
    "            (\n",
    "                simulation_data[tissue_type][2][None, ...],\n",
    "                reconstructed_spectra[:, tissue_idx, :, :].transpose(0, 2, 1)\n",
    "            ),\n",
    "            axis=0\n",
    "        ),\n",
    "        wavelengths,\n",
    "        [\"MCS GT\", \"MBLL\", \"MBLL const. PL\", \"Jacques\", \"Jacques general\", \"MCS interp.\", \"Carp\", \"Patterson\"],\n",
    "        title=tissue_type\n",
    "    )"
   ]
  },
  {
   "cell_type": "code",
   "execution_count": null,
   "id": "da06b5ef",
   "metadata": {},
   "outputs": [
    {
     "data": {
      "text/plain": [
       "2.0504659449132467"
      ]
     },
     "execution_count": 16,
     "metadata": {},
     "output_type": "execute_result"
    }
   ],
   "source": [
    "reconstructed_spectra[5, 0, 0, 4]"
   ]
  },
  {
   "cell_type": "code",
   "execution_count": 28,
   "id": "c87ddc18",
   "metadata": {},
   "outputs": [
    {
     "data": {
      "text/plain": [
       "<matplotlib.widgets.Slider at 0x7e50c5f5d0d0>"
      ]
     },
     "execution_count": 28,
     "metadata": {},
     "output_type": "execute_result"
    },
    {
     "data": {
      "application/vnd.jupyter.widget-view+json": {
       "model_id": "582581e9e2d94e5aa862a1d86016242e",
       "version_major": 2,
       "version_minor": 0
      },
      "image/png": "[encoded data removed]",
      "text/html": [
       "\n",
       "            <div style=\"display: inline-block;\">\n",
       "                <div class=\"jupyter-widgets widget-label\" style=\"text-align: center;\">\n",
       "                    Figure\n",
       "                </div>\n",
       "                <img src='data:image/png;base64,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' width=640.0/>\n",
       "            </div>\n",
       "        "
      ],
      "text/plain": [
       "Canvas(toolbar=Toolbar(toolitems=[('Home', 'Reset original view', 'home', 'home'), ('Back', 'Back to previous …"
      ]
     },
     "metadata": {},
     "output_type": "display_data"
    }
   ],
   "source": [
    "tissue_type = \"tumor\"\n",
    "plot_spectra_slider(\n",
    "    np.concatenate(\n",
    "        (\n",
    "            simulation_data[tissue_type][2][None, ...],\n",
    "            reconstructed_spectra[:, 3, :, :].transpose(0, 2, 1)\n",
    "        ),\n",
    "        axis=0\n",
    "    ),\n",
    "    wavelengths,\n",
    "    [\"MCS GT\"] + list(forward_models.keys()),\n",
    "    #[\"MCS GT\", \"jt\", \"jg\", \"mcs\", \"c\", \"p\"],\n",
    "    title=tissue_type\n",
    ")"
   ]
  },
  {
   "cell_type": "code",
   "execution_count": 18,
   "id": "cbffe62b",
   "metadata": {},
   "outputs": [
    {
     "data": {
      "text/plain": [
       "2.0504659449132467"
      ]
     },
     "execution_count": 18,
     "metadata": {},
     "output_type": "execute_result"
    }
   ],
   "source": [
    "reconstructed_spectra[1, 0, 0, 4]"
   ]
  },
  {
   "cell_type": "markdown",
   "id": "4ed8f6ff",
   "metadata": {},
   "source": [
    "Store the results"
   ]
  },
  {
   "cell_type": "code",
   "execution_count": null,
   "id": "ab00b336",
   "metadata": {},
   "outputs": [],
   "source": []
  },
  {
   "cell_type": "markdown",
   "id": "de00bfb7",
   "metadata": {},
   "source": [
    "# Backward Test"
   ]
  },
  {
   "cell_type": "markdown",
   "id": "eefcba43",
   "metadata": {},
   "source": [
    "## Simulated Spectra"
   ]
  },
  {
   "cell_type": "code",
   "execution_count": null,
   "id": "26212203",
   "metadata": {},
   "outputs": [],
   "source": [
    "# (models, tissues, params)\n",
    "num_params = simulation_data[\"gray matter\"][0].shape[0] + simulation_data[\"gray matter\"][1].shape[0]"
   ]
  },
  {
   "cell_type": "code",
   "execution_count": null,
   "id": "7340d335",
   "metadata": {},
   "outputs": [],
   "source": [
    "# object for MBLL + MCS\n",
    "A_mbll_fit_simulated_mcs = A_mbll_fit(\n",
    "    wavelengths,\n",
    "    mu_a_matrix,\n",
    "    [\"gray matter\", \"blood vessel\"]\n",
    "    [gray_matter_pathlength, blood_vessel_pathlength],\n",
    "    [gray_matter_scatterlength, blood_vessel_pathlength],\n",
    "    [gray_matter_baseline_attenuation, blood_vessel_baseline_attenuation],\n",
    "    [data_loader.DataLoader.tissue_parameters[tissue][0] for tissue in [\"gray matter\", \"blood vessel average\"]],\n",
    "    *np.array(([data_loader.DataLoader.tissue_parameters[tissue][1] for tissue in [\"gray matter\", \"blodd vessel average\"]]).T)\n",
    ")\n"
   ]
  },
  {
   "cell_type": "code",
   "execution_count": null,
   "id": "8262e01b",
   "metadata": {},
   "outputs": [],
   "source": [
    "# diffusion + MBLL\n",
    "# compute baseline attenuation, pathlength and scatterlength\n",
    "baseline_attenuations_diffusion, baseline_pathlengths_diffusion, baseline_scatterlengths_diffusion = [], [], []\n",
    "for tissue_type in [\"gray matter\", \"blood vessel average\"]:\n",
    "    params = (\n",
    "        wavelengths,\n",
    "        mu_a_matrix,\n",
    "        data_loader.DataLoader.tissue_parameters[tissue_type][0],\n",
    "        *data_loader.DataLoader.tissue_parameters[tissue_type][1],\n",
    "        *data_loader.DataLoader.tissue_parameters[tissue_type][-2:]\n",
    "    )\n",
    "    baseline_attenuations_diffusion.append(A_carp_concentrations(*params))\n",
    "    baseline_pathlengths_diffusion.append(A_carp_pathlength(*params))\n",
    "    baseline_scatterlengths_diffusion(A_carp_scatterlength(*params))\n",
    "\n",
    "A_mbll_fit_simulated_diffusion = A_mbll_fit(\n",
    "    wavelengths,\n",
    "    mu_a_matrix,\n",
    "    [\"gray matter\", \"blood vessel\"],\n",
    "    baseline_pathlengths_diffusion,\n",
    "    baseline_scatterlengths_diffusion,\n",
    "    baseline_attenuations_diffusion,\n",
    "    data_loader.DataLoader.tissue_parameters[tissue_type][0],\n",
    "    *data_loader.DataLoader.tissue_parameters[tissue_type][1],\n",
    ")\n"
   ]
  },
  {
   "cell_type": "code",
   "execution_count": null,
   "id": "98832995",
   "metadata": {},
   "outputs": [],
   "source": [
    "A_mbll_fit_simulated_constant_pl = A_mbll_fit(\n",
    "    wavelengths,\n",
    "    mu_a_matrix,\n",
    "    [\"gray matter\", \"blood vessel\"],\n",
    "    np.ones((2, len(wavelengths))),\n",
    "    np.ones((2, len(wavelengths))),\n",
    "    np.ones((2, len(wavelengths))),\n",
    "    [data_loader.DataLoader.tissue_parameters[tissue][0] for tissue in [\"gray matter\", \"blood vessel average\"]],\n",
    "    *np.array(([data_loader.DataLoader.tissue_parameters[tissue][1] for tissue in [\"gray matter\", \"blodd vessel average\"]]).T)\n",
    ")"
   ]
  },
  {
   "cell_type": "code",
   "execution_count": null,
   "id": "02382463",
   "metadata": {},
   "outputs": [],
   "source": [
    "\n",
    "mbll_tissue_map = {\n",
    "    \"gray matter\" : \"gray matter\",\n",
    "    \"vein\": \"blood vessel average\",\n",
    "    \"artery\": \"blood vessel average\",\n",
    "    \"tumor\": \"gray matter\"\n",
    "}\n",
    "\n",
    "backward_models_mbll = [\n",
    "    A_mbll_fit_simulated_mcs,\n",
    "    A_mbll_fit_simulated_diffusion,\n",
    "    A_mbll_fit_simulated_constant_pl,\n",
    "]\n",
    "\n",
    "# NOTE: make sure to provide blood-fraction-models\n",
    "backward_models_nonlinear = {\n",
    "    A_carp_blood_fraction: {tissue_type: dict() for tissue_type in tissue_types},\n",
    "    # Jacques with tissue-specific m-parameters\n",
    "    A_jacques_blood_fraction :\n",
    "    {tissue_type : {f\"ref_vals\" : [None] * num_params + list(jacques_m_params[tissue_type][i-1]) for i in range(1, 4)} for tissue_type in tissue_types},\n",
    "    # Jacques with general m-parameters\n",
    "    A_jacques_blood_fraction :\n",
    "    {tissue_type : {f\"ref_vals\" : [None] * num_params + list(jacques_m_params[\"general\"][i-1]) for i in range(1, 4)} for tissue_type in tissue_types},\n",
    "    A_mcs.A_blood_fraction :\n",
    "    {tissue_type : {\"jacobian\" : A_mcs.jacobian_blood_fraction}}\n",
    "}"
   ]
  },
  {
   "cell_type": "code",
   "execution_count": null,
   "id": "b813a4d6",
   "metadata": {},
   "outputs": [],
   "source": [
    "reconstructed_concentrations = np.empty(\n",
    "    len(backward_models_mbll) + len(backward_models_nonlinear), \n",
    "    len(simulation_data.keys()),\n",
    "    num_params\n",
    ")"
   ]
  },
  {
   "cell_type": "code",
   "execution_count": null,
   "id": "80bd3539",
   "metadata": {},
   "outputs": [],
   "source": [
    "\n",
    "for model_idx, model in enumerate(backward_models_mbll):\n",
    "    for tissue_idx, tissue_type in enumerate(tissue_types):\n",
    "        for spectrum_idx, spectrum in enumerate(simulation_data[tissue_type][-1].T):\n",
    "            res = model.concentr_fit(\n",
    "                A=spectrum,\n",
    "                tissue_type=mbll_tissue_map[tissue_type]\n",
    "            )\n",
    "\n",
    "            reconstructed_concentrations[model_idx, tissue_idx, :-1] = res# omit b parameter"
   ]
  },
  {
   "cell_type": "code",
   "execution_count": null,
   "id": "3bba1270",
   "metadata": {},
   "outputs": [],
   "source": [
    "for model_idx, model_func in enumerate(backward_models_nonlinear.keys(), start=len(backward_models_mbll)):\n",
    "    for tissue_idx, tissue_type in enumerate(tissue_types):\n",
    "        for spectrum_idx, spectrum in enumerate(simulation_data[tissue_type][-1].T):\n",
    "            res, errors = concentr_fit_nonlinear(\n",
    "                spectrum,\n",
    "                wavelengths,\n",
    "                mu_a_matrix,\n",
    "                model_func,\n",
    "                variables_bool_arr=([True] * 6) + ([False] * (len(signature(model_func).parameters) - 5)),\n",
    "                left_bounds = np.array([0] * num_params),\n",
    "                right_bounds=np.array([1, 1, 0.05, 0.05, 1, 1, 100, 5]),\n",
    "                is_delta_A=False,\n",
    "                update_init=False,\n",
    "                constraint=None,\n",
    "                init_vals=np.concatenate(simulation_data[tissue_type][:2, 0]),\n",
    "                **backward_models_nonlinear[model_func][tissue_type]\n",
    "            )\n",
    "            \n",
    "            reconstructed_concentrations[model_idx, tissue_idx, :-2] = blood_fraction_to_concentrations(res[:-2])\n",
    "            reconstructed_concentrations[model_idx, tissue_idx, -2:] = res[-2:]\n",
    "        "
   ]
  }
 ],
 "metadata": {
  "kernelspec": {
   "display_name": "nonlinear-fit",
   "language": "python",
   "name": "python3"
  },
  "language_info": {
   "codemirror_mode": {
    "name": "ipython",
    "version": 3
   },
   "file_extension": ".py",
   "mimetype": "text/x-python",
   "name": "python",
   "nbconvert_exporter": "python",
   "pygments_lexer": "ipython3",
   "version": "3.11.11"
  }
 },
 "nbformat": 4,
 "nbformat_minor": 5
}
