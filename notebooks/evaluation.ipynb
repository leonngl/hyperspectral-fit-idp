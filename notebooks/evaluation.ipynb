{
 "cells": [
  {
   "cell_type": "code",
   "execution_count": null,
   "id": "1c83134d",
   "metadata": {},
   "outputs": [],
   "source": [
    "%load_ext autoreload\n",
    "%autoreload 2\n",
    "#%matplotlib qt"
   ]
  },
  {
   "cell_type": "code",
   "execution_count": null,
   "id": "45ddd347",
   "metadata": {},
   "outputs": [],
   "source": [
    "import os\n",
    "import sys\n",
    "from pathlib import Path\n",
    "\n",
    "src_dir = str(Path(os.getcwd()).parent / \"src\")\n",
    "sys.path.insert(1, src_dir)\n",
    "#os.environ[\"PYTHONPATH\"] = src_dir"
   ]
  },
  {
   "cell_type": "code",
   "execution_count": null,
   "id": "7052b334",
   "metadata": {},
   "outputs": [],
   "source": [
    "import data_loader\n",
    "import calculate_concentr_diffs\n",
    "from concentr_diffs_pathlength import *\n",
    "from plotting import *\n",
    "from mbll_functions import *\n",
    "from utils import *\n",
    "from mcs_function import *\n",
    "import config\n",
    "import pickle\n",
    "from ray import tune\n",
    "import matplotlib.pyplot as plt"
   ]
  },
  {
   "cell_type": "markdown",
   "id": "177bceb3",
   "metadata": {},
   "source": [
    "load the gray-matter, and blood-vessel pathlengths and scattering counts"
   ]
  },
  {
   "cell_type": "code",
   "execution_count": null,
   "id": "6564ec8f",
   "metadata": {},
   "outputs": [],
   "source": [
    "gray_matter_mcs_pathlength_data = np.loadtxt(config.pl_dir / \"gray_matter_mcs.txt\")\n",
    "blood_vessel_mcs_pathlength_data = np.loadtxt(config.pl_dir / \"blood_vessel_pure_mcs.txt\")"
   ]
  },
  {
   "cell_type": "markdown",
   "id": "85e990f6",
   "metadata": {},
   "source": [
    "create MCS-Attenuation Object"
   ]
  },
  {
   "cell_type": "code",
   "execution_count": null,
   "id": "4e916408",
   "metadata": {},
   "outputs": [],
   "source": []
  },
  {
   "cell_type": "markdown",
   "id": "48acd81a",
   "metadata": {},
   "source": [
    "# Forward Test"
   ]
  },
  {
   "cell_type": "markdown",
   "id": "cb714cf0",
   "metadata": {},
   "source": [
    "- Input tissue concentrations, and reconstruct spectra with every model\n",
    "- compute squared average (over wavelength range) attenuation error per tissue and model"
   ]
  },
  {
   "cell_type": "code",
   "execution_count": null,
   "id": "f3fb6640",
   "metadata": {},
   "outputs": [],
   "source": [
    "with open(config.simulated_dataset_dir / \"simulation_data.pickle\", \"rb\") as f:\n",
    "    wavelengths, simulation_data = pickle.load(f)"
   ]
  },
  {
   "cell_type": "code",
   "execution_count": null,
   "id": "e333baaf",
   "metadata": {},
   "outputs": [],
   "source": [
    "forward_results = np.empty(4, 6, len(wavelengths))"
   ]
  },
  {
   "cell_type": "markdown",
   "id": "a71b8d63",
   "metadata": {},
   "source": [
    "Interpolate path and scatter lengths for MBLL + MCS"
   ]
  },
  {
   "cell_type": "code",
   "execution_count": null,
   "id": "8356e6f7",
   "metadata": {},
   "outputs": [],
   "source": [
    "lengths = tuple()\n",
    "for mcs_data in (gray_matter_mcs_pathlength_data, blood_vessel_mcs_pathlength_data):\n",
    "    pathlength = np.interp(wavelengths, mcs_data[:, 0], mcs_data[:, 4])\n",
    "    # notice the minus: mean scatterlength = mean pathlength - ((mean scattercount)/mu_s)\n",
    "    scatterlength = -np.interp(wavelengths, mcs_data[:, 0], mcs_data[:, 5])\n",
    "    scatterlength /= mcs_data[:, 2]\n",
    "    scatterlength += pathlength\n",
    "    lengths += (pathlength, scatterlength)\n",
    "\n",
    "gray_matter_pathlength, gray_matter_scatterlength, blood_vessel_pathlength, blood_vessel_scatterlength = lengths"
   ]
  },
  {
   "cell_type": "code",
   "execution_count": null,
   "id": "4e61f029",
   "metadata": {},
   "outputs": [],
   "source": []
  }
 ],
 "metadata": {
  "language_info": {
   "name": "python"
  }
 },
 "nbformat": 4,
 "nbformat_minor": 5
}
