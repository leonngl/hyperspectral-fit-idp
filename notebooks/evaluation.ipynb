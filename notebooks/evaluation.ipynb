{
 "cells": [
  {
   "cell_type": "code",
   "execution_count": null,
   "id": "1c83134d",
   "metadata": {},
   "outputs": [],
   "source": [
    "%load_ext autoreload\n",
    "%autoreload 2\n",
    "#%matplotlib qt"
   ]
  },
  {
   "cell_type": "code",
   "execution_count": null,
   "id": "45ddd347",
   "metadata": {},
   "outputs": [],
   "source": [
    "import os\n",
    "import sys\n",
    "from pathlib import Path\n",
    "\n",
    "src_dir = str(Path(os.getcwd()).parent / \"src\")\n",
    "sys.path.insert(1, src_dir)\n",
    "#os.environ[\"PYTHONPATH\"] = src_dir"
   ]
  },
  {
   "cell_type": "code",
   "execution_count": null,
   "id": "7052b334",
   "metadata": {},
   "outputs": [],
   "source": [
    "import data_loader\n",
    "import calculate_concentr_diffs\n",
    "from concentr_diffs_pathlength import *\n",
    "from plotting import *\n",
    "from mbll_functions import *\n",
    "from utils import *\n",
    "from mcs_function import *\n",
    "import config\n",
    "import pickle\n",
    "from ray import tune\n",
    "import matplotlib.pyplot as plt"
   ]
  },
  {
   "cell_type": "markdown",
   "id": "177bceb3",
   "metadata": {},
   "source": [
    "load the gray-matter, and blood-vessel pathlengths and scattering counts"
   ]
  },
  {
   "cell_type": "code",
   "execution_count": null,
   "id": "6564ec8f",
   "metadata": {},
   "outputs": [],
   "source": [
    "gray_matter_mcs_pathlength_data = np.loadtxt(config.pl_dir / \"gray_matter_mcs.txt\")\n",
    "blood_vessel_mcs_pathlength_data = np.loadtxt(config.pl_dir / \"blood_vessel_pure_mcs.txt\")"
   ]
  },
  {
   "cell_type": "markdown",
   "id": "85e990f6",
   "metadata": {},
   "source": [
    "create MCS-Attenuation Object"
   ]
  },
  {
   "cell_type": "code",
   "execution_count": null,
   "id": "5750fe27",
   "metadata": {},
   "outputs": [],
   "source": [
    "A_mcs = SimulationAttenuation(config.mcs_func_path)"
   ]
  },
  {
   "cell_type": "markdown",
   "id": "13c98875",
   "metadata": {},
   "source": [
    "load the m-parameters for the Jacques models"
   ]
  },
  {
   "cell_type": "code",
   "execution_count": null,
   "id": "4e916408",
   "metadata": {},
   "outputs": [],
   "source": [
    "with open(config.m_params_path, \"rb\") as f:\n",
    "    m_params, _, _, _ = pickle.load(f)\n",
    "\n",
    "# convert to more convenient dictionary\n",
    "refraction_idx_dict = {\"gray matter\": 1.36, \"tumor\": 1.36, \"artery\": 1.4, \"vein\": 1.4, \"general\": 1.38}\n",
    "jacques_m_params = {key : m_params[refraction_idx] for (key, refraction_idx) in refraction_idx_dict.items()}"
   ]
  },
  {
   "cell_type": "markdown",
   "id": "48acd81a",
   "metadata": {},
   "source": [
    "# Forward Test"
   ]
  },
  {
   "cell_type": "markdown",
   "id": "cb714cf0",
   "metadata": {},
   "source": [
    "- Input tissue concentrations, and reconstruct spectra with every model\n",
    "- compute squared average (over wavelength range) attenuation error per tissue and model"
   ]
  },
  {
   "cell_type": "code",
   "execution_count": null,
   "id": "f3fb6640",
   "metadata": {},
   "outputs": [],
   "source": [
    "with open(config.simulated_dataset_dir / \"simulation_data.pickle\", \"rb\") as f:\n",
    "    wavelengths, simulation_data = pickle.load(f)"
   ]
  },
  {
   "cell_type": "markdown",
   "id": "a71b8d63",
   "metadata": {},
   "source": [
    "Interpolate path and scatter lengths for MBLL + MCS"
   ]
  },
  {
   "cell_type": "code",
   "execution_count": null,
   "id": "8356e6f7",
   "metadata": {},
   "outputs": [],
   "source": [
    "lengths = tuple()\n",
    "for mcs_data in (gray_matter_mcs_pathlength_data, blood_vessel_mcs_pathlength_data):\n",
    "    pathlength = np.interp(wavelengths, mcs_data[:, 0], mcs_data[:, 4])\n",
    "    # notice the minus: mean scatterlength = mean pathlength - ((mean scattercount)/mu_s)\n",
    "    scatterlength = -np.interp(wavelengths, mcs_data[:, 0], mcs_data[:, 5])\n",
    "    scatterlength /= mcs_data[:, 2]\n",
    "    scatterlength += pathlength\n",
    "    lengths += (pathlength, scatterlength)\n",
    "\n",
    "gray_matter_pathlength, gray_matter_scatterlength, blood_vessel_pathlength, blood_vessel_scatterlength = lengths"
   ]
  },
  {
   "cell_type": "markdown",
   "id": "be689d19",
   "metadata": {},
   "source": [
    "To test the MBLL with wavelength-independent PL, the average path- and scatter-lengths are computed"
   ]
  },
  {
   "cell_type": "code",
   "execution_count": null,
   "id": "4e61f029",
   "metadata": {},
   "outputs": [],
   "source": [
    "gray_matter_pathlength_average = np.repeat(np.average(gray_matter_pathlength), len(wavelengths))\n",
    "gray_matter_average_scatterlength = np.repeat(np.average(gray_matter_scatterlength), len(wavelengths))\n",
    "blood_vessel_pathlength_average = np.repeat(np.average(blood_vessel_pathlength), len(wavelengths))\n",
    "blood_vessel_average_scatterlength = np.repeat(np.average(blood_vessel_scatterlength), len(wavelengths))"
   ]
  },
  {
   "cell_type": "markdown",
   "id": "ae7d826a",
   "metadata": {},
   "source": [
    "all models and their tissue-specific inputs"
   ]
  },
  {
   "cell_type": "code",
   "execution_count": null,
   "id": "42a7f754",
   "metadata": {},
   "outputs": [],
   "source": [
    "dict(p1=1, p2=2)"
   ]
  },
  {
   "cell_type": "code",
   "execution_count": null,
   "id": "3e006d7e",
   "metadata": {},
   "outputs": [],
   "source": [
    "tissue_types = [\"gray matter\", \"artery\", \"vein\", \"tumor\"]\n",
    "forward_models = {\n",
    "        mbll_new : \n",
    "        {\n",
    "            \"gray matter\": dict(\n",
    "                baseline_attenuation=simulation_data[\"gray matter\"][2][:, 0],\n",
    "                baseline_c=simulation_data[\"gray_matter\"][0][:, 0],\n",
    "                baseline_a=simulation_data[\"gray_matter\"][1][:, 0],\n",
    "                baseline_b=simulation_data[\"gray_matter\"][1][:, 1],\n",
    "                pathlength=gray_matter_pathlength,\n",
    "                scatterlength=gray_matter_pathlength\n",
    "            ),\n",
    "            \"artery\": dict(\n",
    "                baseline_attenuation=simulation_data[\"blood vessel average\"][2][:, 0],\n",
    "                baseline_c=simulation_data[\"blood vessel average\"][0][:, 0],\n",
    "                baseline_a=simulation_data[\"blood vessel average\"][1][:, 0],\n",
    "                baseline_b=simulation_data[\"blood vessel average\"][1][:, 1],\n",
    "                pathlength=blood_vessel_pathlength,\n",
    "                scatterlength=blood_vessel_scatterlength\n",
    "            ),\n",
    "            \"vein\": dict(\n",
    "                baseline_attenuation=simulation_data[\"blood vessel average\"][2][:, 0],\n",
    "                baseline_c=simulation_data[\"blood vessel average\"][0][:, 0],\n",
    "                baseline_a=simulation_data[\"blood vessel average\"][1][:, 0],\n",
    "                baseline_b=simulation_data[\"blood vessel average\"][1][:, 1],\n",
    "                pathlength=blood_vessel_pathlength,\n",
    "                scatterlength=blood_vessel_scatterlength\n",
    "            ),\n",
    "            \"tumor\": dict(\n",
    "                baseline_attenuation=simulation_data[\"gray matter\"][2][:, 0],\n",
    "                baseline_c=simulation_data[\"gray_matter\"][0][:, 0],\n",
    "                baseline_a=simulation_data[\"gray_matter\"][1][:, 0],\n",
    "                baseline_b=simulation_data[\"gray_matter\"][1][:, 1],\n",
    "                pathlength=gray_matter_pathlength,\n",
    "                scatterlength=gray_matter_scatterlength\n",
    "            )\n",
    "        },\n",
    "        # mbll but with constant path- and scatterlengths\n",
    "        mbll_new :\n",
    "        {\n",
    "            \"gray matter\": dict(\n",
    "                baseline_attenuation=simulation_data[\"gray matter\"][2][:, 0],\n",
    "                baseline_c=simulation_data[\"gray_matter\"][0][:, 0],\n",
    "                baseline_a=simulation_data[\"gray_matter\"][1][:, 0],\n",
    "                baseline_b=simulation_data[\"gray_matter\"][1][:, 1],\n",
    "                pathlength=gray_matter_pathlength_average,\n",
    "                scatterlength=gray_matter_pathlength_average\n",
    "            ),\n",
    "            \"artery\": dict(\n",
    "                baseline_attenuation=simulation_data[\"blood vessel average\"][2][:, 0],\n",
    "                baseline_c=simulation_data[\"blood vessel average\"][0][:, 0],\n",
    "                baseline_a=simulation_data[\"blood vessel average\"][1][:, 0],\n",
    "                baseline_b=simulation_data[\"blood vessel average\"][1][:, 1],\n",
    "                pathlength=blood_vessel_pathlength_average,\n",
    "                scatterlength=blood_vessel_average_scatterlength\n",
    "            ),\n",
    "            \"vein\": dict(\n",
    "                baseline_attenuation=simulation_data[\"blood vessel average\"][2][:, 0],\n",
    "                baseline_c=simulation_data[\"blood vessel average\"][0][:, 0],\n",
    "                baseline_a=simulation_data[\"blood vessel average\"][1][:, 0],\n",
    "                baseline_b=simulation_data[\"blood vessel average\"][1][:, 1],\n",
    "                pathlength=blood_vessel_pathlength_average,\n",
    "                scatterlength=blood_vessel_average_scatterlength\n",
    "            ),\n",
    "            \"tumor\": dict(\n",
    "                baseline_attenuation=simulation_data[\"gray matter\"][2][:, 0],\n",
    "                baseline_c=simulation_data[\"gray_matter\"][0][:, 0],\n",
    "                baseline_a=simulation_data[\"gray_matter\"][1][:, 0],\n",
    "                baseline_b=simulation_data[\"gray_matter\"][1][:, 1],\n",
    "                pathlength=gray_matter_pathlength_average,\n",
    "                scatterlength=gray_matter_average_scatterlength\n",
    "            )\n",
    "        },\n",
    "        # Jacques with tissue-specific m-parameters\n",
    "        A_jacques_new :\n",
    "        {tissue_type : {f\"m{i}\" : jacques_m_params[tissue_type][i-1] for i in range(1, 4)} for tissue_type in tissue_types},\n",
    "        # Jacques with general m-parameters\n",
    "        A_jacques_new :\n",
    "        {tissue_type : {f\"m{i}\" : jacques_m_params[\"general\"][i-1] for i in range(1, 4)} for tissue_type in tissue_types},          \n",
    "        # White Monte Carlo, mus interpolated\n",
    "        A_mcs.A_concentrations :\n",
    "        {tissue_type: dict() for tissue_type in tissue_types},\n",
    "        # diffusion equation by carp\n",
    "        A_carp_concentrations :\n",
    "        {tissue_type : {(\"g\", \"n\")[i-2] : data_loader.DataLoader.tissue_parameters[tissue_type][i] for i in range(2, 4)} for tissue_type in tissue_types},\n",
    "        # diffusion equation by patterson\n",
    "        A_patterson_concentrations:\n",
    "        {tissue_type : {\"n\" : data_loader.DataLoader.tissue_parameters[tissue_type][-1]} for tissue_type in tissue_types}\n",
    "}\n"
   ]
  },
  {
   "cell_type": "code",
   "execution_count": null,
   "id": "1ae2d9c5",
   "metadata": {},
   "outputs": [],
   "source": [
    "#(model, tissue-type, num_spectra, wavelengths)\n",
    "reconstructed_spectra = np.empty(len(forward_models), len(simulation_data.keys()), simulation_data[\"gray matter\"][-1].shape[1], len(wavelengths))"
   ]
  },
  {
   "cell_type": "code",
   "execution_count": null,
   "id": "e16def10",
   "metadata": {},
   "outputs": [],
   "source": [
    "mu_a_matrix = data_loader.DataLoader.absorption_coefs(\n",
    "    wavelengths,\n",
    "    use_diff_oxycco=False,\n",
    "    use_water_and_fat=True\n",
    ")"
   ]
  },
  {
   "cell_type": "code",
   "execution_count": null,
   "id": "45045998",
   "metadata": {},
   "outputs": [],
   "source": [
    "for model_idx, model_func in enumerate(forward_models.keys()):\n",
    "    for tissue_idx, tissue_type in enumerate(tissue_types):\n",
    "        for spectrum_idx, (concentrations, scattering_params) in enumerate(zip(*simulation_data[tissue_type][0][:2])):\n",
    "            A_reconstructed = model_func(\n",
    "                wavelengths,\n",
    "                mu_a_matrix,\n",
    "                concentrations,\n",
    "                *scattering_params,\n",
    "                **forward_models[model_func][tissue_type]\n",
    "            )\n",
    "            reconstructed_spectra[model_idx, tissue_idx, spectrum_idx, :] = A_reconstructed"
   ]
  },
  {
   "cell_type": "markdown",
   "id": "17218ace",
   "metadata": {},
   "source": [
    "Plot reconstructed spectra"
   ]
  },
  {
   "cell_type": "code",
   "execution_count": null,
   "id": "a84d7137",
   "metadata": {},
   "outputs": [],
   "source": [
    "# convert to (model, tissue-type, wavelengths, spectrum-idx)\n",
    "plot_data = reconstructed_spectra.transpose(0, 1, 3, 2)\n",
    "\n",
    "for tissue_idx, tissue_type in enumerate(tissue_types):\n",
    "    simulation_data[tissue_type][2]\n",
    "    plot_spectra_slider(\n",
    "        np.concatenate(\n",
    "            (\n",
    "                simulation_data[tissue_type][2],\n",
    "                plot_data[:, tissue_idx, :, :]\n",
    "            ),\n",
    "            axis=0\n",
    "        ),\n",
    "        wavelengths,\n",
    "        [\"MCS GT\", \"MBLL\", \"MBLL const. PL\", \"Jacques\", \"Jacques general\", \"MCS interp.\", \"Carp\", \"Patterson\"],\n",
    "        title=tissue_type\n",
    "    )"
   ]
  },
  {
   "cell_type": "markdown",
   "id": "4ed8f6ff",
   "metadata": {},
   "source": [
    "Store the results"
   ]
  },
  {
   "cell_type": "code",
   "execution_count": null,
   "id": "ab00b336",
   "metadata": {},
   "outputs": [],
   "source": []
  }
 ],
 "metadata": {
  "kernelspec": {
   "display_name": "nonlinear-fit",
   "language": "python",
   "name": "python3"
  },
  "language_info": {
   "codemirror_mode": {
    "name": "ipython",
    "version": 3
   },
   "file_extension": ".py",
   "mimetype": "text/x-python",
   "name": "python",
   "nbconvert_exporter": "python",
   "pygments_lexer": "ipython3",
   "version": "3.11.11"
  }
 },
 "nbformat": 4,
 "nbformat_minor": 5
}
