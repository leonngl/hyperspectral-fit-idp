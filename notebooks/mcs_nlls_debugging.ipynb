{
 "cells": [
  {
   "cell_type": "markdown",
   "metadata": {},
   "source": [
    "Notebook to debug the MCS + NLLS approach."
   ]
  },
  {
   "cell_type": "code",
   "execution_count": 1,
   "metadata": {},
   "outputs": [],
   "source": [
    "%load_ext autoreload\n",
    "%autoreload 2\n",
    "#%matplotlib qt"
   ]
  },
  {
   "cell_type": "code",
   "execution_count": 2,
   "metadata": {},
   "outputs": [],
   "source": [
    "import os\n",
    "import sys\n",
    "from pathlib import Path"
   ]
  },
  {
   "cell_type": "code",
   "execution_count": 3,
   "metadata": {},
   "outputs": [],
   "source": [
    "src_dir = str(Path(os.getcwd()).parent / \"src\")\n",
    "sys.path.insert(1, src_dir)\n",
    "os.environ[\"PYTHONPATH\"] = src_dir"
   ]
  },
  {
   "cell_type": "code",
   "execution_count": 4,
   "metadata": {},
   "outputs": [],
   "source": [
    "import data_loader\n",
    "import calculate_concentr_diffs\n",
    "from concentr_diffs_pathlength import *\n",
    "from plotting import *\n",
    "from mbll_functions import *\n",
    "from utils import *\n",
    "from mcs_function import *\n",
    "from pathlib import Path\n",
    "import config\n",
    "import pickle\n",
    "from ray import tune\n",
    "import pmcx\n",
    "\n",
    "import matplotlib.pyplot as plt"
   ]
  },
  {
   "cell_type": "code",
   "execution_count": 5,
   "metadata": {},
   "outputs": [
    {
     "data": {
      "text/plain": [
       "PosixPath('/media/leon/T7/IDP')"
      ]
     },
     "execution_count": 5,
     "metadata": {},
     "output_type": "execute_result"
    }
   ],
   "source": [
    "config.data_dir"
   ]
  },
  {
   "cell_type": "code",
   "execution_count": 6,
   "metadata": {},
   "outputs": [
    {
     "data": {
      "text/plain": [
       "PosixPath('/media/leon/Storage/Studium/Informatik/Master/3.Semester/IDP/nonlinear-fit/dataset/UCL-NIR-Spectra/spectra')"
      ]
     },
     "execution_count": 6,
     "metadata": {},
     "output_type": "execute_result"
    }
   ],
   "source": [
    "config.spectra_dir"
   ]
  },
  {
   "cell_type": "code",
   "execution_count": 7,
   "metadata": {},
   "outputs": [],
   "source": [
    "mu_a_matrices = []\n",
    "mu_a_matrices_static = []\n",
    "mu_a_matrices_old = []"
   ]
  },
  {
   "cell_type": "code",
   "execution_count": null,
   "metadata": {},
   "outputs": [
    {
     "name": "stdout",
     "output_type": "stream",
     "text": [
      "False\n",
      "101.71565016290911\n"
     ]
    }
   ],
   "source": [
    "loader = data_loader.DataLoaderHELICOID(\n",
    "    config.dataset_dir,\n",
    "    wavelength_left_cut=520,\n",
    "    wavelength_right_cut=850,\n",
    "    num_wavelengths=20\n",
    ")\n",
    "\n",
    "delta_A_gt_img = loader.get_attenuation_change(\"020-01\")\n",
    "A_gt_img = loader.get_attenuation(\"020-01\")\n",
    "\n",
    "mu_a_matrix_old = loader.absorption_coefs_old(\n",
    "    use_diff_oxycco=False,\n",
    "    use_water_and_fat=True\n",
    ")\n",
    "\n",
    "mu_a_matrices_old.append(mu_a_matrix_old)\n",
    "\n",
    "mu_a_matrix = loader.absorption_coefs(\n",
    "    use_diff_oxycco=False,\n",
    "    use_water_and_fat=True\n",
    ")\n",
    "\n",
    "mu_a_matrices.append(mu_a_matrix)\n",
    "\n",
    "mu_a_matrix_static = data_loader.DataLoader.absorption_coefs(\n",
    "    loader.wavelengths,\n",
    "    use_diff_oxycco=False,\n",
    "    use_water_and_fat=True\n",
    ")\n",
    "\n",
    "mu_a_matrices_static.append(mu_a_matrix_static)\n",
    "\n",
    "print(np.allclose(mu_a_matrix, mu_a_matrix_static))\n",
    "print(np.max(np.abs(mu_a_matrix - mu_a_matrix_static)))"
   ]
  },
  {
   "cell_type": "code",
   "execution_count": null,
   "metadata": {},
   "outputs": [
    {
     "name": "stdout",
     "output_type": "stream",
     "text": [
      "[0.0, 101.71565016290911]\n",
      "[0.0, 2.14321574911e-312]\n"
     ]
    }
   ],
   "source": [
    "print([np.max(m - mu_a_matrices[0]) for m in mu_a_matrices])\n",
    "print([np.max(m - mu_a_matrices_static[0]) for m in mu_a_matrices_static])\n",
    "print([np.max(m - mu_a_matrices_old[0]) for m in mu_a_matrices_old])"
   ]
  },
  {
   "cell_type": "code",
   "execution_count": null,
   "metadata": {},
   "outputs": [],
   "source": [
    "plot_spectra(mu_a_matrix_old[:, :4].T, loader.wavelengths, [\"HbO2\", \"Hbb\", \"oxCCO\", \"redCCO\", \"Water\", \"Fat\"])"
   ]
  },
  {
   "cell_type": "code",
   "execution_count": null,
   "metadata": {},
   "outputs": [],
   "source": [
    "plot_spectra(mu_a_matrix[:, :4].T, loader.wavelengths, [\"HbO2\", \"Hbb\", \"oxCCO\", \"redCCO\", \"Water\", \"Fat\"])"
   ]
  },
  {
   "cell_type": "code",
   "execution_count": null,
   "metadata": {},
   "outputs": [],
   "source": [
    "loader.wavelengths"
   ]
  },
  {
   "cell_type": "code",
   "execution_count": null,
   "metadata": {},
   "outputs": [],
   "source": [
    "mcs_obj1 = SimulationAttenuation(config.mcs_func_path.parent / \"function_data1.npz\")\n",
    "mcs_obj2 = SimulationAttenuation(config.mcs_func_path.parent / \"function_data2.npz\")"
   ]
  },
  {
   "cell_type": "markdown",
   "metadata": {},
   "source": [
    "Create spectrum with MCS and compare to MCS-func"
   ]
  },
  {
   "cell_type": "code",
   "execution_count": null,
   "metadata": {},
   "outputs": [],
   "source": [
    "g_combined = 0.8675\n",
    "refractive_index_combined = 1.38\n",
    "vol = np.ones((50, 50, 100))\n",
    "prop = np.array([[0, 0, 1, 1], [0, 0, g_combined, refractive_index_combined]])\n",
    "unitinmm = 1\n",
    "\n",
    "cfg = {\n",
    "    \"nphoton\": 1e8, # keep nphotons relatively low, to limit memory of stored data\n",
    "    \"maxdetphoton\": 1e8,\n",
    "    \"unitinmm\": unitinmm,\n",
    "    \"vol\": vol,\n",
    "    \"tstart\":0,\n",
    "    \"tend\":1e-8,\n",
    "    \"tstep\":1e-8,\n",
    "    \"autopilot\": 1,\n",
    "    \"gpuid\": config.gpuid,\n",
    "    \"prop\":prop,\n",
    "    \"bc\": \"ccrcca001000\", # mark z=0 plane as detector\n",
    "    \"srcdir\": [0,0,1],\n",
    "    \"srctype\": \"planar\",\n",
    "    \"srcpos\": [0, 0, 0],\n",
    "    \"srcparam1\": [vol.shape[0], 0, 0, 0], # 3D position of vertex, fourth coordinate is irrelevant\n",
    "    \"srcparam2\": [0, vol.shape[1], 0, 0],\n",
    "    \"issrcfrom0\": 1,\n",
    "    \"savedetflag\": \"dps\", # detector id, path length, scatter count\n",
    "    \"flog\": config.mcs_func_path / \"log.txt\",\n",
    "}"
   ]
  },
  {
   "cell_type": "code",
   "execution_count": null,
   "metadata": {},
   "outputs": [],
   "source": [
    "mu_a_vals = loader.mu_a_func_gray_matter(loader.wavelengths)\n",
    "mu_s_vals = loader.mu_s_red_func_gray_matter(loader.wavelengths)"
   ]
  },
  {
   "cell_type": "code",
   "execution_count": null,
   "metadata": {},
   "outputs": [],
   "source": [
    "A_mcs_generated = np.empty((loader.wavelengths.shape[0], ))\n",
    "\n",
    "for i, wl in enumerate(loader.wavelengths):\n",
    "    cfg[\"prop\"][1, 0] = mu_a_vals[i] / 10\n",
    "    cfg[\"prop\"][1, 1] = mu_s_vals[i] / 10\n",
    "    cfg[\"prop\"][1, 2] = g_combined\n",
    "    cfg[\"prop\"][1, 3] = refractive_index_combined\n",
    "    print(f\"Iteration {i}/{loader.wavelengths.shape[0]}\")\n",
    "    res = pmcx.mcxlab(cfg)\n",
    "    weights = pmcx.utils.detweight(res[\"detp\"])\n",
    "    attenuation = -np.log(np.sum(weights)/cfg[\"nphoton\"])\n",
    "    A_mcs_generated[i] = attenuation"
   ]
  },
  {
   "cell_type": "code",
   "execution_count": null,
   "metadata": {},
   "outputs": [],
   "source": [
    "A_mcs_func_computed1 = mcs_obj1.A_concentrations(\n",
    "    loader.wavelengths, \n",
    "    mu_a_matrix, \n",
    "    loader.params_ref_gray_matter[:6],\n",
    "    *loader.params_ref_gray_matter[-2:]\n",
    ")\n",
    "\n",
    "A_mcs_func_computed2 = mcs_obj2.A_concentrations(\n",
    "    loader.wavelengths, \n",
    "    mu_a_matrix, \n",
    "    loader.params_ref_gray_matter[:6],\n",
    "    *loader.params_ref_gray_matter[-2:]\n",
    ")"
   ]
  },
  {
   "cell_type": "code",
   "execution_count": null,
   "metadata": {},
   "outputs": [],
   "source": [
    "plot_spectra(\n",
    "    ( A_mcs_func_computed1, A_mcs_func_computed2),\n",
    "    loader.wavelengths,\n",
    "    labels=[\"Generated\", \"Computed1\", \"Computed2\"]\n",
    ")"
   ]
  },
  {
   "cell_type": "code",
   "execution_count": null,
   "metadata": {},
   "outputs": [],
   "source": []
  }
 ],
 "metadata": {
  "kernelspec": {
   "display_name": "nonlinear-fit",
   "language": "python",
   "name": "python3"
  },
  "language_info": {
   "codemirror_mode": {
    "name": "ipython",
    "version": 3
   },
   "file_extension": ".py",
   "mimetype": "text/x-python",
   "name": "python",
   "nbconvert_exporter": "python",
   "pygments_lexer": "ipython3",
   "version": "3.11.11"
  }
 },
 "nbformat": 4,
 "nbformat_minor": 2
}
