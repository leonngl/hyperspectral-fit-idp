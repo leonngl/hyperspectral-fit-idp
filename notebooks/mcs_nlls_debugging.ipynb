{
 "cells": [
  {
   "cell_type": "markdown",
   "metadata": {},
   "source": [
    "Notebook to debug the MCS + NLLS approach."
   ]
  },
  {
   "cell_type": "code",
   "execution_count": null,
   "metadata": {},
   "outputs": [],
   "source": [
    "%load_ext autoreload\n",
    "%autoreload 2\n",
    "#%matplotlib qt"
   ]
  },
  {
   "cell_type": "code",
   "execution_count": null,
   "metadata": {},
   "outputs": [],
   "source": [
    "import os\n",
    "import sys\n",
    "from pathlib import Path"
   ]
  },
  {
   "cell_type": "code",
   "execution_count": null,
   "metadata": {},
   "outputs": [],
   "source": [
    "src_dir = str(Path(os.getcwd()).parent / \"src\")\n",
    "sys.path.insert(1, src_dir)\n",
    "#os.environ[\"PYTHONPATH\"] = src_dir"
   ]
  },
  {
   "cell_type": "code",
   "execution_count": null,
   "metadata": {},
   "outputs": [],
   "source": [
    "import data_loader\n",
    "import calculate_concentr_diffs\n",
    "from concentr_diffs_pathlength import *\n",
    "from plotting import *\n",
    "from mbll_functions import *\n",
    "from utils import *\n",
    "from mcs_function import *\n",
    "from pathlib import Path\n",
    "import config\n",
    "import pickle\n",
    "from ray import tune\n",
    "import pmcx\n",
    "import scipy\n",
    "\n",
    "import matplotlib.pyplot as plt"
   ]
  },
  {
   "cell_type": "code",
   "execution_count": null,
   "metadata": {},
   "outputs": [],
   "source": [
    "config.data_dir"
   ]
  },
  {
   "cell_type": "code",
   "execution_count": null,
   "metadata": {},
   "outputs": [],
   "source": [
    "config.spectra_dir"
   ]
  },
  {
   "cell_type": "code",
   "execution_count": null,
   "metadata": {},
   "outputs": [],
   "source": [
    "config.gpuid"
   ]
  },
  {
   "cell_type": "code",
   "execution_count": null,
   "metadata": {},
   "outputs": [],
   "source": [
    "loader = data_loader.DataLoaderHELICOID(\n",
    "    config.dataset_dir,\n",
    "    wavelength_left_cut=520,\n",
    "    wavelength_right_cut=900,\n",
    "    #num_wavelengths=20\n",
    ")\n",
    "\n",
    "delta_A_gt_img = loader.get_attenuation_change(\"020-01\")\n",
    "A_gt_img = loader.get_attenuation(\"020-01\")\n",
    "\n",
    "mu_a_matrix_old = loader.absorption_coefs_old(\n",
    "    use_diff_oxycco=False,\n",
    "    use_water_and_fat=True\n",
    ")\n",
    "\n",
    "mu_a_matrix = loader.absorption_coefs(\n",
    "    use_diff_oxycco=False,\n",
    "    use_water_and_fat=True\n",
    ")\n",
    "\n",
    "mu_a_matrix_static = data_loader.DataLoader.absorption_coefs(\n",
    "    loader.wavelengths,\n",
    "    use_diff_oxycco=False,\n",
    "    use_water_and_fat=True\n",
    ")\n",
    "\n",
    "print(np.allclose(mu_a_matrix, mu_a_matrix_static))\n",
    "print(np.max(np.abs(mu_a_matrix - mu_a_matrix_static)))"
   ]
  },
  {
   "cell_type": "code",
   "execution_count": null,
   "metadata": {},
   "outputs": [],
   "source": [
    "plot_spectra(mu_a_matrix_old[:, :4].T, loader.wavelengths, [\"HbO2\", \"Hbb\", \"oxCCO\", \"redCCO\", \"Water\", \"Fat\"])"
   ]
  },
  {
   "cell_type": "code",
   "execution_count": null,
   "metadata": {},
   "outputs": [],
   "source": [
    "plot_spectra(mu_a_matrix[-500:-300, :].T, loader.wavelengths[-500:-300], [\"HbO2\", \"Hbb\", \"oxCCO\", \"redCCO\", \"Water\", \"Fat\"])"
   ]
  },
  {
   "cell_type": "code",
   "execution_count": null,
   "metadata": {},
   "outputs": [],
   "source": [
    "plot_spectra(mu_a_matrix[-400:-500, :].T, loader.wavelengths[-400:-500], [\"HbO2\", \"Hbb\", \"oxCCO\", \"redCCO\", \"Water\", \"Fat\"])"
   ]
  },
  {
   "cell_type": "code",
   "execution_count": null,
   "metadata": {},
   "outputs": [],
   "source": [
    "plot_spectra(mu_a_matrix[-300:, -2:].T, loader.wavelengths[-300:], [\"Water\", \"Fat\"])"
   ]
  },
  {
   "cell_type": "code",
   "execution_count": null,
   "metadata": {},
   "outputs": [],
   "source": [
    "plot_spectra(mu_a_matrix_old[-300:, -2:].T, loader.wavelengths[-300:], [\"Water\", \"Fat\"])"
   ]
  },
  {
   "cell_type": "code",
   "execution_count": null,
   "metadata": {},
   "outputs": [],
   "source": [
    "fat_data = np.loadtxt(\"fat.txt\")\n",
    "print(fat_data.shape)"
   ]
  },
  {
   "cell_type": "code",
   "execution_count": null,
   "metadata": {},
   "outputs": [],
   "source": [
    "fat_data"
   ]
  },
  {
   "cell_type": "code",
   "execution_count": null,
   "metadata": {},
   "outputs": [],
   "source": [
    "plot_spectrum(fat_data[200:400, 1], fat_data[200:400, 0])"
   ]
  },
  {
   "cell_type": "code",
   "execution_count": null,
   "metadata": {},
   "outputs": [],
   "source": [
    "water_data = np.loadtxt(\"water.txt\")\n",
    "print(water_data.shape)"
   ]
  },
  {
   "cell_type": "code",
   "execution_count": null,
   "metadata": {},
   "outputs": [],
   "source": [
    "plot_spectrum(water_data[160:220, 1], water_data[160:220, 0])"
   ]
  },
  {
   "cell_type": "code",
   "execution_count": null,
   "metadata": {},
   "outputs": [],
   "source": [
    "plot_spectra(mu_a_matrix[:, :4].T, loader.wavelengths, [\"HbO2\", \"Hbb\", \"oxCCO\", \"redCCO\", \"Water\", \"Fat\"])"
   ]
  },
  {
   "cell_type": "code",
   "execution_count": null,
   "metadata": {},
   "outputs": [],
   "source": [
    "plot_spectra((*(mu_a_matrix_old[:, -2:].T), *(mu_a_matrix[:, -2:].T + 0.0005)), loader.wavelengths, [\"Water - Old\", \"Fat - Old\", \"Water - New\", \"Fat - New\"])"
   ]
  },
  {
   "cell_type": "code",
   "execution_count": null,
   "metadata": {},
   "outputs": [],
   "source": [
    "mu_a_matrix_old[:, -2] / mu_a_matrix[:, -2]"
   ]
  },
  {
   "cell_type": "code",
   "execution_count": null,
   "metadata": {},
   "outputs": [],
   "source": [
    "loader.wavelengths"
   ]
  },
  {
   "cell_type": "code",
   "execution_count": null,
   "metadata": {},
   "outputs": [],
   "source": [
    "mcs_obj1 = SimulationAttenuation(config.mcs_func_path.parent / \"function_data1.npz\")\n",
    "mcs_obj2 = SimulationAttenuation(config.mcs_func_path.parent / \"function_data2.npz\")"
   ]
  },
  {
   "cell_type": "markdown",
   "metadata": {},
   "source": [
    "Create spectrum with MCS and compare to MCS-func"
   ]
  },
  {
   "cell_type": "code",
   "execution_count": null,
   "metadata": {},
   "outputs": [],
   "source": [
    "#g_combined = 0.8675\n",
    "g_combined = 0.9\n",
    "refractive_index_combined = 1.38\n",
    "vol = np.ones((50, 50, 500))\n",
    "prop = np.array([[0, 0, 1, 1], [0, 0, g_combined, refractive_index_combined]])\n",
    "unitinmm = 1"
   ]
  },
  {
   "cell_type": "code",
   "execution_count": null,
   "metadata": {},
   "outputs": [],
   "source": [
    "cfg = {\n",
    "    \"nphoton\": 5e6, \n",
    "    \"maxdetphoton\": 5e6,\n",
    "    \"unitinmm\": unitinmm,\n",
    "    \"vol\": vol,\n",
    "    \"tstart\":0,\n",
    "    \"tend\":1e-8,\n",
    "    \"tstep\":1e-8,\n",
    "    \"autopilot\": 1,\n",
    "    \"gpuid\": config.gpuid,\n",
    "    \"prop\":prop,\n",
    "    \"bc\": \"ccrcca001000\", # mark z=0 plane as detector\n",
    "    \"srcdir\": [0,0,1],\n",
    "    \"srctype\": \"planar\",\n",
    "    \"srcpos\": [0, 0, 0],\n",
    "    \"srcparam1\": [vol.shape[0], 0, 0, 0], # 3D position of vertex, fourth coordinate is irrelevant\n",
    "    \"srcparam2\": [0, vol.shape[1], 0, 0],\n",
    "    \"issrcfrom0\": 1,\n",
    "    \"savedetflag\": \"dps\", # detector id, path length, scatter count\n",
    "    \"flog\": config.mcs_func_path / \"log.txt\",\n",
    "}"
   ]
  },
  {
   "cell_type": "code",
   "execution_count": null,
   "metadata": {},
   "outputs": [],
   "source": [
    "mu_a_vals = loader.mu_a_func_gray_matter(loader.wavelengths)\n",
    "mu_s_vals = loader.mu_s_red_func_gray_matter(loader.wavelengths) / (1-g_combined)"
   ]
  },
  {
   "cell_type": "code",
   "execution_count": null,
   "metadata": {},
   "outputs": [],
   "source": [
    "with open(config.result_dir / \"A_mcs_generated\", \"rb\") as f:\n",
    "    A_mcs_generated = pickle.load(f)"
   ]
  },
  {
   "cell_type": "code",
   "execution_count": null,
   "metadata": {},
   "outputs": [],
   "source": [
    "skip_simulation = False"
   ]
  },
  {
   "cell_type": "code",
   "execution_count": null,
   "metadata": {
    "scrolled": true
   },
   "outputs": [],
   "source": [
    "if not skip_simulation:\n",
    "    A_mcs_generated = np.empty((loader.wavelengths.shape[0],))\n",
    "\n",
    "    for i, wl in enumerate(loader.wavelengths):\n",
    "        cfg[\"prop\"][1, 0] = mu_a_vals[i] / 10\n",
    "        cfg[\"prop\"][1, 1] = mu_s_vals[i] / 10\n",
    "        cfg[\"prop\"][1, 2] = g_combined\n",
    "        cfg[\"prop\"][1, 3] = refractive_index_combined\n",
    "        print(f\"Iteration {i}/{loader.wavelengths.shape[0]}\")\n",
    "        res = pmcx.mcxlab(cfg)\n",
    "        weights = pmcx.utils.detweight(res[\"detp\"])\n",
    "        attenuation = -np.log(np.sum(weights)/cfg[\"nphoton\"])\n",
    "        A_mcs_generated[i] = attenuation"
   ]
  },
  {
   "cell_type": "code",
   "execution_count": null,
   "metadata": {},
   "outputs": [],
   "source": [
    "print(config.result_dir)"
   ]
  },
  {
   "cell_type": "code",
   "execution_count": null,
   "metadata": {},
   "outputs": [],
   "source": [
    "with open(config.result_dir / \"A_mcs_generated\", \"wb\") as f:\n",
    "    pickle.dump(A_mcs_generated, f)"
   ]
  },
  {
   "cell_type": "code",
   "execution_count": null,
   "metadata": {},
   "outputs": [],
   "source": [
    "A_mcs_func_computed1 = mcs_obj1.A_concentrations(\n",
    "    loader.wavelengths, \n",
    "    mu_a_matrix, \n",
    "    loader.params_ref_gray_matter[:6],\n",
    "    *loader.params_ref_gray_matter[-2:]\n",
    ")\n",
    "\n",
    "A_mcs_func_computed2 = mcs_obj2.A_concentrations(\n",
    "    loader.wavelengths, \n",
    "    mu_a_matrix, \n",
    "    loader.params_ref_gray_matter[:6],\n",
    "    *loader.params_ref_gray_matter[-2:]\n",
    ")"
   ]
  },
  {
   "cell_type": "code",
   "execution_count": null,
   "metadata": {},
   "outputs": [],
   "source": [
    "plot_spectra(\n",
    "    (A_mcs_generated, A_mcs_func_computed1 + 0.03, A_mcs_func_computed2 + 0.02),\n",
    "    loader.wavelengths,\n",
    "    labels=[\"Generated\", \"Computed1\", \"Computed2\"]\n",
    ")"
   ]
  },
  {
   "cell_type": "code",
   "execution_count": null,
   "metadata": {},
   "outputs": [],
   "source": [
    "A_mcs_generated / A_mcs_func_computed1[:, 0]"
   ]
  },
  {
   "cell_type": "markdown",
   "metadata": {},
   "source": [
    "Test fitting with single-thread and without jacobian. See if fitting procedure converges to reference gray matter concentrations, when initialized with slightly perturbed reference concentrations."
   ]
  },
  {
   "cell_type": "code",
   "execution_count": null,
   "metadata": {},
   "outputs": [],
   "source": [
    "init_vals = loader.params_ref_gray_matter + np.array([0.05, 0.025, 0.001, 0.0005, 0.05, 0.15, 2, 0.5])\n",
    "print(init_vals)"
   ]
  },
  {
   "cell_type": "code",
   "execution_count": null,
   "metadata": {},
   "outputs": [],
   "source": [
    "concentrations_to_blood_fraction(init_vals)"
   ]
  },
  {
   "cell_type": "code",
   "execution_count": null,
   "metadata": {},
   "outputs": [],
   "source": [
    "loader.params_ref_gray_matter_fraction"
   ]
  },
  {
   "cell_type": "code",
   "execution_count": null,
   "metadata": {},
   "outputs": [],
   "source": [
    "%%time\n",
    "\n",
    "params_mcs_flat, errors = concentr_fit_nonlinear(\n",
    "    A_mcs_generated[:, None],\n",
    "    loader.wavelengths,\n",
    "    mu_a_matrix,\n",
    "    mcs_obj1.A_blood_fraction,\n",
    "    ref_vals=concentrations_to_blood_fraction(init_vals),\n",
    "    variables_bool_arr=np.array([True, True, True, True, True, True, True, True]),\n",
    "    left_bounds=np.array([0, 0, 0, 0, 0, 0, 3, 0.1]),\n",
    "    right_bounds=np.array([1, 1, 0.01, 0.01, 1, 1, 100, 10]),\n",
    "    is_delta_A=False,\n",
    "    progress_bar=False,\n",
    "    verbosity=2\n",
    ")"
   ]
  },
  {
   "cell_type": "code",
   "execution_count": null,
   "metadata": {},
   "outputs": [],
   "source": [
    "print(params_mcs_flat)"
   ]
  },
  {
   "cell_type": "code",
   "execution_count": null,
   "metadata": {},
   "outputs": [],
   "source": [
    "A_init_reconstr = mcs_obj1.A_concentrations(\n",
    "    loader.wavelengths,\n",
    "    mu_a_matrix,\n",
    "    init_vals[:6],\n",
    "    *init_vals[-2:]\n",
    ")\n",
    "\n",
    "A_reconstr = mcs_obj1.A_blood_fraction(\n",
    "    loader.wavelengths,\n",
    "    mu_a_matrix,\n",
    "    params_mcs_flat[:6, 0],\n",
    "    *params_mcs_flat[-2:, 0]\n",
    ")\n",
    "\n",
    "with open(config.m_params_path, \"rb\") as f:\n",
    "    m_params, A_vals, N_vals, dref_vals = pickle.load(f)\n",
    "\n",
    "A_jacques_reconstr_combinedm = A_jacques_blood_fraction(\n",
    "    loader.wavelengths,\n",
    "    mu_a_matrix,\n",
    "    params_mcs_flat[:6, 0],\n",
    "    *params_mcs_flat[-2:, 0],\n",
    "    *m_params[1.38]\n",
    ")\n",
    "\n",
    "A_jacques_reconstr_gmm = A_jacques_blood_fraction(\n",
    "    loader.wavelengths,\n",
    "    mu_a_matrix,\n",
    "    params_mcs_flat[:6, 0],\n",
    "    *params_mcs_flat[-2:, 0],\n",
    "    *m_params[1.36]\n",
    ")"
   ]
  },
  {
   "cell_type": "code",
   "execution_count": null,
   "metadata": {},
   "outputs": [],
   "source": [
    "plot_spectra((A_mcs_generated, A_init_reconstr, A_reconstr + 0.03, A_jacques_reconstr_combinedm, A_jacques_reconstr_gmm), loader.wavelengths, [\"Generated\", \"Init\", \"Reconstructed\", \"Jacques - combined m\", \"Jacques - specific m\"])"
   ]
  },
  {
   "cell_type": "markdown",
   "metadata": {},
   "source": [
    "Result: MCS-Func adjusts values so that reconstructed spectrum is essentially identical to input spectrum. Jacques only produces similar spectrum, if m-parameters for correct tissue type are used."
   ]
  },
  {
   "cell_type": "markdown",
   "metadata": {},
   "source": [
    "Compute the jacobian using numeric differentiation, and compare to analytic Jacobian."
   ]
  },
  {
   "cell_type": "code",
   "execution_count": null,
   "metadata": {},
   "outputs": [],
   "source": [
    "eval_vals = loader.params_ref_blood_vessel_fraction\n",
    "print(eval_vals)"
   ]
  },
  {
   "cell_type": "code",
   "execution_count": null,
   "metadata": {},
   "outputs": [],
   "source": [
    "jac = mcs_obj1.jacobian_blood_fraction(loader.wavelengths, mu_a_matrix, eval_vals[:6], *eval_vals[-2:])"
   ]
  },
  {
   "cell_type": "code",
   "execution_count": null,
   "metadata": {},
   "outputs": [],
   "source": [
    "dx = 1e-7\n",
    "x = np.tile(eval_vals[:, None], (1, 8))\n",
    "x_dx = x + dx * np.eye(8)\n",
    "jac_numeric = mcs_obj1.A_blood_fraction(loader.wavelengths, mu_a_matrix, x_dx[:-2,:], *x_dx[-2:, :]) - mcs_obj1.A_blood_fraction(loader.wavelengths, mu_a_matrix, x[:-2, :], *x[-2:, :])\n",
    "jac_numeric /= dx"
   ]
  },
  {
   "cell_type": "code",
   "execution_count": null,
   "metadata": {},
   "outputs": [],
   "source": [
    "print(np.isclose(jac[:, 0, :], jac_numeric))"
   ]
  },
  {
   "cell_type": "code",
   "execution_count": null,
   "metadata": {},
   "outputs": [],
   "source": [
    "np.max(np.abs(jac[:, 0, :] - jac_numeric))"
   ]
  },
  {
   "cell_type": "markdown",
   "metadata": {},
   "source": [
    "Test if using the jacobian works and produces the same results."
   ]
  },
  {
   "cell_type": "code",
   "execution_count": null,
   "metadata": {},
   "outputs": [],
   "source": [
    "%%time\n",
    "\n",
    "params_mcs_flat_jacobian, errors = concentr_fit_nonlinear(\n",
    "    A_mcs_generated[:, None],\n",
    "    loader.wavelengths,\n",
    "    mu_a_matrix,\n",
    "    mcs_obj1.A_blood_fraction,\n",
    "    jacobian=mcs_obj1.jacobian_blood_fraction,\n",
    "    ref_vals=concentrations_to_blood_fraction(init_vals),\n",
    "    variables_bool_arr=np.array([True, True, True, True, True, True, True, True]),\n",
    "    left_bounds=np.array([0, 0, 0, 0, 0, 0, 3, 0.1]),\n",
    "    right_bounds=np.array([1, 1, 0.01, 0.01, 1, 1, 100, 10]),\n",
    "    is_delta_A=False,\n",
    "    progress_bar=False,\n",
    "    verbosity=2\n",
    ")"
   ]
  },
  {
   "cell_type": "code",
   "execution_count": null,
   "metadata": {},
   "outputs": [],
   "source": [
    "A_reconstr_jacobian = mcs_obj1.A_blood_fraction(\n",
    "    loader.wavelengths,\n",
    "    mu_a_matrix,\n",
    "    params_mcs_flat_jacobian[:6, 0],\n",
    "    *params_mcs_flat_jacobian[-2:, 0]\n",
    ")"
   ]
  },
  {
   "cell_type": "code",
   "execution_count": null,
   "metadata": {},
   "outputs": [],
   "source": [
    "plot_spectra((A_mcs_generated, A_init_reconstr, A_reconstr + 0.02, A_reconstr_jacobian + 0.03), loader.wavelengths, [\"Generated\", \"Init\", \"Reconstructed\", \"Reconstructed with jacobian\"])"
   ]
  },
  {
   "cell_type": "markdown",
   "metadata": {},
   "source": [
    "Using the jacobian works as well, and is about 6 times faster."
   ]
  },
  {
   "cell_type": "markdown",
   "metadata": {},
   "source": [
    "Testing for real spectra."
   ]
  },
  {
   "cell_type": "code",
   "execution_count": null,
   "metadata": {},
   "outputs": [],
   "source": [
    "test_mask = np.zeros_like(loader.label_map, dtype=bool)\n",
    "test_mask[np.unravel_index(np.random.choice(np.flatnonzero(loader.label_map == 1), size=5, replace=True), loader.label_map.shape)] = True\n",
    "print(test_mask.shape)"
   ]
  },
  {
   "cell_type": "code",
   "execution_count": null,
   "metadata": {},
   "outputs": [],
   "source": [
    "%time\n",
    "params_mcs_flat_real, errors = concentr_fit_nonlinear(\n",
    "    A_gt_img[:, test_mask],\n",
    "    loader.wavelengths,\n",
    "    mu_a_matrix,\n",
    "    mcs_obj1.A_blood_fraction,\n",
    "    jacobian=mcs_obj1.jacobian_blood_fraction,\n",
    "    ref_vals=loader.params_ref_gray_matter_fraction,\n",
    "    variables_bool_arr=np.array([True, True, True, True, True, True, True, True]),\n",
    "    left_bounds=np.array([0, 0, 0, 0, 0, 0, 3, 0.1]),\n",
    "    right_bounds=np.array([1, 1, 0.01, 0.01, 1, 1, 100, 10]),\n",
    "    is_delta_A=False,\n",
    "    progress_bar=False,\n",
    ")"
   ]
  },
  {
   "cell_type": "code",
   "execution_count": null,
   "metadata": {},
   "outputs": [],
   "source": [
    "loader.params_ref_gray_matter"
   ]
  },
  {
   "cell_type": "code",
   "execution_count": null,
   "metadata": {},
   "outputs": [],
   "source": [
    "A_reconstr_real = mcs_obj1.A_blood_fraction(loader.wavelengths, mu_a_matrix, params_mcs_flat_real[:6,:], *params_mcs_flat_real[-2:,:])\n",
    "for i in range(np.count_nonzero(test_mask)):\n",
    "    plot_spectra((A_gt_img[:, test_mask][:, i], A_reconstr_real[:, i]), loader.wavelengths, labels=[\"GT\", \"Reconstructed\"])\n",
    "    print(params_mcs_flat_real[:, i])"
   ]
  },
  {
   "cell_type": "code",
   "execution_count": null,
   "metadata": {},
   "outputs": [],
   "source": []
  }
 ],
 "metadata": {
  "kernelspec": {
   "display_name": "nonlinear-fit",
   "language": "python",
   "name": "python3"
  },
  "language_info": {
   "codemirror_mode": {
    "name": "ipython",
    "version": 3
   },
   "file_extension": ".py",
   "mimetype": "text/x-python",
   "name": "python",
   "nbconvert_exporter": "python",
   "pygments_lexer": "ipython3",
   "version": "3.11.11"
  }
 },
 "nbformat": 4,
 "nbformat_minor": 4
}
